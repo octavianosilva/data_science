{
  "nbformat": 4,
  "nbformat_minor": 0,
  "metadata": {
    "colab": {
      "name": "Detecção de Fraude em Cartões de Crédito.ipynb",
      "provenance": [],
      "collapsed_sections": [],
      "authorship_tag": "ABX9TyM7mvI593FLUWD1IlZUG7Wh",
      "include_colab_link": true
    },
    "kernelspec": {
      "name": "python3",
      "display_name": "Python 3"
    },
    "language_info": {
      "name": "python"
    }
  },
  "cells": [
    {
      "cell_type": "markdown",
      "metadata": {
        "id": "view-in-github",
        "colab_type": "text"
      },
      "source": [
        "<a href=\"https://colab.research.google.com/github/octavianosilva/data_science/blob/main/Detec%C3%A7%C3%A3o_de_Fraude_em_Cart%C3%B5es_de_Cr%C3%A9dito.ipynb\" target=\"_parent\"><img src=\"https://colab.research.google.com/assets/colab-badge.svg\" alt=\"Open In Colab\"/></a>"
      ]
    },
    {
      "cell_type": "markdown",
      "metadata": {
        "id": "EQi9tS_JJTx7"
      },
      "source": [
        "# Detecção de Fraudes em Cartões de Crédito\n",
        "\n",
        "A palavra com maior peso na história da humanidade é o **DINHEIRO**, por quê?\n",
        "\n",
        "Desde que os primeiros grupos de pessoas estabeleceram relações sociais, o **dinheiro** estava presente ali, mesmo que não fosse em forma de uma moeda, mas algo que representava um certo **poder de barganha**. \n",
        "\n",
        "<center><img alt=\"Escambo\"  src='https://voyager1.net/wp-content/uploads/2017/07/escambo-medievo-750x400.jpg'></center>\n",
        "\n",
        "Daquele momento em diante, aquilo que era considerado uma moeda foi se transformando até se tornar a que conhecemos hoje.\n",
        "\n",
        "Entretanto como essa **transformação é constante**, estamos vivenciando um novo fenômeno, a **digitalização** dessas moedas, que consiste na representação do seu patrimônio em números virtuais, ou seja, uma forma de **moeda abstrata**, mas eficiente,  dado às possibilidades e benefícios que ela traz na vida das pessoas em uma **sociedade cada vez mais tecnológica**.\n",
        "\n",
        "<center><img alt=\"Banco Virtual\" width=74% src='https://comoinvestir.thecap.com.br/wp-content/uploads/2019/08/melhor-banco-digital.jpg'></center>\n",
        "\n",
        "Agora que falamos um pouco sobre o peso desta palavra, vamos a um fato que a acompanhou desde o início e se tornou uma das principais preocupações das instituições financeiras, que são as **FRAUDES**, onde sempre há alguém que tenta obter o \"dinheiro\" de forma ilícita.\n",
        "\n",
        "Mesmo no meio desta transformação da moeda atual, as fraudes já estão presentes no lado virtual, causando grandes **prejuízos** tanto para os consumidores quanto para as instituições.\n",
        "\n",
        "Dito isso, é possível entender a **importância dos investimentos** feitos na área de **detecção de fraudes**, que está cada vez mais moderna com as técnicas de **Inteligência Artificial**, e para mostrar que é possível se prevenir destes crimes, vamos desenvolver um modelo de Machine Learning para um conjunto de dados que possui informações de transações bancárias normais e fraudulentas.\n",
        "\n"
      ]
    },
    {
      "cell_type": "markdown",
      "metadata": {
        "id": "wMZE1wRHQYQd"
      },
      "source": [
        "## Importando os Dados e os Pacotes\n",
        "\n",
        "Para este projeto, utilizaremos um dataset público encontrado no [Kaggle](https://www.kaggle.com/mlg-ulb/creditcardfraud), que possui informações disponibilizadas por algumas empresas europeias de cartão de crédito sobre suas operações financeiras em um período de dois dias.\n",
        "\n",
        "Por medidas de segurança e privacidade, os dados passaram por uma **descaracterização**, ou seja, as variáveis terão nomes mascarados,  como por exemplo as colunas, que serão [V1,V2,V3,...]. Outras mudanças foram feitas nos dados, como a transformação conhecida como **Análise de Componentes Principais** (PCA - sigla em inglês), onde várias features também foram descaracterizadas e convertidas em valores numéricos."
      ]
    },
    {
      "cell_type": "code",
      "metadata": {
        "id": "OAva7FOdQgN7",
        "colab": {
          "base_uri": "https://localhost:8080/",
          "height": 35
        },
        "outputId": "703272d2-3cb7-4d77-e659-802a1ea95e5a"
      },
      "source": [
        "# Ignorando todos os alertas futuros\n",
        "from warnings import simplefilter\n",
        "simplefilter(action='ignore', category=FutureWarning)\n",
        "\n",
        "# Pacote que contém um grupo de bibliotecas - execute \"lazy_imports()\" para saber quais.\n",
        "!pip install pyforest -q\n",
        "import pyforest\n",
        "\n",
        "# Importação para Balanceamento\n",
        "from imblearn.under_sampling import RandomUnderSampler\n",
        "\n",
        "# Importações para o modelo de Machine Learning\n",
        "!pip install scikit-plot -q\n",
        "import scikitplot as skplt\n",
        "\n",
        "from sklearn.model_selection import cross_val_score # validação cruzada pontuação\n",
        "from sklearn.model_selection import StratifiedKFold # garante a proporção nos folds da validação cruzada\n",
        "from sklearn.model_selection import cross_val_predict # validação cruzada predição\n",
        "from sklearn.metrics import confusion_matrix # matriz de confusão\n",
        "from sklearn.metrics import classification_report # relatório de classificação\n",
        "from sklearn.metrics import precision_recall_curve # relação precisão x recall\n",
        "from sklearn.metrics import precision_score, recall_score # scores para os thresholds\n",
        "from sklearn.metrics import roc_auc_score, roc_curve, accuracy_score # AUC, Acurácia, etc...\n",
        "\n",
        "# Modelos de Machine Learning\n",
        "from sklearn import tree # Decision Trees - Árvore de Decisão\n",
        "from sklearn.svm import SVC # Support Vector Machine - Maquina de Vetor de Suporte\n",
        "# outros modelos já estão inclusos no pacote pyforest\n",
        "\n",
        "# importar os dados para um dataframe\n",
        "file_path = \"https://www.dropbox.com/s/b44o3t3ehmnx2b7/creditcard.csv?dl=1\"\n",
        "\n",
        "df_original = pd.read_csv(file_path)"
      ],
      "execution_count": null,
      "outputs": [
        {
          "output_type": "stream",
          "text": [
            "  Building wheel for pyforest (setup.py) ... \u001b[?25l\u001b[?25hdone\n"
          ],
          "name": "stdout"
        },
        {
          "output_type": "display_data",
          "data": {
            "application/javascript": [
              "\n",
              "        if (window._pyforest_update_imports_cell) { window._pyforest_update_imports_cell('import pandas as pd'); }\n",
              "    "
            ],
            "text/plain": [
              "<IPython.core.display.Javascript object>"
            ]
          },
          "metadata": {
            "tags": []
          }
        }
      ]
    },
    {
      "cell_type": "markdown",
      "metadata": {
        "id": "8UXvQQaQQgWc"
      },
      "source": [
        "## Análise Exploratória\n",
        "\n",
        "Inicialmente vamos explorar o dataset original para termos uma visão geral do que estes dados representam e o que podemos retirar superficialmente.\n",
        "\n",
        "### Explorando os Dados\n",
        "\n",
        "Vamos ver a quantidade de entradas e de variáveis presentes no dataset, assim como seus tipos:\n"
      ]
    },
    {
      "cell_type": "code",
      "metadata": {
        "colab": {
          "base_uri": "https://localhost:8080/"
        },
        "id": "0e_O5XgLRf4n",
        "outputId": "f0ef89db-f201-48a7-df16-7406441b0156"
      },
      "source": [
        "# Obtendo o número de entradas e de variáveis do dataset\n",
        "df_original.shape"
      ],
      "execution_count": null,
      "outputs": [
        {
          "output_type": "execute_result",
          "data": {
            "text/plain": [
              "(284807, 31)"
            ]
          },
          "metadata": {
            "tags": []
          },
          "execution_count": 2
        }
      ]
    },
    {
      "cell_type": "code",
      "metadata": {
        "colab": {
          "base_uri": "https://localhost:8080/"
        },
        "id": "-0lLOby2c4Ln",
        "outputId": "e511e266-bfe1-442d-9f2b-9cfdced7306c"
      },
      "source": [
        "# Obtendo os tipos das variáveis\n",
        "df_original.dtypes"
      ],
      "execution_count": null,
      "outputs": [
        {
          "output_type": "execute_result",
          "data": {
            "text/plain": [
              "Time      float64\n",
              "V1        float64\n",
              "V2        float64\n",
              "V3        float64\n",
              "V4        float64\n",
              "V5        float64\n",
              "V6        float64\n",
              "V7        float64\n",
              "V8        float64\n",
              "V9        float64\n",
              "V10       float64\n",
              "V11       float64\n",
              "V12       float64\n",
              "V13       float64\n",
              "V14       float64\n",
              "V15       float64\n",
              "V16       float64\n",
              "V17       float64\n",
              "V18       float64\n",
              "V19       float64\n",
              "V20       float64\n",
              "V21       float64\n",
              "V22       float64\n",
              "V23       float64\n",
              "V24       float64\n",
              "V25       float64\n",
              "V26       float64\n",
              "V27       float64\n",
              "V28       float64\n",
              "Amount    float64\n",
              "Class       int64\n",
              "dtype: object"
            ]
          },
          "metadata": {
            "tags": []
          },
          "execution_count": 3
        }
      ]
    },
    {
      "cell_type": "markdown",
      "metadata": {
        "id": "MmAVufcgRgMM"
      },
      "source": [
        "Assim temos um dataset com quase 285 mil entradas e 31 variáveis, sendo estes dados completamente numéricos.\n",
        "\n",
        "Agora vamos checar as 5 primeiras entradas do dataset e em seguida observar o resumo estatístico:"
      ]
    },
    {
      "cell_type": "code",
      "metadata": {
        "id": "EkmmiQttQ4FP",
        "colab": {
          "base_uri": "https://localhost:8080/",
          "height": 218
        },
        "outputId": "4dd90e80-3b0a-4fec-ad03-61fba74e0a25"
      },
      "source": [
        "# Checando as 5 primeiras entradas do dataset\n",
        "df_original.head()"
      ],
      "execution_count": null,
      "outputs": [
        {
          "output_type": "execute_result",
          "data": {
            "text/html": [
              "<div>\n",
              "<style scoped>\n",
              "    .dataframe tbody tr th:only-of-type {\n",
              "        vertical-align: middle;\n",
              "    }\n",
              "\n",
              "    .dataframe tbody tr th {\n",
              "        vertical-align: top;\n",
              "    }\n",
              "\n",
              "    .dataframe thead th {\n",
              "        text-align: right;\n",
              "    }\n",
              "</style>\n",
              "<table border=\"1\" class=\"dataframe\">\n",
              "  <thead>\n",
              "    <tr style=\"text-align: right;\">\n",
              "      <th></th>\n",
              "      <th>Time</th>\n",
              "      <th>V1</th>\n",
              "      <th>V2</th>\n",
              "      <th>V3</th>\n",
              "      <th>V4</th>\n",
              "      <th>V5</th>\n",
              "      <th>V6</th>\n",
              "      <th>V7</th>\n",
              "      <th>V8</th>\n",
              "      <th>V9</th>\n",
              "      <th>V10</th>\n",
              "      <th>V11</th>\n",
              "      <th>V12</th>\n",
              "      <th>V13</th>\n",
              "      <th>V14</th>\n",
              "      <th>V15</th>\n",
              "      <th>V16</th>\n",
              "      <th>V17</th>\n",
              "      <th>V18</th>\n",
              "      <th>V19</th>\n",
              "      <th>V20</th>\n",
              "      <th>V21</th>\n",
              "      <th>V22</th>\n",
              "      <th>V23</th>\n",
              "      <th>V24</th>\n",
              "      <th>V25</th>\n",
              "      <th>V26</th>\n",
              "      <th>V27</th>\n",
              "      <th>V28</th>\n",
              "      <th>Amount</th>\n",
              "      <th>Class</th>\n",
              "    </tr>\n",
              "  </thead>\n",
              "  <tbody>\n",
              "    <tr>\n",
              "      <th>0</th>\n",
              "      <td>0.0</td>\n",
              "      <td>-1.359807</td>\n",
              "      <td>-0.072781</td>\n",
              "      <td>2.536347</td>\n",
              "      <td>1.378155</td>\n",
              "      <td>-0.338321</td>\n",
              "      <td>0.462388</td>\n",
              "      <td>0.239599</td>\n",
              "      <td>0.098698</td>\n",
              "      <td>0.363787</td>\n",
              "      <td>0.090794</td>\n",
              "      <td>-0.551600</td>\n",
              "      <td>-0.617801</td>\n",
              "      <td>-0.991390</td>\n",
              "      <td>-0.311169</td>\n",
              "      <td>1.468177</td>\n",
              "      <td>-0.470401</td>\n",
              "      <td>0.207971</td>\n",
              "      <td>0.025791</td>\n",
              "      <td>0.403993</td>\n",
              "      <td>0.251412</td>\n",
              "      <td>-0.018307</td>\n",
              "      <td>0.277838</td>\n",
              "      <td>-0.110474</td>\n",
              "      <td>0.066928</td>\n",
              "      <td>0.128539</td>\n",
              "      <td>-0.189115</td>\n",
              "      <td>0.133558</td>\n",
              "      <td>-0.021053</td>\n",
              "      <td>149.62</td>\n",
              "      <td>0</td>\n",
              "    </tr>\n",
              "    <tr>\n",
              "      <th>1</th>\n",
              "      <td>0.0</td>\n",
              "      <td>1.191857</td>\n",
              "      <td>0.266151</td>\n",
              "      <td>0.166480</td>\n",
              "      <td>0.448154</td>\n",
              "      <td>0.060018</td>\n",
              "      <td>-0.082361</td>\n",
              "      <td>-0.078803</td>\n",
              "      <td>0.085102</td>\n",
              "      <td>-0.255425</td>\n",
              "      <td>-0.166974</td>\n",
              "      <td>1.612727</td>\n",
              "      <td>1.065235</td>\n",
              "      <td>0.489095</td>\n",
              "      <td>-0.143772</td>\n",
              "      <td>0.635558</td>\n",
              "      <td>0.463917</td>\n",
              "      <td>-0.114805</td>\n",
              "      <td>-0.183361</td>\n",
              "      <td>-0.145783</td>\n",
              "      <td>-0.069083</td>\n",
              "      <td>-0.225775</td>\n",
              "      <td>-0.638672</td>\n",
              "      <td>0.101288</td>\n",
              "      <td>-0.339846</td>\n",
              "      <td>0.167170</td>\n",
              "      <td>0.125895</td>\n",
              "      <td>-0.008983</td>\n",
              "      <td>0.014724</td>\n",
              "      <td>2.69</td>\n",
              "      <td>0</td>\n",
              "    </tr>\n",
              "    <tr>\n",
              "      <th>2</th>\n",
              "      <td>1.0</td>\n",
              "      <td>-1.358354</td>\n",
              "      <td>-1.340163</td>\n",
              "      <td>1.773209</td>\n",
              "      <td>0.379780</td>\n",
              "      <td>-0.503198</td>\n",
              "      <td>1.800499</td>\n",
              "      <td>0.791461</td>\n",
              "      <td>0.247676</td>\n",
              "      <td>-1.514654</td>\n",
              "      <td>0.207643</td>\n",
              "      <td>0.624501</td>\n",
              "      <td>0.066084</td>\n",
              "      <td>0.717293</td>\n",
              "      <td>-0.165946</td>\n",
              "      <td>2.345865</td>\n",
              "      <td>-2.890083</td>\n",
              "      <td>1.109969</td>\n",
              "      <td>-0.121359</td>\n",
              "      <td>-2.261857</td>\n",
              "      <td>0.524980</td>\n",
              "      <td>0.247998</td>\n",
              "      <td>0.771679</td>\n",
              "      <td>0.909412</td>\n",
              "      <td>-0.689281</td>\n",
              "      <td>-0.327642</td>\n",
              "      <td>-0.139097</td>\n",
              "      <td>-0.055353</td>\n",
              "      <td>-0.059752</td>\n",
              "      <td>378.66</td>\n",
              "      <td>0</td>\n",
              "    </tr>\n",
              "    <tr>\n",
              "      <th>3</th>\n",
              "      <td>1.0</td>\n",
              "      <td>-0.966272</td>\n",
              "      <td>-0.185226</td>\n",
              "      <td>1.792993</td>\n",
              "      <td>-0.863291</td>\n",
              "      <td>-0.010309</td>\n",
              "      <td>1.247203</td>\n",
              "      <td>0.237609</td>\n",
              "      <td>0.377436</td>\n",
              "      <td>-1.387024</td>\n",
              "      <td>-0.054952</td>\n",
              "      <td>-0.226487</td>\n",
              "      <td>0.178228</td>\n",
              "      <td>0.507757</td>\n",
              "      <td>-0.287924</td>\n",
              "      <td>-0.631418</td>\n",
              "      <td>-1.059647</td>\n",
              "      <td>-0.684093</td>\n",
              "      <td>1.965775</td>\n",
              "      <td>-1.232622</td>\n",
              "      <td>-0.208038</td>\n",
              "      <td>-0.108300</td>\n",
              "      <td>0.005274</td>\n",
              "      <td>-0.190321</td>\n",
              "      <td>-1.175575</td>\n",
              "      <td>0.647376</td>\n",
              "      <td>-0.221929</td>\n",
              "      <td>0.062723</td>\n",
              "      <td>0.061458</td>\n",
              "      <td>123.50</td>\n",
              "      <td>0</td>\n",
              "    </tr>\n",
              "    <tr>\n",
              "      <th>4</th>\n",
              "      <td>2.0</td>\n",
              "      <td>-1.158233</td>\n",
              "      <td>0.877737</td>\n",
              "      <td>1.548718</td>\n",
              "      <td>0.403034</td>\n",
              "      <td>-0.407193</td>\n",
              "      <td>0.095921</td>\n",
              "      <td>0.592941</td>\n",
              "      <td>-0.270533</td>\n",
              "      <td>0.817739</td>\n",
              "      <td>0.753074</td>\n",
              "      <td>-0.822843</td>\n",
              "      <td>0.538196</td>\n",
              "      <td>1.345852</td>\n",
              "      <td>-1.119670</td>\n",
              "      <td>0.175121</td>\n",
              "      <td>-0.451449</td>\n",
              "      <td>-0.237033</td>\n",
              "      <td>-0.038195</td>\n",
              "      <td>0.803487</td>\n",
              "      <td>0.408542</td>\n",
              "      <td>-0.009431</td>\n",
              "      <td>0.798278</td>\n",
              "      <td>-0.137458</td>\n",
              "      <td>0.141267</td>\n",
              "      <td>-0.206010</td>\n",
              "      <td>0.502292</td>\n",
              "      <td>0.219422</td>\n",
              "      <td>0.215153</td>\n",
              "      <td>69.99</td>\n",
              "      <td>0</td>\n",
              "    </tr>\n",
              "  </tbody>\n",
              "</table>\n",
              "</div>"
            ],
            "text/plain": [
              "   Time        V1        V2        V3  ...       V27       V28  Amount  Class\n",
              "0   0.0 -1.359807 -0.072781  2.536347  ...  0.133558 -0.021053  149.62      0\n",
              "1   0.0  1.191857  0.266151  0.166480  ... -0.008983  0.014724    2.69      0\n",
              "2   1.0 -1.358354 -1.340163  1.773209  ... -0.055353 -0.059752  378.66      0\n",
              "3   1.0 -0.966272 -0.185226  1.792993  ...  0.062723  0.061458  123.50      0\n",
              "4   2.0 -1.158233  0.877737  1.548718  ...  0.219422  0.215153   69.99      0\n",
              "\n",
              "[5 rows x 31 columns]"
            ]
          },
          "metadata": {
            "tags": []
          },
          "execution_count": 4
        }
      ]
    },
    {
      "cell_type": "code",
      "metadata": {
        "colab": {
          "base_uri": "https://localhost:8080/",
          "height": 308
        },
        "id": "V-i8xzRLtl3a",
        "outputId": "22e8570e-3d98-4695-f4f7-43b451e2c2f3"
      },
      "source": [
        "# Observando o resumo estatístico do dataset original\n",
        "df_original.describe()"
      ],
      "execution_count": null,
      "outputs": [
        {
          "output_type": "execute_result",
          "data": {
            "text/html": [
              "<div>\n",
              "<style scoped>\n",
              "    .dataframe tbody tr th:only-of-type {\n",
              "        vertical-align: middle;\n",
              "    }\n",
              "\n",
              "    .dataframe tbody tr th {\n",
              "        vertical-align: top;\n",
              "    }\n",
              "\n",
              "    .dataframe thead th {\n",
              "        text-align: right;\n",
              "    }\n",
              "</style>\n",
              "<table border=\"1\" class=\"dataframe\">\n",
              "  <thead>\n",
              "    <tr style=\"text-align: right;\">\n",
              "      <th></th>\n",
              "      <th>Time</th>\n",
              "      <th>V1</th>\n",
              "      <th>V2</th>\n",
              "      <th>V3</th>\n",
              "      <th>V4</th>\n",
              "      <th>V5</th>\n",
              "      <th>V6</th>\n",
              "      <th>V7</th>\n",
              "      <th>V8</th>\n",
              "      <th>V9</th>\n",
              "      <th>V10</th>\n",
              "      <th>V11</th>\n",
              "      <th>V12</th>\n",
              "      <th>V13</th>\n",
              "      <th>V14</th>\n",
              "      <th>V15</th>\n",
              "      <th>V16</th>\n",
              "      <th>V17</th>\n",
              "      <th>V18</th>\n",
              "      <th>V19</th>\n",
              "      <th>V20</th>\n",
              "      <th>V21</th>\n",
              "      <th>V22</th>\n",
              "      <th>V23</th>\n",
              "      <th>V24</th>\n",
              "      <th>V25</th>\n",
              "      <th>V26</th>\n",
              "      <th>V27</th>\n",
              "      <th>V28</th>\n",
              "      <th>Amount</th>\n",
              "      <th>Class</th>\n",
              "    </tr>\n",
              "  </thead>\n",
              "  <tbody>\n",
              "    <tr>\n",
              "      <th>count</th>\n",
              "      <td>284807.000000</td>\n",
              "      <td>2.848070e+05</td>\n",
              "      <td>2.848070e+05</td>\n",
              "      <td>2.848070e+05</td>\n",
              "      <td>2.848070e+05</td>\n",
              "      <td>2.848070e+05</td>\n",
              "      <td>2.848070e+05</td>\n",
              "      <td>2.848070e+05</td>\n",
              "      <td>2.848070e+05</td>\n",
              "      <td>2.848070e+05</td>\n",
              "      <td>2.848070e+05</td>\n",
              "      <td>2.848070e+05</td>\n",
              "      <td>2.848070e+05</td>\n",
              "      <td>2.848070e+05</td>\n",
              "      <td>2.848070e+05</td>\n",
              "      <td>2.848070e+05</td>\n",
              "      <td>2.848070e+05</td>\n",
              "      <td>2.848070e+05</td>\n",
              "      <td>2.848070e+05</td>\n",
              "      <td>2.848070e+05</td>\n",
              "      <td>2.848070e+05</td>\n",
              "      <td>2.848070e+05</td>\n",
              "      <td>2.848070e+05</td>\n",
              "      <td>2.848070e+05</td>\n",
              "      <td>2.848070e+05</td>\n",
              "      <td>2.848070e+05</td>\n",
              "      <td>2.848070e+05</td>\n",
              "      <td>2.848070e+05</td>\n",
              "      <td>2.848070e+05</td>\n",
              "      <td>284807.000000</td>\n",
              "      <td>284807.000000</td>\n",
              "    </tr>\n",
              "    <tr>\n",
              "      <th>mean</th>\n",
              "      <td>94813.859575</td>\n",
              "      <td>3.919560e-15</td>\n",
              "      <td>5.688174e-16</td>\n",
              "      <td>-8.769071e-15</td>\n",
              "      <td>2.782312e-15</td>\n",
              "      <td>-1.552563e-15</td>\n",
              "      <td>2.010663e-15</td>\n",
              "      <td>-1.694249e-15</td>\n",
              "      <td>-1.927028e-16</td>\n",
              "      <td>-3.137024e-15</td>\n",
              "      <td>1.768627e-15</td>\n",
              "      <td>9.170318e-16</td>\n",
              "      <td>-1.810658e-15</td>\n",
              "      <td>1.693438e-15</td>\n",
              "      <td>1.479045e-15</td>\n",
              "      <td>3.482336e-15</td>\n",
              "      <td>1.392007e-15</td>\n",
              "      <td>-7.528491e-16</td>\n",
              "      <td>4.328772e-16</td>\n",
              "      <td>9.049732e-16</td>\n",
              "      <td>5.085503e-16</td>\n",
              "      <td>1.537294e-16</td>\n",
              "      <td>7.959909e-16</td>\n",
              "      <td>5.367590e-16</td>\n",
              "      <td>4.458112e-15</td>\n",
              "      <td>1.453003e-15</td>\n",
              "      <td>1.699104e-15</td>\n",
              "      <td>-3.660161e-16</td>\n",
              "      <td>-1.206049e-16</td>\n",
              "      <td>88.349619</td>\n",
              "      <td>0.001727</td>\n",
              "    </tr>\n",
              "    <tr>\n",
              "      <th>std</th>\n",
              "      <td>47488.145955</td>\n",
              "      <td>1.958696e+00</td>\n",
              "      <td>1.651309e+00</td>\n",
              "      <td>1.516255e+00</td>\n",
              "      <td>1.415869e+00</td>\n",
              "      <td>1.380247e+00</td>\n",
              "      <td>1.332271e+00</td>\n",
              "      <td>1.237094e+00</td>\n",
              "      <td>1.194353e+00</td>\n",
              "      <td>1.098632e+00</td>\n",
              "      <td>1.088850e+00</td>\n",
              "      <td>1.020713e+00</td>\n",
              "      <td>9.992014e-01</td>\n",
              "      <td>9.952742e-01</td>\n",
              "      <td>9.585956e-01</td>\n",
              "      <td>9.153160e-01</td>\n",
              "      <td>8.762529e-01</td>\n",
              "      <td>8.493371e-01</td>\n",
              "      <td>8.381762e-01</td>\n",
              "      <td>8.140405e-01</td>\n",
              "      <td>7.709250e-01</td>\n",
              "      <td>7.345240e-01</td>\n",
              "      <td>7.257016e-01</td>\n",
              "      <td>6.244603e-01</td>\n",
              "      <td>6.056471e-01</td>\n",
              "      <td>5.212781e-01</td>\n",
              "      <td>4.822270e-01</td>\n",
              "      <td>4.036325e-01</td>\n",
              "      <td>3.300833e-01</td>\n",
              "      <td>250.120109</td>\n",
              "      <td>0.041527</td>\n",
              "    </tr>\n",
              "    <tr>\n",
              "      <th>min</th>\n",
              "      <td>0.000000</td>\n",
              "      <td>-5.640751e+01</td>\n",
              "      <td>-7.271573e+01</td>\n",
              "      <td>-4.832559e+01</td>\n",
              "      <td>-5.683171e+00</td>\n",
              "      <td>-1.137433e+02</td>\n",
              "      <td>-2.616051e+01</td>\n",
              "      <td>-4.355724e+01</td>\n",
              "      <td>-7.321672e+01</td>\n",
              "      <td>-1.343407e+01</td>\n",
              "      <td>-2.458826e+01</td>\n",
              "      <td>-4.797473e+00</td>\n",
              "      <td>-1.868371e+01</td>\n",
              "      <td>-5.791881e+00</td>\n",
              "      <td>-1.921433e+01</td>\n",
              "      <td>-4.498945e+00</td>\n",
              "      <td>-1.412985e+01</td>\n",
              "      <td>-2.516280e+01</td>\n",
              "      <td>-9.498746e+00</td>\n",
              "      <td>-7.213527e+00</td>\n",
              "      <td>-5.449772e+01</td>\n",
              "      <td>-3.483038e+01</td>\n",
              "      <td>-1.093314e+01</td>\n",
              "      <td>-4.480774e+01</td>\n",
              "      <td>-2.836627e+00</td>\n",
              "      <td>-1.029540e+01</td>\n",
              "      <td>-2.604551e+00</td>\n",
              "      <td>-2.256568e+01</td>\n",
              "      <td>-1.543008e+01</td>\n",
              "      <td>0.000000</td>\n",
              "      <td>0.000000</td>\n",
              "    </tr>\n",
              "    <tr>\n",
              "      <th>25%</th>\n",
              "      <td>54201.500000</td>\n",
              "      <td>-9.203734e-01</td>\n",
              "      <td>-5.985499e-01</td>\n",
              "      <td>-8.903648e-01</td>\n",
              "      <td>-8.486401e-01</td>\n",
              "      <td>-6.915971e-01</td>\n",
              "      <td>-7.682956e-01</td>\n",
              "      <td>-5.540759e-01</td>\n",
              "      <td>-2.086297e-01</td>\n",
              "      <td>-6.430976e-01</td>\n",
              "      <td>-5.354257e-01</td>\n",
              "      <td>-7.624942e-01</td>\n",
              "      <td>-4.055715e-01</td>\n",
              "      <td>-6.485393e-01</td>\n",
              "      <td>-4.255740e-01</td>\n",
              "      <td>-5.828843e-01</td>\n",
              "      <td>-4.680368e-01</td>\n",
              "      <td>-4.837483e-01</td>\n",
              "      <td>-4.988498e-01</td>\n",
              "      <td>-4.562989e-01</td>\n",
              "      <td>-2.117214e-01</td>\n",
              "      <td>-2.283949e-01</td>\n",
              "      <td>-5.423504e-01</td>\n",
              "      <td>-1.618463e-01</td>\n",
              "      <td>-3.545861e-01</td>\n",
              "      <td>-3.171451e-01</td>\n",
              "      <td>-3.269839e-01</td>\n",
              "      <td>-7.083953e-02</td>\n",
              "      <td>-5.295979e-02</td>\n",
              "      <td>5.600000</td>\n",
              "      <td>0.000000</td>\n",
              "    </tr>\n",
              "    <tr>\n",
              "      <th>50%</th>\n",
              "      <td>84692.000000</td>\n",
              "      <td>1.810880e-02</td>\n",
              "      <td>6.548556e-02</td>\n",
              "      <td>1.798463e-01</td>\n",
              "      <td>-1.984653e-02</td>\n",
              "      <td>-5.433583e-02</td>\n",
              "      <td>-2.741871e-01</td>\n",
              "      <td>4.010308e-02</td>\n",
              "      <td>2.235804e-02</td>\n",
              "      <td>-5.142873e-02</td>\n",
              "      <td>-9.291738e-02</td>\n",
              "      <td>-3.275735e-02</td>\n",
              "      <td>1.400326e-01</td>\n",
              "      <td>-1.356806e-02</td>\n",
              "      <td>5.060132e-02</td>\n",
              "      <td>4.807155e-02</td>\n",
              "      <td>6.641332e-02</td>\n",
              "      <td>-6.567575e-02</td>\n",
              "      <td>-3.636312e-03</td>\n",
              "      <td>3.734823e-03</td>\n",
              "      <td>-6.248109e-02</td>\n",
              "      <td>-2.945017e-02</td>\n",
              "      <td>6.781943e-03</td>\n",
              "      <td>-1.119293e-02</td>\n",
              "      <td>4.097606e-02</td>\n",
              "      <td>1.659350e-02</td>\n",
              "      <td>-5.213911e-02</td>\n",
              "      <td>1.342146e-03</td>\n",
              "      <td>1.124383e-02</td>\n",
              "      <td>22.000000</td>\n",
              "      <td>0.000000</td>\n",
              "    </tr>\n",
              "    <tr>\n",
              "      <th>75%</th>\n",
              "      <td>139320.500000</td>\n",
              "      <td>1.315642e+00</td>\n",
              "      <td>8.037239e-01</td>\n",
              "      <td>1.027196e+00</td>\n",
              "      <td>7.433413e-01</td>\n",
              "      <td>6.119264e-01</td>\n",
              "      <td>3.985649e-01</td>\n",
              "      <td>5.704361e-01</td>\n",
              "      <td>3.273459e-01</td>\n",
              "      <td>5.971390e-01</td>\n",
              "      <td>4.539234e-01</td>\n",
              "      <td>7.395934e-01</td>\n",
              "      <td>6.182380e-01</td>\n",
              "      <td>6.625050e-01</td>\n",
              "      <td>4.931498e-01</td>\n",
              "      <td>6.488208e-01</td>\n",
              "      <td>5.232963e-01</td>\n",
              "      <td>3.996750e-01</td>\n",
              "      <td>5.008067e-01</td>\n",
              "      <td>4.589494e-01</td>\n",
              "      <td>1.330408e-01</td>\n",
              "      <td>1.863772e-01</td>\n",
              "      <td>5.285536e-01</td>\n",
              "      <td>1.476421e-01</td>\n",
              "      <td>4.395266e-01</td>\n",
              "      <td>3.507156e-01</td>\n",
              "      <td>2.409522e-01</td>\n",
              "      <td>9.104512e-02</td>\n",
              "      <td>7.827995e-02</td>\n",
              "      <td>77.165000</td>\n",
              "      <td>0.000000</td>\n",
              "    </tr>\n",
              "    <tr>\n",
              "      <th>max</th>\n",
              "      <td>172792.000000</td>\n",
              "      <td>2.454930e+00</td>\n",
              "      <td>2.205773e+01</td>\n",
              "      <td>9.382558e+00</td>\n",
              "      <td>1.687534e+01</td>\n",
              "      <td>3.480167e+01</td>\n",
              "      <td>7.330163e+01</td>\n",
              "      <td>1.205895e+02</td>\n",
              "      <td>2.000721e+01</td>\n",
              "      <td>1.559499e+01</td>\n",
              "      <td>2.374514e+01</td>\n",
              "      <td>1.201891e+01</td>\n",
              "      <td>7.848392e+00</td>\n",
              "      <td>7.126883e+00</td>\n",
              "      <td>1.052677e+01</td>\n",
              "      <td>8.877742e+00</td>\n",
              "      <td>1.731511e+01</td>\n",
              "      <td>9.253526e+00</td>\n",
              "      <td>5.041069e+00</td>\n",
              "      <td>5.591971e+00</td>\n",
              "      <td>3.942090e+01</td>\n",
              "      <td>2.720284e+01</td>\n",
              "      <td>1.050309e+01</td>\n",
              "      <td>2.252841e+01</td>\n",
              "      <td>4.584549e+00</td>\n",
              "      <td>7.519589e+00</td>\n",
              "      <td>3.517346e+00</td>\n",
              "      <td>3.161220e+01</td>\n",
              "      <td>3.384781e+01</td>\n",
              "      <td>25691.160000</td>\n",
              "      <td>1.000000</td>\n",
              "    </tr>\n",
              "  </tbody>\n",
              "</table>\n",
              "</div>"
            ],
            "text/plain": [
              "                Time            V1  ...         Amount          Class\n",
              "count  284807.000000  2.848070e+05  ...  284807.000000  284807.000000\n",
              "mean    94813.859575  3.919560e-15  ...      88.349619       0.001727\n",
              "std     47488.145955  1.958696e+00  ...     250.120109       0.041527\n",
              "min         0.000000 -5.640751e+01  ...       0.000000       0.000000\n",
              "25%     54201.500000 -9.203734e-01  ...       5.600000       0.000000\n",
              "50%     84692.000000  1.810880e-02  ...      22.000000       0.000000\n",
              "75%    139320.500000  1.315642e+00  ...      77.165000       0.000000\n",
              "max    172792.000000  2.454930e+00  ...   25691.160000       1.000000\n",
              "\n",
              "[8 rows x 31 columns]"
            ]
          },
          "metadata": {
            "tags": []
          },
          "execution_count": 5
        }
      ]
    },
    {
      "cell_type": "markdown",
      "metadata": {
        "id": "CFI2kD00sY7c"
      },
      "source": [
        "Observando o resumo estatístico, é possível ver que as variáveis que sofreram a transformação PCA, não possuem valores discrepantes, aparentemente.\n",
        "\n",
        "A variável alvo para nosso projeto é `Class`, onde:\n",
        "* 0: representa uma Transação Normal; e\n",
        "* 1: representa uma Transação Fraudulenta.\n",
        "\n",
        "  \n"
      ]
    },
    {
      "cell_type": "markdown",
      "metadata": {
        "id": "yIS6tUozS-uB"
      },
      "source": [
        "### Dados Ausentes\n",
        "\n",
        "É comum se deparar com dados ausentes quando estamos analisando um banco de dados devido à diversos fatores, e essa ausência de informação pode impactar na qualidade da exploração para o projeto.\n",
        "\n",
        "Dito isso, vamos checar se há essa ausência de informação no banco de dados baixado:"
      ]
    },
    {
      "cell_type": "code",
      "metadata": {
        "id": "t4Vdxq68TLeu",
        "colab": {
          "base_uri": "https://localhost:8080/"
        },
        "outputId": "65c9ed6a-eaf0-4471-a661-139efbcfdf84"
      },
      "source": [
        "# Calculando o número total de dados ausentes e exibindo o maior\n",
        "df_original.isnull().sum().max()"
      ],
      "execution_count": null,
      "outputs": [
        {
          "output_type": "execute_result",
          "data": {
            "text/plain": [
              "0"
            ]
          },
          "metadata": {
            "tags": []
          },
          "execution_count": 6
        }
      ]
    },
    {
      "cell_type": "markdown",
      "metadata": {
        "id": "orN8pKB6EBgO"
      },
      "source": [
        "Podemos ver que o dataset que será utilizado nesta análise exploratória não possui nenhum dado ausente."
      ]
    },
    {
      "cell_type": "markdown",
      "metadata": {
        "id": "a1yeFVwnTOJp"
      },
      "source": [
        "### Plotar o countplot para ver o balanceamento do dataset\n",
        "\n",
        "Antes de começarmos a desenvolver um modelo de aprendizado para nossos dados, precisamos checar se os dados estão balanceados.\n",
        "\n",
        "Para isso vamos calcular a proporção entre os dados de Transações Normais e Fraudulentas:"
      ]
    },
    {
      "cell_type": "code",
      "metadata": {
        "id": "mUSIYCf-lttr",
        "colab": {
          "base_uri": "https://localhost:8080/"
        },
        "outputId": "72ecb5d1-b023-49d4-ea18-d1d08e51f412"
      },
      "source": [
        "# Checar a quantidade transações normais e fraudulentas\n",
        "print(df_original.Class.value_counts())\n",
        "\n",
        "# Calculando a proporção entre as classes\n",
        "print(\"\\nAs Transações Fraudulentas representam apenas {:.2f}% do dataset.\".format(df_original[df_original.Class==1].shape[0] / df_original.shape[0]*100))"
      ],
      "execution_count": null,
      "outputs": [
        {
          "output_type": "stream",
          "text": [
            "0    284315\n",
            "1       492\n",
            "Name: Class, dtype: int64\n",
            "\n",
            "As Transações Fraudulentas representam apenas 0.17% do dataset.\n"
          ],
          "name": "stdout"
        }
      ]
    },
    {
      "cell_type": "markdown",
      "metadata": {
        "id": "3NLb3_dNIX0f"
      },
      "source": [
        "Como observado, temos 284 mil entradas de transações normais e apenas 492 fraudulentas, ou seja, apenas 0,17% das entradas de todo o dataset são referentes às transações fraudulentas.\n",
        "\n",
        "Com essa proporção é possível perceber o desbalanceamento presente nos dados, o que pode impactar diretamente o modelo de aprendizado que será desenvolvido."
      ]
    },
    {
      "cell_type": "markdown",
      "metadata": {
        "id": "ba0rUStdlt9r"
      },
      "source": [
        "### Histogramas para as variáveis Time e Amount\n",
        "\n",
        "Podemos plotar os histogramas das variáveis que foram conservadas, para vermos a distribuição dos dados entre os tipos de transações normais e fraudulentas: "
      ]
    },
    {
      "cell_type": "code",
      "metadata": {
        "id": "yQCQMDqMl1wi",
        "colab": {
          "base_uri": "https://localhost:8080/",
          "height": 760
        },
        "outputId": "6486ac49-b0f5-4684-835e-5c4c89679c0d"
      },
      "source": [
        "# Plotando os histogramas para a variável Time\n",
        "sns.set_theme()\n",
        "fig, ax = plt.subplots(nrows=2, ncols=1, figsize=(15,10))\n",
        "\n",
        "# Título para o histograma da variável Time\n",
        "print(\"Histogramas da variável Time\\n\")\n",
        "\n",
        "# Histograma de transações normais\n",
        "sns.histplot(data=df_original.Time[df_original.Class==0], ax=ax[0])\n",
        "ax[0].set_ylabel('Transações Normais')\n",
        "ax[0].set_xlabel('Time')\n",
        "\n",
        "# Histograma de transações fraudulentas\n",
        "sns.histplot(data=df_original.Time[df_original.Class==1], ax=ax[1])\n",
        "ax[1].set_ylabel('Transações Fraudulentas')\n",
        "ax[1].set_xlabel('Time')\n",
        "\n",
        "plt.tight_layout();\n",
        "fig.savefig('histograma_time')\n"
      ],
      "execution_count": null,
      "outputs": [
        {
          "output_type": "display_data",
          "data": {
            "application/javascript": [
              "\n",
              "        if (window._pyforest_update_imports_cell) { window._pyforest_update_imports_cell('import pandas as pd\\nimport seaborn as sns'); }\n",
              "    "
            ],
            "text/plain": [
              "<IPython.core.display.Javascript object>"
            ]
          },
          "metadata": {
            "tags": []
          }
        },
        {
          "output_type": "display_data",
          "data": {
            "application/javascript": [
              "\n",
              "        if (window._pyforest_update_imports_cell) { window._pyforest_update_imports_cell('import matplotlib.pyplot as plt\\nimport pandas as pd\\nimport seaborn as sns'); }\n",
              "    "
            ],
            "text/plain": [
              "<IPython.core.display.Javascript object>"
            ]
          },
          "metadata": {
            "tags": []
          }
        },
        {
          "output_type": "stream",
          "text": [
            "Histogramas da variável Time\n",
            "\n"
          ],
          "name": "stdout"
        },
        {
          "output_type": "display_data",
          "data": {
            "application/javascript": [
              "\n",
              "        if (window._pyforest_update_imports_cell) { window._pyforest_update_imports_cell('import matplotlib.pyplot as plt\\nimport pandas as pd\\nimport seaborn as sns'); }\n",
              "    "
            ],
            "text/plain": [
              "<IPython.core.display.Javascript object>"
            ]
          },
          "metadata": {
            "tags": []
          }
        },
        {
          "output_type": "display_data",
          "data": {
            "application/javascript": [
              "\n",
              "        if (window._pyforest_update_imports_cell) { window._pyforest_update_imports_cell('import matplotlib.pyplot as plt\\nimport pandas as pd\\nimport seaborn as sns'); }\n",
              "    "
            ],
            "text/plain": [
              "<IPython.core.display.Javascript object>"
            ]
          },
          "metadata": {
            "tags": []
          }
        },
        {
          "output_type": "display_data",
          "data": {
            "application/javascript": [
              "\n",
              "        if (window._pyforest_update_imports_cell) { window._pyforest_update_imports_cell('import matplotlib.pyplot as plt\\nimport pandas as pd\\nimport seaborn as sns'); }\n",
              "    "
            ],
            "text/plain": [
              "<IPython.core.display.Javascript object>"
            ]
          },
          "metadata": {
            "tags": []
          }
        },
        {
          "output_type": "display_data",
          "data": {
            "image/png": "[encoded data removed]",
            "text/plain": [
              "<Figure size 1080x720 with 2 Axes>"
            ]
          },
          "metadata": {
            "tags": []
          }
        }
      ]
    },
    {
      "cell_type": "markdown",
      "metadata": {
        "id": "jUBOyvXUAyXK"
      },
      "source": [
        "Observando os histogramas para a variável `Time`, podemos ver uma distribuição mais equilibrada, ou seja, sem valores discrepantes em relação ao resto dos dados.\n",
        "\n",
        "Agora vamos ver se o mesmo ocorre com a variável `Amount`:"
      ]
    },
    {
      "cell_type": "code",
      "metadata": {
        "colab": {
          "base_uri": "https://localhost:8080/",
          "height": 761
        },
        "id": "CeT3DPwq9vaL",
        "outputId": "9da20c8a-8b61-4c63-e926-285ecccbf08c"
      },
      "source": [
        "# Plotando os histogramas para a variável Amount\n",
        "sns.set_theme()\n",
        "fig, ax = plt.subplots(nrows=2, ncols=1, figsize=(15,10))\n",
        "\n",
        "# Título para o histograma da variável Amount\n",
        "print(\"Histogramas da variável Amount\\n\")\n",
        "\n",
        "# Histograma de transações normais\n",
        "sns.histplot(data=df_original.Amount[df_original.Class==1], ax=ax[0])\n",
        "ax[0].set_ylabel('Transações Normais')\n",
        "ax[0].set_xlabel('Amount')\n",
        "\n",
        "# Histograma de transações fraudulentas\n",
        "sns.histplot(data=df_original.Amount[df_original.Class==1], ax=ax[1])\n",
        "ax[1].set_ylabel('Transações Fraudulentas')\n",
        "ax[1].set_xlabel('Amount')\n",
        "\n",
        "plt.tight_layout();\n",
        "fig.savefig('histograma_amount')"
      ],
      "execution_count": null,
      "outputs": [
        {
          "output_type": "display_data",
          "data": {
            "application/javascript": [
              "\n",
              "        if (window._pyforest_update_imports_cell) { window._pyforest_update_imports_cell('import matplotlib.pyplot as plt\\nimport pandas as pd\\nimport seaborn as sns'); }\n",
              "    "
            ],
            "text/plain": [
              "<IPython.core.display.Javascript object>"
            ]
          },
          "metadata": {
            "tags": []
          }
        },
        {
          "output_type": "display_data",
          "data": {
            "application/javascript": [
              "\n",
              "        if (window._pyforest_update_imports_cell) { window._pyforest_update_imports_cell('import matplotlib.pyplot as plt\\nimport pandas as pd\\nimport seaborn as sns'); }\n",
              "    "
            ],
            "text/plain": [
              "<IPython.core.display.Javascript object>"
            ]
          },
          "metadata": {
            "tags": []
          }
        },
        {
          "output_type": "stream",
          "text": [
            "Histogramas da variável Amount\n",
            "\n"
          ],
          "name": "stdout"
        },
        {
          "output_type": "display_data",
          "data": {
            "application/javascript": [
              "\n",
              "        if (window._pyforest_update_imports_cell) { window._pyforest_update_imports_cell('import matplotlib.pyplot as plt\\nimport pandas as pd\\nimport seaborn as sns'); }\n",
              "    "
            ],
            "text/plain": [
              "<IPython.core.display.Javascript object>"
            ]
          },
          "metadata": {
            "tags": []
          }
        },
        {
          "output_type": "display_data",
          "data": {
            "application/javascript": [
              "\n",
              "        if (window._pyforest_update_imports_cell) { window._pyforest_update_imports_cell('import matplotlib.pyplot as plt\\nimport pandas as pd\\nimport seaborn as sns'); }\n",
              "    "
            ],
            "text/plain": [
              "<IPython.core.display.Javascript object>"
            ]
          },
          "metadata": {
            "tags": []
          }
        },
        {
          "output_type": "display_data",
          "data": {
            "application/javascript": [
              "\n",
              "        if (window._pyforest_update_imports_cell) { window._pyforest_update_imports_cell('import matplotlib.pyplot as plt\\nimport pandas as pd\\nimport seaborn as sns'); }\n",
              "    "
            ],
            "text/plain": [
              "<IPython.core.display.Javascript object>"
            ]
          },
          "metadata": {
            "tags": []
          }
        },
        {
          "output_type": "display_data",
          "data": {
            "image/png": "[encoded data removed]",
            "text/plain": [
              "<Figure size 1080x720 with 2 Axes>"
            ]
          },
          "metadata": {
            "tags": []
          }
        }
      ]
    },
    {
      "cell_type": "markdown",
      "metadata": {
        "id": "1mk1DlnFBl5a"
      },
      "source": [
        "Como podemos ver nos histogramas acima, a variável `Amount` possui dados discrepantes, o que torna o histograma bastante desbalanceado, assim tornando bastante difícil a visualização de alguns dados no eixo X.\n",
        "\n",
        "Essa diferença entre as variáveis pode afetar na qualidade do modelo de Machine Learning que será desenvolvido, então vamos precisar analisar os outliers mais profundamente com os boxplots. "
      ]
    },
    {
      "cell_type": "markdown",
      "metadata": {
        "id": "VvI7Mxkvl3xi"
      },
      "source": [
        "### Boxplot para a variável Amount\n",
        "\n",
        "Os boxplots nos fornece uma melhor visualização da distribuição dos dados, destacando os dados discrepantes, ou seja, os outliers.\n",
        "\n",
        "Vamos plotar os boxplots para as transações normais e fraudulentas:"
      ]
    },
    {
      "cell_type": "code",
      "metadata": {
        "colab": {
          "base_uri": "https://localhost:8080/",
          "height": 725
        },
        "id": "QfGGqkJrHm4i",
        "outputId": "46103d24-7de8-4766-97c1-659a3849f0a7"
      },
      "source": [
        "# Plotando os boxplots para a variável Amount\n",
        "sns.set_theme()\n",
        "fig, ax = plt.subplots(figsize=(15,10))\n",
        "\n",
        "# Boxplots\n",
        "sns.boxplot(x=df_original.Class, y=df_original.Amount, ax=ax).set_title('Boxplot Geral')\n",
        "plt.xticks([0,1],['Normal','Fraude']) # substitui a legenda das classes\n",
        "\n",
        "plt.tight_layout();\n",
        "# fig.savefig('boxplot_amount_g')"
      ],
      "execution_count": null,
      "outputs": [
        {
          "output_type": "display_data",
          "data": {
            "application/javascript": [
              "\n",
              "        if (window._pyforest_update_imports_cell) { window._pyforest_update_imports_cell('import matplotlib.pyplot as plt\\nimport pandas as pd\\nimport seaborn as sns'); }\n",
              "    "
            ],
            "text/plain": [
              "<IPython.core.display.Javascript object>"
            ]
          },
          "metadata": {
            "tags": []
          }
        },
        {
          "output_type": "display_data",
          "data": {
            "application/javascript": [
              "\n",
              "        if (window._pyforest_update_imports_cell) { window._pyforest_update_imports_cell('import matplotlib.pyplot as plt\\nimport pandas as pd\\nimport seaborn as sns'); }\n",
              "    "
            ],
            "text/plain": [
              "<IPython.core.display.Javascript object>"
            ]
          },
          "metadata": {
            "tags": []
          }
        },
        {
          "output_type": "display_data",
          "data": {
            "application/javascript": [
              "\n",
              "        if (window._pyforest_update_imports_cell) { window._pyforest_update_imports_cell('import matplotlib.pyplot as plt\\nimport pandas as pd\\nimport seaborn as sns'); }\n",
              "    "
            ],
            "text/plain": [
              "<IPython.core.display.Javascript object>"
            ]
          },
          "metadata": {
            "tags": []
          }
        },
        {
          "output_type": "display_data",
          "data": {
            "application/javascript": [
              "\n",
              "        if (window._pyforest_update_imports_cell) { window._pyforest_update_imports_cell('import matplotlib.pyplot as plt\\nimport pandas as pd\\nimport seaborn as sns'); }\n",
              "    "
            ],
            "text/plain": [
              "<IPython.core.display.Javascript object>"
            ]
          },
          "metadata": {
            "tags": []
          }
        },
        {
          "output_type": "display_data",
          "data": {
            "application/javascript": [
              "\n",
              "        if (window._pyforest_update_imports_cell) { window._pyforest_update_imports_cell('import matplotlib.pyplot as plt\\nimport pandas as pd\\nimport seaborn as sns'); }\n",
              "    "
            ],
            "text/plain": [
              "<IPython.core.display.Javascript object>"
            ]
          },
          "metadata": {
            "tags": []
          }
        },
        {
          "output_type": "display_data",
          "data": {
            "image/png": "[encoded data removed]",
            "text/plain": [
              "<Figure size 1080x720 with 1 Axes>"
            ]
          },
          "metadata": {
            "tags": []
          }
        }
      ]
    },
    {
      "cell_type": "markdown",
      "metadata": {
        "id": "Klw_nCTcIUXJ"
      },
      "source": [
        "O boxplot acima mostra a proporção dos outliers em um todo, mas não é muito detalhista, então vamos limitar o eixo Y para isso:"
      ]
    },
    {
      "cell_type": "code",
      "metadata": {
        "id": "qrej4LacmHXJ",
        "colab": {
          "base_uri": "https://localhost:8080/",
          "height": 725
        },
        "outputId": "b170d2c0-52c6-4c9e-945f-e14131eae83a"
      },
      "source": [
        "# Plotando os boxplots para a variável Amount limitando o eixo Y para mais detalhes\n",
        "sns.set_theme()\n",
        "fig, ax = plt.subplots(figsize=(15,10))\n",
        "\n",
        "# Boxplot com limite y=[0:400]\n",
        "sns.boxplot(x=df_original.Class, y=df_original.Amount, ax=ax).set_title('Boxplot Detalhado')\n",
        "plt.xticks([0,1],['Normal','Fraude']) # substitui a legenda das classes\n",
        "plt.ylim((0,400)) # definindo o limite no eixo Y de 0 até 400\n",
        "\n",
        "plt.tight_layout();\n",
        "fig.savefig('boxplots_amount_d')"
      ],
      "execution_count": null,
      "outputs": [
        {
          "output_type": "display_data",
          "data": {
            "application/javascript": [
              "\n",
              "        if (window._pyforest_update_imports_cell) { window._pyforest_update_imports_cell('import matplotlib.pyplot as plt\\nimport pandas as pd\\nimport seaborn as sns'); }\n",
              "    "
            ],
            "text/plain": [
              "<IPython.core.display.Javascript object>"
            ]
          },
          "metadata": {
            "tags": []
          }
        },
        {
          "output_type": "display_data",
          "data": {
            "application/javascript": [
              "\n",
              "        if (window._pyforest_update_imports_cell) { window._pyforest_update_imports_cell('import matplotlib.pyplot as plt\\nimport pandas as pd\\nimport seaborn as sns'); }\n",
              "    "
            ],
            "text/plain": [
              "<IPython.core.display.Javascript object>"
            ]
          },
          "metadata": {
            "tags": []
          }
        },
        {
          "output_type": "display_data",
          "data": {
            "application/javascript": [
              "\n",
              "        if (window._pyforest_update_imports_cell) { window._pyforest_update_imports_cell('import matplotlib.pyplot as plt\\nimport pandas as pd\\nimport seaborn as sns'); }\n",
              "    "
            ],
            "text/plain": [
              "<IPython.core.display.Javascript object>"
            ]
          },
          "metadata": {
            "tags": []
          }
        },
        {
          "output_type": "display_data",
          "data": {
            "application/javascript": [
              "\n",
              "        if (window._pyforest_update_imports_cell) { window._pyforest_update_imports_cell('import matplotlib.pyplot as plt\\nimport pandas as pd\\nimport seaborn as sns'); }\n",
              "    "
            ],
            "text/plain": [
              "<IPython.core.display.Javascript object>"
            ]
          },
          "metadata": {
            "tags": []
          }
        },
        {
          "output_type": "display_data",
          "data": {
            "application/javascript": [
              "\n",
              "        if (window._pyforest_update_imports_cell) { window._pyforest_update_imports_cell('import matplotlib.pyplot as plt\\nimport pandas as pd\\nimport seaborn as sns'); }\n",
              "    "
            ],
            "text/plain": [
              "<IPython.core.display.Javascript object>"
            ]
          },
          "metadata": {
            "tags": []
          }
        },
        {
          "output_type": "display_data",
          "data": {
            "application/javascript": [
              "\n",
              "        if (window._pyforest_update_imports_cell) { window._pyforest_update_imports_cell('import matplotlib.pyplot as plt\\nimport pandas as pd\\nimport seaborn as sns'); }\n",
              "    "
            ],
            "text/plain": [
              "<IPython.core.display.Javascript object>"
            ]
          },
          "metadata": {
            "tags": []
          }
        },
        {
          "output_type": "display_data",
          "data": {
            "image/png": "[encoded data removed]",
            "text/plain": [
              "<Figure size 1080x720 with 1 Axes>"
            ]
          },
          "metadata": {
            "tags": []
          }
        }
      ]
    },
    {
      "cell_type": "markdown",
      "metadata": {
        "id": "tmsTNl5qOlw6"
      },
      "source": [
        "Sabendo que os outliers vão afetar a qualidade do modelo de machine learning e tendo visualizado a proporção destes pelos boxplots, teremos que tratar esses dados."
      ]
    },
    {
      "cell_type": "markdown",
      "metadata": {
        "id": "Q6HJU31cngbS"
      },
      "source": [
        "## Tratamento e Preparação dos Dados\n",
        "\n",
        "O modelo de Machine Learning é influenciado pelos dados, então como vimos que há a necessidade de tratamento, vamos fazer os ajustes e então preparar esses dados para o desenvolvimento do modelo.\n",
        "\n",
        "### Padronização de Time e Amount\n",
        "\n",
        "Visto os histogramas e boxplots, temos que padronizar as variáveis `Time` e `Amount`:\n"
      ]
    },
    {
      "cell_type": "code",
      "metadata": {
        "id": "y6_ErqVInxhY",
        "colab": {
          "base_uri": "https://localhost:8080/",
          "height": 218
        },
        "outputId": "b557bacd-05a6-4e9c-f1b7-d24cdd37255b"
      },
      "source": [
        "# Copiando o dataset original para o tratamento\n",
        "df_clean = df_original.copy()\n",
        "\n",
        "# Padronização das variáveis Time e Amount com StandardScaler\n",
        "std_scaler = StandardScaler()\n",
        "df_clean['std_amount'] = std_scaler.fit_transform(df_clean['Amount'].values.reshape(-1,1))\n",
        "df_clean['std_time'] = std_scaler.fit_transform(df_clean['Time'].values.reshape(-1,1))\n",
        "\n",
        "# Remover as antigas variáveis Time e Amount do DataFrame\n",
        "df_clean.drop(['Time','Amount'], axis=1, inplace=True)\n",
        "\n",
        "# Checando as primeiras entradas do novo DataFrame\n",
        "df_clean.head()"
      ],
      "execution_count": null,
      "outputs": [
        {
          "output_type": "display_data",
          "data": {
            "application/javascript": [
              "\n",
              "        if (window._pyforest_update_imports_cell) { window._pyforest_update_imports_cell('import matplotlib.pyplot as plt\\nfrom sklearn.preprocessing import StandardScaler\\nimport pandas as pd\\nimport seaborn as sns'); }\n",
              "    "
            ],
            "text/plain": [
              "<IPython.core.display.Javascript object>"
            ]
          },
          "metadata": {
            "tags": []
          }
        },
        {
          "output_type": "execute_result",
          "data": {
            "text/html": [
              "<div>\n",
              "<style scoped>\n",
              "    .dataframe tbody tr th:only-of-type {\n",
              "        vertical-align: middle;\n",
              "    }\n",
              "\n",
              "    .dataframe tbody tr th {\n",
              "        vertical-align: top;\n",
              "    }\n",
              "\n",
              "    .dataframe thead th {\n",
              "        text-align: right;\n",
              "    }\n",
              "</style>\n",
              "<table border=\"1\" class=\"dataframe\">\n",
              "  <thead>\n",
              "    <tr style=\"text-align: right;\">\n",
              "      <th></th>\n",
              "      <th>V1</th>\n",
              "      <th>V2</th>\n",
              "      <th>V3</th>\n",
              "      <th>V4</th>\n",
              "      <th>V5</th>\n",
              "      <th>V6</th>\n",
              "      <th>V7</th>\n",
              "      <th>V8</th>\n",
              "      <th>V9</th>\n",
              "      <th>V10</th>\n",
              "      <th>V11</th>\n",
              "      <th>V12</th>\n",
              "      <th>V13</th>\n",
              "      <th>V14</th>\n",
              "      <th>V15</th>\n",
              "      <th>V16</th>\n",
              "      <th>V17</th>\n",
              "      <th>V18</th>\n",
              "      <th>V19</th>\n",
              "      <th>V20</th>\n",
              "      <th>V21</th>\n",
              "      <th>V22</th>\n",
              "      <th>V23</th>\n",
              "      <th>V24</th>\n",
              "      <th>V25</th>\n",
              "      <th>V26</th>\n",
              "      <th>V27</th>\n",
              "      <th>V28</th>\n",
              "      <th>Class</th>\n",
              "      <th>std_amount</th>\n",
              "      <th>std_time</th>\n",
              "    </tr>\n",
              "  </thead>\n",
              "  <tbody>\n",
              "    <tr>\n",
              "      <th>0</th>\n",
              "      <td>-1.359807</td>\n",
              "      <td>-0.072781</td>\n",
              "      <td>2.536347</td>\n",
              "      <td>1.378155</td>\n",
              "      <td>-0.338321</td>\n",
              "      <td>0.462388</td>\n",
              "      <td>0.239599</td>\n",
              "      <td>0.098698</td>\n",
              "      <td>0.363787</td>\n",
              "      <td>0.090794</td>\n",
              "      <td>-0.551600</td>\n",
              "      <td>-0.617801</td>\n",
              "      <td>-0.991390</td>\n",
              "      <td>-0.311169</td>\n",
              "      <td>1.468177</td>\n",
              "      <td>-0.470401</td>\n",
              "      <td>0.207971</td>\n",
              "      <td>0.025791</td>\n",
              "      <td>0.403993</td>\n",
              "      <td>0.251412</td>\n",
              "      <td>-0.018307</td>\n",
              "      <td>0.277838</td>\n",
              "      <td>-0.110474</td>\n",
              "      <td>0.066928</td>\n",
              "      <td>0.128539</td>\n",
              "      <td>-0.189115</td>\n",
              "      <td>0.133558</td>\n",
              "      <td>-0.021053</td>\n",
              "      <td>0</td>\n",
              "      <td>0.244964</td>\n",
              "      <td>-1.996583</td>\n",
              "    </tr>\n",
              "    <tr>\n",
              "      <th>1</th>\n",
              "      <td>1.191857</td>\n",
              "      <td>0.266151</td>\n",
              "      <td>0.166480</td>\n",
              "      <td>0.448154</td>\n",
              "      <td>0.060018</td>\n",
              "      <td>-0.082361</td>\n",
              "      <td>-0.078803</td>\n",
              "      <td>0.085102</td>\n",
              "      <td>-0.255425</td>\n",
              "      <td>-0.166974</td>\n",
              "      <td>1.612727</td>\n",
              "      <td>1.065235</td>\n",
              "      <td>0.489095</td>\n",
              "      <td>-0.143772</td>\n",
              "      <td>0.635558</td>\n",
              "      <td>0.463917</td>\n",
              "      <td>-0.114805</td>\n",
              "      <td>-0.183361</td>\n",
              "      <td>-0.145783</td>\n",
              "      <td>-0.069083</td>\n",
              "      <td>-0.225775</td>\n",
              "      <td>-0.638672</td>\n",
              "      <td>0.101288</td>\n",
              "      <td>-0.339846</td>\n",
              "      <td>0.167170</td>\n",
              "      <td>0.125895</td>\n",
              "      <td>-0.008983</td>\n",
              "      <td>0.014724</td>\n",
              "      <td>0</td>\n",
              "      <td>-0.342475</td>\n",
              "      <td>-1.996583</td>\n",
              "    </tr>\n",
              "    <tr>\n",
              "      <th>2</th>\n",
              "      <td>-1.358354</td>\n",
              "      <td>-1.340163</td>\n",
              "      <td>1.773209</td>\n",
              "      <td>0.379780</td>\n",
              "      <td>-0.503198</td>\n",
              "      <td>1.800499</td>\n",
              "      <td>0.791461</td>\n",
              "      <td>0.247676</td>\n",
              "      <td>-1.514654</td>\n",
              "      <td>0.207643</td>\n",
              "      <td>0.624501</td>\n",
              "      <td>0.066084</td>\n",
              "      <td>0.717293</td>\n",
              "      <td>-0.165946</td>\n",
              "      <td>2.345865</td>\n",
              "      <td>-2.890083</td>\n",
              "      <td>1.109969</td>\n",
              "      <td>-0.121359</td>\n",
              "      <td>-2.261857</td>\n",
              "      <td>0.524980</td>\n",
              "      <td>0.247998</td>\n",
              "      <td>0.771679</td>\n",
              "      <td>0.909412</td>\n",
              "      <td>-0.689281</td>\n",
              "      <td>-0.327642</td>\n",
              "      <td>-0.139097</td>\n",
              "      <td>-0.055353</td>\n",
              "      <td>-0.059752</td>\n",
              "      <td>0</td>\n",
              "      <td>1.160686</td>\n",
              "      <td>-1.996562</td>\n",
              "    </tr>\n",
              "    <tr>\n",
              "      <th>3</th>\n",
              "      <td>-0.966272</td>\n",
              "      <td>-0.185226</td>\n",
              "      <td>1.792993</td>\n",
              "      <td>-0.863291</td>\n",
              "      <td>-0.010309</td>\n",
              "      <td>1.247203</td>\n",
              "      <td>0.237609</td>\n",
              "      <td>0.377436</td>\n",
              "      <td>-1.387024</td>\n",
              "      <td>-0.054952</td>\n",
              "      <td>-0.226487</td>\n",
              "      <td>0.178228</td>\n",
              "      <td>0.507757</td>\n",
              "      <td>-0.287924</td>\n",
              "      <td>-0.631418</td>\n",
              "      <td>-1.059647</td>\n",
              "      <td>-0.684093</td>\n",
              "      <td>1.965775</td>\n",
              "      <td>-1.232622</td>\n",
              "      <td>-0.208038</td>\n",
              "      <td>-0.108300</td>\n",
              "      <td>0.005274</td>\n",
              "      <td>-0.190321</td>\n",
              "      <td>-1.175575</td>\n",
              "      <td>0.647376</td>\n",
              "      <td>-0.221929</td>\n",
              "      <td>0.062723</td>\n",
              "      <td>0.061458</td>\n",
              "      <td>0</td>\n",
              "      <td>0.140534</td>\n",
              "      <td>-1.996562</td>\n",
              "    </tr>\n",
              "    <tr>\n",
              "      <th>4</th>\n",
              "      <td>-1.158233</td>\n",
              "      <td>0.877737</td>\n",
              "      <td>1.548718</td>\n",
              "      <td>0.403034</td>\n",
              "      <td>-0.407193</td>\n",
              "      <td>0.095921</td>\n",
              "      <td>0.592941</td>\n",
              "      <td>-0.270533</td>\n",
              "      <td>0.817739</td>\n",
              "      <td>0.753074</td>\n",
              "      <td>-0.822843</td>\n",
              "      <td>0.538196</td>\n",
              "      <td>1.345852</td>\n",
              "      <td>-1.119670</td>\n",
              "      <td>0.175121</td>\n",
              "      <td>-0.451449</td>\n",
              "      <td>-0.237033</td>\n",
              "      <td>-0.038195</td>\n",
              "      <td>0.803487</td>\n",
              "      <td>0.408542</td>\n",
              "      <td>-0.009431</td>\n",
              "      <td>0.798278</td>\n",
              "      <td>-0.137458</td>\n",
              "      <td>0.141267</td>\n",
              "      <td>-0.206010</td>\n",
              "      <td>0.502292</td>\n",
              "      <td>0.219422</td>\n",
              "      <td>0.215153</td>\n",
              "      <td>0</td>\n",
              "      <td>-0.073403</td>\n",
              "      <td>-1.996541</td>\n",
              "    </tr>\n",
              "  </tbody>\n",
              "</table>\n",
              "</div>"
            ],
            "text/plain": [
              "         V1        V2        V3  ...  Class  std_amount  std_time\n",
              "0 -1.359807 -0.072781  2.536347  ...      0    0.244964 -1.996583\n",
              "1  1.191857  0.266151  0.166480  ...      0   -0.342475 -1.996583\n",
              "2 -1.358354 -1.340163  1.773209  ...      0    1.160686 -1.996562\n",
              "3 -0.966272 -0.185226  1.792993  ...      0    0.140534 -1.996562\n",
              "4 -1.158233  0.877737  1.548718  ...      0   -0.073403 -1.996541\n",
              "\n",
              "[5 rows x 31 columns]"
            ]
          },
          "metadata": {
            "tags": []
          },
          "execution_count": 12
        }
      ]
    },
    {
      "cell_type": "markdown",
      "metadata": {
        "id": "DemWCjtNoBil"
      },
      "source": [
        "### Dividir o conjunto de dados entre treino e teste\n",
        "\n",
        "Agora que os dados foram padronizados, vamos separá-los entre dados de treino e teste, lembrando que a variável alvo é `Class`."
      ]
    },
    {
      "cell_type": "code",
      "metadata": {
        "id": "L1zkv-V3oaEJ",
        "colab": {
          "base_uri": "https://localhost:8080/",
          "height": 17
        },
        "outputId": "d3b3a132-f4bd-4aba-e7a3-4356698f6307"
      },
      "source": [
        "# Dividindo os dados entre X e Y\n",
        "X = df_clean.drop('Class', axis=1) # todas as variáveis exceto a alvo\n",
        "Y = df_clean['Class']\n",
        "\n",
        "# Dividindo os dados entre treino e teste\n",
        "X_train, X_test, Y_train, Y_test = train_test_split(X, Y, stratify=Y) # stratify mantem a mesma quantidade de classes para treino e teste"
      ],
      "execution_count": null,
      "outputs": [
        {
          "output_type": "display_data",
          "data": {
            "application/javascript": [
              "\n",
              "        if (window._pyforest_update_imports_cell) { window._pyforest_update_imports_cell('from sklearn.model_selection import train_test_split\\nimport matplotlib.pyplot as plt\\nimport pandas as pd\\nfrom sklearn.preprocessing import StandardScaler\\nimport seaborn as sns'); }\n",
              "    "
            ],
            "text/plain": [
              "<IPython.core.display.Javascript object>"
            ]
          },
          "metadata": {
            "tags": []
          }
        }
      ]
    },
    {
      "cell_type": "markdown",
      "metadata": {
        "id": "YYKSgO0coaLJ"
      },
      "source": [
        "### Balancear o conjunto de dados\n",
        "\n",
        "Agora que os dados foram separados entre treino e teste, podemos realizar o balanceamento dos dados.\n",
        "\n",
        "Para o balanceamento dos dados, vamos utilizar para este projeto o Under_sampling da biblioteca `imblearn`, que preserva a classe minoritária dos dados."
      ]
    },
    {
      "cell_type": "code",
      "metadata": {
        "id": "gQABGk9jodPa",
        "colab": {
          "base_uri": "https://localhost:8080/",
          "height": 72
        },
        "outputId": "0e6661b4-dd48-4934-b08e-99d1cbecd94e"
      },
      "source": [
        "# Balanceamento com Under_sampling\n",
        "rus = RandomUnderSampler()\n",
        "X_rus, Y_rus = rus.fit_sample(X_train, Y_train)\n",
        "\n",
        "# Checando o balanceamento\n",
        "print(pd.Series(Y_rus).value_counts())"
      ],
      "execution_count": null,
      "outputs": [
        {
          "output_type": "display_data",
          "data": {
            "application/javascript": [
              "\n",
              "        if (window._pyforest_update_imports_cell) { window._pyforest_update_imports_cell('from sklearn.model_selection import train_test_split\\nimport matplotlib.pyplot as plt\\nimport pandas as pd\\nfrom sklearn.preprocessing import StandardScaler\\nimport seaborn as sns'); }\n",
              "    "
            ],
            "text/plain": [
              "<IPython.core.display.Javascript object>"
            ]
          },
          "metadata": {
            "tags": []
          }
        },
        {
          "output_type": "stream",
          "text": [
            "1    369\n",
            "0    369\n",
            "dtype: int64\n"
          ],
          "name": "stdout"
        }
      ]
    },
    {
      "cell_type": "markdown",
      "metadata": {
        "id": "VyQhBXnTl6wy"
      },
      "source": [
        "Agora com o balanceamento podemos notar uma grande diferença com esses dados novos em relação aos originais, quando tínhamos:\n",
        "* Antes:\n",
        " * 284.315 Transações Normais;\n",
        " * 492 Transações Fraudulentas.\n",
        "\n",
        "* Após o balanceamento:\n",
        " * 369 Transações Normais e Fraudulentas.\n",
        "\n",
        "Comparando em gráficos:\n",
        "\n"
      ]
    },
    {
      "cell_type": "code",
      "metadata": {
        "colab": {
          "base_uri": "https://localhost:8080/",
          "height": 725
        },
        "id": "lteXfNSgnUK3",
        "outputId": "061c96f4-37e2-48b1-b654-2d50c0d469e5"
      },
      "source": [
        "# Plotar os gráficos com as informações acima para comparação\n",
        "sns.set_theme()\n",
        "fig, ax = plt.subplots(nrows=1, ncols=2, figsize=(15,10))\n",
        "\n",
        "# Gráfico Antes do Balanceamento\n",
        "sns.countplot('Class', data=df_original, ax=ax[0])\n",
        "ax[0].set_title('Antes do Balanceamento')\n",
        "\n",
        "# Gráfico Depois do Balanceamento\n",
        "sns.countplot(Y_rus, ax=ax[1])\n",
        "ax[1].set_title('Depois do Balanceamento')\n",
        "plt.xticks([0,1],['Normal','Fraude']) # substituindo as legendas de classe 0 e 1 pelas transações\n",
        "\n",
        "plt.tight_layout();\n",
        "fig.savefig('comparacao_balanceamento')"
      ],
      "execution_count": null,
      "outputs": [
        {
          "output_type": "display_data",
          "data": {
            "application/javascript": [
              "\n",
              "        if (window._pyforest_update_imports_cell) { window._pyforest_update_imports_cell('from sklearn.model_selection import train_test_split\\nimport matplotlib.pyplot as plt\\nimport pandas as pd\\nfrom sklearn.preprocessing import StandardScaler\\nimport seaborn as sns'); }\n",
              "    "
            ],
            "text/plain": [
              "<IPython.core.display.Javascript object>"
            ]
          },
          "metadata": {
            "tags": []
          }
        },
        {
          "output_type": "display_data",
          "data": {
            "application/javascript": [
              "\n",
              "        if (window._pyforest_update_imports_cell) { window._pyforest_update_imports_cell('from sklearn.model_selection import train_test_split\\nimport matplotlib.pyplot as plt\\nimport pandas as pd\\nfrom sklearn.preprocessing import StandardScaler\\nimport seaborn as sns'); }\n",
              "    "
            ],
            "text/plain": [
              "<IPython.core.display.Javascript object>"
            ]
          },
          "metadata": {
            "tags": []
          }
        },
        {
          "output_type": "display_data",
          "data": {
            "application/javascript": [
              "\n",
              "        if (window._pyforest_update_imports_cell) { window._pyforest_update_imports_cell('from sklearn.model_selection import train_test_split\\nimport matplotlib.pyplot as plt\\nimport pandas as pd\\nfrom sklearn.preprocessing import StandardScaler\\nimport seaborn as sns'); }\n",
              "    "
            ],
            "text/plain": [
              "<IPython.core.display.Javascript object>"
            ]
          },
          "metadata": {
            "tags": []
          }
        },
        {
          "output_type": "display_data",
          "data": {
            "application/javascript": [
              "\n",
              "        if (window._pyforest_update_imports_cell) { window._pyforest_update_imports_cell('from sklearn.model_selection import train_test_split\\nimport matplotlib.pyplot as plt\\nimport pandas as pd\\nfrom sklearn.preprocessing import StandardScaler\\nimport seaborn as sns'); }\n",
              "    "
            ],
            "text/plain": [
              "<IPython.core.display.Javascript object>"
            ]
          },
          "metadata": {
            "tags": []
          }
        },
        {
          "output_type": "display_data",
          "data": {
            "application/javascript": [
              "\n",
              "        if (window._pyforest_update_imports_cell) { window._pyforest_update_imports_cell('from sklearn.model_selection import train_test_split\\nimport matplotlib.pyplot as plt\\nimport pandas as pd\\nfrom sklearn.preprocessing import StandardScaler\\nimport seaborn as sns'); }\n",
              "    "
            ],
            "text/plain": [
              "<IPython.core.display.Javascript object>"
            ]
          },
          "metadata": {
            "tags": []
          }
        },
        {
          "output_type": "display_data",
          "data": {
            "application/javascript": [
              "\n",
              "        if (window._pyforest_update_imports_cell) { window._pyforest_update_imports_cell('from sklearn.model_selection import train_test_split\\nimport matplotlib.pyplot as plt\\nimport pandas as pd\\nfrom sklearn.preprocessing import StandardScaler\\nimport seaborn as sns'); }\n",
              "    "
            ],
            "text/plain": [
              "<IPython.core.display.Javascript object>"
            ]
          },
          "metadata": {
            "tags": []
          }
        },
        {
          "output_type": "display_data",
          "data": {
            "image/png": "[encoded data removed]",
            "text/plain": [
              "<Figure size 1080x720 with 2 Axes>"
            ]
          },
          "metadata": {
            "tags": []
          }
        }
      ]
    },
    {
      "cell_type": "markdown",
      "metadata": {
        "id": "1pccv0SdpcnS"
      },
      "source": [
        "Comparando os gráficos acima, vemos a grande diferença que foi feita nos dados, onde antes não era possível ver absolutamente nada em fraudes devido à proporção discrepante."
      ]
    },
    {
      "cell_type": "markdown",
      "metadata": {
        "id": "WjmkDsXtT1QG"
      },
      "source": [
        "### Plotar Matriz de Correlação\n",
        "\n",
        "Agora que os dados foram balanceados, podemos plotar uma matriz de correlação e observar quais variáveis estão mais relacionadas umas com as outras."
      ]
    },
    {
      "cell_type": "code",
      "metadata": {
        "colab": {
          "base_uri": "https://localhost:8080/",
          "height": 721
        },
        "id": "2jiuoezuqytt",
        "outputId": "c2f6b823-4873-41f9-afe5-2f2174d78499"
      },
      "source": [
        "# Plotando a matriz de correlação\n",
        "corr = X_train.corr() # X_train desbalanceado\n",
        "corr_rus = pd.DataFrame(X_rus).corr() # X_train balanceado\n",
        "\n",
        "sns.set_theme()\n",
        "fig, ax = plt.subplots(nrows=1, ncols=2, figsize=(15,10))\n",
        "fig.suptitle('Matriz de Correlação')\n",
        "\n",
        "# Heatmap Desbalanceado\n",
        "sns.heatmap(corr, xticklabels=corr.columns, yticklabels=corr.columns, linewidths=0.1, cmap='coolwarm', ax=ax[0])\n",
        "ax[0].set_title('Desbalanceado')\n",
        "\n",
        "# Heatmap Balanceado\n",
        "sns.heatmap(corr_rus, xticklabels=corr.columns, yticklabels=corr.columns, linewidths=0.1, cmap='coolwarm', ax=ax[1])\n",
        "ax[1].set_title('Balanceado')\n",
        "\n",
        "plt.show();\n",
        "fig.savefig('matriz_correlacao')"
      ],
      "execution_count": null,
      "outputs": [
        {
          "output_type": "display_data",
          "data": {
            "application/javascript": [
              "\n",
              "        if (window._pyforest_update_imports_cell) { window._pyforest_update_imports_cell('from sklearn.model_selection import train_test_split\\nimport matplotlib.pyplot as plt\\nimport pandas as pd\\nfrom sklearn.preprocessing import StandardScaler\\nimport seaborn as sns'); }\n",
              "    "
            ],
            "text/plain": [
              "<IPython.core.display.Javascript object>"
            ]
          },
          "metadata": {
            "tags": []
          }
        },
        {
          "output_type": "display_data",
          "data": {
            "application/javascript": [
              "\n",
              "        if (window._pyforest_update_imports_cell) { window._pyforest_update_imports_cell('from sklearn.model_selection import train_test_split\\nimport matplotlib.pyplot as plt\\nimport pandas as pd\\nfrom sklearn.preprocessing import StandardScaler\\nimport seaborn as sns'); }\n",
              "    "
            ],
            "text/plain": [
              "<IPython.core.display.Javascript object>"
            ]
          },
          "metadata": {
            "tags": []
          }
        },
        {
          "output_type": "display_data",
          "data": {
            "application/javascript": [
              "\n",
              "        if (window._pyforest_update_imports_cell) { window._pyforest_update_imports_cell('from sklearn.model_selection import train_test_split\\nimport matplotlib.pyplot as plt\\nimport pandas as pd\\nfrom sklearn.preprocessing import StandardScaler\\nimport seaborn as sns'); }\n",
              "    "
            ],
            "text/plain": [
              "<IPython.core.display.Javascript object>"
            ]
          },
          "metadata": {
            "tags": []
          }
        },
        {
          "output_type": "display_data",
          "data": {
            "application/javascript": [
              "\n",
              "        if (window._pyforest_update_imports_cell) { window._pyforest_update_imports_cell('from sklearn.model_selection import train_test_split\\nimport matplotlib.pyplot as plt\\nimport pandas as pd\\nfrom sklearn.preprocessing import StandardScaler\\nimport seaborn as sns'); }\n",
              "    "
            ],
            "text/plain": [
              "<IPython.core.display.Javascript object>"
            ]
          },
          "metadata": {
            "tags": []
          }
        },
        {
          "output_type": "display_data",
          "data": {
            "application/javascript": [
              "\n",
              "        if (window._pyforest_update_imports_cell) { window._pyforest_update_imports_cell('from sklearn.model_selection import train_test_split\\nimport matplotlib.pyplot as plt\\nimport pandas as pd\\nfrom sklearn.preprocessing import StandardScaler\\nimport seaborn as sns'); }\n",
              "    "
            ],
            "text/plain": [
              "<IPython.core.display.Javascript object>"
            ]
          },
          "metadata": {
            "tags": []
          }
        },
        {
          "output_type": "display_data",
          "data": {
            "application/javascript": [
              "\n",
              "        if (window._pyforest_update_imports_cell) { window._pyforest_update_imports_cell('from sklearn.model_selection import train_test_split\\nimport matplotlib.pyplot as plt\\nimport pandas as pd\\nfrom sklearn.preprocessing import StandardScaler\\nimport seaborn as sns'); }\n",
              "    "
            ],
            "text/plain": [
              "<IPython.core.display.Javascript object>"
            ]
          },
          "metadata": {
            "tags": []
          }
        },
        {
          "output_type": "display_data",
          "data": {
            "image/png": "[encoded data removed]",
            "text/plain": [
              "<Figure size 1080x720 with 4 Axes>"
            ]
          },
          "metadata": {
            "tags": []
          }
        }
      ]
    },
    {
      "cell_type": "markdown",
      "metadata": {
        "id": "XIU-5m2ruwkX"
      },
      "source": [
        "Analisando as matrizes acima, vemos a diferença que o balanceamento causou nas relações entre as variáveis, o que é benéfico para o modelo de Machine Learning que será desenvolvido agora."
      ]
    },
    {
      "cell_type": "markdown",
      "metadata": {
        "id": "a14gDQsRNnjT"
      },
      "source": [
        "## Escolhendo um Modelo de Machine Learning\n",
        "\n",
        "O nosso projeto se baseia em um problema de **classificação**, que é definir se uma transação **é ou não é** uma fraude. Dito isso, para resolvê-lo, devemos escolher um estimador de Machine Learning, que no caso, existem vários como: Regressão Logística, Árvore de Decisões, Máquina de Vetor de Suport, Naive Bayes, etc...\n",
        "\n",
        "Cada estimador tem suas vantagens e desvantagens, então cabe a nós decidir qual que se **adapta** melhor para resolver nosso problema.\n",
        "\n",
        "Quando vamos desenvolver um modelo de Machine Learning, sempre há uma preocupação com o **overfitting**, que é um problema em que o modelo não consegue **generalizar** novos dados, assim sendo excelente para o conjunto de treino mas horrível para um conjunto novo.\n",
        "\n",
        "Para evitar o *overfitting*, vamos utilizar o método da **Validação Cruzada** e evitar de usar nossos dados de teste em primeiro momento, assim não corremos o risco de treinar e testar nosso modelo em cima dos mesmos dados.\n",
        "\n",
        "Vamos testar os estimadores: Regressão Logística, Árvore de Decisão de Classificação, Máquina de Vetor de Suporte - especificamente C-Support Vector Classification, e Random Forest. "
      ]
    },
    {
      "cell_type": "code",
      "metadata": {
        "colab": {
          "base_uri": "https://localhost:8080/",
          "height": 381
        },
        "id": "3jI33XICVx59",
        "outputId": "fceb6f40-2d93-431f-fbed-64f011adadf9"
      },
      "source": [
        "# Definindo o seed\n",
        "np.random.seed(10)\n",
        "\n",
        "# Dividindo os dados de treino em 5 partes(folds)\n",
        "cv = StratifiedKFold(n_splits = 5, shuffle = True)\n",
        "\n",
        "# Estimadores de Machine Learning\n",
        "model_reg  = LogisticRegression() # Regressão Logística\n",
        "model_tree = tree.DecisionTreeClassifier(min_samples_leaf=34, random_state=10) # Árvore de Decisão de Classificação\n",
        "model_svc  = SVC() # Máquina de Vetor de Suporte (C-Support Vector Classification)\n",
        "model_rand = RandomForestClassifier(n_estimators=100) # Random Forest\n",
        "\n",
        "# Automatizando os testes\n",
        "modelos = [model_reg, model_tree, model_svc, model_rand]\n",
        "nomes = ['Regressão Logística','Árvore de Decisão','Máquina de Vetor de Suporte','Random Forest']\n",
        "\n",
        "contador = 0\n",
        "for i in modelos:\n",
        "  np.random.seed(10)\n",
        "  acuracia = cross_val_score(i, X_rus, Y_rus, cv=cv, scoring = 'accuracy')\n",
        "  media_acu = acuracia.mean()\n",
        "  desvio_acu = acuracia.std()\n",
        "  print('Acurácia média do Modelo {}: {:.4f}%'.format(nomes[contador], media_acu*100))\n",
        "  print('Intervalo de acurácia: {:.2f}% ~ {:.2f}%\\n'.format((media_acu - 2*desvio_acu)*100, (media_acu + 2*desvio_acu)*100))\n",
        "  print('-------------------------------------------------------\\n')\n",
        "  contador += 1"
      ],
      "execution_count": null,
      "outputs": [
        {
          "output_type": "display_data",
          "data": {
            "application/javascript": [
              "\n",
              "        if (window._pyforest_update_imports_cell) { window._pyforest_update_imports_cell('import numpy as np\\nfrom sklearn.model_selection import train_test_split\\nimport matplotlib.pyplot as plt\\nimport pandas as pd\\nfrom sklearn.preprocessing import StandardScaler\\nimport seaborn as sns'); }\n",
              "    "
            ],
            "text/plain": [
              "<IPython.core.display.Javascript object>"
            ]
          },
          "metadata": {
            "tags": []
          }
        },
        {
          "output_type": "display_data",
          "data": {
            "application/javascript": [
              "\n",
              "        if (window._pyforest_update_imports_cell) { window._pyforest_update_imports_cell('import numpy as np\\nfrom sklearn.linear_model import LogisticRegression\\nfrom sklearn.model_selection import train_test_split\\nimport matplotlib.pyplot as plt\\nimport pandas as pd\\nfrom sklearn.preprocessing import StandardScaler\\nimport seaborn as sns'); }\n",
              "    "
            ],
            "text/plain": [
              "<IPython.core.display.Javascript object>"
            ]
          },
          "metadata": {
            "tags": []
          }
        },
        {
          "output_type": "display_data",
          "data": {
            "application/javascript": [
              "\n",
              "        if (window._pyforest_update_imports_cell) { window._pyforest_update_imports_cell('import numpy as np\\nfrom sklearn.ensemble import RandomForestClassifier\\nfrom sklearn.linear_model import LogisticRegression\\nfrom sklearn.model_selection import train_test_split\\nimport matplotlib.pyplot as plt\\nimport pandas as pd\\nfrom sklearn.preprocessing import StandardScaler\\nimport seaborn as sns'); }\n",
              "    "
            ],
            "text/plain": [
              "<IPython.core.display.Javascript object>"
            ]
          },
          "metadata": {
            "tags": []
          }
        },
        {
          "output_type": "display_data",
          "data": {
            "application/javascript": [
              "\n",
              "        if (window._pyforest_update_imports_cell) { window._pyforest_update_imports_cell('import numpy as np\\nfrom sklearn.ensemble import RandomForestClassifier\\nfrom sklearn.linear_model import LogisticRegression\\nfrom sklearn.model_selection import train_test_split\\nimport matplotlib.pyplot as plt\\nimport pandas as pd\\nfrom sklearn.preprocessing import StandardScaler\\nimport seaborn as sns'); }\n",
              "    "
            ],
            "text/plain": [
              "<IPython.core.display.Javascript object>"
            ]
          },
          "metadata": {
            "tags": []
          }
        },
        {
          "output_type": "stream",
          "text": [
            "Acurácia média do Modelo Regressão Logística: 94.3050%\n",
            "Intervalo de acurácia: 90.39% ~ 98.22%\n",
            "\n",
            "-------------------------------------------------------\n",
            "\n"
          ],
          "name": "stdout"
        },
        {
          "output_type": "display_data",
          "data": {
            "application/javascript": [
              "\n",
              "        if (window._pyforest_update_imports_cell) { window._pyforest_update_imports_cell('import numpy as np\\nfrom sklearn.ensemble import RandomForestClassifier\\nfrom sklearn.linear_model import LogisticRegression\\nfrom sklearn.model_selection import train_test_split\\nimport matplotlib.pyplot as plt\\nimport pandas as pd\\nfrom sklearn.preprocessing import StandardScaler\\nimport seaborn as sns'); }\n",
              "    "
            ],
            "text/plain": [
              "<IPython.core.display.Javascript object>"
            ]
          },
          "metadata": {
            "tags": []
          }
        },
        {
          "output_type": "stream",
          "text": [
            "Acurácia média do Modelo Árvore de Decisão: 90.5130%\n",
            "Intervalo de acurácia: 85.56% ~ 95.46%\n",
            "\n",
            "-------------------------------------------------------\n",
            "\n"
          ],
          "name": "stdout"
        },
        {
          "output_type": "display_data",
          "data": {
            "application/javascript": [
              "\n",
              "        if (window._pyforest_update_imports_cell) { window._pyforest_update_imports_cell('import numpy as np\\nfrom sklearn.ensemble import RandomForestClassifier\\nfrom sklearn.linear_model import LogisticRegression\\nfrom sklearn.model_selection import train_test_split\\nimport matplotlib.pyplot as plt\\nimport pandas as pd\\nfrom sklearn.preprocessing import StandardScaler\\nimport seaborn as sns'); }\n",
              "    "
            ],
            "text/plain": [
              "<IPython.core.display.Javascript object>"
            ]
          },
          "metadata": {
            "tags": []
          }
        },
        {
          "output_type": "stream",
          "text": [
            "Acurácia média do Modelo Máquina de Vetor de Suporte: 93.6312%\n",
            "Intervalo de acurácia: 92.96% ~ 94.30%\n",
            "\n",
            "-------------------------------------------------------\n",
            "\n"
          ],
          "name": "stdout"
        },
        {
          "output_type": "display_data",
          "data": {
            "application/javascript": [
              "\n",
              "        if (window._pyforest_update_imports_cell) { window._pyforest_update_imports_cell('import numpy as np\\nfrom sklearn.ensemble import RandomForestClassifier\\nfrom sklearn.linear_model import LogisticRegression\\nfrom sklearn.model_selection import train_test_split\\nimport matplotlib.pyplot as plt\\nimport pandas as pd\\nfrom sklearn.preprocessing import StandardScaler\\nimport seaborn as sns'); }\n",
              "    "
            ],
            "text/plain": [
              "<IPython.core.display.Javascript object>"
            ]
          },
          "metadata": {
            "tags": []
          }
        },
        {
          "output_type": "stream",
          "text": [
            "Acurácia média do Modelo Random Forest: 93.3591%\n",
            "Intervalo de acurácia: 90.72% ~ 96.00%\n",
            "\n",
            "-------------------------------------------------------\n",
            "\n"
          ],
          "name": "stdout"
        }
      ]
    },
    {
      "cell_type": "markdown",
      "metadata": {
        "id": "YQl3GtyYowwy"
      },
      "source": [
        "Os modelos nos forneceram as seguintes acurácias:\n",
        "\n",
        "* Modelo de Regressão Logística:\n",
        " * Acurácia média do modelo: 93.6266%\n",
        " * Intervalo de acurácia: 90.54% ~ 96.71%\n",
        "\n",
        "* Modelo de Árvore de Decisão:\n",
        " * Acurácia média do modelo: 91.1877%\n",
        " * Intervalo de acurácia: 86.54% ~ 95.84%\n",
        "\n",
        "* Modelo de Máquina de Vetor de Suporte:\n",
        " * Acurácia média do modelo: 91.8652%\n",
        " * Intervalo de acurácia: 87.89% ~ 95.84%\n",
        "\n",
        "* Modelo de Random Forest:\n",
        " * Acurácia média do modelo: 93.4933%\n",
        " * Intervalo de acurácia: 90.81% ~ 96.18%\n",
        "\n",
        "É importante ressaltar que a métrica `accuracy`, sozinha, não é eficiente para **avaliar** um modelo, assim sendo necessário observar **outras métricas** para complementar seu direcionamento na escolha do modelo. Entretanto como nosso **conjunto de dados está balanceado**, a acurácia se torna uma boa medida de avaliação, sendo assim vamos usar o modelo de Regressão Logística, que obteve melhor resultado.\n",
        "\n",
        "Como foi dito, existem outras métricas que são importantes para avaliar um modelo, e é bastante importante para o modo que queremos tratar nosso problema, que são as métricas `precision` e `recall`.\n",
        "\n",
        "Com o Modelo de Regressão Logística em mente, vamos plotar a Matriz de Confusão para visualizarmos os acertos e o Relatório de Classificação para analisarmos as métricas ditas acima:\n",
        "\n",
        "\n"
      ]
    },
    {
      "cell_type": "code",
      "metadata": {
        "colab": {
          "base_uri": "https://localhost:8080/",
          "height": 475
        },
        "id": "HC6oAx0Z7lLW",
        "outputId": "39cc7ee7-a436-43d0-8747-e808117e5eed"
      },
      "source": [
        "# Definindo o seed\n",
        "np.random.seed(17)\n",
        "\n",
        "# Definindo o modelo\n",
        "modelo = LogisticRegression(solver='liblinear')\n",
        "\n",
        "# Previsões do modelo\n",
        "y_pred = cross_val_predict(modelo, X_rus, Y_rus, cv = cv)\n",
        "\n",
        "# Matriz de Correlação\n",
        "fig, ax = plt.subplots()\n",
        "\n",
        "sns.heatmap(confusion_matrix(Y_rus, y_pred), annot=True, ax=ax, fmt='d', cmap='Reds')\n",
        "ax.set_title(\"Matriz de Confusão\")\n",
        "ax.set_ylabel(\"True label\")\n",
        "ax.set_xlabel(\"Predicted Label\")\n",
        "\n",
        "plt.tight_layout()\n",
        "fig.savefig('matriz_confusao1')\n",
        "\n",
        "# Relatório de Classificação\n",
        "print('Relatório de classificação:\\n', classification_report(Y_rus, y_pred, digits=4))"
      ],
      "execution_count": null,
      "outputs": [
        {
          "output_type": "display_data",
          "data": {
            "application/javascript": [
              "\n",
              "        if (window._pyforest_update_imports_cell) { window._pyforest_update_imports_cell('import numpy as np\\nfrom sklearn.ensemble import RandomForestClassifier\\nfrom sklearn.linear_model import LogisticRegression\\nfrom sklearn.model_selection import train_test_split\\nimport matplotlib.pyplot as plt\\nimport pandas as pd\\nfrom sklearn.preprocessing import StandardScaler\\nimport seaborn as sns'); }\n",
              "    "
            ],
            "text/plain": [
              "<IPython.core.display.Javascript object>"
            ]
          },
          "metadata": {
            "tags": []
          }
        },
        {
          "output_type": "display_data",
          "data": {
            "application/javascript": [
              "\n",
              "        if (window._pyforest_update_imports_cell) { window._pyforest_update_imports_cell('import numpy as np\\nfrom sklearn.ensemble import RandomForestClassifier\\nfrom sklearn.linear_model import LogisticRegression\\nfrom sklearn.model_selection import train_test_split\\nimport matplotlib.pyplot as plt\\nimport pandas as pd\\nfrom sklearn.preprocessing import StandardScaler\\nimport seaborn as sns'); }\n",
              "    "
            ],
            "text/plain": [
              "<IPython.core.display.Javascript object>"
            ]
          },
          "metadata": {
            "tags": []
          }
        },
        {
          "output_type": "display_data",
          "data": {
            "application/javascript": [
              "\n",
              "        if (window._pyforest_update_imports_cell) { window._pyforest_update_imports_cell('import numpy as np\\nfrom sklearn.ensemble import RandomForestClassifier\\nfrom sklearn.linear_model import LogisticRegression\\nfrom sklearn.model_selection import train_test_split\\nimport matplotlib.pyplot as plt\\nimport pandas as pd\\nfrom sklearn.preprocessing import StandardScaler\\nimport seaborn as sns'); }\n",
              "    "
            ],
            "text/plain": [
              "<IPython.core.display.Javascript object>"
            ]
          },
          "metadata": {
            "tags": []
          }
        },
        {
          "output_type": "display_data",
          "data": {
            "application/javascript": [
              "\n",
              "        if (window._pyforest_update_imports_cell) { window._pyforest_update_imports_cell('import numpy as np\\nfrom sklearn.ensemble import RandomForestClassifier\\nfrom sklearn.linear_model import LogisticRegression\\nfrom sklearn.model_selection import train_test_split\\nimport matplotlib.pyplot as plt\\nimport pandas as pd\\nfrom sklearn.preprocessing import StandardScaler\\nimport seaborn as sns'); }\n",
              "    "
            ],
            "text/plain": [
              "<IPython.core.display.Javascript object>"
            ]
          },
          "metadata": {
            "tags": []
          }
        },
        {
          "output_type": "display_data",
          "data": {
            "application/javascript": [
              "\n",
              "        if (window._pyforest_update_imports_cell) { window._pyforest_update_imports_cell('import numpy as np\\nfrom sklearn.ensemble import RandomForestClassifier\\nfrom sklearn.linear_model import LogisticRegression\\nfrom sklearn.model_selection import train_test_split\\nimport matplotlib.pyplot as plt\\nimport pandas as pd\\nfrom sklearn.preprocessing import StandardScaler\\nimport seaborn as sns'); }\n",
              "    "
            ],
            "text/plain": [
              "<IPython.core.display.Javascript object>"
            ]
          },
          "metadata": {
            "tags": []
          }
        },
        {
          "output_type": "stream",
          "text": [
            "Relatório de classificação:\n",
            "               precision    recall  f1-score   support\n",
            "\n",
            "           0     0.9177    0.9675    0.9420       369\n",
            "           1     0.9656    0.9133    0.9387       369\n",
            "\n",
            "    accuracy                         0.9404       738\n",
            "   macro avg     0.9417    0.9404    0.9403       738\n",
            "weighted avg     0.9417    0.9404    0.9403       738\n",
            "\n"
          ],
          "name": "stdout"
        },
        {
          "output_type": "display_data",
          "data": {
            "image/png": "[encoded data removed]",
            "text/plain": [
              "<Figure size 432x288 with 2 Axes>"
            ]
          },
          "metadata": {
            "tags": []
          }
        }
      ]
    },
    {
      "cell_type": "markdown",
      "metadata": {
        "id": "5TCuDKpywPYC"
      },
      "source": [
        "Analisando as informações acima, temos que para a classe alvo, o modelo obteve 94% de precisão e 90% de recall, mas o que isso quer dizer? \n",
        "\n",
        "Antes de responder a essa pergunta, precisamos entender o que engloba nosso problema.\n",
        "\n",
        "### Entendendo nosso Problema\n",
        "\n",
        "Para definir um bom modelo de Machine Learning, temos que **entender nosso problema e as dores que ele causa**.\n",
        "\n",
        "Como dito no início do projeto, as fraudes causam grandes prejuízos tanto para as instituições financeiras quanto para os clientes.\n",
        "\n",
        "Quem já passou ou conhece alguém que teve seu cartão fraudado, sabe o **desgaste físico e psicológico** vivido durante aquele período. Também há aqueles que durante um pagamento teve seu cartão recusado, o que causou **constrangimento e medo** de algo ter acontecido, mas no fim acaba que foi apenas um alarme falso, estas são dores reais que o problema com as transações fraudulentas causam.\n",
        "\n",
        "Essas duas situações são **negativas** para as instituições financeiras, afinal além do **prejuízo financeiro** para o primeiro caso, há a **perda da confiança do cliente** com a instituição em ambas, o que pode acarretar na perda deste para a instituição.\n",
        "\n",
        "Nestes dois exemplos podemos ver as dores causadas pelo problema de fraude, e para nosso modelo eles são retratados nas métricas `precision` e `recall`.\n",
        "\n",
        "Respondendo a pergunta sobre o que essas métricas querem dizer, vamos nos atentar a este exemplo:\n",
        "\n",
        "Um modelo obteve em média 90% de precisão e 80% de recall, quando ele é implementado por uma instituição, ele prevê que 100 transações são fraudulentas. De acordo com as métricas obtidas, pela precisão, destas 100 transações fraudulentas, 10 são normais e o modelo falhou em classificá-las. Pelo recall, de 100 transações fraudulentas, 20 serão consideradas normais.\n",
        "\n",
        "Essas duas métricas funcionam **semelhante a uma balança**, ou seja, se temos uma precisão alta, nosso recall será baixo, ou vice-versa. Então sempre devemos **analisar e pesar as consequências** que os falsos positivos e negativos vão causar e definir qual métrica se adequa melhor para solucionar o problema.\n",
        "\n",
        "Situando com as dores descritas, qual seria **mais prejudicial** para o cliente: passar por constrangimento momentâneo ou ter um prejuízo financeiro surpresa no fim do mês?\n",
        "\n",
        "Para **nosso problema em específico**, ter mais acertos em relação às transações fraudulentas é melhor do que ter mais compras bloqueadas por engano, ou seja, é mais conveniente ter um `recall` maior.\n",
        "\n",
        "### Precisão x Recall \n",
        "\n",
        "Como foi dito, a relação entre precisão x recall é semelhante a uma balança, se aumentarmos um, diminuímos o outro. É importante lembrar que a situação dos **falsos positivos e negativos são ambas negativas** para as instituições, então simplesmente ter um modelo com **recall altíssimo vai gerar outro problema**, uma grande quantidade de transações bloqueadas, acusadas como fraudes de forma errada. Assim, mesmo buscando um bom recall para nosso modelo, devemos tentar **nivelar** com a precisão.\n",
        "\n",
        "Para encontrar as melhores métricas para nosso modelo, vamos plotar o gráfico da relação destas para cada valor de decisão(threshold) que ele calcula:\n",
        "\n"
      ]
    },
    {
      "cell_type": "code",
      "metadata": {
        "colab": {
          "base_uri": "https://localhost:8080/",
          "height": 221
        },
        "id": "8_0tg-Y25sfN",
        "outputId": "62e7e614-f09a-4ff4-be95-71e69108b17f"
      },
      "source": [
        "# Determinando as scores para as funções de decisão\n",
        "y_scores = cross_val_predict(modelo, X_rus, Y_rus, cv=cv, method='decision_function')\n",
        "\n",
        "# Separando as scores\n",
        "precisions, recalls, thresholds = precision_recall_curve(Y_rus, y_scores)\n",
        "\n",
        "# Plotando o gráfico de relação entre precisão e recall\n",
        "fig, ax = plt.subplots(figsize=(12,3))\n",
        "\n",
        "plt.plot(thresholds, precisions[:-1], 'b--', label = 'Precisão')\n",
        "plt.plot(thresholds, recalls[:-1], 'g-', label = 'Recall')\n",
        "plt.xlabel('Threshold')\n",
        "plt.legend(loc = 'center right')\n",
        "plt.ylim([0,1.1])\n",
        "plt.title('Precisão x Recall')\n",
        "plt.tight_layout();\n",
        "fig.savefig('precisao_x_recall')"
      ],
      "execution_count": null,
      "outputs": [
        {
          "output_type": "display_data",
          "data": {
            "application/javascript": [
              "\n",
              "        if (window._pyforest_update_imports_cell) { window._pyforest_update_imports_cell('import numpy as np\\nfrom sklearn.ensemble import RandomForestClassifier\\nfrom sklearn.linear_model import LogisticRegression\\nfrom sklearn.model_selection import train_test_split\\nimport matplotlib.pyplot as plt\\nimport pandas as pd\\nfrom sklearn.preprocessing import StandardScaler\\nimport seaborn as sns'); }\n",
              "    "
            ],
            "text/plain": [
              "<IPython.core.display.Javascript object>"
            ]
          },
          "metadata": {
            "tags": []
          }
        },
        {
          "output_type": "display_data",
          "data": {
            "application/javascript": [
              "\n",
              "        if (window._pyforest_update_imports_cell) { window._pyforest_update_imports_cell('import numpy as np\\nfrom sklearn.ensemble import RandomForestClassifier\\nfrom sklearn.linear_model import LogisticRegression\\nfrom sklearn.model_selection import train_test_split\\nimport matplotlib.pyplot as plt\\nimport pandas as pd\\nfrom sklearn.preprocessing import StandardScaler\\nimport seaborn as sns'); }\n",
              "    "
            ],
            "text/plain": [
              "<IPython.core.display.Javascript object>"
            ]
          },
          "metadata": {
            "tags": []
          }
        },
        {
          "output_type": "display_data",
          "data": {
            "application/javascript": [
              "\n",
              "        if (window._pyforest_update_imports_cell) { window._pyforest_update_imports_cell('import numpy as np\\nfrom sklearn.ensemble import RandomForestClassifier\\nfrom sklearn.linear_model import LogisticRegression\\nfrom sklearn.model_selection import train_test_split\\nimport matplotlib.pyplot as plt\\nimport pandas as pd\\nfrom sklearn.preprocessing import StandardScaler\\nimport seaborn as sns'); }\n",
              "    "
            ],
            "text/plain": [
              "<IPython.core.display.Javascript object>"
            ]
          },
          "metadata": {
            "tags": []
          }
        },
        {
          "output_type": "display_data",
          "data": {
            "application/javascript": [
              "\n",
              "        if (window._pyforest_update_imports_cell) { window._pyforest_update_imports_cell('import numpy as np\\nfrom sklearn.ensemble import RandomForestClassifier\\nfrom sklearn.linear_model import LogisticRegression\\nfrom sklearn.model_selection import train_test_split\\nimport matplotlib.pyplot as plt\\nimport pandas as pd\\nfrom sklearn.preprocessing import StandardScaler\\nimport seaborn as sns'); }\n",
              "    "
            ],
            "text/plain": [
              "<IPython.core.display.Javascript object>"
            ]
          },
          "metadata": {
            "tags": []
          }
        },
        {
          "output_type": "display_data",
          "data": {
            "application/javascript": [
              "\n",
              "        if (window._pyforest_update_imports_cell) { window._pyforest_update_imports_cell('import numpy as np\\nfrom sklearn.ensemble import RandomForestClassifier\\nfrom sklearn.linear_model import LogisticRegression\\nfrom sklearn.model_selection import train_test_split\\nimport matplotlib.pyplot as plt\\nimport pandas as pd\\nfrom sklearn.preprocessing import StandardScaler\\nimport seaborn as sns'); }\n",
              "    "
            ],
            "text/plain": [
              "<IPython.core.display.Javascript object>"
            ]
          },
          "metadata": {
            "tags": []
          }
        },
        {
          "output_type": "display_data",
          "data": {
            "application/javascript": [
              "\n",
              "        if (window._pyforest_update_imports_cell) { window._pyforest_update_imports_cell('import numpy as np\\nfrom sklearn.ensemble import RandomForestClassifier\\nfrom sklearn.linear_model import LogisticRegression\\nfrom sklearn.model_selection import train_test_split\\nimport matplotlib.pyplot as plt\\nimport pandas as pd\\nfrom sklearn.preprocessing import StandardScaler\\nimport seaborn as sns'); }\n",
              "    "
            ],
            "text/plain": [
              "<IPython.core.display.Javascript object>"
            ]
          },
          "metadata": {
            "tags": []
          }
        },
        {
          "output_type": "display_data",
          "data": {
            "application/javascript": [
              "\n",
              "        if (window._pyforest_update_imports_cell) { window._pyforest_update_imports_cell('import numpy as np\\nfrom sklearn.ensemble import RandomForestClassifier\\nfrom sklearn.linear_model import LogisticRegression\\nfrom sklearn.model_selection import train_test_split\\nimport matplotlib.pyplot as plt\\nimport pandas as pd\\nfrom sklearn.preprocessing import StandardScaler\\nimport seaborn as sns'); }\n",
              "    "
            ],
            "text/plain": [
              "<IPython.core.display.Javascript object>"
            ]
          },
          "metadata": {
            "tags": []
          }
        },
        {
          "output_type": "display_data",
          "data": {
            "application/javascript": [
              "\n",
              "        if (window._pyforest_update_imports_cell) { window._pyforest_update_imports_cell('import numpy as np\\nfrom sklearn.ensemble import RandomForestClassifier\\nfrom sklearn.linear_model import LogisticRegression\\nfrom sklearn.model_selection import train_test_split\\nimport matplotlib.pyplot as plt\\nimport pandas as pd\\nfrom sklearn.preprocessing import StandardScaler\\nimport seaborn as sns'); }\n",
              "    "
            ],
            "text/plain": [
              "<IPython.core.display.Javascript object>"
            ]
          },
          "metadata": {
            "tags": []
          }
        },
        {
          "output_type": "display_data",
          "data": {
            "image/png": "[encoded data removed]",
            "text/plain": [
              "<Figure size 864x216 with 1 Axes>"
            ]
          },
          "metadata": {
            "tags": []
          }
        }
      ]
    },
    {
      "cell_type": "markdown",
      "metadata": {
        "id": "oJKzgTBSz56E"
      },
      "source": [
        "O gráfico **comprova o trade-off** entre precisão e recall, e nos mostra os valores das métricas para cada threshold, o que facilita nossa busca pelas métricas adequadas.\n",
        "\n",
        "Olhando esse gráfico, podemos perceber um ponto de interseção interessante para nosso caso, em que as duas métricas se encontram acima de 90% por volta do threshold -1.\n",
        "\n",
        "Vamos checar essas métricas entre os valores de thresholds -3 e -1:"
      ]
    },
    {
      "cell_type": "code",
      "metadata": {
        "id": "IC0E6uFHz7cs",
        "colab": {
          "base_uri": "https://localhost:8080/"
        },
        "outputId": "bbabfbaf-136e-44d1-e042-94d2fcbf9e47"
      },
      "source": [
        "# Definindo os scores para os thresholds\n",
        "y_train_pred_recall = (y_scores > -3)\n",
        "\n",
        "print('Precisão para -3: {:.4f}'.format(precision_score(Y_rus, y_train_pred_recall)))\n",
        "print('Recall para -3: {:.4f}'.format(recall_score(Y_rus, y_train_pred_recall)))"
      ],
      "execution_count": null,
      "outputs": [
        {
          "output_type": "stream",
          "text": [
            "Precisão para -3: 0.7123\n",
            "Recall para -3: 0.9864\n"
          ],
          "name": "stdout"
        }
      ]
    },
    {
      "cell_type": "code",
      "metadata": {
        "colab": {
          "base_uri": "https://localhost:8080/"
        },
        "id": "mtS-NERe1yay",
        "outputId": "0cdc5554-8aaf-4ae4-fe86-ef15fe509af4"
      },
      "source": [
        "# Definindo os scores para os thresholds\n",
        "y_train_pred_recall = (y_scores > -2)\n",
        "\n",
        "print('Precisão para -2: {:.4f}'.format(precision_score(Y_rus, y_train_pred_recall)))\n",
        "print('Recall para -2: {:.4f}'.format(recall_score(Y_rus, y_train_pred_recall)))"
      ],
      "execution_count": null,
      "outputs": [
        {
          "output_type": "stream",
          "text": [
            "Precisão para -2: 0.8606\n",
            "Recall para -2: 0.9702\n"
          ],
          "name": "stdout"
        }
      ]
    },
    {
      "cell_type": "code",
      "metadata": {
        "colab": {
          "base_uri": "https://localhost:8080/"
        },
        "id": "zet4CRt010LT",
        "outputId": "517154ad-e09c-456d-c511-e4b55e3ce649"
      },
      "source": [
        "# Definindo os scores para os thresholds\n",
        "y_train_pred_recall = (y_scores > -1)\n",
        "\n",
        "print('Precisão para -1: {:.4f}'.format(precision_score(Y_rus, y_train_pred_recall)))\n",
        "print('Recall para -1: {:.4f}'.format(recall_score(Y_rus, y_train_pred_recall)))"
      ],
      "execution_count": null,
      "outputs": [
        {
          "output_type": "stream",
          "text": [
            "Precisão para -1: 0.9229\n",
            "Recall para -1: 0.9404\n"
          ],
          "name": "stdout"
        }
      ]
    },
    {
      "cell_type": "markdown",
      "metadata": {
        "id": "C9quIhXL4mly"
      },
      "source": [
        "Então obtivemos entre -3 e -1:\n",
        "* Para o threshold -3:\n",
        " * Precisão: 67,9%\n",
        " * Recall: 98,6%\n",
        "* Para o threshold -2:\n",
        " * Precisão: 81,2%\n",
        " * Recall: 96,2%\n",
        "* Para o threshold -1:\n",
        " * Precisão: 91,9%\n",
        " * Recall: 92,9%\n",
        "\n",
        "Para o threshold -1, ambas as métricas estão acima de 90% como o esperado, porém como queremos uma taxa de recall alta para nosso modelo, os threshols -3 e -2 apresentaram uma melhora significante, e levando em consideração que um **recall alto pode resolver um lado do problema** e uma **precisão baixa pode acentuar o outro**, vamos optar pelo threshold -2.\n",
        "\n",
        "Agora que temos um recall de 96% e precisão de 81%, **podemos considerar nosso modelo como bom**? Ainda não é possível responder a essa pergunta, pois para **avaliar a qualidade de algo**, precisamos de um **comparativo**, que no nosso caso seria outro modelo de Machine Learning.\n",
        "\n",
        "### Comparando o modelo escolhido\n",
        "\n",
        "Anteriormente com a métrica `accuracy`, conseguimos estabelecer um certo desempenho para cada modelo, então vamos usar o segundo melhor nessa medida, que foi Random Forest, para ser nosso comparador.\n",
        "\n",
        "Para comparação de modelos de Mechine Learning, temos uma ferramenta bastante comum que é a **Curva ROC** (Curva das Características Operacionais do Receptor - Receiver Operating Characteristic), que nos mostra a relação entre a **taxa de verdadeiros positivos** (TPR - sigla em inglês) e a **taxa de falsos positivos** (FPR - sigla em inglês).\n",
        "\n",
        "A métrica que usaremos para decidir a qualidade dos modelos será a **área sob a curva ROC** (AUC - sigla em inglês), que quanto mais perto do valor 1, **melhor** é o modelo.\n",
        "\n",
        "Vamos então calcular essa métrica `AUC` para nosso modelo de Regressão Logística e então para o Random Forest:"
      ]
    },
    {
      "cell_type": "code",
      "metadata": {
        "id": "EwayEDc7-gxe",
        "colab": {
          "base_uri": "https://localhost:8080/"
        },
        "outputId": "12c01c5e-52a7-4cf0-de99-c2c8cb4e00b7"
      },
      "source": [
        "# Como já temos os scores para Regressão Logística\n",
        "print('AUC - Regressão Logística: {:.4f}'.format(roc_auc_score(Y_rus, y_scores)))\n",
        "\n",
        "# Para o modelo Random Forest precisamos calcular os scores\n",
        "y_prob_forest = cross_val_predict(model_rand, X_rus, Y_rus, cv=cv, method='predict_proba')\n",
        "y_scores_forest = y_prob_forest[:,1]\n",
        "\n",
        "print('AUC - Random Forest: {:.4f}'.format(roc_auc_score(Y_rus, y_scores_forest)))"
      ],
      "execution_count": null,
      "outputs": [
        {
          "output_type": "stream",
          "text": [
            "AUC - Regressão Logística: 0.9805\n",
            "AUC - Random Forest: 0.9796\n"
          ],
          "name": "stdout"
        }
      ]
    },
    {
      "cell_type": "markdown",
      "metadata": {
        "id": "8MmjIuAUDnoD"
      },
      "source": [
        "Interessante notar que os dois modelos se aproximaram bastante, mas o nosso modelo de Regressão Logística se saiu um pouco melhor.\n",
        "\n",
        "### Testando o Modelo\n",
        "\n",
        "Agora que comparamos os modelos e chegamos à conclusão de que o nosso de Regressão Logística foi **superior** aos outros, vamos ver como ele se sai com **novos dados**, que será o conjunto de teste separado pela validação cruzada e que evitamos usar durante a **avaliação do modelo**.\n",
        "\n",
        "É importante lembrar que escolhemos o threshold de valor -2 para nossas métricas, mas antes vamos testar o modelo para o threshold padrão, que é zero:\n"
      ]
    },
    {
      "cell_type": "code",
      "metadata": {
        "colab": {
          "base_uri": "https://localhost:8080/",
          "height": 523
        },
        "id": "sI9lh7_KKF4F",
        "outputId": "9e71ab90-250e-4e55-d9e4-0c65ef806587"
      },
      "source": [
        "# Definindo seed fixo\n",
        "np.random.seed(40)\n",
        "\n",
        "# Definindo o modelo final\n",
        "modelo_final = LogisticRegression(solver='liblinear')\n",
        "modelo_final.fit(X_rus, Y_rus)\n",
        "\n",
        "# Previsões\n",
        "y_pred_final = modelo_final.predict(X_test)\n",
        "\n",
        "# Relatório de classificação\n",
        "print(\"Relatório de Classificação:\\n\", classification_report(Y_test, y_pred_final, digits=4))\n",
        "\n",
        "# Plotar a matriz de confusão\n",
        "skplt.metrics.plot_confusion_matrix(Y_test, y_pred_final, normalize=True);\n",
        "plt.savefig('matriz_confusao2')\n",
        "\n",
        "# Área sob a curva(AUC)\n",
        "print('AUC: {:.4f}\\n'.format(roc_auc_score(Y_test, y_pred_final)))\n"
      ],
      "execution_count": null,
      "outputs": [
        {
          "output_type": "display_data",
          "data": {
            "application/javascript": [
              "\n",
              "        if (window._pyforest_update_imports_cell) { window._pyforest_update_imports_cell('import numpy as np\\nfrom sklearn.ensemble import RandomForestClassifier\\nfrom sklearn.linear_model import LogisticRegression\\nfrom sklearn.model_selection import train_test_split\\nimport matplotlib.pyplot as plt\\nimport pandas as pd\\nfrom sklearn.preprocessing import StandardScaler\\nimport seaborn as sns'); }\n",
              "    "
            ],
            "text/plain": [
              "<IPython.core.display.Javascript object>"
            ]
          },
          "metadata": {
            "tags": []
          }
        },
        {
          "output_type": "display_data",
          "data": {
            "application/javascript": [
              "\n",
              "        if (window._pyforest_update_imports_cell) { window._pyforest_update_imports_cell('import numpy as np\\nfrom sklearn.ensemble import RandomForestClassifier\\nfrom sklearn.linear_model import LogisticRegression\\nfrom sklearn.model_selection import train_test_split\\nimport matplotlib.pyplot as plt\\nimport pandas as pd\\nfrom sklearn.preprocessing import StandardScaler\\nimport seaborn as sns'); }\n",
              "    "
            ],
            "text/plain": [
              "<IPython.core.display.Javascript object>"
            ]
          },
          "metadata": {
            "tags": []
          }
        },
        {
          "output_type": "stream",
          "text": [
            "Relatório de Classificação:\n",
            "               precision    recall  f1-score   support\n",
            "\n",
            "           0     0.9998    0.9675    0.9834     71079\n",
            "           1     0.0450    0.8862    0.0857       123\n",
            "\n",
            "    accuracy                         0.9673     71202\n",
            "   macro avg     0.5224    0.9268    0.5346     71202\n",
            "weighted avg     0.9981    0.9673    0.9818     71202\n",
            "\n"
          ],
          "name": "stdout"
        },
        {
          "output_type": "display_data",
          "data": {
            "application/javascript": [
              "\n",
              "        if (window._pyforest_update_imports_cell) { window._pyforest_update_imports_cell('import numpy as np\\nfrom sklearn.ensemble import RandomForestClassifier\\nfrom sklearn.linear_model import LogisticRegression\\nfrom sklearn.model_selection import train_test_split\\nimport matplotlib.pyplot as plt\\nimport pandas as pd\\nfrom sklearn.preprocessing import StandardScaler\\nimport seaborn as sns'); }\n",
              "    "
            ],
            "text/plain": [
              "<IPython.core.display.Javascript object>"
            ]
          },
          "metadata": {
            "tags": []
          }
        },
        {
          "output_type": "stream",
          "text": [
            "AUC: 0.9268\n",
            "\n"
          ],
          "name": "stdout"
        },
        {
          "output_type": "display_data",
          "data": {
            "image/png": "[encoded data removed]",
            "text/plain": [
              "<Figure size 432x288 with 2 Axes>"
            ]
          },
          "metadata": {
            "tags": []
          }
        }
      ]
    },
    {
      "cell_type": "markdown",
      "metadata": {
        "id": "8e_xr_jZOSIq"
      },
      "source": [
        "Nosso modelo testado com novos dados, obteve um recall de 89% para a classe alvo com threshold 0, agora vamos comparar com o modelo de threshold -2:"
      ]
    },
    {
      "cell_type": "code",
      "metadata": {
        "colab": {
          "base_uri": "https://localhost:8080/",
          "height": 486
        },
        "id": "MCYj9oJdWyr3",
        "outputId": "b5952d34-c5ae-4bad-a5c3-ecee9ff97f31"
      },
      "source": [
        "# Calculando as scores do modelo final para o conjunto de teste\n",
        "y_scores_final = modelo_final.decision_function(X_test)\n",
        "\n",
        "# Previsão\n",
        "y_test_pred_recall = (y_scores_final > -2)\n",
        "\n",
        "# Relatório de classificação\n",
        "print(\"Relatório de Classificação:\\n\", classification_report(Y_test, y_test_pred_recall, digits=4))\n",
        "\n",
        "# Plotar a matriz de confusão\n",
        "skplt.metrics.plot_confusion_matrix(Y_test, y_test_pred_recall, normalize=True);\n",
        "plt.savefig('matriz_confusao3')"
      ],
      "execution_count": null,
      "outputs": [
        {
          "output_type": "stream",
          "text": [
            "Relatório de Classificação:\n",
            "               precision    recall  f1-score   support\n",
            "\n",
            "           0     0.9999    0.8042    0.8914     71079\n",
            "           1     0.0083    0.9431    0.0164       123\n",
            "\n",
            "    accuracy                         0.8044     71202\n",
            "   macro avg     0.5041    0.8736    0.4539     71202\n",
            "weighted avg     0.9982    0.8044    0.8899     71202\n",
            "\n"
          ],
          "name": "stdout"
        },
        {
          "output_type": "display_data",
          "data": {
            "application/javascript": [
              "\n",
              "        if (window._pyforest_update_imports_cell) { window._pyforest_update_imports_cell('import numpy as np\\nfrom sklearn.ensemble import RandomForestClassifier\\nfrom sklearn.linear_model import LogisticRegression\\nfrom sklearn.model_selection import train_test_split\\nimport matplotlib.pyplot as plt\\nimport pandas as pd\\nfrom sklearn.preprocessing import StandardScaler\\nimport seaborn as sns'); }\n",
              "    "
            ],
            "text/plain": [
              "<IPython.core.display.Javascript object>"
            ]
          },
          "metadata": {
            "tags": []
          }
        },
        {
          "output_type": "display_data",
          "data": {
            "image/png": "[encoded data removed]",
            "text/plain": [
              "<Figure size 432x288 with 2 Axes>"
            ]
          },
          "metadata": {
            "tags": []
          }
        }
      ]
    },
    {
      "cell_type": "markdown",
      "metadata": {
        "id": "zEROphgvTVKG"
      },
      "source": [
        "Com o threshold de -2, conseguimos **subir o recall** para a variável alvo de 89% para 95%, o que quer dizer que nosso modelo vai errar mais quando **apontar** transações como fraudulentas, mas vai errar bem menos quando forem **realmente** casos de fraude."
      ]
    },
    {
      "cell_type": "markdown",
      "metadata": {
        "id": "y090nUmxSOo1"
      },
      "source": [
        "# Conclusão\n",
        "\n",
        "Como contextualizado no início deste projeto, mesmo as fraudes tendo acompanhado a transformação da \"moeda\" para o meio virtual, **é possível se proteger** destes crimes com técnicas de Machine Learning para detecção, como a que desenvolvemos no projeto.\n",
        "\n",
        "No desenvolvimento do nosso modelo, mesmo tendo-o avaliado em ralação à outros, deve-se ter em mente que existem outros meios de **melhorar** cada modelo testado, como por exemplo se **aprofundar nas métricas e parâmetros** de cada um e no fim ter mais assertividade na escolha do mais **adequado** para nosso problema.\n",
        "\n",
        "Como o **objetivo** deste projeto era fazer uma análise explanatória do problema com fraudes em cartões de crédito, não me aprofundei, de fato em encontrar o modelo de Machine Learning \"perfeito\", mas desenvolver um que tenha **resultados satisfatórios**.\n",
        "\n",
        "Para desenvolvermos um algoritmo de Machine Learning temos que nos **atentar** a diversas questões, como por exemplo: **entender o que é o nosso problema e o que ele causa**, quando nosso modelo acerta ou erra uma previsão, a qualidade dos dados para **alimentar** o modelo, determinar qual é o **melhor estimador** para o problema, entre vários outros.\n",
        "\n",
        "Quando buscamos entender nosso problema, vimos que ele funcionava como uma balança, em que os dois pêndulos são negativos para o cliente e a instituição, porém decidimos que **é melhor** ter uma transação bloqueada, **por segurança**, e passar por um constrangimento no momento, do que ter uma **surpresa** no fim do mês quando recebemos **cobranças inesperadas**, assim tendo prejuízos **mais severos**.\n",
        "\n",
        "Para este fim nosso modelo alcançou uma acertividade de 95% nos casos onde ocorreram transações fraudulentas ao custo de que mais transações normais serão erroneamente tratadas como fraudes.\n",
        "\n",
        "# Referências\n",
        "\n",
        "Recomendo bastante a leitura do artigo [Como avaliar seu modelo de classificação](https://medium.com/data-hackers/como-avaliar-seu-modelo-de-classificação-34e6f6011108), de Marcelo Randolfo (2020), que apresenta sete passos para se fazer uma boa avaliação do seu modelo de classificação.\n",
        "\n",
        "\n",
        "\n"
      ]
    }
  ]
}