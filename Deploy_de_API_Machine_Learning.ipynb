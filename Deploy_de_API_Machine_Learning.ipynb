{
  "nbformat": 4,
  "nbformat_minor": 0,
  "metadata": {
    "colab": {
      "name": "Deploy de Machine Learning.ipynb",
      "provenance": [],
      "collapsed_sections": [],
      "authorship_tag": "ABX9TyOgsnPpH6DyvRFTosdCU2TS",
      "include_colab_link": true
    },
    "kernelspec": {
      "name": "python3",
      "display_name": "Python 3"
    },
    "language_info": {
      "name": "python"
    }
  },
  "cells": [
    {
      "cell_type": "markdown",
      "metadata": {
        "id": "view-in-github",
        "colab_type": "text"
      },
      "source": [
        "<a href=\"https://colab.research.google.com/github/octavianosilva/data_science/blob/main/Deploy_de_API_Machine_Learning.ipynb\" target=\"_parent\"><img src=\"https://colab.research.google.com/assets/colab-badge.svg\" alt=\"Open In Colab\"/></a>"
      ]
    },
    {
      "cell_type": "markdown",
      "metadata": {
        "id": "U7fExd0Sluct"
      },
      "source": [
        "# Preço de Imóveis em São Paulo\n",
        "\n",
        "<center><img alt=\"São Pauso\"  src='https://www.euandopelomundo.com/wp-content/uploads/2019/04/sao_paulo.jpg'></center>\n",
        "\n",
        "Quem tem algum imóvel sabe a dificuldade que é determinar o preço de venda ou aluguel, muitas vezes tendo que: contratar outros profissionais para realizar uma avaliação e nos dar uma estimativa de valor, ou buscar referências entre conhecidos com imóveis semelhantes ou na mesma região.\n",
        "\n",
        "Para ambas as formas de buscar uma estimativa para o valor do imóvel, temos um custo alto com processos humanos, ou seja, demandam do proprietário: tempo, dinheiro e até processamento cerebral para analisar e comparar as referências obtidas dos conhecidos.\n",
        "\n",
        "Com conhecimentos em Machine Learning (Aprendizado de Máquina) é possível contornar esta dificuldade e seus custos, onde podemos desenvolver um modelo para realizar as previsões com base em um conjunto de dados, assim economizando tempo e deixando a máquina fazer todo o \"trabalho cerebral\" que seria necessário do proprietário.\n",
        "\n",
        "Dito isto, iremos desenvolver um modelo de Machine Learning (Aprendizado de Máquina) e realizar o deploy desse modelo na web.\n",
        "\n",
        "Vamos realizar as previsões dos preços de vendas ou alugueis de apartamentos na cidade de São Paulo - SP com base nos dados disponibilizados pela Startup OpenImob, referentes a Abril de 2019."
      ]
    },
    {
      "cell_type": "markdown",
      "metadata": {
        "id": "67sqlnhgl0E0"
      },
      "source": [
        "# Importando os Dados\n",
        "\n",
        "O conjunto de dados que será utilizado neste projeto foi disponibilizado publicamente pela startup OpenImob na plataforma Kaggle através [deste link](https://www.kaggle.com/argonalyst/sao-paulo-real-estate-sale-rent-april-2019)."
      ]
    },
    {
      "cell_type": "code",
      "metadata": {
        "id": "CRG4cqfWl0qP",
        "colab": {
          "base_uri": "https://localhost:8080/"
        },
        "outputId": "de37f1af-37ab-4f05-eab0-eddbc2c2b99d"
      },
      "source": [
        "# Pacotes para o modelo de Machine Learning\n",
        "!pip install scikit-learn -U -q\n",
        "!pip install joblib -U -q\n",
        "!pip install numpy -U -q\n",
        "\n",
        "import seaborn as sns\n",
        "import matplotlib.pyplot as plt\n",
        "import numpy as np\n",
        "import pandas as pd\n",
        "from sklearn.model_selection import train_test_split\n",
        "from sklearn.metrics import r2_score, mean_squared_error\n",
        "from sklearn.ensemble import RandomForestRegressor\n",
        "from sklearn.preprocessing import StandardScaler, MinMaxScaler, LabelEncoder\n",
        "\n",
        "\n",
        "# Removendo os alertas\n",
        "import warnings\n",
        "warnings.simplefilter(action='ignore', category=FutureWarning)\n",
        "\n",
        "# Replicabilidade\n",
        "np.random.seed(32)\n",
        "\n",
        "# Importando os dados\n",
        "url_dataset = \"https://www.dropbox.com/s/h8blgaphkfpqsn5/sao-paulo-properties-april-2019.csv?dl=1\"\n",
        "df_raw = pd.read_csv(url_dataset)"
      ],
      "execution_count": 1,
      "outputs": [
        {
          "output_type": "stream",
          "name": "stdout",
          "text": [
            "\u001b[K     |████████████████████████████████| 23.1 MB 1.4 MB/s \n",
            "\u001b[K     |████████████████████████████████| 15.7 MB 197 kB/s \n",
            "\u001b[31mERROR: pip's dependency resolver does not currently take into account all the packages that are installed. This behaviour is the source of the following dependency conflicts.\n",
            "tensorflow 2.6.0 requires numpy~=1.19.2, but you have numpy 1.21.2 which is incompatible.\n",
            "datascience 0.10.6 requires folium==0.2.1, but you have folium 0.8.3 which is incompatible.\n",
            "albumentations 0.1.12 requires imgaug<0.2.7,>=0.2.5, but you have imgaug 0.2.9 which is incompatible.\u001b[0m\n",
            "\u001b[?25h"
          ]
        }
      ]
    },
    {
      "cell_type": "markdown",
      "metadata": {
        "id": "YwwyAUkal6J_"
      },
      "source": [
        "# Análise Exploratória\n",
        "\n",
        "Antes de desenvolvermos um modelo de Machine Learning (Aprendizado de Máquina), precisamos analisar a qualidade dos dados que foram importados.\n",
        "\n",
        "Primeiro vamos saber o tamanho e o tipo desse dataset:"
      ]
    },
    {
      "cell_type": "code",
      "metadata": {
        "colab": {
          "base_uri": "https://localhost:8080/"
        },
        "id": "2ORV7iNdl5VL",
        "outputId": "62cb02b9-9812-4258-b2f3-0c38ece6964a"
      },
      "source": [
        "# Obtendo o tamanho do dataset\n",
        "df_raw.shape"
      ],
      "execution_count": null,
      "outputs": [
        {
          "output_type": "execute_result",
          "data": {
            "text/plain": [
              "(13640, 16)"
            ]
          },
          "metadata": {},
          "execution_count": 127
        }
      ]
    },
    {
      "cell_type": "code",
      "metadata": {
        "colab": {
          "base_uri": "https://localhost:8080/"
        },
        "id": "1OIoMWvCl9-F",
        "outputId": "acc76b9f-504a-4bb8-eb97-d4d44eee27da"
      },
      "source": [
        "# Obtendo os tipos das variáveis\n",
        "df_raw.dtypes"
      ],
      "execution_count": null,
      "outputs": [
        {
          "output_type": "execute_result",
          "data": {
            "text/plain": [
              "Price                 int64\n",
              "Condo                 int64\n",
              "Size                  int64\n",
              "Rooms                 int64\n",
              "Toilets               int64\n",
              "Suites                int64\n",
              "Parking               int64\n",
              "Elevator              int64\n",
              "Furnished             int64\n",
              "Swimming Pool         int64\n",
              "New                   int64\n",
              "District             object\n",
              "Negotiation Type     object\n",
              "Property Type        object\n",
              "Latitude            float64\n",
              "Longitude           float64\n",
              "dtype: object"
            ]
          },
          "metadata": {},
          "execution_count": 128
        }
      ]
    },
    {
      "cell_type": "markdown",
      "metadata": {
        "id": "I9GiNsM5mA_B"
      },
      "source": [
        "Temos um dataset com 13 mil entradas e 16 colunas, sendo majoritariamente do tipo numérico.\n",
        "\n",
        "Agora vamos checar as primeiras entradas deste dataset:"
      ]
    },
    {
      "cell_type": "code",
      "metadata": {
        "colab": {
          "base_uri": "https://localhost:8080/",
          "height": 205
        },
        "id": "owlbXUHXmDJt",
        "outputId": "01d0770a-1282-4c47-f3ad-2633d45f9e7f"
      },
      "source": [
        "# Checando as primeiras entradas do dataset\n",
        "df_raw.head()"
      ],
      "execution_count": null,
      "outputs": [
        {
          "output_type": "execute_result",
          "data": {
            "text/html": [
              "<div>\n",
              "<style scoped>\n",
              "    .dataframe tbody tr th:only-of-type {\n",
              "        vertical-align: middle;\n",
              "    }\n",
              "\n",
              "    .dataframe tbody tr th {\n",
              "        vertical-align: top;\n",
              "    }\n",
              "\n",
              "    .dataframe thead th {\n",
              "        text-align: right;\n",
              "    }\n",
              "</style>\n",
              "<table border=\"1\" class=\"dataframe\">\n",
              "  <thead>\n",
              "    <tr style=\"text-align: right;\">\n",
              "      <th></th>\n",
              "      <th>Price</th>\n",
              "      <th>Condo</th>\n",
              "      <th>Size</th>\n",
              "      <th>Rooms</th>\n",
              "      <th>Toilets</th>\n",
              "      <th>Suites</th>\n",
              "      <th>Parking</th>\n",
              "      <th>Elevator</th>\n",
              "      <th>Furnished</th>\n",
              "      <th>Swimming Pool</th>\n",
              "      <th>New</th>\n",
              "      <th>District</th>\n",
              "      <th>Negotiation Type</th>\n",
              "      <th>Property Type</th>\n",
              "      <th>Latitude</th>\n",
              "      <th>Longitude</th>\n",
              "    </tr>\n",
              "  </thead>\n",
              "  <tbody>\n",
              "    <tr>\n",
              "      <th>0</th>\n",
              "      <td>930</td>\n",
              "      <td>220</td>\n",
              "      <td>47</td>\n",
              "      <td>2</td>\n",
              "      <td>2</td>\n",
              "      <td>1</td>\n",
              "      <td>1</td>\n",
              "      <td>0</td>\n",
              "      <td>0</td>\n",
              "      <td>0</td>\n",
              "      <td>0</td>\n",
              "      <td>Artur Alvim/São Paulo</td>\n",
              "      <td>rent</td>\n",
              "      <td>apartment</td>\n",
              "      <td>-23.543138</td>\n",
              "      <td>-46.479486</td>\n",
              "    </tr>\n",
              "    <tr>\n",
              "      <th>1</th>\n",
              "      <td>1000</td>\n",
              "      <td>148</td>\n",
              "      <td>45</td>\n",
              "      <td>2</td>\n",
              "      <td>2</td>\n",
              "      <td>1</td>\n",
              "      <td>1</td>\n",
              "      <td>0</td>\n",
              "      <td>0</td>\n",
              "      <td>0</td>\n",
              "      <td>0</td>\n",
              "      <td>Artur Alvim/São Paulo</td>\n",
              "      <td>rent</td>\n",
              "      <td>apartment</td>\n",
              "      <td>-23.550239</td>\n",
              "      <td>-46.480718</td>\n",
              "    </tr>\n",
              "    <tr>\n",
              "      <th>2</th>\n",
              "      <td>1000</td>\n",
              "      <td>100</td>\n",
              "      <td>48</td>\n",
              "      <td>2</td>\n",
              "      <td>2</td>\n",
              "      <td>1</td>\n",
              "      <td>1</td>\n",
              "      <td>0</td>\n",
              "      <td>0</td>\n",
              "      <td>0</td>\n",
              "      <td>0</td>\n",
              "      <td>Artur Alvim/São Paulo</td>\n",
              "      <td>rent</td>\n",
              "      <td>apartment</td>\n",
              "      <td>-23.542818</td>\n",
              "      <td>-46.485665</td>\n",
              "    </tr>\n",
              "    <tr>\n",
              "      <th>3</th>\n",
              "      <td>1000</td>\n",
              "      <td>200</td>\n",
              "      <td>48</td>\n",
              "      <td>2</td>\n",
              "      <td>2</td>\n",
              "      <td>1</td>\n",
              "      <td>1</td>\n",
              "      <td>0</td>\n",
              "      <td>0</td>\n",
              "      <td>0</td>\n",
              "      <td>0</td>\n",
              "      <td>Artur Alvim/São Paulo</td>\n",
              "      <td>rent</td>\n",
              "      <td>apartment</td>\n",
              "      <td>-23.547171</td>\n",
              "      <td>-46.483014</td>\n",
              "    </tr>\n",
              "    <tr>\n",
              "      <th>4</th>\n",
              "      <td>1300</td>\n",
              "      <td>410</td>\n",
              "      <td>55</td>\n",
              "      <td>2</td>\n",
              "      <td>2</td>\n",
              "      <td>1</td>\n",
              "      <td>1</td>\n",
              "      <td>1</td>\n",
              "      <td>0</td>\n",
              "      <td>0</td>\n",
              "      <td>0</td>\n",
              "      <td>Artur Alvim/São Paulo</td>\n",
              "      <td>rent</td>\n",
              "      <td>apartment</td>\n",
              "      <td>-23.525025</td>\n",
              "      <td>-46.482436</td>\n",
              "    </tr>\n",
              "  </tbody>\n",
              "</table>\n",
              "</div>"
            ],
            "text/plain": [
              "   Price  Condo  Size  ...  Property Type   Latitude  Longitude\n",
              "0    930    220    47  ...      apartment -23.543138 -46.479486\n",
              "1   1000    148    45  ...      apartment -23.550239 -46.480718\n",
              "2   1000    100    48  ...      apartment -23.542818 -46.485665\n",
              "3   1000    200    48  ...      apartment -23.547171 -46.483014\n",
              "4   1300    410    55  ...      apartment -23.525025 -46.482436\n",
              "\n",
              "[5 rows x 16 columns]"
            ]
          },
          "metadata": {},
          "execution_count": 129
        }
      ]
    },
    {
      "cell_type": "markdown",
      "metadata": {
        "id": "wmbt-yfHmHAt"
      },
      "source": [
        "Observando as primeiras entradas do DataFrame temos que algumas colunas possuem apenas um valor único visível, insinuando que são irrelevantes.\n",
        "\n",
        "Para confirmar essa hipótese, vamos checar a quantidade de valores únicos para todas as colunas do DataFrame:"
      ]
    },
    {
      "cell_type": "code",
      "metadata": {
        "colab": {
          "base_uri": "https://localhost:8080/"
        },
        "id": "P-Ef2RW-mMYP",
        "outputId": "3dbecd22-98b6-4ed4-f42f-c2235a3396ba"
      },
      "source": [
        "# Obtendo a quantidade de valores únicos de cada coluna\n",
        "df_raw.nunique().sort_values(ascending=True)"
      ],
      "execution_count": null,
      "outputs": [
        {
          "output_type": "execute_result",
          "data": {
            "text/plain": [
              "Property Type          1\n",
              "Elevator               2\n",
              "Furnished              2\n",
              "Swimming Pool          2\n",
              "New                    2\n",
              "Negotiation Type       2\n",
              "Suites                 7\n",
              "Rooms                  8\n",
              "Toilets                8\n",
              "Parking               10\n",
              "District              96\n",
              "Size                 339\n",
              "Condo               1415\n",
              "Price               1881\n",
              "Latitude            8405\n",
              "Longitude           8451\n",
              "dtype: int64"
            ]
          },
          "metadata": {},
          "execution_count": 130
        }
      ]
    },
    {
      "cell_type": "code",
      "metadata": {
        "colab": {
          "base_uri": "https://localhost:8080/"
        },
        "id": "6OVzKuhPmP_l",
        "outputId": "7f254e63-22cf-4899-b1d7-4bc6bb8a6b56"
      },
      "source": [
        "# Checando o valor da coluna Property Type\n",
        "df_raw['Property Type'].unique()"
      ],
      "execution_count": null,
      "outputs": [
        {
          "output_type": "execute_result",
          "data": {
            "text/plain": [
              "array(['apartment'], dtype=object)"
            ]
          },
          "metadata": {},
          "execution_count": 131
        }
      ]
    },
    {
      "cell_type": "markdown",
      "metadata": {
        "id": "nkpBmAfomSYT"
      },
      "source": [
        "Temos que a coluna `Property Type`, referente ao tipo da propriedade possui apenas um valor, que é `apartment`.\n",
        "\n",
        "Essa coluna por passar apenas essa informação, nos revela que ela é realmente irrelevante para uma análise, sendo assim iremos removê-la."
      ]
    },
    {
      "cell_type": "code",
      "metadata": {
        "colab": {
          "base_uri": "https://localhost:8080/"
        },
        "id": "W-PcHwOVmUsU",
        "outputId": "f74275ff-c109-4188-fe44-f9712825f83b"
      },
      "source": [
        "# Removendo a coluna Property Type\n",
        "df_raw.drop(columns='Property Type', inplace=True)\n",
        "\n",
        "# Checando se houve a remoção\n",
        "print('Quantidade de colunas originalmente: 16')\n",
        "print('Quantidade de colunas após a remoção:',df_raw.shape[1])"
      ],
      "execution_count": null,
      "outputs": [
        {
          "output_type": "stream",
          "name": "stdout",
          "text": [
            "Quantidade de colunas originalmente: 16\n",
            "Quantidade de colunas após a remoção: 15\n"
          ]
        }
      ]
    },
    {
      "cell_type": "markdown",
      "metadata": {
        "id": "Q5Xd4jT9mXD5"
      },
      "source": [
        "Outra coluna que podemos também realizar um tratamento prévio, é a coluna `District`, que como todos pertencem à cidade de São Paulo, não há a necessidade de especificar novamente a cidade com \"/São Paulo\" em cada distrito.\n",
        "\n",
        "Dito isso, vamos remover o nome \"São Paulo\" de todas as entradas da coluna `District`:"
      ]
    },
    {
      "cell_type": "code",
      "metadata": {
        "id": "mnUVwbj4mXkI"
      },
      "source": [
        "# Limpar os nomes do bairros\n",
        "df_raw['District'] = df_raw['District'].apply(lambda x: x.split('/')[0])"
      ],
      "execution_count": null,
      "outputs": []
    },
    {
      "cell_type": "markdown",
      "metadata": {
        "id": "y-tQ6Ci4mbEZ"
      },
      "source": [
        "Além de encontrar colunas irrelevantes ou com algumas informações irrelevantes, temos que checar a ocorrência de valores ausentes (NaN) e discrepântes, este último conhecido como outlier.\n",
        "\n",
        "Para os valores ausentes:"
      ]
    },
    {
      "cell_type": "code",
      "metadata": {
        "colab": {
          "base_uri": "https://localhost:8080/"
        },
        "id": "B-rJiBIJmbcD",
        "outputId": "8a094046-72cf-4157-eefd-a47d434d11f5"
      },
      "source": [
        "# Checando a ocorrência de valores ausentes\n",
        "df_raw.isnull().sum()"
      ],
      "execution_count": null,
      "outputs": [
        {
          "output_type": "execute_result",
          "data": {
            "text/plain": [
              "Price               0\n",
              "Condo               0\n",
              "Size                0\n",
              "Rooms               0\n",
              "Toilets             0\n",
              "Suites              0\n",
              "Parking             0\n",
              "Elevator            0\n",
              "Furnished           0\n",
              "Swimming Pool       0\n",
              "New                 0\n",
              "District            0\n",
              "Negotiation Type    0\n",
              "Latitude            0\n",
              "Longitude           0\n",
              "dtype: int64"
            ]
          },
          "metadata": {},
          "execution_count": 134
        }
      ]
    },
    {
      "cell_type": "markdown",
      "metadata": {
        "id": "4IyxK7XxmhXx"
      },
      "source": [
        "Temos um dataset completo, ou seja, sem valores ausentes.\n",
        "\n",
        "Agora vamos observar a ocorrência de valores discrepântes (outliers) para as colunas numéricas."
      ]
    },
    {
      "cell_type": "code",
      "metadata": {
        "colab": {
          "base_uri": "https://localhost:8080/",
          "height": 499
        },
        "id": "BgU2e8D3mlI3",
        "outputId": "1d08e3f4-1f58-46b3-c3d7-bd2ada608b63"
      },
      "source": [
        "# Plotando os Histogramas para as variáveis numéricas\n",
        "df_raw[['Price','Condo','Size','Parking','Toilets','Rooms','Suites']].hist(figsize=(12,8));"
      ],
      "execution_count": null,
      "outputs": [
        {
          "output_type": "display_data",
          "data": {
            "image/png": "[encoded data removed]",
            "text/plain": [
              "<Figure size 864x576 with 9 Axes>"
            ]
          },
          "metadata": {
            "needs_background": "light"
          }
        }
      ]
    },
    {
      "cell_type": "markdown",
      "metadata": {
        "id": "LpCkrcHUmsKA"
      },
      "source": [
        "Analisando os histogramas, mais especificamente a primeira linha, temos colunas que insinuam realmente ter a presença de outliers.\n",
        "\n",
        "Para visualizarmos melhor, vamos plotar o Boxplot para as colunas: `Price`, `Condo` e `Size`."
      ]
    },
    {
      "cell_type": "code",
      "metadata": {
        "colab": {
          "base_uri": "https://localhost:8080/",
          "height": 297
        },
        "id": "0-yZ0zFemwmJ",
        "outputId": "dc961842-2261-4bef-b6fd-50f1e1208fa9"
      },
      "source": [
        "# Plotar os Boxplotes para as variáveis selecionadas\n",
        "fig, ax = plt.subplots(nrows=1, ncols=3, figsize=(12,4))\n",
        "\n",
        "sns.boxplot(df_raw['Price'], ax=ax[0])\n",
        "sns.boxplot(df_raw['Condo'], ax=ax[1])\n",
        "sns.boxplot(df_raw['Size'], ax=ax[2])\n",
        "\n",
        "plt.tight_layout();\n",
        "#fig.savefig('boxplots')"
      ],
      "execution_count": null,
      "outputs": [
        {
          "output_type": "display_data",
          "data": {
            "image/png": "[encoded data removed]",
            "text/plain": [
              "<Figure size 864x288 with 3 Axes>"
            ]
          },
          "metadata": {
            "needs_background": "light"
          }
        }
      ]
    },
    {
      "cell_type": "markdown",
      "metadata": {
        "id": "j3VaCRG1mypf"
      },
      "source": [
        "Os Boxplots conseguem demonstrar cada outlier, que são representadas pelos pontos pretos.\n",
        "\n",
        "Antes de realizarmos qualquer tipo de tratamento para as outliers, devemos localizá-las e descobrir qual é a proporção das outliers no dataset.\n",
        "\n",
        "Para isso podemos utilizar o método do IQR Score para encontrar os limites superiores e inferiores de cada coluna (feature), onde este método realiza os cálculos com base nos quartis estatíticos:"
      ]
    },
    {
      "cell_type": "code",
      "metadata": {
        "id": "ESmsm3UImzLL"
      },
      "source": [
        "# Definindo a função para o limite superior\n",
        "def limite_sup(x):\n",
        "  # Calculando o IQR Score\n",
        "  q1 = x.quantile(.25) # Primeiro Quartil(25%)\n",
        "  q3 = x.quantile(.75) # Terceiro Quartil(75%)\n",
        "  IQR_Score = q3 - q1\n",
        "\n",
        "  # Definindo os limites superiores\n",
        "  superior = q3 + 1.5 * IQR_Score\n",
        " \n",
        "  return superior"
      ],
      "execution_count": null,
      "outputs": []
    },
    {
      "cell_type": "markdown",
      "metadata": {
        "id": "Fh14CK0qm4Pg"
      },
      "source": [
        "Agora com a função para calcular o limite superior instanciada, vamos realizar o cálculo para  todas as colunas (features) numéricas e obter a proporção das outliers no dataset:"
      ]
    },
    {
      "cell_type": "code",
      "metadata": {
        "colab": {
          "base_uri": "https://localhost:8080/"
        },
        "id": "SGF5iiQ2m4vB",
        "outputId": "bdd37c73-2244-4eeb-96fe-1fbe129dbf80"
      },
      "source": [
        "# Copiando o dataset para a remoção das outliers\n",
        "df_sem_outlier = df_raw.copy()\n",
        "\n",
        "# Definindo uma função para remover as outliers acima dos limites superiores de cada coluna\n",
        "def limpeza_outlier(x):\n",
        "  a = df_sem_outlier\n",
        "  a.drop(a[x > limite_sup(x)].index, axis=0, inplace= True) #remover os dados acima do limite superior\n",
        "  return\n",
        "\n",
        "# Criando uma lista para \n",
        "lista = [df_sem_outlier.Price, df_sem_outlier.Condo, df_sem_outlier.Size, \n",
        "         df_sem_outlier.Parking, df_sem_outlier.Toilets, df_sem_outlier.Rooms, \n",
        "         df_sem_outlier.Suites]\n",
        "\n",
        "\n",
        "for i in lista:\n",
        "  limpeza_outlier(i);"
      ],
      "execution_count": null,
      "outputs": [
        {
          "output_type": "stream",
          "name": "stderr",
          "text": [
            "/usr/local/lib/python3.7/dist-packages/ipykernel_launcher.py:7: UserWarning: Boolean Series key will be reindexed to match DataFrame index.\n",
            "  import sys\n",
            "/usr/local/lib/python3.7/dist-packages/ipykernel_launcher.py:7: UserWarning: Boolean Series key will be reindexed to match DataFrame index.\n",
            "  import sys\n",
            "/usr/local/lib/python3.7/dist-packages/ipykernel_launcher.py:7: UserWarning: Boolean Series key will be reindexed to match DataFrame index.\n",
            "  import sys\n",
            "/usr/local/lib/python3.7/dist-packages/ipykernel_launcher.py:7: UserWarning: Boolean Series key will be reindexed to match DataFrame index.\n",
            "  import sys\n",
            "/usr/local/lib/python3.7/dist-packages/ipykernel_launcher.py:7: UserWarning: Boolean Series key will be reindexed to match DataFrame index.\n",
            "  import sys\n",
            "/usr/local/lib/python3.7/dist-packages/ipykernel_launcher.py:7: UserWarning: Boolean Series key will be reindexed to match DataFrame index.\n",
            "  import sys\n"
          ]
        }
      ]
    },
    {
      "cell_type": "code",
      "metadata": {
        "colab": {
          "base_uri": "https://localhost:8080/"
        },
        "id": "HaqrPTkSm_9H",
        "outputId": "e09d0649-3754-42e6-d822-388dc0b1f27a"
      },
      "source": [
        "# Obtendo a diferença de entradas entre o dataset completo e sem outliers\n",
        "diferenca = df_raw.shape[0] - df_sem_outlier.shape[0]\n",
        "\n",
        "# Obtendo a proporção dessas outliers no dataset\n",
        "proporcao_outlier = (diferenca / df_raw.shape[0])*100\n",
        "\n",
        "print(\"A proporção das outliers no dataset é de {:.2f}%\".format(proporcao_outlier))"
      ],
      "execution_count": null,
      "outputs": [
        {
          "output_type": "stream",
          "name": "stdout",
          "text": [
            "A proporção das outliers no dataset é de 21.39%\n"
          ]
        }
      ]
    },
    {
      "cell_type": "markdown",
      "metadata": {
        "id": "X4OrCvRznB9E"
      },
      "source": [
        "Temos que 21% de todo o dataset é considerado outlier e agora que sabemos essa proporção, podemos escolher um método de tratamento para elas, que são:\n",
        "\n",
        "* Remoção: perdendo 21% de informação do dataset;\n",
        "\n",
        "* Imputação: substituindo as outliers por outros valores;\n",
        "\n",
        "* Transformação: escalando, normalizando, fazendo transformações logarítmicas, entre outras;\n",
        "\n",
        "* Agrupamento (Clustering): utilizando aprendizado não supervisionado para identificar padrões nas outliers e substituí-las para melhor se adequar à realidade do dataset;\n",
        "\n",
        "* Tratar separadamente: criando dois modelos de Machine Learning (Aprendizado de Máquina) para lidar com dataset diferentes, um para os dados \"normais\" e o outro para os valores discrepântes; e\n",
        "\n",
        "* Utilizar algoritmos de Machine Learning (Aprendizado de Máquina) que não sejam sensíveis à outliers.\n",
        "\n",
        "Como o objetivo deste projeto é realizar o deploy de um modelo para prever os preços de vendas ou alugueis de apartamentos, não nos aprofundaremos na busca do melhor tratamento para os nossos dados.\n",
        "\n",
        "Dito isso, vamos optar por manter as outliers, porém para reduzir os impactos delas vamos utilizar um modelo robusto à elas, além do mais outro fator que também reduz as influências das outliers é o pré-processamento Feature Scaling, que já seria necessário aplicar em nossos dados visto que temos escalas diferentes para cada coluna.\n",
        "\n",
        "Deixaremos a parte de Feature Scaling para quando formos avaliar nosso modelo, dessa forma poderemos comparar os desempenhos aplicando a Normalização ou Padronização e optar pelo mais adequado.\n",
        "\n"
      ]
    },
    {
      "cell_type": "markdown",
      "metadata": {
        "id": "KwWcKwIPuu07"
      },
      "source": [
        "# Tratamento dos Dados\n",
        "\n",
        "Nesta etapa vamos preparar os dados pra alimentar o modelo, aqui vamos realizar o Feature Engineering e a limpeza de outras variáveis que não são relevantes para o modelo, como as colunas (features) `Latitude` e `Longitude`.\n",
        "\n",
        "Se analisarmos essas duas colunas, vemos que para São Paulo as coordenadas para `Latitude` variam entre -46.84 à -46.36, e para a `Longitude` entre -23.36 à -24.00. Nesse caso vemos que no dataset temos entradas que fogem desta variação, ou seja, são informações que precisariam de um tratamento mais profundo, mas como o objetivo deste projeto é realizar o deploy do modelo na web, não vamos nos estender em busca de construir o melhor modelo possível para prever os preços dos apartamentos e então vamos considerar essas duas colunas como irrelevantes e removê-las.\n",
        "\n",
        "O desempenho de um modelo de Machine Learning (Aprendizado de Máquina) depende bastante da qualidade dos dados, isso envolve as informações que as colunas (features) trazem para o modelo, colunas estas que podem ser criadas à partir das existentes\n",
        "\n",
        "Iremos analisar a possibilidade de criar novas colunas para melhorar a capacidade de previsão do modelo, mas primeiramente vamos remover as colunas `Latitude` e `Longitude` que já que temos outra coluna com informações de localização (`District`), as coordenadas não vão adicionar nenhuma informação a mais neste caso."
      ]
    },
    {
      "cell_type": "code",
      "metadata": {
        "colab": {
          "base_uri": "https://localhost:8080/",
          "height": 205
        },
        "id": "hdZqA_gDft3X",
        "outputId": "db0392c4-e4eb-4763-c14b-c220b51a239d"
      },
      "source": [
        "# Copiando o DataFrame para essa etapa\n",
        "df_clean = df_raw.copy()\n",
        "\n",
        "# Removendo as colunas Latitude e Longitude\n",
        "df_clean.drop(columns='Latitude', inplace=True)\n",
        "df_clean.drop(columns='Longitude', inplace=True)\n",
        "\n",
        "# Checando o DataFrame após a remoção\n",
        "df_clean.head()"
      ],
      "execution_count": null,
      "outputs": [
        {
          "output_type": "execute_result",
          "data": {
            "text/html": [
              "<div>\n",
              "<style scoped>\n",
              "    .dataframe tbody tr th:only-of-type {\n",
              "        vertical-align: middle;\n",
              "    }\n",
              "\n",
              "    .dataframe tbody tr th {\n",
              "        vertical-align: top;\n",
              "    }\n",
              "\n",
              "    .dataframe thead th {\n",
              "        text-align: right;\n",
              "    }\n",
              "</style>\n",
              "<table border=\"1\" class=\"dataframe\">\n",
              "  <thead>\n",
              "    <tr style=\"text-align: right;\">\n",
              "      <th></th>\n",
              "      <th>Price</th>\n",
              "      <th>Condo</th>\n",
              "      <th>Size</th>\n",
              "      <th>Rooms</th>\n",
              "      <th>Toilets</th>\n",
              "      <th>Suites</th>\n",
              "      <th>Parking</th>\n",
              "      <th>Elevator</th>\n",
              "      <th>Furnished</th>\n",
              "      <th>Swimming Pool</th>\n",
              "      <th>New</th>\n",
              "      <th>District</th>\n",
              "      <th>Negotiation Type</th>\n",
              "    </tr>\n",
              "  </thead>\n",
              "  <tbody>\n",
              "    <tr>\n",
              "      <th>0</th>\n",
              "      <td>930</td>\n",
              "      <td>220</td>\n",
              "      <td>47</td>\n",
              "      <td>2</td>\n",
              "      <td>2</td>\n",
              "      <td>1</td>\n",
              "      <td>1</td>\n",
              "      <td>0</td>\n",
              "      <td>0</td>\n",
              "      <td>0</td>\n",
              "      <td>0</td>\n",
              "      <td>Artur Alvim</td>\n",
              "      <td>rent</td>\n",
              "    </tr>\n",
              "    <tr>\n",
              "      <th>1</th>\n",
              "      <td>1000</td>\n",
              "      <td>148</td>\n",
              "      <td>45</td>\n",
              "      <td>2</td>\n",
              "      <td>2</td>\n",
              "      <td>1</td>\n",
              "      <td>1</td>\n",
              "      <td>0</td>\n",
              "      <td>0</td>\n",
              "      <td>0</td>\n",
              "      <td>0</td>\n",
              "      <td>Artur Alvim</td>\n",
              "      <td>rent</td>\n",
              "    </tr>\n",
              "    <tr>\n",
              "      <th>2</th>\n",
              "      <td>1000</td>\n",
              "      <td>100</td>\n",
              "      <td>48</td>\n",
              "      <td>2</td>\n",
              "      <td>2</td>\n",
              "      <td>1</td>\n",
              "      <td>1</td>\n",
              "      <td>0</td>\n",
              "      <td>0</td>\n",
              "      <td>0</td>\n",
              "      <td>0</td>\n",
              "      <td>Artur Alvim</td>\n",
              "      <td>rent</td>\n",
              "    </tr>\n",
              "    <tr>\n",
              "      <th>3</th>\n",
              "      <td>1000</td>\n",
              "      <td>200</td>\n",
              "      <td>48</td>\n",
              "      <td>2</td>\n",
              "      <td>2</td>\n",
              "      <td>1</td>\n",
              "      <td>1</td>\n",
              "      <td>0</td>\n",
              "      <td>0</td>\n",
              "      <td>0</td>\n",
              "      <td>0</td>\n",
              "      <td>Artur Alvim</td>\n",
              "      <td>rent</td>\n",
              "    </tr>\n",
              "    <tr>\n",
              "      <th>4</th>\n",
              "      <td>1300</td>\n",
              "      <td>410</td>\n",
              "      <td>55</td>\n",
              "      <td>2</td>\n",
              "      <td>2</td>\n",
              "      <td>1</td>\n",
              "      <td>1</td>\n",
              "      <td>1</td>\n",
              "      <td>0</td>\n",
              "      <td>0</td>\n",
              "      <td>0</td>\n",
              "      <td>Artur Alvim</td>\n",
              "      <td>rent</td>\n",
              "    </tr>\n",
              "  </tbody>\n",
              "</table>\n",
              "</div>"
            ],
            "text/plain": [
              "   Price  Condo  Size  Rooms  ...  Swimming Pool  New     District  Negotiation Type\n",
              "0    930    220    47      2  ...              0    0  Artur Alvim              rent\n",
              "1   1000    148    45      2  ...              0    0  Artur Alvim              rent\n",
              "2   1000    100    48      2  ...              0    0  Artur Alvim              rent\n",
              "3   1000    200    48      2  ...              0    0  Artur Alvim              rent\n",
              "4   1300    410    55      2  ...              0    0  Artur Alvim              rent\n",
              "\n",
              "[5 rows x 13 columns]"
            ]
          },
          "metadata": {},
          "execution_count": 140
        }
      ]
    },
    {
      "cell_type": "markdown",
      "metadata": {
        "id": "eKMEYOuIozgz"
      },
      "source": [
        "Outro método de se encontrar informações irrelevantes ou incorretas, é checar o resumo estatístico das colunas (features):"
      ]
    },
    {
      "cell_type": "code",
      "metadata": {
        "colab": {
          "base_uri": "https://localhost:8080/",
          "height": 299
        },
        "id": "5bcnvsiNo_4C",
        "outputId": "c9892240-2639-4ba8-f5cf-f53eacc26cba"
      },
      "source": [
        "# Resumo estatístico das variáveis numéricas\n",
        "df_clean.describe()"
      ],
      "execution_count": null,
      "outputs": [
        {
          "output_type": "execute_result",
          "data": {
            "text/html": [
              "<div>\n",
              "<style scoped>\n",
              "    .dataframe tbody tr th:only-of-type {\n",
              "        vertical-align: middle;\n",
              "    }\n",
              "\n",
              "    .dataframe tbody tr th {\n",
              "        vertical-align: top;\n",
              "    }\n",
              "\n",
              "    .dataframe thead th {\n",
              "        text-align: right;\n",
              "    }\n",
              "</style>\n",
              "<table border=\"1\" class=\"dataframe\">\n",
              "  <thead>\n",
              "    <tr style=\"text-align: right;\">\n",
              "      <th></th>\n",
              "      <th>Price</th>\n",
              "      <th>Condo</th>\n",
              "      <th>Size</th>\n",
              "      <th>Rooms</th>\n",
              "      <th>Toilets</th>\n",
              "      <th>Suites</th>\n",
              "      <th>Parking</th>\n",
              "      <th>Elevator</th>\n",
              "      <th>Furnished</th>\n",
              "      <th>Swimming Pool</th>\n",
              "      <th>New</th>\n",
              "    </tr>\n",
              "  </thead>\n",
              "  <tbody>\n",
              "    <tr>\n",
              "      <th>count</th>\n",
              "      <td>1.364000e+04</td>\n",
              "      <td>13640.000000</td>\n",
              "      <td>13640.000000</td>\n",
              "      <td>13640.000000</td>\n",
              "      <td>13640.000000</td>\n",
              "      <td>13640.000000</td>\n",
              "      <td>13640.000000</td>\n",
              "      <td>13640.000000</td>\n",
              "      <td>13640.000000</td>\n",
              "      <td>13640.00000</td>\n",
              "      <td>13640.000000</td>\n",
              "    </tr>\n",
              "    <tr>\n",
              "      <th>mean</th>\n",
              "      <td>2.877378e+05</td>\n",
              "      <td>689.882331</td>\n",
              "      <td>84.373900</td>\n",
              "      <td>2.312023</td>\n",
              "      <td>2.073680</td>\n",
              "      <td>0.980792</td>\n",
              "      <td>1.393182</td>\n",
              "      <td>0.354179</td>\n",
              "      <td>0.146774</td>\n",
              "      <td>0.51217</td>\n",
              "      <td>0.015616</td>\n",
              "    </tr>\n",
              "    <tr>\n",
              "      <th>std</th>\n",
              "      <td>5.908214e+05</td>\n",
              "      <td>757.649363</td>\n",
              "      <td>58.435676</td>\n",
              "      <td>0.777461</td>\n",
              "      <td>0.961803</td>\n",
              "      <td>0.834891</td>\n",
              "      <td>0.829932</td>\n",
              "      <td>0.478281</td>\n",
              "      <td>0.353894</td>\n",
              "      <td>0.49987</td>\n",
              "      <td>0.123988</td>\n",
              "    </tr>\n",
              "    <tr>\n",
              "      <th>min</th>\n",
              "      <td>4.800000e+02</td>\n",
              "      <td>0.000000</td>\n",
              "      <td>30.000000</td>\n",
              "      <td>1.000000</td>\n",
              "      <td>1.000000</td>\n",
              "      <td>0.000000</td>\n",
              "      <td>0.000000</td>\n",
              "      <td>0.000000</td>\n",
              "      <td>0.000000</td>\n",
              "      <td>0.00000</td>\n",
              "      <td>0.000000</td>\n",
              "    </tr>\n",
              "    <tr>\n",
              "      <th>25%</th>\n",
              "      <td>1.858750e+03</td>\n",
              "      <td>290.000000</td>\n",
              "      <td>50.000000</td>\n",
              "      <td>2.000000</td>\n",
              "      <td>2.000000</td>\n",
              "      <td>1.000000</td>\n",
              "      <td>1.000000</td>\n",
              "      <td>0.000000</td>\n",
              "      <td>0.000000</td>\n",
              "      <td>0.00000</td>\n",
              "      <td>0.000000</td>\n",
              "    </tr>\n",
              "    <tr>\n",
              "      <th>50%</th>\n",
              "      <td>8.100000e+03</td>\n",
              "      <td>500.000000</td>\n",
              "      <td>65.000000</td>\n",
              "      <td>2.000000</td>\n",
              "      <td>2.000000</td>\n",
              "      <td>1.000000</td>\n",
              "      <td>1.000000</td>\n",
              "      <td>0.000000</td>\n",
              "      <td>0.000000</td>\n",
              "      <td>1.00000</td>\n",
              "      <td>0.000000</td>\n",
              "    </tr>\n",
              "    <tr>\n",
              "      <th>75%</th>\n",
              "      <td>3.600000e+05</td>\n",
              "      <td>835.000000</td>\n",
              "      <td>94.000000</td>\n",
              "      <td>3.000000</td>\n",
              "      <td>2.000000</td>\n",
              "      <td>1.000000</td>\n",
              "      <td>2.000000</td>\n",
              "      <td>1.000000</td>\n",
              "      <td>0.000000</td>\n",
              "      <td>1.00000</td>\n",
              "      <td>0.000000</td>\n",
              "    </tr>\n",
              "    <tr>\n",
              "      <th>max</th>\n",
              "      <td>1.000000e+07</td>\n",
              "      <td>9500.000000</td>\n",
              "      <td>880.000000</td>\n",
              "      <td>10.000000</td>\n",
              "      <td>8.000000</td>\n",
              "      <td>6.000000</td>\n",
              "      <td>9.000000</td>\n",
              "      <td>1.000000</td>\n",
              "      <td>1.000000</td>\n",
              "      <td>1.00000</td>\n",
              "      <td>1.000000</td>\n",
              "    </tr>\n",
              "  </tbody>\n",
              "</table>\n",
              "</div>"
            ],
            "text/plain": [
              "              Price         Condo  ...  Swimming Pool           New\n",
              "count  1.364000e+04  13640.000000  ...    13640.00000  13640.000000\n",
              "mean   2.877378e+05    689.882331  ...        0.51217      0.015616\n",
              "std    5.908214e+05    757.649363  ...        0.49987      0.123988\n",
              "min    4.800000e+02      0.000000  ...        0.00000      0.000000\n",
              "25%    1.858750e+03    290.000000  ...        0.00000      0.000000\n",
              "50%    8.100000e+03    500.000000  ...        1.00000      0.000000\n",
              "75%    3.600000e+05    835.000000  ...        1.00000      0.000000\n",
              "max    1.000000e+07   9500.000000  ...        1.00000      1.000000\n",
              "\n",
              "[8 rows x 11 columns]"
            ]
          },
          "metadata": {},
          "execution_count": 141
        }
      ]
    },
    {
      "cell_type": "markdown",
      "metadata": {
        "id": "kskn7mBQpowV"
      },
      "source": [
        "Observando o resumo estatístico, vemos que a coluna (feature) `Condo`, referente às despesas de condomínio, possuem valores nulos (zeros) que pela documentação representam valores desconhecidos."
      ]
    },
    {
      "cell_type": "code",
      "metadata": {
        "colab": {
          "base_uri": "https://localhost:8080/"
        },
        "id": "wRLquUhnpCrt",
        "outputId": "f7087d6c-f3db-4be9-e4ac-0d5748d721e2"
      },
      "source": [
        "# Obtendo a quantidade de entradas com valores nulos em Condo\n",
        "df_clean.loc[df_clean['Condo'] == 0].value_counts().sum()"
      ],
      "execution_count": null,
      "outputs": [
        {
          "output_type": "execute_result",
          "data": {
            "text/plain": [
              "1977"
            ]
          },
          "metadata": {},
          "execution_count": 142
        }
      ]
    },
    {
      "cell_type": "markdown",
      "metadata": {
        "id": "vZMKeo6h1RQQ"
      },
      "source": [
        "Como o objetivo deste projeto é auxiliar na escolha do valor de venda ou aluguel, vamos jogar um valor mais abaixo para substituir os valores nulos.\n",
        "\n",
        "Com o resumo estatístico, temos os valores da mediana em 500 reais de condomínio, mas  analisando o Dataframe, atribuir esse valor para todas as entradas nulas pode ser ruim dado que temos preços baixos em alguns casos.\n",
        "\n",
        "Utilizaremos o valor de 350 reais para os valores nulos: \n",
        "\n"
      ]
    },
    {
      "cell_type": "code",
      "metadata": {
        "id": "uUWPSFZyYe0w",
        "colab": {
          "base_uri": "https://localhost:8080/",
          "height": 205
        },
        "outputId": "af9c4092-6820-4f81-cd91-196451e6aa37"
      },
      "source": [
        "# Substituindo os valores zeros por 350 na coluna Condo\n",
        "df_clean['Condo'].replace({0:350},inplace=True)\n",
        "\n",
        "# Checando as substituições\n",
        "df_clean.loc[df_clean['Condo'] == 350].head()"
      ],
      "execution_count": null,
      "outputs": [
        {
          "output_type": "execute_result",
          "data": {
            "text/html": [
              "<div>\n",
              "<style scoped>\n",
              "    .dataframe tbody tr th:only-of-type {\n",
              "        vertical-align: middle;\n",
              "    }\n",
              "\n",
              "    .dataframe tbody tr th {\n",
              "        vertical-align: top;\n",
              "    }\n",
              "\n",
              "    .dataframe thead th {\n",
              "        text-align: right;\n",
              "    }\n",
              "</style>\n",
              "<table border=\"1\" class=\"dataframe\">\n",
              "  <thead>\n",
              "    <tr style=\"text-align: right;\">\n",
              "      <th></th>\n",
              "      <th>Price</th>\n",
              "      <th>Condo</th>\n",
              "      <th>Size</th>\n",
              "      <th>Rooms</th>\n",
              "      <th>Toilets</th>\n",
              "      <th>Suites</th>\n",
              "      <th>Parking</th>\n",
              "      <th>Elevator</th>\n",
              "      <th>Furnished</th>\n",
              "      <th>Swimming Pool</th>\n",
              "      <th>New</th>\n",
              "      <th>District</th>\n",
              "      <th>Negotiation Type</th>\n",
              "    </tr>\n",
              "  </thead>\n",
              "  <tbody>\n",
              "    <tr>\n",
              "      <th>5</th>\n",
              "      <td>1170</td>\n",
              "      <td>350</td>\n",
              "      <td>50</td>\n",
              "      <td>2</td>\n",
              "      <td>2</td>\n",
              "      <td>1</td>\n",
              "      <td>1</td>\n",
              "      <td>0</td>\n",
              "      <td>0</td>\n",
              "      <td>0</td>\n",
              "      <td>0</td>\n",
              "      <td>Artur Alvim</td>\n",
              "      <td>rent</td>\n",
              "    </tr>\n",
              "    <tr>\n",
              "      <th>8</th>\n",
              "      <td>1000</td>\n",
              "      <td>350</td>\n",
              "      <td>65</td>\n",
              "      <td>2</td>\n",
              "      <td>2</td>\n",
              "      <td>1</td>\n",
              "      <td>1</td>\n",
              "      <td>0</td>\n",
              "      <td>0</td>\n",
              "      <td>0</td>\n",
              "      <td>0</td>\n",
              "      <td>Artur Alvim</td>\n",
              "      <td>rent</td>\n",
              "    </tr>\n",
              "    <tr>\n",
              "      <th>9</th>\n",
              "      <td>1000</td>\n",
              "      <td>350</td>\n",
              "      <td>100</td>\n",
              "      <td>2</td>\n",
              "      <td>2</td>\n",
              "      <td>1</td>\n",
              "      <td>1</td>\n",
              "      <td>0</td>\n",
              "      <td>0</td>\n",
              "      <td>0</td>\n",
              "      <td>0</td>\n",
              "      <td>Artur Alvim</td>\n",
              "      <td>rent</td>\n",
              "    </tr>\n",
              "    <tr>\n",
              "      <th>49</th>\n",
              "      <td>1200</td>\n",
              "      <td>350</td>\n",
              "      <td>48</td>\n",
              "      <td>2</td>\n",
              "      <td>2</td>\n",
              "      <td>1</td>\n",
              "      <td>1</td>\n",
              "      <td>0</td>\n",
              "      <td>0</td>\n",
              "      <td>0</td>\n",
              "      <td>0</td>\n",
              "      <td>Cangaíba</td>\n",
              "      <td>rent</td>\n",
              "    </tr>\n",
              "    <tr>\n",
              "      <th>50</th>\n",
              "      <td>1450</td>\n",
              "      <td>350</td>\n",
              "      <td>65</td>\n",
              "      <td>2</td>\n",
              "      <td>2</td>\n",
              "      <td>1</td>\n",
              "      <td>1</td>\n",
              "      <td>1</td>\n",
              "      <td>0</td>\n",
              "      <td>0</td>\n",
              "      <td>0</td>\n",
              "      <td>Cangaíba</td>\n",
              "      <td>rent</td>\n",
              "    </tr>\n",
              "  </tbody>\n",
              "</table>\n",
              "</div>"
            ],
            "text/plain": [
              "    Price  Condo  Size  Rooms  ...  Swimming Pool  New     District  Negotiation Type\n",
              "5    1170    350    50      2  ...              0    0  Artur Alvim              rent\n",
              "8    1000    350    65      2  ...              0    0  Artur Alvim              rent\n",
              "9    1000    350   100      2  ...              0    0  Artur Alvim              rent\n",
              "49   1200    350    48      2  ...              0    0     Cangaíba              rent\n",
              "50   1450    350    65      2  ...              0    0     Cangaíba              rent\n",
              "\n",
              "[5 rows x 13 columns]"
            ]
          },
          "metadata": {},
          "execution_count": 143
        }
      ]
    },
    {
      "cell_type": "markdown",
      "metadata": {
        "id": "FIlUo9E_Dm7B"
      },
      "source": [
        "Agora que as informações foram tratadas e o dataset não apresenta informações erradas, vamos analisar a possibilidade de realizarmos um Feature Engeneering.\n",
        "\n",
        "Feature Engineering, é a etapa em que fazemos as separações de variáveis numéricas e categóricas, realizamos codificações nas variáveis categóricas para que o modelo possa interpretá-las, e também criamos novas colunas (features) a partir das existentes para fornecer mais informações para o modelo.\n",
        "\n",
        "Olhando o DataFrame acima vemos que a coluna `Negotiation Type` possui valores do tipo texto e quando analisamos a quantidade de valores únicos no início do projeto, vimos que esta possui apenas dois valores únicos: `rent` (aluguel) e `sale` (venda).\n",
        "\n",
        "Essa coluna (feature) é uma coluna binária e como a maioria dos modelos não conseguem lidar com valores em texto, temos que codificá-la. Para isso vamos utilizar a codificação conhecida como LabelEncoder para essa variável, que transformará os valores `rent` e `sale` em 0 e 1 respectivamente."
      ]
    },
    {
      "cell_type": "code",
      "metadata": {
        "colab": {
          "base_uri": "https://localhost:8080/"
        },
        "id": "cS2pAP8DP-qg",
        "outputId": "8dc5cb05-d6bf-4611-f066-b4c1af3bfc6c"
      },
      "source": [
        "# Obtendo os valores únicos da coluna Negotiation Type\n",
        "df_clean['Negotiation Type'].unique()"
      ],
      "execution_count": null,
      "outputs": [
        {
          "output_type": "execute_result",
          "data": {
            "text/plain": [
              "array(['rent', 'sale'], dtype=object)"
            ]
          },
          "metadata": {},
          "execution_count": 144
        }
      ]
    },
    {
      "cell_type": "code",
      "metadata": {
        "colab": {
          "base_uri": "https://localhost:8080/",
          "height": 205
        },
        "id": "Q1_bj1CJObwo",
        "outputId": "2c1d32aa-7e6f-4a23-9cfe-974172f9e546"
      },
      "source": [
        "# Instanciando o LabelEncoder\n",
        "le = LabelEncoder()\n",
        "\n",
        "# Realizando a transformação\n",
        "df_clean['Negotiation Type'] = le.fit_transform(df_clean['Negotiation Type'])\n",
        "\n",
        "# Checando as primeiras entradas do DataFrame\n",
        "df_clean.head()"
      ],
      "execution_count": null,
      "outputs": [
        {
          "output_type": "execute_result",
          "data": {
            "text/html": [
              "<div>\n",
              "<style scoped>\n",
              "    .dataframe tbody tr th:only-of-type {\n",
              "        vertical-align: middle;\n",
              "    }\n",
              "\n",
              "    .dataframe tbody tr th {\n",
              "        vertical-align: top;\n",
              "    }\n",
              "\n",
              "    .dataframe thead th {\n",
              "        text-align: right;\n",
              "    }\n",
              "</style>\n",
              "<table border=\"1\" class=\"dataframe\">\n",
              "  <thead>\n",
              "    <tr style=\"text-align: right;\">\n",
              "      <th></th>\n",
              "      <th>Price</th>\n",
              "      <th>Condo</th>\n",
              "      <th>Size</th>\n",
              "      <th>Rooms</th>\n",
              "      <th>Toilets</th>\n",
              "      <th>Suites</th>\n",
              "      <th>Parking</th>\n",
              "      <th>Elevator</th>\n",
              "      <th>Furnished</th>\n",
              "      <th>Swimming Pool</th>\n",
              "      <th>New</th>\n",
              "      <th>District</th>\n",
              "      <th>Negotiation Type</th>\n",
              "    </tr>\n",
              "  </thead>\n",
              "  <tbody>\n",
              "    <tr>\n",
              "      <th>0</th>\n",
              "      <td>930</td>\n",
              "      <td>220</td>\n",
              "      <td>47</td>\n",
              "      <td>2</td>\n",
              "      <td>2</td>\n",
              "      <td>1</td>\n",
              "      <td>1</td>\n",
              "      <td>0</td>\n",
              "      <td>0</td>\n",
              "      <td>0</td>\n",
              "      <td>0</td>\n",
              "      <td>Artur Alvim</td>\n",
              "      <td>0</td>\n",
              "    </tr>\n",
              "    <tr>\n",
              "      <th>1</th>\n",
              "      <td>1000</td>\n",
              "      <td>148</td>\n",
              "      <td>45</td>\n",
              "      <td>2</td>\n",
              "      <td>2</td>\n",
              "      <td>1</td>\n",
              "      <td>1</td>\n",
              "      <td>0</td>\n",
              "      <td>0</td>\n",
              "      <td>0</td>\n",
              "      <td>0</td>\n",
              "      <td>Artur Alvim</td>\n",
              "      <td>0</td>\n",
              "    </tr>\n",
              "    <tr>\n",
              "      <th>2</th>\n",
              "      <td>1000</td>\n",
              "      <td>100</td>\n",
              "      <td>48</td>\n",
              "      <td>2</td>\n",
              "      <td>2</td>\n",
              "      <td>1</td>\n",
              "      <td>1</td>\n",
              "      <td>0</td>\n",
              "      <td>0</td>\n",
              "      <td>0</td>\n",
              "      <td>0</td>\n",
              "      <td>Artur Alvim</td>\n",
              "      <td>0</td>\n",
              "    </tr>\n",
              "    <tr>\n",
              "      <th>3</th>\n",
              "      <td>1000</td>\n",
              "      <td>200</td>\n",
              "      <td>48</td>\n",
              "      <td>2</td>\n",
              "      <td>2</td>\n",
              "      <td>1</td>\n",
              "      <td>1</td>\n",
              "      <td>0</td>\n",
              "      <td>0</td>\n",
              "      <td>0</td>\n",
              "      <td>0</td>\n",
              "      <td>Artur Alvim</td>\n",
              "      <td>0</td>\n",
              "    </tr>\n",
              "    <tr>\n",
              "      <th>4</th>\n",
              "      <td>1300</td>\n",
              "      <td>410</td>\n",
              "      <td>55</td>\n",
              "      <td>2</td>\n",
              "      <td>2</td>\n",
              "      <td>1</td>\n",
              "      <td>1</td>\n",
              "      <td>1</td>\n",
              "      <td>0</td>\n",
              "      <td>0</td>\n",
              "      <td>0</td>\n",
              "      <td>Artur Alvim</td>\n",
              "      <td>0</td>\n",
              "    </tr>\n",
              "  </tbody>\n",
              "</table>\n",
              "</div>"
            ],
            "text/plain": [
              "   Price  Condo  Size  Rooms  ...  Swimming Pool  New     District  Negotiation Type\n",
              "0    930    220    47      2  ...              0    0  Artur Alvim                 0\n",
              "1   1000    148    45      2  ...              0    0  Artur Alvim                 0\n",
              "2   1000    100    48      2  ...              0    0  Artur Alvim                 0\n",
              "3   1000    200    48      2  ...              0    0  Artur Alvim                 0\n",
              "4   1300    410    55      2  ...              0    0  Artur Alvim                 0\n",
              "\n",
              "[5 rows x 13 columns]"
            ]
          },
          "metadata": {},
          "execution_count": 145
        }
      ]
    },
    {
      "cell_type": "markdown",
      "metadata": {
        "id": "YnMaYDnwQ-iP"
      },
      "source": [
        "Outra coluna categórica que possui valores em texto é a `District`, que contém os nomes dos bairros em que os apartamentos se encontram.\n",
        "\n",
        "Assim como temos a informação da quantidade de valores únicos para a coluna `Negotiation Type`, temos para `District`, que são 96 valores únicos.\n",
        "\n",
        "Neste caso como não é uma coluna binária, temos que avaliar em qual tipo de categoria ela pertence: se ela é ordinal ou nominal.\n",
        "\n",
        "Categóricas Ordinais são aquelas colunas (features) que possuem valores hierárquicos como por exemplo: uma coluna que possui informações sobre o nível de dor, de 0 à 10, que um paciente de um hospital está sentindo, nesse caso a diferença de dor entre os níveis 1 e 10 não é a mesma, onde um nível 1 pode ser apenas um incômodo e um nível 10 pode ser uma dor insuportável.\n",
        "\n",
        "Categóricas Nominais são aquelas que não possuem uma relação hierárquica, como por exemplo: uma coluna (feature) que possui os nomes de quais animais podem ser tratados em uma clínica veterinária local, neste caso os nomes são apenas uma lista e não possuem pesos diferentes entre cada um. \n",
        "\n",
        "Observando a nossa coluna em questão (`District`), ela não demonstra ter relação hierárquica, é apenas uma lista com os nomes de bairros em que os apartamentos se encontram.\n",
        "\n",
        "Neste caso inicialmente iremos adotar essa coluna como sendo do tipo nominal, e portanto aplicar o método LabelEncoder não é o recomendado, uma vez que este estabelece uma falsa relação hierárquica nos dados.\n",
        "\n",
        "Para contornar essa falsa atribuição hierárquica nos dados, temos outros métodos de codificação, sendo os mais conhecidos: One-Hot Encoder e Dummy, ambos com a mesma função que é criar uma nova coluna binária para cada bairro existente na coluna `District`, ou seja, se temos 96 nomes de bairros dentro dessa coluna, teremos uma coluna binária para cada nome.\n",
        "\n",
        "Como nada é perfeito, esses dois métodos também podem gerar um problema para o desempenho do modelo, pois quando criamos novas colunas também estamos aumentando o espaço dos dados, ou seja, aumentando a dimensionalidade e dependendo desse aumento, podemos cair na Maldição da Dimensionalidade, o que é bastante prejudicial para o desempenho de um modelo de Machine Learning (Aprendizado de Máquina).\n",
        "\n",
        "Caso tenha interesse em conhecer este fenômeno, você irá encontrar um link para um artigo em inglês bastante explicativo sobre este assunto.\n",
        "\n",
        "Mesmo os métodos de codificação One-Hot e Dummy podendo aumentar a dimensionalidade dos dados, podemos tomar medidas para reduzir esse aumento e para isso é bastante comum o agrupamento de algumas categorias como por exemplo: uma coluna que tem vários nomes de animais diferentes e então agrupamos pelas espécies.\n",
        "\n",
        "Apesar de termos 96 valores distintos na coluna `District`, somente ela passaria pela codificação resultando 96 novas colunas e as demais continuariam inalteradas, nesse caso essa adição não seria o suficiente nos fazer cair na  Maldição da Dimensionalidade, sendo assim vamos realizar dois testes de desempenho do modelo de Machine Learning (Aprendizado de Máquina): um para os bairros agrupados e outro para os bairros separados.  "
      ]
    },
    {
      "cell_type": "markdown",
      "metadata": {
        "id": "wyrdZYiGqKfD"
      },
      "source": [
        "# Teste de Hipóteses"
      ]
    },
    {
      "cell_type": "markdown",
      "metadata": {
        "id": "IUlyPKuv0rlA"
      },
      "source": [
        "## Desenvolvimento do modelo (Bairros Agrupados)"
      ]
    },
    {
      "cell_type": "markdown",
      "metadata": {
        "id": "UTHPe4IIytcT"
      },
      "source": [
        "### Preparação para o modelo\n",
        "\n",
        "Existem várias formas de fazer um agrupamento de categorias, seja por parentesco ou por frequência, e para nosso caso vamos analisar a possibilidade de fazer um agrupamento com base nos preços médios dos apartamentos de cada bairro.\n",
        "\n",
        "Como temos diferentes tamanhos de apartamentos e de preços, podemos criar uma nova coluna para representar a relação entre essas duas características, ou seja, criar uma nova coluna com os valores de preços por metro quadrado."
      ]
    },
    {
      "cell_type": "code",
      "metadata": {
        "colab": {
          "base_uri": "https://localhost:8080/",
          "height": 205
        },
        "id": "Kuk1Mr0saeE_",
        "outputId": "ba4b6b5e-3e4d-4b9f-a1dc-bec334866803"
      },
      "source": [
        "# Criando uma nova coluna com preços por metro quadrado\n",
        "df_clean['Price/Size'] = df_clean['Price'] / df_clean['Size']\n",
        "\n",
        "# Checando o DataFrame\n",
        "df_clean.head()"
      ],
      "execution_count": null,
      "outputs": [
        {
          "output_type": "execute_result",
          "data": {
            "text/html": [
              "<div>\n",
              "<style scoped>\n",
              "    .dataframe tbody tr th:only-of-type {\n",
              "        vertical-align: middle;\n",
              "    }\n",
              "\n",
              "    .dataframe tbody tr th {\n",
              "        vertical-align: top;\n",
              "    }\n",
              "\n",
              "    .dataframe thead th {\n",
              "        text-align: right;\n",
              "    }\n",
              "</style>\n",
              "<table border=\"1\" class=\"dataframe\">\n",
              "  <thead>\n",
              "    <tr style=\"text-align: right;\">\n",
              "      <th></th>\n",
              "      <th>Price</th>\n",
              "      <th>Condo</th>\n",
              "      <th>Size</th>\n",
              "      <th>Rooms</th>\n",
              "      <th>Toilets</th>\n",
              "      <th>Suites</th>\n",
              "      <th>Parking</th>\n",
              "      <th>Elevator</th>\n",
              "      <th>Furnished</th>\n",
              "      <th>Swimming Pool</th>\n",
              "      <th>New</th>\n",
              "      <th>District</th>\n",
              "      <th>Negotiation Type</th>\n",
              "      <th>Price/Size</th>\n",
              "    </tr>\n",
              "  </thead>\n",
              "  <tbody>\n",
              "    <tr>\n",
              "      <th>0</th>\n",
              "      <td>930</td>\n",
              "      <td>220</td>\n",
              "      <td>47</td>\n",
              "      <td>2</td>\n",
              "      <td>2</td>\n",
              "      <td>1</td>\n",
              "      <td>1</td>\n",
              "      <td>0</td>\n",
              "      <td>0</td>\n",
              "      <td>0</td>\n",
              "      <td>0</td>\n",
              "      <td>Artur Alvim</td>\n",
              "      <td>0</td>\n",
              "      <td>19.787234</td>\n",
              "    </tr>\n",
              "    <tr>\n",
              "      <th>1</th>\n",
              "      <td>1000</td>\n",
              "      <td>148</td>\n",
              "      <td>45</td>\n",
              "      <td>2</td>\n",
              "      <td>2</td>\n",
              "      <td>1</td>\n",
              "      <td>1</td>\n",
              "      <td>0</td>\n",
              "      <td>0</td>\n",
              "      <td>0</td>\n",
              "      <td>0</td>\n",
              "      <td>Artur Alvim</td>\n",
              "      <td>0</td>\n",
              "      <td>22.222222</td>\n",
              "    </tr>\n",
              "    <tr>\n",
              "      <th>2</th>\n",
              "      <td>1000</td>\n",
              "      <td>100</td>\n",
              "      <td>48</td>\n",
              "      <td>2</td>\n",
              "      <td>2</td>\n",
              "      <td>1</td>\n",
              "      <td>1</td>\n",
              "      <td>0</td>\n",
              "      <td>0</td>\n",
              "      <td>0</td>\n",
              "      <td>0</td>\n",
              "      <td>Artur Alvim</td>\n",
              "      <td>0</td>\n",
              "      <td>20.833333</td>\n",
              "    </tr>\n",
              "    <tr>\n",
              "      <th>3</th>\n",
              "      <td>1000</td>\n",
              "      <td>200</td>\n",
              "      <td>48</td>\n",
              "      <td>2</td>\n",
              "      <td>2</td>\n",
              "      <td>1</td>\n",
              "      <td>1</td>\n",
              "      <td>0</td>\n",
              "      <td>0</td>\n",
              "      <td>0</td>\n",
              "      <td>0</td>\n",
              "      <td>Artur Alvim</td>\n",
              "      <td>0</td>\n",
              "      <td>20.833333</td>\n",
              "    </tr>\n",
              "    <tr>\n",
              "      <th>4</th>\n",
              "      <td>1300</td>\n",
              "      <td>410</td>\n",
              "      <td>55</td>\n",
              "      <td>2</td>\n",
              "      <td>2</td>\n",
              "      <td>1</td>\n",
              "      <td>1</td>\n",
              "      <td>1</td>\n",
              "      <td>0</td>\n",
              "      <td>0</td>\n",
              "      <td>0</td>\n",
              "      <td>Artur Alvim</td>\n",
              "      <td>0</td>\n",
              "      <td>23.636364</td>\n",
              "    </tr>\n",
              "  </tbody>\n",
              "</table>\n",
              "</div>"
            ],
            "text/plain": [
              "   Price  Condo  Size  Rooms  ...  New     District  Negotiation Type  Price/Size\n",
              "0    930    220    47      2  ...    0  Artur Alvim                 0   19.787234\n",
              "1   1000    148    45      2  ...    0  Artur Alvim                 0   22.222222\n",
              "2   1000    100    48      2  ...    0  Artur Alvim                 0   20.833333\n",
              "3   1000    200    48      2  ...    0  Artur Alvim                 0   20.833333\n",
              "4   1300    410    55      2  ...    0  Artur Alvim                 0   23.636364\n",
              "\n",
              "[5 rows x 14 columns]"
            ]
          },
          "metadata": {},
          "execution_count": 146
        }
      ]
    },
    {
      "cell_type": "markdown",
      "metadata": {
        "id": "O8dAj9P6NJoY"
      },
      "source": [
        "Agora que temos uma coluna com as relações entre preços e tamanhos, há um passo bastante importante antes de a usarmos que é separar o dataset em dois: um para os apartamentos de aluguel e outro para os à venda."
      ]
    },
    {
      "cell_type": "code",
      "metadata": {
        "colab": {
          "base_uri": "https://localhost:8080/"
        },
        "id": "9-sH9_UPNpwj",
        "outputId": "ffe2506c-7590-40d3-faea-272a61ac7d8e"
      },
      "source": [
        "# Separando os dataset de Aluguel e Venda\n",
        "df_aluguel = df_clean.loc[df_clean['Negotiation Type'] == 0] #dataset de alugueis\n",
        "df_aluguel.drop('Negotiation Type', axis=1, inplace=True) #retirando a coluna Negotiation Type\n",
        "\n",
        "df_venda = df_clean.loc[df_clean['Negotiation Type'] == 1] #dataset de vendas\n",
        "df_venda.drop('Negotiation Type', axis=1, inplace=True) #retirando a coluna Negotiation Type"
      ],
      "execution_count": null,
      "outputs": [
        {
          "output_type": "stream",
          "name": "stderr",
          "text": [
            "/usr/local/lib/python3.7/dist-packages/pandas/core/frame.py:4174: SettingWithCopyWarning: \n",
            "A value is trying to be set on a copy of a slice from a DataFrame\n",
            "\n",
            "See the caveats in the documentation: https://pandas.pydata.org/pandas-docs/stable/user_guide/indexing.html#returning-a-view-versus-a-copy\n",
            "  errors=errors,\n",
            "/usr/local/lib/python3.7/dist-packages/pandas/core/frame.py:4174: SettingWithCopyWarning: \n",
            "A value is trying to be set on a copy of a slice from a DataFrame\n",
            "\n",
            "See the caveats in the documentation: https://pandas.pydata.org/pandas-docs/stable/user_guide/indexing.html#returning-a-view-versus-a-copy\n",
            "  errors=errors,\n"
          ]
        }
      ]
    },
    {
      "cell_type": "markdown",
      "metadata": {
        "id": "qWAotdfoqydy"
      },
      "source": [
        "Com os datasets separados vamos localizar os bairros existentes no dataset: "
      ]
    },
    {
      "cell_type": "code",
      "metadata": {
        "colab": {
          "base_uri": "https://localhost:8080/"
        },
        "id": "y0hPHbModU11",
        "outputId": "b5bb4491-5bcf-4ded-cafb-7d68a31033fd"
      },
      "source": [
        "# Criando uma lista com cada bairro presente nos datasets\n",
        "lista_bairros = df_clean['District'].unique()\n",
        "\n",
        "# Checando a lista\n",
        "lista_bairros"
      ],
      "execution_count": null,
      "outputs": [
        {
          "output_type": "execute_result",
          "data": {
            "text/plain": [
              "array(['Artur Alvim', 'Belém', 'Cangaíba', 'Carrão', 'Cidade Líder',\n",
              "       'Cidade Tiradentes', 'Ermelino Matarazzo', 'Iguatemi',\n",
              "       'Itaim Paulista', 'Itaquera', 'Jardim Helena', 'José Bonifácio',\n",
              "       'Lajeado', 'Parque do Carmo', 'Penha', 'Ponte Rasa', 'Sapopemba',\n",
              "       'São Lucas', 'São Mateus', 'São Miguel', 'São Rafael', 'Tatuapé',\n",
              "       'Vila Curuçá', 'Vila Formosa', 'Vila Jacuí', 'Vila Matilde',\n",
              "       'Vila Prudente', 'Cambuci', 'Campo Belo', 'Campo Grande',\n",
              "       'Campo Limpo', 'Capão Redondo', 'Cidade Ademar', 'Cidade Dutra',\n",
              "       'Cursino', 'Grajaú', 'Ipiranga', 'Itaim Bibi', 'Jabaquara',\n",
              "       'Jardim Ângela', 'Jardim Paulista', 'Moema', 'Morumbi', 'Pedreira',\n",
              "       'Sacomã', 'Santo Amaro', 'Saúde', 'Socorro', 'Vila Andrade',\n",
              "       'Vila Mariana', 'Vila Sônia', 'Alto de Pinheiros', 'Anhanguera',\n",
              "       'Brasilândia', 'Butantã', 'Cachoeirinha', 'Freguesia do Ó',\n",
              "       'Jaguaré', 'Jaraguá', 'Lapa', 'Limão', 'Perdizes', 'Pinheiros',\n",
              "       'Pirituba', 'Raposo Tavares', 'Rio Pequeno', 'Vila Leopoldina',\n",
              "       'Barra Funda', 'Bela Vista', 'Bom Retiro', 'Brás', 'Consolação',\n",
              "       'Liberdade', 'Pari', 'República', 'Santa Cecília', 'Sé',\n",
              "       'Casa Verde', 'Jaçanã', 'Mandaqui', 'Santana', 'Tremembé',\n",
              "       'Tucuruvi', 'Vila Guilherme', 'Vila Maria', 'Medeiros',\n",
              "       'Água Rasa', 'Aricanduva', 'Guaianazes', 'Jardim São Luis',\n",
              "       'Vila Madalena', 'Mooca', 'Brooklin', 'Vila Olimpia', 'Perus',\n",
              "       'São Domingos'], dtype=object)"
            ]
          },
          "metadata": {},
          "execution_count": 148
        }
      ]
    },
    {
      "cell_type": "markdown",
      "metadata": {
        "id": "ncvEfc2QzmKm"
      },
      "source": [
        "Para facilitar a visualização destes bairros vamos criar um DataFrame com os nomes dos bairros: "
      ]
    },
    {
      "cell_type": "code",
      "metadata": {
        "colab": {
          "base_uri": "https://localhost:8080/",
          "height": 205
        },
        "id": "imsdmYI3jTek",
        "outputId": "e8207cec-e6a8-4054-b541-e149d18fb6f9"
      },
      "source": [
        "# Criando um novo DataFrame para as informações dos bairros para cada dataset\n",
        "df_bairros_aluguel = pd.DataFrame(lista_bairros, columns=['Bairros'])\n",
        "df_bairros_venda = pd.DataFrame(lista_bairros, columns=['Bairros'])\n",
        "\n",
        "# Checando as primeiras entradas de um dos novos DataFrames\n",
        "df_bairros_aluguel.head()"
      ],
      "execution_count": null,
      "outputs": [
        {
          "output_type": "execute_result",
          "data": {
            "text/html": [
              "<div>\n",
              "<style scoped>\n",
              "    .dataframe tbody tr th:only-of-type {\n",
              "        vertical-align: middle;\n",
              "    }\n",
              "\n",
              "    .dataframe tbody tr th {\n",
              "        vertical-align: top;\n",
              "    }\n",
              "\n",
              "    .dataframe thead th {\n",
              "        text-align: right;\n",
              "    }\n",
              "</style>\n",
              "<table border=\"1\" class=\"dataframe\">\n",
              "  <thead>\n",
              "    <tr style=\"text-align: right;\">\n",
              "      <th></th>\n",
              "      <th>Bairros</th>\n",
              "    </tr>\n",
              "  </thead>\n",
              "  <tbody>\n",
              "    <tr>\n",
              "      <th>0</th>\n",
              "      <td>Artur Alvim</td>\n",
              "    </tr>\n",
              "    <tr>\n",
              "      <th>1</th>\n",
              "      <td>Belém</td>\n",
              "    </tr>\n",
              "    <tr>\n",
              "      <th>2</th>\n",
              "      <td>Cangaíba</td>\n",
              "    </tr>\n",
              "    <tr>\n",
              "      <th>3</th>\n",
              "      <td>Carrão</td>\n",
              "    </tr>\n",
              "    <tr>\n",
              "      <th>4</th>\n",
              "      <td>Cidade Líder</td>\n",
              "    </tr>\n",
              "  </tbody>\n",
              "</table>\n",
              "</div>"
            ],
            "text/plain": [
              "        Bairros\n",
              "0   Artur Alvim\n",
              "1         Belém\n",
              "2      Cangaíba\n",
              "3        Carrão\n",
              "4  Cidade Líder"
            ]
          },
          "metadata": {},
          "execution_count": 149
        }
      ]
    },
    {
      "cell_type": "markdown",
      "metadata": {
        "id": "OwBaYK4qzzYa"
      },
      "source": [
        "Agora que temos um DataFrame para os bairros, vamos obter a média dos preços por metro quadrado dos apartamentos:"
      ]
    },
    {
      "cell_type": "code",
      "metadata": {
        "id": "8PLEvDore7HC"
      },
      "source": [
        "# Criando uma lista para guardar as médias de cada bairro\n",
        "media_bairros_aluguel = []\n",
        "media_bairros_venda = []\n",
        "\n",
        "# Criando um loop para obter e guardar na lista cada média dos bairros para o dataset de aluguel\n",
        "for i in lista_bairros:\n",
        "  media_bairros_aluguel.append(df_aluguel['Price/Size'].loc[df_aluguel['District'] == i].mean())\n",
        "\n",
        "# Criando um loop para obter e guardar na lista cada média dos bairros para o dataset de venda\n",
        "for i in lista_bairros:\n",
        "  media_bairros_venda.append(df_venda['Price/Size'].loc[df_venda['District'] == i].mean())"
      ],
      "execution_count": null,
      "outputs": []
    },
    {
      "cell_type": "markdown",
      "metadata": {
        "id": "--tOoYU6z-p4"
      },
      "source": [
        "Obtendo os valores podemos adicioná-los ao DataFrame dos bairros:"
      ]
    },
    {
      "cell_type": "code",
      "metadata": {
        "colab": {
          "base_uri": "https://localhost:8080/",
          "height": 205
        },
        "id": "1TnWdezdojmf",
        "outputId": "991b6558-c256-448e-ed8d-9ffe2df5ffac"
      },
      "source": [
        "# Adicionando os valores das médias armazenadas para os DataFrames\n",
        "df_bairros_aluguel['Média dos Preços'] = media_bairros_aluguel\n",
        "df_bairros_venda['Média dos Preços'] = media_bairros_venda\n",
        "\n",
        "# Checando as primeiras entradas do DataFrame de aluguel\n",
        "df_bairros_aluguel.head()"
      ],
      "execution_count": null,
      "outputs": [
        {
          "output_type": "execute_result",
          "data": {
            "text/html": [
              "<div>\n",
              "<style scoped>\n",
              "    .dataframe tbody tr th:only-of-type {\n",
              "        vertical-align: middle;\n",
              "    }\n",
              "\n",
              "    .dataframe tbody tr th {\n",
              "        vertical-align: top;\n",
              "    }\n",
              "\n",
              "    .dataframe thead th {\n",
              "        text-align: right;\n",
              "    }\n",
              "</style>\n",
              "<table border=\"1\" class=\"dataframe\">\n",
              "  <thead>\n",
              "    <tr style=\"text-align: right;\">\n",
              "      <th></th>\n",
              "      <th>Bairros</th>\n",
              "      <th>Média dos Preços</th>\n",
              "    </tr>\n",
              "  </thead>\n",
              "  <tbody>\n",
              "    <tr>\n",
              "      <th>0</th>\n",
              "      <td>Artur Alvim</td>\n",
              "      <td>18.835760</td>\n",
              "    </tr>\n",
              "    <tr>\n",
              "      <th>1</th>\n",
              "      <td>Belém</td>\n",
              "      <td>27.565119</td>\n",
              "    </tr>\n",
              "    <tr>\n",
              "      <th>2</th>\n",
              "      <td>Cangaíba</td>\n",
              "      <td>21.849201</td>\n",
              "    </tr>\n",
              "    <tr>\n",
              "      <th>3</th>\n",
              "      <td>Carrão</td>\n",
              "      <td>25.425884</td>\n",
              "    </tr>\n",
              "    <tr>\n",
              "      <th>4</th>\n",
              "      <td>Cidade Líder</td>\n",
              "      <td>19.886914</td>\n",
              "    </tr>\n",
              "  </tbody>\n",
              "</table>\n",
              "</div>"
            ],
            "text/plain": [
              "        Bairros  Média dos Preços\n",
              "0   Artur Alvim         18.835760\n",
              "1         Belém         27.565119\n",
              "2      Cangaíba         21.849201\n",
              "3        Carrão         25.425884\n",
              "4  Cidade Líder         19.886914"
            ]
          },
          "metadata": {},
          "execution_count": 151
        }
      ]
    },
    {
      "cell_type": "markdown",
      "metadata": {
        "id": "WlQPZbUr0Idj"
      },
      "source": [
        "Checando o DataFrame da média dos preços por metro quadrado para o dataset de vendas:"
      ]
    },
    {
      "cell_type": "code",
      "metadata": {
        "colab": {
          "base_uri": "https://localhost:8080/",
          "height": 205
        },
        "id": "nK16rmxrR80w",
        "outputId": "0ed98dd5-2729-47a0-ce35-8449cf7ac74a"
      },
      "source": [
        "# Checando as primeiras entradas do DataFrame de venda\n",
        "df_bairros_venda.head()"
      ],
      "execution_count": null,
      "outputs": [
        {
          "output_type": "execute_result",
          "data": {
            "text/html": [
              "<div>\n",
              "<style scoped>\n",
              "    .dataframe tbody tr th:only-of-type {\n",
              "        vertical-align: middle;\n",
              "    }\n",
              "\n",
              "    .dataframe tbody tr th {\n",
              "        vertical-align: top;\n",
              "    }\n",
              "\n",
              "    .dataframe thead th {\n",
              "        text-align: right;\n",
              "    }\n",
              "</style>\n",
              "<table border=\"1\" class=\"dataframe\">\n",
              "  <thead>\n",
              "    <tr style=\"text-align: right;\">\n",
              "      <th></th>\n",
              "      <th>Bairros</th>\n",
              "      <th>Média dos Preços</th>\n",
              "    </tr>\n",
              "  </thead>\n",
              "  <tbody>\n",
              "    <tr>\n",
              "      <th>0</th>\n",
              "      <td>Artur Alvim</td>\n",
              "      <td>3995.555904</td>\n",
              "    </tr>\n",
              "    <tr>\n",
              "      <th>1</th>\n",
              "      <td>Belém</td>\n",
              "      <td>6619.881369</td>\n",
              "    </tr>\n",
              "    <tr>\n",
              "      <th>2</th>\n",
              "      <td>Cangaíba</td>\n",
              "      <td>4904.508762</td>\n",
              "    </tr>\n",
              "    <tr>\n",
              "      <th>3</th>\n",
              "      <td>Carrão</td>\n",
              "      <td>6492.402752</td>\n",
              "    </tr>\n",
              "    <tr>\n",
              "      <th>4</th>\n",
              "      <td>Cidade Líder</td>\n",
              "      <td>4311.586167</td>\n",
              "    </tr>\n",
              "  </tbody>\n",
              "</table>\n",
              "</div>"
            ],
            "text/plain": [
              "        Bairros  Média dos Preços\n",
              "0   Artur Alvim       3995.555904\n",
              "1         Belém       6619.881369\n",
              "2      Cangaíba       4904.508762\n",
              "3        Carrão       6492.402752\n",
              "4  Cidade Líder       4311.586167"
            ]
          },
          "metadata": {},
          "execution_count": 152
        }
      ]
    },
    {
      "cell_type": "markdown",
      "metadata": {
        "id": "KAwwfIPwvTjd"
      },
      "source": [
        "Agora que temos os DataFrames com os valores dos preços médios por metro quadrado para cada tipo de negociação: aluguel e venda, podemos ver que se não tivéssemos separado os DataFrames poderiámos enviesar o modelo de Machine Learning.\n",
        "\n",
        "Como temos os valores para todos os bairros, podemos reduzir o problema de dimensionalidade agrupando os bairros com valores aproximados:"
      ]
    },
    {
      "cell_type": "code",
      "metadata": {
        "colab": {
          "base_uri": "https://localhost:8080/",
          "height": 299
        },
        "id": "pJnwKRgYTLDp",
        "outputId": "494afd5a-b6e1-4078-f11d-fbc93315bfdf"
      },
      "source": [
        "# Checando o resumo estatístico para o dataset de aluguel\n",
        "df_bairros_aluguel.describe()"
      ],
      "execution_count": null,
      "outputs": [
        {
          "output_type": "execute_result",
          "data": {
            "text/html": [
              "<div>\n",
              "<style scoped>\n",
              "    .dataframe tbody tr th:only-of-type {\n",
              "        vertical-align: middle;\n",
              "    }\n",
              "\n",
              "    .dataframe tbody tr th {\n",
              "        vertical-align: top;\n",
              "    }\n",
              "\n",
              "    .dataframe thead th {\n",
              "        text-align: right;\n",
              "    }\n",
              "</style>\n",
              "<table border=\"1\" class=\"dataframe\">\n",
              "  <thead>\n",
              "    <tr style=\"text-align: right;\">\n",
              "      <th></th>\n",
              "      <th>Média dos Preços</th>\n",
              "    </tr>\n",
              "  </thead>\n",
              "  <tbody>\n",
              "    <tr>\n",
              "      <th>count</th>\n",
              "      <td>94.000000</td>\n",
              "    </tr>\n",
              "    <tr>\n",
              "      <th>mean</th>\n",
              "      <td>30.315287</td>\n",
              "    </tr>\n",
              "    <tr>\n",
              "      <th>std</th>\n",
              "      <td>13.314212</td>\n",
              "    </tr>\n",
              "    <tr>\n",
              "      <th>min</th>\n",
              "      <td>17.047867</td>\n",
              "    </tr>\n",
              "    <tr>\n",
              "      <th>25%</th>\n",
              "      <td>22.489556</td>\n",
              "    </tr>\n",
              "    <tr>\n",
              "      <th>50%</th>\n",
              "      <td>25.823092</td>\n",
              "    </tr>\n",
              "    <tr>\n",
              "      <th>75%</th>\n",
              "      <td>32.829516</td>\n",
              "    </tr>\n",
              "    <tr>\n",
              "      <th>max</th>\n",
              "      <td>81.996472</td>\n",
              "    </tr>\n",
              "  </tbody>\n",
              "</table>\n",
              "</div>"
            ],
            "text/plain": [
              "       Média dos Preços\n",
              "count         94.000000\n",
              "mean          30.315287\n",
              "std           13.314212\n",
              "min           17.047867\n",
              "25%           22.489556\n",
              "50%           25.823092\n",
              "75%           32.829516\n",
              "max           81.996472"
            ]
          },
          "metadata": {},
          "execution_count": 153
        }
      ]
    },
    {
      "cell_type": "code",
      "metadata": {
        "colab": {
          "base_uri": "https://localhost:8080/",
          "height": 299
        },
        "id": "qAnGIERATLLc",
        "outputId": "92ab21b5-504c-4f35-f2f5-32cee6f620db"
      },
      "source": [
        "# Checando o resumo estatístico para o dataset de venda\n",
        "df_bairros_venda.describe()"
      ],
      "execution_count": null,
      "outputs": [
        {
          "output_type": "execute_result",
          "data": {
            "text/html": [
              "<div>\n",
              "<style scoped>\n",
              "    .dataframe tbody tr th:only-of-type {\n",
              "        vertical-align: middle;\n",
              "    }\n",
              "\n",
              "    .dataframe tbody tr th {\n",
              "        vertical-align: top;\n",
              "    }\n",
              "\n",
              "    .dataframe thead th {\n",
              "        text-align: right;\n",
              "    }\n",
              "</style>\n",
              "<table border=\"1\" class=\"dataframe\">\n",
              "  <thead>\n",
              "    <tr style=\"text-align: right;\">\n",
              "      <th></th>\n",
              "      <th>Média dos Preços</th>\n",
              "    </tr>\n",
              "  </thead>\n",
              "  <tbody>\n",
              "    <tr>\n",
              "      <th>count</th>\n",
              "      <td>96.000000</td>\n",
              "    </tr>\n",
              "    <tr>\n",
              "      <th>mean</th>\n",
              "      <td>6684.781633</td>\n",
              "    </tr>\n",
              "    <tr>\n",
              "      <th>std</th>\n",
              "      <td>2616.128249</td>\n",
              "    </tr>\n",
              "    <tr>\n",
              "      <th>min</th>\n",
              "      <td>2500.353621</td>\n",
              "    </tr>\n",
              "    <tr>\n",
              "      <th>25%</th>\n",
              "      <td>4801.836721</td>\n",
              "    </tr>\n",
              "    <tr>\n",
              "      <th>50%</th>\n",
              "      <td>6232.177793</td>\n",
              "    </tr>\n",
              "    <tr>\n",
              "      <th>75%</th>\n",
              "      <td>7399.018272</td>\n",
              "    </tr>\n",
              "    <tr>\n",
              "      <th>max</th>\n",
              "      <td>17102.299463</td>\n",
              "    </tr>\n",
              "  </tbody>\n",
              "</table>\n",
              "</div>"
            ],
            "text/plain": [
              "       Média dos Preços\n",
              "count         96.000000\n",
              "mean        6684.781633\n",
              "std         2616.128249\n",
              "min         2500.353621\n",
              "25%         4801.836721\n",
              "50%         6232.177793\n",
              "75%         7399.018272\n",
              "max        17102.299463"
            ]
          },
          "metadata": {},
          "execution_count": 154
        }
      ]
    },
    {
      "cell_type": "markdown",
      "metadata": {
        "id": "AcOBuQprnP6w"
      },
      "source": [
        "Se observarmos a quantidade de entradas para cada DataFrame, vemos que para o dataset de aluguel temos dois bairros a menos, ou seja, esses dois não possuem nenhuma entrada para aluguel, apenas vendas.\n",
        "\n",
        "Vamos localizar quais são esses dois bairros e remover do DataFrame de alugueis:"
      ]
    },
    {
      "cell_type": "code",
      "metadata": {
        "colab": {
          "base_uri": "https://localhost:8080/",
          "height": 112
        },
        "id": "PktWovyagkAS",
        "outputId": "40d35dd2-7006-421c-9368-b385fce73eca"
      },
      "source": [
        "# Localizando os bairros que não possuem alugueis\n",
        "df_bairros_aluguel.loc[df_bairros_aluguel['Média dos Preços'].isnull()]"
      ],
      "execution_count": null,
      "outputs": [
        {
          "output_type": "execute_result",
          "data": {
            "text/html": [
              "<div>\n",
              "<style scoped>\n",
              "    .dataframe tbody tr th:only-of-type {\n",
              "        vertical-align: middle;\n",
              "    }\n",
              "\n",
              "    .dataframe tbody tr th {\n",
              "        vertical-align: top;\n",
              "    }\n",
              "\n",
              "    .dataframe thead th {\n",
              "        text-align: right;\n",
              "    }\n",
              "</style>\n",
              "<table border=\"1\" class=\"dataframe\">\n",
              "  <thead>\n",
              "    <tr style=\"text-align: right;\">\n",
              "      <th></th>\n",
              "      <th>Bairros</th>\n",
              "      <th>Média dos Preços</th>\n",
              "    </tr>\n",
              "  </thead>\n",
              "  <tbody>\n",
              "    <tr>\n",
              "      <th>94</th>\n",
              "      <td>Perus</td>\n",
              "      <td>NaN</td>\n",
              "    </tr>\n",
              "    <tr>\n",
              "      <th>95</th>\n",
              "      <td>São Domingos</td>\n",
              "      <td>NaN</td>\n",
              "    </tr>\n",
              "  </tbody>\n",
              "</table>\n",
              "</div>"
            ],
            "text/plain": [
              "         Bairros  Média dos Preços\n",
              "94         Perus               NaN\n",
              "95  São Domingos               NaN"
            ]
          },
          "metadata": {},
          "execution_count": 155
        }
      ]
    },
    {
      "cell_type": "code",
      "metadata": {
        "id": "iM-Yg-xIoE9i"
      },
      "source": [
        "# Removendo os dois bairros que não possuem informações para o dataset de aluguel\n",
        "df_bairros_aluguel.dropna(inplace=True)"
      ],
      "execution_count": null,
      "outputs": []
    },
    {
      "cell_type": "markdown",
      "metadata": {
        "id": "C7gTLUeKrrbf"
      },
      "source": [
        "Vamos dividir os bairros do dataset de aluguel em 12 grupos de acordo com a aproximação dos valores em um intervalo de 5 em 5 para as médias dos preços, sendo:\n",
        "\n",
        "* Grupo 1: média dos preços entre 15 e 20;\n",
        "* Grupo 2: entre 20 e 25;\n",
        "* Grupo 3: entre 25 e 30;\n",
        "* Grupo 4: entre 30 e 35;\n",
        "* Grupo 5: entre 35 e 40;\n",
        "* Grupo 6: entre 40 e 45;\n",
        "* Grupo 7: entre 45 e 50;\n",
        "* Grupo 8: entre 50 e 55;\n",
        "* Grupo 9: entre 55 e 60;\n",
        "* Grupo 10: entre 60 e 65;\n",
        "* Grupo 11: entre 75 e 80;\n",
        "* Grupo 12: acima de 80. "
      ]
    },
    {
      "cell_type": "code",
      "metadata": {
        "id": "nfqeGF37pjMb"
      },
      "source": [
        "### Criando cada conjunto de agrupamentos para o DataFrame de aluguel\n",
        "\n",
        "\n",
        "# Entre 15 e 20\n",
        "bairros_15_20 = df_bairros_aluguel['Bairros'][(df_bairros_aluguel['Média dos Preços'] >= 15) \n",
        "                                         & (df_bairros_aluguel['Média dos Preços'] < 20)].unique()\n",
        "\n",
        "# Entre 20 e 25\n",
        "bairros_20_25 = df_bairros_aluguel['Bairros'][(df_bairros_aluguel['Média dos Preços'] >= 20) \n",
        "                                         & (df_bairros_aluguel['Média dos Preços'] < 25)].unique()\n",
        "\n",
        "# Entre 25 e 30\n",
        "bairros_25_30 = df_bairros_aluguel['Bairros'][(df_bairros_aluguel['Média dos Preços'] >= 25) \n",
        "                                         & (df_bairros_aluguel['Média dos Preços'] < 30)].unique()\n",
        "\n",
        "# Entre 30 e 35\n",
        "bairros_30_35 = df_bairros_aluguel['Bairros'][(df_bairros_aluguel['Média dos Preços'] >= 30) \n",
        "                                         & (df_bairros_aluguel['Média dos Preços'] < 35)].unique()\n",
        "\n",
        "# Entre 35 e 40\n",
        "bairros_35_40 = df_bairros_aluguel['Bairros'][(df_bairros_aluguel['Média dos Preços'] >= 35) \n",
        "                                         & (df_bairros_aluguel['Média dos Preços'] < 40)].unique()                                         \n",
        "\n",
        "# Entre 40 e 45\n",
        "bairros_40_45 = df_bairros_aluguel['Bairros'][(df_bairros_aluguel['Média dos Preços'] >= 40) \n",
        "                                         & (df_bairros_aluguel['Média dos Preços'] < 45)].unique()\n",
        "\n",
        "# Entre 45 e 50\n",
        "bairros_45_50 = df_bairros_aluguel['Bairros'][(df_bairros_aluguel['Média dos Preços'] >= 45) \n",
        "                                         & (df_bairros_aluguel['Média dos Preços'] < 50)].unique()\n",
        "\n",
        "# Entre 50 e 55\n",
        "bairros_50_55 = df_bairros_aluguel['Bairros'][(df_bairros_aluguel['Média dos Preços'] >= 50) \n",
        "                                         & (df_bairros_aluguel['Média dos Preços'] < 55)].unique()\n",
        "\n",
        "# Entre 55 e 60\n",
        "bairros_55_60 = df_bairros_aluguel['Bairros'][(df_bairros_aluguel['Média dos Preços'] >= 55) \n",
        "                                         & (df_bairros_aluguel['Média dos Preços'] < 60)].unique()\n",
        "\n",
        "# Entre 60 e 65\n",
        "bairros_60_65 = df_bairros_aluguel['Bairros'][(df_bairros_aluguel['Média dos Preços'] >= 60) \n",
        "                                         & (df_bairros_aluguel['Média dos Preços'] < 65)].unique() \n",
        "\n",
        "# Entre 75 e 80 (não existe nenhuma entrada entre 65 e 75)\n",
        "bairros_75_80 = df_bairros_aluguel['Bairros'][(df_bairros_aluguel['Média dos Preços'] >= 75) \n",
        "                                         & (df_bairros_aluguel['Média dos Preços'] < 80)].unique()                                                                                                                         \n",
        "\n",
        "# Acima de 80\n",
        "bairros_80 = df_bairros_aluguel['Bairros'][df_bairros_aluguel['Média dos Preços'] > 80].unique()"
      ],
      "execution_count": null,
      "outputs": []
    },
    {
      "cell_type": "markdown",
      "metadata": {
        "id": "5ZeD3yhowNkk"
      },
      "source": [
        "Agora com os bairros separados vamos reaalizar os agrupamentos no dataset:"
      ]
    },
    {
      "cell_type": "code",
      "metadata": {
        "colab": {
          "base_uri": "https://localhost:8080/",
          "height": 205
        },
        "id": "bxRo_TENpjPj",
        "outputId": "3d492634-6390-42a3-e1e3-dcc4a7682350"
      },
      "source": [
        "# Copiando o DataFrame para realizar os agrupamentos desta etapa\n",
        "df_agrupado_aluguel = df_aluguel.copy()\n",
        "\n",
        "# Realizando as substituições\n",
        "for i in lista_bairros:\n",
        "  if i in bairros_15_20:\n",
        "    df_agrupado_aluguel['District'].replace({i:'Grupo 1'}, inplace=True)\n",
        "  \n",
        "  if i in bairros_20_25:\n",
        "    df_agrupado_aluguel['District'].replace({i:'Grupo 2'}, inplace=True)\n",
        "\n",
        "  if i in bairros_25_30:\n",
        "    df_agrupado_aluguel['District'].replace({i:'Grupo 3'}, inplace=True)\n",
        "\n",
        "  if i in bairros_30_35:\n",
        "    df_agrupado_aluguel['District'].replace({i:'Grupo 4'}, inplace=True)\n",
        "\n",
        "  if i in bairros_35_40:\n",
        "    df_agrupado_aluguel['District'].replace({i:'Grupo 5'}, inplace=True)\n",
        "\n",
        "  if i in bairros_40_45:\n",
        "    df_agrupado_aluguel['District'].replace({i:'Grupo 6'}, inplace=True)\n",
        "\n",
        "  if i in bairros_45_50:\n",
        "    df_agrupado_aluguel['District'].replace({i:'Grupo 7'}, inplace=True)\n",
        "\n",
        "  if i in bairros_50_55:\n",
        "    df_agrupado_aluguel['District'].replace({i:'Grupo 8'}, inplace=True)\n",
        "\n",
        "  if i in bairros_55_60:\n",
        "    df_agrupado_aluguel['District'].replace({i:'Grupo 9'}, inplace=True)\n",
        "\n",
        "  if i in bairros_60_65:\n",
        "    df_agrupado_aluguel['District'].replace({i:'Grupo 10'}, inplace=True)\n",
        "\n",
        "  if i in bairros_75_80:\n",
        "    df_agrupado_aluguel['District'].replace({i:'Grupo 11'}, inplace=True)\n",
        "  \n",
        "  if i in bairros_80:\n",
        "    df_agrupado_aluguel['District'].replace({i:'Grupo 12'}, inplace=True)\n",
        "\n",
        "# Renomeando o nome da coluna District para Preço Médio por m²\n",
        "df_agrupado_aluguel.rename(columns={'District':'Grupo'}, inplace=True)\n",
        "\n",
        "# Checando o DataFrame com as substituições\n",
        "df_agrupado_aluguel.head()"
      ],
      "execution_count": null,
      "outputs": [
        {
          "output_type": "execute_result",
          "data": {
            "text/html": [
              "<div>\n",
              "<style scoped>\n",
              "    .dataframe tbody tr th:only-of-type {\n",
              "        vertical-align: middle;\n",
              "    }\n",
              "\n",
              "    .dataframe tbody tr th {\n",
              "        vertical-align: top;\n",
              "    }\n",
              "\n",
              "    .dataframe thead th {\n",
              "        text-align: right;\n",
              "    }\n",
              "</style>\n",
              "<table border=\"1\" class=\"dataframe\">\n",
              "  <thead>\n",
              "    <tr style=\"text-align: right;\">\n",
              "      <th></th>\n",
              "      <th>Price</th>\n",
              "      <th>Condo</th>\n",
              "      <th>Size</th>\n",
              "      <th>Rooms</th>\n",
              "      <th>Toilets</th>\n",
              "      <th>Suites</th>\n",
              "      <th>Parking</th>\n",
              "      <th>Elevator</th>\n",
              "      <th>Furnished</th>\n",
              "      <th>Swimming Pool</th>\n",
              "      <th>New</th>\n",
              "      <th>Grupo</th>\n",
              "      <th>Price/Size</th>\n",
              "    </tr>\n",
              "  </thead>\n",
              "  <tbody>\n",
              "    <tr>\n",
              "      <th>0</th>\n",
              "      <td>930</td>\n",
              "      <td>220</td>\n",
              "      <td>47</td>\n",
              "      <td>2</td>\n",
              "      <td>2</td>\n",
              "      <td>1</td>\n",
              "      <td>1</td>\n",
              "      <td>0</td>\n",
              "      <td>0</td>\n",
              "      <td>0</td>\n",
              "      <td>0</td>\n",
              "      <td>Grupo 1</td>\n",
              "      <td>19.787234</td>\n",
              "    </tr>\n",
              "    <tr>\n",
              "      <th>1</th>\n",
              "      <td>1000</td>\n",
              "      <td>148</td>\n",
              "      <td>45</td>\n",
              "      <td>2</td>\n",
              "      <td>2</td>\n",
              "      <td>1</td>\n",
              "      <td>1</td>\n",
              "      <td>0</td>\n",
              "      <td>0</td>\n",
              "      <td>0</td>\n",
              "      <td>0</td>\n",
              "      <td>Grupo 1</td>\n",
              "      <td>22.222222</td>\n",
              "    </tr>\n",
              "    <tr>\n",
              "      <th>2</th>\n",
              "      <td>1000</td>\n",
              "      <td>100</td>\n",
              "      <td>48</td>\n",
              "      <td>2</td>\n",
              "      <td>2</td>\n",
              "      <td>1</td>\n",
              "      <td>1</td>\n",
              "      <td>0</td>\n",
              "      <td>0</td>\n",
              "      <td>0</td>\n",
              "      <td>0</td>\n",
              "      <td>Grupo 1</td>\n",
              "      <td>20.833333</td>\n",
              "    </tr>\n",
              "    <tr>\n",
              "      <th>3</th>\n",
              "      <td>1000</td>\n",
              "      <td>200</td>\n",
              "      <td>48</td>\n",
              "      <td>2</td>\n",
              "      <td>2</td>\n",
              "      <td>1</td>\n",
              "      <td>1</td>\n",
              "      <td>0</td>\n",
              "      <td>0</td>\n",
              "      <td>0</td>\n",
              "      <td>0</td>\n",
              "      <td>Grupo 1</td>\n",
              "      <td>20.833333</td>\n",
              "    </tr>\n",
              "    <tr>\n",
              "      <th>4</th>\n",
              "      <td>1300</td>\n",
              "      <td>410</td>\n",
              "      <td>55</td>\n",
              "      <td>2</td>\n",
              "      <td>2</td>\n",
              "      <td>1</td>\n",
              "      <td>1</td>\n",
              "      <td>1</td>\n",
              "      <td>0</td>\n",
              "      <td>0</td>\n",
              "      <td>0</td>\n",
              "      <td>Grupo 1</td>\n",
              "      <td>23.636364</td>\n",
              "    </tr>\n",
              "  </tbody>\n",
              "</table>\n",
              "</div>"
            ],
            "text/plain": [
              "   Price  Condo  Size  Rooms  ...  Swimming Pool  New    Grupo  Price/Size\n",
              "0    930    220    47      2  ...              0    0  Grupo 1   19.787234\n",
              "1   1000    148    45      2  ...              0    0  Grupo 1   22.222222\n",
              "2   1000    100    48      2  ...              0    0  Grupo 1   20.833333\n",
              "3   1000    200    48      2  ...              0    0  Grupo 1   20.833333\n",
              "4   1300    410    55      2  ...              0    0  Grupo 1   23.636364\n",
              "\n",
              "[5 rows x 13 columns]"
            ]
          },
          "metadata": {},
          "execution_count": 158
        }
      ]
    },
    {
      "cell_type": "markdown",
      "metadata": {
        "id": "U8oejB1ny-xu"
      },
      "source": [
        "Agora que temos os grupos em relação ao preço por metro quadrado do apartamento, podemos removê-la para não termos duas colunas com a mesma informação:"
      ]
    },
    {
      "cell_type": "code",
      "metadata": {
        "colab": {
          "base_uri": "https://localhost:8080/",
          "height": 205
        },
        "id": "Rnsb9RUNzUGL",
        "outputId": "1ca39e92-d9a3-4d67-994f-ca5153d2981a"
      },
      "source": [
        "# Removendo a coluna Price/Size\n",
        "df_agrupado_aluguel.drop('Price/Size', axis=1, inplace=True)\n",
        "\n",
        "# Checando a remoção\n",
        "df_agrupado_aluguel.head()"
      ],
      "execution_count": null,
      "outputs": [
        {
          "output_type": "execute_result",
          "data": {
            "text/html": [
              "<div>\n",
              "<style scoped>\n",
              "    .dataframe tbody tr th:only-of-type {\n",
              "        vertical-align: middle;\n",
              "    }\n",
              "\n",
              "    .dataframe tbody tr th {\n",
              "        vertical-align: top;\n",
              "    }\n",
              "\n",
              "    .dataframe thead th {\n",
              "        text-align: right;\n",
              "    }\n",
              "</style>\n",
              "<table border=\"1\" class=\"dataframe\">\n",
              "  <thead>\n",
              "    <tr style=\"text-align: right;\">\n",
              "      <th></th>\n",
              "      <th>Price</th>\n",
              "      <th>Condo</th>\n",
              "      <th>Size</th>\n",
              "      <th>Rooms</th>\n",
              "      <th>Toilets</th>\n",
              "      <th>Suites</th>\n",
              "      <th>Parking</th>\n",
              "      <th>Elevator</th>\n",
              "      <th>Furnished</th>\n",
              "      <th>Swimming Pool</th>\n",
              "      <th>New</th>\n",
              "      <th>Grupo</th>\n",
              "    </tr>\n",
              "  </thead>\n",
              "  <tbody>\n",
              "    <tr>\n",
              "      <th>0</th>\n",
              "      <td>930</td>\n",
              "      <td>220</td>\n",
              "      <td>47</td>\n",
              "      <td>2</td>\n",
              "      <td>2</td>\n",
              "      <td>1</td>\n",
              "      <td>1</td>\n",
              "      <td>0</td>\n",
              "      <td>0</td>\n",
              "      <td>0</td>\n",
              "      <td>0</td>\n",
              "      <td>Grupo 1</td>\n",
              "    </tr>\n",
              "    <tr>\n",
              "      <th>1</th>\n",
              "      <td>1000</td>\n",
              "      <td>148</td>\n",
              "      <td>45</td>\n",
              "      <td>2</td>\n",
              "      <td>2</td>\n",
              "      <td>1</td>\n",
              "      <td>1</td>\n",
              "      <td>0</td>\n",
              "      <td>0</td>\n",
              "      <td>0</td>\n",
              "      <td>0</td>\n",
              "      <td>Grupo 1</td>\n",
              "    </tr>\n",
              "    <tr>\n",
              "      <th>2</th>\n",
              "      <td>1000</td>\n",
              "      <td>100</td>\n",
              "      <td>48</td>\n",
              "      <td>2</td>\n",
              "      <td>2</td>\n",
              "      <td>1</td>\n",
              "      <td>1</td>\n",
              "      <td>0</td>\n",
              "      <td>0</td>\n",
              "      <td>0</td>\n",
              "      <td>0</td>\n",
              "      <td>Grupo 1</td>\n",
              "    </tr>\n",
              "    <tr>\n",
              "      <th>3</th>\n",
              "      <td>1000</td>\n",
              "      <td>200</td>\n",
              "      <td>48</td>\n",
              "      <td>2</td>\n",
              "      <td>2</td>\n",
              "      <td>1</td>\n",
              "      <td>1</td>\n",
              "      <td>0</td>\n",
              "      <td>0</td>\n",
              "      <td>0</td>\n",
              "      <td>0</td>\n",
              "      <td>Grupo 1</td>\n",
              "    </tr>\n",
              "    <tr>\n",
              "      <th>4</th>\n",
              "      <td>1300</td>\n",
              "      <td>410</td>\n",
              "      <td>55</td>\n",
              "      <td>2</td>\n",
              "      <td>2</td>\n",
              "      <td>1</td>\n",
              "      <td>1</td>\n",
              "      <td>1</td>\n",
              "      <td>0</td>\n",
              "      <td>0</td>\n",
              "      <td>0</td>\n",
              "      <td>Grupo 1</td>\n",
              "    </tr>\n",
              "  </tbody>\n",
              "</table>\n",
              "</div>"
            ],
            "text/plain": [
              "   Price  Condo  Size  Rooms  ...  Furnished  Swimming Pool  New    Grupo\n",
              "0    930    220    47      2  ...          0              0    0  Grupo 1\n",
              "1   1000    148    45      2  ...          0              0    0  Grupo 1\n",
              "2   1000    100    48      2  ...          0              0    0  Grupo 1\n",
              "3   1000    200    48      2  ...          0              0    0  Grupo 1\n",
              "4   1300    410    55      2  ...          0              0    0  Grupo 1\n",
              "\n",
              "[5 rows x 12 columns]"
            ]
          },
          "metadata": {},
          "execution_count": 159
        }
      ]
    },
    {
      "cell_type": "markdown",
      "metadata": {
        "id": "NxmbbDZMzogy"
      },
      "source": [
        "Vamos realizar os mesmos passos para o dataset de vendas, sendo que iremos separar os bairros em 20 grupos com intervalos de 500 em 500, sendo:\n",
        "\n",
        "* Grupo 1: média dos preços entre 2500 e 3000;\n",
        "* Grupo 2: entre 3500 e 4000;\n",
        "* Grupo 3: entre 4000 e 4500;\n",
        "* Grupo 4: entre 4500 e 5000;\n",
        "* Grupo 5: entre 5000 e 5500;\n",
        "* Grupo 6: entre 5500 e 6000;\n",
        "* Grupo 7: entre 6000 e 6500;\n",
        "* Grupo 8: entre 6500 e 7000;\n",
        "* Grupo 9: entre 7000 e 7500;\n",
        "* Grupo 10: entre 7500 e 8000;\n",
        "* Grupo 11: entre 8000 e 8500;\n",
        "* Grupo 12: entre 9000 e 9500;\n",
        "* Grupo 13: entre 9500 e 10000;\n",
        "* Grupo 14: entre 10000 e 10500;\n",
        "* Grupo 15: entre 10500 e 11000;\n",
        "* Grupo 16: entre 11500 e 12000;\n",
        "* Grupo 17: entre 12000 e 12500;\n",
        "* Grupo 18: entre 12500 e 13000;\n",
        "* Grupo 19: entre 14000 e 14500;\n",
        "* Grupo 20: acima de 17000;"
      ]
    },
    {
      "cell_type": "code",
      "metadata": {
        "id": "F9y4dydHvrkE"
      },
      "source": [
        "### Criando cada conjunto de agrupamentos para o DataFrame de venda\n",
        "\n",
        "# Entre 2500 e 3000\n",
        "bairros_2500_3000 = df_bairros_venda['Bairros'][(df_bairros_venda['Média dos Preços'] >= 2500) \n",
        "                                         & (df_bairros_venda['Média dos Preços'] < 3000)].unique()\n",
        "\n",
        "# Entre 3500 e 4000\n",
        "bairros_3500_4000 = df_bairros_venda['Bairros'][(df_bairros_venda['Média dos Preços'] >= 3500) \n",
        "                                         & (df_bairros_venda['Média dos Preços'] < 4000)].unique()\n",
        "\n",
        "# Entre 4000 e 4500\n",
        "bairros_4000_4500 = df_bairros_venda['Bairros'][(df_bairros_venda['Média dos Preços'] >= 4000) \n",
        "                                         & (df_bairros_venda['Média dos Preços'] < 4500)].unique()\n",
        "\n",
        "# Entre 4500 e 5000\n",
        "bairros_4500_5000 = df_bairros_venda['Bairros'][(df_bairros_venda['Média dos Preços'] >= 4500) \n",
        "                                         & (df_bairros_venda['Média dos Preços'] < 5000)].unique()\n",
        "\n",
        "# Entre 5000 e 5500\n",
        "bairros_5000_5500 = df_bairros_venda['Bairros'][(df_bairros_venda['Média dos Preços'] >= 5000) \n",
        "                                         & (df_bairros_venda['Média dos Preços'] < 5500)].unique()                                         \n",
        "\n",
        "# Entre 5500 e 6000\n",
        "bairros_5500_6000 = df_bairros_venda['Bairros'][(df_bairros_venda['Média dos Preços'] >= 5500) \n",
        "                                         & (df_bairros_venda['Média dos Preços'] < 6000)].unique()\n",
        "\n",
        "# Entre 6000 e 6500\n",
        "bairros_6000_6500 = df_bairros_venda['Bairros'][(df_bairros_venda['Média dos Preços'] >= 6000) \n",
        "                                         & (df_bairros_venda['Média dos Preços'] < 6500)].unique()\n",
        "\n",
        "# Entre 6500 e 7000\n",
        "bairros_6500_7000 = df_bairros_venda['Bairros'][(df_bairros_venda['Média dos Preços'] >= 6500) \n",
        "                                         & (df_bairros_venda['Média dos Preços'] < 7000)].unique()\n",
        "\n",
        "# Entre 7000 e 7500\n",
        "bairros_7000_7500 = df_bairros_venda['Bairros'][(df_bairros_venda['Média dos Preços'] >= 7000) \n",
        "                                         & (df_bairros_venda['Média dos Preços'] < 7500)].unique()\n",
        "\n",
        "# Entre 7500 e 8000\n",
        "bairros_7500_8000 = df_bairros_venda['Bairros'][(df_bairros_venda['Média dos Preços'] >= 7500) \n",
        "                                         & (df_bairros_venda['Média dos Preços'] < 8000)].unique() \n",
        "\n",
        "# Entre 8000 e 8500\n",
        "bairros_8000_8500 = df_bairros_venda['Bairros'][(df_bairros_venda['Média dos Preços'] >= 8000) \n",
        "                                         & (df_bairros_venda['Média dos Preços'] < 8500)].unique()   \n",
        "\n",
        "# Entre 9000 e 9500\n",
        "bairros_9000_9500 = df_bairros_venda['Bairros'][(df_bairros_venda['Média dos Preços'] >= 9000) \n",
        "                                         & (df_bairros_venda['Média dos Preços'] < 9500)].unique() \n",
        "\n",
        "# Entre 9500 e 10000\n",
        "bairros_9500_10000 = df_bairros_venda['Bairros'][(df_bairros_venda['Média dos Preços'] >= 9500) \n",
        "                                         & (df_bairros_venda['Média dos Preços'] < 10000)].unique()  \n",
        "\n",
        "# Entre 10000 e 10500\n",
        "bairros_10000_10500 = df_bairros_venda['Bairros'][(df_bairros_venda['Média dos Preços'] >= 10000) \n",
        "                                         & (df_bairros_venda['Média dos Preços'] < 10500)].unique()                                                                                                                                    \n",
        "\n",
        "# Entre 10500 e 11000\n",
        "bairros_10500_11000 = df_bairros_venda['Bairros'][(df_bairros_venda['Média dos Preços'] >= 10500) \n",
        "                                         & (df_bairros_venda['Média dos Preços'] < 11000)].unique()    \n",
        "\n",
        "# Entre 11500 e 12000\n",
        "bairros_11500_12000 = df_bairros_venda['Bairros'][(df_bairros_venda['Média dos Preços'] >= 11500) \n",
        "                                         & (df_bairros_venda['Média dos Preços'] < 12000)].unique()    \n",
        "\n",
        "# Entre 12000 e 12500\n",
        "bairros_12000_12500 = df_bairros_venda['Bairros'][(df_bairros_venda['Média dos Preços'] >= 12000) \n",
        "                                         & (df_bairros_venda['Média dos Preços'] < 12500)].unique()    \n",
        "\n",
        "# Entre 12500 e 13000\n",
        "bairros_12500_13000 = df_bairros_venda['Bairros'][(df_bairros_venda['Média dos Preços'] >= 12500) \n",
        "                                         & (df_bairros_venda['Média dos Preços'] < 13000)].unique()    \n",
        "\n",
        "# Entre 14000 e 14500\n",
        "bairros_14000_14500 = df_bairros_venda['Bairros'][(df_bairros_venda['Média dos Preços'] >= 14000) \n",
        "                                         & (df_bairros_venda['Média dos Preços'] < 14500)].unique()    \n",
        "\n",
        "# Acima de 17000\n",
        "bairros_17000 = df_bairros_venda['Bairros'][df_bairros_venda['Média dos Preços'] > 17000].unique()"
      ],
      "execution_count": null,
      "outputs": []
    },
    {
      "cell_type": "markdown",
      "metadata": {
        "id": "7gn5rOvOergt"
      },
      "source": [
        "Agora com os bairros separados, vamos agrupá-los no dataset de vendas:"
      ]
    },
    {
      "cell_type": "code",
      "metadata": {
        "colab": {
          "base_uri": "https://localhost:8080/",
          "height": 205
        },
        "id": "5wRhRSJ3exEO",
        "outputId": "3ba921e3-6843-4f91-a291-b02bc51f36cc"
      },
      "source": [
        "# Copiando o DataFrame para realizar os agrupamentos desta etapa\n",
        "df_agrupado_venda = df_venda.copy()\n",
        "\n",
        "# Realizando as substituições\n",
        "for i in lista_bairros:\n",
        "  if i in bairros_2500_3000:\n",
        "    df_agrupado_venda['District'].replace({i:'Grupo 1'}, inplace=True)\n",
        "  \n",
        "  if i in bairros_3500_4000:\n",
        "    df_agrupado_venda['District'].replace({i:'Grupo 2'}, inplace=True)\n",
        "\n",
        "  if i in bairros_4000_4500:\n",
        "    df_agrupado_venda['District'].replace({i:'Grupo 3'}, inplace=True)\n",
        "\n",
        "  if i in bairros_4500_5000:\n",
        "    df_agrupado_venda['District'].replace({i:'Grupo 4'}, inplace=True)\n",
        "\n",
        "  if i in bairros_5000_5500:\n",
        "    df_agrupado_venda['District'].replace({i:'Grupo 5'}, inplace=True)\n",
        "\n",
        "  if i in bairros_5500_6000:\n",
        "    df_agrupado_venda['District'].replace({i:'Grupo 6'}, inplace=True)\n",
        "\n",
        "  if i in bairros_6000_6500:\n",
        "    df_agrupado_venda['District'].replace({i:'Grupo 7'}, inplace=True)\n",
        "\n",
        "  if i in bairros_6500_7000:\n",
        "    df_agrupado_venda['District'].replace({i:'Grupo 8'}, inplace=True)\n",
        "\n",
        "  if i in bairros_7000_7500:\n",
        "    df_agrupado_venda['District'].replace({i:'Grupo 9'}, inplace=True)\n",
        "\n",
        "  if i in bairros_7500_8000:\n",
        "    df_agrupado_venda['District'].replace({i:'Grupo 10'}, inplace=True)\n",
        "\n",
        "  if i in bairros_8000_8500:\n",
        "    df_agrupado_venda['District'].replace({i:'Grupo 11'}, inplace=True)\n",
        "  \n",
        "  if i in bairros_9000_9500:\n",
        "    df_agrupado_venda['District'].replace({i:'Grupo 12'}, inplace=True)\n",
        "\n",
        "  if i in bairros_9500_10000:\n",
        "    df_agrupado_venda['District'].replace({i:'Grupo 13'}, inplace=True)\n",
        "  \n",
        "  if i in bairros_10000_10500:\n",
        "    df_agrupado_venda['District'].replace({i:'Grupo 14'}, inplace=True)\n",
        "\n",
        "  if i in bairros_10500_11000:\n",
        "    df_agrupado_venda['District'].replace({i:'Grupo 15'}, inplace=True)\n",
        "\n",
        "  if i in bairros_11500_12000:\n",
        "    df_agrupado_venda['District'].replace({i:'Grupo 16'}, inplace=True)\n",
        "\n",
        "  if i in bairros_12000_12500:\n",
        "    df_agrupado_venda['District'].replace({i:'Grupo 17'}, inplace=True)\n",
        "\n",
        "  if i in bairros_12500_13000:\n",
        "    df_agrupado_venda['District'].replace({i:'Grupo 18'}, inplace=True)\n",
        "\n",
        "  if i in bairros_14000_14500:\n",
        "    df_agrupado_venda['District'].replace({i:'Grupo 19'}, inplace=True)\n",
        "\n",
        "  if i in bairros_17000:\n",
        "    df_agrupado_venda['District'].replace({i:'Grupo 20'}, inplace=True)\n",
        "\n",
        "# Renomeando o nome da coluna District para Preço Médio por m²\n",
        "df_agrupado_venda.rename(columns={'District':'Grupo'}, inplace=True)\n",
        "\n",
        "# Checando o DataFrame com as substituições\n",
        "df_agrupado_venda.head()"
      ],
      "execution_count": null,
      "outputs": [
        {
          "output_type": "execute_result",
          "data": {
            "text/html": [
              "<div>\n",
              "<style scoped>\n",
              "    .dataframe tbody tr th:only-of-type {\n",
              "        vertical-align: middle;\n",
              "    }\n",
              "\n",
              "    .dataframe tbody tr th {\n",
              "        vertical-align: top;\n",
              "    }\n",
              "\n",
              "    .dataframe thead th {\n",
              "        text-align: right;\n",
              "    }\n",
              "</style>\n",
              "<table border=\"1\" class=\"dataframe\">\n",
              "  <thead>\n",
              "    <tr style=\"text-align: right;\">\n",
              "      <th></th>\n",
              "      <th>Price</th>\n",
              "      <th>Condo</th>\n",
              "      <th>Size</th>\n",
              "      <th>Rooms</th>\n",
              "      <th>Toilets</th>\n",
              "      <th>Suites</th>\n",
              "      <th>Parking</th>\n",
              "      <th>Elevator</th>\n",
              "      <th>Furnished</th>\n",
              "      <th>Swimming Pool</th>\n",
              "      <th>New</th>\n",
              "      <th>Grupo</th>\n",
              "      <th>Price/Size</th>\n",
              "    </tr>\n",
              "  </thead>\n",
              "  <tbody>\n",
              "    <tr>\n",
              "      <th>4901</th>\n",
              "      <td>732600</td>\n",
              "      <td>1000</td>\n",
              "      <td>74</td>\n",
              "      <td>1</td>\n",
              "      <td>2</td>\n",
              "      <td>1</td>\n",
              "      <td>2</td>\n",
              "      <td>1</td>\n",
              "      <td>0</td>\n",
              "      <td>1</td>\n",
              "      <td>0</td>\n",
              "      <td>Grupo 17</td>\n",
              "      <td>9900.000000</td>\n",
              "    </tr>\n",
              "    <tr>\n",
              "      <th>4902</th>\n",
              "      <td>1990000</td>\n",
              "      <td>2400</td>\n",
              "      <td>164</td>\n",
              "      <td>4</td>\n",
              "      <td>5</td>\n",
              "      <td>2</td>\n",
              "      <td>3</td>\n",
              "      <td>1</td>\n",
              "      <td>1</td>\n",
              "      <td>1</td>\n",
              "      <td>0</td>\n",
              "      <td>Grupo 17</td>\n",
              "      <td>12134.146341</td>\n",
              "    </tr>\n",
              "    <tr>\n",
              "      <th>4903</th>\n",
              "      <td>720000</td>\n",
              "      <td>700</td>\n",
              "      <td>70</td>\n",
              "      <td>2</td>\n",
              "      <td>2</td>\n",
              "      <td>1</td>\n",
              "      <td>1</td>\n",
              "      <td>1</td>\n",
              "      <td>0</td>\n",
              "      <td>1</td>\n",
              "      <td>1</td>\n",
              "      <td>Grupo 17</td>\n",
              "      <td>10285.714286</td>\n",
              "    </tr>\n",
              "    <tr>\n",
              "      <th>4904</th>\n",
              "      <td>1680000</td>\n",
              "      <td>1580</td>\n",
              "      <td>155</td>\n",
              "      <td>3</td>\n",
              "      <td>5</td>\n",
              "      <td>3</td>\n",
              "      <td>2</td>\n",
              "      <td>1</td>\n",
              "      <td>0</td>\n",
              "      <td>1</td>\n",
              "      <td>0</td>\n",
              "      <td>Grupo 17</td>\n",
              "      <td>10838.709677</td>\n",
              "    </tr>\n",
              "    <tr>\n",
              "      <th>4905</th>\n",
              "      <td>1200000</td>\n",
              "      <td>900</td>\n",
              "      <td>56</td>\n",
              "      <td>2</td>\n",
              "      <td>2</td>\n",
              "      <td>1</td>\n",
              "      <td>2</td>\n",
              "      <td>0</td>\n",
              "      <td>1</td>\n",
              "      <td>1</td>\n",
              "      <td>0</td>\n",
              "      <td>Grupo 17</td>\n",
              "      <td>21428.571429</td>\n",
              "    </tr>\n",
              "  </tbody>\n",
              "</table>\n",
              "</div>"
            ],
            "text/plain": [
              "        Price  Condo  Size  Rooms  ...  Swimming Pool  New     Grupo    Price/Size\n",
              "4901   732600   1000    74      1  ...              1    0  Grupo 17   9900.000000\n",
              "4902  1990000   2400   164      4  ...              1    0  Grupo 17  12134.146341\n",
              "4903   720000    700    70      2  ...              1    1  Grupo 17  10285.714286\n",
              "4904  1680000   1580   155      3  ...              1    0  Grupo 17  10838.709677\n",
              "4905  1200000    900    56      2  ...              1    0  Grupo 17  21428.571429\n",
              "\n",
              "[5 rows x 13 columns]"
            ]
          },
          "metadata": {},
          "execution_count": 161
        }
      ]
    },
    {
      "cell_type": "markdown",
      "metadata": {
        "id": "mzgUWZUCgzcF"
      },
      "source": [
        "Assim como removemos a coluna `Price/Size` para o dataset de aluguel, iremos remover também para o de venda:"
      ]
    },
    {
      "cell_type": "code",
      "metadata": {
        "colab": {
          "base_uri": "https://localhost:8080/",
          "height": 205
        },
        "id": "0TYo3gbeg_Cc",
        "outputId": "1edd0e6d-a1f7-4bdc-cdb1-6ff2946f7640"
      },
      "source": [
        "# Removendo a coluna Price/Size\n",
        "df_agrupado_venda.drop('Price/Size', axis=1, inplace=True)\n",
        "\n",
        "# Checando a remoção\n",
        "df_agrupado_venda.head()"
      ],
      "execution_count": null,
      "outputs": [
        {
          "output_type": "execute_result",
          "data": {
            "text/html": [
              "<div>\n",
              "<style scoped>\n",
              "    .dataframe tbody tr th:only-of-type {\n",
              "        vertical-align: middle;\n",
              "    }\n",
              "\n",
              "    .dataframe tbody tr th {\n",
              "        vertical-align: top;\n",
              "    }\n",
              "\n",
              "    .dataframe thead th {\n",
              "        text-align: right;\n",
              "    }\n",
              "</style>\n",
              "<table border=\"1\" class=\"dataframe\">\n",
              "  <thead>\n",
              "    <tr style=\"text-align: right;\">\n",
              "      <th></th>\n",
              "      <th>Price</th>\n",
              "      <th>Condo</th>\n",
              "      <th>Size</th>\n",
              "      <th>Rooms</th>\n",
              "      <th>Toilets</th>\n",
              "      <th>Suites</th>\n",
              "      <th>Parking</th>\n",
              "      <th>Elevator</th>\n",
              "      <th>Furnished</th>\n",
              "      <th>Swimming Pool</th>\n",
              "      <th>New</th>\n",
              "      <th>Grupo</th>\n",
              "    </tr>\n",
              "  </thead>\n",
              "  <tbody>\n",
              "    <tr>\n",
              "      <th>4901</th>\n",
              "      <td>732600</td>\n",
              "      <td>1000</td>\n",
              "      <td>74</td>\n",
              "      <td>1</td>\n",
              "      <td>2</td>\n",
              "      <td>1</td>\n",
              "      <td>2</td>\n",
              "      <td>1</td>\n",
              "      <td>0</td>\n",
              "      <td>1</td>\n",
              "      <td>0</td>\n",
              "      <td>Grupo 17</td>\n",
              "    </tr>\n",
              "    <tr>\n",
              "      <th>4902</th>\n",
              "      <td>1990000</td>\n",
              "      <td>2400</td>\n",
              "      <td>164</td>\n",
              "      <td>4</td>\n",
              "      <td>5</td>\n",
              "      <td>2</td>\n",
              "      <td>3</td>\n",
              "      <td>1</td>\n",
              "      <td>1</td>\n",
              "      <td>1</td>\n",
              "      <td>0</td>\n",
              "      <td>Grupo 17</td>\n",
              "    </tr>\n",
              "    <tr>\n",
              "      <th>4903</th>\n",
              "      <td>720000</td>\n",
              "      <td>700</td>\n",
              "      <td>70</td>\n",
              "      <td>2</td>\n",
              "      <td>2</td>\n",
              "      <td>1</td>\n",
              "      <td>1</td>\n",
              "      <td>1</td>\n",
              "      <td>0</td>\n",
              "      <td>1</td>\n",
              "      <td>1</td>\n",
              "      <td>Grupo 17</td>\n",
              "    </tr>\n",
              "    <tr>\n",
              "      <th>4904</th>\n",
              "      <td>1680000</td>\n",
              "      <td>1580</td>\n",
              "      <td>155</td>\n",
              "      <td>3</td>\n",
              "      <td>5</td>\n",
              "      <td>3</td>\n",
              "      <td>2</td>\n",
              "      <td>1</td>\n",
              "      <td>0</td>\n",
              "      <td>1</td>\n",
              "      <td>0</td>\n",
              "      <td>Grupo 17</td>\n",
              "    </tr>\n",
              "    <tr>\n",
              "      <th>4905</th>\n",
              "      <td>1200000</td>\n",
              "      <td>900</td>\n",
              "      <td>56</td>\n",
              "      <td>2</td>\n",
              "      <td>2</td>\n",
              "      <td>1</td>\n",
              "      <td>2</td>\n",
              "      <td>0</td>\n",
              "      <td>1</td>\n",
              "      <td>1</td>\n",
              "      <td>0</td>\n",
              "      <td>Grupo 17</td>\n",
              "    </tr>\n",
              "  </tbody>\n",
              "</table>\n",
              "</div>"
            ],
            "text/plain": [
              "        Price  Condo  Size  Rooms  ...  Furnished  Swimming Pool  New     Grupo\n",
              "4901   732600   1000    74      1  ...          0              1    0  Grupo 17\n",
              "4902  1990000   2400   164      4  ...          1              1    0  Grupo 17\n",
              "4903   720000    700    70      2  ...          0              1    1  Grupo 17\n",
              "4904  1680000   1580   155      3  ...          0              1    0  Grupo 17\n",
              "4905  1200000    900    56      2  ...          1              1    0  Grupo 17\n",
              "\n",
              "[5 rows x 12 columns]"
            ]
          },
          "metadata": {},
          "execution_count": 162
        }
      ]
    },
    {
      "cell_type": "markdown",
      "metadata": {
        "id": "38r1HkbjEXj6"
      },
      "source": [
        "Agora que trabalhamos nas colunas (features) para melhorar o desempenho do modelo, podemos voltar a etapa de codificação destas colunas categóricas.\n",
        "\n",
        "Antes das alterações na coluna `District`, tínhamos 96 valores únicos e se aplicássemos o método de codificação One-Hot ou Dummy, teríamos uma colunas binária adicional para cada valor único desta coluna, assim aumentando a dimensionalidade. \n",
        "\n",
        "Após as alterações reduzimos a quantidade de valores únicos de 96 para 12 no dataset de aluguel e 20 no de venda, assim reduzimos bastante a dimensionalidade que seria causada pela codificação.\n",
        "\n",
        "Vamos então realizar a codificação, utilizando o método Dummy:"
      ]
    },
    {
      "cell_type": "code",
      "metadata": {
        "id": "VAHzdHyaFuqo",
        "colab": {
          "base_uri": "https://localhost:8080/",
          "height": 243
        },
        "outputId": "2c0c235c-65cc-48a9-be2f-0530223edee0"
      },
      "source": [
        "# Transformando a coluna categórica Grupo\n",
        "df_agrupado_aluguel = pd.get_dummies(df_agrupado_aluguel, columns=['Grupo'])\n",
        "df_agrupado_venda = pd.get_dummies(df_agrupado_venda, columns=['Grupo'])\n",
        "\n",
        "# Checando o DataFrame de aluguel\n",
        "df_agrupado_aluguel.head()"
      ],
      "execution_count": null,
      "outputs": [
        {
          "output_type": "execute_result",
          "data": {
            "text/html": [
              "<div>\n",
              "<style scoped>\n",
              "    .dataframe tbody tr th:only-of-type {\n",
              "        vertical-align: middle;\n",
              "    }\n",
              "\n",
              "    .dataframe tbody tr th {\n",
              "        vertical-align: top;\n",
              "    }\n",
              "\n",
              "    .dataframe thead th {\n",
              "        text-align: right;\n",
              "    }\n",
              "</style>\n",
              "<table border=\"1\" class=\"dataframe\">\n",
              "  <thead>\n",
              "    <tr style=\"text-align: right;\">\n",
              "      <th></th>\n",
              "      <th>Price</th>\n",
              "      <th>Condo</th>\n",
              "      <th>Size</th>\n",
              "      <th>Rooms</th>\n",
              "      <th>Toilets</th>\n",
              "      <th>Suites</th>\n",
              "      <th>Parking</th>\n",
              "      <th>Elevator</th>\n",
              "      <th>Furnished</th>\n",
              "      <th>Swimming Pool</th>\n",
              "      <th>New</th>\n",
              "      <th>Grupo_Grupo 1</th>\n",
              "      <th>Grupo_Grupo 10</th>\n",
              "      <th>Grupo_Grupo 11</th>\n",
              "      <th>Grupo_Grupo 12</th>\n",
              "      <th>Grupo_Grupo 2</th>\n",
              "      <th>Grupo_Grupo 3</th>\n",
              "      <th>Grupo_Grupo 4</th>\n",
              "      <th>Grupo_Grupo 5</th>\n",
              "      <th>Grupo_Grupo 6</th>\n",
              "      <th>Grupo_Grupo 7</th>\n",
              "      <th>Grupo_Grupo 8</th>\n",
              "      <th>Grupo_Grupo 9</th>\n",
              "    </tr>\n",
              "  </thead>\n",
              "  <tbody>\n",
              "    <tr>\n",
              "      <th>0</th>\n",
              "      <td>930</td>\n",
              "      <td>220</td>\n",
              "      <td>47</td>\n",
              "      <td>2</td>\n",
              "      <td>2</td>\n",
              "      <td>1</td>\n",
              "      <td>1</td>\n",
              "      <td>0</td>\n",
              "      <td>0</td>\n",
              "      <td>0</td>\n",
              "      <td>0</td>\n",
              "      <td>1</td>\n",
              "      <td>0</td>\n",
              "      <td>0</td>\n",
              "      <td>0</td>\n",
              "      <td>0</td>\n",
              "      <td>0</td>\n",
              "      <td>0</td>\n",
              "      <td>0</td>\n",
              "      <td>0</td>\n",
              "      <td>0</td>\n",
              "      <td>0</td>\n",
              "      <td>0</td>\n",
              "    </tr>\n",
              "    <tr>\n",
              "      <th>1</th>\n",
              "      <td>1000</td>\n",
              "      <td>148</td>\n",
              "      <td>45</td>\n",
              "      <td>2</td>\n",
              "      <td>2</td>\n",
              "      <td>1</td>\n",
              "      <td>1</td>\n",
              "      <td>0</td>\n",
              "      <td>0</td>\n",
              "      <td>0</td>\n",
              "      <td>0</td>\n",
              "      <td>1</td>\n",
              "      <td>0</td>\n",
              "      <td>0</td>\n",
              "      <td>0</td>\n",
              "      <td>0</td>\n",
              "      <td>0</td>\n",
              "      <td>0</td>\n",
              "      <td>0</td>\n",
              "      <td>0</td>\n",
              "      <td>0</td>\n",
              "      <td>0</td>\n",
              "      <td>0</td>\n",
              "    </tr>\n",
              "    <tr>\n",
              "      <th>2</th>\n",
              "      <td>1000</td>\n",
              "      <td>100</td>\n",
              "      <td>48</td>\n",
              "      <td>2</td>\n",
              "      <td>2</td>\n",
              "      <td>1</td>\n",
              "      <td>1</td>\n",
              "      <td>0</td>\n",
              "      <td>0</td>\n",
              "      <td>0</td>\n",
              "      <td>0</td>\n",
              "      <td>1</td>\n",
              "      <td>0</td>\n",
              "      <td>0</td>\n",
              "      <td>0</td>\n",
              "      <td>0</td>\n",
              "      <td>0</td>\n",
              "      <td>0</td>\n",
              "      <td>0</td>\n",
              "      <td>0</td>\n",
              "      <td>0</td>\n",
              "      <td>0</td>\n",
              "      <td>0</td>\n",
              "    </tr>\n",
              "    <tr>\n",
              "      <th>3</th>\n",
              "      <td>1000</td>\n",
              "      <td>200</td>\n",
              "      <td>48</td>\n",
              "      <td>2</td>\n",
              "      <td>2</td>\n",
              "      <td>1</td>\n",
              "      <td>1</td>\n",
              "      <td>0</td>\n",
              "      <td>0</td>\n",
              "      <td>0</td>\n",
              "      <td>0</td>\n",
              "      <td>1</td>\n",
              "      <td>0</td>\n",
              "      <td>0</td>\n",
              "      <td>0</td>\n",
              "      <td>0</td>\n",
              "      <td>0</td>\n",
              "      <td>0</td>\n",
              "      <td>0</td>\n",
              "      <td>0</td>\n",
              "      <td>0</td>\n",
              "      <td>0</td>\n",
              "      <td>0</td>\n",
              "    </tr>\n",
              "    <tr>\n",
              "      <th>4</th>\n",
              "      <td>1300</td>\n",
              "      <td>410</td>\n",
              "      <td>55</td>\n",
              "      <td>2</td>\n",
              "      <td>2</td>\n",
              "      <td>1</td>\n",
              "      <td>1</td>\n",
              "      <td>1</td>\n",
              "      <td>0</td>\n",
              "      <td>0</td>\n",
              "      <td>0</td>\n",
              "      <td>1</td>\n",
              "      <td>0</td>\n",
              "      <td>0</td>\n",
              "      <td>0</td>\n",
              "      <td>0</td>\n",
              "      <td>0</td>\n",
              "      <td>0</td>\n",
              "      <td>0</td>\n",
              "      <td>0</td>\n",
              "      <td>0</td>\n",
              "      <td>0</td>\n",
              "      <td>0</td>\n",
              "    </tr>\n",
              "  </tbody>\n",
              "</table>\n",
              "</div>"
            ],
            "text/plain": [
              "   Price  Condo  Size  ...  Grupo_Grupo 7  Grupo_Grupo 8  Grupo_Grupo 9\n",
              "0    930    220    47  ...              0              0              0\n",
              "1   1000    148    45  ...              0              0              0\n",
              "2   1000    100    48  ...              0              0              0\n",
              "3   1000    200    48  ...              0              0              0\n",
              "4   1300    410    55  ...              0              0              0\n",
              "\n",
              "[5 rows x 23 columns]"
            ]
          },
          "metadata": {},
          "execution_count": 163
        }
      ]
    },
    {
      "cell_type": "code",
      "metadata": {
        "colab": {
          "base_uri": "https://localhost:8080/",
          "height": 243
        },
        "id": "ih65EKM0i_6x",
        "outputId": "2f8bea46-1c10-4927-d17d-91087aa127a1"
      },
      "source": [
        "# Checando o DataFrame de venda\n",
        "df_agrupado_venda.head()"
      ],
      "execution_count": null,
      "outputs": [
        {
          "output_type": "execute_result",
          "data": {
            "text/html": [
              "<div>\n",
              "<style scoped>\n",
              "    .dataframe tbody tr th:only-of-type {\n",
              "        vertical-align: middle;\n",
              "    }\n",
              "\n",
              "    .dataframe tbody tr th {\n",
              "        vertical-align: top;\n",
              "    }\n",
              "\n",
              "    .dataframe thead th {\n",
              "        text-align: right;\n",
              "    }\n",
              "</style>\n",
              "<table border=\"1\" class=\"dataframe\">\n",
              "  <thead>\n",
              "    <tr style=\"text-align: right;\">\n",
              "      <th></th>\n",
              "      <th>Price</th>\n",
              "      <th>Condo</th>\n",
              "      <th>Size</th>\n",
              "      <th>Rooms</th>\n",
              "      <th>Toilets</th>\n",
              "      <th>Suites</th>\n",
              "      <th>Parking</th>\n",
              "      <th>Elevator</th>\n",
              "      <th>Furnished</th>\n",
              "      <th>Swimming Pool</th>\n",
              "      <th>New</th>\n",
              "      <th>Grupo_Grupo 1</th>\n",
              "      <th>Grupo_Grupo 10</th>\n",
              "      <th>Grupo_Grupo 11</th>\n",
              "      <th>Grupo_Grupo 12</th>\n",
              "      <th>Grupo_Grupo 13</th>\n",
              "      <th>Grupo_Grupo 14</th>\n",
              "      <th>Grupo_Grupo 15</th>\n",
              "      <th>Grupo_Grupo 16</th>\n",
              "      <th>Grupo_Grupo 17</th>\n",
              "      <th>Grupo_Grupo 18</th>\n",
              "      <th>Grupo_Grupo 19</th>\n",
              "      <th>Grupo_Grupo 2</th>\n",
              "      <th>Grupo_Grupo 20</th>\n",
              "      <th>Grupo_Grupo 3</th>\n",
              "      <th>Grupo_Grupo 4</th>\n",
              "      <th>Grupo_Grupo 5</th>\n",
              "      <th>Grupo_Grupo 6</th>\n",
              "      <th>Grupo_Grupo 7</th>\n",
              "      <th>Grupo_Grupo 8</th>\n",
              "      <th>Grupo_Grupo 9</th>\n",
              "    </tr>\n",
              "  </thead>\n",
              "  <tbody>\n",
              "    <tr>\n",
              "      <th>4901</th>\n",
              "      <td>732600</td>\n",
              "      <td>1000</td>\n",
              "      <td>74</td>\n",
              "      <td>1</td>\n",
              "      <td>2</td>\n",
              "      <td>1</td>\n",
              "      <td>2</td>\n",
              "      <td>1</td>\n",
              "      <td>0</td>\n",
              "      <td>1</td>\n",
              "      <td>0</td>\n",
              "      <td>0</td>\n",
              "      <td>0</td>\n",
              "      <td>0</td>\n",
              "      <td>0</td>\n",
              "      <td>0</td>\n",
              "      <td>0</td>\n",
              "      <td>0</td>\n",
              "      <td>0</td>\n",
              "      <td>1</td>\n",
              "      <td>0</td>\n",
              "      <td>0</td>\n",
              "      <td>0</td>\n",
              "      <td>0</td>\n",
              "      <td>0</td>\n",
              "      <td>0</td>\n",
              "      <td>0</td>\n",
              "      <td>0</td>\n",
              "      <td>0</td>\n",
              "      <td>0</td>\n",
              "      <td>0</td>\n",
              "    </tr>\n",
              "    <tr>\n",
              "      <th>4902</th>\n",
              "      <td>1990000</td>\n",
              "      <td>2400</td>\n",
              "      <td>164</td>\n",
              "      <td>4</td>\n",
              "      <td>5</td>\n",
              "      <td>2</td>\n",
              "      <td>3</td>\n",
              "      <td>1</td>\n",
              "      <td>1</td>\n",
              "      <td>1</td>\n",
              "      <td>0</td>\n",
              "      <td>0</td>\n",
              "      <td>0</td>\n",
              "      <td>0</td>\n",
              "      <td>0</td>\n",
              "      <td>0</td>\n",
              "      <td>0</td>\n",
              "      <td>0</td>\n",
              "      <td>0</td>\n",
              "      <td>1</td>\n",
              "      <td>0</td>\n",
              "      <td>0</td>\n",
              "      <td>0</td>\n",
              "      <td>0</td>\n",
              "      <td>0</td>\n",
              "      <td>0</td>\n",
              "      <td>0</td>\n",
              "      <td>0</td>\n",
              "      <td>0</td>\n",
              "      <td>0</td>\n",
              "      <td>0</td>\n",
              "    </tr>\n",
              "    <tr>\n",
              "      <th>4903</th>\n",
              "      <td>720000</td>\n",
              "      <td>700</td>\n",
              "      <td>70</td>\n",
              "      <td>2</td>\n",
              "      <td>2</td>\n",
              "      <td>1</td>\n",
              "      <td>1</td>\n",
              "      <td>1</td>\n",
              "      <td>0</td>\n",
              "      <td>1</td>\n",
              "      <td>1</td>\n",
              "      <td>0</td>\n",
              "      <td>0</td>\n",
              "      <td>0</td>\n",
              "      <td>0</td>\n",
              "      <td>0</td>\n",
              "      <td>0</td>\n",
              "      <td>0</td>\n",
              "      <td>0</td>\n",
              "      <td>1</td>\n",
              "      <td>0</td>\n",
              "      <td>0</td>\n",
              "      <td>0</td>\n",
              "      <td>0</td>\n",
              "      <td>0</td>\n",
              "      <td>0</td>\n",
              "      <td>0</td>\n",
              "      <td>0</td>\n",
              "      <td>0</td>\n",
              "      <td>0</td>\n",
              "      <td>0</td>\n",
              "    </tr>\n",
              "    <tr>\n",
              "      <th>4904</th>\n",
              "      <td>1680000</td>\n",
              "      <td>1580</td>\n",
              "      <td>155</td>\n",
              "      <td>3</td>\n",
              "      <td>5</td>\n",
              "      <td>3</td>\n",
              "      <td>2</td>\n",
              "      <td>1</td>\n",
              "      <td>0</td>\n",
              "      <td>1</td>\n",
              "      <td>0</td>\n",
              "      <td>0</td>\n",
              "      <td>0</td>\n",
              "      <td>0</td>\n",
              "      <td>0</td>\n",
              "      <td>0</td>\n",
              "      <td>0</td>\n",
              "      <td>0</td>\n",
              "      <td>0</td>\n",
              "      <td>1</td>\n",
              "      <td>0</td>\n",
              "      <td>0</td>\n",
              "      <td>0</td>\n",
              "      <td>0</td>\n",
              "      <td>0</td>\n",
              "      <td>0</td>\n",
              "      <td>0</td>\n",
              "      <td>0</td>\n",
              "      <td>0</td>\n",
              "      <td>0</td>\n",
              "      <td>0</td>\n",
              "    </tr>\n",
              "    <tr>\n",
              "      <th>4905</th>\n",
              "      <td>1200000</td>\n",
              "      <td>900</td>\n",
              "      <td>56</td>\n",
              "      <td>2</td>\n",
              "      <td>2</td>\n",
              "      <td>1</td>\n",
              "      <td>2</td>\n",
              "      <td>0</td>\n",
              "      <td>1</td>\n",
              "      <td>1</td>\n",
              "      <td>0</td>\n",
              "      <td>0</td>\n",
              "      <td>0</td>\n",
              "      <td>0</td>\n",
              "      <td>0</td>\n",
              "      <td>0</td>\n",
              "      <td>0</td>\n",
              "      <td>0</td>\n",
              "      <td>0</td>\n",
              "      <td>1</td>\n",
              "      <td>0</td>\n",
              "      <td>0</td>\n",
              "      <td>0</td>\n",
              "      <td>0</td>\n",
              "      <td>0</td>\n",
              "      <td>0</td>\n",
              "      <td>0</td>\n",
              "      <td>0</td>\n",
              "      <td>0</td>\n",
              "      <td>0</td>\n",
              "      <td>0</td>\n",
              "    </tr>\n",
              "  </tbody>\n",
              "</table>\n",
              "</div>"
            ],
            "text/plain": [
              "        Price  Condo  Size  ...  Grupo_Grupo 7  Grupo_Grupo 8  Grupo_Grupo 9\n",
              "4901   732600   1000    74  ...              0              0              0\n",
              "4902  1990000   2400   164  ...              0              0              0\n",
              "4903   720000    700    70  ...              0              0              0\n",
              "4904  1680000   1580   155  ...              0              0              0\n",
              "4905  1200000    900    56  ...              0              0              0\n",
              "\n",
              "[5 rows x 31 columns]"
            ]
          },
          "metadata": {},
          "execution_count": 164
        }
      ]
    },
    {
      "cell_type": "markdown",
      "metadata": {
        "id": "AYRlPbOnjKLI"
      },
      "source": [
        "Nos dois DataFrames é possível ver a repetição no nome das colunas geradas, em que temos `Grupo_Grupo`, então vamos remover essa repetição:"
      ]
    },
    {
      "cell_type": "code",
      "metadata": {
        "id": "kx6JV42sIWvp",
        "colab": {
          "base_uri": "https://localhost:8080/",
          "height": 205
        },
        "outputId": "527437b2-3e6e-4009-b50c-2ff02d9dde20"
      },
      "source": [
        "# Corrigindo os nomes das colunas que passaram pela codificação no DataFrame de aluguel\n",
        "df_agrupado_aluguel.rename(columns={'Grupo_Grupo 1':'Grupo 1',\n",
        "                             'Grupo_Grupo 2':'Grupo 2',\n",
        "                             'Grupo_Grupo 3':'Grupo 3',\n",
        "                             'Grupo_Grupo 4':'Grupo 4',\n",
        "                             'Grupo_Grupo 5':'Grupo 5',\n",
        "                             'Grupo_Grupo 6':'Grupo 6',\n",
        "                             'Grupo_Grupo 7':'Grupo 7',\n",
        "                             'Grupo_Grupo 8':'Grupo 8',\n",
        "                             'Grupo_Grupo 9':'Grupo 9',\n",
        "                             'Grupo_Grupo 10':'Grupo 10',\n",
        "                             'Grupo_Grupo 11':'Grupo 11',\n",
        "                             'Grupo_Grupo 12':'Grupo 12'}, inplace= True)\n",
        "\n",
        "# Checando as mudanças no DataFrame de aluguel\n",
        "df_agrupado_aluguel.head()"
      ],
      "execution_count": null,
      "outputs": [
        {
          "output_type": "execute_result",
          "data": {
            "text/html": [
              "<div>\n",
              "<style scoped>\n",
              "    .dataframe tbody tr th:only-of-type {\n",
              "        vertical-align: middle;\n",
              "    }\n",
              "\n",
              "    .dataframe tbody tr th {\n",
              "        vertical-align: top;\n",
              "    }\n",
              "\n",
              "    .dataframe thead th {\n",
              "        text-align: right;\n",
              "    }\n",
              "</style>\n",
              "<table border=\"1\" class=\"dataframe\">\n",
              "  <thead>\n",
              "    <tr style=\"text-align: right;\">\n",
              "      <th></th>\n",
              "      <th>Price</th>\n",
              "      <th>Condo</th>\n",
              "      <th>Size</th>\n",
              "      <th>Rooms</th>\n",
              "      <th>Toilets</th>\n",
              "      <th>Suites</th>\n",
              "      <th>Parking</th>\n",
              "      <th>Elevator</th>\n",
              "      <th>Furnished</th>\n",
              "      <th>Swimming Pool</th>\n",
              "      <th>New</th>\n",
              "      <th>Grupo 1</th>\n",
              "      <th>Grupo 10</th>\n",
              "      <th>Grupo 11</th>\n",
              "      <th>Grupo 12</th>\n",
              "      <th>Grupo 2</th>\n",
              "      <th>Grupo 3</th>\n",
              "      <th>Grupo 4</th>\n",
              "      <th>Grupo 5</th>\n",
              "      <th>Grupo 6</th>\n",
              "      <th>Grupo 7</th>\n",
              "      <th>Grupo 8</th>\n",
              "      <th>Grupo 9</th>\n",
              "    </tr>\n",
              "  </thead>\n",
              "  <tbody>\n",
              "    <tr>\n",
              "      <th>0</th>\n",
              "      <td>930</td>\n",
              "      <td>220</td>\n",
              "      <td>47</td>\n",
              "      <td>2</td>\n",
              "      <td>2</td>\n",
              "      <td>1</td>\n",
              "      <td>1</td>\n",
              "      <td>0</td>\n",
              "      <td>0</td>\n",
              "      <td>0</td>\n",
              "      <td>0</td>\n",
              "      <td>1</td>\n",
              "      <td>0</td>\n",
              "      <td>0</td>\n",
              "      <td>0</td>\n",
              "      <td>0</td>\n",
              "      <td>0</td>\n",
              "      <td>0</td>\n",
              "      <td>0</td>\n",
              "      <td>0</td>\n",
              "      <td>0</td>\n",
              "      <td>0</td>\n",
              "      <td>0</td>\n",
              "    </tr>\n",
              "    <tr>\n",
              "      <th>1</th>\n",
              "      <td>1000</td>\n",
              "      <td>148</td>\n",
              "      <td>45</td>\n",
              "      <td>2</td>\n",
              "      <td>2</td>\n",
              "      <td>1</td>\n",
              "      <td>1</td>\n",
              "      <td>0</td>\n",
              "      <td>0</td>\n",
              "      <td>0</td>\n",
              "      <td>0</td>\n",
              "      <td>1</td>\n",
              "      <td>0</td>\n",
              "      <td>0</td>\n",
              "      <td>0</td>\n",
              "      <td>0</td>\n",
              "      <td>0</td>\n",
              "      <td>0</td>\n",
              "      <td>0</td>\n",
              "      <td>0</td>\n",
              "      <td>0</td>\n",
              "      <td>0</td>\n",
              "      <td>0</td>\n",
              "    </tr>\n",
              "    <tr>\n",
              "      <th>2</th>\n",
              "      <td>1000</td>\n",
              "      <td>100</td>\n",
              "      <td>48</td>\n",
              "      <td>2</td>\n",
              "      <td>2</td>\n",
              "      <td>1</td>\n",
              "      <td>1</td>\n",
              "      <td>0</td>\n",
              "      <td>0</td>\n",
              "      <td>0</td>\n",
              "      <td>0</td>\n",
              "      <td>1</td>\n",
              "      <td>0</td>\n",
              "      <td>0</td>\n",
              "      <td>0</td>\n",
              "      <td>0</td>\n",
              "      <td>0</td>\n",
              "      <td>0</td>\n",
              "      <td>0</td>\n",
              "      <td>0</td>\n",
              "      <td>0</td>\n",
              "      <td>0</td>\n",
              "      <td>0</td>\n",
              "    </tr>\n",
              "    <tr>\n",
              "      <th>3</th>\n",
              "      <td>1000</td>\n",
              "      <td>200</td>\n",
              "      <td>48</td>\n",
              "      <td>2</td>\n",
              "      <td>2</td>\n",
              "      <td>1</td>\n",
              "      <td>1</td>\n",
              "      <td>0</td>\n",
              "      <td>0</td>\n",
              "      <td>0</td>\n",
              "      <td>0</td>\n",
              "      <td>1</td>\n",
              "      <td>0</td>\n",
              "      <td>0</td>\n",
              "      <td>0</td>\n",
              "      <td>0</td>\n",
              "      <td>0</td>\n",
              "      <td>0</td>\n",
              "      <td>0</td>\n",
              "      <td>0</td>\n",
              "      <td>0</td>\n",
              "      <td>0</td>\n",
              "      <td>0</td>\n",
              "    </tr>\n",
              "    <tr>\n",
              "      <th>4</th>\n",
              "      <td>1300</td>\n",
              "      <td>410</td>\n",
              "      <td>55</td>\n",
              "      <td>2</td>\n",
              "      <td>2</td>\n",
              "      <td>1</td>\n",
              "      <td>1</td>\n",
              "      <td>1</td>\n",
              "      <td>0</td>\n",
              "      <td>0</td>\n",
              "      <td>0</td>\n",
              "      <td>1</td>\n",
              "      <td>0</td>\n",
              "      <td>0</td>\n",
              "      <td>0</td>\n",
              "      <td>0</td>\n",
              "      <td>0</td>\n",
              "      <td>0</td>\n",
              "      <td>0</td>\n",
              "      <td>0</td>\n",
              "      <td>0</td>\n",
              "      <td>0</td>\n",
              "      <td>0</td>\n",
              "    </tr>\n",
              "  </tbody>\n",
              "</table>\n",
              "</div>"
            ],
            "text/plain": [
              "   Price  Condo  Size  Rooms  ...  Grupo 6  Grupo 7  Grupo 8  Grupo 9\n",
              "0    930    220    47      2  ...        0        0        0        0\n",
              "1   1000    148    45      2  ...        0        0        0        0\n",
              "2   1000    100    48      2  ...        0        0        0        0\n",
              "3   1000    200    48      2  ...        0        0        0        0\n",
              "4   1300    410    55      2  ...        0        0        0        0\n",
              "\n",
              "[5 rows x 23 columns]"
            ]
          },
          "metadata": {},
          "execution_count": 165
        }
      ]
    },
    {
      "cell_type": "code",
      "metadata": {
        "colab": {
          "base_uri": "https://localhost:8080/",
          "height": 243
        },
        "id": "oKNCUBhbjuUF",
        "outputId": "2755f223-3056-4327-c993-8cdf214335b8"
      },
      "source": [
        "# Corrigindo os nomes das colunas que passaram pela codificação no DataFrame de venda\n",
        "df_agrupado_venda.rename(columns={'Grupo_Grupo 1':'Grupo 1',\n",
        "                             'Grupo_Grupo 2':'Grupo 2',\n",
        "                             'Grupo_Grupo 3':'Grupo 3',\n",
        "                             'Grupo_Grupo 4':'Grupo 4',\n",
        "                             'Grupo_Grupo 5':'Grupo 5',\n",
        "                             'Grupo_Grupo 6':'Grupo 6',\n",
        "                             'Grupo_Grupo 7':'Grupo 7',\n",
        "                             'Grupo_Grupo 8':'Grupo 8',\n",
        "                             'Grupo_Grupo 9':'Grupo 9',\n",
        "                             'Grupo_Grupo 10':'Grupo 10',\n",
        "                             'Grupo_Grupo 11':'Grupo 11',\n",
        "                             'Grupo_Grupo 12':'Grupo 12',\n",
        "                             'Grupo_Grupo 13':'Grupo 13',\n",
        "                             'Grupo_Grupo 14':'Grupo 14',\n",
        "                             'Grupo_Grupo 15':'Grupo 15',\n",
        "                             'Grupo_Grupo 16':'Grupo 16',\n",
        "                             'Grupo_Grupo 17':'Grupo 17',\n",
        "                             'Grupo_Grupo 18':'Grupo 18',\n",
        "                             'Grupo_Grupo 19':'Grupo 19',\n",
        "                             'Grupo_Grupo 20':'Grupo 20'}, inplace= True)\n",
        "\n",
        "# Checando as mudanças no DataFrame de venda\n",
        "df_agrupado_venda.head()"
      ],
      "execution_count": null,
      "outputs": [
        {
          "output_type": "execute_result",
          "data": {
            "text/html": [
              "<div>\n",
              "<style scoped>\n",
              "    .dataframe tbody tr th:only-of-type {\n",
              "        vertical-align: middle;\n",
              "    }\n",
              "\n",
              "    .dataframe tbody tr th {\n",
              "        vertical-align: top;\n",
              "    }\n",
              "\n",
              "    .dataframe thead th {\n",
              "        text-align: right;\n",
              "    }\n",
              "</style>\n",
              "<table border=\"1\" class=\"dataframe\">\n",
              "  <thead>\n",
              "    <tr style=\"text-align: right;\">\n",
              "      <th></th>\n",
              "      <th>Price</th>\n",
              "      <th>Condo</th>\n",
              "      <th>Size</th>\n",
              "      <th>Rooms</th>\n",
              "      <th>Toilets</th>\n",
              "      <th>Suites</th>\n",
              "      <th>Parking</th>\n",
              "      <th>Elevator</th>\n",
              "      <th>Furnished</th>\n",
              "      <th>Swimming Pool</th>\n",
              "      <th>New</th>\n",
              "      <th>Grupo 1</th>\n",
              "      <th>Grupo 10</th>\n",
              "      <th>Grupo 11</th>\n",
              "      <th>Grupo 12</th>\n",
              "      <th>Grupo 13</th>\n",
              "      <th>Grupo 14</th>\n",
              "      <th>Grupo 15</th>\n",
              "      <th>Grupo 16</th>\n",
              "      <th>Grupo 17</th>\n",
              "      <th>Grupo 18</th>\n",
              "      <th>Grupo 19</th>\n",
              "      <th>Grupo 2</th>\n",
              "      <th>Grupo 20</th>\n",
              "      <th>Grupo 3</th>\n",
              "      <th>Grupo 4</th>\n",
              "      <th>Grupo 5</th>\n",
              "      <th>Grupo 6</th>\n",
              "      <th>Grupo 7</th>\n",
              "      <th>Grupo 8</th>\n",
              "      <th>Grupo 9</th>\n",
              "    </tr>\n",
              "  </thead>\n",
              "  <tbody>\n",
              "    <tr>\n",
              "      <th>4901</th>\n",
              "      <td>732600</td>\n",
              "      <td>1000</td>\n",
              "      <td>74</td>\n",
              "      <td>1</td>\n",
              "      <td>2</td>\n",
              "      <td>1</td>\n",
              "      <td>2</td>\n",
              "      <td>1</td>\n",
              "      <td>0</td>\n",
              "      <td>1</td>\n",
              "      <td>0</td>\n",
              "      <td>0</td>\n",
              "      <td>0</td>\n",
              "      <td>0</td>\n",
              "      <td>0</td>\n",
              "      <td>0</td>\n",
              "      <td>0</td>\n",
              "      <td>0</td>\n",
              "      <td>0</td>\n",
              "      <td>1</td>\n",
              "      <td>0</td>\n",
              "      <td>0</td>\n",
              "      <td>0</td>\n",
              "      <td>0</td>\n",
              "      <td>0</td>\n",
              "      <td>0</td>\n",
              "      <td>0</td>\n",
              "      <td>0</td>\n",
              "      <td>0</td>\n",
              "      <td>0</td>\n",
              "      <td>0</td>\n",
              "    </tr>\n",
              "    <tr>\n",
              "      <th>4902</th>\n",
              "      <td>1990000</td>\n",
              "      <td>2400</td>\n",
              "      <td>164</td>\n",
              "      <td>4</td>\n",
              "      <td>5</td>\n",
              "      <td>2</td>\n",
              "      <td>3</td>\n",
              "      <td>1</td>\n",
              "      <td>1</td>\n",
              "      <td>1</td>\n",
              "      <td>0</td>\n",
              "      <td>0</td>\n",
              "      <td>0</td>\n",
              "      <td>0</td>\n",
              "      <td>0</td>\n",
              "      <td>0</td>\n",
              "      <td>0</td>\n",
              "      <td>0</td>\n",
              "      <td>0</td>\n",
              "      <td>1</td>\n",
              "      <td>0</td>\n",
              "      <td>0</td>\n",
              "      <td>0</td>\n",
              "      <td>0</td>\n",
              "      <td>0</td>\n",
              "      <td>0</td>\n",
              "      <td>0</td>\n",
              "      <td>0</td>\n",
              "      <td>0</td>\n",
              "      <td>0</td>\n",
              "      <td>0</td>\n",
              "    </tr>\n",
              "    <tr>\n",
              "      <th>4903</th>\n",
              "      <td>720000</td>\n",
              "      <td>700</td>\n",
              "      <td>70</td>\n",
              "      <td>2</td>\n",
              "      <td>2</td>\n",
              "      <td>1</td>\n",
              "      <td>1</td>\n",
              "      <td>1</td>\n",
              "      <td>0</td>\n",
              "      <td>1</td>\n",
              "      <td>1</td>\n",
              "      <td>0</td>\n",
              "      <td>0</td>\n",
              "      <td>0</td>\n",
              "      <td>0</td>\n",
              "      <td>0</td>\n",
              "      <td>0</td>\n",
              "      <td>0</td>\n",
              "      <td>0</td>\n",
              "      <td>1</td>\n",
              "      <td>0</td>\n",
              "      <td>0</td>\n",
              "      <td>0</td>\n",
              "      <td>0</td>\n",
              "      <td>0</td>\n",
              "      <td>0</td>\n",
              "      <td>0</td>\n",
              "      <td>0</td>\n",
              "      <td>0</td>\n",
              "      <td>0</td>\n",
              "      <td>0</td>\n",
              "    </tr>\n",
              "    <tr>\n",
              "      <th>4904</th>\n",
              "      <td>1680000</td>\n",
              "      <td>1580</td>\n",
              "      <td>155</td>\n",
              "      <td>3</td>\n",
              "      <td>5</td>\n",
              "      <td>3</td>\n",
              "      <td>2</td>\n",
              "      <td>1</td>\n",
              "      <td>0</td>\n",
              "      <td>1</td>\n",
              "      <td>0</td>\n",
              "      <td>0</td>\n",
              "      <td>0</td>\n",
              "      <td>0</td>\n",
              "      <td>0</td>\n",
              "      <td>0</td>\n",
              "      <td>0</td>\n",
              "      <td>0</td>\n",
              "      <td>0</td>\n",
              "      <td>1</td>\n",
              "      <td>0</td>\n",
              "      <td>0</td>\n",
              "      <td>0</td>\n",
              "      <td>0</td>\n",
              "      <td>0</td>\n",
              "      <td>0</td>\n",
              "      <td>0</td>\n",
              "      <td>0</td>\n",
              "      <td>0</td>\n",
              "      <td>0</td>\n",
              "      <td>0</td>\n",
              "    </tr>\n",
              "    <tr>\n",
              "      <th>4905</th>\n",
              "      <td>1200000</td>\n",
              "      <td>900</td>\n",
              "      <td>56</td>\n",
              "      <td>2</td>\n",
              "      <td>2</td>\n",
              "      <td>1</td>\n",
              "      <td>2</td>\n",
              "      <td>0</td>\n",
              "      <td>1</td>\n",
              "      <td>1</td>\n",
              "      <td>0</td>\n",
              "      <td>0</td>\n",
              "      <td>0</td>\n",
              "      <td>0</td>\n",
              "      <td>0</td>\n",
              "      <td>0</td>\n",
              "      <td>0</td>\n",
              "      <td>0</td>\n",
              "      <td>0</td>\n",
              "      <td>1</td>\n",
              "      <td>0</td>\n",
              "      <td>0</td>\n",
              "      <td>0</td>\n",
              "      <td>0</td>\n",
              "      <td>0</td>\n",
              "      <td>0</td>\n",
              "      <td>0</td>\n",
              "      <td>0</td>\n",
              "      <td>0</td>\n",
              "      <td>0</td>\n",
              "      <td>0</td>\n",
              "    </tr>\n",
              "  </tbody>\n",
              "</table>\n",
              "</div>"
            ],
            "text/plain": [
              "        Price  Condo  Size  Rooms  ...  Grupo 6  Grupo 7  Grupo 8  Grupo 9\n",
              "4901   732600   1000    74      1  ...        0        0        0        0\n",
              "4902  1990000   2400   164      4  ...        0        0        0        0\n",
              "4903   720000    700    70      2  ...        0        0        0        0\n",
              "4904  1680000   1580   155      3  ...        0        0        0        0\n",
              "4905  1200000    900    56      2  ...        0        0        0        0\n",
              "\n",
              "[5 rows x 31 columns]"
            ]
          },
          "metadata": {},
          "execution_count": 166
        }
      ]
    },
    {
      "cell_type": "markdown",
      "metadata": {
        "id": "nsT0VYAxLneS"
      },
      "source": [
        "Agora que os tratamentos e melhorias foram feitas, podemos avançar para a etapa de desenvolvimento do modelo de Machine Learning (Aprendizado de Máquina).\n",
        "\n",
        "Vamos checar a matriz de correlação para as colunas presentes nos datasets desta etapa:"
      ]
    },
    {
      "cell_type": "code",
      "metadata": {
        "id": "ePbS1ARtYt0x",
        "colab": {
          "base_uri": "https://localhost:8080/",
          "height": 347
        },
        "outputId": "b334dce1-63c3-4ef0-d077-3b380826c7e7"
      },
      "source": [
        "# Correlação do dataset de alugueis\n",
        "corr_rent = df_agrupado_aluguel.corr()\n",
        "ax = sns.heatmap(corr_rent, \n",
        "                 center=0,\n",
        "                 cmap=sns.diverging_palette(20, 220, n=200),\n",
        "                 square=True)\n",
        "ax.set_title('Correlação do dataset de Alugueis')\n",
        "\n",
        "plt.show()"
      ],
      "execution_count": null,
      "outputs": [
        {
          "output_type": "display_data",
          "data": {
            "image/png": "[encoded data removed]",
            "text/plain": [
              "<Figure size 432x288 with 2 Axes>"
            ]
          },
          "metadata": {
            "needs_background": "light"
          }
        }
      ]
    },
    {
      "cell_type": "markdown",
      "metadata": {
        "id": "-FkceM-OhZoC"
      },
      "source": [
        "Vamos ver a correlação para a coluna (feature) alvo que é `Price`:"
      ]
    },
    {
      "cell_type": "code",
      "metadata": {
        "id": "Oj6VsTINhSKS",
        "colab": {
          "base_uri": "https://localhost:8080/"
        },
        "outputId": "cae6d98f-9803-42be-8ff7-9b33e3ae0561"
      },
      "source": [
        "# Obtendo os valores de correlação para a variável alvo\n",
        "corr_rent['Price'].sort_values(ascending=False)"
      ],
      "execution_count": null,
      "outputs": [
        {
          "output_type": "execute_result",
          "data": {
            "text/plain": [
              "Price            1.000000\n",
              "Size             0.731795\n",
              "Condo            0.714691\n",
              "Parking          0.640743\n",
              "Suites           0.588329\n",
              "Toilets          0.583488\n",
              "Rooms            0.390951\n",
              "Grupo 8          0.242965\n",
              "Grupo 11         0.217874\n",
              "Swimming Pool    0.206884\n",
              "Grupo 7          0.173472\n",
              "Furnished        0.171859\n",
              "Grupo 6          0.162127\n",
              "Grupo 10         0.157686\n",
              "Grupo 12         0.125847\n",
              "Grupo 5          0.074122\n",
              "Grupo 9          0.035103\n",
              "Elevator         0.031860\n",
              "New             -0.008477\n",
              "Grupo 4         -0.077139\n",
              "Grupo 1         -0.115857\n",
              "Grupo 3         -0.155715\n",
              "Grupo 2         -0.236851\n",
              "Name: Price, dtype: float64"
            ]
          },
          "metadata": {},
          "execution_count": 168
        }
      ]
    },
    {
      "cell_type": "markdown",
      "metadata": {
        "id": "KQACedu3hM7K"
      },
      "source": [
        "Agora vamos fazer o mesmo para os dados de vendas:"
      ]
    },
    {
      "cell_type": "code",
      "metadata": {
        "id": "GeIA5urLgUcc",
        "colab": {
          "base_uri": "https://localhost:8080/",
          "height": 320
        },
        "outputId": "758011c6-205f-4b73-d259-ce365f7c4774"
      },
      "source": [
        "# Correlação do dataset de vendas\n",
        "corr_sale = df_agrupado_venda.corr()\n",
        "ax = sns.heatmap(corr_sale, \n",
        "                 center=0,\n",
        "                 cmap=sns.diverging_palette(20, 220, n=200),\n",
        "                 square=True)\n",
        "ax.set_title('Correlação do dataset de Vendas')\n",
        "\n",
        "plt.show()"
      ],
      "execution_count": null,
      "outputs": [
        {
          "output_type": "display_data",
          "data": {
            "image/png": "[encoded data removed]",
            "text/plain": [
              "<Figure size 432x288 with 2 Axes>"
            ]
          },
          "metadata": {
            "needs_background": "light"
          }
        }
      ]
    },
    {
      "cell_type": "markdown",
      "metadata": {
        "id": "DbT4SMfnh-ye"
      },
      "source": [
        "Obtendo a correlação para a variável alvo `Price`:"
      ]
    },
    {
      "cell_type": "code",
      "metadata": {
        "id": "dMWyL-sCh-Ss",
        "colab": {
          "base_uri": "https://localhost:8080/"
        },
        "outputId": "747739fd-f9fd-4875-baed-480d788f708d"
      },
      "source": [
        "# Obtendo os valores de correlação para a variável alvo\n",
        "corr_sale['Price'].sort_values(ascending=False)"
      ],
      "execution_count": null,
      "outputs": [
        {
          "output_type": "execute_result",
          "data": {
            "text/plain": [
              "Price            1.000000\n",
              "Size             0.825660\n",
              "Parking          0.701849\n",
              "Condo            0.669888\n",
              "Toilets          0.636782\n",
              "Suites           0.623177\n",
              "Rooms            0.490255\n",
              "Grupo 18         0.309083\n",
              "Grupo 16         0.254955\n",
              "Grupo 20         0.230949\n",
              "Grupo 19         0.213798\n",
              "Swimming Pool    0.177950\n",
              "Grupo 15         0.168448\n",
              "Grupo 12         0.097875\n",
              "Grupo 14         0.069977\n",
              "Grupo 17         0.067912\n",
              "Elevator         0.066966\n",
              "Furnished        0.061968\n",
              "Grupo 13         0.038068\n",
              "Grupo 11         0.033443\n",
              "Grupo 9          0.026314\n",
              "Grupo 10         0.010439\n",
              "New             -0.036857\n",
              "Grupo 8         -0.052640\n",
              "Grupo 6         -0.057289\n",
              "Grupo 1         -0.065509\n",
              "Grupo 7         -0.078842\n",
              "Grupo 2         -0.117381\n",
              "Grupo 5         -0.123616\n",
              "Grupo 3         -0.151691\n",
              "Grupo 4         -0.153249\n",
              "Name: Price, dtype: float64"
            ]
          },
          "metadata": {},
          "execution_count": 170
        }
      ]
    },
    {
      "cell_type": "markdown",
      "metadata": {
        "id": "9Rawg0TGX8De"
      },
      "source": [
        "Agora que temos uma ideia das correlações das colunas (features), podemos seguir para o desenvolvimento do modelo.\n",
        "\n",
        "Durante a análise exploratória, mais especificamente durante a obervação das outliers, foi dito que iremos realizar o Feature Scaling tanto para colocar as colunas (features) na mesma escala quanto para reduzir os impactos das outliers no modelo.\n",
        "\n",
        "Dessa forma iremos separar o modelo para os pré-processamentos: Padronização e Normalização:"
      ]
    },
    {
      "cell_type": "markdown",
      "metadata": {
        "id": "x-rwjImKiqPp"
      },
      "source": [
        "#### Modelos Padronizados\n",
        "\n",
        " Vamos iniciar criando datasets únicos para esta etapa:"
      ]
    },
    {
      "cell_type": "code",
      "metadata": {
        "id": "cZDbosxSiwPv"
      },
      "source": [
        "# Copiando os dataset para os testes\n",
        "df_rent_pd = df_agrupado_aluguel.copy() #copiando o dataset de alugueis\n",
        "df_sale_pd = df_agrupado_venda.copy() #copiando o dataset de vendas"
      ],
      "execution_count": null,
      "outputs": []
    },
    {
      "cell_type": "markdown",
      "metadata": {
        "id": "FPS7H4fDkxhZ"
      },
      "source": [
        "Podemos então realizar a separação entre os dados de treino e teste, além disso vamos realizar a padronização com o método `StandardScaler`."
      ]
    },
    {
      "cell_type": "code",
      "metadata": {
        "id": "HrOdB3OblQC3"
      },
      "source": [
        "# Separando a coluna alvo do restante dos dados - dataset algueis\n",
        "X_rent_pd = df_rent_pd.drop('Price', axis=1)\n",
        "y_rent_pd = df_rent_pd['Price'] #variável alvo\n",
        "\n",
        "# Separando entre dados de treino e teste - dataset alugueis\n",
        "X_rent_train_pd, X_rent_test_pd, y_rent_train_pd, y_rent_test_pd = train_test_split(X_rent_pd, y_rent_pd, test_size=0.20, shuffle=True)\n",
        "\n",
        "# Padronizando os dados\n",
        "std_rent_pd = StandardScaler().fit(X_rent_train_pd)\n",
        "X_rent_train_pd = std_rent_pd.transform(X_rent_train_pd)\n",
        "X_rent_test_pd = std_rent_pd.transform(X_rent_test_pd)\n",
        "\n",
        "# ------------------------------------------------------------------------------\n",
        "\n",
        "# Separando a coluna alvo do restante dos dados - dataset vendas\n",
        "X_sale_pd = df_sale_pd.drop('Price', axis=1)\n",
        "y_sale_pd = df_sale_pd['Price'] #variável alvo\n",
        "\n",
        "# Separando entre dados de treino e teste - dataset vendas\n",
        "X_sale_train_pd, X_sale_test_pd, y_sale_train_pd, y_sale_test_pd = train_test_split(X_sale_pd, y_sale_pd, test_size=0.20, shuffle=True)\n",
        "\n",
        "# Padronizando os dados\n",
        "std_sale_pd = StandardScaler().fit(X_sale_train_pd)\n",
        "X_sale_train_pd = std_sale_pd.transform(X_sale_train_pd)\n",
        "X_sale_test_pd = std_sale_pd.transform(X_sale_test_pd)"
      ],
      "execution_count": null,
      "outputs": []
    },
    {
      "cell_type": "markdown",
      "metadata": {
        "id": "BmhiA1x7mprF"
      },
      "source": [
        "Durante o tratamento das outliers foi dito que usaríamos um modelo robusto para diminuir os impactos delas, portanto iremos utilizar o estimador Random Forest (Árvores Aleatórias), que é um modelo baseado em árvores de decisões, sendo assim robusto às outliers.\n",
        "\n",
        "Como nosso objetivo é prever um valor e não uma classe, vamos utilizar o modelo de regressão:"
      ]
    },
    {
      "cell_type": "code",
      "metadata": {
        "id": "4JTOLHTFm326",
        "colab": {
          "base_uri": "https://localhost:8080/"
        },
        "outputId": "f4d87949-f4bb-4c01-802f-179d97babcdf"
      },
      "source": [
        "# Instanciando os modelos para cada dataset (alugueis e vendas)\n",
        "model_rent_pd = RandomForestRegressor(random_state=12) #modelo para prever alugueis\n",
        "model_sale_pd = RandomForestRegressor(random_state=22) #modelo para prever vendas\n",
        "\n",
        "# Treinando os modelos\n",
        "model_rent_pd.fit(X_rent_train_pd, y_rent_train_pd) #treinando o modelo para alugueis\n",
        "model_sale_pd.fit(X_sale_train_pd, y_sale_train_pd) #treinando o modelo para vendas"
      ],
      "execution_count": null,
      "outputs": [
        {
          "output_type": "execute_result",
          "data": {
            "text/plain": [
              "RandomForestRegressor(random_state=22)"
            ]
          },
          "metadata": {},
          "execution_count": 173
        }
      ]
    },
    {
      "cell_type": "markdown",
      "metadata": {
        "id": "CkAzSxBwoKR_"
      },
      "source": [
        "Para a avaliação de um modelo de regressão temos várias métricas à disposição, mas para nosso caso vamos utilizar a `R Square` que é mais fácil de visualizar o desempenho, uma vez que ela possui um resultado entre 0 e 1, ou seja, podemos demonstrar o desempenho em porcentagem.\n",
        "\n",
        "Essa métrica é capaz de demonstrar quanto o modelo consegue se ajustar às colunas que são dependentes, porém ela não leva em consideração o overfitting (sobreajuste) do modelo. Caso o modelo seja bastante complexo, possuindo muitas colunas independentes, ele pode se sair muito bem para os dados de treino, mas para os dados de teste ele será bastante ruim.\n",
        "\n",
        "Como essa métrica demonstra somente o desempenho do modelo perante as colunas dependentes, ela sozinha não é suficiente para determinar se um modelo é bom ou ruim, para isso vamos observar a métrica `Root Mean Square Error` (RMSE).\n",
        "\n",
        "RMSE é a raiz quadrada de MSE (`Mean Square Error`), em que MSE é o erro quadrático médio e é bastante comum seu uso para verificar a acurácia de modelos, onde ela atribui mais peso para erros mais altos. Pelo fato do resultado de MSE ser elevado ao quadrado, vamos utilizar o RMSE para retornar esse resultado à unidade de medida do modelo. Quanto mais próximo de 0 for o resultado, melhor é o modelo.\n"
      ]
    },
    {
      "cell_type": "markdown",
      "metadata": {
        "id": "AvI0yPN8ogQS"
      },
      "source": [
        "##### Modelo para Alugueis\n",
        "\n",
        "Obtendo as métricas do modelo treinado com os dados padronizados e para os dados de alugueis:"
      ]
    },
    {
      "cell_type": "code",
      "metadata": {
        "id": "m13f7i66oLEw",
        "colab": {
          "base_uri": "https://localhost:8080/"
        },
        "outputId": "347f125e-45c4-45d4-a1c2-1d19d4b02a1d"
      },
      "source": [
        "# Realizando as previsões para alugueis\n",
        "y_pred_rent_pd = model_rent_pd.predict(X_rent_test_pd) \n",
        "\n",
        "# Obtendo as métricas R2 e Adjusted R2\n",
        "print('R2: {:.4f}'.format(r2_score(y_rent_test_pd,y_pred_rent_pd)))\n",
        "print('R2 Ajustado: {:.4f}'.format(1 - (1-r2_score(y_rent_test_pd,y_pred_rent_pd))*(len(y_rent_pd)-1)/(len(y_rent_pd)-X_rent_pd.shape[1]-1)))\n",
        "\n",
        "# Obtendo a métrica Root Mean Square Error (RMSE)\n",
        "MSE_rent_pd  = mean_squared_error(y_rent_test_pd,y_pred_rent_pd) #calculando MSE\n",
        "print('RMSE: {:.4f}'.format(np.sqrt(MSE_rent_pd))) #tirando a raiz quadrada do MSE -> RMSE"
      ],
      "execution_count": null,
      "outputs": [
        {
          "output_type": "stream",
          "name": "stdout",
          "text": [
            "R2: 0.7010\n",
            "R2 Ajustado: 0.7001\n",
            "RMSE: 1970.5036\n"
          ]
        }
      ]
    },
    {
      "cell_type": "markdown",
      "metadata": {
        "id": "qJeqODJTqV8h"
      },
      "source": [
        "Essas métricas nos mostram que:\n",
        "* Pela métrica `r2`: modelo consegue explicar 70% da variabilidade das colunas (features) dependentes;\n",
        "* Pela métrica `r2 Ajustado`: como seu valor é bem próximo ao de `r2`, isso quer dizer que nosso modelo é robusto ao problema de overfitting;\n",
        "* Pela métrica `RMSE`: temos um erro médio de 1970,00 reais nos preços previstos.\n",
        "\n",
        "Podemos visualizar a relação entre os preços atuais e previstos em um gráfico."
      ]
    },
    {
      "cell_type": "code",
      "metadata": {
        "id": "THOvcY70qYLb",
        "colab": {
          "base_uri": "https://localhost:8080/",
          "height": 295
        },
        "outputId": "c5cf5b5c-a5e1-4c70-d63b-9ce3e88f4a65"
      },
      "source": [
        "# Plotando os preços atuais e previstos do modelo de aluguel\n",
        "plt.scatter(y_rent_test_pd, y_pred_rent_pd)\n",
        "plt.xlabel(\"Preço Atual\")\n",
        "plt.ylabel(\"Preço Previsto\")\n",
        "plt.title(\"Relação entre Atual vs Previsto\")\n",
        "\n",
        "plt.show()"
      ],
      "execution_count": null,
      "outputs": [
        {
          "output_type": "display_data",
          "data": {
            "image/png": "[encoded data removed]",
            "text/plain": [
              "<Figure size 432x288 with 1 Axes>"
            ]
          },
          "metadata": {
            "needs_background": "light"
          }
        }
      ]
    },
    {
      "cell_type": "markdown",
      "metadata": {
        "id": "7Y6c0oIpsHnp"
      },
      "source": [
        "Pelo gráfico quanto mais os dados formam uma linha reta, melhor é o modelo e como podemos ver acima, os dados estão bem esparsos.\n",
        "\n",
        "Agora vamos realizar os mesmos passos para o modelo de vendas também padronizados."
      ]
    },
    {
      "cell_type": "markdown",
      "metadata": {
        "id": "Arbj5ds_ooEA"
      },
      "source": [
        "##### Modelo para Vendas\n",
        "\n",
        "Obtendo as métricas do modelo treinado com os dados padronizados e para os dados de vendas:"
      ]
    },
    {
      "cell_type": "code",
      "metadata": {
        "id": "e46qzD00sXLB",
        "colab": {
          "base_uri": "https://localhost:8080/"
        },
        "outputId": "1028164c-88e8-4132-b88a-d6a4b1d90b27"
      },
      "source": [
        "# Realizando as previsões para vendas\n",
        "y_pred_sale_pd = model_sale_pd.predict(X_sale_test_pd) \n",
        "\n",
        "# Obtendo as métricas R2 e Adjusted R2\n",
        "print('R2: {:.4f}'.format(r2_score(y_sale_test_pd,y_pred_sale_pd)))\n",
        "print('R2 Ajustado: {:.4f}'.format(1 - (1-r2_score(y_sale_test_pd,y_pred_sale_pd))*(len(y_sale_pd)-1)/(len(y_sale_pd)-X_sale_pd.shape[1]-1)))\n",
        "\n",
        "# Obtendo a métrica Root Mean Square Error (RMSE)\n",
        "MSE_sale_pd  = mean_squared_error(y_sale_test_pd,y_pred_sale_pd) #calculando MSE\n",
        "print('RMSE: {:.4f}'.format(np.sqrt(MSE_sale_pd))) #tirando a raiz quadrada do MSE -> RMSE"
      ],
      "execution_count": null,
      "outputs": [
        {
          "output_type": "stream",
          "name": "stdout",
          "text": [
            "R2: 0.8706\n",
            "R2 Ajustado: 0.8700\n",
            "RMSE: 283505.7424\n"
          ]
        }
      ]
    },
    {
      "cell_type": "markdown",
      "metadata": {
        "id": "w31ztZHJtGsE"
      },
      "source": [
        "Essas métricas nos mostram que:\n",
        "* Pela métrica `r2`: modelo consegue explicar 87% da variabilidade das colunas (features) dependentes;\n",
        "* Pela métrica `r2 Ajustado`: como seu valor é bem próximo ao de `r2`, isso quer dizer que nosso modelo é robusto ao problema de overfitting;\n",
        "* Pela métrica `RMSE`: temos um erro médio de 283.505,74 reais nos preços previstos.\n",
        "\n",
        "Vamos visualizar a relação entre os preços atuais e previstos:"
      ]
    },
    {
      "cell_type": "code",
      "metadata": {
        "id": "OiDjPJGktKpc",
        "colab": {
          "base_uri": "https://localhost:8080/",
          "height": 295
        },
        "outputId": "f60de311-0ed1-4e13-86b8-dc365a5b5213"
      },
      "source": [
        "# Plotando os preços atuais e previstos do modelo de venda\n",
        "plt.scatter(y_sale_test_pd, y_pred_sale_pd)\n",
        "plt.xlabel(\"Preço Atual\")\n",
        "plt.ylabel(\"Preço Previsto\")\n",
        "plt.title(\"Relação entre Atual vs Previsto\")\n",
        "\n",
        "plt.show()"
      ],
      "execution_count": null,
      "outputs": [
        {
          "output_type": "display_data",
          "data": {
            "image/png": "[encoded data removed]",
            "text/plain": [
              "<Figure size 432x288 with 1 Axes>"
            ]
          },
          "metadata": {
            "needs_background": "light"
          }
        }
      ]
    },
    {
      "cell_type": "markdown",
      "metadata": {
        "id": "yQtEsbqFt4ID"
      },
      "source": [
        "#### Modelos Normalizados \n",
        "\n",
        "Vamos criar datasets únicos para esta etapa:"
      ]
    },
    {
      "cell_type": "code",
      "metadata": {
        "id": "_y1R0aSeuUAJ"
      },
      "source": [
        "# Copiando os dataset para os testes\n",
        "df_rent_nm = df_agrupado_aluguel.copy() #copiando o dataset de alugueis\n",
        "df_sale_nm = df_agrupado_venda.copy() #copiando o dataset de vendas"
      ],
      "execution_count": null,
      "outputs": []
    },
    {
      "cell_type": "markdown",
      "metadata": {
        "id": "tmePBOdpwYUK"
      },
      "source": [
        "Separando os dados entre treino e teste e aplicando a normalização com o método `MinMaxScaler`:"
      ]
    },
    {
      "cell_type": "code",
      "metadata": {
        "id": "eT3bRA-owkzz"
      },
      "source": [
        "# Separando a coluna alvo do restante dos dados - dataset algueis\n",
        "X_rent_nm = df_rent_nm.drop('Price', axis=1)\n",
        "y_rent_nm = df_rent_nm['Price'] #variável alvo\n",
        "\n",
        "# Separando entre dados de treino e teste - dataset alugueis\n",
        "X_rent_train_nm, X_rent_test_nm, y_rent_train_nm, y_rent_test_nm = train_test_split(X_rent_nm, y_rent_nm, test_size=0.20, shuffle=True)\n",
        "\n",
        "# Normalizando os dados\n",
        "nm_rent_nm = MinMaxScaler().fit(X_rent_train_nm)\n",
        "X_rent_train_nm = nm_rent_nm.transform(X_rent_train_nm)\n",
        "X_rent_test_nm = nm_rent_nm.transform(X_rent_test_nm)\n",
        "\n",
        "# ------------------------------------------------------------------------------\n",
        "\n",
        "# Separando a coluna alvo do restante dos dados - dataset vendas\n",
        "X_sale_nm = df_sale_nm.drop('Price', axis=1)\n",
        "y_sale_nm = df_sale_nm['Price'] #variável alvo\n",
        "\n",
        "# Separando entre dados de treino e teste - dataset vendas\n",
        "X_sale_train_nm, X_sale_test_nm, y_sale_train_nm, y_sale_test_nm = train_test_split(X_sale_nm, y_sale_nm, test_size=0.20, shuffle=True)\n",
        "\n",
        "# Normalizando os dados\n",
        "nm_sale_nm = MinMaxScaler().fit(X_sale_train_nm)\n",
        "X_sale_train_nm = nm_sale_nm.transform(X_sale_train_nm)\n",
        "X_sale_test_nm = nm_sale_nm.transform(X_sale_test_nm)"
      ],
      "execution_count": null,
      "outputs": []
    },
    {
      "cell_type": "markdown",
      "metadata": {
        "id": "vtSGKoKmzzgb"
      },
      "source": [
        "Com os dados separados, vamos treinar os modelos normalizados:"
      ]
    },
    {
      "cell_type": "code",
      "metadata": {
        "id": "fWj6ni1nz4B4",
        "colab": {
          "base_uri": "https://localhost:8080/"
        },
        "outputId": "f30c8260-f3df-44ac-8500-0fbd0a8d11cf"
      },
      "source": [
        "# Instanciando os modelos para cada dataset (alugueis e vendas)\n",
        "model_rent_nm = RandomForestRegressor(random_state=32) #modelo para prever alugueis\n",
        "model_sale_nm = RandomForestRegressor(random_state=42) #modelo para prever vendas\n",
        "\n",
        "# Treinando os modelos\n",
        "model_rent_nm.fit(X_rent_train_nm, y_rent_train_nm) #treinando o modelo para alugueis\n",
        "model_sale_nm.fit(X_sale_train_nm, y_sale_train_nm) #treinando o modelo para vendas"
      ],
      "execution_count": null,
      "outputs": [
        {
          "output_type": "execute_result",
          "data": {
            "text/plain": [
              "RandomForestRegressor(random_state=42)"
            ]
          },
          "metadata": {},
          "execution_count": 180
        }
      ]
    },
    {
      "cell_type": "markdown",
      "metadata": {
        "id": "QNh4HP74xYBb"
      },
      "source": [
        "Utilizaremos as mesmas métricas para visualizar o desempenho dos modelos:"
      ]
    },
    {
      "cell_type": "markdown",
      "metadata": {
        "id": "mun1OS1bxctb"
      },
      "source": [
        "##### Modelo para Alugueis\n",
        "\n",
        "Obtendo as métricas do modelo treinado com os dados normalizados e para os dados de alugueis:"
      ]
    },
    {
      "cell_type": "code",
      "metadata": {
        "id": "BMTfDaJLxqet",
        "colab": {
          "base_uri": "https://localhost:8080/"
        },
        "outputId": "f85c0122-06a5-4b9f-a8cd-259b5abe0095"
      },
      "source": [
        "# Realizando as previsões para alugueis\n",
        "y_pred_rent_nm = model_rent_nm.predict(X_rent_test_nm) \n",
        "\n",
        "# Obtendo as métricas R2 e Adjusted R2\n",
        "print('R2: {:.4f}'.format(r2_score(y_rent_test_nm,y_pred_rent_nm)))\n",
        "print('R2 Ajustado: {:.4f}'.format(1 - (1-r2_score(y_rent_test_nm,y_pred_rent_nm))*(len(y_rent_nm)-1)/(len(y_rent_nm)-X_rent_nm.shape[1]-1)))\n",
        "\n",
        "# Obtendo a métrica Root Mean Square Error (RMSE)\n",
        "MSE_rent_nm  = mean_squared_error(y_rent_test_nm,y_pred_rent_nm) #calculando MSE\n",
        "print('RMSE: {:.4f}'.format(np.sqrt(MSE_rent_nm))) #tirando a raiz quadrada do MSE -> RMSE"
      ],
      "execution_count": null,
      "outputs": [
        {
          "output_type": "stream",
          "name": "stdout",
          "text": [
            "R2: 0.7399\n",
            "R2 Ajustado: 0.7391\n",
            "RMSE: 1974.5390\n"
          ]
        }
      ]
    },
    {
      "cell_type": "markdown",
      "metadata": {
        "id": "hAVCU_gGyJUO"
      },
      "source": [
        "Essas métricas nos mostram que:\n",
        "* Pela métrica `r2`: modelo consegue explicar aproximadamente 74% da variabilidade das colunas (features) dependentes;\n",
        "* Pela métrica `r2 Ajustado`: como seu valor é bem próximo ao de `r2`, isso quer dizer que nosso modelo é robusto ao problema de overfitting;\n",
        "* Pela métrica `RMSE`: temos um erro médio de 1974,53 reais nos preços previstos.\n",
        "\n",
        "Plotando a relação entre os preços atuais e previstos:"
      ]
    },
    {
      "cell_type": "code",
      "metadata": {
        "id": "Xr67Qo7ZyCKx",
        "colab": {
          "base_uri": "https://localhost:8080/",
          "height": 295
        },
        "outputId": "d3f5ccc8-8d08-47b6-b09a-7e97437930d9"
      },
      "source": [
        "# Plotando os preços atuais e previstos do modelo de aluguel\n",
        "plt.scatter(y_rent_test_nm, y_pred_rent_nm)\n",
        "plt.xlabel(\"Preço Atual\")\n",
        "plt.ylabel(\"Preço Previsto\")\n",
        "plt.title(\"Relação entre Atual vs Previsto\")\n",
        "\n",
        "plt.show()"
      ],
      "execution_count": null,
      "outputs": [
        {
          "output_type": "display_data",
          "data": {
            "image/png": "[encoded data removed]",
            "text/plain": [
              "<Figure size 432x288 with 1 Axes>"
            ]
          },
          "metadata": {
            "needs_background": "light"
          }
        }
      ]
    },
    {
      "cell_type": "markdown",
      "metadata": {
        "id": "DXdI3h_ByfPn"
      },
      "source": [
        "Agora vamos realizar os mesmos passos para o modelo de vendas, também com os dados normalizados."
      ]
    },
    {
      "cell_type": "markdown",
      "metadata": {
        "id": "gsDAOt3vynPW"
      },
      "source": [
        "##### Modelo Vendas\n",
        "\n",
        "Obtendo as métricas do modelo treinado com os dados normalizdos e para os dados de vendas:"
      ]
    },
    {
      "cell_type": "code",
      "metadata": {
        "id": "JXHHT1ABywSR",
        "colab": {
          "base_uri": "https://localhost:8080/"
        },
        "outputId": "34f7d617-379a-4295-e93d-1e1a0d37bfa6"
      },
      "source": [
        "# Realizando as previsões para vendas\n",
        "y_pred_sale_nm = model_sale_nm.predict(X_sale_test_nm) \n",
        "\n",
        "# Obtendo as métricas R2 e Adjusted R2\n",
        "print('R2: {:.4f}'.format(r2_score(y_sale_test_nm,y_pred_sale_nm)))\n",
        "print('R2 Ajustado: {:.4f}'.format(1 - (1-r2_score(y_sale_test_nm,y_pred_sale_nm))*(len(y_sale_nm)-1)/(len(y_sale_nm)-X_sale_nm.shape[1]-1)))\n",
        "\n",
        "# Obtendo a métrica Root Mean Square Error (RMSE)\n",
        "MSE_sale_nm  = mean_squared_error(y_sale_test_nm,y_pred_sale_nm) #calculando MSE\n",
        "print('RMSE: {:.4f}'.format(np.sqrt(MSE_sale_nm))) #tirando a raiz quadrada do MSE -> RMSE"
      ],
      "execution_count": null,
      "outputs": [
        {
          "output_type": "stream",
          "name": "stdout",
          "text": [
            "R2: 0.9101\n",
            "R2 Ajustado: 0.9097\n",
            "RMSE: 236811.8949\n"
          ]
        }
      ]
    },
    {
      "cell_type": "markdown",
      "metadata": {
        "id": "WR8y5HMkzFyS"
      },
      "source": [
        "Essas métricas nos mostram que:\n",
        "\n",
        "* Pela métrica r2: modelo consegue explicar 91% da variabilidade das colunas (features) dependentes;\n",
        "\n",
        "* Pela métrica r2 Ajustado: como seu valor é bem próximo ao de r2, isso quer dizer que nosso modelo é robusto ao problema de overfitting;\n",
        "Pela métrica RMSE: temos um erro médio de 236.811,89 reais nos preços previstos.\n",
        "Vamos visualizar a relação entre os preços atuais e previstos:"
      ]
    },
    {
      "cell_type": "code",
      "metadata": {
        "id": "5uZsi6I_zGeN",
        "colab": {
          "base_uri": "https://localhost:8080/",
          "height": 295
        },
        "outputId": "ce4470b7-cb77-4112-8957-b779186a851e"
      },
      "source": [
        "# Plotando os preços atuais e previstos do modelo de venda\n",
        "plt.scatter(y_sale_test_nm, y_pred_sale_nm)\n",
        "plt.xlabel(\"Preço Atual\")\n",
        "plt.ylabel(\"Preço Previsto\")\n",
        "plt.title(\"Relação entre Atual vs Previsto\")\n",
        "\n",
        "plt.show()"
      ],
      "execution_count": null,
      "outputs": [
        {
          "output_type": "display_data",
          "data": {
            "image/png": "[encoded data removed]",
            "text/plain": [
              "<Figure size 432x288 with 1 Axes>"
            ]
          },
          "metadata": {
            "needs_background": "light"
          }
        }
      ]
    },
    {
      "cell_type": "markdown",
      "metadata": {
        "id": "v138_tgTqeei"
      },
      "source": [
        "### Resultado dos Testes\n",
        "\n",
        "Vamos analisar os resultados de forma mais rápida e mais fácil de comparar se criarmos um DataFrame para os resultados obtidos pelos modelos:\n",
        "\n",
        "\n",
        "\n"
      ]
    },
    {
      "cell_type": "code",
      "metadata": {
        "id": "Y88dl45O11s3"
      },
      "source": [
        "## Criando DataFrames com os resultados\n",
        "\n",
        "# Obtendo o resultado das métricas r2 para cada modelo\n",
        "r2_rent_pd = r2_score(y_rent_test_pd,y_pred_rent_pd) #resultado do modelo para alugueis com dados padronizados\n",
        "r2_sale_pd = r2_score(y_sale_test_pd,y_pred_sale_pd) #resultado do modelo para vendas com dados padronizados\n",
        "r2_rent_nm = r2_score(y_rent_test_nm,y_pred_rent_nm) #resultado do modelo para alugueis com dados normalizados\n",
        "r2_sale_nm = r2_score(y_sale_test_nm,y_pred_sale_nm) #resultado do modelo para vendas com dados normalizados\n",
        "\n",
        "# Obtendo o resultado das métricas RMSE para cada modelo\n",
        "rmse_rent_pd = np.sqrt(MSE_rent_pd) #resultado do modelo para alugueis com dados padronizados\n",
        "rmse_sale_pd = np.sqrt(MSE_sale_pd) #resultado do modelo para vendas com dados padronizados\n",
        "rmse_rent_nm = np.sqrt(MSE_rent_nm) #resultado do modelo para alugueis com dados normalizados\n",
        "rmse_sale_nm = np.sqrt(MSE_sale_nm) #resultado do modelo para vendas com dados normalizados\n",
        "\n",
        "# Criando o DataFrame para r2\n",
        "df_resultados_r2 = pd.DataFrame([[r2_rent_pd, r2_rent_nm],\n",
        "                                 [r2_sale_pd, r2_sale_nm]],\n",
        "                                index=['Aluguel','Venda'],\n",
        "                                columns=['R2 Padronizado','R2 Normalizado'])\n",
        "\n",
        "# Criando o DataFrame para RMSE\n",
        "df_resultados_rmse = pd.DataFrame([[rmse_rent_pd, rmse_rent_nm],\n",
        "                                  [rmse_sale_pd, rmse_sale_nm]],\n",
        "                                 index=['Aluguel','Venda'],\n",
        "                                 columns=['RMSE Padronizado','RMSE Normalizado'])"
      ],
      "execution_count": null,
      "outputs": []
    },
    {
      "cell_type": "code",
      "metadata": {
        "id": "qmOB0Tk9FGAN",
        "colab": {
          "base_uri": "https://localhost:8080/",
          "height": 112
        },
        "outputId": "87323bdc-dc80-4fd6-d308-7bc293d73284"
      },
      "source": [
        "# Checando o resultado de R2\n",
        "df_resultados_r2"
      ],
      "execution_count": null,
      "outputs": [
        {
          "output_type": "execute_result",
          "data": {
            "text/html": [
              "<div>\n",
              "<style scoped>\n",
              "    .dataframe tbody tr th:only-of-type {\n",
              "        vertical-align: middle;\n",
              "    }\n",
              "\n",
              "    .dataframe tbody tr th {\n",
              "        vertical-align: top;\n",
              "    }\n",
              "\n",
              "    .dataframe thead th {\n",
              "        text-align: right;\n",
              "    }\n",
              "</style>\n",
              "<table border=\"1\" class=\"dataframe\">\n",
              "  <thead>\n",
              "    <tr style=\"text-align: right;\">\n",
              "      <th></th>\n",
              "      <th>R2 Padronizado</th>\n",
              "      <th>R2 Normalizado</th>\n",
              "    </tr>\n",
              "  </thead>\n",
              "  <tbody>\n",
              "    <tr>\n",
              "      <th>Aluguel</th>\n",
              "      <td>0.701007</td>\n",
              "      <td>0.739915</td>\n",
              "    </tr>\n",
              "    <tr>\n",
              "      <th>Venda</th>\n",
              "      <td>0.870612</td>\n",
              "      <td>0.910113</td>\n",
              "    </tr>\n",
              "  </tbody>\n",
              "</table>\n",
              "</div>"
            ],
            "text/plain": [
              "         R2 Padronizado  R2 Normalizado\n",
              "Aluguel        0.701007        0.739915\n",
              "Venda          0.870612        0.910113"
            ]
          },
          "metadata": {},
          "execution_count": 186
        }
      ]
    },
    {
      "cell_type": "code",
      "metadata": {
        "id": "JWjO1QKSFKlW",
        "colab": {
          "base_uri": "https://localhost:8080/",
          "height": 112
        },
        "outputId": "95452a60-5c06-4ffe-e0d1-5243f8cb8cac"
      },
      "source": [
        "# Checando o resultado de RMSE\n",
        "df_resultados_rmse"
      ],
      "execution_count": null,
      "outputs": [
        {
          "output_type": "execute_result",
          "data": {
            "text/html": [
              "<div>\n",
              "<style scoped>\n",
              "    .dataframe tbody tr th:only-of-type {\n",
              "        vertical-align: middle;\n",
              "    }\n",
              "\n",
              "    .dataframe tbody tr th {\n",
              "        vertical-align: top;\n",
              "    }\n",
              "\n",
              "    .dataframe thead th {\n",
              "        text-align: right;\n",
              "    }\n",
              "</style>\n",
              "<table border=\"1\" class=\"dataframe\">\n",
              "  <thead>\n",
              "    <tr style=\"text-align: right;\">\n",
              "      <th></th>\n",
              "      <th>RMSE Padronizado</th>\n",
              "      <th>RMSE Normalizado</th>\n",
              "    </tr>\n",
              "  </thead>\n",
              "  <tbody>\n",
              "    <tr>\n",
              "      <th>Aluguel</th>\n",
              "      <td>1970.503614</td>\n",
              "      <td>1974.539041</td>\n",
              "    </tr>\n",
              "    <tr>\n",
              "      <th>Venda</th>\n",
              "      <td>283505.742384</td>\n",
              "      <td>236811.894888</td>\n",
              "    </tr>\n",
              "  </tbody>\n",
              "</table>\n",
              "</div>"
            ],
            "text/plain": [
              "         RMSE Padronizado  RMSE Normalizado\n",
              "Aluguel       1970.503614       1974.539041\n",
              "Venda       283505.742384     236811.894888"
            ]
          },
          "metadata": {},
          "execution_count": 187
        }
      ]
    },
    {
      "cell_type": "markdown",
      "metadata": {
        "id": "_vPovRrCGNiu"
      },
      "source": [
        "Analisando os resultados obtidos para os dados padronizados e normalizados, temos que para nosso projeto o modelo alimentado com dados normalizados se saiu superior praticamente em ambas as métricas.\n",
        "\n",
        "Dessa forma iremos usar os modelos com os dados normalizados como nossos modelos finais de previsão para os preços dos apartamentos.\n",
        "\n",
        "Agora que temos os modelos a serem utilizados, vamos realizar simulações no \"ambiente real\".\n",
        "\n",
        "### Simulando os modelos no \"ambiente real\"\n",
        "\n",
        "Primeiro vamos instanciar o modelo que se saiu melhor e aplicar as devidas transformações:"
      ]
    },
    {
      "cell_type": "code",
      "metadata": {
        "id": "GWQDQQZ2XH9R",
        "colab": {
          "base_uri": "https://localhost:8080/"
        },
        "outputId": "7ee2c566-3070-426f-81ca-1e476350f7f5"
      },
      "source": [
        "# Instanciando os modelos (random_state = None para ter aleatoriedade na execução do modelo) por padrão já é None\n",
        "model_agrupado_aluguel = RandomForestRegressor()\n",
        "model_agrupado_aluguel.fit(X_rent_train_nm, y_rent_train_nm) #treinando o modelo para alugueis\n",
        "\n",
        "model_agrupado_venda = RandomForestRegressor()\n",
        "model_agrupado_venda.fit(X_sale_train_nm, y_sale_train_nm) #treinando o modelo para vendas"
      ],
      "execution_count": null,
      "outputs": [
        {
          "output_type": "execute_result",
          "data": {
            "text/plain": [
              "RandomForestRegressor()"
            ]
          },
          "metadata": {},
          "execution_count": 188
        }
      ]
    },
    {
      "cell_type": "markdown",
      "metadata": {
        "id": "Re6sdce5W82v"
      },
      "source": [
        "Vamos simular o preenchimento de um formulário das características do apartamento por um usuário da API, que iremos construir mais a frente:"
      ]
    },
    {
      "cell_type": "markdown",
      "metadata": {
        "id": "Kf3aSa1u51K3"
      },
      "source": [
        "#### Simulando uma pesquisa de aluguel\n",
        "\n",
        "Vamos criar um DataFrame com o formulário:\n",
        "* Condomínio: 220\n",
        "* Tamanho: 47\n",
        "* Quartos: 2\n",
        "* Banheiros: 2\n",
        "* Suites: 1\n",
        "* Vagas de estacionamento: 1\n",
        "* Possui elevadores: Não (0)\n",
        "* Mobiliado: Não (0)\n",
        "* Possui piscina no prédio: Não (0)\n",
        "* Apartamento novo: Não (0)\n",
        "* Bairro: Artur Alvim"
      ]
    },
    {
      "cell_type": "code",
      "metadata": {
        "id": "GeJaiulA6ajO"
      },
      "source": [
        "# Criando um DataFrame para as informações que serão utilizadas para a previsão de aluguel\n",
        "lista_rent_test = pd.DataFrame({'Condo': 220,\n",
        "                                'Size': 47,\n",
        "                                'Rooms': 2,\n",
        "                                'Toilets': 2,\n",
        "                                'Suites': 1,\n",
        "                                'Parking': 1,\n",
        "                                'Elevator': 0,\n",
        "                                'Furnished': 0,\n",
        "                                'Swimming Pool': 0,\n",
        "                                'New': 0,\n",
        "                                'Grupo 1': 1, #Artur Alvim pertence ao grupo 1\n",
        "                                'Grupo 10': 0,\n",
        "                                'Grupo 11': 0,\n",
        "                                'Grupo 12': 0,\n",
        "                                'Grupo 2': 0,\n",
        "                                'Grupo 3': 0,\n",
        "                                'Grupo 4': 0,\n",
        "                                'Grupo 5': 0,\n",
        "                                'Grupo 6': 0,\n",
        "                                'Grupo 7': 0,\n",
        "                                'Grupo 8': 0,\n",
        "                                'Grupo 9': 0}, index=[0])"
      ],
      "execution_count": null,
      "outputs": []
    },
    {
      "cell_type": "markdown",
      "metadata": {
        "id": "dKgdmaMT9WP0"
      },
      "source": [
        "Para realizar a previsão ainda é necessário mais uma etapa bastante importante que é o tratamento deste formulário, assim como aplicamos a normalização nos dados durante a fase de treino, devemos transformar também estes novos dados:"
      ]
    },
    {
      "cell_type": "code",
      "metadata": {
        "id": "Dyb4lm-NAd-y"
      },
      "source": [
        "# Aplicando as transformações no formulário\n",
        "lista_rent_test = nm_rent_nm.transform(lista_rent_test)"
      ],
      "execution_count": null,
      "outputs": []
    },
    {
      "cell_type": "code",
      "metadata": {
        "colab": {
          "base_uri": "https://localhost:8080/"
        },
        "id": "HD9i9WRF9a55",
        "outputId": "5530881b-3a35-47d6-85f7-76d76744621b"
      },
      "source": [
        "# Realizando a previsão de aluguel\n",
        "model_agrupado_aluguel.predict(lista_rent_test)"
      ],
      "execution_count": null,
      "outputs": [
        {
          "output_type": "execute_result",
          "data": {
            "text/plain": [
              "array([891.98571429])"
            ]
          },
          "metadata": {},
          "execution_count": 191
        }
      ]
    },
    {
      "cell_type": "markdown",
      "metadata": {
        "id": "5ZMcpYBh-SuK"
      },
      "source": [
        "Temos uma previsão de 690 reais para o aluguel!\n",
        "\n",
        "Vamos alterar o valor do condomínio no formulário e realizar outro teste:"
      ]
    },
    {
      "cell_type": "code",
      "metadata": {
        "id": "lw0snP-H-FW9"
      },
      "source": [
        "# Criando um DataFrame para as informações que serão utilizadas para a previsão de aluguel\n",
        "lista_rent_test2 = pd.DataFrame({'Condo': 2000,\n",
        "                                'Size': 47,\n",
        "                                'Rooms': 2,\n",
        "                                'Toilets': 2,\n",
        "                                'Suites': 1,\n",
        "                                'Parking': 1,\n",
        "                                'Elevator': 0,\n",
        "                                'Furnished': 0,\n",
        "                                'Swimming Pool': 0,\n",
        "                                'New': 0,\n",
        "                                'Grupo 1': 1, #Artur Alvim pertence ao grupo 1\n",
        "                                'Grupo 10': 0,\n",
        "                                'Grupo 11': 0,\n",
        "                                'Grupo 12': 0,\n",
        "                                'Grupo 2': 0,\n",
        "                                'Grupo 3': 0,\n",
        "                                'Grupo 4': 0,\n",
        "                                'Grupo 5': 0,\n",
        "                                'Grupo 6': 0,\n",
        "                                'Grupo 7': 0,\n",
        "                                'Grupo 8': 0,\n",
        "                                'Grupo 9': 0}, index=[0])"
      ],
      "execution_count": null,
      "outputs": []
    },
    {
      "cell_type": "markdown",
      "metadata": {
        "id": "VzWDcbs2E71M"
      },
      "source": [
        "Aplicando as transformações:"
      ]
    },
    {
      "cell_type": "code",
      "metadata": {
        "id": "aVQES1mhCYNu"
      },
      "source": [
        "# Aplicando as transformações nos formulários\n",
        "lista_rent_test2 = nm_rent_nm.transform(lista_rent_test2)"
      ],
      "execution_count": null,
      "outputs": []
    },
    {
      "cell_type": "markdown",
      "metadata": {
        "id": "CizEQ6QTE-FA"
      },
      "source": [
        "Realizando outra previsão:"
      ]
    },
    {
      "cell_type": "code",
      "metadata": {
        "colab": {
          "base_uri": "https://localhost:8080/"
        },
        "id": "zf-8u6Zl-KUx",
        "outputId": "b206ce4c-35ce-4654-a4cc-cd6049a6e999"
      },
      "source": [
        "# Realizando a previsão de aluguel\n",
        "model_agrupado_aluguel.predict(lista_rent_test2)"
      ],
      "execution_count": null,
      "outputs": [
        {
          "output_type": "execute_result",
          "data": {
            "text/plain": [
              "array([2583.11])"
            ]
          },
          "metadata": {},
          "execution_count": 194
        }
      ]
    },
    {
      "cell_type": "markdown",
      "metadata": {
        "id": "cKWRwAPdFf9i"
      },
      "source": [
        "Vemos que a previsão do modelo acompanhou as alterações nas características do apartamento, o que era esperado.\n",
        "\n",
        "Vamos então realizar outro teste de desempenho, mas agora sem agrupar os bairros, de forma que cada bairro será uma nova coluna binária."
      ]
    },
    {
      "cell_type": "markdown",
      "metadata": {
        "id": "4hAxJ3P1MNTj"
      },
      "source": [
        "## Desenvolvimento do modelo (Bairros Separados)\n"
      ]
    },
    {
      "cell_type": "markdown",
      "metadata": {
        "id": "Y8VfqIjcTiiP"
      },
      "source": [
        "### Preparação para o modelo\n",
        "\n",
        "Para essa etapa vamos aplicar o método `Dummies` para a coluna `District` original, gerando 96 novas colunas (features):"
      ]
    },
    {
      "cell_type": "code",
      "metadata": {
        "id": "GR25BmNFMTn1"
      },
      "source": [
        "# Copiando os datasets para aluguel e venda\n",
        "df_aluguel_dum = df_aluguel.copy()\n",
        "df_venda_dum = df_venda.copy()"
      ],
      "execution_count": null,
      "outputs": []
    },
    {
      "cell_type": "markdown",
      "metadata": {
        "id": "t0XDLMkRP9Qu"
      },
      "source": [
        "Vamos realizar os mesmos passos e testes feitos durante o desenvolvimento dos modelos com os bairros Agrupados, afinal como iremos realizar um comparativo precisamos passar pelos mesmos processos.\n",
        "\n",
        "Aplicando a codificação `Dummies` na coluna `District`: "
      ]
    },
    {
      "cell_type": "code",
      "metadata": {
        "id": "zGWfdZGBQ1VR"
      },
      "source": [
        "# Aplicando o Get Dummies para ambos os dataset (aluguel e venda)\n",
        "df_aluguel_dum = pd.get_dummies(df_aluguel_dum, columns=['District'])\n",
        "df_venda_dum = pd.get_dummies(df_venda_dum, columns=['District'])"
      ],
      "execution_count": null,
      "outputs": []
    },
    {
      "cell_type": "markdown",
      "metadata": {
        "id": "BUQ8bUCyRTpV"
      },
      "source": [
        "Checando se houve a transformação:"
      ]
    },
    {
      "cell_type": "code",
      "metadata": {
        "colab": {
          "base_uri": "https://localhost:8080/",
          "height": 272
        },
        "id": "jY5pZq8ERirq",
        "outputId": "ea3b5c16-89f1-4bf4-da4a-d51188e42e5d"
      },
      "source": [
        "# Checando o DataFrame de aluguel\n",
        "df_aluguel_dum.head()"
      ],
      "execution_count": null,
      "outputs": [
        {
          "output_type": "execute_result",
          "data": {
            "text/html": [
              "<div>\n",
              "<style scoped>\n",
              "    .dataframe tbody tr th:only-of-type {\n",
              "        vertical-align: middle;\n",
              "    }\n",
              "\n",
              "    .dataframe tbody tr th {\n",
              "        vertical-align: top;\n",
              "    }\n",
              "\n",
              "    .dataframe thead th {\n",
              "        text-align: right;\n",
              "    }\n",
              "</style>\n",
              "<table border=\"1\" class=\"dataframe\">\n",
              "  <thead>\n",
              "    <tr style=\"text-align: right;\">\n",
              "      <th></th>\n",
              "      <th>Price</th>\n",
              "      <th>Condo</th>\n",
              "      <th>Size</th>\n",
              "      <th>Rooms</th>\n",
              "      <th>Toilets</th>\n",
              "      <th>Suites</th>\n",
              "      <th>Parking</th>\n",
              "      <th>Elevator</th>\n",
              "      <th>Furnished</th>\n",
              "      <th>Swimming Pool</th>\n",
              "      <th>New</th>\n",
              "      <th>Price/Size</th>\n",
              "      <th>District_Alto de Pinheiros</th>\n",
              "      <th>District_Anhanguera</th>\n",
              "      <th>District_Aricanduva</th>\n",
              "      <th>District_Artur Alvim</th>\n",
              "      <th>District_Barra Funda</th>\n",
              "      <th>District_Bela Vista</th>\n",
              "      <th>District_Belém</th>\n",
              "      <th>District_Bom Retiro</th>\n",
              "      <th>District_Brasilândia</th>\n",
              "      <th>District_Brooklin</th>\n",
              "      <th>District_Brás</th>\n",
              "      <th>District_Butantã</th>\n",
              "      <th>District_Cachoeirinha</th>\n",
              "      <th>District_Cambuci</th>\n",
              "      <th>District_Campo Belo</th>\n",
              "      <th>District_Campo Grande</th>\n",
              "      <th>District_Campo Limpo</th>\n",
              "      <th>District_Cangaíba</th>\n",
              "      <th>District_Capão Redondo</th>\n",
              "      <th>District_Carrão</th>\n",
              "      <th>District_Casa Verde</th>\n",
              "      <th>District_Cidade Ademar</th>\n",
              "      <th>District_Cidade Dutra</th>\n",
              "      <th>District_Cidade Líder</th>\n",
              "      <th>District_Cidade Tiradentes</th>\n",
              "      <th>District_Consolação</th>\n",
              "      <th>District_Cursino</th>\n",
              "      <th>District_Ermelino Matarazzo</th>\n",
              "      <th>...</th>\n",
              "      <th>District_Pari</th>\n",
              "      <th>District_Parque do Carmo</th>\n",
              "      <th>District_Pedreira</th>\n",
              "      <th>District_Penha</th>\n",
              "      <th>District_Perdizes</th>\n",
              "      <th>District_Pinheiros</th>\n",
              "      <th>District_Pirituba</th>\n",
              "      <th>District_Ponte Rasa</th>\n",
              "      <th>District_Raposo Tavares</th>\n",
              "      <th>District_República</th>\n",
              "      <th>District_Rio Pequeno</th>\n",
              "      <th>District_Sacomã</th>\n",
              "      <th>District_Santa Cecília</th>\n",
              "      <th>District_Santana</th>\n",
              "      <th>District_Santo Amaro</th>\n",
              "      <th>District_Sapopemba</th>\n",
              "      <th>District_Saúde</th>\n",
              "      <th>District_Socorro</th>\n",
              "      <th>District_São Lucas</th>\n",
              "      <th>District_São Mateus</th>\n",
              "      <th>District_São Miguel</th>\n",
              "      <th>District_São Rafael</th>\n",
              "      <th>District_Sé</th>\n",
              "      <th>District_Tatuapé</th>\n",
              "      <th>District_Tremembé</th>\n",
              "      <th>District_Tucuruvi</th>\n",
              "      <th>District_Vila Andrade</th>\n",
              "      <th>District_Vila Curuçá</th>\n",
              "      <th>District_Vila Formosa</th>\n",
              "      <th>District_Vila Guilherme</th>\n",
              "      <th>District_Vila Jacuí</th>\n",
              "      <th>District_Vila Leopoldina</th>\n",
              "      <th>District_Vila Madalena</th>\n",
              "      <th>District_Vila Maria</th>\n",
              "      <th>District_Vila Mariana</th>\n",
              "      <th>District_Vila Matilde</th>\n",
              "      <th>District_Vila Olimpia</th>\n",
              "      <th>District_Vila Prudente</th>\n",
              "      <th>District_Vila Sônia</th>\n",
              "      <th>District_Água Rasa</th>\n",
              "    </tr>\n",
              "  </thead>\n",
              "  <tbody>\n",
              "    <tr>\n",
              "      <th>0</th>\n",
              "      <td>930</td>\n",
              "      <td>220</td>\n",
              "      <td>47</td>\n",
              "      <td>2</td>\n",
              "      <td>2</td>\n",
              "      <td>1</td>\n",
              "      <td>1</td>\n",
              "      <td>0</td>\n",
              "      <td>0</td>\n",
              "      <td>0</td>\n",
              "      <td>0</td>\n",
              "      <td>19.787234</td>\n",
              "      <td>0</td>\n",
              "      <td>0</td>\n",
              "      <td>0</td>\n",
              "      <td>1</td>\n",
              "      <td>0</td>\n",
              "      <td>0</td>\n",
              "      <td>0</td>\n",
              "      <td>0</td>\n",
              "      <td>0</td>\n",
              "      <td>0</td>\n",
              "      <td>0</td>\n",
              "      <td>0</td>\n",
              "      <td>0</td>\n",
              "      <td>0</td>\n",
              "      <td>0</td>\n",
              "      <td>0</td>\n",
              "      <td>0</td>\n",
              "      <td>0</td>\n",
              "      <td>0</td>\n",
              "      <td>0</td>\n",
              "      <td>0</td>\n",
              "      <td>0</td>\n",
              "      <td>0</td>\n",
              "      <td>0</td>\n",
              "      <td>0</td>\n",
              "      <td>0</td>\n",
              "      <td>0</td>\n",
              "      <td>0</td>\n",
              "      <td>...</td>\n",
              "      <td>0</td>\n",
              "      <td>0</td>\n",
              "      <td>0</td>\n",
              "      <td>0</td>\n",
              "      <td>0</td>\n",
              "      <td>0</td>\n",
              "      <td>0</td>\n",
              "      <td>0</td>\n",
              "      <td>0</td>\n",
              "      <td>0</td>\n",
              "      <td>0</td>\n",
              "      <td>0</td>\n",
              "      <td>0</td>\n",
              "      <td>0</td>\n",
              "      <td>0</td>\n",
              "      <td>0</td>\n",
              "      <td>0</td>\n",
              "      <td>0</td>\n",
              "      <td>0</td>\n",
              "      <td>0</td>\n",
              "      <td>0</td>\n",
              "      <td>0</td>\n",
              "      <td>0</td>\n",
              "      <td>0</td>\n",
              "      <td>0</td>\n",
              "      <td>0</td>\n",
              "      <td>0</td>\n",
              "      <td>0</td>\n",
              "      <td>0</td>\n",
              "      <td>0</td>\n",
              "      <td>0</td>\n",
              "      <td>0</td>\n",
              "      <td>0</td>\n",
              "      <td>0</td>\n",
              "      <td>0</td>\n",
              "      <td>0</td>\n",
              "      <td>0</td>\n",
              "      <td>0</td>\n",
              "      <td>0</td>\n",
              "      <td>0</td>\n",
              "    </tr>\n",
              "    <tr>\n",
              "      <th>1</th>\n",
              "      <td>1000</td>\n",
              "      <td>148</td>\n",
              "      <td>45</td>\n",
              "      <td>2</td>\n",
              "      <td>2</td>\n",
              "      <td>1</td>\n",
              "      <td>1</td>\n",
              "      <td>0</td>\n",
              "      <td>0</td>\n",
              "      <td>0</td>\n",
              "      <td>0</td>\n",
              "      <td>22.222222</td>\n",
              "      <td>0</td>\n",
              "      <td>0</td>\n",
              "      <td>0</td>\n",
              "      <td>1</td>\n",
              "      <td>0</td>\n",
              "      <td>0</td>\n",
              "      <td>0</td>\n",
              "      <td>0</td>\n",
              "      <td>0</td>\n",
              "      <td>0</td>\n",
              "      <td>0</td>\n",
              "      <td>0</td>\n",
              "      <td>0</td>\n",
              "      <td>0</td>\n",
              "      <td>0</td>\n",
              "      <td>0</td>\n",
              "      <td>0</td>\n",
              "      <td>0</td>\n",
              "      <td>0</td>\n",
              "      <td>0</td>\n",
              "      <td>0</td>\n",
              "      <td>0</td>\n",
              "      <td>0</td>\n",
              "      <td>0</td>\n",
              "      <td>0</td>\n",
              "      <td>0</td>\n",
              "      <td>0</td>\n",
              "      <td>0</td>\n",
              "      <td>...</td>\n",
              "      <td>0</td>\n",
              "      <td>0</td>\n",
              "      <td>0</td>\n",
              "      <td>0</td>\n",
              "      <td>0</td>\n",
              "      <td>0</td>\n",
              "      <td>0</td>\n",
              "      <td>0</td>\n",
              "      <td>0</td>\n",
              "      <td>0</td>\n",
              "      <td>0</td>\n",
              "      <td>0</td>\n",
              "      <td>0</td>\n",
              "      <td>0</td>\n",
              "      <td>0</td>\n",
              "      <td>0</td>\n",
              "      <td>0</td>\n",
              "      <td>0</td>\n",
              "      <td>0</td>\n",
              "      <td>0</td>\n",
              "      <td>0</td>\n",
              "      <td>0</td>\n",
              "      <td>0</td>\n",
              "      <td>0</td>\n",
              "      <td>0</td>\n",
              "      <td>0</td>\n",
              "      <td>0</td>\n",
              "      <td>0</td>\n",
              "      <td>0</td>\n",
              "      <td>0</td>\n",
              "      <td>0</td>\n",
              "      <td>0</td>\n",
              "      <td>0</td>\n",
              "      <td>0</td>\n",
              "      <td>0</td>\n",
              "      <td>0</td>\n",
              "      <td>0</td>\n",
              "      <td>0</td>\n",
              "      <td>0</td>\n",
              "      <td>0</td>\n",
              "    </tr>\n",
              "    <tr>\n",
              "      <th>2</th>\n",
              "      <td>1000</td>\n",
              "      <td>100</td>\n",
              "      <td>48</td>\n",
              "      <td>2</td>\n",
              "      <td>2</td>\n",
              "      <td>1</td>\n",
              "      <td>1</td>\n",
              "      <td>0</td>\n",
              "      <td>0</td>\n",
              "      <td>0</td>\n",
              "      <td>0</td>\n",
              "      <td>20.833333</td>\n",
              "      <td>0</td>\n",
              "      <td>0</td>\n",
              "      <td>0</td>\n",
              "      <td>1</td>\n",
              "      <td>0</td>\n",
              "      <td>0</td>\n",
              "      <td>0</td>\n",
              "      <td>0</td>\n",
              "      <td>0</td>\n",
              "      <td>0</td>\n",
              "      <td>0</td>\n",
              "      <td>0</td>\n",
              "      <td>0</td>\n",
              "      <td>0</td>\n",
              "      <td>0</td>\n",
              "      <td>0</td>\n",
              "      <td>0</td>\n",
              "      <td>0</td>\n",
              "      <td>0</td>\n",
              "      <td>0</td>\n",
              "      <td>0</td>\n",
              "      <td>0</td>\n",
              "      <td>0</td>\n",
              "      <td>0</td>\n",
              "      <td>0</td>\n",
              "      <td>0</td>\n",
              "      <td>0</td>\n",
              "      <td>0</td>\n",
              "      <td>...</td>\n",
              "      <td>0</td>\n",
              "      <td>0</td>\n",
              "      <td>0</td>\n",
              "      <td>0</td>\n",
              "      <td>0</td>\n",
              "      <td>0</td>\n",
              "      <td>0</td>\n",
              "      <td>0</td>\n",
              "      <td>0</td>\n",
              "      <td>0</td>\n",
              "      <td>0</td>\n",
              "      <td>0</td>\n",
              "      <td>0</td>\n",
              "      <td>0</td>\n",
              "      <td>0</td>\n",
              "      <td>0</td>\n",
              "      <td>0</td>\n",
              "      <td>0</td>\n",
              "      <td>0</td>\n",
              "      <td>0</td>\n",
              "      <td>0</td>\n",
              "      <td>0</td>\n",
              "      <td>0</td>\n",
              "      <td>0</td>\n",
              "      <td>0</td>\n",
              "      <td>0</td>\n",
              "      <td>0</td>\n",
              "      <td>0</td>\n",
              "      <td>0</td>\n",
              "      <td>0</td>\n",
              "      <td>0</td>\n",
              "      <td>0</td>\n",
              "      <td>0</td>\n",
              "      <td>0</td>\n",
              "      <td>0</td>\n",
              "      <td>0</td>\n",
              "      <td>0</td>\n",
              "      <td>0</td>\n",
              "      <td>0</td>\n",
              "      <td>0</td>\n",
              "    </tr>\n",
              "    <tr>\n",
              "      <th>3</th>\n",
              "      <td>1000</td>\n",
              "      <td>200</td>\n",
              "      <td>48</td>\n",
              "      <td>2</td>\n",
              "      <td>2</td>\n",
              "      <td>1</td>\n",
              "      <td>1</td>\n",
              "      <td>0</td>\n",
              "      <td>0</td>\n",
              "      <td>0</td>\n",
              "      <td>0</td>\n",
              "      <td>20.833333</td>\n",
              "      <td>0</td>\n",
              "      <td>0</td>\n",
              "      <td>0</td>\n",
              "      <td>1</td>\n",
              "      <td>0</td>\n",
              "      <td>0</td>\n",
              "      <td>0</td>\n",
              "      <td>0</td>\n",
              "      <td>0</td>\n",
              "      <td>0</td>\n",
              "      <td>0</td>\n",
              "      <td>0</td>\n",
              "      <td>0</td>\n",
              "      <td>0</td>\n",
              "      <td>0</td>\n",
              "      <td>0</td>\n",
              "      <td>0</td>\n",
              "      <td>0</td>\n",
              "      <td>0</td>\n",
              "      <td>0</td>\n",
              "      <td>0</td>\n",
              "      <td>0</td>\n",
              "      <td>0</td>\n",
              "      <td>0</td>\n",
              "      <td>0</td>\n",
              "      <td>0</td>\n",
              "      <td>0</td>\n",
              "      <td>0</td>\n",
              "      <td>...</td>\n",
              "      <td>0</td>\n",
              "      <td>0</td>\n",
              "      <td>0</td>\n",
              "      <td>0</td>\n",
              "      <td>0</td>\n",
              "      <td>0</td>\n",
              "      <td>0</td>\n",
              "      <td>0</td>\n",
              "      <td>0</td>\n",
              "      <td>0</td>\n",
              "      <td>0</td>\n",
              "      <td>0</td>\n",
              "      <td>0</td>\n",
              "      <td>0</td>\n",
              "      <td>0</td>\n",
              "      <td>0</td>\n",
              "      <td>0</td>\n",
              "      <td>0</td>\n",
              "      <td>0</td>\n",
              "      <td>0</td>\n",
              "      <td>0</td>\n",
              "      <td>0</td>\n",
              "      <td>0</td>\n",
              "      <td>0</td>\n",
              "      <td>0</td>\n",
              "      <td>0</td>\n",
              "      <td>0</td>\n",
              "      <td>0</td>\n",
              "      <td>0</td>\n",
              "      <td>0</td>\n",
              "      <td>0</td>\n",
              "      <td>0</td>\n",
              "      <td>0</td>\n",
              "      <td>0</td>\n",
              "      <td>0</td>\n",
              "      <td>0</td>\n",
              "      <td>0</td>\n",
              "      <td>0</td>\n",
              "      <td>0</td>\n",
              "      <td>0</td>\n",
              "    </tr>\n",
              "    <tr>\n",
              "      <th>4</th>\n",
              "      <td>1300</td>\n",
              "      <td>410</td>\n",
              "      <td>55</td>\n",
              "      <td>2</td>\n",
              "      <td>2</td>\n",
              "      <td>1</td>\n",
              "      <td>1</td>\n",
              "      <td>1</td>\n",
              "      <td>0</td>\n",
              "      <td>0</td>\n",
              "      <td>0</td>\n",
              "      <td>23.636364</td>\n",
              "      <td>0</td>\n",
              "      <td>0</td>\n",
              "      <td>0</td>\n",
              "      <td>1</td>\n",
              "      <td>0</td>\n",
              "      <td>0</td>\n",
              "      <td>0</td>\n",
              "      <td>0</td>\n",
              "      <td>0</td>\n",
              "      <td>0</td>\n",
              "      <td>0</td>\n",
              "      <td>0</td>\n",
              "      <td>0</td>\n",
              "      <td>0</td>\n",
              "      <td>0</td>\n",
              "      <td>0</td>\n",
              "      <td>0</td>\n",
              "      <td>0</td>\n",
              "      <td>0</td>\n",
              "      <td>0</td>\n",
              "      <td>0</td>\n",
              "      <td>0</td>\n",
              "      <td>0</td>\n",
              "      <td>0</td>\n",
              "      <td>0</td>\n",
              "      <td>0</td>\n",
              "      <td>0</td>\n",
              "      <td>0</td>\n",
              "      <td>...</td>\n",
              "      <td>0</td>\n",
              "      <td>0</td>\n",
              "      <td>0</td>\n",
              "      <td>0</td>\n",
              "      <td>0</td>\n",
              "      <td>0</td>\n",
              "      <td>0</td>\n",
              "      <td>0</td>\n",
              "      <td>0</td>\n",
              "      <td>0</td>\n",
              "      <td>0</td>\n",
              "      <td>0</td>\n",
              "      <td>0</td>\n",
              "      <td>0</td>\n",
              "      <td>0</td>\n",
              "      <td>0</td>\n",
              "      <td>0</td>\n",
              "      <td>0</td>\n",
              "      <td>0</td>\n",
              "      <td>0</td>\n",
              "      <td>0</td>\n",
              "      <td>0</td>\n",
              "      <td>0</td>\n",
              "      <td>0</td>\n",
              "      <td>0</td>\n",
              "      <td>0</td>\n",
              "      <td>0</td>\n",
              "      <td>0</td>\n",
              "      <td>0</td>\n",
              "      <td>0</td>\n",
              "      <td>0</td>\n",
              "      <td>0</td>\n",
              "      <td>0</td>\n",
              "      <td>0</td>\n",
              "      <td>0</td>\n",
              "      <td>0</td>\n",
              "      <td>0</td>\n",
              "      <td>0</td>\n",
              "      <td>0</td>\n",
              "      <td>0</td>\n",
              "    </tr>\n",
              "  </tbody>\n",
              "</table>\n",
              "<p>5 rows × 106 columns</p>\n",
              "</div>"
            ],
            "text/plain": [
              "   Price  Condo  ...  District_Vila Sônia  District_Água Rasa\n",
              "0    930    220  ...                    0                   0\n",
              "1   1000    148  ...                    0                   0\n",
              "2   1000    100  ...                    0                   0\n",
              "3   1000    200  ...                    0                   0\n",
              "4   1300    410  ...                    0                   0\n",
              "\n",
              "[5 rows x 106 columns]"
            ]
          },
          "metadata": {},
          "execution_count": 197
        }
      ]
    },
    {
      "cell_type": "markdown",
      "metadata": {
        "id": "bKUbnNbnRuXA"
      },
      "source": [
        "Como temos a coluna (feature) `Price/Size` que possui os preços por metros quadrados dos apartamentos, vamos plotar a matriz de correlação entre as colunas:"
      ]
    },
    {
      "cell_type": "code",
      "metadata": {
        "colab": {
          "base_uri": "https://localhost:8080/",
          "height": 391
        },
        "id": "tbra2INcSNjy",
        "outputId": "54dc4364-d48c-4aea-8f5c-7bf927dddd13"
      },
      "source": [
        "# Correlação do dataset de alugueis\n",
        "corr_aluguel = df_aluguel_dum.corr()\n",
        "ax = sns.heatmap(corr_aluguel, \n",
        "                 center=0,\n",
        "                 cmap=sns.diverging_palette(20, 220, n=200),\n",
        "                 square=True)\n",
        "ax.set_title('Correlação do dataset de Alugueis')\n",
        "\n",
        "plt.show()"
      ],
      "execution_count": null,
      "outputs": [
        {
          "output_type": "display_data",
          "data": {
            "image/png": "[encoded data removed]",
            "text/plain": [
              "<Figure size 432x288 with 2 Axes>"
            ]
          },
          "metadata": {
            "needs_background": "light"
          }
        }
      ]
    },
    {
      "cell_type": "markdown",
      "metadata": {
        "id": "iPsaikm8S01E"
      },
      "source": [
        "Observando a matriz de correlação podemos perceber que o método de codificação `Dummies` aumentou consideravelmente o dimensão do dataset.\n",
        "\n",
        "Para facilitar a visualização, vamos checar a correlação com a coluna `Price`:"
      ]
    },
    {
      "cell_type": "code",
      "metadata": {
        "colab": {
          "base_uri": "https://localhost:8080/"
        },
        "id": "PD2xWwOZSkWX",
        "outputId": "cfdfb063-0ebc-4f52-edf4-c8d69807cc73"
      },
      "source": [
        "# Obtendo os valores de correlação para a variável alvo\n",
        "corr_aluguel['Price'].sort_values(ascending=False)[:10]"
      ],
      "execution_count": null,
      "outputs": [
        {
          "output_type": "execute_result",
          "data": {
            "text/plain": [
              "Price                  1.000000\n",
              "Size                   0.731795\n",
              "Condo                  0.714691\n",
              "Parking                0.640743\n",
              "Suites                 0.588329\n",
              "Toilets                0.583488\n",
              "Price/Size             0.554090\n",
              "Rooms                  0.390951\n",
              "District_Itaim Bibi    0.217874\n",
              "Swimming Pool          0.206884\n",
              "Name: Price, dtype: float64"
            ]
          },
          "metadata": {},
          "execution_count": 199
        }
      ]
    },
    {
      "cell_type": "markdown",
      "metadata": {
        "id": "D4qliKpITVo1"
      },
      "source": [
        "Agora vamos seguir para a construção dos modelos com os dados padronizados e normalizados, depois vamos comparar os resultados e checar se os dados normalizados também são mais adequados para o dataset utilizado nesta etapa:"
      ]
    },
    {
      "cell_type": "markdown",
      "metadata": {
        "id": "tA4OUtwSUJxt"
      },
      "source": [
        "#### Modelos Padronizados\n",
        "Vamos realizar os mesmos passos feitos na etapa de desenvolvimento do modelo com os bairros Agrupados.\n",
        "\n",
        "Criando os datasets desta etapa:"
      ]
    },
    {
      "cell_type": "code",
      "metadata": {
        "id": "2BELemhtUNBx"
      },
      "source": [
        "# Copiando os dataset para os testes\n",
        "df_aluguel_pd = df_aluguel_dum.copy() #copiando o dataset de alugueis\n",
        "df_venda_pd = df_venda_dum.copy() #copiando o dataset de vendas"
      ],
      "execution_count": null,
      "outputs": []
    },
    {
      "cell_type": "markdown",
      "metadata": {
        "id": "TsWPPJIVVXnJ"
      },
      "source": [
        "Separando os dados entre treino e teste e aplicando a padronização:"
      ]
    },
    {
      "cell_type": "code",
      "metadata": {
        "id": "-GJTARBUVNEz"
      },
      "source": [
        "# Separando a coluna alvo do restante dos dados - dataset algueis\n",
        "X_aluguel_pd = df_aluguel_pd.drop('Price', axis=1)\n",
        "y_aluguel_pd = df_aluguel_pd['Price'] #variável alvo\n",
        "\n",
        "# Separando entre dados de treino e teste - dataset alugueis\n",
        "X_aluguel_train_pd, X_aluguel_test_pd, y_aluguel_train_pd, y_aluguel_test_pd = train_test_split(X_aluguel_pd, y_aluguel_pd, test_size=0.20, shuffle=True)\n",
        "\n",
        "# Padronizando os dados\n",
        "std_aluguel_pd = StandardScaler().fit(X_aluguel_train_pd)\n",
        "X_aluguel_train_pd = std_aluguel_pd.transform(X_aluguel_train_pd)\n",
        "X_aluguel_test_pd = std_aluguel_pd.transform(X_aluguel_test_pd)\n",
        "\n",
        "# ------------------------------------------------------------------------------\n",
        "\n",
        "# Separando a coluna alvo do restante dos dados - dataset vendas\n",
        "X_venda_pd = df_venda_pd.drop('Price', axis=1)\n",
        "y_venda_pd = df_venda_pd['Price'] #variável alvo\n",
        "\n",
        "# Separando entre dados de treino e teste - dataset vendas\n",
        "X_venda_train_pd, X_venda_test_pd, y_venda_train_pd, y_venda_test_pd = train_test_split(X_venda_pd, y_venda_pd, test_size=0.20, shuffle=True)\n",
        "\n",
        "# Padronizando os dados\n",
        "std_venda_pd = StandardScaler().fit(X_venda_train_pd)\n",
        "X_venda_train_pd = std_venda_pd.transform(X_venda_train_pd)\n",
        "X_venda_test_pd = std_venda_pd.transform(X_venda_test_pd)"
      ],
      "execution_count": null,
      "outputs": []
    },
    {
      "cell_type": "markdown",
      "metadata": {
        "id": "thAR4YOZWC_a"
      },
      "source": [
        "Instanciando e treinando os modelos desta etapa:"
      ]
    },
    {
      "cell_type": "code",
      "metadata": {
        "colab": {
          "base_uri": "https://localhost:8080/"
        },
        "id": "Idd--3ShYmI4",
        "outputId": "ebbc9bfe-8341-46ce-c11b-e4b629f83e1f"
      },
      "source": [
        "# Instanciando os modelos para cada dataset (alugueis e vendas)\n",
        "model_aluguel_pd = RandomForestRegressor(random_state=15) #modelo para prever alugueis\n",
        "model_venda_pd = RandomForestRegressor(random_state=23) #modelo para prever vendas\n",
        "\n",
        "# Treinando os modelos\n",
        "model_aluguel_pd.fit(X_aluguel_train_pd, y_aluguel_train_pd) #treinando o modelo para alugueis\n",
        "model_venda_pd.fit(X_venda_train_pd, y_venda_train_pd) #treinando o modelo para vendas"
      ],
      "execution_count": null,
      "outputs": [
        {
          "output_type": "execute_result",
          "data": {
            "text/plain": [
              "RandomForestRegressor(random_state=23)"
            ]
          },
          "metadata": {},
          "execution_count": 202
        }
      ]
    },
    {
      "cell_type": "markdown",
      "metadata": {
        "id": "fScxozynY-oK"
      },
      "source": [
        "##### Modelo para Aluguel\n",
        "\n",
        "Vamos utilizar as mesmas métricas de avaliação: R2 e RMSE."
      ]
    },
    {
      "cell_type": "code",
      "metadata": {
        "colab": {
          "base_uri": "https://localhost:8080/"
        },
        "id": "NwluQMwHY8oP",
        "outputId": "2783c746-8c6d-4ca3-d1e1-d8926512aa5e"
      },
      "source": [
        "# Realizando as previsões para alugueis\n",
        "y_pred_aluguel_pd = model_aluguel_pd.predict(X_aluguel_test_pd) \n",
        "\n",
        "# Obtendo as métricas R2 e Adjusted R2\n",
        "print('R2: {:.4f}'.format(r2_score(y_aluguel_test_pd,y_pred_aluguel_pd)))\n",
        "print('R2 Ajustado: {:.4f}'.format(1 - (1-r2_score(y_aluguel_test_pd,y_pred_aluguel_pd))*(len(y_aluguel_pd)-1)/(len(y_aluguel_pd)-X_aluguel_pd.shape[1]-1)))\n",
        "\n",
        "# Obtendo a métrica Root Mean Square Error (RMSE)\n",
        "MSE_aluguel_pd  = mean_squared_error(y_aluguel_test_pd,y_pred_aluguel_pd) #calculando MSE\n",
        "print('RMSE: {:.4f}'.format(np.sqrt(MSE_aluguel_pd))) #tirando a raiz quadrada do MSE -> RMSE"
      ],
      "execution_count": null,
      "outputs": [
        {
          "output_type": "stream",
          "name": "stdout",
          "text": [
            "R2: 0.9864\n",
            "R2 Ajustado: 0.9862\n",
            "RMSE: 438.1251\n"
          ]
        }
      ]
    },
    {
      "cell_type": "markdown",
      "metadata": {
        "id": "tArsfypKb1fS"
      },
      "source": [
        "Essas métricas nos mostram que:\n",
        "\n",
        "* Pela métrica r2: modelo consegue explicar 98% da variabilidade das colunas (features) dependentes;\n",
        "* Pela métrica r2 Ajustado: como seu valor é bem próximo ao de r2, isso quer dizer que nosso modelo é robusto ao problema de overfitting;\n",
        "* Pela métrica RMSE: temos um erro médio de 438,12 reais nos preços previstos.\n",
        "\n",
        "Plotando a relação entre os preços atuais e previstos:"
      ]
    },
    {
      "cell_type": "code",
      "metadata": {
        "colab": {
          "base_uri": "https://localhost:8080/",
          "height": 295
        },
        "id": "Yf-pGkuPZqqD",
        "outputId": "70a2819c-3d01-4d30-ead0-78c69f9298f0"
      },
      "source": [
        "# Plotando os preços atuais e previstos do modelo de aluguel\n",
        "plt.scatter(y_aluguel_test_pd, y_pred_aluguel_pd)\n",
        "plt.xlabel(\"Preço Atual\")\n",
        "plt.ylabel(\"Preço Previsto\")\n",
        "plt.title(\"Relação entre Atual vs Previsto\")\n",
        "\n",
        "plt.show()"
      ],
      "execution_count": null,
      "outputs": [
        {
          "output_type": "display_data",
          "data": {
            "image/png": "[encoded data removed]",
            "text/plain": [
              "<Figure size 432x288 with 1 Axes>"
            ]
          },
          "metadata": {
            "needs_background": "light"
          }
        }
      ]
    },
    {
      "cell_type": "markdown",
      "metadata": {
        "id": "oyyAfkWna75J"
      },
      "source": [
        "##### Modelo para Venda"
      ]
    },
    {
      "cell_type": "code",
      "metadata": {
        "colab": {
          "base_uri": "https://localhost:8080/"
        },
        "id": "0mIodlZhbBe6",
        "outputId": "acd8e3b6-a999-41dc-87cf-5cb338c8307e"
      },
      "source": [
        "# Realizando as previsões para vendas\n",
        "y_pred_venda_pd = model_venda_pd.predict(X_venda_test_pd) \n",
        "\n",
        "# Obtendo as métricas R2 e Adjusted R2\n",
        "print('R2: {:.4f}'.format(r2_score(y_venda_test_pd,y_pred_venda_pd)))\n",
        "print('R2 Ajustado: {:.4f}'.format(1 - (1-r2_score(y_venda_test_pd,y_pred_venda_pd))*(len(y_venda_pd)-1)/(len(y_venda_pd)-X_venda_pd.shape[1]-1)))\n",
        "\n",
        "# Obtendo a métrica Root Mean Square Error (RMSE)\n",
        "MSE_venda_pd  = mean_squared_error(y_venda_test_pd,y_pred_venda_pd) #calculando MSE\n",
        "print('RMSE: {:.4f}'.format(np.sqrt(MSE_venda_pd))) #tirando a raiz quadrada do MSE -> RMSE"
      ],
      "execution_count": null,
      "outputs": [
        {
          "output_type": "stream",
          "name": "stdout",
          "text": [
            "R2: 0.9870\n",
            "R2 Ajustado: 0.9868\n",
            "RMSE: 74415.7326\n"
          ]
        }
      ]
    },
    {
      "cell_type": "markdown",
      "metadata": {
        "id": "ImMtxY6QcCxW"
      },
      "source": [
        "Essas métricas nos mostram que:\n",
        "\n",
        "* Pela métrica r2: modelo consegue explicar 98% da variabilidade das colunas (features) dependentes;\n",
        "* Pela métrica r2 Ajustado: como seu valor é bem próximo ao de r2, isso quer dizer que nosso modelo é robusto ao problema de overfitting;\n",
        "* Pela métrica RMSE: temos um erro médio de 74.415,73 reais nos preços previstos.\n",
        "\n",
        "Plotando a relação entre os preços atuais e previstos:"
      ]
    },
    {
      "cell_type": "code",
      "metadata": {
        "colab": {
          "base_uri": "https://localhost:8080/",
          "height": 295
        },
        "id": "kzOEAgeEbr5s",
        "outputId": "f8fdbde2-7e18-4781-ddfe-0756c45a1e3f"
      },
      "source": [
        "# Plotando os preços atuais e previstos do modelo de venda\n",
        "plt.scatter(y_venda_test_pd, y_pred_venda_pd)\n",
        "plt.xlabel(\"Preço Atual\")\n",
        "plt.ylabel(\"Preço Previsto\")\n",
        "plt.title(\"Relação entre Atual vs Previsto\")\n",
        "\n",
        "plt.show()"
      ],
      "execution_count": null,
      "outputs": [
        {
          "output_type": "display_data",
          "data": {
            "image/png": "[encoded data removed]",
            "text/plain": [
              "<Figure size 432x288 with 1 Axes>"
            ]
          },
          "metadata": {
            "needs_background": "light"
          }
        }
      ]
    },
    {
      "cell_type": "markdown",
      "metadata": {
        "id": "kqMrjMLBcWu4"
      },
      "source": [
        "#### Modelos Normalizados\n",
        "\n",
        "Criando novos datasets para esta etapa:\n",
        "\n",
        "\n",
        "\n"
      ]
    },
    {
      "cell_type": "code",
      "metadata": {
        "id": "RwcFptKKc8zq"
      },
      "source": [
        "# Copiando os dataset para os testes\n",
        "df_aluguel_nm = df_aluguel_dum.copy() #copiando o dataset de alugueis\n",
        "df_venda_nm = df_venda_dum.copy() #copiando o dataset de vendas"
      ],
      "execution_count": null,
      "outputs": []
    },
    {
      "cell_type": "markdown",
      "metadata": {
        "id": "qIVwQNaTdlJD"
      },
      "source": [
        "Separando os dados entre treino e teste e aplicando a normalização:"
      ]
    },
    {
      "cell_type": "code",
      "metadata": {
        "id": "0QIQcSAEdoDQ"
      },
      "source": [
        "# Separando a coluna alvo do restante dos dados - dataset algueis\n",
        "X_aluguel_nm = df_aluguel_nm.drop('Price', axis=1)\n",
        "y_aluguel_nm = df_aluguel_nm['Price'] #variável alvo\n",
        "\n",
        "# Separando entre dados de treino e teste - dataset alugueis\n",
        "X_aluguel_train_nm, X_aluguel_test_nm, y_aluguel_train_nm, y_aluguel_test_nm = train_test_split(X_aluguel_nm, y_aluguel_nm, test_size=0.20, shuffle=True)\n",
        "\n",
        "# Normalizando os dados\n",
        "nm_aluguel_nm = MinMaxScaler().fit(X_aluguel_train_nm)\n",
        "X_aluguel_train_nm = nm_aluguel_nm.transform(X_aluguel_train_nm)\n",
        "X_aluguel_test_nm = nm_aluguel_nm.transform(X_aluguel_test_nm)\n",
        "\n",
        "# ------------------------------------------------------------------------------\n",
        "\n",
        "# Separando a coluna alvo do restante dos dados - dataset vendas\n",
        "X_venda_nm = df_venda_nm.drop('Price', axis=1)\n",
        "y_venda_nm = df_venda_nm['Price'] #variável alvo\n",
        "\n",
        "# Separando entre dados de treino e teste - dataset vendas\n",
        "X_venda_train_nm, X_venda_test_nm, y_venda_train_nm, y_venda_test_nm = train_test_split(X_venda_nm, y_venda_nm, test_size=0.20, shuffle=True)\n",
        "\n",
        "# Normalizando os dados\n",
        "nm_venda_nm = MinMaxScaler().fit(X_venda_train_nm)\n",
        "X_venda_train_nm = nm_venda_nm.transform(X_venda_train_nm)\n",
        "X_venda_test_nm = nm_venda_nm.transform(X_venda_test_nm)"
      ],
      "execution_count": null,
      "outputs": []
    },
    {
      "cell_type": "markdown",
      "metadata": {
        "id": "2I6t7nbkeBqI"
      },
      "source": [
        "Instanciando os modelos:"
      ]
    },
    {
      "cell_type": "code",
      "metadata": {
        "colab": {
          "base_uri": "https://localhost:8080/"
        },
        "id": "1rjFEZGveEWt",
        "outputId": "31dd457f-be6c-4724-daf4-5a7b6a6ed234"
      },
      "source": [
        "# Instanciando os modelos para cada dataset (alugueis e vendas)\n",
        "model_aluguel_nm = RandomForestRegressor(random_state=35) #modelo para prever alugueis\n",
        "model_venda_nm = RandomForestRegressor(random_state=47) #modelo para prever vendas\n",
        "\n",
        "# Treinando os modelos\n",
        "model_aluguel_nm.fit(X_aluguel_train_nm, y_aluguel_train_nm) #treinando o modelo para alugueis\n",
        "model_venda_nm.fit(X_venda_train_nm, y_venda_train_nm) #treinando o modelo para vendas"
      ],
      "execution_count": null,
      "outputs": [
        {
          "output_type": "execute_result",
          "data": {
            "text/plain": [
              "RandomForestRegressor(random_state=47)"
            ]
          },
          "metadata": {},
          "execution_count": 209
        }
      ]
    },
    {
      "cell_type": "markdown",
      "metadata": {
        "id": "3KuDLF5ucc9m"
      },
      "source": [
        "##### Modelo para Aluguel"
      ]
    },
    {
      "cell_type": "code",
      "metadata": {
        "colab": {
          "base_uri": "https://localhost:8080/"
        },
        "id": "WqcNGuXtchdT",
        "outputId": "ea351437-8ad0-474c-9806-23542cb0659e"
      },
      "source": [
        "# Realizando as previsões para alugueis\n",
        "y_pred_aluguel_nm = model_aluguel_nm.predict(X_aluguel_test_nm) \n",
        "\n",
        "# Obtendo as métricas R2 e Adjusted R2\n",
        "print('R2: {:.4f}'.format(r2_score(y_aluguel_test_nm,y_pred_aluguel_nm)))\n",
        "print('R2 Ajustado: {:.4f}'.format(1 - (1-r2_score(y_aluguel_test_nm,y_pred_aluguel_nm))*(len(y_aluguel_nm)-1)/(len(y_aluguel_nm)-X_aluguel_nm.shape[1]-1)))\n",
        "\n",
        "# Obtendo a métrica Root Mean Square Error (RMSE)\n",
        "MSE_aluguel_nm  = mean_squared_error(y_aluguel_test_nm,y_pred_aluguel_nm) #calculando MSE\n",
        "print('RMSE: {:.4f}'.format(np.sqrt(MSE_aluguel_nm))) #tirando a raiz quadrada do MSE -> RMSE"
      ],
      "execution_count": null,
      "outputs": [
        {
          "output_type": "stream",
          "name": "stdout",
          "text": [
            "R2: 0.9923\n",
            "R2 Ajustado: 0.9922\n",
            "RMSE: 320.7248\n"
          ]
        }
      ]
    },
    {
      "cell_type": "markdown",
      "metadata": {
        "id": "tCoqk2cme2db"
      },
      "source": [
        "Essas métricas nos mostram que:\n",
        "\n",
        "* Pela métrica r2: modelo consegue explicar 99% da variabilidade das colunas (features) dependentes;\n",
        "* Pela métrica r2 Ajustado: como seu valor é bem próximo ao de r2, isso quer dizer que nosso modelo é robusto ao problema de overfitting;\n",
        "* Pela métrica RMSE: temos um erro médio de 320,72 reais nos preços previstos.\n",
        "\n",
        "Plotando a relação entre os preços atuais e previstos:"
      ]
    },
    {
      "cell_type": "code",
      "metadata": {
        "colab": {
          "base_uri": "https://localhost:8080/",
          "height": 295
        },
        "id": "oMkrY01Le27e",
        "outputId": "c710231c-9ef7-4afe-ce34-6beaa7bdeeca"
      },
      "source": [
        "# Plotando os preços atuais e previstos do modelo de aluguel\n",
        "plt.scatter(y_aluguel_test_nm, y_pred_aluguel_nm)\n",
        "plt.xlabel(\"Preço Atual\")\n",
        "plt.ylabel(\"Preço Previsto\")\n",
        "plt.title(\"Relação entre Atual vs Previsto\")\n",
        "\n",
        "plt.show()"
      ],
      "execution_count": null,
      "outputs": [
        {
          "output_type": "display_data",
          "data": {
            "image/png": "[encoded data removed]",
            "text/plain": [
              "<Figure size 432x288 with 1 Axes>"
            ]
          },
          "metadata": {
            "needs_background": "light"
          }
        }
      ]
    },
    {
      "cell_type": "markdown",
      "metadata": {
        "id": "HZekKywufSou"
      },
      "source": [
        "##### Modelo para Venda"
      ]
    },
    {
      "cell_type": "code",
      "metadata": {
        "colab": {
          "base_uri": "https://localhost:8080/"
        },
        "id": "VUEdECUjfVyv",
        "outputId": "c7ef0395-c644-42ff-87b5-464c9b49280f"
      },
      "source": [
        "# Realizando as previsões para vendas\n",
        "y_pred_venda_nm = model_venda_nm.predict(X_venda_test_nm) \n",
        "\n",
        "# Obtendo as métricas R2 e Adjusted R2\n",
        "print('R2: {:.4f}'.format(r2_score(y_venda_test_nm,y_pred_venda_nm)))\n",
        "print('R2 Ajustado: {:.4f}'.format(1 - (1-r2_score(y_venda_test_nm,y_pred_venda_nm))*(len(y_venda_nm)-1)/(len(y_venda_nm)-X_venda_nm.shape[1]-1)))\n",
        "\n",
        "# Obtendo a métrica Root Mean Square Error (RMSE)\n",
        "MSE_venda_nm  = mean_squared_error(y_venda_test_nm,y_pred_venda_nm) #calculando MSE\n",
        "print('RMSE: {:.4f}'.format(np.sqrt(MSE_venda_nm))) #tirando a raiz quadrada do MSE -> RMSE"
      ],
      "execution_count": null,
      "outputs": [
        {
          "output_type": "stream",
          "name": "stdout",
          "text": [
            "R2: 0.9965\n",
            "R2 Ajustado: 0.9964\n",
            "RMSE: 40359.2169\n"
          ]
        }
      ]
    },
    {
      "cell_type": "markdown",
      "metadata": {
        "id": "V3ZN9EQKfxVY"
      },
      "source": [
        "Essas métricas nos mostram que:\n",
        "\n",
        "* Pela métrica r2: modelo consegue explicar aproximadamente 99% da variabilidade das colunas (features) dependentes;\n",
        "* Pela métrica r2 Ajustado: como seu valor é bem próximo ao de r2, isso quer dizer que nosso modelo é robusto ao problema de overfitting;\n",
        "* Pela métrica RMSE: temos um erro médio de 43.359,21 reais nos preços previstos.\n",
        "\n",
        "Plotando a relação entre os preços atuais e previstos:"
      ]
    },
    {
      "cell_type": "code",
      "metadata": {
        "colab": {
          "base_uri": "https://localhost:8080/",
          "height": 295
        },
        "id": "KKUDexIzfx2j",
        "outputId": "e0c0010a-33ee-4dab-fba2-4ae99ea314e9"
      },
      "source": [
        "# Plotando os preços atuais e previstos do modelo de venda\n",
        "plt.scatter(y_venda_test_nm, y_pred_venda_nm)\n",
        "plt.xlabel(\"Preço Atual\")\n",
        "plt.ylabel(\"Preço Previsto\")\n",
        "plt.title(\"Relação entre Atual vs Previsto\")\n",
        "\n",
        "plt.show()"
      ],
      "execution_count": null,
      "outputs": [
        {
          "output_type": "display_data",
          "data": {
            "image/png": "[encoded data removed]",
            "text/plain": [
              "<Figure size 432x288 with 1 Axes>"
            ]
          },
          "metadata": {
            "needs_background": "light"
          }
        }
      ]
    },
    {
      "cell_type": "markdown",
      "metadata": {
        "id": "3avkN0LNgBPH"
      },
      "source": [
        "### Resultado dos Testes\n",
        "\n",
        "Vamos então apresentar todos os resultados obtidos durante os testes padronizados e normalizados:"
      ]
    },
    {
      "cell_type": "code",
      "metadata": {
        "id": "HOw9MiTegcCf"
      },
      "source": [
        "## Criando DataFrames com os resultados\n",
        "\n",
        "# Obtendo o resultado das métricas r2 para cada modelo\n",
        "r2_aluguel_pd = r2_score(y_aluguel_test_pd,y_pred_aluguel_pd) \n",
        "r2_venda_pd = r2_score(y_venda_test_pd,y_pred_venda_pd) \n",
        "r2_aluguel_nm = r2_score(y_aluguel_test_nm,y_pred_aluguel_nm) \n",
        "r2_venda_nm = r2_score(y_venda_test_nm,y_pred_venda_nm) \n",
        "\n",
        "# Obtendo o resultado das métricas RMSE para cada modelo\n",
        "rmse_aluguel_pd = np.sqrt(MSE_aluguel_pd) \n",
        "rmse_venda_pd = np.sqrt(MSE_venda_pd) \n",
        "rmse_aluguel_nm = np.sqrt(MSE_aluguel_nm) \n",
        "rmse_venda_nm = np.sqrt(MSE_venda_nm) \n",
        "\n",
        "# Criando o DataFrame para r2\n",
        "df_resultados_r2_2 = pd.DataFrame([[r2_aluguel_pd, r2_aluguel_nm],\n",
        "                                 [r2_venda_pd, r2_venda_nm]],\n",
        "                                index=['Aluguel','Venda'],\n",
        "                                columns=['R2 Padronizado','R2 Normalizado'])\n",
        "\n",
        "# Criando o DataFrame para RMSE\n",
        "df_resultados_rmse_2 = pd.DataFrame([[rmse_aluguel_pd, rmse_aluguel_nm],\n",
        "                                  [rmse_venda_pd, rmse_venda_nm]],\n",
        "                                 index=['Aluguel','Venda'],\n",
        "                                 columns=['RMSE Padronizado','RMSE Normalizado'])"
      ],
      "execution_count": null,
      "outputs": []
    },
    {
      "cell_type": "code",
      "metadata": {
        "colab": {
          "base_uri": "https://localhost:8080/",
          "height": 112
        },
        "id": "K1YyNaKIhTKY",
        "outputId": "528c41a6-4cd0-437d-c368-1e88cdc37aae"
      },
      "source": [
        "# Checando o resultado de R2\n",
        "df_resultados_r2_2"
      ],
      "execution_count": null,
      "outputs": [
        {
          "output_type": "execute_result",
          "data": {
            "text/html": [
              "<div>\n",
              "<style scoped>\n",
              "    .dataframe tbody tr th:only-of-type {\n",
              "        vertical-align: middle;\n",
              "    }\n",
              "\n",
              "    .dataframe tbody tr th {\n",
              "        vertical-align: top;\n",
              "    }\n",
              "\n",
              "    .dataframe thead th {\n",
              "        text-align: right;\n",
              "    }\n",
              "</style>\n",
              "<table border=\"1\" class=\"dataframe\">\n",
              "  <thead>\n",
              "    <tr style=\"text-align: right;\">\n",
              "      <th></th>\n",
              "      <th>R2 Padronizado</th>\n",
              "      <th>R2 Normalizado</th>\n",
              "    </tr>\n",
              "  </thead>\n",
              "  <tbody>\n",
              "    <tr>\n",
              "      <th>Aluguel</th>\n",
              "      <td>0.986441</td>\n",
              "      <td>0.992281</td>\n",
              "    </tr>\n",
              "    <tr>\n",
              "      <th>Venda</th>\n",
              "      <td>0.986996</td>\n",
              "      <td>0.996487</td>\n",
              "    </tr>\n",
              "  </tbody>\n",
              "</table>\n",
              "</div>"
            ],
            "text/plain": [
              "         R2 Padronizado  R2 Normalizado\n",
              "Aluguel        0.986441        0.992281\n",
              "Venda          0.986996        0.996487"
            ]
          },
          "metadata": {},
          "execution_count": 215
        }
      ]
    },
    {
      "cell_type": "code",
      "metadata": {
        "colab": {
          "base_uri": "https://localhost:8080/",
          "height": 112
        },
        "id": "HP6TUi7jhUtG",
        "outputId": "c79cdfd6-5d8c-48c9-c991-c66c73a6d28a"
      },
      "source": [
        "# Checando o resultado de RMSE\n",
        "df_resultados_rmse_2"
      ],
      "execution_count": null,
      "outputs": [
        {
          "output_type": "execute_result",
          "data": {
            "text/html": [
              "<div>\n",
              "<style scoped>\n",
              "    .dataframe tbody tr th:only-of-type {\n",
              "        vertical-align: middle;\n",
              "    }\n",
              "\n",
              "    .dataframe tbody tr th {\n",
              "        vertical-align: top;\n",
              "    }\n",
              "\n",
              "    .dataframe thead th {\n",
              "        text-align: right;\n",
              "    }\n",
              "</style>\n",
              "<table border=\"1\" class=\"dataframe\">\n",
              "  <thead>\n",
              "    <tr style=\"text-align: right;\">\n",
              "      <th></th>\n",
              "      <th>RMSE Padronizado</th>\n",
              "      <th>RMSE Normalizado</th>\n",
              "    </tr>\n",
              "  </thead>\n",
              "  <tbody>\n",
              "    <tr>\n",
              "      <th>Aluguel</th>\n",
              "      <td>438.125130</td>\n",
              "      <td>320.724829</td>\n",
              "    </tr>\n",
              "    <tr>\n",
              "      <th>Venda</th>\n",
              "      <td>74415.732581</td>\n",
              "      <td>40359.216863</td>\n",
              "    </tr>\n",
              "  </tbody>\n",
              "</table>\n",
              "</div>"
            ],
            "text/plain": [
              "         RMSE Padronizado  RMSE Normalizado\n",
              "Aluguel        438.125130        320.724829\n",
              "Venda        74415.732581      40359.216863"
            ]
          },
          "metadata": {},
          "execution_count": 216
        }
      ]
    },
    {
      "cell_type": "markdown",
      "metadata": {
        "id": "Px2MM8TIBExT"
      },
      "source": [
        "Analisando esses resultados temos que os modelos alimentados por dados normalizados se saiu superior em todos as métricas.\n",
        "\n",
        "### Simulando os modelos\n",
        "\n",
        "Vamos realizar as simulações para os modelos de aluguel e venda, mas primeiro vamos instanciar os modelos novamente para o preprocessamento que melhor obteve desempenho, nesse caso, a normalização:"
      ]
    },
    {
      "cell_type": "code",
      "metadata": {
        "colab": {
          "base_uri": "https://localhost:8080/"
        },
        "id": "tbWJrtMWCSZu",
        "outputId": "c11a9833-61d0-46b9-ba66-d979eaf9aa31"
      },
      "source": [
        "# Instanciando os modelos\n",
        "model_aluguel_dum = RandomForestRegressor()\n",
        "model_aluguel_dum.fit(X_aluguel_train_nm, y_aluguel_train_nm) #treinando o modelo para alugueis\n",
        "\n",
        "model_venda_dum = RandomForestRegressor()\n",
        "model_venda_dum.fit(X_venda_train_nm, y_venda_train_nm) #treinando o modelo para vendas"
      ],
      "execution_count": null,
      "outputs": [
        {
          "output_type": "execute_result",
          "data": {
            "text/plain": [
              "RandomForestRegressor()"
            ]
          },
          "metadata": {},
          "execution_count": 217
        }
      ]
    },
    {
      "cell_type": "markdown",
      "metadata": {
        "id": "wPA2lhUHBcIa"
      },
      "source": [
        "#### Simulando uma pesquisa de aluguel\n",
        "\n",
        "Vamos realizar a previsão para o mesmo apartamento simulado para aluguel anteriormente:\n",
        "* Condomínio: 220\n",
        "* Tamanho: 47\n",
        "* Quartos: 2\n",
        "* Banheiros: 2\n",
        "* Suites: 1\n",
        "* Vagas de estacionamento: 1\n",
        "* Possui elevadores: Não (0)\n",
        "* Mobiliado: Não (0)\n",
        "* Possui piscina no prédio: Não (0)\n",
        "* Apartamento novo: Não (0)\n",
        "* Bairro: Artur Alvim\n"
      ]
    },
    {
      "cell_type": "code",
      "metadata": {
        "colab": {
          "base_uri": "https://localhost:8080/",
          "height": 81
        },
        "id": "lVaGXzXTHii4",
        "outputId": "10daf5e7-7410-4e6d-e616-b00c57c6a6e1"
      },
      "source": [
        "# Checando a média de preço por metro quadrado (Price/Size) do bairro passado:\n",
        "df_bairros_aluguel.loc[df_bairros_aluguel['Bairros']=='Artur Alvim']"
      ],
      "execution_count": null,
      "outputs": [
        {
          "output_type": "execute_result",
          "data": {
            "text/html": [
              "<div>\n",
              "<style scoped>\n",
              "    .dataframe tbody tr th:only-of-type {\n",
              "        vertical-align: middle;\n",
              "    }\n",
              "\n",
              "    .dataframe tbody tr th {\n",
              "        vertical-align: top;\n",
              "    }\n",
              "\n",
              "    .dataframe thead th {\n",
              "        text-align: right;\n",
              "    }\n",
              "</style>\n",
              "<table border=\"1\" class=\"dataframe\">\n",
              "  <thead>\n",
              "    <tr style=\"text-align: right;\">\n",
              "      <th></th>\n",
              "      <th>Bairros</th>\n",
              "      <th>Média dos Preços</th>\n",
              "    </tr>\n",
              "  </thead>\n",
              "  <tbody>\n",
              "    <tr>\n",
              "      <th>0</th>\n",
              "      <td>Artur Alvim</td>\n",
              "      <td>18.83576</td>\n",
              "    </tr>\n",
              "  </tbody>\n",
              "</table>\n",
              "</div>"
            ],
            "text/plain": [
              "       Bairros  Média dos Preços\n",
              "0  Artur Alvim          18.83576"
            ]
          },
          "metadata": {},
          "execution_count": 218
        }
      ]
    },
    {
      "cell_type": "code",
      "metadata": {
        "id": "UxXOgBZ1F0Eo"
      },
      "source": [
        "# Preenchendo o formulário:\n",
        "lista_aluguel_teste = pd.DataFrame({'Condo':220, \n",
        "                                    'Size':47, \n",
        "                                    'Rooms':2, \n",
        "                                    'Toilets':2, \n",
        "                                    'Suites':1, \n",
        "                                    'Parking':1,\n",
        "                                    'Elevator':0, \n",
        "                                    'Furnished':0, \n",
        "                                    'Swimming Pool':0, \n",
        "                                    'New':0, \n",
        "                                    'Price/Size':18.83576,\n",
        "                                    'District_Alto de Pinheiros':0, \n",
        "                                    'District_Anhanguera':0,\n",
        "                                    'District_Aricanduva':0, \n",
        "                                    'District_Artur Alvim':1,\n",
        "                                    'District_Barra Funda':0, \n",
        "                                    'District_Bela Vista':0, \n",
        "                                    'District_Belém':0,\n",
        "                                    'District_Bom Retiro':0, \n",
        "                                    'District_Brasilândia':0, \n",
        "                                    'District_Brooklin':0,\n",
        "                                    'District_Brás':0, \n",
        "                                    'District_Butantã':0, \n",
        "                                    'District_Cachoeirinha':0,\n",
        "                                    'District_Cambuci':0, \n",
        "                                    'District_Campo Belo':0, \n",
        "                                    'District_Campo Grande':0,\n",
        "                                    'District_Campo Limpo':0, \n",
        "                                    'District_Cangaíba':0,\n",
        "                                    'District_Capão Redondo':0, \n",
        "                                    'District_Carrão':0, \n",
        "                                    'District_Casa Verde':0,\n",
        "                                    'District_Cidade Ademar':0, \n",
        "                                    'District_Cidade Dutra':0,\n",
        "                                    'District_Cidade Líder':0, \n",
        "                                    'District_Cidade Tiradentes':0,\n",
        "                                    'District_Consolação':0, \n",
        "                                    'District_Cursino':0,\n",
        "                                    'District_Ermelino Matarazzo':0, \n",
        "                                    'District_Freguesia do Ó':0,\n",
        "                                    'District_Grajaú':0, \n",
        "                                    'District_Guaianazes':0, \n",
        "                                    'District_Iguatemi':0,\n",
        "                                    'District_Ipiranga':0, \n",
        "                                    'District_Itaim Bibi':0,\n",
        "                                    'District_Itaim Paulista':0, \n",
        "                                    'District_Itaquera':0,\n",
        "                                    'District_Jabaquara':0, \n",
        "                                    'District_Jaguaré':0, \n",
        "                                    'District_Jaraguá':0,\n",
        "                                    'District_Jardim Helena':0, \n",
        "                                    'District_Jardim Paulista':0,\n",
        "                                    'District_Jardim São Luis':0, \n",
        "                                    'District_Jardim Ângela':0,\n",
        "                                    'District_Jaçanã':0, \n",
        "                                    'District_José Bonifácio':0, \n",
        "                                    'District_Lajeado':0,\n",
        "                                    'District_Lapa':0, \n",
        "                                    'District_Liberdade':0, \n",
        "                                    'District_Limão':0,\n",
        "                                    'District_Mandaqui':0, \n",
        "                                    'District_Medeiros':0, \n",
        "                                    'District_Moema':0,\n",
        "                                    'District_Mooca':0, \n",
        "                                    'District_Morumbi':0, \n",
        "                                    'District_Pari':0,\n",
        "                                    'District_Parque do Carmo':0, \n",
        "                                    'District_Pedreira':0, \n",
        "                                    'District_Penha':0,\n",
        "                                    'District_Perdizes':0, \n",
        "                                    'District_Pinheiros':0, \n",
        "                                    'District_Pirituba':0,\n",
        "                                    'District_Ponte Rasa':0, \n",
        "                                    'District_Raposo Tavares':0,\n",
        "                                    'District_República':0, \n",
        "                                    'District_Rio Pequeno':0, \n",
        "                                    'District_Sacomã':0,\n",
        "                                    'District_Santa Cecília':0, \n",
        "                                    'District_Santana':0,\n",
        "                                    'District_Santo Amaro':0, \n",
        "                                    'District_Sapopemba':0, \n",
        "                                    'District_Saúde':0,\n",
        "                                    'District_Socorro':0, \n",
        "                                    'District_São Lucas':0, \n",
        "                                    'District_São Mateus':0,\n",
        "                                    'District_São Miguel':0, \n",
        "                                    'District_São Rafael':0, \n",
        "                                    'District_Sé':0,\n",
        "                                    'District_Tatuapé':0, \n",
        "                                    'District_Tremembé':0, \n",
        "                                    'District_Tucuruvi':0,\n",
        "                                    'District_Vila Andrade':0, \n",
        "                                    'District_Vila Curuçá':0,\n",
        "                                    'District_Vila Formosa':0, \n",
        "                                    'District_Vila Guilherme':0,\n",
        "                                    'District_Vila Jacuí':0, \n",
        "                                    'District_Vila Leopoldina':0,\n",
        "                                    'District_Vila Madalena':0, \n",
        "                                    'District_Vila Maria':0,\n",
        "                                    'District_Vila Mariana':0, \n",
        "                                    'District_Vila Matilde':0,\n",
        "                                    'District_Vila Olimpia':0, \n",
        "                                    'District_Vila Prudente':0,\n",
        "                                    'District_Vila Sônia':0, \n",
        "                                    'District_Água Rasa':0}, index=[0])"
      ],
      "execution_count": null,
      "outputs": []
    },
    {
      "cell_type": "markdown",
      "metadata": {
        "id": "pnJC-TIUF0sN"
      },
      "source": [
        "Aplicando as transformações:"
      ]
    },
    {
      "cell_type": "code",
      "metadata": {
        "id": "qzSCNHAnJ5es"
      },
      "source": [
        "# Aplicando as transformações no formulário\n",
        "lista_aluguel_teste = nm_aluguel_nm.transform(lista_aluguel_teste)"
      ],
      "execution_count": null,
      "outputs": []
    },
    {
      "cell_type": "markdown",
      "metadata": {
        "id": "0D4qoLifJ6Af"
      },
      "source": [
        "Realizando a previsão:"
      ]
    },
    {
      "cell_type": "code",
      "metadata": {
        "colab": {
          "base_uri": "https://localhost:8080/"
        },
        "id": "r7IZVnoQJ8sJ",
        "outputId": "4b26d7ac-a04d-41f7-fb18-1db87cf4b4ca"
      },
      "source": [
        "# Realizando a previsão de aluguel\n",
        "model_aluguel_dum.predict(lista_aluguel_teste)"
      ],
      "execution_count": null,
      "outputs": [
        {
          "output_type": "execute_result",
          "data": {
            "text/plain": [
              "array([890.])"
            ]
          },
          "metadata": {},
          "execution_count": 221
        }
      ]
    },
    {
      "cell_type": "markdown",
      "metadata": {
        "id": "rwx4deuUMKfR"
      },
      "source": [
        "Vamos alterar o valor de condomínio de 220 para 2200 reais e ver se o valor previsto é alterado: "
      ]
    },
    {
      "cell_type": "code",
      "metadata": {
        "id": "lKXU-NDSMXXg"
      },
      "source": [
        "# Preenchendo o formulário:\n",
        "lista_aluguel_teste2 = pd.DataFrame({'Condo':2200, \n",
        "                                    'Size':47, \n",
        "                                    'Rooms':2, \n",
        "                                    'Toilets':2, \n",
        "                                    'Suites':1, \n",
        "                                    'Parking':1,\n",
        "                                    'Elevator':0, \n",
        "                                    'Furnished':0, \n",
        "                                    'Swimming Pool':0, \n",
        "                                    'New':0, \n",
        "                                    'Price/Size':18.83576,\n",
        "                                    'District_Alto de Pinheiros':0, \n",
        "                                    'District_Anhanguera':0,\n",
        "                                    'District_Aricanduva':0, \n",
        "                                    'District_Artur Alvim':1,\n",
        "                                    'District_Barra Funda':0, \n",
        "                                    'District_Bela Vista':0, \n",
        "                                    'District_Belém':0,\n",
        "                                    'District_Bom Retiro':0, \n",
        "                                    'District_Brasilândia':0, \n",
        "                                    'District_Brooklin':0,\n",
        "                                    'District_Brás':0, \n",
        "                                    'District_Butantã':0, \n",
        "                                    'District_Cachoeirinha':0,\n",
        "                                    'District_Cambuci':0, \n",
        "                                    'District_Campo Belo':0, \n",
        "                                    'District_Campo Grande':0,\n",
        "                                    'District_Campo Limpo':0, \n",
        "                                    'District_Cangaíba':0,\n",
        "                                    'District_Capão Redondo':0, \n",
        "                                    'District_Carrão':0, \n",
        "                                    'District_Casa Verde':0,\n",
        "                                    'District_Cidade Ademar':0, \n",
        "                                    'District_Cidade Dutra':0,\n",
        "                                    'District_Cidade Líder':0, \n",
        "                                    'District_Cidade Tiradentes':0,\n",
        "                                    'District_Consolação':0, \n",
        "                                    'District_Cursino':0,\n",
        "                                    'District_Ermelino Matarazzo':0, \n",
        "                                    'District_Freguesia do Ó':0,\n",
        "                                    'District_Grajaú':0, \n",
        "                                    'District_Guaianazes':0, \n",
        "                                    'District_Iguatemi':0,\n",
        "                                    'District_Ipiranga':0, \n",
        "                                    'District_Itaim Bibi':0,\n",
        "                                    'District_Itaim Paulista':0, \n",
        "                                    'District_Itaquera':0,\n",
        "                                    'District_Jabaquara':0, \n",
        "                                    'District_Jaguaré':0, \n",
        "                                    'District_Jaraguá':0,\n",
        "                                    'District_Jardim Helena':0, \n",
        "                                    'District_Jardim Paulista':0,\n",
        "                                    'District_Jardim São Luis':0, \n",
        "                                    'District_Jardim Ângela':0,\n",
        "                                    'District_Jaçanã':0, \n",
        "                                    'District_José Bonifácio':0, \n",
        "                                    'District_Lajeado':0,\n",
        "                                    'District_Lapa':0, \n",
        "                                    'District_Liberdade':0, \n",
        "                                    'District_Limão':0,\n",
        "                                    'District_Mandaqui':0, \n",
        "                                    'District_Medeiros':0, \n",
        "                                    'District_Moema':0,\n",
        "                                    'District_Mooca':0, \n",
        "                                    'District_Morumbi':0, \n",
        "                                    'District_Pari':0,\n",
        "                                    'District_Parque do Carmo':0, \n",
        "                                    'District_Pedreira':0, \n",
        "                                    'District_Penha':0,\n",
        "                                    'District_Perdizes':0, \n",
        "                                    'District_Pinheiros':0, \n",
        "                                    'District_Pirituba':0,\n",
        "                                    'District_Ponte Rasa':0, \n",
        "                                    'District_Raposo Tavares':0,\n",
        "                                    'District_República':0, \n",
        "                                    'District_Rio Pequeno':0, \n",
        "                                    'District_Sacomã':0,\n",
        "                                    'District_Santa Cecília':0, \n",
        "                                    'District_Santana':0,\n",
        "                                    'District_Santo Amaro':0, \n",
        "                                    'District_Sapopemba':0, \n",
        "                                    'District_Saúde':0,\n",
        "                                    'District_Socorro':0, \n",
        "                                    'District_São Lucas':0, \n",
        "                                    'District_São Mateus':0,\n",
        "                                    'District_São Miguel':0, \n",
        "                                    'District_São Rafael':0, \n",
        "                                    'District_Sé':0,\n",
        "                                    'District_Tatuapé':0, \n",
        "                                    'District_Tremembé':0, \n",
        "                                    'District_Tucuruvi':0,\n",
        "                                    'District_Vila Andrade':0, \n",
        "                                    'District_Vila Curuçá':0,\n",
        "                                    'District_Vila Formosa':0, \n",
        "                                    'District_Vila Guilherme':0,\n",
        "                                    'District_Vila Jacuí':0, \n",
        "                                    'District_Vila Leopoldina':0,\n",
        "                                    'District_Vila Madalena':0, \n",
        "                                    'District_Vila Maria':0,\n",
        "                                    'District_Vila Mariana':0, \n",
        "                                    'District_Vila Matilde':0,\n",
        "                                    'District_Vila Olimpia':0, \n",
        "                                    'District_Vila Prudente':0,\n",
        "                                    'District_Vila Sônia':0, \n",
        "                                    'District_Água Rasa':0}, index=[0])"
      ],
      "execution_count": null,
      "outputs": []
    },
    {
      "cell_type": "markdown",
      "metadata": {
        "id": "vzuoN5rSMdD9"
      },
      "source": [
        "Aplicando as transformações:"
      ]
    },
    {
      "cell_type": "code",
      "metadata": {
        "id": "IqU0KL2rM4uB"
      },
      "source": [
        "# Aplicando as transformações no formulário\n",
        "lista_aluguel_teste2 = nm_aluguel_nm.transform(lista_aluguel_teste2)"
      ],
      "execution_count": null,
      "outputs": []
    },
    {
      "cell_type": "markdown",
      "metadata": {
        "id": "MjaIEBFTM_IQ"
      },
      "source": [
        "Realizando a previsão:"
      ]
    },
    {
      "cell_type": "code",
      "metadata": {
        "colab": {
          "base_uri": "https://localhost:8080/"
        },
        "id": "gQooY8_vNB66",
        "outputId": "7680bf20-fa21-48d0-d419-5348689bb657"
      },
      "source": [
        "# Realizando a previsão de aluguel\n",
        "model_aluguel_dum.predict(lista_aluguel_teste2)"
      ],
      "execution_count": null,
      "outputs": [
        {
          "output_type": "execute_result",
          "data": {
            "text/plain": [
              "array([996.3])"
            ]
          },
          "metadata": {},
          "execution_count": 224
        }
      ]
    },
    {
      "cell_type": "markdown",
      "metadata": {
        "id": "W5iC7VF9bVqt"
      },
      "source": [
        "O nosso modelo também conseguiu acompanhar as mudanças no formulário para este teste, o que podemos dizer que nosso modelo está funcionando bem."
      ]
    },
    {
      "cell_type": "markdown",
      "metadata": {
        "id": "rsLIE_ikkmYs"
      },
      "source": [
        "# Conclusão dos Teste de Hipóteses\n",
        "\n",
        "Para uma visualização mais rápida vamos expor todos os resultados:\n",
        "\n",
        "Gráfico da relação entre preços atuais e previstos:\n",
        "\n",
        "<center><img alt=\"Scatterplots\"  src='https://github.com/octavianosilva/Imagens_projetos/blob/main/Scatterplots.png?raw=true'></center>\n",
        "\n",
        "Na relação entre os preços atuais e previstos, quanto mais os dados (pontos) formam uma linha reta melhor é o desempenho do modelo, que neste caso os que obtiveram os melhores resultados foram os gráficos destacados pertencentes aos modelos treinados com os bairros tratados separadamente.\n",
        "\n",
        "Observando as relações entre os preços atuais e previstos é possível ver que mesmo em ambos pré-processamentos (Padronização e Normalização), os testes envolvendo os bairros tratados separadamente obtiveram desempenhos bem melhores que nos testes envolvendo os bairros agrupados, e podemos ver isso na forma como os dados representam mais nitidamente uma linha reta.\n",
        "\n",
        "Também temos os resultados dos desempenhos em relação às métricas de avaliação, que são R Square (R2) e Root Mean Square Error (RMSE): \n",
        "\n",
        "<center><img alt=\"Resultados\"  src='https://github.com/octavianosilva/Imagens_projetos/blob/main/resultados.png?raw=true'></center>\n",
        "\n",
        "Observando o resultado das métricas de avaliação temos que em todos os testes envolvendo o pré-processamento de Normalização, foi superior ao de Padronização em praticamente todas essas métricas, com exceção apenas na métrica RMSE para o modelo de aluguel com os bairros agrupados, mas a diferença foi bastante pequena.\n",
        "\n",
        "Fazendo uma comparação entre os resultados dos modelos normalizados e com bairros agrupados e separados, temos que:\n",
        "\n",
        "* A métrica r2 subiu de 74% para 99.2% no modelo de aluguel e de 91% para 99.6% no modelo de venda, ou seja, o modelo melhorou bastante sua interpretação das variáveis dependentes para os bairros tratados separadamente\n",
        ".\n",
        "* Já a média de erro caiu de quase 2 mil para 320 reais no modelo de aluguel e de aproximadamente 237 mil para 40 mil reais no modelo de venda, o que é uma melhora bastante grande."
      ]
    },
    {
      "cell_type": "markdown",
      "metadata": {
        "id": "MpgnEeGFdeaZ"
      },
      "source": [
        "# Salvando o modelo para o deploy\n",
        "\n",
        "Como este projeto está sendo desenvolvido no Google Colab, os modelos ficam guardados temporariamente no kernel e sempre que quisermos fazer uma previsão através deles, teríamos que rodar todo o código toda vez, o que não é nada viável.\n",
        "\n",
        "Para podermos contornar esse problema, temos formas de salvar nossos modelos em arquivos para download com a biblioteca `joblib`.\n",
        "\n",
        "Primeiro vamos instanciar e treinar os modelos finais com base nos que se saíram melhor durante os testes de hipóteses, que foram os modelos com os dados normalizados e com os bairros separados:"
      ]
    },
    {
      "cell_type": "code",
      "metadata": {
        "id": "Myb2MLwLqRTR",
        "colab": {
          "base_uri": "https://localhost:8080/"
        },
        "outputId": "6a7c00fc-0615-47fc-e2f3-7a7b1cf3e492"
      },
      "source": [
        "# Instanciando os modelos para cada dataset (alugueis e vendas)\n",
        "modelo_alugueis = RandomForestRegressor() #modelo para prever alugueis\n",
        "modelo_vendas = RandomForestRegressor() #modelo para prever vendas\n",
        "\n",
        "# Treinando os modelos\n",
        "modelo_alugueis.fit(X_aluguel_train_nm, y_aluguel_train_nm) #treinando o modelo para alugueis\n",
        "modelo_vendas.fit(X_venda_train_nm, y_venda_train_nm) #treinando o modelo para vendas"
      ],
      "execution_count": null,
      "outputs": [
        {
          "output_type": "execute_result",
          "data": {
            "text/plain": [
              "RandomForestRegressor()"
            ]
          },
          "metadata": {},
          "execution_count": 225
        }
      ]
    },
    {
      "cell_type": "markdown",
      "metadata": {
        "id": "EmKmjlQI9bZ0"
      },
      "source": [
        "Agora que temos os modelos instanciados e treinados, podemos salvá-los utilizando o `dump` da biblioteca `joblib`:"
      ]
    },
    {
      "cell_type": "code",
      "metadata": {
        "id": "nkfP_HUJMHAc",
        "colab": {
          "base_uri": "https://localhost:8080/"
        },
        "outputId": "82ed8737-194b-4e69-a261-f3a2c00c7f5e"
      },
      "source": [
        "# Salvando os modelos em formato joblib\n",
        "from joblib import dump, load\n",
        "\n",
        "dump(modelo_alugueis, 'modelo_alugueis.joblib') #salvando o modelo de alugueis\n",
        "dump(modelo_vendas, 'modelo_vendas.joblib') #salvando o modelo de vendas"
      ],
      "execution_count": null,
      "outputs": [
        {
          "output_type": "execute_result",
          "data": {
            "text/plain": [
              "['modelo_vendas.joblib']"
            ]
          },
          "metadata": {},
          "execution_count": 226
        }
      ]
    },
    {
      "cell_type": "markdown",
      "metadata": {
        "id": "IrfXrOjJ-IZi"
      },
      "source": [
        "Além de salvarmos o modelo, como tivemos que passar por uma etapa de pré-processamento, essa etapa também deve ser aplicada aos novos dados que serão passados pelo usuário, então é bastante importante que salvemos também os dados de treino que foram processados.\n",
        "\n",
        "Para isso podemos passar um DataFrame para um arquivo `csv` utilizando o método `to_csv`:"
      ]
    },
    {
      "cell_type": "code",
      "metadata": {
        "id": "h_vosFLvANOJ"
      },
      "source": [
        "# Copiando os dataframes com os bairros separados para cada modelo : aluguel e venda\n",
        "dataframe_aluguel = df_aluguel_dum.copy() #copiando o dataset de alugueis com os bairros separados\n",
        "dataframe_venda = df_venda_dum.copy() #copiando o dataset de vendas com os bairros separados\n",
        "\n",
        "# Salvando os dados de treino para aplicar os mesmos pré-processamentos nos dados novos\n",
        "dataframe_aluguel.to_csv('df_aluguel.csv') \n",
        "dataframe_venda.to_csv('df_venda.csv')"
      ],
      "execution_count": null,
      "outputs": []
    },
    {
      "cell_type": "markdown",
      "metadata": {
        "id": "z39cD0KVCnUQ"
      },
      "source": [
        "Outro DataFrame que devemos salvar é o que contém os preços médios por metro quadrado dos bairros, uma vez que utilizamos a coluna Price/Size no treinamento dos modelos e o usuário não teria como passar esse valor no formulário.\n",
        "\n",
        "Antes de salvarmos estes DataFrames, vamos checar suas informações mais uma vez:"
      ]
    },
    {
      "cell_type": "code",
      "metadata": {
        "colab": {
          "base_uri": "https://localhost:8080/",
          "height": 205
        },
        "id": "xkt-wwHDF-nX",
        "outputId": "c9f02bfe-04d6-4a99-8c7b-8e9d2c9b093d"
      },
      "source": [
        "# Checando as primeiras entradas para o DataFrame dos bairros para o modelo de aluguel\n",
        "df_bairros_aluguel.head()"
      ],
      "execution_count": null,
      "outputs": [
        {
          "output_type": "execute_result",
          "data": {
            "text/html": [
              "<div>\n",
              "<style scoped>\n",
              "    .dataframe tbody tr th:only-of-type {\n",
              "        vertical-align: middle;\n",
              "    }\n",
              "\n",
              "    .dataframe tbody tr th {\n",
              "        vertical-align: top;\n",
              "    }\n",
              "\n",
              "    .dataframe thead th {\n",
              "        text-align: right;\n",
              "    }\n",
              "</style>\n",
              "<table border=\"1\" class=\"dataframe\">\n",
              "  <thead>\n",
              "    <tr style=\"text-align: right;\">\n",
              "      <th></th>\n",
              "      <th>Bairros</th>\n",
              "      <th>Média dos Preços</th>\n",
              "    </tr>\n",
              "  </thead>\n",
              "  <tbody>\n",
              "    <tr>\n",
              "      <th>0</th>\n",
              "      <td>Artur Alvim</td>\n",
              "      <td>18.835760</td>\n",
              "    </tr>\n",
              "    <tr>\n",
              "      <th>1</th>\n",
              "      <td>Belém</td>\n",
              "      <td>27.565119</td>\n",
              "    </tr>\n",
              "    <tr>\n",
              "      <th>2</th>\n",
              "      <td>Cangaíba</td>\n",
              "      <td>21.849201</td>\n",
              "    </tr>\n",
              "    <tr>\n",
              "      <th>3</th>\n",
              "      <td>Carrão</td>\n",
              "      <td>25.425884</td>\n",
              "    </tr>\n",
              "    <tr>\n",
              "      <th>4</th>\n",
              "      <td>Cidade Líder</td>\n",
              "      <td>19.886914</td>\n",
              "    </tr>\n",
              "  </tbody>\n",
              "</table>\n",
              "</div>"
            ],
            "text/plain": [
              "        Bairros  Média dos Preços\n",
              "0   Artur Alvim         18.835760\n",
              "1         Belém         27.565119\n",
              "2      Cangaíba         21.849201\n",
              "3        Carrão         25.425884\n",
              "4  Cidade Líder         19.886914"
            ]
          },
          "metadata": {},
          "execution_count": 229
        }
      ]
    },
    {
      "cell_type": "code",
      "metadata": {
        "colab": {
          "base_uri": "https://localhost:8080/",
          "height": 205
        },
        "id": "uoMqxt9mGKaB",
        "outputId": "445ef947-b981-4e48-b717-d653ed407ab9"
      },
      "source": [
        "# Checando as primeiras entradas para o DataFrame dos bairros para o modelo de venda\n",
        "df_bairros_venda.head()"
      ],
      "execution_count": null,
      "outputs": [
        {
          "output_type": "execute_result",
          "data": {
            "text/html": [
              "<div>\n",
              "<style scoped>\n",
              "    .dataframe tbody tr th:only-of-type {\n",
              "        vertical-align: middle;\n",
              "    }\n",
              "\n",
              "    .dataframe tbody tr th {\n",
              "        vertical-align: top;\n",
              "    }\n",
              "\n",
              "    .dataframe thead th {\n",
              "        text-align: right;\n",
              "    }\n",
              "</style>\n",
              "<table border=\"1\" class=\"dataframe\">\n",
              "  <thead>\n",
              "    <tr style=\"text-align: right;\">\n",
              "      <th></th>\n",
              "      <th>Bairros</th>\n",
              "      <th>Média dos Preços</th>\n",
              "    </tr>\n",
              "  </thead>\n",
              "  <tbody>\n",
              "    <tr>\n",
              "      <th>0</th>\n",
              "      <td>Artur Alvim</td>\n",
              "      <td>3995.555904</td>\n",
              "    </tr>\n",
              "    <tr>\n",
              "      <th>1</th>\n",
              "      <td>Belém</td>\n",
              "      <td>6619.881369</td>\n",
              "    </tr>\n",
              "    <tr>\n",
              "      <th>2</th>\n",
              "      <td>Cangaíba</td>\n",
              "      <td>4904.508762</td>\n",
              "    </tr>\n",
              "    <tr>\n",
              "      <th>3</th>\n",
              "      <td>Carrão</td>\n",
              "      <td>6492.402752</td>\n",
              "    </tr>\n",
              "    <tr>\n",
              "      <th>4</th>\n",
              "      <td>Cidade Líder</td>\n",
              "      <td>4311.586167</td>\n",
              "    </tr>\n",
              "  </tbody>\n",
              "</table>\n",
              "</div>"
            ],
            "text/plain": [
              "        Bairros  Média dos Preços\n",
              "0   Artur Alvim       3995.555904\n",
              "1         Belém       6619.881369\n",
              "2      Cangaíba       4904.508762\n",
              "3        Carrão       6492.402752\n",
              "4  Cidade Líder       4311.586167"
            ]
          },
          "metadata": {},
          "execution_count": 230
        }
      ]
    },
    {
      "cell_type": "markdown",
      "metadata": {
        "id": "lhkZuQqTGzia"
      },
      "source": [
        "Quando separamos os bairros com a codificação `Dummies`, cada nova coluna dos bairros obteve um prefixo ´District´ e quando formos usar esses DataFrames durante a API, vamos ter conflito com os nomes das colunas.\n",
        "\n",
        "Para resolver essa questão e deixar os nomes das colunas da mesma maneira que o modelo o lê, vamos adicionar este prefixo para cada bairro nos datasets:"
      ]
    },
    {
      "cell_type": "code",
      "metadata": {
        "id": "FtAXVM7hFwVE"
      },
      "source": [
        "# Adicionando o prefixo 'Distric_'\n",
        "df_bairros_aluguel['Bairros'] = 'District_' + df_bairros_aluguel['Bairros']\n",
        "df_bairros_venda['Bairros'] = 'District_' + df_bairros_venda['Bairros']"
      ],
      "execution_count": null,
      "outputs": []
    },
    {
      "cell_type": "markdown",
      "metadata": {
        "id": "j2JS9s4dICze"
      },
      "source": [
        "Agora vamos checar as mudanças:"
      ]
    },
    {
      "cell_type": "code",
      "metadata": {
        "colab": {
          "base_uri": "https://localhost:8080/",
          "height": 205
        },
        "id": "fvZnaup2IEv_",
        "outputId": "f7dda4eb-68d2-4eba-a166-3b76b6513826"
      },
      "source": [
        "# Checando o DataFrame para aluguel\n",
        "df_bairros_aluguel.head()"
      ],
      "execution_count": null,
      "outputs": [
        {
          "output_type": "execute_result",
          "data": {
            "text/html": [
              "<div>\n",
              "<style scoped>\n",
              "    .dataframe tbody tr th:only-of-type {\n",
              "        vertical-align: middle;\n",
              "    }\n",
              "\n",
              "    .dataframe tbody tr th {\n",
              "        vertical-align: top;\n",
              "    }\n",
              "\n",
              "    .dataframe thead th {\n",
              "        text-align: right;\n",
              "    }\n",
              "</style>\n",
              "<table border=\"1\" class=\"dataframe\">\n",
              "  <thead>\n",
              "    <tr style=\"text-align: right;\">\n",
              "      <th></th>\n",
              "      <th>Bairros</th>\n",
              "      <th>Média dos Preços</th>\n",
              "    </tr>\n",
              "  </thead>\n",
              "  <tbody>\n",
              "    <tr>\n",
              "      <th>0</th>\n",
              "      <td>District_Artur Alvim</td>\n",
              "      <td>18.835760</td>\n",
              "    </tr>\n",
              "    <tr>\n",
              "      <th>1</th>\n",
              "      <td>District_Belém</td>\n",
              "      <td>27.565119</td>\n",
              "    </tr>\n",
              "    <tr>\n",
              "      <th>2</th>\n",
              "      <td>District_Cangaíba</td>\n",
              "      <td>21.849201</td>\n",
              "    </tr>\n",
              "    <tr>\n",
              "      <th>3</th>\n",
              "      <td>District_Carrão</td>\n",
              "      <td>25.425884</td>\n",
              "    </tr>\n",
              "    <tr>\n",
              "      <th>4</th>\n",
              "      <td>District_Cidade Líder</td>\n",
              "      <td>19.886914</td>\n",
              "    </tr>\n",
              "  </tbody>\n",
              "</table>\n",
              "</div>"
            ],
            "text/plain": [
              "                 Bairros  Média dos Preços\n",
              "0   District_Artur Alvim         18.835760\n",
              "1         District_Belém         27.565119\n",
              "2      District_Cangaíba         21.849201\n",
              "3        District_Carrão         25.425884\n",
              "4  District_Cidade Líder         19.886914"
            ]
          },
          "metadata": {},
          "execution_count": 234
        }
      ]
    },
    {
      "cell_type": "code",
      "metadata": {
        "colab": {
          "base_uri": "https://localhost:8080/",
          "height": 205
        },
        "id": "2kzFn55bIXWo",
        "outputId": "48bcf8eb-5882-4050-95a1-9511e6460e87"
      },
      "source": [
        "# Checando o DataFrame para aluguel\n",
        "df_bairros_venda.head()"
      ],
      "execution_count": null,
      "outputs": [
        {
          "output_type": "execute_result",
          "data": {
            "text/html": [
              "<div>\n",
              "<style scoped>\n",
              "    .dataframe tbody tr th:only-of-type {\n",
              "        vertical-align: middle;\n",
              "    }\n",
              "\n",
              "    .dataframe tbody tr th {\n",
              "        vertical-align: top;\n",
              "    }\n",
              "\n",
              "    .dataframe thead th {\n",
              "        text-align: right;\n",
              "    }\n",
              "</style>\n",
              "<table border=\"1\" class=\"dataframe\">\n",
              "  <thead>\n",
              "    <tr style=\"text-align: right;\">\n",
              "      <th></th>\n",
              "      <th>Bairros</th>\n",
              "      <th>Média dos Preços</th>\n",
              "    </tr>\n",
              "  </thead>\n",
              "  <tbody>\n",
              "    <tr>\n",
              "      <th>0</th>\n",
              "      <td>District_Artur Alvim</td>\n",
              "      <td>3995.555904</td>\n",
              "    </tr>\n",
              "    <tr>\n",
              "      <th>1</th>\n",
              "      <td>District_Belém</td>\n",
              "      <td>6619.881369</td>\n",
              "    </tr>\n",
              "    <tr>\n",
              "      <th>2</th>\n",
              "      <td>District_Cangaíba</td>\n",
              "      <td>4904.508762</td>\n",
              "    </tr>\n",
              "    <tr>\n",
              "      <th>3</th>\n",
              "      <td>District_Carrão</td>\n",
              "      <td>6492.402752</td>\n",
              "    </tr>\n",
              "    <tr>\n",
              "      <th>4</th>\n",
              "      <td>District_Cidade Líder</td>\n",
              "      <td>4311.586167</td>\n",
              "    </tr>\n",
              "  </tbody>\n",
              "</table>\n",
              "</div>"
            ],
            "text/plain": [
              "                 Bairros  Média dos Preços\n",
              "0   District_Artur Alvim       3995.555904\n",
              "1         District_Belém       6619.881369\n",
              "2      District_Cangaíba       4904.508762\n",
              "3        District_Carrão       6492.402752\n",
              "4  District_Cidade Líder       4311.586167"
            ]
          },
          "metadata": {},
          "execution_count": 235
        }
      ]
    },
    {
      "cell_type": "markdown",
      "metadata": {
        "id": "0AyHVhAoIZYs"
      },
      "source": [
        "Agora que temos os DataFrames tratados, vamos salvá-los."
      ]
    },
    {
      "cell_type": "code",
      "metadata": {
        "id": "Fmho31QrDaxM"
      },
      "source": [
        "# Salvando o DataFrame com os bairros e seus respectivos preços médios por metro quadrado\n",
        "df_bairros_aluguel.to_csv('bairros_aluguel.csv')\n",
        "df_bairros_venda.to_csv('bairros_venda.csv')"
      ],
      "execution_count": null,
      "outputs": []
    },
    {
      "cell_type": "markdown",
      "metadata": {
        "id": "rMZdEwvov518"
      },
      "source": [
        "# Criando a API\n",
        "\n",
        "Esta etapa será realizada na ferramenta Pycharm, porém para facilitar a visualização e o entendimento sobre os códigos escritos nesta ferramenta, passarei os códigos também neste notebook.\n",
        "\n",
        "Anteriormente foi dito que devíamos aplicar os mesmos tratamentos realizados durante o treinamento para os novos dados informados pelo usuário da API, então vamos começar com o arquivo `python` que possui a função de tratamento que será chamado de \"preprocessamento.py\":"
      ]
    },
    {
      "cell_type": "code",
      "metadata": {
        "id": "hfku_STxBVBp"
      },
      "source": [
        "# Arquivo preprocessamento.py\n",
        "'''\n",
        "   Importante realizar a instalação das bibliotecas no Python Interpreter nas configurações do projeto no Pycharm\n",
        "'''\n",
        "# Importando as bibliotecas\n",
        "import pandas as pd\n",
        "from sklearn.model_selection import train_test_split\n",
        "from sklearn.preprocessing import MinMaxScaler\n",
        "\n",
        "'''\n",
        "   Importante marcar o repositório dos arquivos .csv como SOURCE no Pycharm para que os arquivos possam ser localizados por outros arquivos em outros repositórios.\n",
        "'''\n",
        "# Lendo os arquivos .csv na pasta Source \"processamento\"\n",
        "bairros_aluguel = pd.read_csv(r\"processamento/bairros_aluguel.csv\")\n",
        "bairros_venda = pd.read_csv(r\"processamento/bairros_venda.csv\")\n",
        "df_aluguel = pd.read_csv(r\"processamento/df_aluguel.csv\")\n",
        "df_venda = pd.read_csv(r\"processamento/df_venda.csv\")\n",
        "\n",
        "'''\n",
        "   Por alguma razão, quando os arquivos .csv foram importados cada DataFrame recebeu uma coluna nula que será prejudicial para o modelo importado, \n",
        "pois ele não vai conseguir lidar com mais colunas (features) do que foi treinado.\n",
        "'''\n",
        "# Removendo a coluna nula para cada DataFrame\n",
        "bairros_aluguel.drop('Unnamed: 0', axis=1, inplace=True)\n",
        "bairros_venda.drop('Unnamed: 0', axis=1, inplace=True)\n",
        "df_aluguel.drop('Unnamed: 0', axis=1, inplace=True)\n",
        "df_venda.drop('Unnamed: 0', axis=1, inplace=True)\n",
        "\n",
        "'''\n",
        "   Para realizar os tratamentos, vamos criar uma função chamada 'tratamento' que será chamada pelo arquivo da API e passará os inputs recebidos do usuário.\n",
        "   Em primeiro momento vamos realizar a separação dos dados de treino para ambos os modelos (aluguel e venda) e obter a normalização aplicada durante o treinamento.\n",
        "'''\n",
        "# Realizando o tratamento dos dados para previsão de acordo com o modelo: aluguel ou venda\n",
        "def tratamento(negotiation_type, condo, size, rooms, toilets, suites, parking, elevator, furnished, swimming_pool,\n",
        "               new, bairro):\n",
        "\n",
        "    # Separando a coluna alvo do restante dos dados - dataset algueis\n",
        "    X_aluguel = df_aluguel.drop('Price', axis=1)\n",
        "    y_aluguel = df_aluguel['Price']  # variável alvo\n",
        "\n",
        "    # Separando entre dados de treino e teste - dataset alugueis\n",
        "    X_aluguel_train, X_aluguel_test, y_aluguel_train, y_aluguel_test = train_test_split(X_aluguel, y_aluguel,\n",
        "                                                                                        test_size=0.20,\n",
        "                                                                                        shuffle=True)\n",
        "    # Normalizando os dados\n",
        "    nm_aluguel = MinMaxScaler().fit(X_aluguel_train)\n",
        "\n",
        "\n",
        "    # Separando a coluna alvo do restante dos dados - dataset vendas\n",
        "    X_venda = df_venda.drop('Price', axis=1)\n",
        "    y_venda = df_venda['Price']  # variável alvo\n",
        "\n",
        "    # Separando entre dados de treino e teste - dataset vendas\n",
        "    X_venda_train, X_venda_test, y_venda_train, y_venda_test = train_test_split(X_venda, y_venda, test_size=0.20,\n",
        "                                                                                shuffle=True)\n",
        "    # Normalizando os dados\n",
        "    nm_venda = MinMaxScaler().fit(X_venda_train)\n",
        "\n",
        "   '''\n",
        "      Neste momento separamos os tratamentos para o modelo de alugueis e o modelo de vendas com base no input do usuário: Aluguel ou Venda.\n",
        "   '''\n",
        "    # Se o input sobre o tipo de negociação for Aluguel\n",
        "    if negotiation_type == 0:\n",
        "\n",
        "        # Formulário do apartamento do usuário, cada input será transferido para sua respectiva coluna (feature) na mesma estrutura que os dados foram treinados\n",
        "        lista_aluguel = pd.DataFrame({'Condo': condo,\n",
        "                                    'Size': size,\n",
        "                                    'Rooms': rooms,\n",
        "                                    'Toilets': toilets,\n",
        "                                    'Suites': suites,\n",
        "                                    'Parking': parking,\n",
        "                                    'Elevator': elevator,\n",
        "                                    'Furnished': furnished,\n",
        "                                    'Swimming Pool': swimming_pool,\n",
        "                                    'New': new,\n",
        "                                    'Price/Size': 0,\n",
        "                                    'District_Alto de Pinheiros': 0,\n",
        "                                    'District_Anhanguera': 0,\n",
        "                                    'District_Aricanduva': 0,\n",
        "                                    'District_Artur Alvim': 0,\n",
        "                                    'District_Barra Funda': 0,\n",
        "                                    'District_Bela Vista': 0,\n",
        "                                    'District_Belém': 0,\n",
        "                                    'District_Bom Retiro': 0,\n",
        "                                    'District_Brasilândia': 0,\n",
        "                                    'District_Brooklin': 0,\n",
        "                                    'District_Brás': 0,\n",
        "                                    'District_Butantã': 0,\n",
        "                                    'District_Cachoeirinha': 0,\n",
        "                                    'District_Cambuci': 0,\n",
        "                                    'District_Campo Belo': 0,\n",
        "                                    'District_Campo Grande': 0,\n",
        "                                    'District_Campo Limpo': 0,\n",
        "                                    'District_Cangaíba': 0,\n",
        "                                    'District_Capão Redondo': 0,\n",
        "                                    'District_Carrão': 0,\n",
        "                                    'District_Casa Verde': 0,\n",
        "                                    'District_Cidade Ademar': 0,\n",
        "                                    'District_Cidade Dutra': 0,\n",
        "                                    'District_Cidade Líder': 0,\n",
        "                                    'District_Cidade Tiradentes': 0,\n",
        "                                    'District_Consolação': 0,\n",
        "                                    'District_Cursino': 0,\n",
        "                                    'District_Ermelino Matarazzo': 0,\n",
        "                                    'District_Freguesia do Ó': 0,\n",
        "                                    'District_Grajaú': 0,\n",
        "                                    'District_Guaianazes': 0,\n",
        "                                    'District_Iguatemi': 0,\n",
        "                                    'District_Ipiranga': 0,\n",
        "                                    'District_Itaim Bibi': 0,\n",
        "                                    'District_Itaim Paulista': 0,\n",
        "                                    'District_Itaquera': 0,\n",
        "                                    'District_Jabaquara': 0,\n",
        "                                    'District_Jaguaré': 0,\n",
        "                                    'District_Jaraguá': 0,\n",
        "                                    'District_Jardim Helena': 0,\n",
        "                                    'District_Jardim Paulista': 0,\n",
        "                                    'District_Jardim São Luis': 0,\n",
        "                                    'District_Jardim Ângela': 0,\n",
        "                                    'District_Jaçanã': 0,\n",
        "                                    'District_José Bonifácio': 0,\n",
        "                                    'District_Lajeado': 0,\n",
        "                                    'District_Lapa': 0,\n",
        "                                    'District_Liberdade': 0,\n",
        "                                    'District_Limão': 0,\n",
        "                                    'District_Mandaqui': 0,\n",
        "                                    'District_Medeiros': 0,\n",
        "                                    'District_Moema': 0,\n",
        "                                    'District_Mooca': 0,\n",
        "                                    'District_Morumbi': 0,\n",
        "                                    'District_Pari': 0,\n",
        "                                    'District_Parque do Carmo': 0,\n",
        "                                    'District_Pedreira': 0,\n",
        "                                    'District_Penha': 0,\n",
        "                                    'District_Perdizes': 0,\n",
        "                                    'District_Pinheiros': 0,\n",
        "                                    'District_Pirituba': 0,\n",
        "                                    'District_Ponte Rasa': 0,\n",
        "                                    'District_Raposo Tavares': 0,\n",
        "                                    'District_República': 0,\n",
        "                                    'District_Rio Pequeno': 0,\n",
        "                                    'District_Sacomã': 0,\n",
        "                                    'District_Santa Cecília': 0,\n",
        "                                    'District_Santana': 0,\n",
        "                                    'District_Santo Amaro': 0,\n",
        "                                    'District_Sapopemba': 0,\n",
        "                                    'District_Saúde': 0,\n",
        "                                    'District_Socorro': 0,\n",
        "                                    'District_São Lucas': 0,\n",
        "                                    'District_São Mateus': 0,\n",
        "                                    'District_São Miguel': 0,\n",
        "                                    'District_São Rafael': 0,\n",
        "                                    'District_Sé': 0,\n",
        "                                    'District_Tatuapé': 0,\n",
        "                                    'District_Tremembé': 0,\n",
        "                                    'District_Tucuruvi': 0,\n",
        "                                    'District_Vila Andrade': 0,\n",
        "                                    'District_Vila Curuçá': 0,\n",
        "                                    'District_Vila Formosa': 0,\n",
        "                                    'District_Vila Guilherme': 0,\n",
        "                                    'District_Vila Jacuí': 0,\n",
        "                                    'District_Vila Leopoldina': 0,\n",
        "                                    'District_Vila Madalena': 0,\n",
        "                                    'District_Vila Maria': 0,\n",
        "                                    'District_Vila Mariana': 0,\n",
        "                                    'District_Vila Matilde': 0,\n",
        "                                    'District_Vila Olimpia': 0,\n",
        "                                    'District_Vila Prudente': 0,\n",
        "                                    'District_Vila Sônia': 0,\n",
        "                                    'District_Água Rasa': 0}, index=[0])\n",
        "\n",
        "        # Convertendo o valor da coluna do bairro passado para 1\n",
        "        lista_aluguel[bairro].replace({0: 1}, inplace=True)\n",
        "\n",
        "        '''\n",
        "        Neste momento iremos precisar do DataFrame com os preços por metro quadrado de cada bairro para aluguel, que salvamos com o nome 'bairros_aluguel'\n",
        "        '''\n",
        "        # Obtendo o valor do preço médio por metro quadrado do bairro passado pelo usuário\n",
        "        price = bairros_aluguel['Média dos Preços'].loc[bairros_aluguel['Bairros'] == bairro].item()\n",
        "\n",
        "        # Convertendo o valor da coluna Price/Size para o valor obtido acima\n",
        "        lista_aluguel['Price/Size'].replace({0: price}, inplace=True)\n",
        "\n",
        "        '''\n",
        "           Quando a função \"tratamento\" for chamada, iremos passar os inputs obtidos do usuário e aplicar a normalização dos dados com base na que foi feita durante o treinamento do modelo,\n",
        "        e a razão de termos salvo os DataFrames de treino é simplesmente para que a mesma normalização nos dados de treino possa ser realizada nos dados novos. Caso não apliquemos \n",
        "        a mesma normalização feita durante o treino, o formulário preenchido pelo usuário seria convertido em um DataFrame apenas de valores nulos, uma vez que o imput do usuário\n",
        "        representa apenas uma entrada e o processo de normalização não teria como avaliar a dimensão dos valores, sendo assim convertendo todos os valores para 0. \n",
        "           Quando os dados forem processados, vamos enviar o DataFrame tratado para o arquivo da API, onde nosso modelo espera para realizar a previsão dado o formulário passado.\n",
        "        '''\n",
        "        # Aplicando as transformações no dataset de alugueis\n",
        "        lista_aluguel = nm_aluguel.transform(lista_aluguel)\n",
        "        \n",
        "        # Retornando o formulário tratado e pronto para ser lido pelo modelo\n",
        "        return lista_aluguel\n",
        "\n",
        "    # Se o input sobre o tipo de negociação for Venda\n",
        "    elif negotiation_type == 1:\n",
        "        lista_venda = pd.DataFrame({'Condo': condo,\n",
        "                                    'Size': size,\n",
        "                                    'Rooms': rooms,\n",
        "                                    'Toilets': toilets,\n",
        "                                    'Suites': suites,\n",
        "                                    'Parking': parking,\n",
        "                                    'Elevator': elevator,\n",
        "                                    'Furnished': furnished,\n",
        "                                    'Swimming Pool': swimming_pool,\n",
        "                                    'New': new,\n",
        "                                    'Price/Size': 0,\n",
        "                                    'District_Alto de Pinheiros': 0,\n",
        "                                    'District_Anhanguera': 0,\n",
        "                                    'District_Aricanduva': 0,\n",
        "                                    'District_Artur Alvim': 0,\n",
        "                                    'District_Barra Funda': 0,\n",
        "                                    'District_Bela Vista': 0,\n",
        "                                    'District_Belém': 0,\n",
        "                                    'District_Bom Retiro': 0,\n",
        "                                    'District_Brasilândia': 0,\n",
        "                                    'District_Brooklin': 0,\n",
        "                                    'District_Brás': 0,\n",
        "                                    'District_Butantã': 0,\n",
        "                                    'District_Cachoeirinha': 0,\n",
        "                                    'District_Cambuci': 0,\n",
        "                                    'District_Campo Belo': 0,\n",
        "                                    'District_Campo Grande': 0,\n",
        "                                    'District_Campo Limpo': 0,\n",
        "                                    'District_Cangaíba': 0,\n",
        "                                    'District_Capão Redondo': 0,\n",
        "                                    'District_Carrão': 0,\n",
        "                                    'District_Casa Verde': 0,\n",
        "                                    'District_Cidade Ademar': 0,\n",
        "                                    'District_Cidade Dutra': 0,\n",
        "                                    'District_Cidade Líder': 0,\n",
        "                                    'District_Cidade Tiradentes': 0,\n",
        "                                    'District_Consolação': 0,\n",
        "                                    'District_Cursino': 0,\n",
        "                                    'District_Ermelino Matarazzo': 0,\n",
        "                                    'District_Freguesia do Ó': 0,\n",
        "                                    'District_Grajaú': 0,\n",
        "                                    'District_Guaianazes': 0,\n",
        "                                    'District_Iguatemi': 0,\n",
        "                                    'District_Ipiranga': 0,\n",
        "                                    'District_Itaim Bibi': 0,\n",
        "                                    'District_Itaim Paulista': 0,\n",
        "                                    'District_Itaquera': 0,\n",
        "                                    'District_Jabaquara': 0,\n",
        "                                    'District_Jaguaré': 0,\n",
        "                                    'District_Jaraguá': 0,\n",
        "                                    'District_Jardim Helena': 0,\n",
        "                                    'District_Jardim Paulista': 0,\n",
        "                                    'District_Jardim São Luis': 0,\n",
        "                                    'District_Jardim Ângela': 0,\n",
        "                                    'District_Jaçanã': 0,\n",
        "                                    'District_José Bonifácio': 0,\n",
        "                                    'District_Lajeado': 0,\n",
        "                                    'District_Lapa': 0,\n",
        "                                    'District_Liberdade': 0,\n",
        "                                    'District_Limão': 0,\n",
        "                                    'District_Mandaqui': 0,\n",
        "                                    'District_Medeiros': 0,\n",
        "                                    'District_Moema': 0,\n",
        "                                    'District_Mooca': 0,\n",
        "                                    'District_Morumbi': 0,\n",
        "                                    'District_Pari': 0,\n",
        "                                    'District_Parque do Carmo': 0,\n",
        "                                    'District_Pedreira': 0,\n",
        "                                    'District_Penha': 0,\n",
        "                                    'District_Perdizes': 0,\n",
        "                                    'District_Perus': 0,\n",
        "                                    'District_Pinheiros': 0,\n",
        "                                    'District_Pirituba': 0,\n",
        "                                    'District_Ponte Rasa': 0,\n",
        "                                    'District_Raposo Tavares': 0,\n",
        "                                    'District_República': 0,\n",
        "                                    'District_Rio Pequeno': 0,\n",
        "                                    'District_Sacomã': 0,\n",
        "                                    'District_Santa Cecília': 0,\n",
        "                                    'District_Santana': 0,\n",
        "                                    'District_Santo Amaro': 0,\n",
        "                                    'District_Sapopemba': 0,\n",
        "                                    'District_Saúde': 0,\n",
        "                                    'District_Socorro': 0,\n",
        "                                    'District_São Domingos': 0,\n",
        "                                    'District_São Lucas': 0,\n",
        "                                    'District_São Mateus': 0,\n",
        "                                    'District_São Miguel': 0,\n",
        "                                    'District_São Rafael': 0,\n",
        "                                    'District_Sé': 0,\n",
        "                                    'District_Tatuapé': 0,\n",
        "                                    'District_Tremembé': 0,\n",
        "                                    'District_Tucuruvi': 0,\n",
        "                                    'District_Vila Andrade': 0,\n",
        "                                    'District_Vila Curuçá': 0,\n",
        "                                    'District_Vila Formosa': 0,\n",
        "                                    'District_Vila Guilherme': 0,\n",
        "                                    'District_Vila Jacuí': 0,\n",
        "                                    'District_Vila Leopoldina': 0,\n",
        "                                    'District_Vila Madalena': 0,\n",
        "                                    'District_Vila Maria': 0,\n",
        "                                    'District_Vila Mariana': 0,\n",
        "                                    'District_Vila Matilde': 0,\n",
        "                                    'District_Vila Olimpia': 0,\n",
        "                                    'District_Vila Prudente': 0,\n",
        "                                    'District_Vila Sônia': 0,\n",
        "                                    'District_Água Rasa': 0}, index=[0])\n",
        "\n",
        "        # Convertendo o valor da coluna do bairro passado para 1\n",
        "        lista_venda[bairro].replace({0: 1}, inplace=True)\n",
        "\n",
        "        # Obtendo o valor do preço médio por metro quadrado do bairro passado\n",
        "        price = bairros_aluguel['Média dos Preços'].loc[bairros_aluguel['Bairros'] == bairro].item()\n",
        "\n",
        "        # Convertendo o valor da coluna Price/Size para o valor obtido acima\n",
        "        lista_venda['Price/Size'].replace({0: price}, inplace=True)\n",
        "\n",
        "        # Aplicando as transformações no dataset de venda\n",
        "        lista_venda = nm_venda.transform(lista_venda)\n",
        "        \n",
        "        # Retornando o formulário tratado e pronto para ser lido pelo modelo\n",
        "        return lista_venda"
      ],
      "execution_count": null,
      "outputs": []
    },
    {
      "cell_type": "markdown",
      "metadata": {
        "id": "wpr0fj8AvMcp"
      },
      "source": [
        "Para que o arquivo `preprocessamento.py` funcione devemos passar os inputs obtidos do usuário da API e para isso, precisamos criar uma interface para esse usuário interagir na web, onde ele passará as características do apartamento.\n",
        "\n",
        "Para isso iremos criar um arquivo `.html` chamado `home.html`:"
      ]
    },
    {
      "cell_type": "code",
      "metadata": {
        "id": "XlE-zMLVyBkR"
      },
      "source": [
        "# Arquivo home.html\n",
        "\n",
        "<!DOCTYPE html>\n",
        "<html>\n",
        "<head>\n",
        "\t<meta charset=\"utf-8\">\n",
        "\t<meta name=\"viewport\" content=\"width=device-width, initial-scale=1.0\">\n",
        "\t<title>Previsão de Preços</title>\n",
        "    <link rel=\"stylesheet\" href=\"https://cdnjs.cloudflare.com/ajax/libs/bulma/0.9.0/css/bulma.min.css\">\n",
        "    <link href=\"https://fonts.googleapis.com/icon?family=Material+Icons\" rel=\"stylesheet\">\n",
        "    <style>\n",
        "        html{\n",
        "            overflow: hidden;\n",
        "        }\n",
        "\n",
        "        body{\n",
        "            position: absolute;\n",
        "            width: 100%;\n",
        "            height: 100%;\n",
        "            margin: 0;\n",
        "            padding: 0;\n",
        "        }\n",
        "\n",
        "        #login-form-container{\n",
        "            position: absolute;\n",
        "            width: 100%;\n",
        "            height: 100%;\n",
        "            display: flex;\n",
        "            align-items: center;\n",
        "            justify-content: center;\n",
        "        }\n",
        "    </style>\n",
        "</head>\n",
        "<body>\n",
        "    <div id=\"login-form-container\">\n",
        "        <form action=\"/predict\" method=\"GET\">\n",
        "            <div class=\"card\" style=\"width: 400px\">\n",
        "            <div class=\"card-content\">\n",
        "                <div class=\"media\">\n",
        "                <div class=\"is-size-4 has-text-centered\">Previsão de Preço de Apartamento na Cidade de São Paulo</div>\n",
        "                </div>\n",
        "                <div class=\"content\">\n",
        "\n",
        "                <div class=\"field\">\n",
        "                    <p class=\"control\">\n",
        "                    Tipo de Negociação: <select name=\"negotiation_type\" id=\"negotiation_type\" type=\"number\">\n",
        "                        <option value='0'>Aluguel</option>\n",
        "                        <option value=\"1\">Venda</option>\n",
        "                    </select>\n",
        "                    </p>\n",
        "                </div>\n",
        "\n",
        "                <div class=\"field\">\n",
        "                    <p class=\"control\">\n",
        "                    Valor do condomínio: <input class=\"input\" type=\"number\" name=\"condo\" id=\"condo\">\n",
        "                    </p>\n",
        "                </div>\n",
        "\n",
        "                <div class=\"field\">\n",
        "                    <p class=\"control\">\n",
        "                    Tamanho do apartamento: <input class=\"input\" type=\"number\" name=\"size\" id=\"size\">\n",
        "                    </p>\n",
        "                </div>\n",
        "\n",
        "                <div class=\"field\">\n",
        "                    <p class=\"control\">\n",
        "                    Número de quartos: <input class=\"input\" type=\"number\" name=\"rooms\" id=\"rooms\">\n",
        "                    </p>\n",
        "                </div>\n",
        "\n",
        "                <div class=\"field\">\n",
        "                    <p class=\"control\">\n",
        "                    Número de banheiros: <input class=\"input\" type=\"number\" name=\"toilets\" id=\"toilets\">\n",
        "                    </p>\n",
        "                </div>\n",
        "\n",
        "                <div class=\"field\">\n",
        "                    <p class=\"control\">\n",
        "                    Número de suites: <input class=\"input\" type=\"number\" name=\"suites\" id=\"suites\">\n",
        "                    </p>\n",
        "                </div>\n",
        "\n",
        "                <div class=\"field\">\n",
        "                    <p class=\"control\">\n",
        "                    Número de vagas de estacionamento: <input class=\"input\" type=\"number\" name=\"parking\" id=\"parking\">\n",
        "                    </p>\n",
        "                </div>\n",
        "\n",
        "                <div class=\"field\">\n",
        "                    <p class=\"control\">\n",
        "                    Possui Elevador? <select name=\"elevator\" id=\"elevator\" type=\"number\">\n",
        "                        <option value=\"0\">Não</option>\n",
        "                        <option value=\"1\">Sim</option>\n",
        "                    </select>\n",
        "                    </p>\n",
        "                </div>\n",
        "\n",
        "                <div class=\"field\">\n",
        "                    <p class=\"control\">\n",
        "                    É mobiliado? <select name=\"furnished\" id=\"furnished\" type=\"number\">\n",
        "                        <option value=\"0\">Não</option>\n",
        "                        <option value=\"1\">Sim</option>\n",
        "                    </select>\n",
        "                    </p>\n",
        "                </div>\n",
        "\n",
        "                <div class=\"field\">\n",
        "                    <p class=\"control\">\n",
        "                    Possui piscina no prédio? <select name=\"swimming_pool\" id=\"swimming_pool\" type=\"number\">\n",
        "                        <option value=\"0\">Não</option>\n",
        "                        <option value=\"1\">Sim</option>\n",
        "                    </select>\n",
        "                    </p>\n",
        "                </div>\n",
        "\n",
        "                <div class=\"field\">\n",
        "                    <p class=\"control\">\n",
        "                    O apartamento é novo? <select name=\"new\" id=\"new\" type=\"number\">\n",
        "                        <option value=\"0\">Não</option>\n",
        "                        <option value=\"1\">Sim</option>\n",
        "                    </select>\n",
        "                    </p>\n",
        "                </div>\n",
        "\n",
        "                <div class=\"field\">\n",
        "                    <p class=\"control\">\n",
        "                    Qual o bairro? <select name=\"bairro\" id=\"bairro\">\n",
        "                        <option value=\"District_Água Rasa\">Água Rasa</option>\n",
        "                        <option value=\"District_Alto de Pinheiros\">Alto de Pinheiros</option>\n",
        "                        <option value=\"District_Anhanguera\">Anhanguera</option>\n",
        "                        <option value=\"District_Aricanduva\">Aricanduva</option>\n",
        "                        <option value=\"District_Artur Alvim\">Artur Alvim</option>\n",
        "                        <option value=\"District_Barra Funda\">Barra Funda</option>\n",
        "                        <option value=\"District_Bela Vista\">Bela Vista</option>\n",
        "                        <option value=\"District_Belém\">Belém</option>\n",
        "                        <option value=\"District_Bom Retiro\">Bom Retiro</option>\n",
        "                        <option value=\"District_Brasilândia\">Brasilândia</option>\n",
        "                        <option value=\"District_Brooklin\">Brooklin</option>\n",
        "                        <option value=\"District_Brás\">Brás</option>\n",
        "                        <option value=\"District_Butantã\">Butantã</option>\n",
        "                        <option value=\"District_Cachoeirinha\">Cachoeirinha</option>\n",
        "                        <option value=\"District_Cambuci\">Cambuci</option>\n",
        "                        <option value=\"District_Campo Belo\">Campo Belo</option>\n",
        "                        <option value=\"District_Campo Grande\">Campo Grande</option>\n",
        "                        <option value=\"District_Campo Limpo\">Campo Limpo</option>\n",
        "                        <option value=\"District_Cangaíba\">Cangaíba</option>\n",
        "                        <option value=\"District_Capão Redondo\">Capão Redondo</option>\n",
        "                        <option value=\"District_Carrão\">Carrão</option>\n",
        "                        <option value=\"District_Casa Verde\">Casa Verde</option>\n",
        "                        <option value=\"District_Cidade Ademar\">Cidade Ademar</option>\n",
        "                        <option value=\"District_Cidade Dutra\">Cidade Dutra</option>\n",
        "                        <option value=\"District_Cidade Líder\">Cidade Líder</option>\n",
        "                        <option value=\"District_Cidade Tiradentes\">Cidade Tiradentes</option>\n",
        "                        <option value=\"District_Consolação\">Consolação</option>\n",
        "                        <option value=\"District_Cursino\">Cursino</option>\n",
        "                        <option value=\"District_Ermelino Matarazzo\">Ermelino Matarazzo</option>\n",
        "                        <option value=\"District_Freguesia do Ó\">Freguesia do Ó</option>\n",
        "                        <option value=\"District_Grajaú\">Grajaú</option>\n",
        "                        <option value=\"District_Guaianazes\">Guaianazes</option>\n",
        "                        <option value=\"District_Iguatemi\">Iguatemi</option>\n",
        "                        <option value=\"District_Ipiranga\">Ipiranga</option>\n",
        "                        <option value=\"District_Itaim Bibi\">Itaim Bibi</option>\n",
        "                        <option value=\"District_Itaim Paulista\">Itaim Paulista</option>\n",
        "                        <option value=\"District_Itaquera\">Itaquera</option>\n",
        "                        <option value=\"District_Jabaquara\">Jabaquara</option>\n",
        "                        <option value=\"District_Jaguaré\">Jaguaré</option>\n",
        "                        <option value=\"District_Jaraguá\">Jaraguá</option>\n",
        "                        <option value=\"District_Jardim Helena\">Jardim Helena</option>\n",
        "                        <option value=\"District_Jardim Paulista\">Jardim Paulista</option>\n",
        "                        <option value=\"District_Jardim São Luis\">Jardim São Luis</option>\n",
        "                        <option value=\"District_Jardim Ângela\">Jardim Ângela</option>\n",
        "                        <option value=\"District_Jaçanã\">Jaçanã</option>\n",
        "                        <option value=\"District_José Bonifácio\">José Bonifácio</option>\n",
        "                        <option value=\"District_Lajeado\">Lajeado</option>\n",
        "                        <option value=\"District_Lapa\">Lapa</option>\n",
        "                        <option value=\"District_Liberdade\">Liberdade</option>\n",
        "                        <option value=\"District_Limão\">Limão</option>\n",
        "                        <option value=\"District_Mandaqui\">Mandaqui</option>\n",
        "                        <option value=\"District_Medeiros\">Medeiros</option>\n",
        "                        <option value=\"District_Moema\">Moema</option>\n",
        "                        <option value=\"District_Mooca\">Mooca</option>\n",
        "                        <option value=\"District_Morumbi\">Morumbi</option>\n",
        "                        <option value=\"District_Pari\">Pari</option>\n",
        "                        <option value=\"District_Parque do Carmo\">Parque do Carmo</option>\n",
        "                        <option value=\"District_Pedreira\">Pedreira</option>\n",
        "                        <option value=\"District_Penha\">Penha</option>\n",
        "                        <option value=\"District_Perdizes\">Perdizes</option>\n",
        "                        <option value=\"District_Perus\">Perus</option>\n",
        "                        <option value=\"District_Pinheiros\">Pinheiros</option>\n",
        "                        <option value=\"District_Pirituba\">Pirituba</option>\n",
        "                        <option value=\"District_Ponte Rasa\">Ponte Rasa</option>\n",
        "                        <option value=\"District_Raposo Tavares\">Raposo Tavares</option>\n",
        "                        <option value=\"District_República\">República</option>\n",
        "                        <option value=\"District_Rio Pequeno\">Rio Pequeno</option>\n",
        "                        <option value=\"District_Sacomã\">Sacomã</option>\n",
        "                        <option value=\"District_Santa Cecília\">Santa Cecília</option>\n",
        "                        <option value=\"District_Santana\">Santana</option>\n",
        "                        <option value=\"District_Santo Amaro\">Santo Amaro</option>\n",
        "                        <option value=\"District_Sapopemba\">Sapopemba</option>\n",
        "                        <option value=\"District_Saúde\">Saúde</option>\n",
        "                        <option value=\"District_Socorro\">Socorro</option>\n",
        "                        <option value=\"District_São Domingos\">São Domingos</option>\n",
        "                        <option value=\"District_São Lucas\">São Lucas</option>\n",
        "                        <option value=\"District_São Mateus\">São Mateus</option>\n",
        "                        <option value=\"District_São Miguel\">São Miguel</option>\n",
        "                        <option value=\"District_São Rafael\">São Rafael</option>\n",
        "                        <option value=\"District_Sé\">Sé</option>\n",
        "                        <option value=\"District_Tatuapé\">Tatuapé</option>\n",
        "                        <option value=\"District_Tremembé\">Tremembé</option>\n",
        "                        <option value=\"District_Tucuruvi\">Tucuruvi</option>\n",
        "                        <option value=\"District_Vila Andrade\">Vila Andrade</option>\n",
        "                        <option value=\"District_Vila Curuçá\">Vila Curuçá</option>\n",
        "                        <option value=\"District_Vila Formosa\">Vila Formosa</option>\n",
        "                        <option value=\"District_Vila Guilherme\">Vila Guilherme</option>\n",
        "                        <option value=\"District_Vila Jacuí\">Vila Jacuí</option>\n",
        "                        <option value=\"District_Vila Leopoldina\">Vila Leopoldina</option>\n",
        "                        <option value=\"District_Vila Madalena\">Vila Madalena</option>\n",
        "                        <option value=\"District_Vila Maria\">Vila Maria</option>\n",
        "                        <option value=\"District_Vila Mariana\">Vila Mariana</option>\n",
        "                        <option value=\"District_Vila Matilde\">Vila Matilde</option>\n",
        "                        <option value=\"District_Vila Olimpia\">Vila Olimpia</option>\n",
        "                        <option value=\"District_Vila Prudente\">Vila Prudente</option>\n",
        "                        <option value=\"District_Vila Sônia\">Vila Sônia</option>\n",
        "                    </select>\n",
        "                    </p>\n",
        "                </div>\n",
        "\n",
        "                <div class=\"field\">\n",
        "                    <button class=\"button is-fullwidth is-rounded is-success\">Realizar Previsão</button>\n",
        "                </div>\n",
        "                </div>\n",
        "            </div>\n",
        "            </div>\n",
        "        </form>\n",
        "    </div>\n",
        "</body>\n",
        "</html>"
      ],
      "execution_count": null,
      "outputs": []
    },
    {
      "cell_type": "markdown",
      "metadata": {
        "id": "YAjbulNFzCNq"
      },
      "source": [
        "Além de criarmos a página inicial da API devemos criar uma página para o output do modelo, ou seja, uma página para exibir o resultado da previsão para o preço do apartamento descrito pelo usuário.\n",
        "\n",
        "Para isso iremos criar outro arquivo `.html` chamado `output.html`:"
      ]
    },
    {
      "cell_type": "code",
      "metadata": {
        "id": "B1s3xpST0Eid"
      },
      "source": [
        "<!DOCTYPE html>\n",
        "<html>\n",
        "    <head>\n",
        "        <meta charset=\"utf-8\">\n",
        "        <meta name=\"viewport\" content=\"width=device-width, initial-scale=1.0\">\n",
        "        <title>Previsão de Preços</title>\n",
        "        <link rel=\"stylesheet\" href=\"https://cdnjs.cloudflare.com/ajax/libs/bulma/0.9.0/css/bulma.min.css\">\n",
        "        <link href=\"https://fonts.googleapis.com/icon?family=Material+Icons\" rel=\"stylesheet\">\n",
        "        <style>\n",
        "            html{\n",
        "                overflow: hidden;\n",
        "            }\n",
        "\n",
        "            body{\n",
        "                position: absolute;\n",
        "                width: 100%;\n",
        "                height: 100%;\n",
        "                margin: 0;\n",
        "                padding: 0;\n",
        "            }\n",
        "\n",
        "            #login-form-container{\n",
        "                position: absolute;\n",
        "                width: 100%;\n",
        "                height: 100%;\n",
        "                display: flex;\n",
        "                align-items: center;\n",
        "                justify-content: center;\n",
        "            }\n",
        "        </style>\n",
        "    </head>\n",
        "<body>\n",
        "    <div id=\"login-form-container\">\n",
        "        <div class=\"card\" style=\"width: 400px\">\n",
        "            <div class=\"card-content\">\n",
        "                <div class=\"media\">\n",
        "                    <div class=\"is-size-4 has-text-centered\">\n",
        "                       O preço previsto para o apartamento descrito é de {{ previsao }} reais.\n",
        "                    </div>\n",
        "                </div>\n",
        "                <form action=\"/\">\n",
        "                    <div class=\"field\">\n",
        "                        <button class=\"button is-fullwidth is-rounded is-success\">Voltar</button>\n",
        "                    </div>\n",
        "                </form>\n",
        "            </div>\n",
        "        </div>\n",
        "    </div>\n",
        "</body>\n",
        "</html>"
      ],
      "execution_count": null,
      "outputs": []
    },
    {
      "cell_type": "markdown",
      "metadata": {
        "id": "TUcyX7vn0Sug"
      },
      "source": [
        "Antes de unirmos todos estes arquivos no arquivo principal da API, lembra-se de que tivemos dois bairros que não possuíam entradas de alugueis quando estávamos obtendo os preços por metro quadrado dos bairros tanto para aluguel e para venda? Pois bem, neste caso se o usuário passar as características do apartamento para aluguel e o bairro for um dos dois que não possuem entradas para tal previsão, devemos retornar um aviso para o usuário dizendo que não foi possível obter uma previsão para esse bairro informado.\n",
        "\n",
        "Neste caso vamos criar outro arquivo `.html` chamado de `output2.html` para essa ocorrência:"
      ]
    },
    {
      "cell_type": "code",
      "metadata": {
        "id": "UPKBERFv4Btm"
      },
      "source": [
        "<!DOCTYPE html>\n",
        "<html>\n",
        "    <head>\n",
        "        <meta charset=\"utf-8\">\n",
        "        <meta name=\"viewport\" content=\"width=device-width, initial-scale=1.0\">\n",
        "        <title>Previsão de Preços</title>\n",
        "        <link rel=\"stylesheet\" href=\"https://cdnjs.cloudflare.com/ajax/libs/bulma/0.9.0/css/bulma.min.css\">\n",
        "        <link href=\"https://fonts.googleapis.com/icon?family=Material+Icons\" rel=\"stylesheet\">\n",
        "        <style>\n",
        "            html{\n",
        "                overflow: hidden;\n",
        "            }\n",
        "\n",
        "            body{\n",
        "                position: absolute;\n",
        "                width: 100%;\n",
        "                height: 100%;\n",
        "                margin: 0;\n",
        "                padding: 0;\n",
        "            }\n",
        "\n",
        "            #login-form-container{\n",
        "                position: absolute;\n",
        "                width: 100%;\n",
        "                height: 100%;\n",
        "                display: flex;\n",
        "                align-items: center;\n",
        "                justify-content: center;\n",
        "            }\n",
        "        </style>\n",
        "    </head>\n",
        "<body>\n",
        "    <div id=\"login-form-container\">\n",
        "        <div class=\"card\" style=\"width: 400px\">\n",
        "            <div class=\"card-content\">\n",
        "                <div class=\"media\">\n",
        "                    <div class=\"is-size-4 has-text-centered\">\n",
        "                       {{ previsao }}\n",
        "                    </div>\n",
        "                </div>\n",
        "                <form action=\"/\">\n",
        "                    <div class=\"field\">\n",
        "                        <button class=\"button is-fullwidth is-rounded is-success\">Voltar</button>\n",
        "                    </div>\n",
        "                </form>\n",
        "            </div>\n",
        "        </div>\n",
        "    </div>\n",
        "</body>\n",
        "</html>"
      ],
      "execution_count": null,
      "outputs": []
    },
    {
      "cell_type": "markdown",
      "metadata": {
        "id": "nXjQ6kHwwhvz"
      },
      "source": [
        "Agora que temos os arquivos prontos para receber e tratar os inputs do usuário, vamos criar o arquivo `python` principal chamado de `app.py`.\n",
        "\n",
        "Neste arquivo iremos fazer a integração com os outros arquivos criados e desenvolver a API web utilizando o `Flask`:"
      ]
    },
    {
      "cell_type": "code",
      "metadata": {
        "id": "0IjpIrulxJnR"
      },
      "source": [
        "# Arquivo app.py\n",
        "'''\n",
        "   Importante realizar a instalação das bibliotecas no Python Interpreter do projeto no Pycharm\n",
        "'''\n",
        "# Importando as bibliotecas\n",
        "from flask import Flask, request, render_template\n",
        "from flask_restful import Api\n",
        "from joblib import load\n",
        "\n",
        "# Iniciando o Flask e especificando o repositorio dos templates\n",
        "app = Flask(__name__, template_folder=\"template\")\n",
        "\n",
        "# Importando o arquivo para o tratamento dos inputs\n",
        "import preprocessamento\n",
        "\n",
        "# Iniciando a API\n",
        "api = Api(app)\n",
        "\n",
        "# Carregando os modelos treinados\n",
        "modelo_aluguel = load('modelo_alugueis.joblib')\n",
        "modelo_venda = load('modelo_vendas.joblib')\n",
        "\n",
        "# Rota padrão da API\n",
        "@app.route('/')\n",
        "def home():\n",
        "    return render_template('home.html')  # Rendezirar o template\n",
        "\n",
        "# Rota 'predict' aceita GET request\n",
        "@app.route('/predict', methods=['GET'])\n",
        "def predict_price():\n",
        "   try:\n",
        "       # Obtendo os inputs do usuário\n",
        "       negotiation_type = int(request.args.get('negotiation_type'))  # Obter os parâmetros para Negotiation_Type\n",
        "       condo = int(request.args.get('condo'))  # Obter os parâmetros para Condo\n",
        "       size = int(request.args.get('size'))  # Obter os parâmetros para Size\n",
        "       rooms = int(request.args.get('rooms'))  # Obter os parâmetros para Rooms\n",
        "       toilets = int(request.args.get('toilets'))  # Obter os parâmetros para Toilets\n",
        "       suites = int(request.args.get('suites'))  # Obter os parâmetros para Suites\n",
        "       parking = int(request.args.get('parking'))  # Obter os parâmetros para Parking\n",
        "       elevator = int(request.args.get('elevator'))  # Obter os parâmetros para Elevator\n",
        "       furnished = int(request.args.get('furnished'))  # Obter os parâmetros para Furnished\n",
        "       swimming_pool = int(request.args.get('swimming_pool'))  # Obter os parâmetros para Swimming_Pool\n",
        "       new = int(request.args.get('new'))  # Obter os parâmetros para New\n",
        "       bairro = request.args.get('bairro')  # Obter os parâmetros para Bairro\n",
        "       \n",
        "       # Obtendo os nomes dos bairros que não possuem entradas de alugueis\n",
        "       bairros_sem_aluguel = ['District_Perus', 'District_São Domingos']\n",
        "\n",
        "       ## Separando os modelos para aluguel e venda\n",
        "       # Se o tipo de negociação for Aluguel\n",
        "       if negotiation_type == 0:\n",
        "\n",
        "            # Se o bairro informado pelo usuário for um dos que não possuem entradas de alugueis retorne uma mensagem\n",
        "            if bairro in bairros_sem_aluguel:\n",
        "                previsao = 'O bairro informado não possui nenhuma informação no banco de dados referente ao preço de ' \\\n",
        "                           'aluguel.'\n",
        "                return render_template('output2.html', previsao=previsao)\n",
        "            \n",
        "            # Se o bairro informado pelo usuário possui entradas sobre alugueis, faça o tratamento e depois a previsão do preço   \n",
        "            else:\n",
        "\n",
        "                # Obtendo  a previsão, mas antes é chamada a função tratamento do arquivo preprocessamento\n",
        "                previsao = modelo_aluguel.predict(preprocessamento.tratamento(negotiation_type, condo, size, rooms,\n",
        "                                                                              toilets, suites, parking, elevator,\n",
        "                                                                              furnished, swimming_pool, new, bairro))\n",
        "                # Exibindo a previsão na página web output\n",
        "                return render_template('output.html', previsao=previsao)\n",
        "\n",
        "       # Se o tipo de negociação for Venda\n",
        "       elif negotiation_type == 1:\n",
        "\n",
        "           # Obtendo  a previsão, mas antes é chamada a função tratamento do arquivo preprocessamento\n",
        "           previsao = round(modelo_venda.predict(preprocessamento.tratamento(negotiation_type, condo, size, rooms,\n",
        "                                                                             toilets, suites, parking, elevator,\n",
        "                                                                             furnished, swimming_pool, new, bairro)))\n",
        "           # Exibindo a previsão na página web output\n",
        "           return render_template('output.html', previsao=previsao)\n",
        "   \n",
        "   # Se nenhuma das condições forem satisfeitas, retornar 'Erro'\n",
        "   except:\n",
        "       'Erro'\n",
        "\n",
        "# Executar o servidor Flask\n",
        "if(__name__== '__main__'):\n",
        "    app.run()"
      ],
      "execution_count": null,
      "outputs": []
    },
    {
      "cell_type": "markdown",
      "metadata": {
        "id": "NpJ15upu5xTj"
      },
      "source": [
        "Agora que temos a API intanciada, devemos criar um arquivo chamado `Procfile` para executar o pacote `gunicorn` para que possamos fazer o deploy do projeto na web:"
      ]
    },
    {
      "cell_type": "code",
      "metadata": {
        "id": "ZPcenIkZ6cVD"
      },
      "source": [
        "# Arquivo Procfile\n",
        "web: gunicorn app:app"
      ],
      "execution_count": null,
      "outputs": []
    },
    {
      "cell_type": "markdown",
      "metadata": {
        "id": "38CXCyJf670o"
      },
      "source": [
        "Utilizaremos o Heroku como host do projeto na web, e para realizarmos o deploy nele precisamos baixar a ferramenta [Heroku CLI](https://devcenter.heroku.com/articles/heroku-cli#download-and-install) e a ferramenta [Git](https://git-scm.com/downloads) que fará o envio dos arquivos no Pycharm para o Heroku.\n",
        "\n",
        "Com essas ferramentas instaladas, ainda precisamos informar as versões dos pacotes que utilizamos no desenvolvimento do projeto para o Heroku, e para isso devemos acessar o terminal local do projeto no Pycharm e executar o comando:\n",
        "\n",
        "```\n",
        "pip freeze > requirements.txt\n",
        "```\n",
        "\n",
        "Este comando irá criar um novo arquivo de texto `.txt`, que irá possuir as versões de todos os pacotes instalados no projeto. Caso tenha instalado um pacote com versão diferente da utilizada no desenvolvimento do modelo, você pode alterar abrindo este arquivo criado e editar a versão que está na frente do pacote em questão.\n",
        "\n",
        "Agora que temos todos os arquivos prontos, vamos fazer o envio deles para o servidor Heroku, agora utilizando o Git.\n",
        "\n",
        "Para podermos fazer o envio, é necessário realizar o login no Heroku com o seguinte comando:\n",
        "\n",
        "```\n",
        "heroku login\n",
        "```\n",
        "\n",
        "Agora vamos criar o nome da API no Heroku:\n",
        "\n",
        "```\n",
        "heroku create nome-da-api\n",
        "```\n",
        "Caso não passemos um nome, o próprio Heroku irá gerar um, mas vamos adotar que demos o nome 'apideploy'.\n",
        "\n",
        "Vamos criar o repositório do projeto com o Git:\n",
        "\n",
        "```\n",
        "git init\n",
        "```\n",
        "\n",
        "Adicionando todos os arquivos do projeto no repositório Git:\n",
        "\n",
        "```\n",
        "git add .\n",
        "```\n",
        "\n",
        "Você pode checar o estado dos arquivos utilizando o comando:\n",
        "\n",
        "```\n",
        "git status\n",
        "```\n",
        "\n",
        "Agora que os arquivos foram adicionados ao repositório, vamos preparar os arquivos para o envio utilizando o comando:\n",
        "\n",
        "```\n",
        "git commit -m 'Envio dos Arquivos da API'\n",
        "```\n",
        "\n",
        "Com os arquivos preparados para o envio, devemos informar o Heroku para onde estamos enviando os arquivos, que neste caso é para a API que foi criada anteriormente que demos o nome de 'apideploy':\n",
        "\n",
        "```\n",
        "heroku git:remote -a apideploy\n",
        "```\n",
        "\n",
        "Com o Heroku sabendo onde enviar os arquivos do repositório Git, vamos realizar de fato então o envio do repositório Git e colocar nossa API para funcionar com o comando:\n",
        "\n",
        "```\n",
        "git push heroku master\n",
        "```\n",
        "\n",
        "Ao fim do envio, será exibido a URL em que seu projeto está hospedado e rodando, basta clicar neste link para acessar sua API.\n",
        "\n",
        "Caso ocorra algum erro durante o último comando, você pode utilizar o comando:\n",
        "\n",
        "```\n",
        "heroku logs\n",
        "```\n",
        "\n",
        "Este comando retorna o link para a descrição do erro, nele é possível entender melhor a causa do erro e aplicar as devidas correções.\n",
        "\n",
        "Nosso objetivo foi concluído e nossa API está hospedada e rodando nesta [URL](https://apiapartamentossp.herokuapp.com/).\n"
      ]
    },
    {
      "cell_type": "markdown",
      "metadata": {
        "id": "u1QoAkdZhS7l"
      },
      "source": [
        "# Conclusão do Projeto\n",
        "\n",
        "Foi concluído o objetivo que era desenvolver uma API capaz de prever os preços para os apartamentos tanto para as negociações de alugueis quanto para as de vendas.\n",
        "\n",
        "Mesmo o objetivo sendo o desenvolvimento da API,  busquei passar pela maioria das etapas de criação de um modelo de Machine Learning (Aprendizado de Máquina), onde passei pelas etapas de tratamento e limpeza dos dados, Feature Engineering, Feature Scaling e realizar testes de hipóteses em busca de um bom modelo.\n",
        "\n",
        "Apesar de termos realizados alguns testes de desempenho para os modelos, ainda é possível obter modelos ainda melhores testando com: \n",
        "\n",
        "* Outras abordagens para os valores discrepantes;\n",
        "\n",
        "* Criação de outras colunas (features) para enriquecer o modelo com mais informações durante a etapa de Feature Engineering; \n",
        "\n",
        "* Outros métodos de codificação para as colunas categóricas;\n",
        "\n",
        "* Outros métodos para escalar os dados na etapa de Feature Scaling;\n",
        "\n",
        "* Comparar o desempenho do modelo com outros estimadores de regressão além do Random Forest (Árvores Aleatórias);\n",
        "\n",
        "* Realizar a otimização dos parâmetros dos estimadores com por exemplo o 'Grid Search';\n",
        "\n",
        "* Realizar o ensemble dos melhores estimadores, em busca da melhor combinação entre eles.\n",
        "\n",
        "Este projeto foi bastante importante para reconhecer que por trás de uma simples API, existe bastante trabalho e conhecimento envolvido.\n",
        "\n",
        "Lembrando que se tiver interesse em testar a API, você pode acessá-la neste [link](https://apiapartamentossp.herokuapp.com/).\n",
        "\n"
      ]
    },
    {
      "cell_type": "markdown",
      "metadata": {
        "id": "fw7xoGlXmUu-"
      },
      "source": [
        "# Referências\n",
        "\n",
        "Sobre a Maldição de Dimensionalidade (Curse of Dimensionality):\n",
        "\n",
        "* https://towardsdatascience.com/the-curse-of-dimensionality-50dc6e49aa1e\n",
        "\n",
        "Sobre as Métricas de Validação para modelos de regressão:\n",
        "\n",
        "* https://towardsdatascience.com/what-are-the-best-metrics-to-evaluate-your-regression-model-418ca481755b\n",
        "\n",
        "* https://www.alura.com.br/artigos/metricas-de-avaliacao-para-series-temporais\n",
        "\n",
        "Sobre o deploy utilizando Flask:\n",
        "\n",
        "* https://www.section.io/engineering-education/deploying-machine-learning-models-using-flask/"
      ]
    }
  ]
}