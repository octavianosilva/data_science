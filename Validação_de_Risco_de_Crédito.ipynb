{
  "nbformat": 4,
  "nbformat_minor": 0,
  "metadata": {
    "colab": {
      "name": "Validação de Risco de Crédito.ipynb",
      "provenance": [],
      "collapsed_sections": [
        "FYy-VQ1KZP_2",
        "-VwLG__wtTuI",
        "JjW18YSh8vM0",
        "YCgj06EL8-fj",
        "4jh7Pd5k1qCo",
        "PtAHJHZU17HI",
        "bVIM0iq9196K",
        "8AhpVjE29twN",
        "dCgbJwr2-A7w",
        "0pKxKqwa23tV",
        "88cZuO1k28Qy",
        "fjTfStQQ3BMy"
      ],
      "authorship_tag": "ABX9TyN+B9mylVRhg1GmQRhc9bvl",
      "include_colab_link": true
    },
    "kernelspec": {
      "display_name": "Python 3",
      "name": "python3"
    },
    "language_info": {
      "name": "python"
    }
  },
  "cells": [
    {
      "cell_type": "markdown",
      "metadata": {
        "id": "view-in-github",
        "colab_type": "text"
      },
      "source": [
        "<a href=\"https://colab.research.google.com/github/octavianosilva/data_science/blob/main/Valida%C3%A7%C3%A3o_de_Risco_de_Cr%C3%A9dito.ipynb\" target=\"_parent\"><img src=\"https://colab.research.google.com/assets/colab-badge.svg\" alt=\"Open In Colab\"/></a>"
      ]
    },
    {
      "cell_type": "markdown",
      "metadata": {
        "id": "9Og6hsKhhEXg"
      },
      "source": [
        "# Validação de Risco de Crédito\n",
        "\n",
        "Para todas as instituições financeiras e também para empresários, um assunto de extrema importância (quem sabe seja até mais importante que as fraudes com cartões de crédito), é a Taxa de Inadimplência, que mede o risco de um cliente ser default.\n",
        "\n",
        "O termo default é aplicado para aqueles clientes que não cumprem com suas obrigações de um empréstimo, como financiamentos ou pagamento de dívidas, assim gerando prejuízo para a empresa ou instituição. \n",
        "\n",
        "<center><img alt=\"Consumer Finance\"  src='https://bfi.uchicago.edu/wp-content/uploads/2019/03/iStock-635987156-1600x700.jpg'></center>\n",
        "\n",
        "A Taxa de Inadimplência pode ser até mais importante que os casos de fraudes nos cartões de crédito para as instituições financeiras, devido ao fato de ser comum e legalizado, podendo atender qualquer tipo de cliente. Sendo que diariamente são aplicados vários pedidos de empréstimos nas instituições, que em alguns casos, podem ser valores bastante altos, que poderiam causar até mesmo a falência da instituição nos piores casos.\n",
        "\n",
        "Nesse caso de falência, seria um cenário ainda mais real para as empresas, que sobrevivem dos pagamentos de seus clientes, então ter uma grande taxa de inadimplentes poderia realmente \"matar\" a empresa, por não ter condições de arcar com seus custos.\n",
        "\n",
        "Por essa razão então, é compreensível o grande investimento em detecção de clientes inadimplentes por parte das instituições financeiras e empresas, sendo uma grande parte desses investimentos em modelos de Machine Learning (Aprendizado de Máquina), que conseguem traçar um perfil do cliente e determinar com base neste perfil o risco de default.\n",
        "\n",
        "Para este projeto, serão utilizados o conjunto de dados obtidos de uma competição realizada pela [Nubank](https://nubank.com.br/sobre-nos/), uma das principais instituições financeiras no uso de Inteligência Artificial e Data Science (Ciência de Dados), a fim de revelar talentos e potenciais contratações pela Fintech.\n",
        "\n",
        "Avaliando este problema de risco de default, o objetivo deste projeto é desenvolver um modelo de Machine Learning (Aprendizado de Máquina), capaz de prever se um cliente irá deixar de cumprir com suas obrigações financeiras, assim deixando de pagar a sua fatura do Cartão de Crédito.\n",
        "\n",
        "Na etapa do desenvolvimento do modelo, entraremos mais em detalhes sobre as consequências dos falsos positivos e negativos, tanto para a instituição quanto para o cliente."
      ]
    },
    {
      "cell_type": "markdown",
      "metadata": {
        "id": "YLGTHw9QCHBY"
      },
      "source": [
        "## Importando os Dados\n",
        "\n",
        "O conjunto de dados (arquivo `csv`) usado na competição está disponível para download neste [link](http://dl.dropboxusercontent.com/s/xn2a4kzf0zer0xu/acquisition_train.csv?dl=0).\n",
        "\n",
        "Antes de iniciarmos a análise exploratória dos dados, devemos importá-lo e também importar as bibliotecas que serão utilizadas neste projeto."
      ]
    },
    {
      "cell_type": "code",
      "metadata": {
        "colab": {
          "base_uri": "https://localhost:8080/",
          "height": 17
        },
        "id": "tGU3bejUnP8Q",
        "outputId": "13faf3dd-86ea-47b6-c9c2-6fbca2706a86"
      },
      "source": [
        "# Pacote que contém um grupo de bibliotecas - execute \"lazy_imports()\" para saber quais.\n",
        "!pip install pyforest -q\n",
        "import pyforest\n",
        "\n",
        "# Importando o método SimpleImputer para preencher valores ausentes\n",
        "from sklearn.impute import SimpleImputer\n",
        "\n",
        "# Importações para o modelo de Machine Learning\n",
        "!pip install scikit-plot -q\n",
        "import scikitplot as skplt\n",
        "from sklearn.model_selection import cross_val_score\n",
        "from sklearn.model_selection import StratifiedKFold\n",
        "from sklearn.model_selection import RepeatedStratifiedKFold\n",
        "from sklearn.metrics import roc_curve, roc_auc_score, precision_recall_curve, auc, make_scorer, recall_score, accuracy_score, f1_score, precision_score, confusion_matrix, classification_report\n",
        "from sklearn.pipeline import make_pipeline\n",
        "from sklearn.metrics import precision_recall_curve\n",
        "from sklearn.metrics import precision_score, recall_score\n",
        "from sklearn.model_selection import cross_val_predict\n",
        "from imblearn.combine import SMOTETomek\n",
        "!pip install category_encoders -q\n",
        "import category_encoders as ce\n",
        "from sklearn.preprocessing import StandardScaler, MinMaxScaler, LabelEncoder\n",
        "from sklearn.model_selection import GridSearchCV\n",
        "from sklearn.ensemble import VotingClassifier\n",
        "from sklearn.tree import DecisionTreeClassifier\n",
        "from sklearn.ensemble import RandomForestClassifier\n",
        "from sklearn.svm import SVC\n",
        "from xgboost import XGBClassifier\n",
        "\n",
        "# Módulo de visualização de dados\n",
        "from plotnine import *\n",
        "import plotnine\n",
        "\n",
        "# Visualização de mapas geográficos\n",
        "!pip install folium -q\n",
        "import folium\n",
        "from folium import plugins\n",
        "\n",
        "# Ignorar os alertas de atualizações\n",
        "from warnings import simplefilter\n",
        "simplefilter(action='ignore', category=FutureWarning)\n",
        "\n",
        "# Replicabilidade\n",
        "np.random.seed(25)\n",
        "\n",
        "# Importando os dados\n",
        "df_raw = pd.read_csv(\"http://dl.dropboxusercontent.com/s/xn2a4kzf0zer0xu/acquisition_train.csv?dl=0\")\n",
        "#df_raw = pd.read_csv('acquisition_train.csv')"
      ],
      "execution_count": null,
      "outputs": [
        {
          "output_type": "display_data",
          "data": {
            "application/javascript": [
              "\n",
              "        if (window._pyforest_update_imports_cell) { window._pyforest_update_imports_cell('import pandas as pd\\nimport numpy as np'); }\n",
              "    "
            ],
            "text/plain": [
              "<IPython.core.display.Javascript object>"
            ]
          },
          "metadata": {}
        },
        {
          "output_type": "display_data",
          "data": {
            "application/javascript": [
              "\n",
              "        if (window._pyforest_update_imports_cell) { window._pyforest_update_imports_cell('import pandas as pd\\nimport numpy as np'); }\n",
              "    "
            ],
            "text/plain": [
              "<IPython.core.display.Javascript object>"
            ]
          },
          "metadata": {}
        }
      ]
    },
    {
      "cell_type": "markdown",
      "metadata": {
        "id": "0RN-ZUtZFagh"
      },
      "source": [
        "# Análise Exploratória dos Dados\n",
        "\n",
        "Com o conjunto de dados importado, vamos dar início a exploração, primeiramente checando o tamanho e o tipo do dataset."
      ]
    },
    {
      "cell_type": "code",
      "metadata": {
        "colab": {
          "base_uri": "https://localhost:8080/"
        },
        "id": "wNAHGO1APPFn",
        "outputId": "3975c977-a050-439b-b731-976338036437"
      },
      "source": [
        "# Checando o tamanho do dataset\n",
        "df_raw.shape"
      ],
      "execution_count": null,
      "outputs": [
        {
          "output_type": "execute_result",
          "data": {
            "text/plain": [
              "(45000, 43)"
            ]
          },
          "metadata": {},
          "execution_count": 18
        }
      ]
    },
    {
      "cell_type": "code",
      "metadata": {
        "colab": {
          "base_uri": "https://localhost:8080/"
        },
        "id": "PsMhiVcZPh8T",
        "outputId": "b169d584-0835-4944-c379-d2c090d4d974"
      },
      "source": [
        "# Checando os tipos das variáveis\n",
        "df_raw.dtypes"
      ],
      "execution_count": null,
      "outputs": [
        {
          "output_type": "execute_result",
          "data": {
            "text/plain": [
              "ids                                                  object\n",
              "target_default                                       object\n",
              "score_1                                              object\n",
              "score_2                                              object\n",
              "score_3                                             float64\n",
              "score_4                                             float64\n",
              "score_5                                             float64\n",
              "score_6                                             float64\n",
              "risk_rate                                           float64\n",
              "last_amount_borrowed                                float64\n",
              "last_borrowed_in_months                             float64\n",
              "credit_limit                                        float64\n",
              "reason                                               object\n",
              "income                                              float64\n",
              "facebook_profile                                     object\n",
              "state                                                object\n",
              "zip                                                  object\n",
              "channel                                              object\n",
              "job_name                                             object\n",
              "real_state                                           object\n",
              "ok_since                                            float64\n",
              "n_bankruptcies                                      float64\n",
              "n_defaulted_loans                                   float64\n",
              "n_accounts                                          float64\n",
              "n_issues                                            float64\n",
              "application_time_applied                             object\n",
              "application_time_in_funnel                            int64\n",
              "email                                                object\n",
              "external_data_provider_credit_checks_last_2_year    float64\n",
              "external_data_provider_credit_checks_last_month       int64\n",
              "external_data_provider_credit_checks_last_year      float64\n",
              "external_data_provider_email_seen_before            float64\n",
              "external_data_provider_first_name                    object\n",
              "external_data_provider_fraud_score                    int64\n",
              "lat_lon                                              object\n",
              "marketing_channel                                    object\n",
              "profile_phone_number                                 object\n",
              "reported_income                                     float64\n",
              "shipping_state                                       object\n",
              "shipping_zip_code                                     int64\n",
              "profile_tags                                         object\n",
              "user_agent                                           object\n",
              "target_fraud                                         object\n",
              "dtype: object"
            ]
          },
          "metadata": {},
          "execution_count": 19
        }
      ]
    },
    {
      "cell_type": "markdown",
      "metadata": {
        "id": "u30hJneWP1Yj"
      },
      "source": [
        "Temos um dataset com 45000 entradas e 43 variáveis, sendo tipos numéricos e objetos (textos).\n",
        "\n",
        "Agora vamos checar as 5 primeiras entradas do DataFrame com os dados:\n"
      ]
    },
    {
      "cell_type": "code",
      "metadata": {
        "colab": {
          "base_uri": "https://localhost:8080/",
          "height": 623
        },
        "id": "MvwogPEyQmb1",
        "outputId": "2b240f0e-0f45-457a-d4b2-430d24cc8f16"
      },
      "source": [
        "# Checando as 5 primeiras entradas do DataFrame\n",
        "df_raw.head()"
      ],
      "execution_count": null,
      "outputs": [
        {
          "output_type": "execute_result",
          "data": {
            "text/html": [
              "<div>\n",
              "<style scoped>\n",
              "    .dataframe tbody tr th:only-of-type {\n",
              "        vertical-align: middle;\n",
              "    }\n",
              "\n",
              "    .dataframe tbody tr th {\n",
              "        vertical-align: top;\n",
              "    }\n",
              "\n",
              "    .dataframe thead th {\n",
              "        text-align: right;\n",
              "    }\n",
              "</style>\n",
              "<table border=\"1\" class=\"dataframe\">\n",
              "  <thead>\n",
              "    <tr style=\"text-align: right;\">\n",
              "      <th></th>\n",
              "      <th>ids</th>\n",
              "      <th>target_default</th>\n",
              "      <th>score_1</th>\n",
              "      <th>score_2</th>\n",
              "      <th>score_3</th>\n",
              "      <th>score_4</th>\n",
              "      <th>score_5</th>\n",
              "      <th>score_6</th>\n",
              "      <th>risk_rate</th>\n",
              "      <th>last_amount_borrowed</th>\n",
              "      <th>last_borrowed_in_months</th>\n",
              "      <th>credit_limit</th>\n",
              "      <th>reason</th>\n",
              "      <th>income</th>\n",
              "      <th>facebook_profile</th>\n",
              "      <th>state</th>\n",
              "      <th>zip</th>\n",
              "      <th>channel</th>\n",
              "      <th>job_name</th>\n",
              "      <th>real_state</th>\n",
              "      <th>ok_since</th>\n",
              "      <th>n_bankruptcies</th>\n",
              "      <th>n_defaulted_loans</th>\n",
              "      <th>n_accounts</th>\n",
              "      <th>n_issues</th>\n",
              "      <th>application_time_applied</th>\n",
              "      <th>application_time_in_funnel</th>\n",
              "      <th>email</th>\n",
              "      <th>external_data_provider_credit_checks_last_2_year</th>\n",
              "      <th>external_data_provider_credit_checks_last_month</th>\n",
              "      <th>external_data_provider_credit_checks_last_year</th>\n",
              "      <th>external_data_provider_email_seen_before</th>\n",
              "      <th>external_data_provider_first_name</th>\n",
              "      <th>external_data_provider_fraud_score</th>\n",
              "      <th>lat_lon</th>\n",
              "      <th>marketing_channel</th>\n",
              "      <th>profile_phone_number</th>\n",
              "      <th>reported_income</th>\n",
              "      <th>shipping_state</th>\n",
              "      <th>shipping_zip_code</th>\n",
              "      <th>profile_tags</th>\n",
              "      <th>user_agent</th>\n",
              "      <th>target_fraud</th>\n",
              "    </tr>\n",
              "  </thead>\n",
              "  <tbody>\n",
              "    <tr>\n",
              "      <th>0</th>\n",
              "      <td>343b7e7b-2cf8-e508-b8fd-0a0285af30aa</td>\n",
              "      <td>False</td>\n",
              "      <td>1Rk8w4Ucd5yR3KcqZzLdow==</td>\n",
              "      <td>IOVu8au3ISbo6+zmfnYwMg==</td>\n",
              "      <td>350.0</td>\n",
              "      <td>101.800832</td>\n",
              "      <td>0.259555</td>\n",
              "      <td>108.427273</td>\n",
              "      <td>0.40</td>\n",
              "      <td>25033.92</td>\n",
              "      <td>36.0</td>\n",
              "      <td>0.0</td>\n",
              "      <td>mLVIVxoGY7TUDJ1FyFoSIZi1SFcaBmO01AydRchaEiGYtU...</td>\n",
              "      <td>65014.12</td>\n",
              "      <td>True</td>\n",
              "      <td>sjJbkqJS7cXalHLBFA+EOQ==</td>\n",
              "      <td>Ernn+uVXCMq/6ARrBCcd+A==</td>\n",
              "      <td>NCqL3QBx0pscDnx3ixKwXg==</td>\n",
              "      <td>mLVIVxoGY7TUDJ1FyFoSIZi1SFcaBmO01AydRchaEiGYtU...</td>\n",
              "      <td>N5/CE7lSkAfB04hVFFwllw==</td>\n",
              "      <td>NaN</td>\n",
              "      <td>0.0</td>\n",
              "      <td>0.0</td>\n",
              "      <td>18.0</td>\n",
              "      <td>18.0</td>\n",
              "      <td>07:52:34</td>\n",
              "      <td>444</td>\n",
              "      <td>outlook.com</td>\n",
              "      <td>NaN</td>\n",
              "      <td>2</td>\n",
              "      <td>0.0</td>\n",
              "      <td>51.0</td>\n",
              "      <td>leidelaura</td>\n",
              "      <td>645</td>\n",
              "      <td>(-29.151545708122246, -51.1386461804385)</td>\n",
              "      <td>Invite-email</td>\n",
              "      <td>514-9840782</td>\n",
              "      <td>57849.0</td>\n",
              "      <td>BR-MT</td>\n",
              "      <td>17528</td>\n",
              "      <td>{'tags': ['n19', 'n8']}</td>\n",
              "      <td>Mozilla/5.0 (Linux; Android 6.0.1; SGP771 Buil...</td>\n",
              "      <td>NaN</td>\n",
              "    </tr>\n",
              "    <tr>\n",
              "      <th>1</th>\n",
              "      <td>bc2c7502-bbad-0f8c-39c3-94e881967124</td>\n",
              "      <td>False</td>\n",
              "      <td>DGCQep2AE5QRkNCshIAlFQ==</td>\n",
              "      <td>SaamrHMo23l/3TwXOWgVzw==</td>\n",
              "      <td>370.0</td>\n",
              "      <td>97.062615</td>\n",
              "      <td>0.942655</td>\n",
              "      <td>92.002546</td>\n",
              "      <td>0.24</td>\n",
              "      <td>NaN</td>\n",
              "      <td>NaN</td>\n",
              "      <td>39726.0</td>\n",
              "      <td>mLVIVxoGY7TUDJ1FyFoSIZi1SFcaBmO01AydRchaEiGYtU...</td>\n",
              "      <td>100018.91</td>\n",
              "      <td>False</td>\n",
              "      <td>xsd3ZdsI3356I3xMxZeiqQ==</td>\n",
              "      <td>rlWIXTBO+VOa34+SpGyhlQ==</td>\n",
              "      <td>NCqL3QBx0pscDnx3ixKwXg==</td>\n",
              "      <td>mLVIVxoGY7TUDJ1FyFoSIZi1SFcaBmO01AydRchaEiGYtU...</td>\n",
              "      <td>N5/CE7lSkAfB04hVFFwllw==</td>\n",
              "      <td>50.0</td>\n",
              "      <td>0.0</td>\n",
              "      <td>0.0</td>\n",
              "      <td>14.0</td>\n",
              "      <td>14.0</td>\n",
              "      <td>02:34:29</td>\n",
              "      <td>346</td>\n",
              "      <td>gmail.com</td>\n",
              "      <td>0.0</td>\n",
              "      <td>1</td>\n",
              "      <td>0.0</td>\n",
              "      <td>17.0</td>\n",
              "      <td>diocezio</td>\n",
              "      <td>243</td>\n",
              "      <td>(-19.687710705798963, -47.94151536525154)</td>\n",
              "      <td>Radio-commercial</td>\n",
              "      <td>251-3659293</td>\n",
              "      <td>4902.0</td>\n",
              "      <td>BR-RS</td>\n",
              "      <td>40933</td>\n",
              "      <td>{'tags': ['n6', 'n7', 'nim']}</td>\n",
              "      <td>Mozilla/5.0 (Linux; Android 5.0.2; SAMSUNG SM-...</td>\n",
              "      <td>NaN</td>\n",
              "    </tr>\n",
              "    <tr>\n",
              "      <th>2</th>\n",
              "      <td>669630dd-2e6a-0396-84bf-455e5009c922</td>\n",
              "      <td>True</td>\n",
              "      <td>DGCQep2AE5QRkNCshIAlFQ==</td>\n",
              "      <td>Fv28Bz0YRTVAT5kl1bAV6g==</td>\n",
              "      <td>360.0</td>\n",
              "      <td>100.027073</td>\n",
              "      <td>0.351918</td>\n",
              "      <td>112.892453</td>\n",
              "      <td>0.29</td>\n",
              "      <td>7207.92</td>\n",
              "      <td>36.0</td>\n",
              "      <td>NaN</td>\n",
              "      <td>mLVIVxoGY7TUDJ1FyFoSIZi1SFcaBmO01AydRchaEiGYtU...</td>\n",
              "      <td>65023.65</td>\n",
              "      <td>NaN</td>\n",
              "      <td>Ygq6MsM98oC8yceExr69Ig==</td>\n",
              "      <td>PjTIDfJsK0DKL9fO7vuW2g==</td>\n",
              "      <td>NCqL3QBx0pscDnx3ixKwXg==</td>\n",
              "      <td>mLVIVxoGY7TUDJ1FyFoSIZi1SFcaBmO01AydRchaEiGYtU...</td>\n",
              "      <td>n+xK9CfX0bCn77lClTWviw==</td>\n",
              "      <td>NaN</td>\n",
              "      <td>0.0</td>\n",
              "      <td>0.0</td>\n",
              "      <td>10.0</td>\n",
              "      <td>NaN</td>\n",
              "      <td>00:60:02</td>\n",
              "      <td>6</td>\n",
              "      <td>gmail.com</td>\n",
              "      <td>NaN</td>\n",
              "      <td>2</td>\n",
              "      <td>NaN</td>\n",
              "      <td>9.0</td>\n",
              "      <td>veralucia</td>\n",
              "      <td>65</td>\n",
              "      <td>(-28.748023890412284, -51.867279334353995)</td>\n",
              "      <td>Waiting-list</td>\n",
              "      <td>230-6097993</td>\n",
              "      <td>163679.0</td>\n",
              "      <td>BR-RR</td>\n",
              "      <td>50985</td>\n",
              "      <td>{'tags': ['n0', 'n17', 'nim', 'da']}</td>\n",
              "      <td>Mozilla/5.0 (Linux; Android 6.0.1; SGP771 Buil...</td>\n",
              "      <td>NaN</td>\n",
              "    </tr>\n",
              "    <tr>\n",
              "      <th>3</th>\n",
              "      <td>d235609e-b6cb-0ccc-a329-d4f12e7ebdc1</td>\n",
              "      <td>False</td>\n",
              "      <td>1Rk8w4Ucd5yR3KcqZzLdow==</td>\n",
              "      <td>dCm9hFKfdRm7ej3jW+gyxw==</td>\n",
              "      <td>510.0</td>\n",
              "      <td>101.599485</td>\n",
              "      <td>0.987673</td>\n",
              "      <td>94.902491</td>\n",
              "      <td>0.32</td>\n",
              "      <td>NaN</td>\n",
              "      <td>NaN</td>\n",
              "      <td>54591.0</td>\n",
              "      <td>mLVIVxoGY7TUDJ1FyFoSIZi1SFcaBmO01AydRchaEiGYtU...</td>\n",
              "      <td>68830.01</td>\n",
              "      <td>False</td>\n",
              "      <td>KET/Pmr6rHp1RJ/P9ymztw==</td>\n",
              "      <td>Cc/kWDLQH3dpHv5HU+pLVA==</td>\n",
              "      <td>NCqL3QBx0pscDnx3ixKwXg==</td>\n",
              "      <td>mLVIVxoGY7TUDJ1FyFoSIZi1SFcaBmO01AydRchaEiE56f...</td>\n",
              "      <td>n+xK9CfX0bCn77lClTWviw==</td>\n",
              "      <td>NaN</td>\n",
              "      <td>1.0</td>\n",
              "      <td>0.0</td>\n",
              "      <td>19.0</td>\n",
              "      <td>19.0</td>\n",
              "      <td>11:20:49</td>\n",
              "      <td>406</td>\n",
              "      <td>spgov.com</td>\n",
              "      <td>NaN</td>\n",
              "      <td>3</td>\n",
              "      <td>NaN</td>\n",
              "      <td>38.0</td>\n",
              "      <td>venice</td>\n",
              "      <td>815</td>\n",
              "      <td>(-17.520650158450454, -39.75801139933186)</td>\n",
              "      <td>Waiting-list</td>\n",
              "      <td>261-3543751</td>\n",
              "      <td>1086.0</td>\n",
              "      <td>BR-RN</td>\n",
              "      <td>37825</td>\n",
              "      <td>{'tags': ['n4']}</td>\n",
              "      <td>Mozilla/5.0 (Linux; Android 6.0; HTC One X10 B...</td>\n",
              "      <td>NaN</td>\n",
              "    </tr>\n",
              "    <tr>\n",
              "      <th>4</th>\n",
              "      <td>9e0eb880-e8f4-3faa-67d8-f5cdd2b3932b</td>\n",
              "      <td>False</td>\n",
              "      <td>8k8UDR4Yx0qasAjkGrUZLw==</td>\n",
              "      <td>+CxEO4w7jv3QPI/BQbyqAA==</td>\n",
              "      <td>500.0</td>\n",
              "      <td>98.474289</td>\n",
              "      <td>0.532539</td>\n",
              "      <td>118.126207</td>\n",
              "      <td>0.18</td>\n",
              "      <td>NaN</td>\n",
              "      <td>NaN</td>\n",
              "      <td>NaN</td>\n",
              "      <td>mLVIVxoGY7TUDJ1FyFoSIZi1SFcaBmO01AydRchaEiGYtU...</td>\n",
              "      <td>60011.29</td>\n",
              "      <td>True</td>\n",
              "      <td>xsd3ZdsI3356I3xMxZeiqQ==</td>\n",
              "      <td>i036nmJ7rfxo+3EvCD7Jnw==</td>\n",
              "      <td>NCqL3QBx0pscDnx3ixKwXg==</td>\n",
              "      <td>mLVIVxoGY7TUDJ1FyFoSIZi1SFcaBmO01AydRchaEiGYtU...</td>\n",
              "      <td>n+xK9CfX0bCn77lClTWviw==</td>\n",
              "      <td>NaN</td>\n",
              "      <td>0.0</td>\n",
              "      <td>0.0</td>\n",
              "      <td>11.0</td>\n",
              "      <td>NaN</td>\n",
              "      <td>13:39:03</td>\n",
              "      <td>240</td>\n",
              "      <td>gmail.com</td>\n",
              "      <td>0.0</td>\n",
              "      <td>2</td>\n",
              "      <td>1.0</td>\n",
              "      <td>46.0</td>\n",
              "      <td>darzisa</td>\n",
              "      <td>320</td>\n",
              "      <td>(-16.574259446978008, -39.90990074785962)</td>\n",
              "      <td>Invite-email</td>\n",
              "      <td>102-3660162</td>\n",
              "      <td>198618.0</td>\n",
              "      <td>BR-MT</td>\n",
              "      <td>52827</td>\n",
              "      <td>{'tags': ['pro+aty', 'n19', 'da', 'b19']}</td>\n",
              "      <td>Mozilla/5.0 (Linux; Android 7.0; Pixel C Build...</td>\n",
              "      <td>NaN</td>\n",
              "    </tr>\n",
              "  </tbody>\n",
              "</table>\n",
              "</div>"
            ],
            "text/plain": [
              "                                    ids  ... target_fraud\n",
              "0  343b7e7b-2cf8-e508-b8fd-0a0285af30aa  ...          NaN\n",
              "1  bc2c7502-bbad-0f8c-39c3-94e881967124  ...          NaN\n",
              "2  669630dd-2e6a-0396-84bf-455e5009c922  ...          NaN\n",
              "3  d235609e-b6cb-0ccc-a329-d4f12e7ebdc1  ...          NaN\n",
              "4  9e0eb880-e8f4-3faa-67d8-f5cdd2b3932b  ...          NaN\n",
              "\n",
              "[5 rows x 43 columns]"
            ]
          },
          "metadata": {},
          "execution_count": 20
        }
      ]
    },
    {
      "cell_type": "markdown",
      "metadata": {
        "id": "rRKFJyenQ_L0"
      },
      "source": [
        "Observando o DataFrame acima temos algumas informações importantes:\n",
        "* Existem variáveis que não fornecem nenhuma informação relevante; (Ex: `ids`)\n",
        "* A variável alvo para o modelo é `target_default\t`;\n",
        "* Existem valores ausentes(NaN) que deverão ser tratados; (Ex: `last_amount_borrowed`)\n",
        "* Existem variáveis que foram 'mascaradas' por alguma razão, como privacidade; (Ex: `score_1`, `score_2`,`job_name`, entre outras)\n",
        "* Existe uma variável que contêm coordenadas longitudinais e latitudinais; (`lat_lon`)\n",
        "* Existe uma variável referente ao tempo; (`application_time_applied`)\n",
        "* Existe uma variável que serviria de alvo para outro modelo, para detecção de fraudes. (`target_fraud`)\n",
        "\n",
        "Agora em busca de mais insights sobre os dados, vamos checar o resumo estatístico:\n"
      ]
    },
    {
      "cell_type": "code",
      "metadata": {
        "colab": {
          "base_uri": "https://localhost:8080/",
          "height": 319
        },
        "id": "OL099-M-WwPk",
        "outputId": "323e6b84-9c35-475e-804d-fe87b81e2fd5"
      },
      "source": [
        "# Checando o resumo estatístico\n",
        "df_raw.describe()"
      ],
      "execution_count": null,
      "outputs": [
        {
          "output_type": "execute_result",
          "data": {
            "text/html": [
              "<div>\n",
              "<style scoped>\n",
              "    .dataframe tbody tr th:only-of-type {\n",
              "        vertical-align: middle;\n",
              "    }\n",
              "\n",
              "    .dataframe tbody tr th {\n",
              "        vertical-align: top;\n",
              "    }\n",
              "\n",
              "    .dataframe thead th {\n",
              "        text-align: right;\n",
              "    }\n",
              "</style>\n",
              "<table border=\"1\" class=\"dataframe\">\n",
              "  <thead>\n",
              "    <tr style=\"text-align: right;\">\n",
              "      <th></th>\n",
              "      <th>score_3</th>\n",
              "      <th>score_4</th>\n",
              "      <th>score_5</th>\n",
              "      <th>score_6</th>\n",
              "      <th>risk_rate</th>\n",
              "      <th>last_amount_borrowed</th>\n",
              "      <th>last_borrowed_in_months</th>\n",
              "      <th>credit_limit</th>\n",
              "      <th>income</th>\n",
              "      <th>ok_since</th>\n",
              "      <th>n_bankruptcies</th>\n",
              "      <th>n_defaulted_loans</th>\n",
              "      <th>n_accounts</th>\n",
              "      <th>n_issues</th>\n",
              "      <th>application_time_in_funnel</th>\n",
              "      <th>external_data_provider_credit_checks_last_2_year</th>\n",
              "      <th>external_data_provider_credit_checks_last_month</th>\n",
              "      <th>external_data_provider_credit_checks_last_year</th>\n",
              "      <th>external_data_provider_email_seen_before</th>\n",
              "      <th>external_data_provider_fraud_score</th>\n",
              "      <th>reported_income</th>\n",
              "      <th>shipping_zip_code</th>\n",
              "    </tr>\n",
              "  </thead>\n",
              "  <tbody>\n",
              "    <tr>\n",
              "      <th>count</th>\n",
              "      <td>44438.000000</td>\n",
              "      <td>45000.000000</td>\n",
              "      <td>45000.000000</td>\n",
              "      <td>45000.000000</td>\n",
              "      <td>44438.000000</td>\n",
              "      <td>15044.000000</td>\n",
              "      <td>15044.000000</td>\n",
              "      <td>31200.000000</td>\n",
              "      <td>4.443800e+04</td>\n",
              "      <td>18455.000000</td>\n",
              "      <td>44303.000000</td>\n",
              "      <td>44426.000000</td>\n",
              "      <td>44438.000000</td>\n",
              "      <td>33456.000000</td>\n",
              "      <td>45000.000000</td>\n",
              "      <td>22372.0</td>\n",
              "      <td>45000.000000</td>\n",
              "      <td>29876.000000</td>\n",
              "      <td>42767.000000</td>\n",
              "      <td>45000.000000</td>\n",
              "      <td>45000.00</td>\n",
              "      <td>45000.000000</td>\n",
              "    </tr>\n",
              "    <tr>\n",
              "      <th>mean</th>\n",
              "      <td>347.983258</td>\n",
              "      <td>100.006797</td>\n",
              "      <td>0.500037</td>\n",
              "      <td>99.925228</td>\n",
              "      <td>0.296717</td>\n",
              "      <td>13782.341991</td>\n",
              "      <td>41.763893</td>\n",
              "      <td>34381.951154</td>\n",
              "      <td>7.160739e+04</td>\n",
              "      <td>35.069737</td>\n",
              "      <td>0.076270</td>\n",
              "      <td>0.004569</td>\n",
              "      <td>10.696701</td>\n",
              "      <td>11.068119</td>\n",
              "      <td>247.537000</td>\n",
              "      <td>0.0</td>\n",
              "      <td>1.501067</td>\n",
              "      <td>0.503381</td>\n",
              "      <td>12.534781</td>\n",
              "      <td>500.399800</td>\n",
              "      <td>inf</td>\n",
              "      <td>33923.514844</td>\n",
              "    </tr>\n",
              "    <tr>\n",
              "      <th>std</th>\n",
              "      <td>110.429165</td>\n",
              "      <td>3.178080</td>\n",
              "      <td>0.288326</td>\n",
              "      <td>10.016549</td>\n",
              "      <td>0.101933</td>\n",
              "      <td>8077.571933</td>\n",
              "      <td>10.252705</td>\n",
              "      <td>36586.982218</td>\n",
              "      <td>5.185897e+04</td>\n",
              "      <td>21.663194</td>\n",
              "      <td>0.274052</td>\n",
              "      <td>0.079400</td>\n",
              "      <td>4.592463</td>\n",
              "      <td>4.595501</td>\n",
              "      <td>146.118398</td>\n",
              "      <td>0.0</td>\n",
              "      <td>1.114941</td>\n",
              "      <td>0.499997</td>\n",
              "      <td>126.530487</td>\n",
              "      <td>287.968873</td>\n",
              "      <td>NaN</td>\n",
              "      <td>12692.406382</td>\n",
              "    </tr>\n",
              "    <tr>\n",
              "      <th>min</th>\n",
              "      <td>0.000000</td>\n",
              "      <td>86.191572</td>\n",
              "      <td>0.000035</td>\n",
              "      <td>60.663039</td>\n",
              "      <td>0.000000</td>\n",
              "      <td>1005.180000</td>\n",
              "      <td>36.000000</td>\n",
              "      <td>0.000000</td>\n",
              "      <td>4.821180e+03</td>\n",
              "      <td>0.000000</td>\n",
              "      <td>0.000000</td>\n",
              "      <td>0.000000</td>\n",
              "      <td>0.000000</td>\n",
              "      <td>0.000000</td>\n",
              "      <td>0.000000</td>\n",
              "      <td>0.0</td>\n",
              "      <td>0.000000</td>\n",
              "      <td>0.000000</td>\n",
              "      <td>-999.000000</td>\n",
              "      <td>0.000000</td>\n",
              "      <td>403.00</td>\n",
              "      <td>12001.000000</td>\n",
              "    </tr>\n",
              "    <tr>\n",
              "      <th>25%</th>\n",
              "      <td>270.000000</td>\n",
              "      <td>97.867036</td>\n",
              "      <td>0.252150</td>\n",
              "      <td>93.198353</td>\n",
              "      <td>0.220000</td>\n",
              "      <td>7519.502500</td>\n",
              "      <td>36.000000</td>\n",
              "      <td>10000.000000</td>\n",
              "      <td>4.501078e+04</td>\n",
              "      <td>17.000000</td>\n",
              "      <td>0.000000</td>\n",
              "      <td>0.000000</td>\n",
              "      <td>7.000000</td>\n",
              "      <td>8.000000</td>\n",
              "      <td>120.000000</td>\n",
              "      <td>0.0</td>\n",
              "      <td>1.000000</td>\n",
              "      <td>0.000000</td>\n",
              "      <td>11.000000</td>\n",
              "      <td>252.000000</td>\n",
              "      <td>50948.25</td>\n",
              "      <td>22937.000000</td>\n",
              "    </tr>\n",
              "    <tr>\n",
              "      <th>50%</th>\n",
              "      <td>340.000000</td>\n",
              "      <td>100.018900</td>\n",
              "      <td>0.500753</td>\n",
              "      <td>99.974796</td>\n",
              "      <td>0.290000</td>\n",
              "      <td>12023.465000</td>\n",
              "      <td>36.000000</td>\n",
              "      <td>25647.000000</td>\n",
              "      <td>6.126676e+04</td>\n",
              "      <td>32.000000</td>\n",
              "      <td>0.000000</td>\n",
              "      <td>0.000000</td>\n",
              "      <td>10.000000</td>\n",
              "      <td>10.000000</td>\n",
              "      <td>248.000000</td>\n",
              "      <td>0.0</td>\n",
              "      <td>2.000000</td>\n",
              "      <td>1.000000</td>\n",
              "      <td>27.000000</td>\n",
              "      <td>503.000000</td>\n",
              "      <td>101779.00</td>\n",
              "      <td>33896.000000</td>\n",
              "    </tr>\n",
              "    <tr>\n",
              "      <th>75%</th>\n",
              "      <td>420.000000</td>\n",
              "      <td>102.141797</td>\n",
              "      <td>0.748816</td>\n",
              "      <td>106.640275</td>\n",
              "      <td>0.360000</td>\n",
              "      <td>19220.270000</td>\n",
              "      <td>36.000000</td>\n",
              "      <td>47086.750000</td>\n",
              "      <td>8.601923e+04</td>\n",
              "      <td>50.000000</td>\n",
              "      <td>0.000000</td>\n",
              "      <td>0.000000</td>\n",
              "      <td>13.000000</td>\n",
              "      <td>14.000000</td>\n",
              "      <td>375.000000</td>\n",
              "      <td>0.0</td>\n",
              "      <td>2.000000</td>\n",
              "      <td>1.000000</td>\n",
              "      <td>43.000000</td>\n",
              "      <td>747.000000</td>\n",
              "      <td>151337.25</td>\n",
              "      <td>44910.000000</td>\n",
              "    </tr>\n",
              "    <tr>\n",
              "      <th>max</th>\n",
              "      <td>990.000000</td>\n",
              "      <td>113.978234</td>\n",
              "      <td>0.999973</td>\n",
              "      <td>142.192400</td>\n",
              "      <td>0.900000</td>\n",
              "      <td>35059.600000</td>\n",
              "      <td>60.000000</td>\n",
              "      <td>448269.000000</td>\n",
              "      <td>5.000028e+06</td>\n",
              "      <td>141.000000</td>\n",
              "      <td>5.000000</td>\n",
              "      <td>5.000000</td>\n",
              "      <td>49.000000</td>\n",
              "      <td>49.000000</td>\n",
              "      <td>500.000000</td>\n",
              "      <td>0.0</td>\n",
              "      <td>3.000000</td>\n",
              "      <td>1.000000</td>\n",
              "      <td>59.000000</td>\n",
              "      <td>1000.000000</td>\n",
              "      <td>inf</td>\n",
              "      <td>56000.000000</td>\n",
              "    </tr>\n",
              "  </tbody>\n",
              "</table>\n",
              "</div>"
            ],
            "text/plain": [
              "            score_3       score_4  ...  reported_income  shipping_zip_code\n",
              "count  44438.000000  45000.000000  ...         45000.00       45000.000000\n",
              "mean     347.983258    100.006797  ...              inf       33923.514844\n",
              "std      110.429165      3.178080  ...              NaN       12692.406382\n",
              "min        0.000000     86.191572  ...           403.00       12001.000000\n",
              "25%      270.000000     97.867036  ...         50948.25       22937.000000\n",
              "50%      340.000000    100.018900  ...        101779.00       33896.000000\n",
              "75%      420.000000    102.141797  ...        151337.25       44910.000000\n",
              "max      990.000000    113.978234  ...              inf       56000.000000\n",
              "\n",
              "[8 rows x 22 columns]"
            ]
          },
          "metadata": {},
          "execution_count": 21
        }
      ]
    },
    {
      "cell_type": "markdown",
      "metadata": {
        "id": "NlTucHaVXK8k"
      },
      "source": [
        "Analisando o resumo estatístico, temos:\n",
        "* Existe uma grande discrepância na escala dos dados; (Ex: `score_3` e `last_amount_borrowed`)\n",
        "* Existe uma variável sem informações, com valores máximos, mínimos e desvio-padrão iguais a zero; (`external_data_provider_credit_checks_last_2_year`)\n",
        "* Existe uma variável com valores mínimos negativos, sendo -999. (`external_data_provider_email_seen_before`)\n",
        "* Existem variáveis que aparentam ter a presença de outliers;\n",
        "* A variável `reported_income` possui valores do tipo `inf`, para prevenir sua influência no modelo, vamos ter que converter para `NaN`.\n",
        "\n",
        "Agora juntando os insights das primeiras entradas do DataFrame e do resumo estatístico,  já podemos estabelecer a necessidade de passarmos pelas etapas de tratamento dos dados:\n",
        "* Remoção de variáveis sem informações relevantes;\n",
        "* Substituição de valores em algumas variáveis por `NaN`.\n",
        "* Tratamento dos dados ausentes;\n",
        "* Tratamento de outliers;\n",
        "* Feature Engineering; (Transformar algumas variáveis em binárias e categóricas, e se possível, criar novas variáveis relevantes)\n",
        "* Feature Scaling. (Colocar as variáveis na mesma escala)\n",
        "\n",
        "\n",
        "Esta etapa de análise exploratória superficial dos dados é bastante importante e como visto, bastante informativa, porém vale lembrar que estes insights obtidos, preveem a necessidade de passarmos por algumas etapas para elevar a qualidade dos dados, mas não mostram todas que serão necessárias, uma vez que deveremos analisar mais a fundo os dados e determinar a necessidade de novas etapas, como por exemplo, se será necessário fazer um balanceamento dos dados.\n",
        "\n",
        "Outra informação importante com essa análise exploratória é que podemos extrair alguns insights das variáveis `lat_lon` e `application_time_applied`.\n",
        "\n",
        "Antes de entrarmos nas etapas de preparação dos dados para o modelo, vamos extrair os insights dessas variáveis:"
      ]
    },
    {
      "cell_type": "code",
      "metadata": {
        "id": "bgHJPbz-D92N",
        "colab": {
          "base_uri": "https://localhost:8080/",
          "height": 205
        },
        "outputId": "9695a4be-48f2-4f5b-fbd8-cc8a4bda4801"
      },
      "source": [
        "# Criando um DataFrame apenas para essas variáveis\n",
        "df_local = df_raw[['lat_lon','application_time_applied']]\n",
        "\n",
        "# Checando as primeiras entradas do novo DataFrame\n",
        "df_local.head()"
      ],
      "execution_count": null,
      "outputs": [
        {
          "output_type": "execute_result",
          "data": {
            "text/html": [
              "<div>\n",
              "<style scoped>\n",
              "    .dataframe tbody tr th:only-of-type {\n",
              "        vertical-align: middle;\n",
              "    }\n",
              "\n",
              "    .dataframe tbody tr th {\n",
              "        vertical-align: top;\n",
              "    }\n",
              "\n",
              "    .dataframe thead th {\n",
              "        text-align: right;\n",
              "    }\n",
              "</style>\n",
              "<table border=\"1\" class=\"dataframe\">\n",
              "  <thead>\n",
              "    <tr style=\"text-align: right;\">\n",
              "      <th></th>\n",
              "      <th>lat_lon</th>\n",
              "      <th>application_time_applied</th>\n",
              "    </tr>\n",
              "  </thead>\n",
              "  <tbody>\n",
              "    <tr>\n",
              "      <th>0</th>\n",
              "      <td>(-29.151545708122246, -51.1386461804385)</td>\n",
              "      <td>07:52:34</td>\n",
              "    </tr>\n",
              "    <tr>\n",
              "      <th>1</th>\n",
              "      <td>(-19.687710705798963, -47.94151536525154)</td>\n",
              "      <td>02:34:29</td>\n",
              "    </tr>\n",
              "    <tr>\n",
              "      <th>2</th>\n",
              "      <td>(-28.748023890412284, -51.867279334353995)</td>\n",
              "      <td>00:60:02</td>\n",
              "    </tr>\n",
              "    <tr>\n",
              "      <th>3</th>\n",
              "      <td>(-17.520650158450454, -39.75801139933186)</td>\n",
              "      <td>11:20:49</td>\n",
              "    </tr>\n",
              "    <tr>\n",
              "      <th>4</th>\n",
              "      <td>(-16.574259446978008, -39.90990074785962)</td>\n",
              "      <td>13:39:03</td>\n",
              "    </tr>\n",
              "  </tbody>\n",
              "</table>\n",
              "</div>"
            ],
            "text/plain": [
              "                                      lat_lon application_time_applied\n",
              "0    (-29.151545708122246, -51.1386461804385)                 07:52:34\n",
              "1   (-19.687710705798963, -47.94151536525154)                 02:34:29\n",
              "2  (-28.748023890412284, -51.867279334353995)                 00:60:02\n",
              "3   (-17.520650158450454, -39.75801139933186)                 11:20:49\n",
              "4   (-16.574259446978008, -39.90990074785962)                 13:39:03"
            ]
          },
          "metadata": {},
          "execution_count": 22
        }
      ]
    },
    {
      "cell_type": "markdown",
      "metadata": {
        "id": "AmNqFC8N_o2i"
      },
      "source": [
        "Vamos ver se há dados ausentes no DataFrame, e caso tenha, vamos eliminar as linhas correspondentes:"
      ]
    },
    {
      "cell_type": "code",
      "metadata": {
        "colab": {
          "base_uri": "https://localhost:8080/"
        },
        "id": "ky4EtkPC_0jS",
        "outputId": "4a785fbb-3b06-46c9-cf7f-f559496307b8"
      },
      "source": [
        "# Checando a quantidade de dados ausentes do DataFrame\n",
        "df_local.isnull().sum()"
      ],
      "execution_count": null,
      "outputs": [
        {
          "output_type": "execute_result",
          "data": {
            "text/plain": [
              "lat_lon                     1363\n",
              "application_time_applied       0\n",
              "dtype: int64"
            ]
          },
          "metadata": {},
          "execution_count": 23
        }
      ]
    },
    {
      "cell_type": "markdown",
      "metadata": {
        "id": "ityR2cRNADgv"
      },
      "source": [
        "Vemos que a variável `lat_lon` possui 1363 entradas nulas, como não afetará as informações para o restante do projeto, vamos removê-las:"
      ]
    },
    {
      "cell_type": "code",
      "metadata": {
        "colab": {
          "base_uri": "https://localhost:8080/"
        },
        "id": "vpNGyv1-AXua",
        "outputId": "4c38a264-cd6a-4968-ca6b-0f8d6e5fd261"
      },
      "source": [
        "# Copiando o DataFrame\n",
        "df_local_clean = df_local.copy()\n",
        "\n",
        "# Removendo as entradas nulas\n",
        "df_local_clean.dropna(subset=['lat_lon'], inplace=True)\n",
        "\n",
        "# Checando se houve as remoções\n",
        "df_local_clean.isnull().sum()"
      ],
      "execution_count": null,
      "outputs": [
        {
          "output_type": "execute_result",
          "data": {
            "text/plain": [
              "lat_lon                     0\n",
              "application_time_applied    0\n",
              "dtype: int64"
            ]
          },
          "metadata": {},
          "execution_count": 24
        }
      ]
    },
    {
      "cell_type": "markdown",
      "metadata": {
        "id": "Tx52efuh8THr"
      },
      "source": [
        "Como vimos, a variável `application_time_applied` se refere ao tempo, em horas, porém de forma contínua, tendo algumas entradas, mais de 24 horas. Desse modo, irei assumir que esta variável representa o tempo de resposta para o pedido do cliente.\n",
        "\n",
        "Como temos tempos de espera acima de um dia, vamos criar uma coluna chama `reply_time` (tempo de resposta) com apenas os valores referentes à hora:\n",
        "\n"
      ]
    },
    {
      "cell_type": "code",
      "metadata": {
        "colab": {
          "base_uri": "https://localhost:8080/",
          "height": 205
        },
        "id": "ujIo0RznaYA8",
        "outputId": "c096d222-0204-4fdf-830e-07a877b4fdcb"
      },
      "source": [
        "# Fazendo a separação entre hora:minuto:segundo\n",
        "horas = df_local_clean['application_time_applied'].str.split(\":\", expand = True)\n",
        "\n",
        "# Criando uma nova variável chamada Tempo de Resposta com as horas\n",
        "df_local_clean['reply_time'] = horas[0]\n",
        "\n",
        "# Removendo a variável application_time_applied antiga\n",
        "df_local_clean.drop(columns='application_time_applied', inplace=True)\n",
        "\n",
        "# Convertendo a nova coluna para o tipo numérico\n",
        "df_local_clean['reply_time'] = df_local_clean['reply_time'].astype(int)\n",
        "\n",
        "# Checando as primeiras entradas\n",
        "df_local_clean.head()"
      ],
      "execution_count": null,
      "outputs": [
        {
          "output_type": "execute_result",
          "data": {
            "text/html": [
              "<div>\n",
              "<style scoped>\n",
              "    .dataframe tbody tr th:only-of-type {\n",
              "        vertical-align: middle;\n",
              "    }\n",
              "\n",
              "    .dataframe tbody tr th {\n",
              "        vertical-align: top;\n",
              "    }\n",
              "\n",
              "    .dataframe thead th {\n",
              "        text-align: right;\n",
              "    }\n",
              "</style>\n",
              "<table border=\"1\" class=\"dataframe\">\n",
              "  <thead>\n",
              "    <tr style=\"text-align: right;\">\n",
              "      <th></th>\n",
              "      <th>lat_lon</th>\n",
              "      <th>reply_time</th>\n",
              "    </tr>\n",
              "  </thead>\n",
              "  <tbody>\n",
              "    <tr>\n",
              "      <th>0</th>\n",
              "      <td>(-29.151545708122246, -51.1386461804385)</td>\n",
              "      <td>7</td>\n",
              "    </tr>\n",
              "    <tr>\n",
              "      <th>1</th>\n",
              "      <td>(-19.687710705798963, -47.94151536525154)</td>\n",
              "      <td>2</td>\n",
              "    </tr>\n",
              "    <tr>\n",
              "      <th>2</th>\n",
              "      <td>(-28.748023890412284, -51.867279334353995)</td>\n",
              "      <td>0</td>\n",
              "    </tr>\n",
              "    <tr>\n",
              "      <th>3</th>\n",
              "      <td>(-17.520650158450454, -39.75801139933186)</td>\n",
              "      <td>11</td>\n",
              "    </tr>\n",
              "    <tr>\n",
              "      <th>4</th>\n",
              "      <td>(-16.574259446978008, -39.90990074785962)</td>\n",
              "      <td>13</td>\n",
              "    </tr>\n",
              "  </tbody>\n",
              "</table>\n",
              "</div>"
            ],
            "text/plain": [
              "                                      lat_lon  reply_time\n",
              "0    (-29.151545708122246, -51.1386461804385)           7\n",
              "1   (-19.687710705798963, -47.94151536525154)           2\n",
              "2  (-28.748023890412284, -51.867279334353995)           0\n",
              "3   (-17.520650158450454, -39.75801139933186)          11\n",
              "4   (-16.574259446978008, -39.90990074785962)          13"
            ]
          },
          "metadata": {},
          "execution_count": 25
        }
      ]
    },
    {
      "cell_type": "markdown",
      "metadata": {
        "id": "EAJbdn9udsGT"
      },
      "source": [
        "Também podemos aplicar as separações para a variável `lat_lon`.\n",
        "\n",
        "Para `lat_lon`, iremos separar em duas novas variáveis, uma com as latitudes e a outra com as longitudes, assim poderemos fazer um plot dessas coordenadas."
      ]
    },
    {
      "cell_type": "code",
      "metadata": {
        "colab": {
          "base_uri": "https://localhost:8080/",
          "height": 205
        },
        "id": "kWus4Dleepwo",
        "outputId": "0cc49f24-002f-4159-f8b0-1c43c8273006"
      },
      "source": [
        "# Removendo os caracteres especiaus '()' da variável\n",
        "df_local_clean['lat_lon'] = df_local_clean['lat_lon'].str.replace('[()]',\"\")\n",
        "\n",
        "# Fazendo a separação das coordenadas\n",
        "coordenadas = df_local_clean['lat_lon'].str.split(\",\", expand=True)\n",
        "\n",
        "# Criando novas colunas Latitude e Longitude\n",
        "df_local_clean['latitude'] = coordenadas[0]\n",
        "df_local_clean['longitude'] = coordenadas[1]\n",
        "\n",
        "# Convertendo as novas colunas para o tipo float (decimal)\n",
        "df_local_clean['latitude'] = df_local_clean['latitude'].astype(float)\n",
        "df_local_clean['longitude'] = df_local_clean['longitude'].astype(float)\n",
        "\n",
        "# Removendo a variável lat_lon antiga\n",
        "df_local_clean.drop(columns='lat_lon', inplace=True)\n",
        "\n",
        "# Checando as primeiras entradas\n",
        "df_local_clean.head()"
      ],
      "execution_count": null,
      "outputs": [
        {
          "output_type": "execute_result",
          "data": {
            "text/html": [
              "<div>\n",
              "<style scoped>\n",
              "    .dataframe tbody tr th:only-of-type {\n",
              "        vertical-align: middle;\n",
              "    }\n",
              "\n",
              "    .dataframe tbody tr th {\n",
              "        vertical-align: top;\n",
              "    }\n",
              "\n",
              "    .dataframe thead th {\n",
              "        text-align: right;\n",
              "    }\n",
              "</style>\n",
              "<table border=\"1\" class=\"dataframe\">\n",
              "  <thead>\n",
              "    <tr style=\"text-align: right;\">\n",
              "      <th></th>\n",
              "      <th>reply_time</th>\n",
              "      <th>latitude</th>\n",
              "      <th>longitude</th>\n",
              "    </tr>\n",
              "  </thead>\n",
              "  <tbody>\n",
              "    <tr>\n",
              "      <th>0</th>\n",
              "      <td>7</td>\n",
              "      <td>-29.151546</td>\n",
              "      <td>-51.138646</td>\n",
              "    </tr>\n",
              "    <tr>\n",
              "      <th>1</th>\n",
              "      <td>2</td>\n",
              "      <td>-19.687711</td>\n",
              "      <td>-47.941515</td>\n",
              "    </tr>\n",
              "    <tr>\n",
              "      <th>2</th>\n",
              "      <td>0</td>\n",
              "      <td>-28.748024</td>\n",
              "      <td>-51.867279</td>\n",
              "    </tr>\n",
              "    <tr>\n",
              "      <th>3</th>\n",
              "      <td>11</td>\n",
              "      <td>-17.520650</td>\n",
              "      <td>-39.758011</td>\n",
              "    </tr>\n",
              "    <tr>\n",
              "      <th>4</th>\n",
              "      <td>13</td>\n",
              "      <td>-16.574259</td>\n",
              "      <td>-39.909901</td>\n",
              "    </tr>\n",
              "  </tbody>\n",
              "</table>\n",
              "</div>"
            ],
            "text/plain": [
              "   reply_time   latitude  longitude\n",
              "0           7 -29.151546 -51.138646\n",
              "1           2 -19.687711 -47.941515\n",
              "2           0 -28.748024 -51.867279\n",
              "3          11 -17.520650 -39.758011\n",
              "4          13 -16.574259 -39.909901"
            ]
          },
          "metadata": {},
          "execution_count": 26
        }
      ]
    },
    {
      "cell_type": "code",
      "metadata": {
        "colab": {
          "base_uri": "https://localhost:8080/"
        },
        "id": "P_GeWbnppoAX",
        "outputId": "b6f150c7-6ae9-46a4-eb84-1deead751804"
      },
      "source": [
        "# Checando se houve as conversões texto(object) para inteiro(int) e decimal(float)\n",
        "df_local_clean.dtypes"
      ],
      "execution_count": null,
      "outputs": [
        {
          "output_type": "execute_result",
          "data": {
            "text/plain": [
              "reply_time      int64\n",
              "latitude      float64\n",
              "longitude     float64\n",
              "dtype: object"
            ]
          },
          "metadata": {},
          "execution_count": 27
        }
      ]
    },
    {
      "cell_type": "markdown",
      "metadata": {
        "id": "If0mqH-D1HFF"
      },
      "source": [
        "Com os dados deste DataFrame agora tratados, podemos realizar a busca por informações úteis.\n",
        "\n",
        "Vamos obter qual é o tempo médio de espera por respostas da instituição:"
      ]
    },
    {
      "cell_type": "code",
      "metadata": {
        "colab": {
          "base_uri": "https://localhost:8080/"
        },
        "id": "YVL__XXZ1mU0",
        "outputId": "59cb6c09-bd90-4903-fa24-a4a76e6d0202"
      },
      "source": [
        "# Obtendo a média do tempo de espera\n",
        "print(\"Tempo médio de resposta da empresa em todo o país é de: {:.2f} horas\".format(df_local_clean['reply_time'].mean()))"
      ],
      "execution_count": null,
      "outputs": [
        {
          "output_type": "stream",
          "text": [
            "Tempo médio de resposta da empresa em todo o país é de: 11.57 horas\n"
          ],
          "name": "stdout"
        }
      ]
    },
    {
      "cell_type": "markdown",
      "metadata": {
        "id": "7g9vXcCn6157"
      },
      "source": [
        "Temos que o tempo médio para receber a resposta da empresa é de 11 horas à 12 horas, analisando todos os registros.\n",
        "\n",
        "Vamos agora, obter a localização de todos os clientes inadimplentes:"
      ]
    },
    {
      "cell_type": "code",
      "metadata": {
        "colab": {
          "base_uri": "https://localhost:8080/",
          "height": 205
        },
        "id": "yI0nLZB6FJ_z",
        "outputId": "9b6ecc70-e1d3-4737-e666-3563fe63d3d0"
      },
      "source": [
        "# Adicionando a variável sobre inadimplência a um novo DataFrame\n",
        "df_local_clean_target = df_local_clean.join(df_raw['target_default'])\n",
        "\n",
        "# Localizando os inadimplentes\n",
        "df_local_clean_target = df_local_clean_target.loc[df_local_clean_target['target_default'] == True]\n",
        "\n",
        "# Checando o DataFrame novo\n",
        "df_local_clean_target.head()"
      ],
      "execution_count": null,
      "outputs": [
        {
          "output_type": "execute_result",
          "data": {
            "text/html": [
              "<div>\n",
              "<style scoped>\n",
              "    .dataframe tbody tr th:only-of-type {\n",
              "        vertical-align: middle;\n",
              "    }\n",
              "\n",
              "    .dataframe tbody tr th {\n",
              "        vertical-align: top;\n",
              "    }\n",
              "\n",
              "    .dataframe thead th {\n",
              "        text-align: right;\n",
              "    }\n",
              "</style>\n",
              "<table border=\"1\" class=\"dataframe\">\n",
              "  <thead>\n",
              "    <tr style=\"text-align: right;\">\n",
              "      <th></th>\n",
              "      <th>reply_time</th>\n",
              "      <th>latitude</th>\n",
              "      <th>longitude</th>\n",
              "      <th>target_default</th>\n",
              "    </tr>\n",
              "  </thead>\n",
              "  <tbody>\n",
              "    <tr>\n",
              "      <th>2</th>\n",
              "      <td>0</td>\n",
              "      <td>-28.748024</td>\n",
              "      <td>-51.867279</td>\n",
              "      <td>True</td>\n",
              "    </tr>\n",
              "    <tr>\n",
              "      <th>9</th>\n",
              "      <td>4</td>\n",
              "      <td>-16.611073</td>\n",
              "      <td>-49.343247</td>\n",
              "      <td>True</td>\n",
              "    </tr>\n",
              "    <tr>\n",
              "      <th>26</th>\n",
              "      <td>12</td>\n",
              "      <td>-4.695338</td>\n",
              "      <td>-45.241965</td>\n",
              "      <td>True</td>\n",
              "    </tr>\n",
              "    <tr>\n",
              "      <th>30</th>\n",
              "      <td>3</td>\n",
              "      <td>-8.901592</td>\n",
              "      <td>-36.456143</td>\n",
              "      <td>True</td>\n",
              "    </tr>\n",
              "    <tr>\n",
              "      <th>31</th>\n",
              "      <td>19</td>\n",
              "      <td>-4.837957</td>\n",
              "      <td>-38.158737</td>\n",
              "      <td>True</td>\n",
              "    </tr>\n",
              "  </tbody>\n",
              "</table>\n",
              "</div>"
            ],
            "text/plain": [
              "    reply_time   latitude  longitude target_default\n",
              "2            0 -28.748024 -51.867279           True\n",
              "9            4 -16.611073 -49.343247           True\n",
              "26          12  -4.695338 -45.241965           True\n",
              "30           3  -8.901592 -36.456143           True\n",
              "31          19  -4.837957 -38.158737           True"
            ]
          },
          "metadata": {},
          "execution_count": 29
        }
      ]
    },
    {
      "cell_type": "markdown",
      "metadata": {
        "id": "4zFnjPJniPKh"
      },
      "source": [
        "Com as coordenadas de onde estão os clientes inadimplentes, podemos plotar um mapa de calor usando a biblioteca `Folium`:"
      ]
    },
    {
      "cell_type": "code",
      "metadata": {
        "colab": {
          "base_uri": "https://localhost:8080/",
          "height": 435
        },
        "id": "_Kx8TsrWHksw",
        "outputId": "0e121972-ea9f-4b8a-acd2-98614af34438"
      },
      "source": [
        "# Definindo o ponto inicial do mapa de calor (coordenada central do dataset)\n",
        "map = folium.Map([df_local_clean_target['latitude'].mean(), df_local_clean_target['longitude'].mean()], zoom_start=5) #coordenadas da primeira entrada do DataFrame\n",
        "\n",
        "# Plotando o mapa\n",
        "map"
      ],
      "execution_count": null,
      "outputs": [
        {
          "output_type": "execute_result",
          "data": {
            "text/html": [
              "<div style=\"width:100%;\"><div style=\"position:relative;width:100%;height:0;padding-bottom:60%;\"><span style=\"color:#565656\">Make this Notebook Trusted to load map: File -> Trust Notebook</span><iframe src=\"about:blank\" style=\"position:absolute;width:100%;height:100%;left:0;top:0;border:none !important;\" data-html=%3C%21DOCTYPE%20html%3E%0A%3Chead%3E%20%20%20%20%0A%20%20%20%20%3Cmeta%20http-equiv%3D%22content-type%22%20content%3D%22text/html%3B%20charset%3DUTF-8%22%20/%3E%0A%20%20%20%20%3Cscript%3EL_PREFER_CANVAS%3Dfalse%3B%20L_NO_TOUCH%3Dfalse%3B%20L_DISABLE_3D%3Dfalse%3B%3C/script%3E%0A%20%20%20%20%3Cscript%20src%3D%22https%3A//cdn.jsdelivr.net/npm/leaflet%401.4.0/dist/leaflet.js%22%3E%3C/script%3E%0A%20%20%20%20%3Cscript%20src%3D%22https%3A//code.jquery.com/jquery-1.12.4.min.js%22%3E%3C/script%3E%0A%20%20%20%20%3Cscript%20src%3D%22https%3A//maxcdn.bootstrapcdn.com/bootstrap/3.2.0/js/bootstrap.min.js%22%3E%3C/script%3E%0A%20%20%20%20%3Cscript%20src%3D%22https%3A//cdnjs.cloudflare.com/ajax/libs/Leaflet.awesome-markers/2.0.2/leaflet.awesome-markers.js%22%3E%3C/script%3E%0A%20%20%20%20%3Clink%20rel%3D%22stylesheet%22%20href%3D%22https%3A//cdn.jsdelivr.net/npm/leaflet%401.4.0/dist/leaflet.css%22/%3E%0A%20%20%20%20%3Clink%20rel%3D%22stylesheet%22%20href%3D%22https%3A//maxcdn.bootstrapcdn.com/bootstrap/3.2.0/css/bootstrap.min.css%22/%3E%0A%20%20%20%20%3Clink%20rel%3D%22stylesheet%22%20href%3D%22https%3A//maxcdn.bootstrapcdn.com/bootstrap/3.2.0/css/bootstrap-theme.min.css%22/%3E%0A%20%20%20%20%3Clink%20rel%3D%22stylesheet%22%20href%3D%22https%3A//maxcdn.bootstrapcdn.com/font-awesome/4.6.3/css/font-awesome.min.css%22/%3E%0A%20%20%20%20%3Clink%20rel%3D%22stylesheet%22%20href%3D%22https%3A//cdnjs.cloudflare.com/ajax/libs/Leaflet.awesome-markers/2.0.2/leaflet.awesome-markers.css%22/%3E%0A%20%20%20%20%3Clink%20rel%3D%22stylesheet%22%20href%3D%22https%3A//rawcdn.githack.com/python-visualization/folium/master/folium/templates/leaflet.awesome.rotate.css%22/%3E%0A%20%20%20%20%3Cstyle%3Ehtml%2C%20body%20%7Bwidth%3A%20100%25%3Bheight%3A%20100%25%3Bmargin%3A%200%3Bpadding%3A%200%3B%7D%3C/style%3E%0A%20%20%20%20%3Cstyle%3E%23map%20%7Bposition%3Aabsolute%3Btop%3A0%3Bbottom%3A0%3Bright%3A0%3Bleft%3A0%3B%7D%3C/style%3E%0A%20%20%20%20%0A%20%20%20%20%3Cmeta%20name%3D%22viewport%22%20content%3D%22width%3Ddevice-width%2C%0A%20%20%20%20%20%20%20%20initial-scale%3D1.0%2C%20maximum-scale%3D1.0%2C%20user-scalable%3Dno%22%20/%3E%0A%20%20%20%20%3Cstyle%3E%23map_fcb5f1ac0a6c4213864b9be476a8bc0f%20%7B%0A%20%20%20%20%20%20%20%20position%3A%20relative%3B%0A%20%20%20%20%20%20%20%20width%3A%20100.0%25%3B%0A%20%20%20%20%20%20%20%20height%3A%20100.0%25%3B%0A%20%20%20%20%20%20%20%20left%3A%200.0%25%3B%0A%20%20%20%20%20%20%20%20top%3A%200.0%25%3B%0A%20%20%20%20%20%20%20%20%7D%0A%20%20%20%20%3C/style%3E%0A%3C/head%3E%0A%3Cbody%3E%20%20%20%20%0A%20%20%20%20%0A%20%20%20%20%3Cdiv%20class%3D%22folium-map%22%20id%3D%22map_fcb5f1ac0a6c4213864b9be476a8bc0f%22%20%3E%3C/div%3E%0A%3C/body%3E%0A%3Cscript%3E%20%20%20%20%0A%20%20%20%20%0A%20%20%20%20%0A%20%20%20%20%20%20%20%20var%20bounds%20%3D%20null%3B%0A%20%20%20%20%0A%0A%20%20%20%20var%20map_fcb5f1ac0a6c4213864b9be476a8bc0f%20%3D%20L.map%28%0A%20%20%20%20%20%20%20%20%27map_fcb5f1ac0a6c4213864b9be476a8bc0f%27%2C%20%7B%0A%20%20%20%20%20%20%20%20center%3A%20%5B-13.21341704342753%2C%20-46.011300701588205%5D%2C%0A%20%20%20%20%20%20%20%20zoom%3A%205%2C%0A%20%20%20%20%20%20%20%20maxBounds%3A%20bounds%2C%0A%20%20%20%20%20%20%20%20layers%3A%20%5B%5D%2C%0A%20%20%20%20%20%20%20%20worldCopyJump%3A%20false%2C%0A%20%20%20%20%20%20%20%20crs%3A%20L.CRS.EPSG3857%2C%0A%20%20%20%20%20%20%20%20zoomControl%3A%20true%2C%0A%20%20%20%20%20%20%20%20%7D%29%3B%0A%0A%0A%20%20%20%20%0A%20%20%20%20var%20tile_layer_24e49e5213954a289d0c59ccdbd8edec%20%3D%20L.tileLayer%28%0A%20%20%20%20%20%20%20%20%27https%3A//%7Bs%7D.tile.openstreetmap.org/%7Bz%7D/%7Bx%7D/%7By%7D.png%27%2C%0A%20%20%20%20%20%20%20%20%7B%0A%20%20%20%20%20%20%20%20%22attribution%22%3A%20null%2C%0A%20%20%20%20%20%20%20%20%22detectRetina%22%3A%20false%2C%0A%20%20%20%20%20%20%20%20%22maxNativeZoom%22%3A%2018%2C%0A%20%20%20%20%20%20%20%20%22maxZoom%22%3A%2018%2C%0A%20%20%20%20%20%20%20%20%22minZoom%22%3A%200%2C%0A%20%20%20%20%20%20%20%20%22noWrap%22%3A%20false%2C%0A%20%20%20%20%20%20%20%20%22opacity%22%3A%201%2C%0A%20%20%20%20%20%20%20%20%22subdomains%22%3A%20%22abc%22%2C%0A%20%20%20%20%20%20%20%20%22tms%22%3A%20false%0A%7D%29.addTo%28map_fcb5f1ac0a6c4213864b9be476a8bc0f%29%3B%0A%3C/script%3E onload=\"this.contentDocument.open();this.contentDocument.write(    decodeURIComponent(this.getAttribute('data-html')));this.contentDocument.close();\" allowfullscreen webkitallowfullscreen mozallowfullscreen></iframe></div></div>"
            ],
            "text/plain": [
              "<folium.folium.Map at 0x7f575dbdea10>"
            ]
          },
          "metadata": {},
          "execution_count": 30
        }
      ]
    },
    {
      "cell_type": "code",
      "metadata": {
        "colab": {
          "base_uri": "https://localhost:8080/",
          "height": 435
        },
        "id": "zALi7AUFED3K",
        "outputId": "edaa989f-9b48-44ab-e716-2e777c211f2f"
      },
      "source": [
        "# Criando uma matriz para as variáveis longitude e latitude\n",
        "locais = df_local_clean_target[['latitude','longitude']].to_numpy()\n",
        "\n",
        "# Plotando o mapa de calor(heat map)\n",
        "map.add_children(plugins.HeatMap(locais, radius=15))\n",
        "map"
      ],
      "execution_count": null,
      "outputs": [
        {
          "output_type": "execute_result",
          "data": {
            "text/html": [
              "<div style=\"width:100%;\"><div style=\"position:relative;width:100%;height:0;padding-bottom:60%;\"><span style=\"color:#565656\">Make this Notebook Trusted to load map: File -> Trust Notebook</span><iframe src=\"about:blank\" style=\"position:absolute;width:100%;height:100%;left:0;top:0;border:none !important;\" data-html=%3C%21DOCTYPE%20html%3E%0A%3Chead%3E%20%20%20%20%0A%20%20%20%20%3Cmeta%20http-equiv%3D%22content-type%22%20content%3D%22text/html%3B%20charset%3DUTF-8%22%20/%3E%0A%20%20%20%20%3Cscript%3EL_PREFER_CANVAS%3Dfalse%3B%20L_NO_TOUCH%3Dfalse%3B%20L_DISABLE_3D%3Dfalse%3B%3C/script%3E%0A%20%20%20%20%3Cscript%20src%3D%22https%3A//cdn.jsdelivr.net/npm/leaflet%401.4.0/dist/leaflet.js%22%3E%3C/script%3E%0A%20%20%20%20%3Cscript%20src%3D%22https%3A//code.jquery.com/jquery-1.12.4.min.js%22%3E%3C/script%3E%0A%20%20%20%20%3Cscript%20src%3D%22https%3A//maxcdn.bootstrapcdn.com/bootstrap/3.2.0/js/bootstrap.min.js%22%3E%3C/script%3E%0A%20%20%20%20%3Cscript%20src%3D%22https%3A//cdnjs.cloudflare.com/ajax/libs/Leaflet.awesome-markers/2.0.2/leaflet.awesome-markers.js%22%3E%3C/script%3E%0A%20%20%20%20%3Clink%20rel%3D%22stylesheet%22%20href%3D%22https%3A//cdn.jsdelivr.net/npm/leaflet%401.4.0/dist/leaflet.css%22/%3E%0A%20%20%20%20%3Clink%20rel%3D%22stylesheet%22%20href%3D%22https%3A//maxcdn.bootstrapcdn.com/bootstrap/3.2.0/css/bootstrap.min.css%22/%3E%0A%20%20%20%20%3Clink%20rel%3D%22stylesheet%22%20href%3D%22https%3A//maxcdn.bootstrapcdn.com/bootstrap/3.2.0/css/bootstrap-theme.min.css%22/%3E%0A%20%20%20%20%3Clink%20rel%3D%22stylesheet%22%20href%3D%22https%3A//maxcdn.bootstrapcdn.com/font-awesome/4.6.3/css/font-awesome.min.css%22/%3E%0A%20%20%20%20%3Clink%20rel%3D%22stylesheet%22%20href%3D%22https%3A//cdnjs.cloudflare.com/ajax/libs/Leaflet.awesome-markers/2.0.2/leaflet.awesome-markers.css%22/%3E%0A%20%20%20%20%3Clink%20rel%3D%22stylesheet%22%20href%3D%22https%3A//rawcdn.githack.com/python-visualization/folium/master/folium/templates/leaflet.awesome.rotate.css%22/%3E%0A%20%20%20%20%3Cstyle%3Ehtml%2C%20body%20%7Bwidth%3A%20100%25%3Bheight%3A%20100%25%3Bmargin%3A%200%3Bpadding%3A%200%3B%7D%3C/style%3E%0A%20%20%20%20%3Cstyle%3E%23map%20%7Bposition%3Aabsolute%3Btop%3A0%3Bbottom%3A0%3Bright%3A0%3Bleft%3A0%3B%7D%3C/style%3E%0A%20%20%20%20%0A%20%20%20%20%3Cmeta%20name%3D%22viewport%22%20content%3D%22width%3Ddevice-width%2C%0A%20%20%20%20%20%20%20%20initial-scale%3D1.0%2C%20maximum-scale%3D1.0%2C%20user-scalable%3Dno%22%20/%3E%0A%20%20%20%20%3Cstyle%3E%23map_fcb5f1ac0a6c4213864b9be476a8bc0f%20%7B%0A%20%20%20%20%20%20%20%20position%3A%20relative%3B%0A%20%20%20%20%20%20%20%20width%3A%20100.0%25%3B%0A%20%20%20%20%20%20%20%20height%3A%20100.0%25%3B%0A%20%20%20%20%20%20%20%20left%3A%200.0%25%3B%0A%20%20%20%20%20%20%20%20top%3A%200.0%25%3B%0A%20%20%20%20%20%20%20%20%7D%0A%20%20%20%20%3C/style%3E%0A%20%20%20%20%3Cscript%20src%3D%22https%3A//leaflet.github.io/Leaflet.heat/dist/leaflet-heat.js%22%3E%3C/script%3E%0A%3C/head%3E%0A%3Cbody%3E%20%20%20%20%0A%20%20%20%20%0A%20%20%20%20%3Cdiv%20class%3D%22folium-map%22%20id%3D%22map_fcb5f1ac0a6c4213864b9be476a8bc0f%22%20%3E%3C/div%3E%0A%3C/body%3E%0A%3Cscript%3E%20%20%20%20%0A%20%20%20%20%0A%20%20%20%20%0A%20%20%20%20%20%20%20%20var%20bounds%20%3D%20null%3B%0A%20%20%20%20%0A%0A%20%20%20%20var%20map_fcb5f1ac0a6c4213864b9be476a8bc0f%20%3D%20L.map%28%0A%20%20%20%20%20%20%20%20%27map_fcb5f1ac0a6c4213864b9be476a8bc0f%27%2C%20%7B%0A%20%20%20%20%20%20%20%20center%3A%20%5B-13.21341704342753%2C%20-46.011300701588205%5D%2C%0A%20%20%20%20%20%20%20%20zoom%3A%205%2C%0A%20%20%20%20%20%20%20%20maxBounds%3A%20bounds%2C%0A%20%20%20%20%20%20%20%20layers%3A%20%5B%5D%2C%0A%20%20%20%20%20%20%20%20worldCopyJump%3A%20false%2C%0A%20%20%20%20%20%20%20%20crs%3A%20L.CRS.EPSG3857%2C%0A%20%20%20%20%20%20%20%20zoomControl%3A%20true%2C%0A%20%20%20%20%20%20%20%20%7D%29%3B%0A%0A%0A%20%20%20%20%0A%20%20%20%20var%20tile_layer_24e49e5213954a289d0c59ccdbd8edec%20%3D%20L.tileLayer%28%0A%20%20%20%20%20%20%20%20%27https%3A//%7Bs%7D.tile.openstreetmap.org/%7Bz%7D/%7Bx%7D/%7By%7D.png%27%2C%0A%20%20%20%20%20%20%20%20%7B%0A%20%20%20%20%20%20%20%20%22attribution%22%3A%20null%2C%0A%20%20%20%20%20%20%20%20%22detectRetina%22%3A%20false%2C%0A%20%20%20%20%20%20%20%20%22maxNativeZoom%22%3A%2018%2C%0A%20%20%20%20%20%20%20%20%22maxZoom%22%3A%2018%2C%0A%20%20%20%20%20%20%20%20%22minZoom%22%3A%200%2C%0A%20%20%20%20%20%20%20%20%22noWrap%22%3A%20false%2C%0A%20%20%20%20%20%20%20%20%22opacity%22%3A%201%2C%0A%20%20%20%20%20%20%20%20%22subdomains%22%3A%20%22abc%22%2C%0A%20%20%20%20%20%20%20%20%22tms%22%3A%20false%0A%7D%29.addTo%28map_fcb5f1ac0a6c4213864b9be476a8bc0f%29%3B%0A%20%20%20%20%0A%20%20%20%20%20%20%20%20%20%20%20%20var%20heat_map_49232e5ddac444ebb76a2e0f21d83f16%20%3D%20L.heatLayer%28%0A%20%20%20%20%20%20%20%20%20%20%20%20%20%20%20%20%5B%5B-28.748023890412284%2C%20-51.867279334353995%5D%2C%20%5B-16.61107269517449%2C%20-49.34324651918292%5D%2C%20%5B-4.695338084081564%2C%20-45.241964599844636%5D%2C%20%5B-8.901592495939513%2C%20-36.45614327740766%5D%2C%20%5B-4.837956574473234%2C%20-38.158737114370204%5D%2C%20%5B-4.4240114788705815%2C%20-37.91269001788534%5D%2C%20%5B-5.735237587648474%2C%20-35.20563997122077%5D%2C%20%5B-24.686853914025054%2C%20-53.31096812550748%5D%2C%20%5B-29.077239951136146%2C%20-51.08824933268329%5D%2C%20%5B-7.1290429076881265%2C%20-39.30570747766535%5D%2C%20%5B-8.261887207281276%2C%20-46.31529999698341%5D%2C%20%5B-17.75367378489961%2C%20-42.81079273325738%5D%2C%20%5B-8.735645531028272%2C%20-63.849833903366296%5D%2C%20%5B-16.467430929226644%2C%20-54.64736969758737%5D%2C%20%5B-4.93662499224178%2C%20-38.43186561805604%5D%2C%20%5B-5.232891574474345%2C%20-37.328171657124784%5D%2C%20%5B-4.945536522208776%2C%20-38.06351287550685%5D%2C%20%5B2.835133409305084%2C%20-60.6425510987234%5D%2C%20%5B-5.838152264048215%2C%20-35.45746220240816%5D%2C%20%5B-4.865987350214674%2C%20-38.12242251855713%5D%2C%20%5B-21.73947289899728%2C%20-41.362217233560614%5D%2C%20%5B-3.109519838005759%2C%20-59.99973319711973%5D%2C%20%5B-5.772937185693896%2C%20-37.89791992809809%5D%2C%20%5B-18.913870062640395%2C%20-41.92503496721056%5D%2C%20%5B-8.852369385822845%2C%20-63.839422550216916%5D%2C%20%5B-14.430867108199067%2C%20-44.48935179713059%5D%2C%20%5B-5.10827780001137%2C%20-38.133963946990264%5D%2C%20%5B-4.825429735131353%2C%20-39.574251712039846%5D%2C%20%5B-20.1252993932747%2C%20-42.46013036276118%5D%2C%20%5B-28.312419713536503%2C%20-50.90468645713341%5D%2C%20%5B-29.69011298743874%2C%20-53.83517940869734%5D%2C%20%5B-19.754380640686502%2C%20-47.88251124292635%5D%2C%20%5B-22.789396147439703%2C%20-53.89693189807051%5D%2C%20%5B-7.132243272666522%2C%20-48.12686409052266%5D%2C%20%5B-28.19075243619935%2C%20-52.5043341833947%5D%2C%20%5B-14.733197654131656%2C%20-42.710626426415516%5D%2C%20%5B-6.80395620856122%2C%20-35.590951048504344%5D%2C%20%5B-21.298876017081838%2C%20-46.00169179470414%5D%2C%20%5B-23.376627924537626%2C%20-51.956270879883%5D%2C%20%5B-5.721522661459162%2C%20-37.63271971078557%5D%2C%20%5B-18.11907289932024%2C%20-40.30230181522175%5D%2C%20%5B-16.480001567722546%2C%20-54.718134205617666%5D%2C%20%5B-2.3769084536902776%2C%20-54.75118792475119%5D%2C%20%5B-17.148047339619808%2C%20-42.36491796462805%5D%2C%20%5B-2.5130156623670787%2C%20-44.13749485420555%5D%2C%20%5B-10.916448557344982%2C%20-37.184154336505486%5D%2C%20%5B-14.215743924081616%2C%20-51.960294295857594%5D%2C%20%5B-20.278311509700927%2C%20-50.27159186431105%5D%2C%20%5B-5.703907261549737%2C%20-37.99100035954817%5D%2C%20%5B-29.265289321807316%2C%20-51.14401690124632%5D%2C%20%5B-5.703907261549737%2C%20-37.99100035954817%5D%2C%20%5B-24.658634736016893%2C%20-52.774592651992926%5D%2C%20%5B-8.714001561488372%2C%20-63.889215109919405%5D%2C%20%5B-12.984490852630882%2C%20-38.500542015436785%5D%2C%20%5B-5.164423488858103%2C%20-37.356920426246845%5D%2C%20%5B-29.625715402451036%2C%20-52.156110339401806%5D%2C%20%5B-22.872095466665698%2C%20-50.23412116229656%5D%2C%20%5B-23.711949155356358%2C%20-52.44823653656317%5D%2C%20%5B-23.70135301536771%2C%20-51.78120651358287%5D%2C%20%5B-22.619655560025716%2C%20-47.449767139723654%5D%2C%20%5B-18.511005657202965%2C%20-42.81478616732422%5D%2C%20%5B-22.11601247754248%2C%20-51.52215940455882%5D%2C%20%5B-27.340447295713673%2C%20-48.88023709724985%5D%2C%20%5B-5.714912785637218%2C%20-37.54837784476072%5D%2C%20%5B-8.690198991761358%2C%20-63.86469763453625%5D%2C%20%5B-8.817820981956658%2C%20-63.89957128943687%5D%2C%20%5B-4.633079655721242%2C%20-37.49046441951252%5D%2C%20%5B-17.60719370522169%2C%20-46.55098538245719%5D%2C%20%5B-19.619422518800718%2C%20-46.930512312402506%5D%2C%20%5B-21.371239542374852%2C%20-48.81176130051068%5D%2C%20%5B-5.257343848949901%2C%20-38.84461669514373%5D%2C%20%5B-5.24731151254488%2C%20-37.333527288151295%5D%2C%20%5B-18.2404254211144%2C%20-43.63672117512774%5D%2C%20%5B-15.590848789811533%2C%20-56.027831748176666%5D%2C%20%5B-4.341685626233492%2C%20-40.10039065693812%5D%2C%20%5B-8.026221034935395%2C%20-49.921223363838806%5D%2C%20%5B-8.77602793306641%2C%20-63.90963795885213%5D%2C%20%5B-14.221392510698418%2C%20-43.550463272511266%5D%2C%20%5B-12.384560018739956%2C%20-49.9024735872717%5D%2C%20%5B-8.526191719742652%2C%20-37.114583301446146%5D%2C%20%5B-4.842150077308295%2C%20-38.16068923477706%5D%2C%20%5B-17.398208234546225%2C%20-41.896584834856824%5D%2C%20%5B-23.23012980806031%2C%20-51.22781977075479%5D%2C%20%5B-10.238832395839%2C%20-48.942449023542814%5D%2C%20%5B-21.1215853733175%2C%20-47.78403305879911%5D%2C%20%5B-8.737595355783615%2C%20-63.84120167923593%5D%2C%20%5B-29.346054791461142%2C%20-53.52298602040744%5D%2C%20%5B-17.31813344120899%2C%20-42.89108249501893%5D%2C%20%5B-21.66312706401199%2C%20-49.79553420060563%5D%2C%20%5B-15.91403765320211%2C%20-48.05202283222087%5D%2C%20%5B-20.709376090884167%2C%20-51.77107736233214%5D%2C%20%5B0.012100976414651287%2C%20-51.07576369298022%5D%2C%20%5B-8.700980150063657%2C%20-63.85389478401299%5D%2C%20%5B-18.728684893711325%2C%20-42.82933489636094%5D%2C%20%5B-9.281621404667936%2C%20-62.02355208624879%5D%2C%20%5B-12.96352862580028%2C%20-38.473202989074366%5D%2C%20%5B-5.205942969140684%2C%20-42.760881980878885%5D%2C%20%5B-8.795909191779472%2C%20-63.90197774340757%5D%2C%20%5B-21.272112937119623%2C%20-43.73780479594919%5D%2C%20%5B-5.209309329629043%2C%20-39.260332122353496%5D%2C%20%5B-4.804201606221798%2C%20-38.13761901631602%5D%2C%20%5B-5.171219998978369%2C%20-37.4061738679106%5D%2C%20%5B-23.48354467352059%2C%20-49.16662227999522%5D%2C%20%5B-23.483831388422633%2C%20-47.54048296646242%5D%2C%20%5B-30.085017579072446%2C%20-51.17557943598144%5D%2C%20%5B-14.91669972094927%2C%20-40.8572652908048%5D%2C%20%5B-10.89512078722555%2C%20-61.89516158555751%5D%2C%20%5B-3.7604336107027674%2C%20-38.5953921152497%5D%2C%20%5B-5.0979133781929615%2C%20-37.97233286189702%5D%2C%20%5B-23.145836132241698%2C%20-51.72459900585546%5D%2C%20%5B-26.27287977092204%2C%20-52.776319172187264%5D%2C%20%5B-7.712480266736972%2C%20-62.519219425268794%5D%2C%20%5B-5.100202335254815%2C%20-38.515431486158576%5D%2C%20%5B-12.757326760761815%2C%20-38.94330375649319%5D%2C%20%5B-5.3726366249168604%2C%20-37.98692279145735%5D%2C%20%5B-15.683912390159804%2C%20-47.786380018480884%5D%2C%20%5B-18.226118143819402%2C%20-42.26735613416164%5D%2C%20%5B-21.81875750867771%2C%20-49.38846553001375%5D%2C%20%5B-20.96041118696511%2C%20-48.29778007499383%5D%2C%20%5B-5.242625811534421%2C%20-37.31538915560579%5D%2C%20%5B-6.151206401960819%2C%20-37.44254375326859%5D%2C%20%5B-4.934723411688574%2C%20-37.785452429293315%5D%2C%20%5B-8.785871105690424%2C%20-63.902980445583445%5D%2C%20%5B-19.968141066673596%2C%20-44.353932415963804%5D%2C%20%5B-10.913879553928602%2C%20-37.14269226421261%5D%2C%20%5B-13.036689515753812%2C%20-56.25014217882087%5D%2C%20%5B-20.917212939681455%2C%20-41.1907826555114%5D%2C%20%5B-20.850880624939894%2C%20-48.8077124377229%5D%2C%20%5B-4.853862985953318%2C%20-38.189949166378%5D%2C%20%5B-14.889025915557458%2C%20-40.79505083850168%5D%2C%20%5B-7.758232927274171%2C%20-72.55229659154335%5D%2C%20%5B-5.120123058334919%2C%20-38.02889845725255%5D%2C%20%5B-10.464728789024312%2C%20-37.454449710213204%5D%2C%20%5B-20.73197781634042%2C%20-48.78550911121237%5D%2C%20%5B-20.464113544065153%2C%20-49.99019463055002%5D%2C%20%5B-22.92904083201013%2C%20-46.568465358773416%5D%2C%20%5B-16.353241795650344%2C%20-49.00421568749319%5D%2C%20%5B-22.923103081984333%2C%20-49.97090216496927%5D%2C%20%5B-5.198943243911996%2C%20-37.39401297526828%5D%2C%20%5B-21.293106908293705%2C%20-44.99156418939019%5D%2C%20%5B-18.639536522454158%2C%20-43.003715695222965%5D%2C%20%5B-8.062780018840025%2C%20-35.060356807884894%5D%2C%20%5B-22.973047110943355%2C%20-45.57082429072708%5D%2C%20%5B-5.143945330543202%2C%20-37.36813635708284%5D%2C%20%5B-14.256958864680016%2C%20-51.96897752364931%5D%2C%20%5B-29.3933574316293%2C%20-51.93143224257416%5D%2C%20%5B-31.265302247653235%2C%20-54.0867888718386%5D%2C%20%5B-3.0914154551604263%2C%20-59.966243545027886%5D%2C%20%5B-9.346201368924685%2C%20-40.51444025765448%5D%2C%20%5B-11.91457114119629%2C%20-47.6652952635105%5D%2C%20%5B-21.750060467035297%2C%20-46.3587514800713%5D%2C%20%5B-4.633079655721242%2C%20-37.49046441951252%5D%2C%20%5B-21.317264901486396%2C%20-46.60538584434873%5D%2C%20%5B-4.840777549975739%2C%20-38.14695746117504%5D%2C%20%5B-17.689031834627407%2C%20-42.45958962863845%5D%2C%20%5B-7.42631239446622%2C%20-37.10864552519056%5D%2C%20%5B-8.255923137473145%2C%20-35.947927451018295%5D%2C%20%5B-14.87136910940954%2C%20-40.84852261108244%5D%2C%20%5B-17.897063629477554%2C%20-41.55472143383452%5D%2C%20%5B-20.5960162980679%2C%20-48.550189579849324%5D%2C%20%5B-22.572154506033915%2C%20-55.717636175192936%5D%2C%20%5B-5.230424878911747%2C%20-37.41397894581111%5D%2C%20%5B-18.88163787284584%2C%20-48.28474823327039%5D%2C%20%5B-8.663453499900426%2C%20-37.16794210725856%5D%2C%20%5B-18.570316564861407%2C%20-43.069760517694654%5D%2C%20%5B-25.60468335957711%2C%20-49.31974686263906%5D%2C%20%5B-21.317264901486396%2C%20-46.60538584434873%5D%2C%20%5B-8.981646885162268%2C%20-37.9298163837229%5D%2C%20%5B-8.76283941961584%2C%20-63.84381619824115%5D%2C%20%5B-19.378780852901755%2C%20-45.98858342511946%5D%2C%20%5B-8.740106539033098%2C%20-63.91242767360765%5D%2C%20%5B-5.426994901766662%2C%20-44.58266219963502%5D%2C%20%5B-20.122534535098698%2C%20-44.890042013461134%5D%2C%20%5B-3.8885500668211552%2C%20-41.05616852885059%5D%2C%20%5B-10.974137874953545%2C%20-37.228990840311056%5D%2C%20%5B-10.838370440305237%2C%20-53.93535219067373%5D%2C%20%5B-5.063172812577233%2C%20-42.813751058703396%5D%2C%20%5B-15.124773935500682%2C%20-43.08349281771698%5D%2C%20%5B-29.9938302814243%2C%20-51.17920147330807%5D%2C%20%5B-5.329413686639041%2C%20-38.26583609066566%5D%2C%20%5B-15.357190495166426%2C%20-39.9902581243763%5D%2C%20%5B-9.596509539497491%2C%20-36.41603041536332%5D%2C%20%5B-4.811876695441778%2C%20-38.12667140753789%5D%2C%20%5B-4.914071969497396%2C%20-38.48732411343876%5D%2C%20%5B-23.578939860285704%2C%20-48.06074486260813%5D%2C%20%5B-12.94125150376938%2C%20-39.33379829104212%5D%2C%20%5B-5.703907261549737%2C%20-37.99100035954817%5D%2C%20%5B-23.083438518773892%2C%20-50.29928358354135%5D%2C%20%5B-9.60230756817156%2C%20-35.73574500493604%5D%2C%20%5B-27.805291919195376%2C%20-50.35348126744148%5D%2C%20%5B-6.335253919696488%2C%20-42.73639182917916%5D%2C%20%5B-8.705589496893678%2C%20-63.878061340021574%5D%2C%20%5B-5.352875883033477%2C%20-38.09172190990841%5D%2C%20%5B-8.148049569786048%2C%20-39.83999097563937%5D%2C%20%5B-13.124412602912138%2C%20-44.16191098146823%5D%2C%20%5B-15.077725088762747%2C%20-54.30685290514479%5D%2C%20%5B-15.469566086123832%2C%20-59.51707608710358%5D%2C%20%5B-19.90159128766651%2C%20-43.902275922224554%5D%2C%20%5B-8.796829676633143%2C%20-63.85662024398372%5D%2C%20%5B-15.260729939586815%2C%20-44.78007976586217%5D%2C%20%5B-5.329413686639041%2C%20-38.26583609066566%5D%2C%20%5B2.9467767609060456%2C%20-60.65605895461931%5D%2C%20%5B-21.040246339176946%2C%20-45.212232459850796%5D%2C%20%5B-4.550666238754227%2C%20-37.73441072492461%5D%2C%20%5B-20.54976600748322%2C%20-51.15259815581694%5D%2C%20%5B-10.49878994661919%2C%20-37.962174905630015%5D%2C%20%5B-5.1371068024176045%2C%20-37.999856734617325%5D%2C%20%5B-5.16230293355667%2C%20-42.81681358311442%5D%2C%20%5B-18.918088266070615%2C%20-48.21878727189317%5D%2C%20%5B-20.77134538374513%2C%20-49.4125333955594%5D%2C%20%5B-8.71705525946782%2C%20-63.83425637827302%5D%2C%20%5B-2.397632797797747%2C%20-54.715205285890896%5D%2C%20%5B-23.022975338826175%2C%20-49.87674424013214%5D%2C%20%5B-29.842358045932013%2C%20-53.89206362962494%5D%2C%20%5B-5.0873260291693985%2C%20-37.62879331582293%5D%2C%20%5B-23.532014806309874%2C%20-51.97202722853592%5D%2C%20%5B-22.21253611697353%2C%20-54.84727686379506%5D%2C%20%5B-5.27883868034378%2C%20-37.361297483475916%5D%2C%20%5B0.6185908189495339%2C%20-51.40264038363054%5D%2C%20%5B-19.48111672169571%2C%20-46.9613711308243%5D%2C%20%5B-10.192438520527318%2C%20-41.57278283953055%5D%2C%20%5B-26.531439239197777%2C%20-49.154413647129644%5D%2C%20%5B-18.261832800120217%2C%20-42.24043439067823%5D%2C%20%5B-8.748340918597057%2C%20-63.80720207889511%5D%2C%20%5B-23.258907353311425%2C%20-51.05356356851728%5D%2C%20%5B-8.735749529081536%2C%20-63.90262864685174%5D%2C%20%5B-3.1997251375298634%2C%20-59.97199618420716%5D%2C%20%5B-8.759686246669466%2C%20-63.799595314523344%5D%2C%20%5B-5.686955342992636%2C%20-37.766515710366754%5D%2C%20%5B-4.777915589318581%2C%20-38.14226628506549%5D%2C%20%5B-21.748819953003384%2C%20-41.301600073240905%5D%2C%20%5B-5.230312528542575%2C%20-37.96698500260299%5D%2C%20%5B-16.723207818600454%2C%20-49.267599846562845%5D%2C%20%5B-25.68620659189413%2C%20-49.88095209839616%5D%2C%20%5B-8.35500342257438%2C%20-36.60257221650997%5D%2C%20%5B-5.316621268713426%2C%20-38.31639038239419%5D%2C%20%5B-22.321729364928643%2C%20-49.167233309614275%5D%2C%20%5B-21.130001001575025%2C%20-48.739323230037535%5D%2C%20%5B-8.296813973765229%2C%20-43.25392027139643%5D%2C%20%5B-2.845665049035219%2C%20-44.017693380457935%5D%2C%20%5B-29.225815018037256%2C%20-51.191301598728074%5D%2C%20%5B-13.015551772610383%2C%20-38.4575466533876%5D%2C%20%5B-30.982006749520203%2C%20-54.51240135398241%5D%2C%20%5B-5.215053588139957%2C%20-37.30931508507614%5D%2C%20%5B-31.75316166549682%2C%20-52.417552999607736%5D%2C%20%5B-5.660721529655397%2C%20-37.774429901479394%5D%2C%20%5B-4.9764132673058254%2C%20-38.6023836497924%5D%2C%20%5B-10.544939232567556%2C%20-48.47819774093208%5D%2C%20%5B-21.774564758213558%2C%20-41.273482490476816%5D%2C%20%5B-22.997352594356855%2C%20-53.397150378404234%5D%2C%20%5B-4.437201561111144%2C%20-38.075480288248755%5D%2C%20%5B-4.839858202787395%2C%20-38.09428851038243%5D%2C%20%5B-5.156925346924176%2C%20-37.48098109454731%5D%2C%20%5B-20.772091696827932%2C%20-45.30449191761648%5D%2C%20%5B-4.612241045719702%2C%20-43.94037491685792%5D%2C%20%5B-5.03746732792373%2C%20-38.51086003356812%5D%2C%20%5B-18.875849350947725%2C%20-47.0456046366494%5D%2C%20%5B-3.716451081813945%2C%20-38.61441710943159%5D%2C%20%5B-6.07456705810784%2C%20-49.95805098261978%5D%2C%20%5B-20.244499925185906%2C%20-50.324544774690466%5D%2C%20%5B-7.100914297907897%2C%20-35.62538874143045%5D%2C%20%5B-7.200644596961125%2C%20-48.16803802674689%5D%2C%20%5B-18.34864904315818%2C%20-44.12642515993807%5D%2C%20%5B-9.847871450599113%2C%20-62.934897884316435%5D%2C%20%5B-8.981179374593573%2C%20-63.4817599112312%5D%2C%20%5B-7.814337784384622%2C%20-72.59146893467722%5D%2C%20%5B-5.352875883033477%2C%20-38.09172190990841%5D%2C%20%5B-20.412414241913616%2C%20-49.971018426527124%5D%2C%20%5B-7.700639347646915%2C%20-72.52720721966824%5D%2C%20%5B-26.840549199855776%2C%20-48.65631775769793%5D%2C%20%5B-9.510479533695094%2C%20-37.233348396586024%5D%2C%20%5B-29.10674068311923%2C%20-51.25151435362111%5D%2C%20%5B-16.304700255781228%2C%20-51.625199401836525%5D%2C%20%5B-4.64464092492145%2C%20-37.788609213039166%5D%2C%20%5B-5.342018014430866%2C%20-38.05562275971885%5D%2C%20%5B-18.63053520119327%2C%20-43.06456597923938%5D%2C%20%5B-22.9870548206682%2C%20-49.6590944603548%5D%2C%20%5B-31.73203982718723%2C%20-52.55770278033043%5D%2C%20%5B-19.221431199226533%2C%20-40.51372191569374%5D%2C%20%5B-4.934723411688574%2C%20-37.785452429293315%5D%2C%20%5B-8.797470187278803%2C%20-63.80425332834527%5D%2C%20%5B-29.848178629737806%2C%20-50.49848513725551%5D%2C%20%5B-10.635562576749217%2C%20-39.81524882823498%5D%2C%20%5B-8.803759699780832%2C%20-63.886135238946494%5D%2C%20%5B-5.913441198725439%2C%20-40.20726880744338%5D%2C%20%5B-5.0979133781929615%2C%20-37.97233286189702%5D%2C%20%5B-26.71411454168505%2C%20-53.432217078371494%5D%2C%20%5B-8.702792082865539%2C%20-63.91619466364192%5D%2C%20%5B-23.713795082988014%2C%20-53.049976693440634%5D%2C%20%5B-5.217671600913036%2C%20-37.32185972680919%5D%2C%20%5B-5.770348414161909%2C%20-47.24527058414984%5D%2C%20%5B-22.819545930565226%2C%20-41.89689700825693%5D%2C%20%5B-19.447919363917283%2C%20-42.55682805166164%5D%2C%20%5B-5.248803172517881%2C%20-38.01388271668373%5D%2C%20%5B-5.1718047374398735%2C%20-37.31728090733981%5D%2C%20%5B-9.226651679313235%2C%20-64.43667239535996%5D%2C%20%5B-29.989079231176444%2C%20-50.968417610631384%5D%2C%20%5B-20.581272508755056%2C%20-54.66969040801667%5D%2C%20%5B-5.627305876814478%2C%20-37.81404648571798%5D%2C%20%5B-26.667514579849307%2C%20-53.527850776049036%5D%2C%20%5B-22.70201921524044%2C%20-50.41735000811195%5D%2C%20%5B-5.15989999594328%2C%20-42.81937554913549%5D%2C%20%5B-9.901832618455737%2C%20-63.01588772955851%5D%2C%20%5B-17.542478004406263%2C%20-42.44340760467893%5D%2C%20%5B-5.374320187156532%2C%20-49.06740323646901%5D%2C%20%5B-11.368781708642352%2C%20-40.69663870535513%5D%2C%20%5B-8.056466154531464%2C%20-34.85207273734255%5D%2C%20%5B-13.543455965901266%2C%20-54.11273447320514%5D%2C%20%5B-15.76060976368198%2C%20-47.84235370724682%5D%2C%20%5B-22.875109632017338%2C%20-48.45858498687686%5D%2C%20%5B-4.80730722430937%2C%20-38.133742870523704%5D%2C%20%5B-9.927162787078109%2C%20-67.81171644811863%5D%2C%20%5B-16.462572858362446%2C%20-54.623533702133386%5D%2C%20%5B-7.1767199387987946%2C%20-39.486189098419075%5D%2C%20%5B-23.21664455217893%2C%20-45.706141147784244%5D%2C%20%5B-8.59283735963961%2C%20-35.63060284610251%5D%2C%20%5B-6.398218958011296%2C%20-38.88952853553598%5D%2C%20%5B-20.46526690026397%2C%20-54.64272235893887%5D%2C%20%5B-8.741405645901617%2C%20-63.816545571777674%5D%2C%20%5B-16.06424907241272%2C%20-48.02013523829066%5D%2C%20%5B-0.01608890379848616%2C%20-51.05059907528466%5D%2C%20%5B-23.441761531065875%2C%20-49.07560951199404%5D%2C%20%5B-8.706930065654266%2C%20-63.71580341607222%5D%2C%20%5B-19.065629985783005%2C%20-57.674067785569676%5D%2C%20%5B-8.75539393473015%2C%20-63.84875956982086%5D%2C%20%5B-2.89166842664384%2C%20-42.13201270153424%5D%2C%20%5B-7.195609947213935%2C%20-48.124540069295655%5D%2C%20%5B-7.107659022529394%2C%20-51.9600419303017%5D%2C%20%5B-28.771935568816286%2C%20-51.86393969062797%5D%2C%20%5B-8.760665548198956%2C%20-63.8761854568821%5D%2C%20%5B-17.892695111811722%2C%20-42.78490895944094%5D%2C%20%5B-12.975670472605838%2C%20-38.48644365074427%5D%2C%20%5B-16.30031525983706%2C%20-43.421105887011244%5D%2C%20%5B-18.499378843275863%2C%20-43.84338849905006%5D%2C%20%5B-5.156925346924176%2C%20-37.48098109454731%5D%2C%20%5B-6.736973380643024%2C%20-41.230987114633194%5D%2C%20%5B-3.9067219156440784%2C%20-49.660852098901515%5D%2C%20%5B-5.590981598025536%2C%20-37.269088464825806%5D%2C%20%5B-4.945536522208776%2C%20-38.06351287550685%5D%2C%20%5B-17.93395963557013%2C%20-41.51935313437448%5D%2C%20%5B-20.447146410086773%2C%20-46.062435057736955%5D%2C%20%5B-21.01072063103818%2C%20-43.78107908836832%5D%2C%20%5B-29.863346298121684%2C%20-51.057246092772544%5D%2C%20%5B-8.064334440344783%2C%20-50.02455531431321%5D%2C%20%5B-5.04285621692545%2C%20-37.54371454607642%5D%2C%20%5B-29.01380446947696%2C%20-49.67209101288814%5D%2C%20%5B-12.734457840933567%2C%20-47.82356625805682%5D%2C%20%5B-8.860702248937564%2C%20-63.81293797139389%5D%2C%20%5B-22.418850076899048%2C%20-41.97582827400518%5D%2C%20%5B-17.408630867762376%2C%20-41.97675823183604%5D%2C%20%5B-5.329127996380401%2C%20-49.109336997805904%5D%2C%20%5B-7.126519893189028%2C%20-34.956329867059914%5D%2C%20%5B-7.615703761864228%2C%20-36.67272164802018%5D%2C%20%5B-5.205813698204451%2C%20-38.04430331731128%5D%2C%20%5B-8.830192867530542%2C%20-63.9389741860876%5D%2C%20%5B-5.196697300142932%2C%20-37.34715023861827%5D%2C%20%5B-22.277915906691167%2C%20-42.4896011648712%5D%2C%20%5B-6.368669975966039%2C%20-41.7552861875909%5D%2C%20%5B-23.42665169936125%2C%20-51.92169368780627%5D%2C%20%5B-15.6106045484895%2C%20-56.16907967289803%5D%2C%20%5B-4.842757398061469%2C%20-38.14475529520558%5D%2C%20%5B-4.392094680354844%2C%20-44.20020463430623%5D%2C%20%5B-25.740173674054006%2C%20-49.783679730524014%5D%2C%20%5B-20.836309275003806%2C%20-48.714433178523606%5D%2C%20%5B-13.009655018975309%2C%20-46.5046578362399%5D%2C%20%5B-9.031107139812482%2C%20-63.3577918151104%5D%2C%20%5B-5.09004781979102%2C%20-37.37122576915766%5D%2C%20%5B-22.66434835730352%2C%20-50.435180815551995%5D%2C%20%5B-7.493133952172092%2C%20-63.942143798153595%5D%2C%20%5B-5.031403603300897%2C%20-37.00313420117624%5D%2C%20%5B-26.176185519091362%2C%20-50.998774723651835%5D%2C%20%5B-11.857522428595708%2C%20-39.58893203103997%5D%2C%20%5B-12.301446680304839%2C%20-38.50909439724839%5D%2C%20%5B-8.737595355783615%2C%20-63.84120167923593%5D%2C%20%5B-21.89165961325083%2C%20-46.54001446888588%5D%2C%20%5B-32.01103755063567%2C%20-52.0788986919188%5D%2C%20%5B-8.486620919555094%2C%20-38.141952667130745%5D%2C%20%5B-18.27360420910894%2C%20-54.669934999511256%5D%2C%20%5B-4.242647285351484%2C%20-69.853100218674%5D%2C%20%5B-22.538235807059184%2C%20-43.69671231256624%5D%2C%20%5B-8.701584481556857%2C%20-63.78678606466514%5D%2C%20%5B-5.196697300142932%2C%20-37.34715023861827%5D%2C%20%5B-16.468915117963846%2C%20-54.66502778573636%5D%2C%20%5B-18.261832800120217%2C%20-42.24043439067823%5D%2C%20%5B-22.937854265663706%2C%20-43.16054867348943%5D%2C%20%5B-4.437201561111144%2C%20-38.075480288248755%5D%2C%20%5B-5.166531069094101%2C%20-37.34441495535484%5D%2C%20%5B-22.84399542438998%2C%20-46.265483464380054%5D%2C%20%5B-5.088805695718118%2C%20-36.92198435636012%5D%2C%20%5B-23.965146985179288%2C%20-52.25716977475281%5D%2C%20%5B-4.631209630907159%2C%20-44.49866561805416%5D%2C%20%5B-11.388668193540514%2C%20-41.83242774324552%5D%2C%20%5B-15.136753401792243%2C%20-43.09239723336507%5D%2C%20%5B-3.649678554780107%2C%20-61.95135942857042%5D%2C%20%5B-23.378484483876825%2C%20-51.91415980834368%5D%2C%20%5B-14.270560168194638%2C%20-49.131434526940524%5D%2C%20%5B0.029144652563556528%2C%20-51.06529012150596%5D%2C%20%5B-28.242392663371056%2C%20-52.41080594508945%5D%2C%20%5B-9.790308788890131%2C%20-37.433225209311175%5D%2C%20%5B-8.126544124484473%2C%20-34.91969903409476%5D%2C%20%5B-5.508815464539042%2C%20-47.95105268381289%5D%2C%20%5B-17.308002789057554%2C%20-42.912989574253416%5D%2C%20%5B-5.0416207865134055%2C%20-38.47679779183559%5D%2C%20%5B-4.725348748373839%2C%20-37.280119148650826%5D%2C%20%5B-15.973342216488867%2C%20-44.83306474999325%5D%2C%20%5B-11.748854095448609%2C%20-49.06704248312765%5D%2C%20%5B-10.893933571546214%2C%20-68.62292636436393%5D%2C%20%5B-16.715516944163106%2C%20-49.03490268111325%5D%2C%20%5B-8.323165735623544%2C%20-36.01249069739921%5D%2C%20%5B-4.821622024840304%2C%20-38.14829792222185%5D%2C%20%5B-8.727388785141514%2C%20-63.835413448124946%5D%2C%20%5B-20.36356950031529%2C%20-54.61113795052239%5D%2C%20%5B-20.239651988917%2C%20-50.47186231989583%5D%2C%20%5B-29.16172166744059%2C%20-51.23472965946959%5D%2C%20%5B-4.493617306653444%2C%20-37.79527287545938%5D%2C%20%5B-3.7371540744245344%2C%20-38.5048237599232%5D%2C%20%5B-16.73156326773506%2C%20-49.218675133052336%5D%2C%20%5B-5.0073502422986795%2C%20-37.68736780201736%5D%2C%20%5B-10.932393899596615%2C%20-37.033387021640756%5D%2C%20%5B-22.984028134163818%2C%20-52.44577653963926%5D%2C%20%5B-4.839511384241893%2C%20-43.39057951706996%5D%2C%20%5B-6.244561944011307%2C%20-40.1039068790027%5D%2C%20%5B-22.282680095791104%2C%20-54.84459278085797%5D%2C%20%5B-18.451636139537573%2C%20-42.788692662592446%5D%2C%20%5B-25.61239191942904%2C%20-54.56813926416993%5D%2C%20%5B-15.080215411115612%2C%20-57.60474353128695%5D%2C%20%5B-17.82133190356037%2C%20-42.90892401276305%5D%2C%20%5B-8.792107095353343%2C%20-63.88954482826118%5D%2C%20%5B-5.618724306389648%2C%20-37.76118896158612%5D%2C%20%5B-22.817637308977602%2C%20-50.352585193175614%5D%2C%20%5B-23.467331526646667%2C%20-49.012512152969755%5D%2C%20%5B-21.496490774945638%2C%20-49.86737971248341%5D%2C%20%5B-5.552172160933968%2C%20-37.25105399483229%5D%2C%20%5B-4.852409764436519%2C%20-37.91418831914764%5D%2C%20%5B-7.935097575801715%2C%20-43.19094621635751%5D%2C%20%5B-8.911009354262132%2C%20-36.30551728725572%5D%2C%20%5B-5.129619178999822%2C%20-37.302679493093265%5D%2C%20%5B-23.645299626225945%2C%20-45.45539207100441%5D%2C%20%5B-16.441015290511004%2C%20-54.64824611951847%5D%2C%20%5B-3.0957390870942194%2C%20-40.13817754877859%5D%2C%20%5B-28.05076885572053%2C%20-52.017115640932595%5D%2C%20%5B-26.990324063120905%2C%20-51.09716683696985%5D%2C%20%5B-9.847871450599113%2C%20-62.934897884316435%5D%2C%20%5B-19.59036538462958%2C%20-42.098158259325%5D%2C%20%5B-22.232777301373137%2C%20-42.37460054452985%5D%2C%20%5B-21.237760351771403%2C%20-47.837908370166915%5D%2C%20%5B-5.27883868034378%2C%20-37.361297483475916%5D%2C%20%5B-20.149617545477845%2C%20-56.626528961500235%5D%2C%20%5B-5.9022919116923305%2C%20-35.28078219568215%5D%2C%20%5B-7.132243272666522%2C%20-48.12686409052266%5D%2C%20%5B-19.01191366063662%2C%20-57.660330630584404%5D%2C%20%5B-18.99690854461378%2C%20-41.036413569462844%5D%2C%20%5B-23.5173665133943%2C%20-47.50744029299194%5D%2C%20%5B-5.088805695718118%2C%20-36.92198435636012%5D%2C%20%5B-5.100202335254815%2C%20-38.515431486158576%5D%2C%20%5B-22.709975491793177%2C%20-50.39059073308219%5D%2C%20%5B-19.056055409902584%2C%20-52.73832163116577%5D%2C%20%5B-22.727283222767728%2C%20-42.0908459165887%5D%2C%20%5B-5.232891574474345%2C%20-37.328171657124784%5D%2C%20%5B-16.131143445337354%2C%20-49.85582391698621%5D%2C%20%5B-15.119888389335383%2C%20-55.68301639541603%5D%2C%20%5B-24.2381377713714%2C%20-48.99718188109668%5D%2C%20%5B-21.71577109668032%2C%20-41.354110477667476%5D%2C%20%5B-21.97128832468157%2C%20-44.75482685883757%5D%2C%20%5B-29.241894457004012%2C%20-51.88162292879004%5D%2C%20%5B-23.58445257630757%2C%20-46.529313519753835%5D%2C%20%5B-31.33242111000186%2C%20-54.10299974064886%5D%2C%20%5B-8.762242122012841%2C%20-63.796947643162085%5D%2C%20%5B-4.724951412925309%2C%20-38.04913107197545%5D%2C%20%5B-8.782011616420073%2C%20-63.95313964858766%5D%2C%20%5B-26.354385615236033%2C%20-48.82329183970148%5D%2C%20%5B2.813227359700313%2C%20-60.6216986718372%5D%2C%20%5B-22.22880394689788%2C%20-48.666108443684884%5D%2C%20%5B-29.780171952027608%2C%20-51.189025945964616%5D%2C%20%5B-23.483831388422633%2C%20-47.54048296646242%5D%2C%20%5B-5.205813698204451%2C%20-38.04430331731128%5D%2C%20%5B-19.249599398869048%2C%20-53.01738267071936%5D%2C%20%5B-5.019880021777675%2C%20-38.53278387206701%5D%2C%20%5B-5.091410331752194%2C%20-37.688724919006255%5D%2C%20%5B-27.04521684793149%2C%20-51.13244720999%5D%2C%20%5B-18.262326453579757%2C%20-43.623873032360564%5D%2C%20%5B-9.859842935495458%2C%20-63.0857536866413%5D%2C%20%5B-9.332616999091229%2C%20-40.455756478405874%5D%2C%20%5B-18.708828550409525%2C%20-42.76955579707808%5D%2C%20%5B-18.368196534270655%2C%20-40.20991351291989%5D%2C%20%5B-16.725660532157153%2C%20-49.3319727331061%5D%2C%20%5B-5.158851556886167%2C%20-42.8131021795615%5D%2C%20%5B-4.182588534637798%2C%20-40.98410912389918%5D%2C%20%5B-5.6913175149152%2C%20-38.50896159076105%5D%2C%20%5B-19.063923008297184%2C%20-57.58123205378928%5D%2C%20%5B-15.144503452812375%2C%20-57.69979528264582%5D%2C%20%5B-10.242755383025731%2C%20-48.29472669326068%5D%2C%20%5B-22.106111277267054%2C%20-43.191901278060165%5D%2C%20%5B-28.34343100846809%2C%20-53.92482753252936%5D%2C%20%5B-5.340742100208212%2C%20-38.05210155700905%5D%2C%20%5B-11.512238942645377%2C%20-39.224638418494784%5D%2C%20%5B-7.920782309028365%2C%20-40.1246877983221%5D%2C%20%5B-3.1013519112522583%2C%20-40.14800014166566%5D%2C%20%5B-4.637915131069174%2C%20-37.72230805988814%5D%2C%20%5B-12.099510384888003%2C%20-46.159436210014796%5D%2C%20%5B-7.12967866728707%2C%20-48.167289514127475%5D%2C%20%5B-19.729882988814197%2C%20-43.933116271342556%5D%2C%20%5B-9.380447318189463%2C%20-62.01221711586864%5D%2C%20%5B-16.27083448484865%2C%20-57.88202767028454%5D%2C%20%5B-23.395899091232284%2C%20-51.9715151126934%5D%2C%20%5B-5.090822608484187%2C%20-42.83636746956806%5D%2C%20%5B-5.680286321437198%2C%20-37.043729016339235%5D%2C%20%5B-5.643236317389968%2C%20-37.86201108881622%5D%2C%20%5B-8.790916241201643%2C%20-63.90186398628178%5D%2C%20%5B-5.21350455571066%2C%20-37.88917365951219%5D%2C%20%5B-5.229646941930271%2C%20-37.32794807239217%5D%2C%20%5B-23.433460000160277%2C%20-45.04518471527748%5D%2C%20%5B-9.90135526834737%2C%20-66.96068270588437%5D%2C%20%5B-19.995050559547348%2C%20-47.70363587801024%5D%2C%20%5B-12.091729330109873%2C%20-46.065993399905544%5D%2C%20%5B0.09327976190339458%2C%20-51.11145779648517%5D%2C%20%5B-5.340742100208212%2C%20-38.05210155700905%5D%2C%20%5B-7.739001859231106%2C%20-73.20924777773232%5D%2C%20%5B-15.834299088174797%2C%20-47.883014098269%5D%2C%20%5B-17.624951494217925%2C%20-42.457183395702735%5D%2C%20%5B-29.387745157289082%2C%20-51.737721662093506%5D%2C%20%5B-28.24100920813726%2C%20-53.85752171628721%5D%2C%20%5B-4.781464309846614%2C%20-37.785034349182624%5D%2C%20%5B-12.95156852562248%2C%20-38.319421281429555%5D%2C%20%5B-22.923103081984333%2C%20-49.97090216496927%5D%2C%20%5B-20.33081802648113%2C%20-41.61175009968742%5D%2C%20%5B-7.136987500883344%2C%20-34.80719701472503%5D%2C%20%5B-12.451452027739842%2C%20-44.142410994665916%5D%2C%20%5B-5.164423488858103%2C%20-37.356920426246845%5D%2C%20%5B-29.75254306287497%2C%20-52.44644549095309%5D%2C%20%5B-4.653318411696609%2C%20-37.37455079106273%5D%2C%20%5B-5.317966612125419%2C%20-38.06865289978556%5D%2C%20%5B-12.188423485406783%2C%20-39.748494509326875%5D%2C%20%5B-5.198943243911996%2C%20-37.39401297526828%5D%2C%20%5B-8.82069846457576%2C%20-63.73875307617685%5D%2C%20%5B-5.751262982653885%2C%20-37.57527747879785%5D%2C%20%5B2.743391148224117%2C%20-60.649579562066236%5D%2C%20%5B-18.203071328089965%2C%20-43.23927683788197%5D%2C%20%5B-5.219711837744265%2C%20-37.37594585072137%5D%2C%20%5B-22.51587987345443%2C%20-44.22696017451696%5D%2C%20%5B-21.121313201171077%2C%20-49.04360876353133%5D%2C%20%5B-8.775240231322828%2C%20-63.84311557141907%5D%2C%20%5B-17.99280328699355%2C%20-39.81674006338642%5D%2C%20%5B-15.276309592381397%2C%20-40.020221602587654%5D%2C%20%5B-28.689115743666274%2C%20-55.81401732613435%5D%2C%20%5B-6.509199758078322%2C%20-37.91372971622243%5D%2C%20%5B-21.76388433170598%2C%20-42.8049312865328%5D%2C%20%5B-14.952812721732911%2C%20-40.877107834657274%5D%2C%20%5B-8.690198991761358%2C%20-63.86469763453625%5D%2C%20%5B-22.707244767558606%2C%20-51.92324029222028%5D%2C%20%5B-26.937900939799796%2C%20-52.25848940312348%5D%2C%20%5B-5.590981598025536%2C%20-37.269088464825806%5D%2C%20%5B-12.886683244291381%2C%20-39.25185478920805%5D%2C%20%5B-13.316221001994434%2C%20-49.32425360309456%5D%2C%20%5B-5.498381456334155%2C%20-38.744110223471374%5D%2C%20%5B-18.14725023791046%2C%20-43.57156811137281%5D%2C%20%5B-18.55903609312005%2C%20-42.82071268946768%5D%2C%20%5B-18.262326453579757%2C%20-43.623873032360564%5D%2C%20%5B-21.14109145711677%2C%20-42.438879487721216%5D%2C%20%5B-21.57610142242589%2C%20-49.75124512511289%5D%2C%20%5B-8.36160463528752%2C%20-46.37381819652119%5D%2C%20%5B-4.521107305895009%2C%20-40.68525971391621%5D%2C%20%5B-9.433959325430587%2C%20-40.42424280507454%5D%2C%20%5B-5.137264851212688%2C%20-37.34775458143377%5D%2C%20%5B-5.156767859382845%2C%20-37.32412948815525%5D%2C%20%5B-8.224283000225451%2C%20-35.5716479112139%5D%2C%20%5B-5.95877872437251%2C%20-35.286915556922075%5D%2C%20%5B-5.554267781018844%2C%20-37.33910549227317%5D%2C%20%5B-14.144931196757344%2C%20-44.52909700856266%5D%2C%20%5B-27.602908528881176%2C%20-52.30024234492063%5D%2C%20%5B-13.304347780187488%2C%20-49.26719640945574%5D%2C%20%5B-1.7884994374501506%2C%20-54.194591062238196%5D%2C%20%5B-6.808866421445196%2C%20-51.40851957413153%5D%2C%20%5B-8.212053096389536%2C%20-43.20932673753848%5D%2C%20%5B-7.2056720758972945%2C%20-35.94407664544297%5D%2C%20%5B-5.018270957065258%2C%20-38.55815799454142%5D%2C%20%5B-5.686955342992636%2C%20-37.766515710366754%5D%2C%20%5B-22.197991494643016%2C%20-49.898475438893364%5D%2C%20%5B-23.709946072147694%2C%20-46.48836554144619%5D%2C%20%5B-0.01150489704448128%2C%20-51.11786657168166%5D%2C%20%5B-5.27883868034378%2C%20-37.361297483475916%5D%2C%20%5B-5.642595442419522%2C%20-37.86364362662535%5D%2C%20%5B-12.864028592653998%2C%20-46.55300982594323%5D%2C%20%5B-11.706428848466535%2C%20-61.72849275136924%5D%2C%20%5B-5.23377157714395%2C%20-37.34535407178499%5D%2C%20%5B-18.873050994331493%2C%20-43.48818871195843%5D%2C%20%5B-12.634310305820195%2C%20-55.57596151095187%5D%2C%20%5B-10.295025090983625%2C%20-64.67119512950647%5D%2C%20%5B-5.370715636955637%2C%20-38.068822536484085%5D%2C%20%5B-17.832379619711926%2C%20-42.876829500673324%5D%2C%20%5B-5.243310216742276%2C%20-36.80760481588552%5D%2C%20%5B-2.5857100527548895%2C%20-44.29259175144914%5D%2C%20%5B-10.89486692721437%2C%20-69.06526561354441%5D%2C%20%5B-22.304171017086347%2C%20-49.69646849090473%5D%2C%20%5B-4.839858202787395%2C%20-38.09428851038243%5D%2C%20%5B-5.686955342992636%2C%20-37.766515710366754%5D%2C%20%5B-21.72781977862462%2C%20-50.646968098608276%5D%2C%20%5B-22.901289827885577%2C%20-47.292922422294914%5D%2C%20%5B-23.329571265930248%2C%20-52.92985517980151%5D%2C%20%5B-14.639407415213013%2C%20-39.6340940802591%5D%2C%20%5B-7.539923565197889%2C%20-36.70557755356137%5D%2C%20%5B-15.846620413068434%2C%20-48.03004569265449%5D%2C%20%5B-5.614211359483131%2C%20-35.27855077786879%5D%2C%20%5B-5.772937185693896%2C%20-37.89791992809809%5D%2C%20%5B-18.028304216188594%2C%20-43.35586249272508%5D%2C%20%5B-29.939325124906738%2C%20-51.111047110236946%5D%2C%20%5B-22.532707156482985%2C%20-47.366374579017254%5D%2C%20%5B-29.087203766320005%2C%20-51.089572174489255%5D%2C%20%5B-24.97016938707965%2C%20-50.104931160300076%5D%2C%20%5B-6.3203695925369505%2C%20-50.54307335063754%5D%2C%20%5B-29.99545841367597%2C%20-51.173918255583224%5D%2C%20%5B-4.781464309846614%2C%20-37.785034349182624%5D%2C%20%5B-17.863502936404622%2C%20-41.45336147560297%5D%2C%20%5B-22.809907384607953%2C%20-46.07078456112939%5D%2C%20%5B-22.901561179547517%2C%20-42.027321048101086%5D%2C%20%5B-17.596117004700826%2C%20-52.59283644810345%5D%2C%20%5B-21.44578803811%2C%20-42.92430343958701%5D%2C%20%5B-21.120200155402756%2C%20-41.6805689745882%5D%2C%20%5B-28.5260002182725%2C%20-52.311926618945364%5D%2C%20%5B-26.94176627784306%2C%20-52.388464169548485%5D%2C%20%5B-15.23917987590145%2C%20-50.00951116480201%5D%2C%20%5B-21.133152665167373%2C%20-43.717979892131154%5D%2C%20%5B-4.6571864983239655%2C%20-38.10577706678748%5D%2C%20%5B-11.873103519834462%2C%20-43.23617569037295%5D%2C%20%5B-20.75860246836311%2C%20-49.504550422129995%5D%2C%20%5B-7.0226966901661765%2C%20-41.42734961841198%5D%2C%20%5B-8.848266649438663%2C%20-63.89294146477165%5D%2C%20%5B-25.982398807516688%2C%20-52.61105475698545%5D%2C%20%5B-3.6226539001538187%2C%20-45.13458508245827%5D%2C%20%5B-10.7527478158604%2C%20-37.411317791832616%5D%2C%20%5B-21.20028474108947%2C%20-47.73714714571081%5D%2C%20%5B-21.15413623242156%2C%20-47.21691511192411%5D%2C%20%5B-12.774296611756384%2C%20-41.21261059914902%5D%2C%20%5B-29.716380862798133%2C%20-52.41025337208406%5D%2C%20%5B-21.165797162365187%2C%20-44.242399562349696%5D%2C%20%5B-5.171219998978369%2C%20-37.4061738679106%5D%2C%20%5B-3.578191437673811%2C%20-40.91252739410419%5D%2C%20%5B-23.66215712374736%2C%20-46.66687165318771%5D%2C%20%5B-14.224054223841286%2C%20-51.881521452888265%5D%2C%20%5B-6.638228147974884%2C%20-37.31343488972115%5D%2C%20%5B-8.684629275111988%2C%20-63.858623835981014%5D%2C%20%5B-2.4985713669372998%2C%20-44.25887497092822%5D%2C%20%5B-4.294843460477802%2C%20-56.041962541708465%5D%2C%20%5B-23.402753354483576%2C%20-51.960155505235846%5D%2C%20%5B-3.9719683902086675%2C%20-44.43324117794038%5D%2C%20%5B-3.848484050826475%2C%20-49.73534597256749%5D%2C%20%5B-19.070701439931312%2C%20-57.501093742636755%5D%2C%20%5B-19.933157076998086%2C%20-43.94184367274478%5D%2C%20%5B-8.54769514674967%2C%20-71.1823374041658%5D%2C%20%5B-23.67473961036489%2C%20-46.71389368537077%5D%2C%20%5B-10.597048369584888%2C%20-39.83997742898227%5D%2C%20%5B-15.596300677688408%2C%20-56.04509802714639%5D%2C%20%5B-18.23948932609826%2C%20-43.087888131463984%5D%2C%20%5B-7.0718363901630195%2C%20-35.7165082381974%5D%2C%20%5B-22.90492611857359%2C%20-47.09748281863763%5D%2C%20%5B-4.6188634532565045%2C%20-37.80313556115055%5D%2C%20%5B-20.324522311033906%2C%20-40.404212176792065%5D%2C%20%5B-18.827248765085844%2C%20-48.211750294416824%5D%2C%20%5B-8.72902170987017%2C%20-63.98855974820334%5D%2C%20%5B-15.779355287897193%2C%20-40.62627293090185%5D%2C%20%5B-8.68414009249892%2C%20-63.85725520409743%5D%2C%20%5B-22.162216787672712%2C%20-49.6864807817682%5D%2C%20%5B-7.538116395867483%2C%20-73.09710479017198%5D%2C%20%5B-7.1442805235243245%2C%20-39.46768016649925%5D%2C%20%5B-18.647845927096753%2C%20-40.53293869753681%5D%2C%20%5B-18.93208245231052%2C%20-46.9774040437548%5D%2C%20%5B-22.45003190304769%2C%20-44.1575479838515%5D%2C%20%5B-18.111316481806185%2C%20-39.98526568052946%5D%2C%20%5B-30.033131114132576%2C%20-51.10445789611926%5D%2C%20%5B-9.44887965311687%2C%20-40.48910609294002%5D%2C%20%5B-3.103607816778585%2C%20-59.95612571176916%5D%2C%20%5B-8.831852628611147%2C%20-63.68891591642118%5D%2C%20%5B-14.915416404249555%2C%20-43.11604802836218%5D%2C%20%5B-4.839858202787395%2C%20-38.09428851038243%5D%2C%20%5B-17.80009535157977%2C%20-43.98243007861697%5D%2C%20%5B-31.712053654127413%2C%20-52.37775830464512%5D%2C%20%5B-21.88118607276673%2C%20-47.955091268059164%5D%2C%20%5B-17.79851815582321%2C%20-50.920940057547874%5D%2C%20%5B-22.35427215948046%2C%20-54.85662619826485%5D%2C%20%5B-8.001891262908323%2C%20-37.90416805004241%5D%2C%20%5B-3.7934140141762476%2C%20-49.681752379385856%5D%2C%20%5B-9.11484478919179%2C%20-63.45379854295082%5D%2C%20%5B-16.775786214980762%2C%20-49.392059467285804%5D%2C%20%5B-15.341559019846521%2C%20-44.799814431112736%5D%2C%20%5B-5.751262982653885%2C%20-37.57527747879785%5D%2C%20%5B-7.605922627393287%2C%20-73.07236723283232%5D%2C%20%5B-6.532183237567998%2C%20-36.64827820028584%5D%2C%20%5B-5.245159111726516%2C%20-37.37964456960023%5D%2C%20%5B-22.816687159081113%2C%20-42.246483753220616%5D%2C%20%5B-22.73939671349144%2C%20-43.358732039777664%5D%2C%20%5B-31.67434134973387%2C%20-52.27437884435183%5D%2C%20%5B-23.617512783586566%2C%20-46.60306913547048%5D%2C%20%5B-18.027821079686223%2C%20-50.35283310854104%5D%2C%20%5B-4.89187154656474%2C%20-37.75097498012896%5D%2C%20%5B-22.912559632430625%2C%20-43.407287240926586%5D%2C%20%5B-9.854945735214901%2C%20-63.00991151127962%5D%2C%20%5B-22.952019724718184%2C%20-41.99163314981151%5D%2C%20%5B-23.41876279487425%2C%20-51.8787670540242%5D%2C%20%5B-27.51530355090661%2C%20-48.67860758987685%5D%2C%20%5B-8.87032734814784%2C%20-63.648591766416715%5D%2C%20%5B-19.2022927223895%2C%20-40.880240191528735%5D%2C%20%5B-20.873528358001963%2C%20-49.48559779681265%5D%2C%20%5B-5.203665778246831%2C%20-42.77719325071576%5D%2C%20%5B-10.265440018689873%2C%20-63.82728843695129%5D%2C%20%5B-5.180065900953948%2C%20-37.98963254866818%5D%2C%20%5B-5.744254695862279%2C%20-37.552206260445736%5D%2C%20%5B-9.025657203820332%2C%20-63.501141372936885%5D%2C%20%5B-7.113036042078505%2C%20-48.1894333344469%5D%2C%20%5B-30.624110582400405%2C%20-52.6417829261286%5D%2C%20%5B-4.524292975285614%2C%20-48.482730581857716%5D%2C%20%5B-5.046465326771964%2C%20-37.95880161494801%5D%2C%20%5B-11.405119012055957%2C%20-41.859129642505025%5D%2C%20%5B-12.70323116472373%2C%20-38.414332400756905%5D%2C%20%5B-8.705589496893678%2C%20-63.878061340021574%5D%2C%20%5B-5.091410331752194%2C%20-37.688724919006255%5D%2C%20%5B-7.478947553922186%2C%20-37.33449683028678%5D%2C%20%5B-10.643939881718536%2C%20-62.529209112085304%5D%2C%20%5B-20.08956510118864%2C%20-44.882380936282765%5D%2C%20%5B-1.8724231610378934%2C%20-44.82890840730407%5D%2C%20%5B-4.494719798781827%2C%20-41.8399719556724%5D%2C%20%5B-20.603674708265753%2C%20-40.47124009858969%5D%2C%20%5B-21.77860287778152%2C%20-41.27818605689876%5D%2C%20%5B-29.62265313468076%2C%20-53.83600436714867%5D%2C%20%5B-7.276506666583587%2C%20-39.194621946478236%5D%2C%20%5B-7.092557475714647%2C%20-34.89491651819171%5D%2C%20%5B-3.7629393617676112%2C%20-38.635054463943554%5D%2C%20%5B-8.689740626524308%2C%20-63.85280669489837%5D%2C%20%5B-5.112013811913717%2C%20-38.0435305601314%5D%2C%20%5B-7.628820439695671%2C%20-37.49125397076749%5D%2C%20%5B-4.942304854330207%2C%20-37.64096712929427%5D%2C%20%5B-16.533255328339454%2C%20-50.43578951948144%5D%2C%20%5B-9.312963033058072%2C%20-62.065124371547235%5D%2C%20%5B-15.217306315457447%2C%20-49.70761765215414%5D%2C%20%5B-5.180065900953948%2C%20-37.98963254866818%5D%2C%20%5B-20.136894161930282%2C%20-47.41997037384814%5D%2C%20%5B-18.599823520057374%2C%20-48.2382134648474%5D%2C%20%5B-26.270196386400748%2C%20-48.879993540261616%5D%2C%20%5B-16.74557672014309%2C%20-49.39653531857124%5D%2C%20%5B-22.174282071841155%2C%20-49.97087865407026%5D%2C%20%5B-4.87108544768393%2C%20-64.99352232323271%5D%2C%20%5B-24.047087240718348%2C%20-46.945131597794386%5D%2C%20%5B-16.71100478475599%2C%20-43.86425472100284%5D%2C%20%5B-2.8734444929731073%2C%20-40.43859332098289%5D%2C%20%5B-19.6529738768289%2C%20-43.26579372349429%5D%2C%20%5B-3.973687245300621%2C%20-38.61644374424272%5D%2C%20%5B-13.65554137888746%2C%20-41.14037251676842%5D%2C%20%5B-14.505232078684662%2C%20-48.42537632973721%5D%2C%20%5B-23.170651737883826%2C%20-49.27163775371277%5D%2C%20%5B2.8723498326821244%2C%20-60.68683030917104%5D%2C%20%5B-20.81241249343752%2C%20-51.68517296524796%5D%2C%20%5B-4.763255359564152%2C%20-38.153080580507115%5D%2C%20%5B-5.143820840009819%2C%20-42.75643344933305%5D%2C%20%5B-23.765978277970042%2C%20-53.252641848728814%5D%2C%20%5B-13.43528809391904%2C%20-46.311928009760045%5D%2C%20%5B-5.091410331752194%2C%20-37.688724919006255%5D%2C%20%5B-18.11921164838495%2C%20-42.75839176321699%5D%2C%20%5B-9.220087478119698%2C%20-35.97422511250258%5D%2C%20%5B-5.23377157714395%2C%20-37.34535407178499%5D%2C%20%5B-16.33518753256833%2C%20-39.62497268850501%5D%2C%20%5B-17.663196097725613%2C%20-40.762082240621424%5D%2C%20%5B-16.626149334557503%2C%20-49.360424335371206%5D%2C%20%5B-5.242625811534421%2C%20-37.31538915560579%5D%2C%20%5B-8.253303626273977%2C%20-35.89296634373084%5D%2C%20%5B-4.6188634532565045%2C%20-37.80313556115055%5D%2C%20%5B-5.107667740128405%2C%20-36.403314878195445%5D%2C%20%5B-10.505967333513391%2C%20-40.11196161314652%5D%2C%20%5B-5.134549077512957%2C%20-36.86194853772231%5D%2C%20%5B-17.99280328699355%2C%20-39.81674006338642%5D%2C%20%5B-23.9484642548918%2C%20-48.81501014691771%5D%2C%20%5B-22.9835705951267%2C%20-47.12881192191493%5D%2C%20%5B-9.354835182201938%2C%20-40.4211742191512%5D%2C%20%5B-27.768442868186856%2C%20-52.89372875433482%5D%2C%20%5B-9.035619148798064%2C%20-63.35185153402088%5D%2C%20%5B-15.616957879030567%2C%20-56.13236677299387%5D%2C%20%5B-6.478796727728422%2C%20-37.056222770337236%5D%2C%20%5B-4.923435017672541%2C%20-37.797295011795%5D%2C%20%5B-10.858237448350591%2C%20-37.16771665561358%5D%2C%20%5B-7.273166966047178%2C%20-38.543646050520586%5D%2C%20%5B-17.703424727832374%2C%20-50.96096199735787%5D%2C%20%5B-4.1736330561079%2C%20-44.696368911209795%5D%2C%20%5B-8.838570897616895%2C%20-63.88545123531831%5D%2C%20%5B-8.746562791395437%2C%20-63.96248844193103%5D%2C%20%5B-30.12897878484743%2C%20-52.403604615209055%5D%2C%20%5B-6.397428589523051%2C%20-41.74678988966655%5D%2C%20%5B-8.802511983464921%2C%20-63.917125535539654%5D%2C%20%5B-22.027384237096868%2C%20-45.32656634216619%5D%2C%20%5B-18.508048776066445%2C%20-42.79984782247079%5D%2C%20%5B-2.5960102010636015%2C%20-44.11935053706881%5D%2C%20%5B-5.855974737148373%2C%20-38.78827972098573%5D%2C%20%5B-18.84966462677565%2C%20-46.98919809898656%5D%2C%20%5B-3.1412614537420485%2C%20-59.99342051402268%5D%2C%20%5B-23.602783436154162%2C%20-46.530826370674575%5D%2C%20%5B-22.097768631060724%2C%20-49.926943687238676%5D%2C%20%5B-21.085591339306454%2C%20-40.9384565504757%5D%2C%20%5B-8.848106905176193%2C%20-63.830652136347005%5D%2C%20%5B-23.454256191796063%2C%20-46.9041413985733%5D%2C%20%5B-20.843634027126065%2C%20-51.73137140878301%5D%2C%20%5B-25.40314119250769%2C%20-51.47134717745345%5D%2C%20%5B-19.702673684148085%2C%20-45.347004628087824%5D%2C%20%5B-15.008511229604713%2C%20-55.54981658516597%5D%2C%20%5B-3.0800742394016685%2C%20-40.056460422324946%5D%2C%20%5B-12.965404761825232%2C%20-38.4360146399402%5D%2C%20%5B-17.772014176493478%2C%20-50.976534593642604%5D%2C%20%5B-6.999898686971697%2C%20-41.47987619660282%5D%2C%20%5B-8.75211730463543%2C%20-63.88654276595812%5D%2C%20%5B-22.151703690373452%2C%20-49.622259952942485%5D%2C%20%5B-8.264403329105154%2C%20-36.01871979106063%5D%2C%20%5B-8.145138807782647%2C%20-34.867403395741896%5D%2C%20%5B-17.812211948930543%2C%20-42.84545985374974%5D%2C%20%5B-14.282128610822534%2C%20-51.90347037715169%5D%2C%20%5B-4.847132783695686%2C%20-37.21872215313916%5D%2C%20%5B-6.6926537285913215%2C%20-47.14856825962046%5D%2C%20%5B-2.9795339753402748%2C%20-40.8603268994055%5D%2C%20%5B-11.811407001237042%2C%20-48.22700298605122%5D%2C%20%5B-23.258519156105354%2C%20-51.178850154433654%5D%2C%20%5B-8.700980150063657%2C%20-63.85389478401299%5D%2C%20%5B-30.05322280689868%2C%20-51.13419029717169%5D%2C%20%5B-20.70109631063934%2C%20-48.881719101323576%5D%2C%20%5B-8.36306264514066%2C%20-70.45464008299746%5D%2C%20%5B-21.257794015527626%2C%20-47.79427497379987%5D%2C%20%5B-22.875109632017338%2C%20-48.45858498687686%5D%2C%20%5B-5.381434322115702%2C%20-38.022089956450785%5D%2C%20%5B-30.01787853666295%2C%20-51.15215929959138%5D%2C%20%5B-11.67319689783094%2C%20-61.8079707962747%5D%2C%20%5B-26.979626069700053%2C%20-48.5793174438625%5D%2C%20%5B-5.767161678020642%2C%20-37.59803085658073%5D%2C%20%5B-5.201500766258088%2C%20-37.956849500136876%5D%2C%20%5B-17.87664336634409%2C%20-50.82666312374039%5D%2C%20%5B-23.78902766989803%2C%20-53.33019865885941%5D%2C%20%5B-10.262927253243918%2C%20-48.23813074097234%5D%2C%20%5B-4.905986018162037%2C%20-65.03854664623682%5D%2C%20%5B-9.871505146352302%2C%20-63.03219626556754%5D%2C%20%5B-23.660848455931117%2C%20-52.606297305472474%5D%2C%20%5B-17.684081901591153%2C%20-40.79028790259947%5D%2C%20%5B-8.776246621922116%2C%20-63.810871198460575%5D%2C%20%5B-23.631119644884915%2C%20-51.70948281435184%5D%2C%20%5B-7.719947106294816%2C%20-72.52325366019281%5D%2C%20%5B-17.345717079566647%2C%20-53.41381907552078%5D%2C%20%5B-12.856364588358261%2C%20-38.41487130069401%5D%2C%20%5B-3.7484983766187607%2C%20-38.54230548493248%5D%2C%20%5B-7.178207506005971%2C%20-34.93896397612373%5D%2C%20%5B-13.521999842355294%2C%20-48.37371228653918%5D%2C%20%5B-12.918335830035247%2C%20-38.44850059280879%5D%2C%20%5B-1.3897488086261245%2C%20-48.138056113598%5D%2C%20%5B-20.51805789792454%2C%20-54.58992000676139%5D%2C%20%5B-12.881449687799003%2C%20-46.43545330884514%5D%2C%20%5B-23.449903499847725%2C%20-46.59144094978528%5D%2C%20%5B-23.395632050580485%2C%20-46.35795184109197%5D%2C%20%5B-18.471093639720774%2C%20-50.43690351447212%5D%2C%20%5B-5.0416207865134055%2C%20-38.47679779183559%5D%2C%20%5B-8.714322931296026%2C%20-63.90466255964496%5D%2C%20%5B-9.967806263300883%2C%20-54.44661167109104%5D%2C%20%5B-5.2243139878276805%2C%20-37.40865398154645%5D%2C%20%5B-11.430807749573411%2C%20-61.42388860931839%5D%2C%20%5B2.743391148224117%2C%20-60.649579562066236%5D%2C%20%5B-7.610668298553201%2C%20-62.6640625296968%5D%2C%20%5B-9.310841463458697%2C%20-38.20897151224511%5D%2C%20%5B-5.472441599100321%2C%20-47.501303885029536%5D%2C%20%5B-5.205997362676396%2C%20-38.021309776794496%5D%2C%20%5B-5.990037620249016%2C%20-37.081390104515805%5D%2C%20%5B-19.804272134803714%2C%20-47.94750698637197%5D%2C%20%5B0.6552778943829783%2C%20-66.54456823574661%5D%2C%20%5B-23.70135301536771%2C%20-51.78120651358287%5D%2C%20%5B-3.3046848275040066%2C%20-39.82193315275453%5D%2C%20%5B-10.03807402994652%2C%20-67.8325548193949%5D%2C%20%5B-20.581652770691125%2C%20-47.49643200430672%5D%2C%20%5B-8.701567486795058%2C%20-35.501006360706555%5D%2C%20%5B-7.15811391576293%2C%20-34.904791073793696%5D%2C%20%5B-4.6188634532565045%2C%20-37.80313556115055%5D%2C%20%5B-4.673192649665782%2C%20-40.59281507516443%5D%2C%20%5B-5.340742100208212%2C%20-38.05210155700905%5D%2C%20%5B-15.547840221442206%2C%20-50.02183135865326%5D%2C%20%5B-5.098501474101588%2C%20-38.06644874587142%5D%2C%20%5B-8.96841751884801%2C%20-42.618417464718185%5D%2C%20%5B-5.008611547220449%2C%20-42.82651461816953%5D%2C%20%5B-5.0073502422986795%2C%20-37.68736780201736%5D%2C%20%5B-7.179609154286516%2C%20-39.352236389162115%5D%2C%20%5B-5.196697300142932%2C%20-37.34715023861827%5D%2C%20%5B-5.04285621692545%2C%20-37.54371454607642%5D%2C%20%5B-10.723416013124181%2C%20-65.13151569482082%5D%2C%20%5B-10.168399695498287%2C%20-48.32388116453622%5D%2C%20%5B-8.23540214340173%2C%20-34.87731203202066%5D%2C%20%5B-5.199861465479526%2C%20-38.088883463897126%5D%2C%20%5B-4.997449933465494%2C%20-48.88641773089015%5D%2C%20%5B-3.361867568045026%2C%20-53.342737496529814%5D%2C%20%5B-20.25910046946822%2C%20-40.325754503638066%5D%2C%20%5B-5.842624533625395%2C%20-35.2002525221432%5D%2C%20%5B-15.06848246485666%2C%20-41.76772316580297%5D%2C%20%5B-4.438853462897332%2C%20-39.390961405065426%5D%2C%20%5B-18.949751344095088%2C%20-43.26727333525593%5D%2C%20%5B-10.147983912290048%2C%20-48.90166236076747%5D%2C%20%5B-11.074430922994253%2C%20-38.8191767550253%5D%2C%20%5B-8.785511111233909%2C%20-63.9043817397972%5D%2C%20%5B-28.361670834120034%2C%20-50.88647495283838%5D%2C%20%5B-21.507543841349825%2C%20-41.09445838879%5D%2C%20%5B-18.990369072936453%2C%20-48.23198276284618%5D%2C%20%5B-11.861613287162163%2C%20-60.97032138979587%5D%2C%20%5B-18.23327283236808%2C%20-43.56769673719488%5D%2C%20%5B-19.01992620329337%2C%20-43.47786710756047%5D%2C%20%5B-5.018270957065258%2C%20-38.55815799454142%5D%2C%20%5B-23.079698779042644%2C%20-48.95597968132499%5D%2C%20%5B-23.59398139255316%2C%20-49.6335213578002%5D%2C%20%5B-6.244561944011307%2C%20-40.1039068790027%5D%2C%20%5B-7.168685944197167%2C%20-35.92761164072455%5D%2C%20%5B-10.78683039547796%2C%20-69.1302839075642%5D%2C%20%5B-8.213578641645986%2C%20-42.329473310261584%5D%2C%20%5B-16.49558770340247%2C%20-39.16988973927571%5D%2C%20%5B-32.029416309361565%2C%20-52.067166581154545%5D%2C%20%5B-15.39811002940984%2C%20-41.93078971393508%5D%2C%20%5B2.842053752745543%2C%20-60.73185063957231%5D%2C%20%5B-21.121044762772833%2C%20-47.797541597035554%5D%2C%20%5B-15.02264313808751%2C%20-42.8423266240416%5D%2C%20%5B-30.178558560758294%2C%20-52.45921837114803%5D%2C%20%5B-7.014794917940544%2C%20-38.684581996035426%5D%2C%20%5B-14.832547851757019%2C%20-39.070031634453656%5D%2C%20%5B-8.684629275111988%2C%20-63.858623835981014%5D%2C%20%5B-4.726569827321769%2C%20-37.35545553789407%5D%2C%20%5B-5.100202335254815%2C%20-38.515431486158576%5D%2C%20%5B-8.662169540114885%2C%20-63.859520337322806%5D%2C%20%5B-9.81717077493631%2C%20-67.00272361307708%5D%2C%20%5B-22.090425919844865%2C%20-42.49756738041954%5D%2C%20%5B-21.444610506228873%2C%20-49.23875820834962%5D%2C%20%5B-7.493133952172092%2C%20-63.942143798153595%5D%2C%20%5B-2.356536728417846%2C%20-54.729750613165905%5D%2C%20%5B-24.70527870801251%2C%20-53.67528112755465%5D%2C%20%5B0.029075519589801868%2C%20-51.130330700398204%5D%2C%20%5B-17.35474925720173%2C%20-41.9804159221009%5D%2C%20%5B-15.331397162660622%2C%20-39.94418930087756%5D%2C%20%5B-5.152245698635537%2C%20-37.34705712841565%5D%2C%20%5B-17.044407234736152%2C%20-50.138075286997356%5D%2C%20%5B-5.019880021777675%2C%20-38.53278387206701%5D%2C%20%5B-5.042867926077904%2C%20-38.456824276619855%5D%2C%20%5B-7.383426071505127%2C%20-41.47135485932023%5D%2C%20%5B-18.887762257480148%2C%20-48.16100022236871%5D%2C%20%5B-23.3644109673048%2C%20-47.55192774682032%5D%2C%20%5B-29.151545708122246%2C%20-51.1386461804385%5D%2C%20%5B-23.62302978855702%2C%20-46.62900785361665%5D%2C%20%5B-19.033271186531415%2C%20-46.928430201857395%5D%2C%20%5B-8.020488621995623%2C%20-49.98883837722455%5D%2C%20%5B-19.017670002599843%2C%20-57.661266316596134%5D%2C%20%5B-16.055499945515738%2C%20-48.10107607341552%5D%2C%20%5B-4.842757398061469%2C%20-38.14475529520558%5D%2C%20%5B-13.761077551651951%2C%20-57.8426951499692%5D%2C%20%5B-14.875540883386163%2C%20-39.74989789284091%5D%2C%20%5B-4.532760424748643%2C%20-45.36974386522236%5D%2C%20%5B-15.411880427154609%2C%20-54.86322097177752%5D%2C%20%5B-10.043225118354794%2C%20-63.07337611371204%5D%2C%20%5B-10.73756731105888%2C%20-65.02401007256105%5D%2C%20%5B-5.775173124453278%2C%20-37.99505250607281%5D%2C%20%5B-27.754241842892732%2C%20-51.01869702387294%5D%2C%20%5B-10.7527478158604%2C%20-37.411317791832616%5D%2C%20%5B-32.06928394970727%2C%20-52.16846306487201%5D%2C%20%5B-23.013631326316887%2C%20-50.45172538211636%5D%2C%20%5B-15.608905915223476%2C%20-56.00546020707701%5D%2C%20%5B-11.535403013762457%2C%20-41.89420321580335%5D%2C%20%5B-28.312419713536503%2C%20-50.90468645713341%5D%2C%20%5B-18.330801516834363%2C%20-49.30631565441245%5D%2C%20%5B-6.178575342236353%2C%20-38.47249733393404%5D%2C%20%5B-22.904511475809297%2C%20-43.7612215708839%5D%2C%20%5B-5.3726366249168604%2C%20-37.98692279145735%5D%2C%20%5B-6.485005242008543%2C%20-49.86151732234923%5D%2C%20%5B-5.10827780001137%2C%20-38.133963946990264%5D%2C%20%5B-6.581935102225488%2C%20-49.816209334865874%5D%2C%20%5B-29.66165823219743%2C%20-55.56196425014164%5D%2C%20%5B-23.444901609514645%2C%20-51.77729019711757%5D%2C%20%5B-5.177524304884128%2C%20-37.978401123581705%5D%2C%20%5B-25.076727210151656%2C%20-50.172103230127625%5D%2C%20%5B-6.789673821285889%2C%20-35.97996286492747%5D%2C%20%5B-4.967777317901262%2C%20-38.584761354866544%5D%2C%20%5B-17.415536280162243%2C%20-49.55971373618717%5D%2C%20%5B-5.091208054588006%2C%20-42.76054772709907%5D%2C%20%5B-21.038145463796774%2C%20-54.92594566253562%5D%2C%20%5B-8.280855413418355%2C%20-46.42519601458911%5D%2C%20%5B-21.46282204236231%2C%20-47.65456857579583%5D%2C%20%5B-18.691300932929753%2C%20-49.570893907222114%5D%2C%20%5B-4.813289063388138%2C%20-37.8729874928375%5D%2C%20%5B-13.500656569052612%2C%20-39.84318191786263%5D%2C%20%5B-21.250715531299093%2C%20-47.74588287653986%5D%2C%20%5B-10.440424675270968%2C%20-51.73656993948493%5D%2C%20%5B-20.426211091875462%2C%20-49.955939479052205%5D%2C%20%5B-16.546790011472368%2C%20-39.18841910401487%5D%2C%20%5B-2.974282193937943%2C%20-59.90785638073211%5D%2C%20%5B-18.18079700435076%2C%20-43.50863977888747%5D%2C%20%5B-2.979343358912696%2C%20-60.09772847374751%5D%2C%20%5B-19.996251236041584%2C%20-44.02413840895918%5D%2C%20%5B-17.985516318348488%2C%20-39.39455358241121%5D%2C%20%5B-5.129619178999822%2C%20-37.302679493093265%5D%2C%20%5B-27.60954230816829%2C%20-48.559099110338614%5D%2C%20%5B-5.164423488858103%2C%20-37.356920426246845%5D%2C%20%5B-29.651454749941%2C%20-54.27911746552595%5D%2C%20%5B-29.801522507674314%2C%20-56.985599931894036%5D%2C%20%5B-8.01269867148742%2C%20-34.84377774604927%5D%2C%20%5B-8.766692061861026%2C%20-63.884372265109455%5D%2C%20%5B-26.550374549543974%2C%20-53.618545125266024%5D%2C%20%5B-18.449034453701437%2C%20-44.47560387949593%5D%2C%20%5B-11.492424344657719%2C%20-39.18983526371643%5D%2C%20%5B-20.873232534151352%2C%20-41.109497503037495%5D%2C%20%5B-29.207420008571187%2C%20-51.12737673124009%5D%2C%20%5B-5.30395537411761%2C%20-38.04941686977593%5D%2C%20%5B-24.31351654112262%2C%20-53.873133468556645%5D%2C%20%5B-5.352359830592015%2C%20-38.107434705181625%5D%2C%20%5B-11.432483955344411%2C%20-61.41652978644149%5D%2C%20%5B-5.126089035244706%2C%20-37.28118080604758%5D%2C%20%5B-12.61925540387775%2C%20-38.29614312762743%5D%2C%20%5B-20.093817508680367%2C%20-44.996531637434956%5D%2C%20%5B-22.227952107070063%2C%20-49.93853961091516%5D%2C%20%5B-7.230505691706119%2C%20-34.89492532652777%5D%2C%20%5B-29.161873499380228%2C%20-51.320871194156375%5D%2C%20%5B-15.707814588348096%2C%20-56.07079461391255%5D%2C%20%5B-3.1517321744153692%2C%20-59.94291975996757%5D%2C%20%5B-18.07173687616573%2C%20-43.619229615467646%5D%2C%20%5B-16.83876488459834%2C%20-50.11844612247933%5D%2C%20%5B-10.837309104418487%2C%20-37.142043193562486%5D%2C%20%5B-17.504089803103277%2C%20-54.465751587277175%5D%2C%20%5B-5.707784348354882%2C%20-35.22968813963538%5D%2C%20%5B-4.89187154656474%2C%20-37.75097498012896%5D%2C%20%5B-5.232891574474345%2C%20-37.328171657124784%5D%2C%20%5B-8.20935386119458%2C%20-35.75949687700968%5D%2C%20%5B-16.645893345815534%2C%20-49.28931687463315%5D%2C%20%5B-21.513082630615056%2C%20-43.43243081390954%5D%2C%20%5B-5.112429914899174%2C%20-37.76656030476101%5D%2C%20%5B-23.551549275006916%2C%20-46.44762881112077%5D%2C%20%5B-26.28827773566897%2C%20-50.418192433030526%5D%2C%20%5B-16.44626338746711%2C%20-53.61543149800216%5D%2C%20%5B-18.668082406108162%2C%20-47.48821654364068%5D%2C%20%5B-5.721522661459162%2C%20-37.63271971078557%5D%2C%20%5B-17.876635724165787%2C%20-44.04050076095546%5D%2C%20%5B-14.265584793856835%2C%20-42.50939646664562%5D%2C%20%5B-22.851800624829885%2C%20-43.114628853903575%5D%2C%20%5B-5.137256394356039%2C%20-37.355865948228626%5D%2C%20%5B-5.329413686639041%2C%20-38.26583609066566%5D%2C%20%5B-8.75312310278527%2C%20-63.87716318815616%5D%2C%20%5B-0.02053111050395492%2C%20-50.99974794976692%5D%2C%20%5B-22.361249555129998%2C%20-41.835559427346595%5D%2C%20%5B-17.382109955681017%2C%20-42.525026188199924%5D%2C%20%5B-22.5604401897648%2C%20-44.1800704758989%5D%2C%20%5B-20.28241881988464%2C%20-40.17209117833051%5D%2C%20%5B-6.289120078675486%2C%20-35.957849779875296%5D%2C%20%5B-18.56116916783287%2C%20-43.62069520996792%5D%2C%20%5B-4.509977719450001%2C%20-37.76449981880435%5D%2C%20%5B-9.901832618455737%2C%20-63.01588772955851%5D%2C%20%5B-9.865508486032263%2C%20-63.01675461192396%5D%2C%20%5B-21.792283122663328%2C%20-46.59549042966905%5D%2C%20%5B-7.213377157957709%2C%20-36.01927686370366%5D%2C%20%5B-20.326521599288466%2C%20-40.24291101193037%5D%2C%20%5B-5.263174602607663%2C%20-38.109038260306306%5D%2C%20%5B-11.884574087274967%2C%20-55.51638352942428%5D%2C%20%5B-10.816977192383263%2C%20-41.33832673284672%5D%2C%20%5B-5.349078999600499%2C%20-38.05662521107518%5D%2C%20%5B-22.143696281203592%2C%20-48.81662474734539%5D%2C%20%5B-22.93478838618666%2C%20-51.98239382389279%5D%2C%20%5B-11.008576176942453%2C%20-41.77510865406542%5D%2C%20%5B-29.24273326004151%2C%20-51.20005034701876%5D%2C%20%5B-19.49626984638669%2C%20-47.460996951248674%5D%2C%20%5B-5.2050255301567425%2C%20-37.44516381121989%5D%2C%20%5B-26.65906754126585%2C%20-48.98545603048591%5D%2C%20%5B-18.484370177260878%2C%20-42.76877889290293%5D%2C%20%5B-8.787108696268845%2C%20-63.82357423573863%5D%2C%20%5B-23.268554610544594%2C%20-51.22879758848157%5D%2C%20%5B-20.84991385555058%2C%20-41.13101582978871%5D%2C%20%5B-17.276994565466676%2C%20-41.96768283434424%5D%2C%20%5B-7.779470904960322%2C%20-73.14595510728171%5D%2C%20%5B-26.8401454995631%2C%20-52.47962732645934%5D%2C%20%5B-5.110461664093853%2C%20-38.00762987237279%5D%2C%20%5B-23.97780378622335%2C%20-48.631431947326305%5D%2C%20%5B-13.540164123895563%2C%20-48.38447694081029%5D%2C%20%5B-6.190278603687323%2C%20-49.64454217807826%5D%2C%20%5B-29.68991761747503%2C%20-52.41515513541962%5D%2C%20%5B-4.868494158079614%2C%20-38.21747418008846%5D%2C%20%5B-8.870968039563506%2C%20-72.7734934440894%5D%2C%20%5B-12.840165141783213%2C%20-38.467450305007546%5D%2C%20%5B-20.181978271708267%2C%20-56.56480815666897%5D%2C%20%5B-13.895584740825697%2C%20-40.008392863202396%5D%2C%20%5B-2.5279000095758164%2C%20-44.306060162644194%5D%2C%20%5B-14.19468589030812%2C%20-41.707042454117655%5D%2C%20%5B-19.399269238305127%2C%20-40.48374581273985%5D%2C%20%5B-1.481399862964765%2C%20-55.654433460663874%5D%2C%20%5B-8.731775791266367%2C%20-63.746171267548355%5D%2C%20%5B-3.0197954988548275%2C%20-40.115144670240724%5D%2C%20%5B-5.552172160933968%2C%20-37.25105399483229%5D%2C%20%5B-4.945536522208776%2C%20-38.06351287550685%5D%2C%20%5B-31.801727441562644%2C%20-52.36307843402249%5D%2C%20%5B-29.161873499380228%2C%20-51.320871194156375%5D%2C%20%5B-22.867745101292446%2C%20-42.0618602426978%5D%2C%20%5B-4.7839246808415945%2C%20-47.33883320183043%5D%2C%20%5B-3.132453857291032%2C%20-60.043288204519975%5D%2C%20%5B-25.46475466966132%2C%20-54.48729105009617%5D%2C%20%5B-5.2025293573277995%2C%20-37.38221024300654%5D%2C%20%5B-5.8303632336287725%2C%20-35.347107981860944%5D%2C%20%5B-9.038513866203404%2C%20-42.623036303413826%5D%2C%20%5B-4.895953048232153%2C%20-38.06107729571794%5D%2C%20%5B-20.56435283282652%2C%20-54.57378378369927%5D%2C%20%5B-19.024796785490288%2C%20-57.6664577774979%5D%2C%20%5B-17.838527518103813%2C%20-44.08519584311632%5D%2C%20%5B-6.451316941541457%2C%20-37.396746529611015%5D%2C%20%5B-12.648552691245888%2C%20-55.48464453724279%5D%2C%20%5B-18.69654159300337%2C%20-42.75544151275337%5D%2C%20%5B-5.744254695862279%2C%20-37.552206260445736%5D%2C%20%5B-23.433460000160277%2C%20-45.04518471527748%5D%2C%20%5B-6.451316941541457%2C%20-37.396746529611015%5D%2C%20%5B-8.421433855046821%2C%20-35.00470645402149%5D%2C%20%5B-15.2759030484824%2C%20-41.442331003773695%5D%2C%20%5B-8.723440707527136%2C%20-63.84917193374359%5D%2C%20%5B-0.016174439413368942%2C%20-51.05856882434602%5D%2C%20%5B-22.984028134163818%2C%20-52.44577653963926%5D%2C%20%5B-7.489308591687456%2C%20-38.503432367953764%5D%2C%20%5B-18.867646902743193%2C%20-41.966717529891724%5D%2C%20%5B-12.812535431286038%2C%20-38.388671220005044%5D%2C%20%5B-23.251784105673217%2C%20-45.958527792096255%5D%2C%20%5B-15.572484333096053%2C%20-56.032651585375795%5D%2C%20%5B-21.096058450568094%2C%20-42.4032980876608%5D%2C%20%5B-3.1412614537420485%2C%20-59.99342051402268%5D%2C%20%5B-17.958991843183306%2C%20-50.26470794056919%5D%2C%20%5B-20.22280036431837%2C%20-50.4994059450384%5D%2C%20%5B-8.264403329105154%2C%20-36.01871979106063%5D%2C%20%5B-19.68791916265886%2C%20-50.219063242073865%5D%2C%20%5B-8.79026927597344%2C%20-63.818927073607234%5D%2C%20%5B-5.766844405120911%2C%20-37.56115151470353%5D%2C%20%5B-23.856956896338396%2C%20-46.345428102513814%5D%2C%20%5B-2.8734444929731073%2C%20-40.43859332098289%5D%2C%20%5B-12.293579058333451%2C%20-41.181863761912666%5D%2C%20%5B-7.521189671824913%2C%20-36.73608898796475%5D%2C%20%5B-18.507591940601507%2C%20-42.83432181778919%5D%2C%20%5B-22.542317192486152%2C%20-46.57141133376215%5D%2C%20%5B-2.438720215666351%2C%20-44.11560848672158%5D%2C%20%5B-15.331397162660622%2C%20-39.94418930087756%5D%2C%20%5B-23.411880509767116%2C%20-47.441178614804556%5D%2C%20%5B-5.03746732792373%2C%20-38.51086003356812%5D%2C%20%5B-4.913818741248113%2C%20-37.83674138737664%5D%2C%20%5B2.8741022251767108%2C%20-60.57378380051309%5D%2C%20%5B-4.895953048232153%2C%20-38.06107729571794%5D%2C%20%5B-23.472447074180515%2C%20-46.75301520101304%5D%2C%20%5B-15.927964296805289%2C%20-42.0941847133477%5D%2C%20%5B-19.62509035085085%2C%20-44.77567381626005%5D%2C%20%5B-5.74859826444398%2C%20-35.323578433717046%5D%2C%20%5B-25.477780957266674%2C%20-54.51871754648354%5D%2C%20%5B-19.958103541799076%2C%20-44.06453876404863%5D%2C%20%5B-22.621970077476583%2C%20-50.41391174975299%5D%2C%20%5B-5.06352746409544%2C%20-37.65547520330543%5D%2C%20%5B-27.070813721967273%2C%20-52.68554888131904%5D%2C%20%5B-17.356897762754883%2C%20-42.07006912268528%5D%2C%20%5B-11.647187461521803%2C%20-38.94623752512412%5D%2C%20%5B-18.71164225438822%2C%20-40.77689060888512%5D%2C%20%5B-18.846377388490815%2C%20-41.99073139053998%5D%2C%20%5B-5.117961513065902%2C%20-42.79942111961117%5D%2C%20%5B-0.13917025555961357%2C%20-50.36647941823018%5D%2C%20%5B-5.112013811913717%2C%20-38.0435305601314%5D%2C%20%5B-21.31532629327265%2C%20-45.72236219465494%5D%2C%20%5B-22.225427889336387%2C%20-42.385831420355544%5D%2C%20%5B-6.903369393378545%2C%20-40.19760314605528%5D%2C%20%5B-31.73886484751756%2C%20-52.34759586282064%5D%2C%20%5B-16.486731215966355%2C%20-43.06256516573272%5D%2C%20%5B-5.177524304884128%2C%20-37.978401123581705%5D%2C%20%5B-18.507591940601507%2C%20-42.83432181778919%5D%2C%20%5B-13.003229642253602%2C%20-38.545782851546846%5D%2C%20%5B-5.090661366642828%2C%20-37.234021307183646%5D%2C%20%5B-4.493617306653444%2C%20-37.79527287545938%5D%2C%20%5B-23.205926421801056%2C%20-46.91135814468569%5D%2C%20%5B-15.550180169282317%2C%20-56.06643084032022%5D%2C%20%5B-14.223318512920855%2C%20-42.82559277802364%5D%2C%20%5B-23.558395594776236%2C%20-51.73110269705946%5D%2C%20%5B-8.838570897616895%2C%20-63.88545123531831%5D%2C%20%5B-11.428812018690344%2C%20-54.99141967684186%5D%2C%20%5B-6.867964135869547%2C%20-48.00325074913246%5D%2C%20%5B-5.418436771184521%2C%20-38.741636288935005%5D%2C%20%5B-11.203907557554292%2C%20-57.55979768624962%5D%2C%20%5B-25.05218916046603%2C%20-53.43558243679472%5D%2C%20%5B-5.617891061682188%2C%20-37.34330115321491%5D%2C%20%5B-20.27242438299239%2C%20-40.31896933145049%5D%2C%20%5B-25.44950195667128%2C%20-51.421152038099194%5D%2C%20%5B-4.927090175596151%2C%20-38.94129952774461%5D%2C%20%5B-4.511307141215452%2C%20-37.744723570998374%5D%2C%20%5B-4.939779771454179%2C%20-38.1356508509967%5D%2C%20%5B-22.934422765264813%2C%20-43.070141321713464%5D%2C%20%5B-4.077792659747835%2C%20-40.95157879977835%5D%2C%20%5B-3.4131677032896843%2C%20-41.57440943563213%5D%2C%20%5B-9.32702639347867%2C%20-62.063704531681076%5D%2C%20%5B-5.766844405120911%2C%20-37.56115151470353%5D%2C%20%5B-5.094650833298175%2C%20-37.35632584826588%5D%2C%20%5B-10.337930569168932%2C%20-36.90537839823682%5D%2C%20%5B-16.77756770623495%2C%20-49.34558974788742%5D%2C%20%5B-22.952232071137985%2C%20-49.976259094931336%5D%2C%20%5B-5.220333785447557%2C%20-36.53813983586869%5D%2C%20%5B-28.771976031490624%2C%20-49.21554947149951%5D%2C%20%5B-14.707147022131691%2C%20-39.32508143914097%5D%2C%20%5B-1.1335910104532154%2C%20-46.79375507727548%5D%2C%20%5B-4.653318411696609%2C%20-37.37455079106273%5D%2C%20%5B-17.82587794701353%2C%20-43.93649378991469%5D%2C%20%5B-5.055241604527106%2C%20-37.00799158663919%5D%2C%20%5B-20.454075585559274%2C%20-45.04274966367879%5D%2C%20%5B-31.75735916568124%2C%20-52.348524530483175%5D%2C%20%5B-23.673282178235315%2C%20-46.54573644104111%5D%2C%20%5B-1.4646203110587672%2C%20-48.45941903171241%5D%2C%20%5B-8.768235869643332%2C%20-63.967949812818496%5D%2C%20%5B-6.523173514211083%2C%20-49.87467518727095%5D%2C%20%5B-12.652350324447964%2C%20-55.64070911787519%5D%2C%20%5B-18.873050994331493%2C%20-43.48818871195843%5D%2C%20%5B-17.4765452942527%2C%20-44.798188991922565%5D%2C%20%5B-8.168264431206788%2C%20-34.90781630486724%5D%2C%20%5B-5.772937185693896%2C%20-37.89791992809809%5D%2C%20%5B-5.514970890094666%2C%20-37.61233614621631%5D%2C%20%5B-19.47154540148362%2C%20-42.56883447163384%5D%2C%20%5B-16.829779125029997%2C%20-49.38099879640478%5D%2C%20%5B-16.601527682198505%2C%20-49.18491871239742%5D%2C%20%5B-7.985754155870611%2C%20-38.3720573609914%5D%2C%20%5B-18.65808596925524%2C%20-41.0968728012806%5D%2C%20%5B-19.55423170088001%2C%20-42.65810004206062%5D%2C%20%5B-29.422405617644685%2C%20-52.038928942330486%5D%2C%20%5B-23.679463003876556%2C%20-46.65817822174362%5D%2C%20%5B-4.949235608645436%2C%20-48.36539162495978%5D%2C%20%5B-12.922940844488656%2C%20-38.31598889145966%5D%2C%20%5B-4.253842560522863%2C%20-41.762035360740605%5D%2C%20%5B-21.764267960889587%2C%20-48.123961846745516%5D%2C%20%5B-2.463769161464482%2C%20-44.86623779752258%5D%2C%20%5B-5.110877435034868%2C%20-37.61946663428583%5D%2C%20%5B-5.269859456030659%2C%20-37.24387282468639%5D%2C%20%5B-5.037456708024286%2C%20-39.863985782152966%5D%2C%20%5B-27.22540684842829%2C%20-51.31300572637618%5D%2C%20%5B-23.602783436154162%2C%20-46.530826370674575%5D%2C%20%5B-5.154237540954488%2C%20-37.34579102657323%5D%2C%20%5B-18.620931436642227%2C%20-39.7596620765035%5D%2C%20%5B-16.670190202991733%2C%20-49.08968300189743%5D%2C%20%5B-10.571348630507964%2C%20-36.57739155746608%5D%2C%20%5B-22.15011199384029%2C%20-51.4423177094354%5D%2C%20%5B-5.3726366249168604%2C%20-37.98692279145735%5D%2C%20%5B-5.703907261549737%2C%20-37.99100035954817%5D%2C%20%5B-7.301295452772377%2C%20-47.28165965844152%5D%2C%20%5B-24.887841807144532%2C%20-50.499627963549614%5D%2C%20%5B-29.66165823219743%2C%20-55.56196425014164%5D%2C%20%5B-24.889749975137743%2C%20-53.392085893452006%5D%2C%20%5B-4.647381312129666%2C%20-37.73094727107998%5D%2C%20%5B-14.476323706239043%2C%20-58.204834682112455%5D%2C%20%5B-23.151723997517923%2C%20-50.28566182793332%5D%2C%20%5B-15.61980664859695%2C%20-38.93206039763273%5D%2C%20%5B-5.370081513682156%2C%20-38.26274368877834%5D%2C%20%5B-5.034598819109547%2C%20-39.775329025327196%5D%2C%20%5B-16.341663868600463%2C%20-48.962057921161744%5D%2C%20%5B-22.950098656343542%2C%20-43.17484098110266%5D%2C%20%5B-16.633190310903014%2C%20-49.25399615355249%5D%2C%20%5B-22.076768084280584%2C%20-47.85387931978861%5D%2C%20%5B-18.893096846790975%2C%20-48.318182085620016%5D%2C%20%5B-27.03984200989706%2C%20-48.64357151841693%5D%2C%20%5B-8.82923583988218%2C%20-63.78649882543258%5D%2C%20%5B-3.722969941017351%2C%20-39.543969840894%5D%2C%20%5B-10.023789545688556%2C%20-38.600551874852584%5D%2C%20%5B-22.906929877694623%2C%20-47.218571153829934%5D%2C%20%5B-8.096220600663194%2C%20-34.88489364218484%5D%2C%20%5B-15.212713161921675%2C%20-49.401237530049656%5D%2C%20%5B-23.52049044890667%2C%20-51.337605425555275%5D%2C%20%5B-19.453366571790255%2C%20-40.07617342447445%5D%2C%20%5B-5.035656533467296%2C%20-38.50429265940116%5D%2C%20%5B-17.799760893215183%2C%20-50.91400342722571%5D%2C%20%5B-9.22295693699184%2C%20-35.98994725507987%5D%2C%20%5B-15.141809131919846%2C%20-54.26109435862378%5D%2C%20%5B-17.272316054029865%2C%20-48.946918997455064%5D%2C%20%5B-20.18545095951981%2C%20-56.56400100683762%5D%2C%20%5B-5.0416207865134055%2C%20-38.47679779183559%5D%2C%20%5B-15.601736463807024%2C%20-56.024869889502924%5D%2C%20%5B-5.541976446800447%2C%20-38.163460236269295%5D%2C%20%5B-8.265357155349301%2C%20-40.780448491281156%5D%2C%20%5B-14.900426033604948%2C%20-40.88754629110633%5D%2C%20%5B-10.78683039547796%2C%20-69.1302839075642%5D%2C%20%5B-4.7716552389054%2C%20-37.28131900001743%5D%2C%20%5B-23.48239310856288%2C%20-51.953425318460155%5D%2C%20%5B-22.75450868590886%2C%20-43.45363388723298%5D%2C%20%5B-5.127922674524251%2C%20-37.39293160996561%5D%2C%20%5B-4.811876695441778%2C%20-38.12667140753789%5D%2C%20%5B-3.0685931126466417%2C%20-45.0759992095829%5D%2C%20%5B-17.81275344248035%2C%20-42.90034290839577%5D%2C%20%5B-3.780065899549381%2C%20-38.51713195229369%5D%2C%20%5B-20.447146410086773%2C%20-46.062435057736955%5D%2C%20%5B-4.8693256980565005%2C%20-38.100079586650324%5D%2C%20%5B-4.89187154656474%2C%20-37.75097498012896%5D%2C%20%5B-10.044706104338433%2C%20-56.48621538106613%5D%2C%20%5B-6.871448746757065%2C%20-38.45884414862559%5D%2C%20%5B-31.69781071538371%2C%20-51.661139381840016%5D%2C%20%5B-12.480433347419167%2C%20-41.92062416029738%5D%2C%20%5B-5.381434322115702%2C%20-38.022089956450785%5D%2C%20%5B-9.556515532654673%2C%20-35.88503664805764%5D%2C%20%5B-21.195367213843223%2C%20-41.82472984693525%5D%2C%20%5B-7.39145917124965%2C%20-39.30741739078346%5D%2C%20%5B-4.8613344790155315%2C%20-38.03965575326092%5D%2C%20%5B-11.889587893045018%2C%20-55.50588621402091%5D%2C%20%5B-8.784834075440312%2C%20-63.962273344005666%5D%2C%20%5B-20.948787147970158%2C%20-48.792771178273576%5D%2C%20%5B-23.51388747179625%2C%20-51.80950251907395%5D%2C%20%5B-21.12756795840128%2C%20-43.98668397578714%5D%2C%20%5B-19.44303528299364%2C%20-42.59271052622634%5D%2C%20%5B-7.178067110028383%2C%20-35.77851072498925%5D%2C%20%5B-5.045738518579823%2C%20-37.598543066991816%5D%2C%20%5B-5.018270957065258%2C%20-38.55815799454142%5D%2C%20%5B-25.12623383275273%2C%20-54.30177088956553%5D%2C%20%5B-14.18706341295476%2C%20-43.57036674251854%5D%2C%20%5B-9.854945735214901%2C%20-63.00991151127962%5D%2C%20%5B-4.725348748373839%2C%20-37.280119148650826%5D%2C%20%5B-2.426156421111141%2C%20-54.666094799012626%5D%2C%20%5B-7.624955308900374%2C%20-43.60095183557125%5D%2C%20%5B-1.1335910104532154%2C%20-46.79375507727548%5D%2C%20%5B-20.555515059272608%2C%20-43.87788886599267%5D%2C%20%5B-15.61536279632277%2C%20-56.07983892564593%5D%2C%20%5B-2.588389806502738%2C%20-44.23218372240906%5D%2C%20%5B-17.592076858200357%2C%20-45.85052705019085%5D%2C%20%5B-9.96951558266523%2C%20-36.178904249272726%5D%2C%20%5B-5.906955279857%2C%20-39.24009301228889%5D%2C%20%5B-5.112429914899174%2C%20-37.76656030476101%5D%2C%20%5B-21.024775922227704%2C%20-44.94381948037793%5D%2C%20%5B-9.643481580270166%2C%20-42.34409144501602%5D%2C%20%5B-14.735864373673184%2C%20-39.028781671607504%5D%2C%20%5B-19.926661093327954%2C%20-42.089648694478036%5D%2C%20%5B-17.86929261097674%2C%20-42.924807086929114%5D%2C%20%5B-5.212546956859644%2C%20-36.45155567242471%5D%2C%20%5B-3.0933886070203838%2C%20-60.056326029843426%5D%2C%20%5B-5.290454876828418%2C%20-38.21744117461137%5D%2C%20%5B-8.673895803469406%2C%20-36.345968051885244%5D%2C%20%5B-10.043225118354794%2C%20-63.07337611371204%5D%2C%20%5B2.8244301542413592%2C%20-60.71748613728867%5D%2C%20%5B-20.161257100527383%2C%20-40.2923004106523%5D%2C%20%5B-2.4384668285743527%2C%20-44.225305778512976%5D%2C%20%5B-19.689242841348218%2C%20-42.98151274299936%5D%2C%20%5B-20.48402547923659%2C%20-43.81630596055831%5D%2C%20%5B-23.18226774871572%2C%20-45.846905242749116%5D%2C%20%5B-2.463872630590442%2C%20-54.67863115204027%5D%2C%20%5B-19.559718444689526%2C%20-46.8484590683093%5D%2C%20%5B-5.199861465479526%2C%20-38.088883463897126%5D%2C%20%5B-23.399237495768293%2C%20-51.375089037741%5D%2C%20%5B-18.184891778113926%2C%20-43.63387505949072%5D%2C%20%5B-18.451636139537573%2C%20-42.788692662592446%5D%2C%20%5B-12.681187627206809%2C%20-55.62810241875343%5D%2C%20%5B-17.546198606824863%2C%20-52.676393340770474%5D%2C%20%5B-4.865987350214674%2C%20-38.12242251855713%5D%2C%20%5B-3.6960804083123224%2C%20-40.34115861682714%5D%2C%20%5B-19.970463789578822%2C%20-43.804577171219655%5D%2C%20%5B-22.190095908921233%2C%20-49.07636424926214%5D%2C%20%5B-22.278862756943134%2C%20-42.52028400400679%5D%2C%20%5B-7.720725806653234%2C%20-72.63073450367962%5D%2C%20%5B-7.760423984778182%2C%20-41.29138155970376%5D%2C%20%5B-5.642595442419522%2C%20-37.86364362662535%5D%2C%20%5B-27.04292278435904%2C%20-48.6898851118443%5D%2C%20%5B-17.887059855916448%2C%20-39.75562202514312%5D%2C%20%5B-3.491421089744206%2C%20-53.78326182235968%5D%2C%20%5B-4.714188768903282%2C%20-38.022162937446325%5D%2C%20%5B-13.993914362396774%2C%20-39.68153116770368%5D%2C%20%5B-6.804138447020084%2C%20-39.04354811925884%5D%2C%20%5B-18.63053520119327%2C%20-43.06456597923938%5D%2C%20%5B-5.1786087675239205%2C%20-37.39244087644481%5D%2C%20%5B-20.135784429861424%2C%20-41.54678556342176%5D%2C%20%5B-9.9996950516177%2C%20-57.49153424790772%5D%2C%20%5B-20.926337901784596%2C%20-49.258736356472646%5D%2C%20%5B-4.891558992329904%2C%20-38.08870997014607%5D%2C%20%5B-20.331624893048364%2C%20-45.58652857396007%5D%2C%20%5B2.92470216650778%2C%20-60.722440040515934%5D%2C%20%5B-5.17901063185274%2C%20-38.11263258431692%5D%2C%20%5B-9.60230756817156%2C%20-35.73574500493604%5D%2C%20%5B-16.329501418143835%2C%20-57.939986619260466%5D%2C%20%5B-9.390790687139884%2C%20-40.3836291230321%5D%2C%20%5B-20.74414693970395%2C%20-42.209661023782544%5D%2C%20%5B-5.334579149304037%2C%20-38.08536089719182%5D%2C%20%5B-22.428889426689697%2C%20-45.492369129954945%5D%2C%20%5B-30.083642758356113%2C%20-51.187574784394165%5D%2C%20%5B-23.141048845801098%2C%20-49.320484944470266%5D%2C%20%5B-2.6668604758292895%2C%20-44.162572643412865%5D%2C%20%5B-22.17071079573035%2C%20-41.4773061734893%5D%2C%20%5B-5.105861253840971%2C%20-38.35149984446606%5D%2C%20%5B-22.2666670908411%2C%20-49.81810300630464%5D%2C%20%5B-9.11484478919179%2C%20-63.45379854295082%5D%2C%20%5B-7.1988478350928915%2C%20-39.28470471624784%5D%2C%20%5B-5.2025293573277995%2C%20-37.38221024300654%5D%2C%20%5B-9.644672859581949%2C%20-35.73286355138454%5D%2C%20%5B-4.821622024840304%2C%20-38.14829792222185%5D%2C%20%5B0.03463560209229626%2C%20-51.06785981861579%5D%2C%20%5B-1.1758773697166232%2C%20-50.461534685319826%5D%2C%20%5B-4.725348748373839%2C%20-37.280119148650826%5D%2C%20%5B-16.131567381785306%2C%20-40.207305953954865%5D%2C%20%5B-30.135527292976242%2C%20-51.07065337532266%5D%2C%20%5B-22.803687238663368%2C%20-46.49937128580864%5D%2C%20%5B-3.7206730085035105%2C%20-38.41478532972442%5D%2C%20%5B-8.741108325849455%2C%20-64.00032311443765%5D%2C%20%5B-31.793225684504048%2C%20-52.26622110805486%5D%2C%20%5B-21.623909920212697%2C%20-45.37542532808974%5D%2C%20%5B-19.490682927418852%2C%20-40.0542002416931%5D%2C%20%5B-8.745479514167403%2C%20-63.93439012710771%5D%2C%20%5B-19.983075193435564%2C%20-43.96857940361399%5D%2C%20%5B-8.832177072549634%2C%20-63.924249088928356%5D%2C%20%5B-14.241805950040717%2C%20-51.8970455553148%5D%2C%20%5B-4.8287202083856%2C%20-38.05127296642818%5D%2C%20%5B-1.3088419416461403%2C%20-48.36684011439061%5D%2C%20%5B-23.54850255729525%2C%20-46.64890135735563%5D%2C%20%5B-22.769338918865593%2C%20-42.2638142008384%5D%2C%20%5B-21.89801580996226%2C%20-48.81595186025363%5D%2C%20%5B-10.065000463887385%2C%20-40.07888009392867%5D%2C%20%5B-5.241591059935838%2C%20-37.35412632171735%5D%2C%20%5B-5.59554291970724%2C%20-37.29059604718973%5D%2C%20%5B-27.637073145130774%2C%20-48.58570795924672%5D%2C%20%5B-4.834474203517447%2C%20-38.15270675624388%5D%2C%20%5B-23.1910982397528%2C%20-51.27959197945833%5D%2C%20%5B-26.442677131149754%2C%20-49.18678129465577%5D%2C%20%5B-5.329413686639041%2C%20-38.26583609066566%5D%2C%20%5B-12.90768041258216%2C%20-46.520873190490754%5D%2C%20%5B2.7871312251963642%2C%20-60.588222998775194%5D%2C%20%5B-4.653318411696609%2C%20-37.37455079106273%5D%2C%20%5B-5.027303961218093%2C%20-37.712381028036354%5D%2C%20%5B-23.464780061922525%2C%20-47.5079552716526%5D%2C%20%5B-9.116712086693193%2C%20-41.30463226473129%5D%2C%20%5B-23.74112233567247%2C%20-49.755686089988956%5D%2C%20%5B-4.837956574473234%2C%20-38.158737114370204%5D%2C%20%5B-7.541408843805513%2C%20-37.30492551795082%5D%2C%20%5B-6.366184848303552%2C%20-41.284415614477275%5D%2C%20%5B-5.099311212627501%2C%20-42.82225885111012%5D%2C%20%5B-4.868494158079614%2C%20-38.21747418008846%5D%2C%20%5B-29.783294031296272%2C%20-55.79722982889744%5D%2C%20%5B-5.110461664093853%2C%20-38.00762987237279%5D%2C%20%5B-9.368644611990304%2C%20-62.03294607519766%5D%2C%20%5B-5.0873260291693985%2C%20-37.62879331582293%5D%2C%20%5B-16.017972816523862%2C%20-48.024003444885466%5D%2C%20%5B-25.357258372991588%2C%20-51.423798351344935%5D%2C%20%5B-29.819898586600242%2C%20-51.54483557815003%5D%2C%20%5B-16.276491394381175%2C%20-57.91291639537727%5D%2C%20%5B-8.255923137473145%2C%20-35.947927451018295%5D%2C%20%5B-19.07077933982714%2C%20-57.59165954540552%5D%2C%20%5B-8.753095142376539%2C%20-63.90686299412286%5D%2C%20%5B-10.033932526187236%2C%20-67.7866616780916%5D%2C%20%5B-4.8693256980565005%2C%20-38.100079586650324%5D%2C%20%5B-5.145906109272816%2C%20-37.33528988259234%5D%2C%20%5B-8.067214483962355%2C%20-35.1830452434621%5D%2C%20%5B-6.91383355798331%2C%20-41.5008035816797%5D%2C%20%5B-4.228124822310819%2C%20-38.63782639298658%5D%2C%20%5B-0.09200497956691502%2C%20-51.10021652022072%5D%2C%20%5B-7.723452910250312%2C%20-72.5132633780636%5D%2C%20%5B-19.903120962330764%2C%20-43.99735210321721%5D%2C%20%5B-5.198943243911996%2C%20-37.39401297526828%5D%2C%20%5B-5.154237540954488%2C%20-37.34579102657323%5D%2C%20%5B-11.831319857332561%2C%20-55.43103006027915%5D%2C%20%5B-15.981493238384592%2C%20-44.759847060142654%5D%2C%20%5B-10.557046635862479%2C%20-62.215763771769%5D%2C%20%5B-19.701582672542145%2C%20-47.99922738885632%5D%2C%20%5B-23.019452628812946%2C%20-47.00879987805156%5D%2C%20%5B-25.85868965299104%2C%20-52.437811102809256%5D%2C%20%5B-18.75279631345811%2C%20-39.77300210260131%5D%2C%20%5B-5.484753823458559%2C%20-47.450888680549426%5D%2C%20%5B-25.385026579556403%2C%20-49.20210159108653%5D%2C%20%5B-30.089400374814833%2C%20-51.252367509719306%5D%2C%20%5B-5.105861253840971%2C%20-38.35149984446606%5D%2C%20%5B-21.249264702733367%2C%20-41.975803932785915%5D%2C%20%5B-23.918517442801065%2C%20-54.233191590688335%5D%2C%20%5B-23.202630031414053%2C%20-49.346807073962005%5D%2C%20%5B-16.353241795650344%2C%20-49.00421568749319%5D%2C%20%5B-20.401270148443807%2C%20-54.52558796913536%5D%2C%20%5B-28.373662786513037%2C%20-52.363682580072926%5D%2C%20%5B-11.484052776027472%2C%20-61.4849796001605%5D%2C%20%5B-22.98722791094955%2C%20-42.61824253157276%5D%2C%20%5B-6.559418257064464%2C%20-36.40395374294531%5D%2C%20%5B-24.490046304001734%2C%20-53.62732769056361%5D%2C%20%5B-1.1621008389326988%2C%20-50.54417206879857%5D%2C%20%5B-8.551202820904873%2C%20-45.296346824912476%5D%2C%20%5B-14.430914476733378%2C%20-39.22282558387954%5D%2C%20%5B-29.72568940048457%2C%20-53.903377310762444%5D%2C%20%5B-10.089287826968139%2C%20-51.33552892781791%5D%2C%20%5B-14.803273308914015%2C%20-40.83413470920022%5D%2C%20%5B-22.67456863245372%2C%20-52.0515769261951%5D%2C%20%5B-22.922569037838464%2C%20-49.780603019264234%5D%2C%20%5B-5.156182564679609%2C%20-42.8245907298799%5D%2C%20%5B-6.532183237567998%2C%20-36.64827820028584%5D%2C%20%5B-7.301295452772377%2C%20-47.28165965844152%5D%2C%20%5B-19.90075359864909%2C%20-43.93348779948495%5D%2C%20%5B-18.257501607829738%2C%20-43.6168351392565%5D%2C%20%5B-15.243652801504897%2C%20-49.710097202562935%5D%2C%20%5B-25.444281915590356%2C%20-51.46722201204195%5D%2C%20%5B-4.853355102420708%2C%20-66.9494261438994%5D%2C%20%5B-18.484081422605826%2C%20-43.28446361461732%5D%2C%20%5B-10.547795794282603%2C%20-40.07924929944493%5D%2C%20%5B-16.82592835872614%2C%20-49.40195180316591%5D%2C%20%5B-5.541976446800447%2C%20-38.163460236269295%5D%2C%20%5B-5.155578715600253%2C%20-37.484067614121635%5D%2C%20%5B-9.640418865439639%2C%20-35.69779818558276%5D%2C%20%5B-5.171989576502743%2C%20-37.38488273719577%5D%2C%20%5B-20.37430312665708%2C%20-44.52019277133542%5D%2C%20%5B-4.970162505112212%2C%20-42.752856263294554%5D%2C%20%5B-5.473827269390231%2C%20-47.423008956768136%5D%2C%20%5B-17.35987859893988%2C%20-42.93561029563695%5D%2C%20%5B-21.998996157537572%2C%20-47.91768444044742%5D%2C%20%5B-4.813289063388138%2C%20-37.8729874928375%5D%2C%20%5B-5.199861465479526%2C%20-38.088883463897126%5D%2C%20%5B-19.019790948772076%2C%20-40.522897840454846%5D%2C%20%5B-29.9938302814243%2C%20-51.17920147330807%5D%2C%20%5B-3.8659946681310084%2C%20-38.63524496240036%5D%2C%20%5B-9.528479138830763%2C%20-65.75161183034031%5D%2C%20%5B-29.75254306287497%2C%20-52.44644549095309%5D%2C%20%5B-14.806153843527246%2C%20-39.27626647560172%5D%2C%20%5B-14.12929056551877%2C%20-41.236801830203625%5D%2C%20%5B-11.28795918688259%2C%20-41.79438287754746%5D%2C%20%5B-5.618724306389648%2C%20-37.76118896158612%5D%2C%20%5B-14.251129725911888%2C%20-40.41713504639595%5D%2C%20%5B-23.531401920468642%2C%20-46.641813403071815%5D%2C%20%5B-27.992694816361833%2C%20-51.95718366461541%5D%2C%20%5B-16.427520809040864%2C%20-49.20423534582839%5D%2C%20%5B-22.80121766422555%2C%20-47.00555177282503%5D%2C%20%5B-5.045738518579823%2C%20-37.598543066991816%5D%2C%20%5B-17.074865685717576%2C%20-46.957012963901626%5D%2C%20%5B-10.152049492741808%2C%20-37.51460721542456%5D%2C%20%5B-29.122163239405857%2C%20-54.772351255827466%5D%2C%20%5B-8.50489468313015%2C%20-35.64250276619126%5D%2C%20%5B-8.754779717791179%2C%20-63.862139082828286%5D%2C%20%5B-12.213125523140256%2C%20-41.6779288347225%5D%2C%20%5B-21.474639684161183%2C%20-55.40790753940839%5D%2C%20%5B-21.08345725799795%2C%20-54.978117409975525%5D%2C%20%5B-5.069679471777946%2C%20-37.271750249109225%5D%2C%20%5B-5.782413736822093%2C%20-37.971640314241874%5D%2C%20%5B-5.638010052368437%2C%20-37.84390200053812%5D%2C%20%5B-5.073985501812712%2C%20-42.83809916243048%5D%2C%20%5B-20.09419204199223%2C%20-44.56044508568652%5D%2C%20%5B-20.13832930437009%2C%20-40.15664107043406%5D%2C%20%5B-23.09128896860759%2C%20-47.00009916764628%5D%2C%20%5B-19.878950131780176%2C%20-43.971543805300485%5D%2C%20%5B-22.817819810713843%2C%20-42.07044562024256%5D%2C%20%5B-11.429974010241368%2C%20-39.49656095340497%5D%2C%20%5B-2.581836484856449%2C%20-44.18663239754084%5D%2C%20%5B-19.925687558386038%2C%20-43.331559054104495%5D%2C%20%5B-16.77638681040587%2C%20-49.89562233422704%5D%2C%20%5B-3.312614887871627%2C%20-39.56329615348831%5D%2C%20%5B-5.200544975238949%2C%20-37.369493293143066%5D%2C%20%5B-12.564209100386568%2C%20-60.35721835306051%5D%2C%20%5B-19.721474661957874%2C%20-47.87212001963039%5D%2C%20%5B-5.24731151254488%2C%20-37.333527288151295%5D%2C%20%5B-7.851262144623725%2C%20-34.918713144666285%5D%2C%20%5B-15.425595684273237%2C%20-41.67248076424462%5D%2C%20%5B-23.205369264551166%2C%20-52.01244154205759%5D%2C%20%5B-22.907469219857504%2C%20-51.774516083685626%5D%2C%20%5B-2.9932680901714694%2C%20-40.12610433231576%5D%2C%20%5B-21.1537002518178%2C%20-47.8970319329824%5D%2C%20%5B-5.703907261549737%2C%20-37.99100035954817%5D%2C%20%5B-20.40558077781636%2C%20-54.719834132190705%5D%2C%20%5B-27.027989131413175%2C%20-53.052554241332516%5D%2C%20%5B-20.43979778047753%2C%20-54.725345033710276%5D%2C%20%5B-22.76948935779276%2C%20-42.030160768554516%5D%2C%20%5B-15.507071744193887%2C%20-52.6740198724089%5D%2C%20%5B-21.531465445956044%2C%20-49.903634718186%5D%2C%20%5B-6.278871566159979%2C%20-50.693791273221706%5D%2C%20%5B-4.637915131069174%2C%20-37.72230805988814%5D%2C%20%5B-5.627305876814478%2C%20-37.81404648571798%5D%2C%20%5B-6.115901487162636%2C%20-38.990123843786535%5D%2C%20%5B-18.92819705259232%2C%20-43.3843064780768%5D%2C%20%5B-11.21734254877777%2C%20-37.38204802073824%5D%2C%20%5B-4.725348748373839%2C%20-37.280119148650826%5D%2C%20%5B-17.908041465014257%2C%20-41.492095268930264%5D%2C%20%5B-25.37285056002038%2C%20-51.457041378600785%5D%2C%20%5B-6.888849318148077%2C%20-35.42651053005918%5D%2C%20%5B-29.805735560552435%2C%20-55.758077575989354%5D%2C%20%5B-5.767161678020642%2C%20-37.59803085658073%5D%2C%20%5B-14.83040085246272%2C%20-40.80455843673794%5D%2C%20%5B-5.59554291970724%2C%20-37.29059604718973%5D%2C%20%5B-28.735533145016124%2C%20-51.782589258535666%5D%2C%20%5B-7.527137225799035%2C%20-38.95048317745651%5D%2C%20%5B-19.94488252796281%2C%20-43.990772011433336%5D%2C%20%5B-5.744254695862279%2C%20-37.552206260445736%5D%2C%20%5B2.8302893955082546%2C%20-60.61867244227779%5D%2C%20%5B-5.771295446125283%2C%20-38.94845431271183%5D%2C%20%5B-5.019880021777675%2C%20-38.53278387206701%5D%2C%20%5B-9.270450478670314%2C%20-38.2282304498767%5D%2C%20%5B-21.702532636958487%2C%20-43.42194649715406%5D%2C%20%5B-11.208346322988108%2C%20-42.93304590876927%5D%2C%20%5B-20.307817361476385%2C%20-40.38594624400331%5D%2C%20%5B-18.720534556431637%2C%20-39.94477887243394%5D%2C%20%5B-4.891558992329904%2C%20-38.08870997014607%5D%2C%20%5B-14.129521108740517%2C%20-56.931001055783206%5D%2C%20%5B-4.855344804276052%2C%20-38.143135656039895%5D%2C%20%5B1.1923670532570958%2C%20-63.59154387315412%5D%2C%20%5B-18.82320204751%2C%20-48.2927340311731%5D%2C%20%5B-31.660651756370388%2C%20-52.31730135859305%5D%2C%20%5B-22.764726518851873%2C%20-47.3728230663817%5D%2C%20%5B-30.027138904128336%2C%20-51.141274116456984%5D%2C%20%5B-21.754789899485782%2C%20-41.9369097023313%5D%2C%20%5B-5.157738181727221%2C%20-37.35224266327093%5D%2C%20%5B-4.714188768903282%2C%20-38.022162937446325%5D%2C%20%5B-5.206872164501092%2C%20-37.294613060409354%5D%2C%20%5B-11.128358596607658%2C%20-40.521545312647625%5D%2C%20%5B-3.833550237779429%2C%20-45.47494044723726%5D%2C%20%5B-5.090661366642828%2C%20-37.234021307183646%5D%2C%20%5B-22.877808292695626%2C%20-47.52497579992882%5D%2C%20%5B-5.579932355190622%2C%20-37.03573999656506%5D%2C%20%5B-5.526001207748729%2C%20-39.467700833854074%5D%2C%20%5B-18.817520452141856%2C%20-41.88757943787948%5D%2C%20%5B-25.51987735403115%2C%20-51.9895947743682%5D%2C%20%5B-4.858051822474895%2C%20-38.176284383414796%5D%2C%20%5B-15.57116719164665%2C%20-56.06546607646184%5D%2C%20%5B-21.246629632435457%2C%20-49.41348374782936%5D%2C%20%5B-9.865508486032263%2C%20-63.01675461192396%5D%2C%20%5B-18.65813737014094%2C%20-43.5246072066378%5D%2C%20%5B-9.880030163885367%2C%20-36.25872083220219%5D%2C%20%5B-10.738970454187143%2C%20-65.01881669521755%5D%2C%20%5B-9.386956835285355%2C%20-62.60651172787473%5D%2C%20%5B-12.07995047736851%2C%20-45.01677487012613%5D%2C%20%5B-23.3198465679566%2C%20-45.905591336226415%5D%2C%20%5B-28.281438738936284%2C%20-52.37591657646284%5D%2C%20%5B-4.93662499224178%2C%20-38.43186561805604%5D%2C%20%5B-10.9771853891033%2C%20-37.08134958908566%5D%2C%20%5B-26.51006159383123%2C%20-49.17362846517046%5D%2C%20%5B-5.1048718209202315%2C%20-42.802863573187786%5D%2C%20%5B-13.005891549659005%2C%20-38.33480424649853%5D%2C%20%5B-4.2165547152793375%2C%20-69.86939421054826%5D%2C%20%5B-20.45099629701512%2C%20-49.964213415580325%5D%2C%20%5B-10.206595064530044%2C%20-67.35559673987716%5D%2C%20%5B-4.840777549975739%2C%20-38.14695746117504%5D%2C%20%5B-16.835636900917496%2C%20-49.31159472438108%5D%2C%20%5B-27.205893807413172%2C%20-52.58989625590454%5D%2C%20%5B-2.5401649762129015%2C%20-66.0261198244936%5D%2C%20%5B-13.016524633868285%2C%20-39.57280747672924%5D%2C%20%5B-17.85465542940496%2C%20-51.74706731881918%5D%2C%20%5B-23.313794531911995%2C%20-51.21833184031975%5D%2C%20%5B-5.721522661459162%2C%20-37.63271971078557%5D%2C%20%5B-4.64464092492145%2C%20-37.788609213039166%5D%2C%20%5B-19.453121618136144%2C%20-42.547290815435744%5D%2C%20%5B-9.68778353621297%2C%20-35.69120117542428%5D%2C%20%5B-22.79615111742006%2C%20-41.943374649835675%5D%2C%20%5B-29.753389038146597%2C%20-53.52795811814087%5D%2C%20%5B-12.924611678447688%2C%20-38.52769912975171%5D%2C%20%5B-21.00898819940285%2C%20-51.11814448567571%5D%2C%20%5B-2.5367402062310167%2C%20-44.35641095509866%5D%2C%20%5B-23.722937370671595%2C%20-46.7517898294011%5D%2C%20%5B-6.661913353313587%2C%20-36.670346135587785%5D%2C%20%5B-5.145906109272816%2C%20-37.33528988259234%5D%2C%20%5B-5.4619757815198495%2C%20-47.52631322070058%5D%2C%20%5B-19.67276417657418%2C%20-55.78096684371153%5D%2C%20%5B-5.063333928482653%2C%20-37.535645519295926%5D%2C%20%5B-6.505242000795743%2C%20-39.54528198208465%5D%2C%20%5B-9.998589825334774%2C%20-67.84048678081562%5D%2C%20%5B-22.862973563741182%2C%20-47.066437488606844%5D%2C%20%5B-9.22282102941969%2C%20-44.49980648121133%5D%2C%20%5B-3.5853903637118947%2C%20-41.16556139462582%5D%2C%20%5B-5.219711837744265%2C%20-37.37594585072137%5D%2C%20%5B-23.556373171258905%2C%20-45.49611135600856%5D%2C%20%5B-24.733731809081355%2C%20-53.689832495340156%5D%2C%20%5B-25.02782393532805%2C%20-50.18847101282026%5D%2C%20%5B-21.404683654027142%2C%20-42.80863835856991%5D%2C%20%5B-30.055799817228824%2C%20-51.01812824564956%5D%2C%20%5B-5.503436387587614%2C%20-45.28207177601912%5D%2C%20%5B-23.69657667007746%2C%20-54.27776897714595%5D%2C%20%5B-5.205813698204451%2C%20-38.04430331731128%5D%2C%20%5B-17.94839326687685%2C%20-42.97865221654216%5D%2C%20%5B-8.787635299370775%2C%20-63.90962604144751%5D%2C%20%5B-4.91757089624029%2C%20-38.055854728164825%5D%2C%20%5B-16.71474663436714%2C%20-49.28094263331784%5D%2C%20%5B-15.80682176077373%2C%20-47.876321792288316%5D%2C%20%5B-13.208004339882757%2C%20-42.390097024783614%5D%2C%20%5B-2.452867295398465%2C%20-54.72603516302727%5D%2C%20%5B-20.50491153444465%2C%20-54.69487938223466%5D%2C%20%5B-5.154974722839202%2C%20-37.29860082950433%5D%2C%20%5B-5.1718047374398735%2C%20-37.31728090733981%5D%2C%20%5B-5.10827780001137%2C%20-38.133963946990264%5D%2C%20%5B-22.519656567178107%2C%20-43.807813185259945%5D%2C%20%5B-4.633079655721242%2C%20-37.49046441951252%5D%2C%20%5B-16.645691743517983%2C%20-49.254762766223294%5D%2C%20%5B-5.03746732792373%2C%20-38.51086003356812%5D%2C%20%5B-18.585166150902964%2C%20-46.494689035719894%5D%2C%20%5B-19.702603138541892%2C%20-42.10571913204995%5D%2C%20%5B-21.82461901827781%2C%20-50.86900136454927%5D%2C%20%5B-5.936920485647708%2C%20-35.26847122658499%5D%2C%20%5B-5.637766004571994%2C%20-37.879380761226734%5D%2C%20%5B-17.85577620406925%2C%20-41.52375249717272%5D%2C%20%5B-4.2145774395740725%2C%20-38.25450335607173%5D%2C%20%5B-4.281177795652411%2C%20-38.49686969451812%5D%2C%20%5B-18.788670061538536%2C%20-43.713515367976534%5D%2C%20%5B-9.790308788890131%2C%20-37.433225209311175%5D%2C%20%5B-22.166266181903435%2C%20-51.53311494599047%5D%2C%20%5B-5.512714805065861%2C%20-37.77865527867409%5D%2C%20%5B-23.401088347385826%2C%20-45.07096011577983%5D%2C%20%5B-2.839825847211259%2C%20-66.71801507207533%5D%2C%20%5B-8.344955493071204%2C%20-35.44454109451756%5D%2C%20%5B-5.137264851212688%2C%20-37.34775458143377%5D%2C%20%5B-13.54808088894724%2C%20-48.43256561631596%5D%2C%20%5B-5.329413686639041%2C%20-38.26583609066566%5D%2C%20%5B-17.31813344120899%2C%20-42.89108249501893%5D%2C%20%5B-5.134549077512957%2C%20-36.86194853772231%5D%2C%20%5B-5.171989576502743%2C%20-37.38488273719577%5D%2C%20%5B-18.74742201638701%2C%20-47.536149620586684%5D%2C%20%5B-5.121243417877932%2C%20-42.90657782909317%5D%2C%20%5B-8.748008040691104%2C%20-63.804042497427915%5D%2C%20%5B-28.704885858490485%2C%20-49.28920985928175%5D%2C%20%5B-21.065133278573597%2C%20-41.64429908462885%5D%2C%20%5B-5.157738181727221%2C%20-37.35224266327093%5D%2C%20%5B-7.902731194573263%2C%20-36.21248900435714%5D%2C%20%5B-12.08370550948552%2C%20-46.05877916840864%5D%2C%20%5B-5.068591633964795%2C%20-42.73076989634547%5D%2C%20%5B-5.136149902193967%2C%20-37.435577617788034%5D%2C%20%5B-5.2243139878276805%2C%20-37.40865398154645%5D%2C%20%5B-5.364750541813827%2C%20-35.320437369740375%5D%2C%20%5B-4.714188768903282%2C%20-38.022162937446325%5D%2C%20%5B-5.3726366249168604%2C%20-37.98692279145735%5D%2C%20%5B-5.09853441755484%2C%20-37.34522528959407%5D%2C%20%5B-4.8613344790155315%2C%20-38.03965575326092%5D%2C%20%5B-8.710248568392668%2C%20-63.92350989685891%5D%2C%20%5B-19.58085348901236%2C%20-42.71229871234245%5D%2C%20%5B-18.882351868020866%2C%20-48.272337890967485%5D%2C%20%5B-5.273533713339699%2C%20-38.83268494555163%5D%2C%20%5B-3.1432762525210878%2C%20-60.01412771464973%5D%2C%20%5B-20.582553916856458%2C%20-54.541834861290454%5D%2C%20%5B-14.299811011117905%2C%20-51.93639018159723%5D%2C%20%5B-20.686525738510287%2C%20-41.53844240893395%5D%2C%20%5B-16.542911421620605%2C%20-40.7934596771962%5D%2C%20%5B-5.528652053904989%2C%20-35.688778824341334%5D%2C%20%5B-18.715898184838313%2C%20-42.775839751212025%5D%2C%20%5B-10.473942420433433%2C%20-40.15790251699742%5D%2C%20%5B-9.871505146352302%2C%20-63.03219626556754%5D%2C%20%5B-9.923912162053643%2C%20-67.86208154453917%5D%2C%20%5B-4.8693256980565005%2C%20-38.100079586650324%5D%2C%20%5B-5.09467161189175%2C%20-42.762465392860726%5D%2C%20%5B-21.128642262389207%2C%20-47.81248004214312%5D%2C%20%5B-10.044706104338433%2C%20-56.48621538106613%5D%2C%20%5B-19.688493279693688%2C%20-55.880014219528434%5D%2C%20%5B-12.630344292719297%2C%20-39.08257551741998%5D%2C%20%5B-12.013054355699753%2C%20-43.14086891273166%5D%2C%20%5B-19.222621562504646%2C%20-41.45623145236576%5D%2C%20%5B-22.30976477135633%2C%20-49.091748707908366%5D%2C%20%5B-21.824195479264134%2C%20-48.8203916047271%5D%2C%20%5B-18.934690110808017%2C%20-40.41692322551144%5D%2C%20%5B-5.200544975238949%2C%20-37.369493293143066%5D%2C%20%5B-18.15999175173693%2C%20-43.535453226889686%5D%2C%20%5B-17.58257512570335%2C%20-42.41639326365265%5D%2C%20%5B-9.376696301082033%2C%20-40.53142607951785%5D%2C%20%5B-4.647381312129666%2C%20-37.73094727107998%5D%2C%20%5B-29.983668646037685%2C%20-51.070987535321635%5D%2C%20%5B-16.636318219341135%2C%20-49.22592090584402%5D%2C%20%5B-5.035656533467296%2C%20-38.50429265940116%5D%2C%20%5B-3.131720882300904%2C%20-41.24852138259838%5D%2C%20%5B2.8673857213756295%2C%20-60.745295182866066%5D%2C%20%5B-10.298419774499662%2C%20-48.333770061804714%5D%2C%20%5B-17.534475915475245%2C%20-49.47799835364558%5D%2C%20%5B-8.770740797346416%2C%20-63.91666984872115%5D%2C%20%5B-23.279960868616364%2C%20-51.21780793634304%5D%2C%20%5B-7.341317595506416%2C%20-35.94290295351306%5D%2C%20%5B-29.9938302814243%2C%20-51.17920147330807%5D%2C%20%5B-21.04533836770445%2C%20-41.66102165924799%5D%2C%20%5B-21.31532629327265%2C%20-45.72236219465494%5D%2C%20%5B-8.796980083619236%2C%20-63.8125111494352%5D%2C%20%5B-17.827362902650087%2C%20-41.44440904872997%5D%2C%20%5B-5.531636373227113%2C%20-47.431749246045%5D%2C%20%5B-11.442978354875585%2C%20-41.212312511944006%5D%2C%20%5B-8.173064250597788%2C%20-50.09523829888956%5D%2C%20%5B-29.252476935352686%2C%20-51.585674151100335%5D%2C%20%5B-5.248803172517881%2C%20-38.01388271668373%5D%2C%20%5B-6.491385312792242%2C%20-39.3028296764138%5D%2C%20%5B-21.482477704915407%2C%20-55.36873357612949%5D%2C%20%5B-5.026632483730012%2C%20-42.76182444988459%5D%2C%20%5B-8.344617730116779%2C%20-36.1999591459078%5D%2C%20%5B-19.216757243647184%2C%20-40.55289675726522%5D%2C%20%5B-5.686955342992636%2C%20-37.766515710366754%5D%2C%20%5B-29.003996788890518%2C%20-51.185653713441724%5D%2C%20%5B-9.34995717849323%2C%20-37.312791627845435%5D%2C%20%5B-5.140331790550151%2C%20-37.26993190833022%5D%2C%20%5B-21.877977331686015%2C%20-42.307704130010364%5D%2C%20%5B-24.301401851824995%2C%20-50.63665913350081%5D%2C%20%5B-23.2763862013217%2C%20-51.251226577750536%5D%2C%20%5B-5.13537913309871%2C%20-49.22212530971093%5D%2C%20%5B-30.033131114132576%2C%20-51.10445789611926%5D%2C%20%5B-5.823475023148654%2C%20-37.865580361579916%5D%2C%20%5B-5.232891574474345%2C%20-37.328171657124784%5D%2C%20%5B-8.95981761421355%2C%20-36.30487781829803%5D%2C%20%5B-19.973143200970615%2C%20-43.93040199966246%5D%2C%20%5B-3.1507735324385555%2C%20-60.07333082950557%5D%2C%20%5B-20.064252336518475%2C%20-47.66551130508775%5D%2C%20%5B-8.817820981956658%2C%20-63.89957128943687%5D%2C%20%5B-30.202400732365508%2C%20-55.08636264790042%5D%2C%20%5B-16.46380629723528%2C%20-39.094997903240625%5D%2C%20%5B-4.633079655721242%2C%20-37.49046441951252%5D%2C%20%5B-21.7440853586562%2C%20-41.29202036103813%5D%2C%20%5B-5.154974722839202%2C%20-37.29860082950433%5D%2C%20%5B-10.559198439001781%2C%20-48.58061727225244%5D%2C%20%5B-29.612198217115246%2C%20-52.37399717975799%5D%2C%20%5B-4.57986659137655%2C%20-37.77446736679667%5D%2C%20%5B-13.504580668057118%2C%20-48.440345081589015%5D%2C%20%5B-22.172483070128273%2C%20-51.42428789410814%5D%2C%20%5B2.876114939861368%2C%20-60.69144144000308%5D%2C%20%5B-22.22539962695506%2C%20-51.16147457604421%5D%2C%20%5B-23.578691849384384%2C%20-46.4738797834338%5D%2C%20%5B-5.017186085035087%2C%20-38.48446743094527%5D%2C%20%5B-5.490716539247031%2C%20-47.45666994171802%5D%2C%20%5B-29.13264708720782%2C%20-51.14585939113225%5D%2C%20%5B-4.228547797008268%2C%20-56.00647687678479%5D%2C%20%5B-5.164423488858103%2C%20-37.356920426246845%5D%2C%20%5B-29.686619837028275%2C%20-53.80418174412906%5D%2C%20%5B-5.257265292142374%2C%20-38.37550361973044%5D%2C%20%5B-27.546180157253275%2C%20-52.810809659261466%5D%2C%20%5B-23.087684631470268%2C%20-53.98313858230233%5D%2C%20%5B-10.105742013477496%2C%20-36.78115762766702%5D%2C%20%5B-20.023686991267603%2C%20-45.436264236199065%5D%2C%20%5B-8.681906073470419%2C%20-63.89481220780896%5D%2C%20%5B-4.287354043540384%2C%20-47.88403595852978%5D%2C%20%5B-8.729401185086731%2C%20-63.87856924864117%5D%2C%20%5B-22.256493098469296%2C%20-49.9747003739823%5D%2C%20%5B-25.36590454568887%2C%20-51.51492265429609%5D%2C%20%5B-24.991929723082432%2C%20-53.38676722927741%5D%2C%20%5B-5.216552912247397%2C%20-37.39631096683358%5D%2C%20%5B-13.96045536589817%2C%20-39.162392751039285%5D%2C%20%5B-5.329413686639041%2C%20-38.26583609066566%5D%2C%20%5B-5.095444755417907%2C%20-37.30728448220329%5D%2C%20%5B-4.914071969497396%2C%20-38.48732411343876%5D%2C%20%5B-8.026884485330964%2C%20-34.84502650492361%5D%2C%20%5B-20.656397583915705%2C%20-43.004811978279754%5D%2C%20%5B-18.30132704755555%2C%20-40.14660476814902%5D%2C%20%5B-23.72764050138787%2C%20-46.56160632258793%5D%2C%20%5B-17.560164585993306%2C%20-43.037290904780654%5D%2C%20%5B-14.211267400811222%2C%20-51.94690430110672%5D%2C%20%5B-23.974053534223774%2C%20-53.94777186358173%5D%2C%20%5B-18.32960244212426%2C%20-40.19229724821689%5D%2C%20%5B-4.8386219420288885%2C%20-37.82606301567409%5D%2C%20%5B-5.0301120567259945%2C%20-42.82580831967496%5D%2C%20%5B-21.751649198207083%2C%20-43.31935636766307%5D%2C%20%5B-5.166531069094101%2C%20-37.34441495535484%5D%2C%20%5B-4.57986659137655%2C%20-37.77446736679667%5D%2C%20%5B-21.549973596375438%2C%20-56.46701349631033%5D%2C%20%5B-5.865002115546082%2C%20-37.65624181203397%5D%2C%20%5B-15.155154938374737%2C%20-39.18581561812207%5D%2C%20%5B-8.784834075440312%2C%20-63.962273344005666%5D%2C%20%5B-13.021759201935316%2C%20-41.440415987038435%5D%2C%20%5B-8.798199562346282%2C%20-63.8355068826976%5D%2C%20%5B-26.094791048363263%2C%20-53.100023835256756%5D%2C%20%5B-1.1715565890949349%2C%20-47.196919869143294%5D%2C%20%5B-13.53116649509898%2C%20-56.008010147379935%5D%2C%20%5B-5.265102224653729%2C%20-36.730306128004536%5D%2C%20%5B-7.744083532843684%2C%20-72.5609962994424%5D%2C%20%5B-18.403154714251354%2C%20-42.73028844001603%5D%2C%20%5B-5.617891061682188%2C%20-37.34330115321491%5D%2C%20%5B-5.245159111726516%2C%20-37.37964456960023%5D%2C%20%5B-9.203254558896745%2C%20-62.9737198616408%5D%2C%20%5B-5.198943243911996%2C%20-37.39401297526828%5D%2C%20%5B-22.77191511172878%2C%20-52.12113388557081%5D%2C%20%5B-2.115047835359344%2C%20-47.2080212698389%5D%2C%20%5B-15.164883443509297%2C%20-43.129591080485916%5D%2C%20%5B-4.474536142668008%2C%20-37.69654733579308%5D%2C%20%5B-8.779837515244457%2C%20-63.85010119148049%5D%2C%20%5B-15.191406248881693%2C%20-50.39758192614082%5D%2C%20%5B-5.1095472352927915%2C%20-37.25322764730727%5D%2C%20%5B-11.878506284451372%2C%20-55.568790881116065%5D%2C%20%5B-28.46499645116386%2C%20-51.740648315458905%5D%2C%20%5B-15.64154587244466%2C%20-56.162751478072586%5D%2C%20%5B-9.964093076484026%2C%20-63.005347454224484%5D%2C%20%5B-15.612977305761053%2C%20-39.05112670879389%5D%2C%20%5B-27.00406882038038%2C%20-52.57203431233836%5D%2C%20%5B-18.237033064813616%2C%20-43.490967112312745%5D%2C%20%5B-19.344173164079486%2C%20-40.06904507434465%5D%2C%20%5B-4.697313672005431%2C%20-38.02955897962675%5D%2C%20%5B-5.098501474101588%2C%20-38.06644874587142%5D%2C%20%5B-3.069183988791579%2C%20-40.1869486737728%5D%2C%20%5B-23.73796842289278%2C%20-46.80311307576279%5D%2C%20%5B-4.509977719450001%2C%20-37.76449981880435%5D%2C%20%5B-13.772079212558733%2C%20-39.19947183204068%5D%2C%20%5B-5.386870520958883%2C%20-38.076217877607384%5D%2C%20%5B-22.415415128581458%2C%20-49.01534396414343%5D%2C%20%5B-16.457094555195166%2C%20-53.593241565406636%5D%2C%20%5B-4.246385694503086%2C%20-69.90289047119067%5D%2C%20%5B-29.021778587875186%2C%20-51.34827088083516%5D%2C%20%5B-16.690943298855967%2C%20-47.505999230514554%5D%2C%20%5B-9.920034254879976%2C%20-63.03475501565577%5D%2C%20%5B-11.602035863889874%2C%20-38.78526401788571%5D%2C%20%5B-4.865987350214674%2C%20-38.12242251855713%5D%2C%20%5B-5.1095472352927915%2C%20-37.25322764730727%5D%2C%20%5B-19.825494802243533%2C%20-44.023903053055676%5D%2C%20%5B-4.117211995975783%2C%20-40.97983131072411%5D%2C%20%5B-27.39087862059102%2C%20-50.22112588773569%5D%2C%20%5B-3.8770130396575953%2C%20-40.89778246060641%5D%2C%20%5B-29.168949704120212%2C%20-51.11813197878082%5D%2C%20%5B-4.858727647010889%2C%20-38.21770982521966%5D%2C%20%5B-3.7667523849010953%2C%20-50.52451359857389%5D%2C%20%5B-21.14910096798313%2C%20-47.788746465615645%5D%2C%20%5B-12.277045848704406%2C%20-38.83141709872174%5D%2C%20%5B-5.721522661459162%2C%20-37.63271971078557%5D%2C%20%5B-1.4117069147232706%2C%20-48.49465642626573%5D%2C%20%5B-5.176629847312009%2C%20-37.60199027753888%5D%2C%20%5B-11.07578899524181%2C%20-41.75259230251796%5D%2C%20%5B-4.647381312129666%2C%20-37.73094727107998%5D%2C%20%5B-25.347706835186134%2C%20-49.246468615148004%5D%2C%20%5B-2.5952048008708384%2C%20-44.27311754932991%5D%2C%20%5B-14.526912430555843%2C%20-42.335638251508215%5D%2C%20%5B-9.315788669778627%2C%20-36.07999353076862%5D%2C%20%5B-6.882808580187964%2C%20-38.7674841015143%5D%2C%20%5B-20.375353547873676%2C%20-48.93273972142685%5D%2C%20%5B-15.484945347146336%2C%20-51.286302095731884%5D%2C%20%5B-21.320690326322516%2C%20-45.87974647409246%5D%2C%20%5B-22.204118454437832%2C%20-42.57153395494038%5D%2C%20%5B-13.590735321455336%2C%20-41.17229437232949%5D%2C%20%5B-22.298529947467877%2C%20-42.45442184521092%5D%2C%20%5B-5.818630735006142%2C%20-38.93424378200166%5D%2C%20%5B-12.994083016951347%2C%20-38.53872782726033%5D%2C%20%5B-4.942304854330207%2C%20-37.64096712929427%5D%2C%20%5B-16.762859530640835%2C%20-49.17061106225649%5D%2C%20%5B-21.170792406991705%2C%20-55.83481323344372%5D%2C%20%5B-5.171989576502743%2C%20-37.38488273719577%5D%2C%20%5B-5.164423488858103%2C%20-37.356920426246845%5D%2C%20%5B-23.54892063891181%2C%20-46.69149056630841%5D%2C%20%5B-4.842757398061469%2C%20-38.14475529520558%5D%2C%20%5B-4.724951412925309%2C%20-38.04913107197545%5D%2C%20%5B-5.269859456030659%2C%20-37.24387282468639%5D%2C%20%5B-4.763255359564152%2C%20-38.153080580507115%5D%2C%20%5B-19.897200530836336%2C%20-43.85613902989488%5D%2C%20%5B-3.885091456762066%2C%20-40.245500695498116%5D%2C%20%5B-27.008724803324263%2C%20-48.61516568114098%5D%2C%20%5B-5.056016521061155%2C%20-38.382027729479894%5D%2C%20%5B-11.62250731534785%2C%20-41.85954545416766%5D%2C%20%5B-23.083747905458385%2C%20-48.844182838495094%5D%2C%20%5B-8.688237384818994%2C%20-63.85792836870278%5D%2C%20%5B-21.809737664991168%2C%20-41.241659044361796%5D%2C%20%5B-4.695585705422429%2C%20-37.91800933809123%5D%2C%20%5B-22.472095502964827%2C%20-51.641162246913034%5D%2C%20%5B-29.151061926482967%2C%20-51.231508766887224%5D%2C%20%5B-5.233269438232149%2C%20-39.26656828663016%5D%2C%20%5B-3.9549839167011407%2C%20-40.73123341389625%5D%2C%20%5B-4.550666238754227%2C%20-37.73441072492461%5D%2C%20%5B-8.087648674174861%2C%20-39.18647785905901%5D%2C%20%5B-4.475575007656907%2C%20-48.42541030086105%5D%2C%20%5B-4.628525678693268%2C%20-44.88811211881418%5D%2C%20%5B-8.77602793306641%2C%20-63.90963795885213%5D%2C%20%5B-22.609951788141235%2C%20-52.92998435989224%5D%2C%20%5B-23.214030381207237%2C%20-45.928094933686076%5D%2C%20%5B-5.823475023148654%2C%20-37.865580361579916%5D%2C%20%5B-13.027755452276013%2C%20-38.52842136199214%5D%2C%20%5B-5.13887660853937%2C%20-38.537792080273015%5D%2C%20%5B-16.644473853620674%2C%20-49.22922235575053%5D%2C%20%5B-5.818403311297271%2C%20-35.1279138060515%5D%2C%20%5B-16.515426501760768%2C%20-39.12829894252016%5D%2C%20%5B-31.824610431326498%2C%20-52.38339462282424%5D%2C%20%5B-25.080336289645466%2C%20-50.21844496024453%5D%2C%20%5B-4.8693256980565005%2C%20-38.100079586650324%5D%2C%20%5B-20.43942392131914%2C%20-54.52183085677735%5D%2C%20%5B-12.123634186414554%2C%20-45.06650958697057%5D%2C%20%5B-8.754779717791179%2C%20-63.862139082828286%5D%2C%20%5B-8.120585580186745%2C%20-38.7918061770713%5D%2C%20%5B-11.67319689783094%2C%20-61.8079707962747%5D%2C%20%5B-14.734462717111454%2C%20-39.27553603322357%5D%2C%20%5B-22.65578038759523%2C%20-50.458210085071144%5D%2C%20%5B-3.724506133044842%2C%20-38.56360836050882%5D%2C%20%5B-30.947445144549405%2C%20-55.573335583763296%5D%2C%20%5B-10.772504487874475%2C%20-65.14015447218918%5D%2C%20%5B-12.720858814706704%2C%20-45.29876922920476%5D%2C%20%5B-4.855150410893785%2C%20-38.97052375619294%5D%2C%20%5B-5.1786087675239205%2C%20-37.39244087644481%5D%2C%20%5B-2.664296516231991%2C%20-44.117717871093426%5D%2C%20%5B-19.738607805010133%2C%20-47.93868547086248%5D%2C%20%5B-7.500364782852061%2C%20-35.34313826325166%5D%2C%20%5B-8.87032734814784%2C%20-63.648591766416715%5D%2C%20%5B-19.747986417430493%2C%20-48.050972713679705%5D%2C%20%5B-18.751120063099023%2C%20-39.87010382158377%5D%2C%20%5B-22.422758738995984%2C%20-47.021084409002114%5D%2C%20%5B-6.728492749431159%2C%20-43.12561925462513%5D%2C%20%5B-8.166632893331313%2C%20-35.597029380019364%5D%2C%20%5B-24.301401851824995%2C%20-50.63665913350081%5D%2C%20%5B-20.48684132552494%2C%20-47.34392285977149%5D%2C%20%5B-8.727388785141514%2C%20-63.835413448124946%5D%2C%20%5B-8.853305872904125%2C%20-36.54363368427766%5D%2C%20%5B-8.812894628918247%2C%20-63.8732537819153%5D%2C%20%5B-16.73162585990182%2C%20-43.82323952548721%5D%2C%20%5B-21.64737586844891%2C%20-54.478253681646606%5D%2C%20%5B-22.81952524141836%2C%20-44.30079808539706%5D%2C%20%5B-15.619570399720255%2C%20-47.83939629945435%5D%2C%20%5B-16.60154236984259%2C%20-43.936029602585606%5D%2C%20%5B-25.56186259849463%2C%20-54.50432899913711%5D%2C%20%5B-7.017322850071235%2C%20-36.372866929609245%5D%2C%20%5B-5.0416207865134055%2C%20-38.47679779183559%5D%2C%20%5B-4.8386219420288885%2C%20-37.82606301567409%5D%2C%20%5B-22.75712588576381%2C%20-49.966274169407306%5D%2C%20%5B-5.23377157714395%2C%20-37.34535407178499%5D%2C%20%5B-4.924125664638698%2C%20-38.04511930960426%5D%2C%20%5B-2.5705216669261697%2C%20-44.16805798790923%5D%2C%20%5B-4.791142119867307%2C%20-38.17262800782687%5D%2C%20%5B-9.616890204983736%2C%20-35.781038088958724%5D%2C%20%5B-30.111715383862457%2C%20-51.22003539990717%5D%2C%20%5B-3.012280595120775%2C%20-39.929226345350635%5D%2C%20%5B-30.982006749520203%2C%20-54.51240135398241%5D%2C%20%5B-8.102916815825663%2C%20-37.65244452663218%5D%2C%20%5B-14.19452694123983%2C%20-44.41885524645355%5D%2C%20%5B-19.94552728161692%2C%20-50.50869198405058%5D%2C%20%5B-3.7371540744245344%2C%20-38.5048237599232%5D%2C%20%5B-5.1590534091755%2C%20-37.31778418313235%5D%2C%20%5B-6.943792643194709%2C%20-40.27363990661439%5D%2C%20%5B-3.0784053285863013%2C%20-40.251021525058285%5D%2C%20%5B-7.992714068381201%2C%20-49.984890444256365%5D%2C%20%5B-4.633079655721242%2C%20-37.49046441951252%5D%2C%20%5B-8.684629275111988%2C%20-63.858623835981014%5D%2C%20%5B-16.41026980909056%2C%20-51.04951701870288%5D%2C%20%5B-17.95479383215407%2C%20-39.43579130289779%5D%2C%20%5B-4.811876695441778%2C%20-38.12667140753789%5D%2C%20%5B-5.200544975238949%2C%20-37.369493293143066%5D%2C%20%5B-23.409547837522354%2C%20-46.644820719553664%5D%2C%20%5B-7.20504712607262%2C%20-34.85833978498636%5D%2C%20%5B-9.945681923828614%2C%20-63.00258696411047%5D%2C%20%5B-18.687350352530714%2C%20-39.7818708728242%5D%2C%20%5B-9.592569247840368%2C%20-42.35258933647198%5D%2C%20%5B-7.489588743365599%2C%20-37.51010620110055%5D%2C%20%5B-12.586511753945484%2C%20-60.186030468553895%5D%2C%20%5B-14.235210812037657%2C%20-51.93325263911808%5D%2C%20%5B-23.783170973847554%2C%20-50.30043209709972%5D%2C%20%5B-18.628694609989537%2C%20-43.30349885836617%5D%2C%20%5B-23.21664455217893%2C%20-45.706141147784244%5D%2C%20%5B-3.3372064066193325%2C%20-39.62691578826146%5D%2C%20%5B-9.941969568254823%2C%20-67.89724802668006%5D%2C%20%5B-5.090661366642828%2C%20-37.234021307183646%5D%2C%20%5B-8.797470187278803%2C%20-63.80425332834527%5D%2C%20%5B-9.530911183718155%2C%20-35.80983235804703%5D%2C%20%5B-19.870893891430427%2C%20-50.35086690173321%5D%2C%20%5B-24.73891720928593%2C%20-53.68907636124307%5D%2C%20%5B-25.501563191272687%2C%20-51.1017533689698%5D%2C%20%5B-28.597807539674193%2C%20-49.39678430771672%5D%2C%20%5B-9.441673850663054%2C%20-38.25036382233603%5D%2C%20%5B-25.534157413187%2C%20-49.235600801856165%5D%2C%20%5B-5.137264851212688%2C%20-37.34775458143377%5D%2C%20%5B-5.126089035244706%2C%20-37.28118080604758%5D%2C%20%5B2.8718741320147196%2C%20-60.66674265924628%5D%2C%20%5B-22.653624579644816%2C%20-45.07657347382345%5D%2C%20%5B-4.80730722430937%2C%20-38.133742870523704%5D%2C%20%5B-5.793436838644499%2C%20-35.88318913796312%5D%2C%20%5B-15.89509939113547%2C%20-48.06093242482721%5D%2C%20%5B-5.126089035244706%2C%20-37.28118080604758%5D%2C%20%5B-27.549293688223162%2C%20-48.62952694565924%5D%2C%20%5B-4.862473602125599%2C%20-37.69076934487717%5D%2C%20%5B-19.896701291624403%2C%20-42.12465458381199%5D%2C%20%5B-5.1371068024176045%2C%20-37.999856734617325%5D%2C%20%5B-8.132725400931609%2C%20-34.96576472277121%5D%2C%20%5B-6.770627031482331%2C%20-37.86788846349067%5D%2C%20%5B-5.552172160933968%2C%20-37.25105399483229%5D%2C%20%5B-6.392877967600991%2C%20-39.29675399851624%5D%2C%20%5B-5.121362205075783%2C%20-37.962823238017144%5D%2C%20%5B-10.202531521382978%2C%20-48.388518105743465%5D%2C%20%5B-4.942304854330207%2C%20-37.64096712929427%5D%2C%20%5B-22.870707150947318%2C%20-44.29272603097176%5D%2C%20%5B-9.156827114300711%2C%20-44.58424252954009%5D%2C%20%5B-2.9974834540958235%2C%20-60.03625904909222%5D%2C%20%5B-5.389661330627668%2C%20-49.24358868310909%5D%2C%20%5B-5.89498168282766%2C%20-35.21397380355101%5D%2C%20%5B-7.210368233056085%2C%20-39.459145015449245%5D%2C%20%5B-7.607924503183218%2C%20-62.50299634417278%5D%2C%20%5B-20.241630504675424%2C%20-50.98913880849198%5D%2C%20%5B-6.935570991920488%2C%20-41.368636901115714%5D%2C%20%5B-21.982761711390616%2C%20-50.50246250676367%5D%2C%20%5B-21.98926316482313%2C%20-51.7885093647735%5D%2C%20%5B-4.506781117561834%2C%20-37.765099728134835%5D%2C%20%5B-5.110461664093853%2C%20-38.00762987237279%5D%2C%20%5B-5.499649189160458%2C%20-47.32102083301784%5D%2C%20%5B-20.431871725550277%2C%20-40.420087686527005%5D%2C%20%5B-23.38731894418059%2C%20-47.63495441724061%5D%2C%20%5B-5.973658410189551%2C%20-38.77915663975118%5D%2C%20%5B-16.27011337209219%2C%20-48.95603422388834%5D%2C%20%5B-4.951249416519982%2C%20-38.543603427151474%5D%2C%20%5B-17.04197286528341%2C%20-46.902454769974334%5D%2C%20%5B-29.211176216463148%2C%20-51.0738307879551%5D%2C%20%5B-17.582821202890567%2C%20-39.76969127462598%5D%2C%20%5B-4.560099397623966%2C%20-46.837006036702086%5D%2C%20%5B-4.842150077308295%2C%20-38.16068923477706%5D%2C%20%5B-32.47097352185894%2C%20-53.309869333950445%5D%2C%20%5B-9.98506886370887%2C%20-63.057920081040834%5D%2C%20%5B-23.31104940651559%2C%20-51.180078636331935%5D%2C%20%5B-29.12003445881038%2C%20-51.106060895430794%5D%2C%20%5B-4.8693256980565005%2C%20-38.100079586650324%5D%2C%20%5B-22.92708935976119%2C%20-51.88225349216393%5D%2C%20%5B-5.06352746409544%2C%20-37.65547520330543%5D%2C%20%5B-4.891558992329904%2C%20-38.08870997014607%5D%2C%20%5B-9.947635035043367%2C%20-67.85659040182702%5D%2C%20%5B-18.552723273765192%2C%20-42.79054296021498%5D%2C%20%5B-12.55410205834833%2C%20-56.59801489756725%5D%2C%20%5B-6.250935594074602%2C%20-50.59973628656186%5D%2C%20%5B-7.611345978897507%2C%20-39.04588912470141%5D%2C%20%5B-4.726569827321769%2C%20-37.35545553789407%5D%2C%20%5B-8.740465035533608%2C%20-63.83397068002031%5D%2C%20%5B-20.540459588251437%2C%20-45.553724733647705%5D%2C%20%5B-22.776368838133408%2C%20-47.45848996694842%5D%2C%20%5B-5.017186085035087%2C%20-38.48446743094527%5D%2C%20%5B-22.94335844110515%2C%20-45.53142057159259%5D%2C%20%5B-26.442677131149754%2C%20-49.18678129465577%5D%2C%20%5B-1.401869204604093%2C%20-48.439199367770804%5D%2C%20%5B-2.5649949755470893%2C%20-44.223077163179%5D%2C%20%5B-21.220331975380358%2C%20-44.90934522858209%5D%2C%20%5B-26.12706415169229%2C%20-49.213571830380225%5D%2C%20%5B-4.690769858021743%2C%20-37.32211811349053%5D%2C%20%5B-7.5519870160443565%2C%20-40.281478984055795%5D%2C%20%5B-8.1060033470004%2C%20-36.701372779746826%5D%2C%20%5B-20.584540910973814%2C%20-40.48464165935505%5D%2C%20%5B-18.718092943021535%2C%20-43.375626678897824%5D%2C%20%5B-18.214736085856327%2C%20-43.52628659559357%5D%2C%20%5B-5.248803172517881%2C%20-38.01388271668373%5D%2C%20%5B-25.83405551846888%2C%20-53.06525302169401%5D%2C%20%5B2.771983582662715%2C%20-60.64668393963245%5D%2C%20%5B-17.86778514859861%2C%20-42.73927623018023%5D%2C%20%5B-29.761271283653766%2C%20-51.79909180898815%5D%2C%20%5B-30.91346038981069%2C%20-55.51974159433193%5D%2C%20%5B-4.888826856837008%2C%20-40.04887790457662%5D%2C%20%5B-20.96286097449556%2C%20-49.02464523950055%5D%2C%20%5B-19.571059328346063%2C%20-41.249934763250614%5D%2C%20%5B-11.549601771934546%2C%20-39.2260860936304%5D%2C%20%5B-8.626759918476871%2C%20-35.19756224062328%5D%2C%20%5B-4.891558992329904%2C%20-38.08870997014607%5D%2C%20%5B-5.316621268713426%2C%20-38.31639038239419%5D%2C%20%5B-18.261832800120217%2C%20-42.24043439067823%5D%2C%20%5B-20.776294253781447%2C%20-46.602605145987944%5D%2C%20%5B-5.219711837744265%2C%20-37.37594585072137%5D%2C%20%5B-23.337175903410774%2C%20-54.14992122445045%5D%2C%20%5B-9.343073428844221%2C%20-40.61710376832233%5D%2C%20%5B-12.907107209327831%2C%20-38.442570234802524%5D%2C%20%5B-5.156182564679609%2C%20-42.8245907298799%5D%2C%20%5B-9.422149689899346%2C%20-40.53677074124373%5D%2C%20%5B-25.576309700043474%2C%20-49.354314672230885%5D%2C%20%5B-29.13264708720782%2C%20-51.14585939113225%5D%2C%20%5B-4.24513003321736%2C%20-56.05089151381775%5D%2C%20%5B-8.709008364041715%2C%20-63.901224558508844%5D%2C%20%5B-5.321204934643563%2C%20-38.0837464986031%5D%2C%20%5B-4.909804282006006%2C%20-38.21371730243893%5D%2C%20%5B-4.821622024840304%2C%20-38.14829792222185%5D%2C%20%5B-22.4398903632284%2C%20-42.13242225118694%5D%2C%20%5B-7.486577010800539%2C%20-37.66081277054558%5D%2C%20%5B-29.07565857931282%2C%20-51.58892466097417%5D%2C%20%5B-3.0136217775057115%2C%20-59.946417130022766%5D%2C%20%5B-20.56699794141076%2C%20-54.598005938613916%5D%2C%20%5B-9.98506886370887%2C%20-63.057920081040834%5D%2C%20%5B-8.22033303787688%2C%20-35.57498318625424%5D%2C%20%5B-28.361670834120034%2C%20-50.88647495283838%5D%2C%20%5B-25.42242841735636%2C%20-49.1505725209447%5D%2C%20%5B-11.895563216899307%2C%20-55.43292252320012%5D%2C%20%5B-5.386870520958883%2C%20-38.076217877607384%5D%2C%20%5B-5.46182722090934%2C%20-35.82790947256887%5D%2C%20%5B-15.585707172630952%2C%20-56.08603977977835%5D%2C%20%5B-11.367220092972994%2C%20-41.87748201073974%5D%2C%20%5B-16.46056828938543%2C%20-54.62804327102531%5D%2C%20%5B-4.909804282006006%2C%20-38.21371730243893%5D%2C%20%5B-21.79525729079534%2C%20-50.913878570523785%5D%2C%20%5B-5.180065900953948%2C%20-37.98963254866818%5D%2C%20%5B-29.81869337511093%2C%20-51.12672823543346%5D%2C%20%5B-6.922974638794307%2C%20-40.27702868364032%5D%2C%20%5B-29.658742706197245%2C%20-52.474235009548096%5D%2C%20%5B-5.110877435034868%2C%20-37.61946663428583%5D%2C%20%5B-20.22876259250359%2C%20-40.30564786085389%5D%2C%20%5B-21.263261150397177%2C%20-47.361020980681666%5D%2C%20%5B-4.777915589318581%2C%20-38.14226628506549%5D%2C%20%5B-10.723416013124181%2C%20-65.13151569482082%5D%2C%20%5B-15.987105580978126%2C%20-44.83320387533655%5D%2C%20%5B-17.66292772973767%2C%20-40.81400396305432%5D%2C%20%5B-9.033263799754716%2C%20-63.51772118524255%5D%2C%20%5B-19.738607805010133%2C%20-47.93868547086248%5D%2C%20%5B-16.196845559959804%2C%20-49.56736916227359%5D%2C%20%5B-5.107629019664619%2C%20-42.8688623478903%5D%2C%20%5B-21.375936161094664%2C%20-51.82380019110209%5D%2C%20%5B-5.352875883033477%2C%20-38.09172190990841%5D%2C%20%5B-19.622088219061343%2C%20-47.832788683498165%5D%2C%20%5B-22.918753692656527%2C%20-43.22419553795622%5D%2C%20%5B-5.211302106828657%2C%20-37.34596783120265%5D%2C%20%5B-7.080092507384763%2C%20-36.55156135037815%5D%2C%20%5B-4.839858202787395%2C%20-38.09428851038243%5D%2C%20%5B-14.815099817749807%2C%20-40.919640538773145%5D%2C%20%5B-10.279651881437609%2C%20-49.012000559310934%5D%2C%20%5B-22.197991494643016%2C%20-49.898475438893364%5D%2C%20%5B-5.035656533467296%2C%20-38.50429265940116%5D%2C%20%5B-18.27960791707187%2C%20-54.65546720287043%5D%2C%20%5B-20.20145623971999%2C%20-40.229127187373244%5D%2C%20%5B-5.17901063185274%2C%20-38.11263258431692%5D%2C%20%5B-10.958231365357463%2C%20-43.30635720532763%5D%2C%20%5B-19.65674795297138%2C%20-42.598878897610255%5D%2C%20%5B-4.437201561111144%2C%20-38.075480288248755%5D%2C%20%5B-8.151824494009341%2C%20-37.696236687111146%5D%2C%20%5B-19.843328320163106%2C%20-44.033486831829094%5D%2C%20%5B-25.452539825703273%2C%20-49.23386666097416%5D%2C%20%5B-13.095763416863697%2C%20-41.45359949255025%5D%2C%20%5B-5.789058456812835%2C%20-35.20316516185984%5D%2C%20%5B-9.865508486032263%2C%20-63.01675461192396%5D%2C%20%5B-3.040390455548137%2C%20-59.98156082603978%5D%2C%20%5B-8.763989369500562%2C%20-63.769287589667364%5D%2C%20%5B-14.193286022714489%2C%20-42.881555306963726%5D%2C%20%5B-5.1371068024176045%2C%20-37.999856734617325%5D%2C%20%5B-6.774988902254226%2C%20-37.75572228212326%5D%2C%20%5B-4.608716157400377%2C%20-37.72249464070972%5D%2C%20%5B-20.43142701036655%2C%20-54.64012049664039%5D%2C%20%5B-22.764726518851873%2C%20-47.3728230663817%5D%2C%20%5B-5.03746732792373%2C%20-38.51086003356812%5D%2C%20%5B-3.9549839167011407%2C%20-40.73123341389625%5D%2C%20%5B-5.1095472352927915%2C%20-37.25322764730727%5D%2C%20%5B-26.107489677827502%2C%20-51.01842197819992%5D%2C%20%5B-5.0073502422986795%2C%20-37.68736780201736%5D%2C%20%5B-2.395922522039196%2C%20-54.68103131109167%5D%2C%20%5B-5.779004287703615%2C%20-35.14395828030822%5D%2C%20%5B-31.216557252241707%2C%20-52.210863770823686%5D%2C%20%5B-5.27883868034378%2C%20-37.361297483475916%5D%2C%20%5B-5.541976446800447%2C%20-38.163460236269295%5D%2C%20%5B-23.345867298613825%2C%20-51.22052049003959%5D%2C%20%5B-9.57195531828361%2C%20-35.79356538542205%5D%2C%20%5B-20.403963199362995%2C%20-49.98291072807394%5D%2C%20%5B-20.255621228359534%2C%20-43.83590152752506%5D%2C%20%5B-22.11673021692399%2C%20-51.36958069698586%5D%2C%20%5B-23.153209353157187%2C%20-47.2272369048826%5D%2C%20%5B-4.923435017672541%2C%20-37.797295011795%5D%2C%20%5B-8.681906073470419%2C%20-63.89481220780896%5D%2C%20%5B-18.708828550409525%2C%20-42.76955579707808%5D%2C%20%5B-21.20616629020649%2C%20-43.77538111007044%5D%2C%20%5B-5.24731151254488%2C%20-37.333527288151295%5D%2C%20%5B-8.797561101418266%2C%20-63.9092765937987%5D%2C%20%5B-5.105861253840971%2C%20-38.35149984446606%5D%2C%20%5B-8.424738659973372%2C%20-35.01887476025905%5D%2C%20%5B-12.853668030821412%2C%20-38.43695393920682%5D%2C%20%5B-19.986531767889872%2C%20-47.71167752022537%5D%2C%20%5B-22.378820834391426%2C%20-45.996339510384196%5D%2C%20%5B-18.92038662592642%2C%20-57.679525807306625%5D%2C%20%5B-5.219711837744265%2C%20-37.37594585072137%5D%2C%20%5B-8.837157329973701%2C%20-63.77203770344537%5D%2C%20%5B-8.761065853217005%2C%20-63.789893165387596%5D%2C%20%5B-2.372719335862903%2C%20-54.76799930797152%5D%2C%20%5B-18.975096510010896%2C%20-57.57604281653096%5D%2C%20%5B-3.757049829764899%2C%20-49.69530438686031%5D%2C%20%5B-8.66553787438723%2C%20-39.91424677208586%5D%2C%20%5B-15.980589099453217%2C%20-44.83723372323172%5D%2C%20%5B-21.4809599919096%2C%20-42.70248488095469%5D%2C%20%5B-4.447055604213782%2C%20-44.151169621874445%5D%2C%20%5B-24.405852621482005%2C%20-53.509754065480024%5D%2C%20%5B-18.96884168200989%2C%20-50.62200892156455%5D%2C%20%5B-7.902731194573263%2C%20-36.21248900435714%5D%2C%20%5B-22.191473309037317%2C%20-49.91043834419966%5D%2C%20%5B-5.075271751660963%2C%20-36.820360972878056%5D%2C%20%5B-5.1137978996061415%2C%20-42.782525891666445%5D%2C%20%5B-5.386870520958883%2C%20-38.076217877607384%5D%2C%20%5B-22.334608193680968%2C%20-45.43000836782607%5D%2C%20%5B-32.01465852851832%2C%20-52.9392872531525%5D%2C%20%5B-5.768961007981761%2C%20-36.86326616144806%5D%2C%20%5B-7.18141097286606%2C%20-34.81785987877392%5D%2C%20%5B-4.821622024840304%2C%20-38.14829792222185%5D%2C%20%5B-22.158356593949367%2C%20-54.860990773439845%5D%2C%20%5B-16.704509452283183%2C%20-43.81137483780789%5D%2C%20%5B-5.156767859382845%2C%20-37.32412948815525%5D%2C%20%5B-11.811407001237042%2C%20-48.22700298605122%5D%2C%20%5B-4.903919425052002%2C%20-38.43094471292153%5D%2C%20%5B-29.235646143192422%2C%20-49.81497766902493%5D%2C%20%5B-7.494396586048659%2C%20-36.445458559320414%5D%2C%20%5B-3.7027220115262933%2C%20-49.600077582198054%5D%2C%20%5B-18.94759430757497%2C%20-57.577765197819836%5D%2C%20%5B-22.509730028922103%2C%20-43.15094696662775%5D%2C%20%5B-29.185696218888786%2C%20-51.10182957124219%5D%2C%20%5B-4.945536522208776%2C%20-38.06351287550685%5D%2C%20%5B-6.385069692855844%2C%20-39.34688397312974%5D%2C%20%5B-10.787255756105798%2C%20-45.76908464616643%5D%2C%20%5B-29.789023173584244%2C%20-57.02955162261922%5D%2C%20%5B-17.468877501557074%2C%20-39.68907117062843%5D%2C%20%5B-23.033076061380953%2C%20-53.31015314663763%5D%2C%20%5B-20.88241430759176%2C%20-48.74901173655279%5D%2C%20%5B-11.846144183267421%2C%20-43.90450679623351%5D%2C%20%5B-8.037935428790906%2C%20-50.06696247039752%5D%2C%20%5B-16.46527578856753%2C%20-54.601151986610155%5D%2C%20%5B-16.805026899213512%2C%20-49.34475017983652%5D%2C%20%5B-23.5968658874208%2C%20-51.112195534079895%5D%2C%20%5B-21.732315893334686%2C%20-47.99041544777497%5D%2C%20%5B-22.2659053298942%2C%20-50.008066362652286%5D%2C%20%5B-26.95089377700471%2C%20-49.07232830760074%5D%2C%20%5B-18.91534594619434%2C%20-43.236176217510064%5D%2C%20%5B-11.76538210225201%2C%20-40.08785836489293%5D%2C%20%5B-16.191757955581007%2C%20-50.939670923912466%5D%2C%20%5B-5.129619178999822%2C%20-37.302679493093265%5D%2C%20%5B-25.37175858352622%2C%20-49.10164473188934%5D%2C%20%5B-21.047529241387558%2C%20-51.06586481672103%5D%2C%20%5B-3.7409679675354295%2C%20-39.42007257951542%5D%2C%20%5B-22.543227750865416%2C%20-44.24482462599601%5D%2C%20%5B-12.245233376134351%2C%20-39.11471879083073%5D%2C%20%5B-8.700980150063657%2C%20-63.85389478401299%5D%2C%20%5B-7.145342030885363%2C%20-34.83453637747236%5D%2C%20%5B-16.266844185023764%2C%20-44.49722881899108%5D%2C%20%5B-11.507002183858374%2C%20-39.19231516255882%5D%2C%20%5B-29.680866168729384%2C%20-52.46457142682558%5D%2C%20%5B-13.295733311320667%2C%20-43.296127801927675%5D%2C%20%5B-12.964191316716098%2C%20-38.57600725578758%5D%2C%20%5B-18.097633092009804%2C%20-39.60844721170262%5D%2C%20%5B-29.708606464331403%2C%20-52.57879398808431%5D%2C%20%5B-5.056016521061155%2C%20-38.382027729479894%5D%2C%20%5B-8.802268672963237%2C%20-63.80989884280086%5D%2C%20%5B-5.245159111726516%2C%20-37.37964456960023%5D%2C%20%5B-24.545917670971694%2C%20-54.15867124457657%5D%2C%20%5B-15.586490344324462%2C%20-56.12353754592424%5D%2C%20%5B-9.837788830883275%2C%20-36.31625290446005%5D%2C%20%5B-5.370715636955637%2C%20-38.068822536484085%5D%2C%20%5B-29.81372213701627%2C%20-54.757499346737575%5D%2C%20%5B-4.64464092492145%2C%20-37.788609213039166%5D%2C%20%5B-23.418765500538075%2C%20-46.50308768156757%5D%2C%20%5B-3.5782862691763944%2C%20-40.40179076119955%5D%2C%20%5B-8.281944855530558%2C%20-46.324543808361824%5D%2C%20%5B-21.71794617303169%2C%20-43.34175880995198%5D%2C%20%5B-20.45301345076719%2C%20-49.99814010739849%5D%2C%20%5B-16.60113818854756%2C%20-49.26723231367219%5D%2C%20%5B-7.184729934774749%2C%20-41.45167041994853%5D%2C%20%5B-8.6674586351352%2C%20-63.92410747365383%5D%2C%20%5B-17.904741217130603%2C%20-51.6833669565199%5D%2C%20%5B-23.766251788806507%2C%20-49.74996181928946%5D%2C%20%5B-4.186168081202316%2C%20-69.97081099449044%5D%2C%20%5B-5.03675109316849%2C%20-37.61949070915459%5D%2C%20%5B-8.734034399411525%2C%20-35.6955505753895%5D%2C%20%5B-4.811876695441778%2C%20-38.12667140753789%5D%2C%20%5B-20.841582456128464%2C%20-49.33691429299717%5D%2C%20%5B-24.179901401346694%2C%20-48.559972745253226%5D%2C%20%5B-8.794316744751603%2C%20-63.88492671619777%5D%2C%20%5B-14.199167638856544%2C%20-51.86179806940986%5D%2C%20%5B-7.678336589050977%2C%20-72.57142175227341%5D%2C%20%5B-10.738970454187143%2C%20-65.01881669521755%5D%2C%20%5B-8.75539393473015%2C%20-63.84875956982086%5D%2C%20%5B-23.78467247757512%2C%20-46.644935829045075%5D%2C%20%5B-11.886146384168198%2C%20-61.026930934594745%5D%2C%20%5B-22.22156688677349%2C%20-54.692593179178466%5D%2C%20%5B-8.79920797552362%2C%20-63.817552604510254%5D%2C%20%5B-5.124323344535873%2C%20-37.26028285191586%5D%2C%20%5B-4.942304854330207%2C%20-37.64096712929427%5D%2C%20%5B-18.531700208291944%2C%20-43.456517835222655%5D%2C%20%5B-5.768961007981761%2C%20-36.86326616144806%5D%2C%20%5B-4.042854419025346%2C%20-46.11129398969735%5D%2C%20%5B-21.52999629384661%2C%20-49.88917126821583%5D%2C%20%5B-3.166232838164755%2C%20-59.99281181286973%5D%2C%20%5B-11.45839479977579%2C%20-41.81184972955329%5D%2C%20%5B-7.013171258644141%2C%20-45.71999423546206%5D%2C%20%5B0.03748067573614263%2C%20-51.10932668383044%5D%2C%20%5B-5.550088400151516%2C%20-47.53370519664627%5D%2C%20%5B-9.855258980026324%2C%20-63.08886845155031%5D%2C%20%5B-4.584511023588267%2C%20-46.30789935210755%5D%2C%20%5B-18.086969949220677%2C%20-39.90688939365321%5D%2C%20%5B-5.635953600057891%2C%20-37.78068353742777%5D%2C%20%5B-2.60888619239893%2C%20-44.154565350524074%5D%2C%20%5B-7.305392586185854%2C%20-38.90663871035455%5D%2C%20%5B-9.647350008951202%2C%20-35.68373910924882%5D%2C%20%5B-5.194400780918745%2C%20-49.0787436650196%5D%2C%20%5B-5.248803172517881%2C%20-38.01388271668373%5D%2C%20%5B-7.006848114361132%2C%20-45.69816289398796%5D%2C%20%5B-15.298839386455251%2C%20-49.12285856155922%5D%2C%20%5B-7.608438780996836%2C%20-34.91029451383942%5D%2C%20%5B-18.063741980074422%2C%20-43.2821084349902%5D%2C%20%5B-6.3555385955679515%2C%20-39.27715786993584%5D%2C%20%5B-7.011969391833144%2C%20-36.601827157260054%5D%2C%20%5B-22.896685546026696%2C%20-44.009512980027765%5D%2C%20%5B-6.160126379592158%2C%20-37.883984105578655%5D%2C%20%5B-23.497390252272748%2C%20-46.51732045815121%5D%2C%20%5B2.8347529703092595%2C%20-60.76266075113744%5D%2C%20%5B-5.031403603300897%2C%20-37.00313420117624%5D%2C%20%5B-15.883353808517565%2C%20-48.141151561480534%5D%2C%20%5B-4.758533498538638%2C%20-47.355166849944325%5D%2C%20%5B-5.095444755417907%2C%20-37.30728448220329%5D%2C%20%5B-8.776507826522874%2C%20-63.858385276628866%5D%2C%20%5B-5.241591059935838%2C%20-37.35412632171735%5D%2C%20%5B-8.039458890925072%2C%20-35.29014743638844%5D%2C%20%5B-12.992252627077722%2C%20-56.26908874079605%5D%2C%20%5B-21.77843617868644%2C%20-48.06163408500512%5D%2C%20%5B-18.383356393619763%2C%20-42.545701468861424%5D%2C%20%5B-22.98065565555081%2C%20-49.29686027518015%5D%2C%20%5B-10.25507336760279%2C%20-64.7378064237292%5D%2C%20%5B-4.865987350214674%2C%20-38.12242251855713%5D%2C%20%5B-22.415801233987274%2C%20-44.020162973482016%5D%2C%20%5B-8.848540388040542%2C%20-63.902541241963675%5D%2C%20%5B-23.038517086099272%2C%20-54.095686651486815%5D%2C%20%5B-5.053930916848799%2C%20-36.959013797946426%5D%2C%20%5B-5.290454876828418%2C%20-38.21744117461137%5D%2C%20%5B-29.905325848520828%2C%20-51.24607157934997%5D%2C%20%5B-5.352359830592015%2C%20-38.107434705181625%5D%2C%20%5B-5.198016964116268%2C%20-37.95638432752724%5D%2C%20%5B-24.733118150084366%2C%20-53.694497395674055%5D%2C%20%5B-3.544865901997327%2C%20-43.33093353132881%5D%2C%20%5B-3.744817261776221%2C%20-42.6248580377363%5D%2C%20%5B-22.812123336912304%2C%20-45.15175567080463%5D%2C%20%5B-7.719363212661434%2C%20-37.94267912606164%5D%2C%20%5B-28.267963863471753%2C%20-52.420755450400954%5D%2C%20%5B-4.633079655721242%2C%20-37.49046441951252%5D%2C%20%5B-3.7855699069533695%2C%20-40.933781987978705%5D%2C%20%5B-4.692389238516215%2C%20-37.712335447639866%5D%2C%20%5B-8.047052490787724%2C%20-34.92319924377285%5D%2C%20%5B-15.715372589385398%2C%20-47.834523120971284%5D%2C%20%5B-6.741258807823254%2C%20-38.23578591771392%5D%2C%20%5B-29.154946151275727%2C%20-51.06787039506595%5D%2C%20%5B-22.448845805524957%2C%20-44.45097014653881%5D%2C%20%5B-15.655629591941945%2C%20-56.04989818053014%5D%2C%20%5B-20.357689384261047%2C%20-42.97962524101229%5D%2C%20%5B-6.903369393378545%2C%20-40.19760314605528%5D%2C%20%5B-3.143223287332915%2C%20-59.99219651581589%5D%2C%20%5B-20.98199731473028%2C%20-48.09105321556483%5D%2C%20%5B-21.60425845131646%2C%20-54.52784261431043%5D%2C%20%5B-10.709741713695172%2C%20-65.15480550611404%5D%2C%20%5B-19.65674795297138%2C%20-42.598878897610255%5D%2C%20%5B-22.177983874755%2C%20-42.68151008910246%5D%2C%20%5B-9.04725687514211%2C%20-42.59928333888821%5D%2C%20%5B-10.723416013124181%2C%20-65.13151569482082%5D%2C%20%5B-22.357794291184184%2C%20-54.42905074728559%5D%2C%20%5B-9.298237096260824%2C%20-40.532327114495025%5D%2C%20%5B-4.6571864983239655%2C%20-38.10577706678748%5D%2C%20%5B-24.69906680544923%2C%20-51.67456305315053%5D%2C%20%5B-23.096766302420964%2C%20-47.29245987538684%5D%2C%20%5B-21.230768857015885%2C%20-41.895345774986616%5D%2C%20%5B-29.387323277517993%2C%20-51.4815942091465%5D%2C%20%5B-21.694049535218426%2C%20-49.70057404109001%5D%2C%20%5B-9.755872651066603%2C%20-36.12282288915718%5D%2C%20%5B-17.78916578486981%2C%20-43.982881498248425%5D%2C%20%5B-4.923435017672541%2C%20-37.797295011795%5D%2C%20%5B-12.099510384888003%2C%20-46.159436210014796%5D%2C%20%5B-5.136149902193967%2C%20-37.435577617788034%5D%2C%20%5B-5.353330734130338%2C%20-47.18984034365653%5D%2C%20%5B-4.634346249715744%2C%20-43.958368001291596%5D%2C%20%5B-16.467430929226644%2C%20-54.64736969758737%5D%2C%20%5B-12.771204693296342%2C%20-38.35822792378223%5D%2C%20%5B-4.855344804276052%2C%20-38.143135656039895%5D%2C%20%5B-4.608716157400377%2C%20-37.72249464070972%5D%2C%20%5B-14.419910709962783%2C%20-58.16027287182429%5D%2C%20%5B-14.376717824067766%2C%20-58.14357084218959%5D%2C%20%5B-18.18079700435076%2C%20-43.50863977888747%5D%2C%20%5B-19.015475210993262%2C%20-50.33743535265799%5D%2C%20%5B-23.169588334439446%2C%20-45.884541951715946%5D%2C%20%5B-7.931209488500441%2C%20-35.304099885268705%5D%2C%20%5B-15.242211962611359%2C%20-58.08027003080684%5D%2C%20%5B-7.13450683502643%2C%20-34.90582397342812%5D%2C%20%5B-5.618724306389648%2C%20-37.76118896158612%5D%2C%20%5B-6.482885404206971%2C%20-37.69564488941921%5D%2C%20%5B-6.4136218138543155%2C%20-37.48321139992505%5D%2C%20%5B-5.157137277689412%2C%20-38.01595434740941%5D%2C%20%5B-4.948285631224608%2C%20-37.01258571144058%5D%2C%20%5B-8.801798097429046%2C%20-63.937672093471335%5D%2C%20%5B-21.834498273656212%2C%20-47.896304353976575%5D%2C%20%5B-8.4655993868018%2C%20-39.55621936463525%5D%2C%20%5B-5.583200507088158%2C%20-47.558426270391%5D%2C%20%5B-3.659142119826769%2C%20-38.452021315223995%5D%2C%20%5B-20.259092195511403%2C%20-40.329655417059655%5D%2C%20%5B-23.402407161072865%2C%20-46.560007442025544%5D%2C%20%5B-21.209159191173853%2C%20-43.761140633371035%5D%2C%20%5B-5.406018746715904%2C%20-49.13806200823168%5D%2C%20%5B-2.9573539420401698%2C%20-59.959019093195465%5D%2C%20%5B-26.94176627784306%2C%20-52.388464169548485%5D%2C%20%5B-18.886870576114163%2C%20-48.296350352029016%5D%2C%20%5B-22.926585896025767%2C%20-43.445730139899425%5D%2C%20%5B-22.357618187231324%2C%20-49.139403734177236%5D%2C%20%5B-10.056713630919452%2C%20-36.858018460191026%5D%2C%20%5B-16.85371830105962%2C%20-49.339217267390694%5D%2C%20%5B-23.42296441279141%2C%20-47.43595344088748%5D%2C%20%5B-20.87455471332381%2C%20-51.28460779588031%5D%2C%20%5B-5.618724306389648%2C%20-37.76118896158612%5D%2C%20%5B-4.224377467724214%2C%20-47.98771519558519%5D%2C%20%5B-8.222694038670731%2C%20-35.83478523921618%5D%2C%20%5B-28.149507652551655%2C%20-51.439584851461156%5D%2C%20%5B-14.570940297720767%2C%20-40.45015612127787%5D%2C%20%5B-10.901977648760397%2C%20-37.13280158236292%5D%2C%20%5B-4.510200124801022%2C%20-44.65933211200639%5D%2C%20%5B-24.047087240718348%2C%20-46.945131597794386%5D%2C%20%5B-10.163804341375167%2C%20-37.54247963182319%5D%2C%20%5B-16.975978665301408%2C%20-39.71383049924536%5D%2C%20%5B-8.781592693960654%2C%20-63.843511818026734%5D%2C%20%5B-23.026545163299776%2C%20-45.53529186201537%5D%2C%20%5B-21.20696945249796%2C%20-41.8776969641529%5D%2C%20%5B-5.479780259126138%2C%20-47.467920434614506%5D%2C%20%5B-22.348139838541506%2C%20-42.498175592895244%5D%2C%20%5B-18.557440624719984%2C%20-43.82326283339527%5D%2C%20%5B-8.811363533879447%2C%20-63.7980981347249%5D%2C%20%5B-9.191244715647922%2C%20-43.03875323190223%5D%2C%20%5B-11.991499926281152%2C%20-42.11027813259941%5D%2C%20%5B-5.721522661459162%2C%20-37.63271971078557%5D%2C%20%5B-8.44195115286815%2C%20-35.695529896171436%5D%2C%20%5B-24.063779439202165%2C%20-53.36376096091453%5D%2C%20%5B-23.400304480118862%2C%20-46.803734839836785%5D%2C%20%5B-6.9105942779905485%2C%20-38.45982053909519%5D%2C%20%5B-2.5702475328136583%2C%20-44.157321546570174%5D%2C%20%5B-19.605357859934706%2C%20-47.01552842910816%5D%2C%20%5B-2.561744963193753%2C%20-44.0410429415768%5D%2C%20%5B-6.290790146318533%2C%20-47.21215465988659%5D%2C%20%5B-16.958582933059237%2C%20-51.643602684980195%5D%2C%20%5B-5.321204934643563%2C%20-38.0837464986031%5D%2C%20%5B-22.168243997185105%2C%20-45.600688406569894%5D%2C%20%5B-4.880673008601558%2C%20-47.4127926434871%5D%2C%20%5B-4.572137481717783%2C%20-37.70414850569539%5D%2C%20%5B-16.701955688104604%2C%20-43.90835320244252%5D%2C%20%5B-13.618776582754949%2C%20-41.19983047539859%5D%2C%20%5B-5.9401973506514025%2C%20-37.322762869300604%5D%2C%20%5B-19.045211150538922%2C%20-57.5125596421916%5D%2C%20%5B-5.865002115546082%2C%20-37.65624181203397%5D%2C%20%5B-21.649672093291567%2C%20-54.42042343707144%5D%2C%20%5B-12.773439145252652%2C%20-46.50511867476151%5D%2C%20%5B-13.448740939240277%2C%20-58.560189577863305%5D%2C%20%5B-21.061584622731644%2C%20-50.06670686342046%5D%2C%20%5B-4.927090175596151%2C%20-38.94129952774461%5D%2C%20%5B-18.203071328089965%2C%20-43.23927683788197%5D%2C%20%5B-13.663936194116488%2C%20-43.119673339305955%5D%2C%20%5B-1.463662361533533%2C%20-48.379430361987545%5D%2C%20%5B-28.146718792625652%2C%20-52.03822021456312%5D%2C%20%5B-18.364880782641137%2C%20-40.25798405219535%5D%2C%20%5B-7.015318771680339%2C%20-39.45048606070649%5D%2C%20%5B-4.821337991110021%2C%20-38.20179142110958%5D%2C%20%5B-22.02847765754161%2C%20-51.65788075203791%5D%2C%20%5B-8.723440707527136%2C%20-63.84917193374359%5D%2C%20%5B-12.812535431286038%2C%20-38.388671220005044%5D%2C%20%5B-22.912090581704987%2C%20-46.119836634835856%5D%2C%20%5B-17.926823844882506%2C%20-41.56273152294492%5D%2C%20%5B-14.326978385850456%2C%20-51.95395609960554%5D%2C%20%5B-17.916653958564375%2C%20-39.8105434916631%5D%2C%20%5B-5.230424878911747%2C%20-37.41397894581111%5D%2C%20%5B-2.5613523717773785%2C%20-44.178002293331986%5D%2C%20%5B-5.635953600057891%2C%20-37.78068353742777%5D%2C%20%5B-10.175277170777363%2C%20-39.90010983701106%5D%2C%20%5B-25.528892585641103%2C%20-49.11290948531124%5D%2C%20%5B-4.865987350214674%2C%20-38.12242251855713%5D%2C%20%5B-29.48820718613824%2C%20-51.8090225579796%5D%2C%20%5B-11.931974176748055%2C%20-55.45597654520289%5D%2C%20%5B-19.419227594855784%2C%20-40.97031822373315%5D%2C%20%5B-25.349041035410128%2C%20-49.25656791485495%5D%2C%20%5B-8.809430870417293%2C%20-63.81901439003202%5D%2C%20%5B-8.248126128203957%2C%20-70.46827548488132%5D%2C%20%5B-5.10827780001137%2C%20-38.133963946990264%5D%2C%20%5B-4.607559421096197%2C%20-44.57901398916504%5D%2C%20%5B-4.725348748373839%2C%20-37.280119148650826%5D%2C%20%5B-8.89150668396673%2C%20-38.321617175026084%5D%2C%20%5B-14.818436492757119%2C%20-40.84407165569175%5D%2C%20%5B-5.559104387321815%2C%20-37.74693000808273%5D%2C%20%5B-4.517914124688034%2C%20-37.79226363345887%5D%2C%20%5B-15.453636895899102%2C%20-52.61614004968986%5D%2C%20%5B-21.48373311957319%2C%20-45.52760710651287%5D%2C%20%5B-18.403154714251354%2C%20-42.73028844001603%5D%2C%20%5B-5.239688856853822%2C%20-37.3393625862966%5D%2C%20%5B-4.690769858021743%2C%20-37.32211811349053%5D%2C%20%5B-8.71170491802812%2C%20-63.87652239154998%5D%2C%20%5B-2.9896023338305757%2C%20-59.93949264450806%5D%2C%20%5B-8.31867245114909%2C%20-46.290145636228395%5D%2C%20%5B-21.207869594084542%2C%20-47.791609745543475%5D%2C%20%5B-5.180065900953948%2C%20-37.98963254866818%5D%2C%20%5B-9.033263799754716%2C%20-63.51772118524255%5D%2C%20%5B-8.871312116448493%2C%20-63.841441646334594%5D%2C%20%5B-15.902088317798443%2C%20-48.082421141395706%5D%2C%20%5B-29.740548685032895%2C%20-53.86714693702396%5D%2C%20%5B-5.132412887671175%2C%20-38.50288563713081%5D%2C%20%5B-15.643759205908477%2C%20-56.128600418498024%5D%2C%20%5B-20.195901765915956%2C%20-51.02846196089117%5D%2C%20%5B-23.163294176827783%2C%20-45.75447478186623%5D%2C%20%5B-21.56555627816266%2C%20-48.33962265105393%5D%2C%20%5B-12.958173314605249%2C%20-39.029737290727745%5D%2C%20%5B2.8313115031566345%2C%20-60.74760388790507%5D%2C%20%5B-4.437201561111144%2C%20-38.075480288248755%5D%2C%20%5B-29.780171952027608%2C%20-51.189025945964616%5D%2C%20%5B-31.806811513456918%2C%20-51.74151459958485%5D%2C%20%5B-8.802912006600685%2C%20-63.83572617391291%5D%2C%20%5B-16.526573660314313%2C%20-44.705751367389404%5D%2C%20%5B-4.260956181721702%2C%20-69.9052798865198%5D%2C%20%5B-5.19482451800149%2C%20-37.2736056780461%5D%2C%20%5B-12.106849746493127%2C%20-46.0537010730015%5D%2C%20%5B-5.104239428925926%2C%20-38.44153826538616%5D%2C%20%5B-20.582850497325%2C%20-44.70345554017852%5D%2C%20%5B-5.205997362676396%2C%20-38.021309776794496%5D%2C%20%5B-3.4875410962353737%2C%20-39.49573293654006%5D%2C%20%5B-14.963457940041428%2C%20-42.9107795695608%5D%2C%20%5B-4.726569827321769%2C%20-37.35545553789407%5D%2C%20%5B-20.30300035042389%2C%20-40.35950027314022%5D%2C%20%5B-20.04121136282917%2C%20-43.97895992556048%5D%2C%20%5B-29.771227446732038%2C%20-57.104664541569534%5D%2C%20%5B-10.042020851569077%2C%20-63.05591650208418%5D%2C%20%5B-8.358242483440367%2C%20-70.42185278934467%5D%2C%20%5B-6.219052226795268%2C%20-37.59976260148145%5D%2C%20%5B-2.416938289067199%2C%20-54.66468555752467%5D%2C%20%5B-19.864589137965346%2C%20-48.40105698379542%5D%2C%20%5B-18.05208955481896%2C%20-39.64369290169793%5D%2C%20%5B-12.916408621133023%2C%20-38.629797238735414%5D%2C%20%5B-2.5375402987594002%2C%20-44.356669035896616%5D%2C%20%5B-10.339992170227514%2C%20-45.1814305402104%5D%2C%20%5B-25.530649350844453%2C%20-54.547128566573484%5D%2C%20%5B-5.088805695718118%2C%20-36.92198435636012%5D%2C%20%5B-22.756470154425912%2C%20-43.321311404904435%5D%2C%20%5B-5.552172160933968%2C%20-37.25105399483229%5D%2C%20%5B-17.764106320518678%2C%20-53.2613959628366%5D%2C%20%5B-14.432947808081789%2C%20-59.84604191559806%5D%2C%20%5B-5.9722772400762425%2C%20-38.78130713261358%5D%2C%20%5B-4.506781117561834%2C%20-37.765099728134835%5D%2C%20%5B-7.135732405946715%2C%20-48.229075341772706%5D%2C%20%5B-20.403853886373206%2C%20-54.58536531605132%5D%2C%20%5B-9.154522302477519%2C%20-44.46701465811656%5D%2C%20%5B-23.513570132891413%2C%20-51.91335677302712%5D%2C%20%5B-20.136230841779437%2C%20-41.478698588573586%5D%2C%20%5B-5.206872164501092%2C%20-37.294613060409354%5D%2C%20%5B-21.741232558872365%2C%20-48.162958162968536%5D%2C%20%5B-19.267212524809846%2C%20-41.1488014158552%5D%2C%20%5B-4.939779771454179%2C%20-38.1356508509967%5D%2C%20%5B-28.242938118910715%2C%20-55.248216293622704%5D%2C%20%5B-13.655043333611017%2C%20-56.84143439482043%5D%2C%20%5B-20.4480925225653%2C%20-45.58249538762053%5D%2C%20%5B-21.196919511113357%2C%20-47.85672627511957%5D%2C%20%5B-6.219052226795268%2C%20-37.59976260148145%5D%2C%20%5B-10.913879553928602%2C%20-37.14269226421261%5D%2C%20%5B-22.212619644468653%2C%20-54.72091361937688%5D%2C%20%5B-10.844833803274875%2C%20-45.73748014408507%5D%2C%20%5B-5.145906109272816%2C%20-37.33528988259234%5D%2C%20%5B-16.445396084447413%2C%20-51.184580124056275%5D%2C%20%5B-25.444281915590356%2C%20-51.46722201204195%5D%2C%20%5B-6.225533859198106%2C%20-47.21231687250301%5D%2C%20%5B-21.759099582729597%2C%20-46.41277420496317%5D%2C%20%5B-2.879603510043448%2C%20-41.78727485714423%5D%2C%20%5B-9.908504289364817%2C%20-63.132176221345965%5D%2C%20%5B-7.163152227082012%2C%20-34.81373832042685%5D%2C%20%5B-17.83848508038019%2C%20-41.47032887034892%5D%2C%20%5B-24.883622595341887%2C%20-53.55210527020628%5D%2C%20%5B-27.91457897384612%2C%20-51.846275981881476%5D%2C%20%5B-8.120585580186745%2C%20-38.7918061770713%5D%2C%20%5B-1.6526572813537694%2C%20-45.107635601585834%5D%2C%20%5B-5.680286321437198%2C%20-37.043729016339235%5D%2C%20%5B-28.216192055271478%2C%20-52.27475758825415%5D%2C%20%5B-11.009395002099982%2C%20-37.26531369487025%5D%2C%20%5B-4.682122251453244%2C%20-38.06553929587813%5D%2C%20%5B-16.489106121952027%2C%20-39.09362753635328%5D%2C%20%5B-29.686619837028275%2C%20-53.80418174412906%5D%2C%20%5B-6.502453334749959%2C%20-35.3170325727831%5D%2C%20%5B-10.557046635862479%2C%20-62.215763771769%5D%2C%20%5B-5.617891061682188%2C%20-37.34330115321491%5D%2C%20%5B-8.775247907490499%2C%20-63.85352140819226%5D%2C%20%5B-6.565078725826972%2C%20-36.126010813021196%5D%2C%20%5B-14.223318512920855%2C%20-42.82559277802364%5D%2C%20%5B-29.940065466552863%2C%20-51.05108972956309%5D%2C%20%5B-4.8894647387794485%2C%20-38.20101359894759%5D%2C%20%5B-22.232777301373137%2C%20-42.37460054452985%5D%2C%20%5B-19.013279305559085%2C%20-57.69631579289861%5D%2C%20%5B-9.718996218755645%2C%20-58.091572392801716%5D%2C%20%5B-5.23377157714395%2C%20-37.34535407178499%5D%2C%20%5B-11.80873123687983%2C%20-48.250567379911594%5D%2C%20%5B-8.79026927597344%2C%20-63.818927073607234%5D%2C%20%5B-8.02436236299192%2C%20-34.930847763117555%5D%2C%20%5B-20.292907091832006%2C%20-40.40156995260797%5D%2C%20%5B-14.268950785062069%2C%20-39.781695260709895%5D%2C%20%5B-5.027303961218093%2C%20-37.712381028036354%5D%2C%20%5B-5.869564527579729%2C%20-35.288864633159065%5D%2C%20%5B-5.055241604527106%2C%20-37.00799158663919%5D%2C%20%5B-14.129521108740517%2C%20-56.931001055783206%5D%2C%20%5B-21.676117039094866%2C%20-47.30556698662725%5D%2C%20%5B-9.583902217178137%2C%20-36.49319836647104%5D%2C%20%5B-5.211302106828657%2C%20-37.34596783120265%5D%2C%20%5B-18.226171041819235%2C%20-40.45797606284213%5D%2C%20%5B-4.8847167329261625%2C%20-37.725104155237744%5D%2C%20%5B-16.010508075132435%2C%20-54.73627238964842%5D%2C%20%5B-22.941082976792774%2C%20-45.5200816029074%5D%2C%20%5B-8.859720895195437%2C%20-63.839485526316594%5D%2C%20%5B-5.13887660853937%2C%20-38.537792080273015%5D%2C%20%5B-5.016255846999623%2C%20-42.76348948018364%5D%2C%20%5B-4.91757089624029%2C%20-38.055854728164825%5D%2C%20%5B-12.166142726497103%2C%20-45.982019904171096%5D%2C%20%5B-8.797561101418266%2C%20-63.9092765937987%5D%2C%20%5B-12.90800965488413%2C%20-38.465503923313356%5D%2C%20%5B-13.234585574664846%2C%20-49.286564752966854%5D%2C%20%5B-5.552172160933968%2C%20-37.25105399483229%5D%2C%20%5B-17.37996407173726%2C%20-42.865003649804024%5D%2C%20%5B-5.775173124453278%2C%20-37.99505250607281%5D%2C%20%5B-7.176409759134097%2C%20-48.225032186157286%5D%2C%20%5B-23.461553084284027%2C%20-46.78672242374024%5D%2C%20%5B-4.839085907349063%2C%20-64.9911538709906%5D%2C%20%5B-13.324812052328037%2C%20-43.293875290916496%5D%2C%20%5B-15.192877422464315%2C%20-49.14667465386447%5D%2C%20%5B-15.283986009185899%2C%20-49.11688165975813%5D%2C%20%5B-8.458611955719823%2C%20-36.44934656751207%5D%2C%20%5B-22.314416145746883%2C%20-41.758971754678136%5D%2C%20%5B-15.718656019565257%2C%20-56.15815512603248%5D%2C%20%5B0.051148227185052936%2C%20-50.988495377140744%5D%2C%20%5B-18.85393121955828%2C%20-48.26938521830322%5D%2C%20%5B-6.360479649251683%2C%20-35.54315705441458%5D%2C%20%5B-4.788366951427577%2C%20-38.17508887080048%5D%2C%20%5B-11.865690005292816%2C%20-55.550876527899106%5D%2C%20%5B-6.151206401960819%2C%20-37.44254375326859%5D%2C%20%5B-22.228985968686292%2C%20-42.43025916659066%5D%2C%20%5B-16.275641642760462%2C%20-46.76480958915138%5D%2C%20%5B-22.077160228418304%2C%20-53.79515925109064%5D%2C%20%5B-19.60770246202184%2C%20-41.27361791696189%5D%2C%20%5B-14.12929056551877%2C%20-41.236801830203625%5D%2C%20%5B-19.3879590250767%2C%20-46.020566253591014%5D%2C%20%5B-5.235455482128184%2C%20-37.337212904276186%5D%2C%20%5B-21.14928115650349%2C%20-43.760451181608886%5D%2C%20%5B-21.335366211260254%2C%20-45.016652253909086%5D%2C%20%5B-5.896319066090013%2C%20-39.45853353256678%5D%2C%20%5B-12.832866016213504%2C%20-38.477626457965755%5D%2C%20%5B-19.91636825478192%2C%20-41.582509808530645%5D%2C%20%5B-29.707928057950596%2C%20-50.81872012449498%5D%2C%20%5B-10.186249154322658%2C%20-48.2713910167866%5D%2C%20%5B-5.27883868034378%2C%20-37.361297483475916%5D%2C%20%5B-5.131467118699889%2C%20-42.87975881269721%5D%2C%20%5B-25.168931613608287%2C%20-50.17629209056356%5D%2C%20%5B-21.689585049390498%2C%20-47.48163344319149%5D%2C%20%5B-14.888084282041818%2C%20-40.888179686926065%5D%2C%20%5B-5.625485620113778%2C%20-37.79008741885898%5D%2C%20%5B-7.727444823269606%2C%20-72.56070503312156%5D%2C%20%5B-4.93662499224178%2C%20-38.43186561805604%5D%2C%20%5B-15.099833427102576%2C%20-57.59768054838647%5D%2C%20%5B-5.110877435034868%2C%20-37.61946663428583%5D%2C%20%5B-2.5537508148466785%2C%20-44.22979021934018%5D%2C%20%5B-6.598773475698146%2C%20-39.02330835400022%5D%2C%20%5B-4.474536142668008%2C%20-37.69654733579308%5D%2C%20%5B-5.027303961218093%2C%20-37.712381028036354%5D%2C%20%5B-5.157738181727221%2C%20-37.35224266327093%5D%2C%20%5B-4.87108544768393%2C%20-64.99352232323271%5D%2C%20%5B-6.55224639230889%2C%20-43.069295110215364%5D%2C%20%5B-5.0873260291693985%2C%20-37.62879331582293%5D%2C%20%5B-5.200544975238949%2C%20-37.369493293143066%5D%2C%20%5B-9.031107139812482%2C%20-63.3577918151104%5D%2C%20%5B-8.802511983464921%2C%20-63.917125535539654%5D%2C%20%5B-21.78200435996426%2C%20-43.243680200958636%5D%2C%20%5B-4.853862985953318%2C%20-38.189949166378%5D%2C%20%5B-6.829757168833416%2C%20-51.28547656141667%5D%2C%20%5B-25.895954802088248%2C%20-50.762440853316%5D%2C%20%5B-20.33602126858639%2C%20-46.15399038628187%5D%2C%20%5B-5.245159111726516%2C%20-37.37964456960023%5D%2C%20%5B-9.54638667131586%2C%20-35.694732978888375%5D%2C%20%5B-12.11311448488032%2C%20-46.05086729472715%5D%2C%20%5B-8.39950627124774%2C%20-46.207331472395396%5D%2C%20%5B-4.57986659137655%2C%20-37.77446736679667%5D%2C%20%5B-3.8126752874613805%2C%20-38.62147785916947%5D%2C%20%5B-20.53559545036145%2C%20-45.46969183944932%5D%2C%20%5B-4.965565205636985%2C%20-37.7506490407695%5D%2C%20%5B-8.981307523764544%2C%20-38.24677898487179%5D%2C%20%5B-11.521860817105622%2C%20-59.13897822990957%5D%2C%20%5B-18.556505960581642%2C%20-48.17857209031669%5D%2C%20%5B-11.518956234976319%2C%20-37.93417262963161%5D%2C%20%5B-18.389960740789686%2C%20-43.12938913798073%5D%2C%20%5B-5.4613140198203896%2C%20-47.480400816384666%5D%2C%20%5B-8.752704998450008%2C%20-63.85925420298347%5D%2C%20%5B-16.441015290511004%2C%20-54.64824611951847%5D%2C%20%5B-5.088157821235008%2C%20-38.4870818915976%5D%2C%20%5B-5.04285621692545%2C%20-37.54371454607642%5D%2C%20%5B-6.384020735284044%2C%20-39.35626681481316%5D%2C%20%5B-5.2050255301567425%2C%20-37.44516381121989%5D%2C%20%5B-5.03675109316849%2C%20-37.61949070915459%5D%2C%20%5B-22.90350789163176%2C%20-45.5800325875269%5D%2C%20%5B-9.281621404667936%2C%20-62.02355208624879%5D%2C%20%5B-12.961536285448808%2C%20-38.39920463183439%5D%2C%20%5B-5.143945330543202%2C%20-37.36813635708284%5D%2C%20%5B-7.241675681290223%2C%20-35.91564616633703%5D%2C%20%5B-30.346660082237765%2C%20-53.88843313247012%5D%2C%20%5B-17.80971029118576%2C%20-42.054836985875454%5D%2C%20%5B-3.7012966664292275%2C%20-50.4880905576648%5D%2C%20%5B-21.29953541033253%2C%20-50.40576351571877%5D%2C%20%5B-25.417665984821717%2C%20-51.38641423229309%5D%2C%20%5B-18.728684893711325%2C%20-42.82933489636094%5D%2C%20%5B-10.723416013124181%2C%20-65.13151569482082%5D%2C%20%5B-19.75291808933278%2C%20-45.719520155650194%5D%2C%20%5B-5.23377157714395%2C%20-37.34535407178499%5D%2C%20%5B-23.815873737888733%2C%20-52.3027851341342%5D%2C%20%5B-7.997221159235313%2C%20-34.92310250987949%5D%2C%20%5B-5.625485620113778%2C%20-37.79008741885898%5D%2C%20%5B-5.156925346924176%2C%20-37.48098109454731%5D%2C%20%5B-1.37002066400395%2C%20-48.44715275750118%5D%2C%20%5B-12.373899781951966%2C%20-52.60385366244231%5D%2C%20%5B-13.978270341568132%2C%20-42.54648415731609%5D%2C%20%5B-5.010618962887932%2C%20-42.8420208781301%5D%2C%20%5B-13.976334803393604%2C%20-39.85310914960031%5D%2C%20%5B2.8391876808865866%2C%20-60.746913739829495%5D%2C%20%5B-4.601561897217597%2C%20-40.81488610251604%5D%2C%20%5B-8.884551701777953%2C%20-38.31206351981304%5D%2C%20%5B-5.120123058334919%2C%20-38.02889845725255%5D%2C%20%5B-18.979065849131384%2C%20-57.624325299270765%5D%2C%20%5B-8.681906073470419%2C%20-63.89481220780896%5D%2C%20%5B-8.59283735963961%2C%20-35.63060284610251%5D%2C%20%5B-4.202848983539541%2C%20-40.5547713634%5D%2C%20%5B-17.735641174701225%2C%20-50.90047196675911%5D%2C%20%5B-5.559104387321815%2C%20-37.74693000808273%5D%2C%20%5B-31.77976458429205%2C%20-52.267899733651305%5D%2C%20%5B-22.524810345952595%2C%20-44.01866851932758%5D%2C%20%5B-19.49956648269547%2C%20-42.624118845473795%5D%2C%20%5B-23.540430568734966%2C%20-46.48280113602101%5D%2C%20%5B-4.697313672005431%2C%20-38.02955897962675%5D%2C%20%5B-12.774211845448612%2C%20-41.17877921720262%5D%2C%20%5B-5.932116476425218%2C%20-47.41195170980317%5D%2C%20%5B-5.767161678020642%2C%20-37.59803085658073%5D%2C%20%5B-22.698042383629943%2C%20-43.386702943051944%5D%2C%20%5B-1.179800557866252%2C%20-48.42364576749143%5D%2C%20%5B-29.24273326004151%2C%20-51.20005034701876%5D%2C%20%5B-23.409525483830603%2C%20-46.5176963508612%5D%2C%20%5B-28.748058075757623%2C%20-55.73376174900437%5D%2C%20%5B-18.552723273765192%2C%20-42.79054296021498%5D%2C%20%5B-4.923435017672541%2C%20-37.797295011795%5D%2C%20%5B-20.382347144170534%2C%20-47.34151671528642%5D%2C%20%5B-1.4515900009114704%2C%20-48.447113795301156%5D%2C%20%5B-7.201742129365929%2C%20-35.99462512972654%5D%2C%20%5B-8.020035505605668%2C%20-34.91621771422795%5D%2C%20%5B-5.087792976179128%2C%20-42.80577896233663%5D%2C%20%5B-29.44254773426806%2C%20-50.903637341874564%5D%2C%20%5B-20.726199625113445%2C%20-41.4434695521645%5D%2C%20%5B-16.810183106566374%2C%20-43.7918707024271%5D%2C%20%5B-4.855344804276052%2C%20-38.143135656039895%5D%2C%20%5B-5.329413686639041%2C%20-38.26583609066566%5D%2C%20%5B2.835133409305084%2C%20-60.6425510987234%5D%2C%20%5B-5.229646941930271%2C%20-37.32794807239217%5D%2C%20%5B-5.229646941930271%2C%20-37.32794807239217%5D%2C%20%5B-22.52352072721782%2C%20-43.461927775067856%5D%2C%20%5B-7.088279775963552%2C%20-37.96596773272236%5D%2C%20%5B-13.058586578050248%2C%20-38.50566747329926%5D%2C%20%5B-5.637766004571994%2C%20-37.879380761226734%5D%2C%20%5B-4.903919425052002%2C%20-38.43094471292153%5D%2C%20%5B-5.102411643555425%2C%20-37.612295704591055%5D%2C%20%5B-4.80523165375875%2C%20-37.71020905155613%5D%2C%20%5B-5.023599901038419%2C%20-37.567980645354496%5D%2C%20%5B-3.459678103263973%2C%20-53.413045148880904%5D%2C%20%5B-18.879642289810675%2C%20-43.400728048257754%5D%2C%20%5B-4.840777549975739%2C%20-38.14695746117504%5D%2C%20%5B-14.498960462513987%2C%20-40.494198546158465%5D%2C%20%5B-8.776246621922116%2C%20-63.810871198460575%5D%2C%20%5B-18.952771287336258%2C%20-57.67664283700628%5D%2C%20%5B-9.868753712776561%2C%20-63.06879101309249%5D%2C%20%5B-6.461761150158276%2C%20-49.884360263944416%5D%2C%20%5B-5.190071220147613%2C%20-40.744367782098465%5D%2C%20%5B-23.90139375563392%2C%20-46.3100293832303%5D%2C%20%5B-4.909804282006006%2C%20-38.21371730243893%5D%2C%20%5B-10.978129910496849%2C%20-48.595620792890784%5D%2C%20%5B-7.952590175906446%2C%20-34.838275551782786%5D%2C%20%5B-21.55246186359686%2C%20-45.39955897711293%5D%2C%20%5B-5.703907261549737%2C%20-37.99100035954817%5D%2C%20%5B-5.04285621692545%2C%20-37.54371454607642%5D%2C%20%5B-18.700676050943517%2C%20-42.72147408649617%5D%2C%20%5B-5.10827780001137%2C%20-38.133963946990264%5D%2C%20%5B-12.864028592653998%2C%20-46.55300982594323%5D%2C%20%5B-1.7462987071901164%2C%20-54.161947807775334%5D%2C%20%5B-29.742954756707032%2C%20-52.413181941474406%5D%2C%20%5B-17.706107047101995%2C%20-40.80265509132417%5D%2C%20%5B-9.637678546595646%2C%20-63.29345146207963%5D%2C%20%5B-25.56453229064861%2C%20-54.51774515093188%5D%2C%20%5B-7.610883079015663%2C%20-36.90562434708301%5D%2C%20%5B-3.7908460891360236%2C%20-38.50929232516992%5D%2C%20%5B-20.10717219124538%2C%20-44.84984294068169%5D%2C%20%5B-16.3234220128643%2C%20-57.89051399084999%5D%2C%20%5B-20.32483297537078%2C%20-40.30788271092155%5D%2C%20%5B-5.205813698204451%2C%20-38.04430331731128%5D%2C%20%5B-6.708470047983363%2C%20-35.08898413057908%5D%2C%20%5B-17.922273300693654%2C%20-51.782050177565715%5D%2C%20%5B-8.852369385822845%2C%20-63.839422550216916%5D%2C%20%5B-23.47518306879471%2C%20-46.640530674697914%5D%2C%20%5B-22.212225146070523%2C%20-43.866479579168335%5D%2C%20%5B-28.282354429366595%2C%20-52.34605519233275%5D%2C%20%5B-23.58777293997031%2C%20-46.47834756008705%5D%2C%20%5B-17.308002789057554%2C%20-42.912989574253416%5D%2C%20%5B-7.727444823269606%2C%20-72.56070503312156%5D%2C%20%5B-8.714322931296026%2C%20-63.90466255964496%5D%2C%20%5B-22.128867576170254%2C%20-44.80044353107039%5D%2C%20%5B-8.087933562454177%2C%20-34.98388273382291%5D%2C%20%5B-5.757634606941537%2C%20-35.13998105901749%5D%2C%20%5B-10.889136312437856%2C%20-61.93135541714359%5D%2C%20%5B-23.276409087951578%2C%20-46.73126912463684%5D%2C%20%5B-8.755493630156055%2C%20-35.61316575929921%5D%2C%20%5B-25.50623157528245%2C%20-49.47282440351342%5D%2C%20%5B-23.57681379948001%2C%20-47.45925777599148%5D%2C%20%5B-16.66850789053665%2C%20-49.8571834206595%5D%2C%20%5B-29.51245582502683%2C%20-51.72483987135993%5D%2C%20%5B-24.475158888054303%2C%20-54.11212763133152%5D%2C%20%5B-5.772937185693896%2C%20-37.89791992809809%5D%2C%20%5B-4.533166714305535%2C%20-50.111677215699444%5D%2C%20%5B-15.795462012392331%2C%20-48.0811699392148%5D%2C%20%5B-9.294414762290648%2C%20-63.07838385569711%5D%2C%20%5B-14.123846973401886%2C%20-46.48532387379165%5D%2C%20%5B-5.248803172517881%2C%20-38.01388271668373%5D%2C%20%5B-15.655183041595437%2C%20-56.15871229095515%5D%2C%20%5B-5.0073502422986795%2C%20-37.68736780201736%5D%2C%20%5B-4.853862985953318%2C%20-38.189949166378%5D%2C%20%5B0.027414592969634232%2C%20-51.055595561079066%5D%2C%20%5B-8.796970882413627%2C%20-63.84434491983756%5D%2C%20%5B-9.379878616951078%2C%20-62.607840325749976%5D%2C%20%5B-17.89152223348777%2C%20-46.90247406703447%5D%2C%20%5B-21.22023490101754%2C%20-43.98421951146848%5D%2C%20%5B2.8652302812395765%2C%20-60.79083156987175%5D%2C%20%5B-21.58385283798662%2C%20-42.16819093043511%5D%2C%20%5B-15.973342216488867%2C%20-44.83306474999325%5D%2C%20%5B-14.237144708612655%2C%20-41.61782421954483%5D%2C%20%5B-15.725984322412172%2C%20-40.72057755721485%5D%2C%20%5B-19.399269238305127%2C%20-40.48374581273985%5D%2C%20%5B-22.699249712173607%2C%20-48.54781868029066%5D%2C%20%5B-5.030141962305544%2C%20-42.875877134772324%5D%2C%20%5B-7.221674279671381%2C%20-34.92725198066834%5D%2C%20%5B-22.85815818496049%2C%20-47.040569323882444%5D%2C%20%5B-4.6571864983239655%2C%20-38.10577706678748%5D%2C%20%5B-4.777915589318581%2C%20-38.14226628506549%5D%2C%20%5B-16.636853612221024%2C%20-49.356393875256366%5D%2C%20%5B-31.296864793669446%2C%20-52.246699567499554%5D%2C%20%5B-23.605058856125776%2C%20-46.57940417332629%5D%2C%20%5B-22.692237042370078%2C%20-49.379944895818944%5D%2C%20%5B-19.133243248173656%2C%20-40.78169229695757%5D%2C%20%5B-23.168731574787184%2C%20-45.83333844178344%5D%2C%20%5B-18.772605711227065%2C%20-42.799025631441864%5D%2C%20%5B-21.334529195908548%2C%20-56.05259601968432%5D%2C%20%5B-11.534689097015793%2C%20-41.12015991295883%5D%2C%20%5B-1.8884095745572598%2C%20-67.010531382527%5D%2C%20%5B-15.892141889872084%2C%20-47.93541570831605%5D%2C%20%5B-11.143323043130342%2C%20-57.467115898592596%5D%2C%20%5B-6.140885973246769%2C%20-38.39849457626902%5D%2C%20%5B-29.078276417509294%2C%20-51.505003564063315%5D%2C%20%5B-5.045738518579823%2C%20-37.598543066991816%5D%2C%20%5B-16.50852387438444%2C%20-54.695831864592954%5D%2C%20%5B-29.92855604140903%2C%20-52.4727063815527%5D%2C%20%5B-14.868550129359617%2C%20-40.78285942760444%5D%2C%20%5B-18.701684614577932%2C%20-40.532901151750366%5D%2C%20%5B-18.68413534512893%2C%20-46.53813725071109%5D%2C%20%5B-5.660721529655397%2C%20-37.774429901479394%5D%2C%20%5B-4.608716157400377%2C%20-37.72249464070972%5D%2C%20%5B-4.791142119867307%2C%20-38.17262800782687%5D%2C%20%5B-22.49092490774635%2C%20-50.62451421082229%5D%2C%20%5B-21.5675151944928%2C%20-51.57336385100406%5D%2C%20%5B-23.94376007389822%2C%20-48.851670369207824%5D%2C%20%5B-5.548389643715427%2C%20-36.73777023705901%5D%2C%20%5B-30.36188880727075%2C%20-54.26314412725945%5D%2C%20%5B-23.441761531065875%2C%20-49.07560951199404%5D%2C%20%5B-15.03782566302457%2C%20-42.796431643803224%5D%2C%20%5B-8.790066028812992%2C%20-63.825051142389306%5D%2C%20%5B-14.333359738992646%2C%20-42.0865466081017%5D%2C%20%5B-4.547460040344172%2C%20-44.584106035387954%5D%2C%20%5B-8.283717296740726%2C%20-36.38280082463107%5D%2C%20%5B-12.258698250684976%2C%20-39.346914533982854%5D%2C%20%5B-18.425899385684225%2C%20-42.888232346406774%5D%2C%20%5B-5.453662324265336%2C%20-49.229114026903076%5D%2C%20%5B-8.219797273454507%2C%20-38.79119089383467%5D%2C%20%5B-20.50880297069163%2C%20-54.60839933078571%5D%2C%20%5B-15.563531330347102%2C%20-47.604812622582074%5D%2C%20%5B-4.653318411696609%2C%20-37.37455079106273%5D%2C%20%5B-28.26895062171153%2C%20-49.230618566356235%5D%2C%20%5B-25.872686690388534%2C%20-51.99943825213637%5D%2C%20%5B-4.860438418421241%2C%20-37.765416693487005%5D%2C%20%5B-5.102411643555425%2C%20-37.612295704591055%5D%2C%20%5B-23.399094693203352%2C%20-46.68421404487143%5D%2C%20%5B-8.720396917760622%2C%20-63.74688620531836%5D%2C%20%5B-12.315679087784533%2C%20-39.006274682759646%5D%2C%20%5B-5.005128303714807%2C%20-36.991556884290844%5D%2C%20%5B-8.76156959521952%2C%20-63.929682841689996%5D%2C%20%5B-5.03746732792373%2C%20-38.51086003356812%5D%2C%20%5B-3.4354360357007407%2C%20-40.175639067989366%5D%2C%20%5B-23.967476604294568%2C%20-52.567847502147615%5D%2C%20%5B-27.754241842892732%2C%20-51.01869702387294%5D%2C%20%5B-22.54325550050851%2C%20-43.061374886016154%5D%2C%20%5B-4.9790083282746345%2C%20-36.99571739243904%5D%2C%20%5B-18.255099010399913%2C%20-42.895459265460794%5D%2C%20%5B-10.262927253243918%2C%20-48.23813074097234%5D%2C%20%5B-5.515444705112876%2C%20-47.496648819126%5D%2C%20%5B-5.3726366249168604%2C%20-37.98692279145735%5D%2C%20%5B-5.219711837744265%2C%20-37.37594585072137%5D%2C%20%5B-4.821622024840304%2C%20-38.14829792222185%5D%2C%20%5B-15.350615903959813%2C%20-49.155325455839645%5D%2C%20%5B-4.860438418421241%2C%20-37.765416693487005%5D%2C%20%5B-4.9227690096047105%2C%20-43.276270748447686%5D%2C%20%5B-25.982398807516688%2C%20-52.61105475698545%5D%2C%20%5B-3.800936429080859%2C%20-38.548100278595165%5D%2C%20%5B-19.267094127954262%2C%20-40.0205638575194%5D%2C%20%5B-5.561711199692863%2C%20-45.19597209589731%5D%2C%20%5B-19.73175371773807%2C%20-55.768209313029935%5D%2C%20%5B-5.637766004571994%2C%20-37.879380761226734%5D%2C%20%5B-20.742467233082053%2C%20-41.08856623679135%5D%2C%20%5B-21.48914708360731%2C%20-49.92326615389196%5D%2C%20%5B-18.92038662592642%2C%20-57.679525807306625%5D%2C%20%5B-25.343447803882725%2C%20-49.090924329765514%5D%2C%20%5B-23.336839913119658%2C%20-51.21567341219973%5D%2C%20%5B2.7931490858446235%2C%20-60.75715291935988%5D%2C%20%5B-4.842150077308295%2C%20-38.16068923477706%5D%2C%20%5B-30.423921151288237%2C%20-54.320948570132444%5D%2C%20%5B-7.1541039027699185%2C%20-34.82169685375634%5D%2C%20%5B-5.660721529655397%2C%20-37.774429901479394%5D%2C%20%5B-26.288630879425632%2C%20-48.764983728534894%5D%2C%20%5B-5.032362706377552%2C%20-42.754056407201894%5D%2C%20%5B-4.948285631224608%2C%20-37.01258571144058%5D%2C%20%5B-10.477572168091843%2C%20-41.12701831004237%5D%2C%20%5B-5.102411643555425%2C%20-37.612295704591055%5D%2C%20%5B-21.81872532905036%2C%20-43.2749223817591%5D%2C%20%5B-21.772964663345533%2C%20-41.29393267134306%5D%2C%20%5B-19.71373402662097%2C%20-43.88087139331115%5D%2C%20%5B-4.6188634532565045%2C%20-37.80313556115055%5D%2C%20%5B-5.554972297564414%2C%20-47.44976615831881%5D%2C%20%5B-18.794868080445692%2C%20-43.994561603815946%5D%2C%20%5B-1.2066482194040868%2C%20-50.46381153563211%5D%2C%20%5B-5.152247894813242%2C%20-42.789164746468174%5D%2C%20%5B-21.176595064162104%2C%20-47.302313180568085%5D%2C%20%5B-5.479780259126138%2C%20-47.467920434614506%5D%2C%20%5B-22.566898090415776%2C%20-48.5358521626943%5D%2C%20%5B-6.1481213074063%2C%20-39.424526638251635%5D%2C%20%5B-5.086554025685142%2C%20-42.800709069136104%5D%2C%20%5B-10.680988274407296%2C%20-65.09444450192913%5D%2C%20%5B-13.990406346181505%2C%20-39.61960892908945%5D%2C%20%5B-15.444181981715538%2C%20-51.1943068895969%5D%2C%20%5B-20.332860056780895%2C%20-42.3473555474855%5D%2C%20%5B-15.339740361270083%2C%20-41.40352109832412%5D%2C%20%5B-22.632324243596305%2C%20-46.85596900391376%5D%2C%20%5B-5.19482451800149%2C%20-37.2736056780461%5D%2C%20%5B-22.236616737776817%2C%20-42.551361756716%5D%2C%20%5B-4.690769858021743%2C%20-37.32211811349053%5D%2C%20%5B-7.8251087771234396%2C%20-34.90512375408586%5D%2C%20%5B-4.655420219929132%2C%20-37.790342083163864%5D%2C%20%5B-20.01839621848238%2C%20-43.95748121052383%5D%2C%20%5B-7.108498567976556%2C%20-35.386862630157665%5D%2C%20%5B-7.210368233056085%2C%20-39.459145015449245%5D%2C%20%5B-6.762907589169868%2C%20-51.43784441546124%5D%2C%20%5B-28.146718792625652%2C%20-52.03822021456312%5D%2C%20%5B-23.527631418312144%2C%20-49.2276915506958%5D%2C%20%5B-4.233781648949444%2C%20-56.00571032498937%5D%2C%20%5B-8.265357155349301%2C%20-40.780448491281156%5D%2C%20%5B-11.920114540041277%2C%20-60.96579469755643%5D%2C%20%5B-20.428461528725904%2C%20-54.513428097773854%5D%2C%20%5B-5.164423488858103%2C%20-37.356920426246845%5D%2C%20%5B-7.7195126615526055%2C%20-72.59088865510977%5D%2C%20%5B-4.64464092492145%2C%20-37.788609213039166%5D%2C%20%5B-21.743219825239194%2C%20-43.40130434174855%5D%2C%20%5B-22.391019330922862%2C%20-41.71727147472943%5D%2C%20%5B-4.726068509983722%2C%20-38.01882562221114%5D%2C%20%5B-15.078799041417973%2C%20-40.0664278078801%5D%2C%20%5B-22.252701220633732%2C%20-49.95430208808288%5D%2C%20%5B-4.614068173833779%2C%20-37.72963199268489%5D%2C%20%5B-16.822001201760283%2C%20-43.87054099147863%5D%2C%20%5B-10.258414862158713%2C%20-48.33916103212646%5D%2C%20%5B-4.868494158079614%2C%20-38.21747418008846%5D%2C%20%5B-2.2025780800456674%2C%20-56.804912605518524%5D%2C%20%5B-4.763521956571926%2C%20-38.186486822117104%5D%2C%20%5B-22.81035956679483%2C%20-50.63533975362966%5D%2C%20%5B-6.260808082831401%2C%20-47.20873439270841%5D%2C%20%5B-8.271386524965193%2C%20-70.37301291111652%5D%2C%20%5B-20.426839636549115%2C%20-54.578784239446314%5D%2C%20%5B-25.68620659189413%2C%20-49.88095209839616%5D%2C%20%5B-7.1641901363602205%2C%20-37.25506884449377%5D%2C%20%5B-22.847708351782668%2C%20-41.96305723440808%5D%2C%20%5B-4.8613344790155315%2C%20-38.03965575326092%5D%2C%20%5B-25.505923519434354%2C%20-49.233963558611194%5D%2C%20%5B-7.551728773616943%2C%20-35.2552809667916%5D%2C%20%5B-18.789447664422386%2C%20-42.83507146271908%5D%2C%20%5B-26.32515717621771%2C%20-48.77640042161575%5D%2C%20%5B-10.281724892787956%2C%20-48.345797133658536%5D%2C%20%5B-22.986582110837663%2C%20-48.85173207657996%5D%2C%20%5B-5.112013811913717%2C%20-38.0435305601314%5D%2C%20%5B-3.839259206469057%2C%20-38.51828728994891%5D%2C%20%5B-23.73632223103875%2C%20-53.182205237587766%5D%2C%20%5B-5.019880021777675%2C%20-38.53278387206701%5D%2C%20%5B-4.763521956571926%2C%20-38.186486822117104%5D%2C%20%5B-8.781592693960654%2C%20-63.843511818026734%5D%2C%20%5B-18.172222115783935%2C%20-39.93564578076286%5D%2C%20%5B-8.648215413762548%2C%20-35.70253707045981%5D%2C%20%5B-22.38718705541683%2C%20-42.17780044112164%5D%2C%20%5B-9.340292941608244%2C%20-62.59812039905225%5D%2C%20%5B-19.828198905779946%2C%20-43.98957468809029%5D%2C%20%5B-21.950205162561936%2C%20-46.39565701224477%5D%2C%20%5B-5.266932681236661%2C%20-39.27664823437223%5D%2C%20%5B-21.063690301629496%2C%20-48.94473394835147%5D%2C%20%5B-7.709370998855285%2C%20-72.58608594947614%5D%2C%20%5B-9.706901479152073%2C%20-37.469591588706166%5D%2C%20%5B-8.24460922115855%2C%20-35.429486981610005%5D%2C%20%5B-10.816977192383263%2C%20-41.33832673284672%5D%2C%20%5B-10.006846367802332%2C%20-67.86361840834469%5D%2C%20%5B-4.80730722430937%2C%20-38.133742870523704%5D%2C%20%5B-21.210722154674325%2C%20-41.91621570783966%5D%2C%20%5B-8.736752109286265%2C%20-63.88181690770006%5D%2C%20%5B-6.659497122332498%2C%20-47.20167759977253%5D%2C%20%5B2.86973515336382%2C%20-60.62094162351981%5D%2C%20%5B-5.164423488858103%2C%20-37.356920426246845%5D%2C%20%5B-4.474536142668008%2C%20-37.69654733579308%5D%2C%20%5B-8.785272696488834%2C%20-63.887720067156174%5D%2C%20%5B-21.42305939516049%2C%20-46.73287984877679%5D%2C%20%5B-18.437869050558%2C%20-40.096075312928875%5D%2C%20%5B-5.126089035244706%2C%20-37.28118080604758%5D%2C%20%5B-24.097990194632068%2C%20-49.88917987761806%5D%2C%20%5B-28.26895062171153%2C%20-49.230618566356235%5D%2C%20%5B-3.2303820948194426%2C%20-60.13625464298913%5D%2C%20%5B-18.864350653212842%2C%20-48.253593351120344%5D%2C%20%5B-3.8836957444461193%2C%20-40.9455200528261%5D%2C%20%5B-8.782011616420073%2C%20-63.95313964858766%5D%2C%20%5B-8.263515583146994%2C%20-35.97634528322273%5D%2C%20%5B-17.82133190356037%2C%20-42.90892401276305%5D%2C%20%5B-19.539839010484155%2C%20-46.91743029904559%5D%2C%20%5B-23.527631418312144%2C%20-49.2276915506958%5D%2C%20%5B-5.136422782744014%2C%20-37.33956712971683%5D%2C%20%5B-6.3296554528642845%2C%20-47.243333495116815%5D%2C%20%5B-11.009395002099982%2C%20-37.26531369487025%5D%2C%20%5B-18.389793553072234%2C%20-42.71202986079848%5D%2C%20%5B-8.70973045453675%2C%20-63.87665444248026%5D%2C%20%5B-6.403685605589785%2C%20-37.29537020124136%5D%2C%20%5B-20.333134991740675%2C%20-40.15679896118874%5D%2C%20%5B-8.711329237271016%2C%20-63.903703241960834%5D%2C%20%5B-28.17938384163504%2C%20-49.01130345565771%5D%2C%20%5B-9.383731577391428%2C%20-35.564054867858566%5D%2C%20%5B-5.219711837744265%2C%20-37.37594585072137%5D%2C%20%5B-29.225490282706332%2C%20-51.354073726787576%5D%2C%20%5B-14.828329628704473%2C%20-40.845316138248315%5D%2C%20%5B-10.82211180757233%2C%20-36.93060500543413%5D%2C%20%5B-5.512714805065861%2C%20-37.77865527867409%5D%2C%20%5B-18.731184816772085%2C%20-42.860003541194736%5D%2C%20%5B-23.046667476530327%2C%20-48.955716380799245%5D%2C%20%5B-3.055765974742611%2C%20-60.00419840023548%5D%2C%20%5B-18.4589034153888%2C%20-42.68516315721426%5D%2C%20%5B-5.514970890094666%2C%20-37.61233614621631%5D%2C%20%5B-5.332774844407293%2C%20-37.30188634789428%5D%2C%20%5B-20.332360787371684%2C%20-40.35792943254252%5D%2C%20%5B-7.191821633324818%2C%20-48.16576273039142%5D%2C%20%5B-20.297746533420263%2C%20-42.791301521739776%5D%2C%20%5B-5.154974722839202%2C%20-37.29860082950433%5D%2C%20%5B-20.887078746509456%2C%20-41.10566082828432%5D%2C%20%5B-5.6245565008015035%2C%20-37.86657193915132%5D%2C%20%5B-4.992038052281889%2C%20-38.45217822631783%5D%2C%20%5B-20.637912400480058%2C%20-41.51180349115879%5D%2C%20%5B-6.138927758213004%2C%20-62.60909193802009%5D%2C%20%5B-5.386870520958883%2C%20-38.076217877607384%5D%2C%20%5B-20.314129300515116%2C%20-40.353033767711935%5D%2C%20%5B-21.373314099793767%2C%20-50.31649325100232%5D%2C%20%5B-25.390848623521368%2C%20-49.18800143527115%5D%2C%20%5B-8.755493630156055%2C%20-35.61316575929921%5D%2C%20%5B-10.911466816157459%2C%20-61.90769722759723%5D%2C%20%5B-15.30908132192873%2C%20-41.25610223920876%5D%2C%20%5B-22.23416048265713%2C%20-54.78294440254985%5D%2C%20%5B-3.098100744520248%2C%20-41.230926427762476%5D%2C%20%5B-20.163830703887328%2C%20-40.251866427989256%5D%2C%20%5B-11.093759195799146%2C%20-40.4982931135485%5D%2C%20%5B-15.82106517403462%2C%20-56.558313376497686%5D%2C%20%5B-28.74537078339348%2C%20-49.364776090695585%5D%2C%20%5B-5.2025293573277995%2C%20-37.38221024300654%5D%2C%20%5B-15.634917748787592%2C%20-56.045381840210595%5D%2C%20%5B-7.654694420359441%2C%20-39.54008388416064%5D%2C%20%5B-13.063748100226725%2C%20-56.10603433171265%5D%2C%20%5B-20.364001598791294%2C%20-40.494722893495435%5D%2C%20%5B-18.289947546559254%2C%20-42.421983341028636%5D%2C%20%5B-7.060090464460837%2C%20-36.50490751692268%5D%2C%20%5B-21.655629182059688%2C%20-42.95700031024055%5D%2C%20%5B-4.550666238754227%2C%20-37.73441072492461%5D%2C%20%5B-9.203254558896745%2C%20-62.9737198616408%5D%2C%20%5B-3.493957971393912%2C%20-45.36057687094158%5D%2C%20%5B-16.626149334557503%2C%20-49.360424335371206%5D%2C%20%5B-5.823475023148654%2C%20-37.865580361579916%5D%2C%20%5B-25.238283143627527%2C%20-54.13622331368664%5D%2C%20%5B-10.803112663570108%2C%20-36.97809333985796%5D%2C%20%5B-2.5508562600872535%2C%20-44.10730014537475%5D%2C%20%5B-9.528141903185764%2C%20-37.351545717069264%5D%2C%20%5B-10.265544545297463%2C%20-48.3441735184422%5D%2C%20%5B-5.191399615827127%2C%20-37.38612240776534%5D%2C%20%5B-20.23639023967779%2C%20-44.88085633176577%5D%2C%20%5B-8.45042944178453%2C%20-71.31210711830269%5D%2C%20%5B-10.960860611332844%2C%20-58.64951995475118%5D%2C%20%5B-4.847132783695686%2C%20-37.21872215313916%5D%2C%20%5B-8.497996424264112%2C%20-36.22960727189049%5D%2C%20%5B-19.07337941430958%2C%20-57.69886271362345%5D%2C%20%5B-21.732908847830746%2C%20-46.649304922171986%5D%2C%20%5B-5.1132193230764935%2C%20-42.756011294658286%5D%2C%20%5B-22.273770724986157%2C%20-48.90062308200681%5D%2C%20%5B-17.735651040786053%2C%20-43.39032267936326%5D%2C%20%5B-14.815099817749807%2C%20-40.919640538773145%5D%2C%20%5B-4.8894647387794485%2C%20-38.20101359894759%5D%2C%20%5B-20.887834908321494%2C%20-41.071752146163156%5D%2C%20%5B-8.700980150063657%2C%20-63.85389478401299%5D%2C%20%5B-9.437514125760456%2C%20-40.41118714562951%5D%2C%20%5B-8.958324473720243%2C%20-45.645344510878715%5D%2C%20%5B-12.447847885111445%2C%20-52.60458397026512%5D%2C%20%5B-8.751486035468682%2C%20-69.27466333629835%5D%2C%20%5B-18.5203303314202%2C%20-40.30563656558301%5D%2C%20%5B-26.757205819398873%2C%20-51.09684058035393%5D%2C%20%5B-14.24349003318035%2C%20-51.857287603564615%5D%2C%20%5B-8.800492913680872%2C%20-35.644675816513185%5D%2C%20%5B-29.22974184614801%2C%20-51.20449568347435%5D%2C%20%5B-1.479414363501576%2C%20-56.43351741029718%5D%2C%20%5B-5.512714805065861%2C%20-37.77865527867409%5D%2C%20%5B-18.14141074338324%2C%20-43.558166647302535%5D%2C%20%5B-22.58126179032671%2C%20-50.42256106981281%5D%2C%20%5B-19.097742076710265%2C%20-57.527223166828506%5D%2C%20%5B-6.583519836318406%2C%20-48.59981036446616%5D%2C%20%5B-19.00598360930283%2C%20-57.64933294458134%5D%2C%20%5B-9.880597955933354%2C%20-62.90854056719518%5D%2C%20%5B-5.220333785447557%2C%20-36.53813983586869%5D%2C%20%5B-10.25507336760279%2C%20-64.7378064237292%5D%2C%20%5B-10.445378159150353%2C%20-48.265738036612966%5D%2C%20%5B-5.637766004571994%2C%20-37.879380761226734%5D%2C%20%5B-33.113175964263384%2C%20-53.00969676162109%5D%2C%20%5B-7.061585278026415%2C%20-37.19348847523706%5D%2C%20%5B-20.033020849761723%2C%20-44.526594421599285%5D%2C%20%5B-20.67039093657394%2C%20-47.49548573670254%5D%2C%20%5B-5.503356215621698%2C%20-37.055457774737036%5D%2C%20%5B-11.86393533414222%2C%20-55.471425439305065%5D%2C%20%5B-10.042020851569077%2C%20-63.05591650208418%5D%2C%20%5B-3.062394734623138%2C%20-60.09802178526255%5D%2C%20%5B-18.08627773833881%2C%20-43.48630291411563%5D%2C%20%5B-19.44194988441682%2C%20-50.35890675311391%5D%2C%20%5B-8.770740797346416%2C%20-63.91666984872115%5D%2C%20%5B-19.716725326927147%2C%20-41.50709457000409%5D%2C%20%5B-21.97128832468157%2C%20-44.75482685883757%5D%2C%20%5B-23.40434289690841%2C%20-47.86162886920292%5D%2C%20%5B-15.283986009185899%2C%20-49.11688165975813%5D%2C%20%5B-23.94376007389822%2C%20-48.851670369207824%5D%2C%20%5B-21.53322538571046%2C%20-42.228774137875845%5D%2C%20%5B-5.257265292142374%2C%20-38.37550361973044%5D%2C%20%5B-4.853862985953318%2C%20-38.189949166378%5D%2C%20%5B-22.98930817459264%2C%20-52.21765257130814%5D%2C%20%5B-9.070765914060349%2C%20-36.40215753682941%5D%2C%20%5B-29.822085415312344%2C%20-51.12929438270441%5D%2C%20%5B-18.467122183078814%2C%20-43.824616689757896%5D%2C%20%5B-18.1805166969832%2C%20-43.53117149160081%5D%2C%20%5B-5.352359830592015%2C%20-38.107434705181625%5D%2C%20%5B-5.559104387321815%2C%20-37.74693000808273%5D%2C%20%5B-4.690769858021743%2C%20-37.32211811349053%5D%2C%20%5B-8.812894628918247%2C%20-63.8732537819153%5D%2C%20%5B-8.701567486795058%2C%20-35.501006360706555%5D%2C%20%5B-23.969482107483337%2C%20-47.016019255797396%5D%2C%20%5B-23.237433226430124%2C%20-51.1914775494317%5D%2C%20%5B-5.775482893759892%2C%20-46.04806692002695%5D%2C%20%5B-9.866464998223336%2C%20-36.58260258602055%5D%2C%20%5B-16.24528881506754%2C%20-39.256069633195%5D%2C%20%5B-4.852409764436519%2C%20-37.91418831914764%5D%2C%20%5B-23.33640533888364%2C%20-47.78720066695667%5D%2C%20%5B-3.723740013402322%2C%20-38.57275047454385%5D%2C%20%5B-5.386870520958883%2C%20-38.076217877607384%5D%2C%20%5B-7.9727192208585755%2C%20-38.83572922479691%5D%2C%20%5B-5.211302106828657%2C%20-37.34596783120265%5D%2C%20%5B-7.708118796524837%2C%20-37.596600075109706%5D%2C%20%5B-10.444933815492467%2C%20-41.08629405505271%5D%2C%20%5B-9.854945735214901%2C%20-63.00991151127962%5D%2C%20%5B-21.774564758213558%2C%20-41.273482490476816%5D%2C%20%5B-27.15368935091492%2C%20-51.59868438169509%5D%2C%20%5B-4.23888573184581%2C%20-41.9388551910473%5D%2C%20%5B-22.294832959034654%2C%20-51.28685966658773%5D%2C%20%5B-22.42736511826683%2C%20-47.01535729851453%5D%2C%20%5B-29.946053627540437%2C%20-51.213849316630714%5D%2C%20%5B-8.792107095353343%2C%20-63.88954482826118%5D%2C%20%5B-5.019880021777675%2C%20-38.53278387206701%5D%2C%20%5B-1.4322697938895381%2C%20-48.48931623229331%5D%2C%20%5B-0.03196398324355996%2C%20-51.096351089585994%5D%2C%20%5B-23.6271549715245%2C%20-46.52836650798441%5D%2C%20%5B-18.89633528778984%2C%20-47.05737224711221%5D%2C%20%5B-16.67739338998738%2C%20-49.27910702718792%5D%2C%20%5B-22.190095908921233%2C%20-49.07636424926214%5D%2C%20%5B-5.201500766258088%2C%20-37.956849500136876%5D%2C%20%5B-6.762486983573346%2C%20-38.29841919247426%5D%2C%20%5B-10.586507004377829%2C%20-62.299401953952746%5D%2C%20%5B-5.729865979136433%2C%20-37.94796879417951%5D%2C%20%5B-13.897460359191154%2C%20-39.998177806061776%5D%2C%20%5B-18.47869454732087%2C%20-39.87696409493639%5D%2C%20%5B-5.675568810768393%2C%20-37.84642281162606%5D%2C%20%5B-18.643655424424704%2C%20-43.536074675479185%5D%2C%20%5B-13.70026698798166%2C%20-56.90980033212584%5D%2C%20%5B-25.854652246791645%2C%20-50.47398012745589%5D%2C%20%5B-20.171810726814197%2C%20-56.6175108262098%5D%2C%20%5B-17.524980921752384%2C%20-39.6749907075424%5D%2C%20%5B-14.133469940575203%2C%20-42.79985979750258%5D%2C%20%5B-4.852409764436519%2C%20-37.91418831914764%5D%2C%20%5B-19.666854959182572%2C%20-47.83563227993905%5D%2C%20%5B-5.554267781018844%2C%20-37.33910549227317%5D%2C%20%5B-11.721639622396882%2C%20-61.772242301816895%5D%2C%20%5B-29.235677166384594%2C%20-49.64708352663892%5D%2C%20%5B-21.88790236895504%2C%20-42.33786190397914%5D%2C%20%5B-4.983121654105999%2C%20-36.96010806234774%5D%2C%20%5B-8.750050682468974%2C%20-63.8421987748847%5D%2C%20%5B-16.103043479685823%2C%20-49.734418356607485%5D%2C%20%5B-21.19096275566409%2C%20-43.660416236528754%5D%2C%20%5B-8.736752109286265%2C%20-63.88181690770006%5D%2C%20%5B-5.024960546488124%2C%20-37.07012950093294%5D%2C%20%5B-4.4240114788705815%2C%20-37.91269001788534%5D%2C%20%5B-5.03746732792373%2C%20-38.51086003356812%5D%2C%20%5B-2.87066397444297%2C%20-40.331770761415456%5D%2C%20%5B-27.992694816361833%2C%20-51.95718366461541%5D%2C%20%5B-15.616794812269662%2C%20-56.08122605392156%5D%2C%20%5B-16.864674461568033%2C%20-50.08514317048478%5D%2C%20%5B-19.076632486159298%2C%20-57.55620141164455%5D%2C%20%5B-4.842150077308295%2C%20-38.16068923477706%5D%2C%20%5B-3.100419648841593%2C%20-60.030079524624036%5D%2C%20%5B-4.7716552389054%2C%20-37.28131900001743%5D%2C%20%5B-23.590978202040777%2C%20-46.41588191127562%5D%2C%20%5B-4.8693256980565005%2C%20-38.100079586650324%5D%2C%20%5B-14.435390813560225%2C%20-58.16997718680147%5D%2C%20%5B-7.447844450676853%2C%20-38.536535385416286%5D%2C%20%5B-10.036491083380563%2C%20-56.46568086024571%5D%2C%20%5B-8.766692061861026%2C%20-63.884372265109455%5D%2C%20%5B-20.15179368839441%2C%20-50.21826972425438%5D%2C%20%5B1.1470495297530297%2C%20-52.998534240566556%5D%2C%20%5B-21.45967788253653%2C%20-50.49806097661665%5D%2C%20%5B-8.6674586351352%2C%20-63.92410747365383%5D%2C%20%5B-4.437201561111144%2C%20-38.075480288248755%5D%2C%20%5B-8.80524061821631%2C%20-63.84601981931897%5D%2C%20%5B-8.714088078988786%2C%20-63.921247900255906%5D%2C%20%5B-18.278984441391113%2C%20-43.07793257675524%5D%2C%20%5B-17.28085285111506%2C%20-40.21031596086158%5D%2C%20%5B-5.512949424868937%2C%20-47.53633612054099%5D%2C%20%5B-10.265440018689873%2C%20-63.82728843695129%5D%2C%20%5B-5.939443349479613%2C%20-36.522225323143566%5D%2C%20%5B-5.932116476425218%2C%20-47.41195170980317%5D%2C%20%5B-5.2537877353394835%2C%20-36.82984565105016%5D%2C%20%5B-11.371811420285855%2C%20-61.506574988485724%5D%2C%20%5B-3.2413247146327047%2C%20-39.629244488542575%5D%2C%20%5B-20.77134538374513%2C%20-49.4125333955594%5D%2C%20%5B-15.550180169282317%2C%20-56.06643084032022%5D%2C%20%5B-11.498025131700523%2C%20-42.075221615525535%5D%2C%20%5B-8.711948744428069%2C%20-63.841195963662265%5D%2C%20%5B-24.607238514349408%2C%20-54.14917536268034%5D%2C%20%5B-5.594087126208338%2C%20-37.8064354524817%5D%2C%20%5B-23.31819511556402%2C%20-51.865001890041775%5D%2C%20%5B-9.966917087586607%2C%20-67.78803182313904%5D%2C%20%5B-8.802441513272752%2C%20-63.78705706073407%5D%2C%20%5B-22.76008337752247%2C%20-42.63602303018654%5D%2C%20%5B-4.951249416519982%2C%20-38.543603427151474%5D%2C%20%5B-4.858051822474895%2C%20-38.176284383414796%5D%2C%20%5B-4.690769858021743%2C%20-37.32211811349053%5D%2C%20%5B-13.245348824264719%2C%20-60.79400027160761%5D%2C%20%5B-5.943723982176793%2C%20-39.332545166260964%5D%2C%20%5B-8.911009354262132%2C%20-36.30551728725572%5D%2C%20%5B-18.879642289810675%2C%20-43.400728048257754%5D%2C%20%5B-14.782997155567234%2C%20-50.97427230418401%5D%2C%20%5B-15.663384462918899%2C%20-56.17423521724066%5D%2C%20%5B-5.205997362676396%2C%20-38.021309776794496%5D%2C%20%5B-7.173933344238103%2C%20-39.25624879428907%5D%2C%20%5B-8.794316744751603%2C%20-63.88492671619777%5D%2C%20%5B-23.38389940776569%2C%20-48.47597212361214%5D%2C%20%5B-7.478947553922186%2C%20-37.33449683028678%5D%2C%20%5B-5.618902281884159%2C%20-36.4642922017429%5D%2C%20%5B-5.712239372393071%2C%20-48.46560379444173%5D%2C%20%5B-8.809430870417293%2C%20-63.81901439003202%5D%2C%20%5B-18.262326453579757%2C%20-43.623873032360564%5D%2C%20%5B-26.294573803381667%2C%20-48.84342619058165%5D%2C%20%5B-18.661788521648624%2C%20-43.076277338477006%5D%2C%20%5B-21.142452553468576%2C%20-47.79106630417058%5D%2C%20%5B-8.785511111233909%2C%20-63.9043817397972%5D%2C%20%5B-23.085414052964907%2C%20-52.50934205665336%5D%2C%20%5B-5.152245698635537%2C%20-37.34705712841565%5D%2C%20%5B-5.559104387321815%2C%20-37.74693000808273%5D%2C%20%5B-27.37942404622166%2C%20-51.59620472733976%5D%2C%20%5B-5.110461664093853%2C%20-38.00762987237279%5D%2C%20%5B-4.891558992329904%2C%20-38.08870997014607%5D%2C%20%5B-20.432087128625838%2C%20-50.10534734221171%5D%2C%20%5B-5.205813698204451%2C%20-38.04430331731128%5D%2C%20%5B-4.788366951427577%2C%20-38.17508887080048%5D%2C%20%5B-5.180065900953948%2C%20-37.98963254866818%5D%2C%20%5B-9.320884246694202%2C%20-37.19171239587398%5D%2C%20%5B-15.502431366818714%2C%20-51.27389847390524%5D%2C%20%5B-12.140316751096693%2C%20-46.0134371254109%5D%2C%20%5B-17.83465766346022%2C%20-42.15746724063995%5D%2C%20%5B-26.817859603183923%2C%20-49.12174974480341%5D%2C%20%5B-20.76131398202006%2C%20-49.50754945501431%5D%2C%20%5B-7.941677921940885%2C%20-36.78655892143142%5D%2C%20%5B-11.82521952060193%2C%20-55.529125299273154%5D%2C%20%5B-14.332755367610195%2C%20-49.1180423312035%5D%2C%20%5B-5.384264252776231%2C%20-49.0568405825632%5D%2C%20%5B-21.42513447336505%2C%20-51.785173907992764%5D%2C%20%5B-14.183666268920055%2C%20-51.946877640584944%5D%2C%20%5B-5.295025928432944%2C%20-38.76905899128462%5D%2C%20%5B-29.179306444223556%2C%20-51.221729517188564%5D%2C%20%5B-7.179609154286516%2C%20-39.352236389162115%5D%2C%20%5B-6.400522146972134%2C%20-39.18636206946853%5D%2C%20%5B-23.150664676730525%2C%20-47.285512420467626%5D%2C%20%5B-4.895953048232153%2C%20-38.06107729571794%5D%2C%20%5B-22.305825658524107%2C%20-48.606121763009924%5D%2C%20%5B-8.735749529081536%2C%20-63.90262864685174%5D%2C%20%5B-4.777915589318581%2C%20-38.14226628506549%5D%2C%20%5B-5.145906109272816%2C%20-37.33528988259234%5D%2C%20%5B-23.375637855027886%2C%20-46.33974397476879%5D%2C%20%5B-9.203254558896745%2C%20-62.9737198616408%5D%2C%20%5B-29.721792756555782%2C%20-52.51946552011279%5D%2C%20%5B-5.230312528542575%2C%20-37.96698500260299%5D%2C%20%5B-23.72279959139581%2C%20-46.69649228248364%5D%2C%20%5B-9.805880183312054%2C%20-36.259694273057235%5D%2C%20%5B-4.945536522208776%2C%20-38.06351287550685%5D%2C%20%5B-7.217212500048342%2C%20-41.0386189859273%5D%2C%20%5B-18.617115574216363%2C%20-43.50784377638193%5D%2C%20%5B-29.3428901355066%2C%20-50.77623735235318%5D%2C%20%5B-18.284057673760486%2C%20-42.77969166308911%5D%2C%20%5B-22.923080552748498%2C%20-47.0381149052927%5D%2C%20%5B-5.559104387321815%2C%20-37.74693000808273%5D%2C%20%5B-25.077742182002766%2C%20-50.11848012835581%5D%2C%20%5B-7.493133952172092%2C%20-63.942143798153595%5D%2C%20%5B-4.858727647010889%2C%20-38.21770982521966%5D%2C%20%5B-7.100513506963398%2C%20-37.31886885683004%5D%2C%20%5B-7.997917325720771%2C%20-34.828837601301665%5D%2C%20%5B-5.257265292142374%2C%20-38.37550361973044%5D%2C%20%5B-3.8780171962003465%2C%20-38.5475235687509%5D%2C%20%5B-4.923435017672541%2C%20-37.797295011795%5D%2C%20%5B-28.23509525222508%2C%20-48.71433003777571%5D%2C%20%5B-23.615843748978683%2C%20-46.63824218003991%5D%2C%20%5B-4.858051822474895%2C%20-38.176284383414796%5D%2C%20%5B-6.755838518858647%2C%20-35.69963679995014%5D%2C%20%5B-11.846144183267421%2C%20-43.90450679623351%5D%2C%20%5B-5.11526257435866%2C%20-42.75022538092228%5D%2C%20%5B-19.162695076003615%2C%20-57.65441575822645%5D%2C%20%5B-11.1472756379138%2C%20-41.02305142001762%5D%2C%20%5B-5.6207130262310585%2C%20-37.77165281571188%5D%2C%20%5B-5.239688856853822%2C%20-37.3393625862966%5D%2C%20%5B-23.087297158132426%2C%20-49.96189206908013%5D%2C%20%5B-5.126089035244706%2C%20-37.28118080604758%5D%2C%20%5B-4.852409764436519%2C%20-37.91418831914764%5D%2C%20%5B-5.503356215621698%2C%20-37.055457774737036%5D%2C%20%5B-16.305062762600443%2C%20-48.911467219731605%5D%2C%20%5B-5.336944486795966%2C%20-49.09830676541242%5D%2C%20%5B-21.208767489864545%2C%20-57.408662968818135%5D%2C%20%5B-18.00084805843006%2C%20-42.30036541467874%5D%2C%20%5B-23.28361469408875%2C%20-51.88293449867029%5D%2C%20%5B-3.9457588234328815%2C%20-48.97456872829014%5D%2C%20%5B-4.517914124688034%2C%20-37.79226363345887%5D%2C%20%5B-4.688105231409747%2C%20-49.132522754556945%5D%2C%20%5B-4.173607252488794%2C%20-55.22519714946913%5D%2C%20%5B-4.8894647387794485%2C%20-38.20101359894759%5D%2C%20%5B-19.006494710054127%2C%20-41.016197094527655%5D%2C%20%5B-3.959468250878749%2C%20-38.605931349066815%5D%2C%20%5B-22.268621081105316%2C%20-45.42131682361982%5D%2C%20%5B-14.872091848446184%2C%20-40.785579481634905%5D%2C%20%5B-8.050537199085296%2C%20-34.96837933016381%5D%2C%20%5B-21.81460558640434%2C%20-48.198159117758394%5D%2C%20%5B-23.102955833056154%2C%20-47.588112049289336%5D%2C%20%5B-20.61243349706155%2C%20-42.16486802968847%5D%2C%20%5B-6.190984857730722%2C%20-36.61314879928276%5D%2C%20%5B-21.257794015527626%2C%20-47.79427497379987%5D%2C%20%5B-8.438562874496185%2C%20-71.28262621501109%5D%2C%20%5B-9.959480110491638%2C%20-63.00368806725892%5D%2C%20%5B-17.86079115524387%2C%20-50.89550998553081%5D%2C%20%5B-5.89727604128798%2C%20-40.284428376325785%5D%2C%20%5B-16.542760149774505%2C%20-39.08367607931832%5D%2C%20%5B-16.133063550162948%2C%20-49.818819570659834%5D%2C%20%5B-6.251530476804931%2C%20-37.72047935946993%5D%2C%20%5B-5.088157821235008%2C%20-38.4870818915976%5D%2C%20%5B-5.112429914899174%2C%20-37.76656030476101%5D%2C%20%5B-4.613661180840411%2C%20-41.91156002177507%5D%2C%20%5B-18.7689890085531%2C%20-42.80058266851485%5D%2C%20%5B-21.181631712367846%2C%20-48.8783003066427%5D%2C%20%5B-23.765298540519627%2C%20-53.195329239726995%5D%2C%20%5B-22.80716103651719%2C%20-42.27144158539585%5D%2C%20%5B-23.170092906141257%2C%20-49.385995820708004%5D%2C%20%5B-5.04163761368231%2C%20-38.50320508772386%5D%2C%20%5B-5.235455482128184%2C%20-37.337212904276186%5D%2C%20%5B-15.835630211843075%2C%20-42.21086286859906%5D%2C%20%5B-5.137256394356039%2C%20-37.355865948228626%5D%2C%20%5B-4.909804282006006%2C%20-38.21371730243893%5D%2C%20%5B-20.431307404831454%2C%20-50.019103363989686%5D%2C%20%5B-21.591273615731943%2C%20-45.591610631883675%5D%2C%20%5B-8.840672051139732%2C%20-63.87491921663866%5D%2C%20%5B-20.065210644691533%2C%20-40.21126127188662%5D%2C%20%5B-4.934723411688574%2C%20-37.785452429293315%5D%2C%20%5B-6.386435737245981%2C%20-35.47332247060988%5D%2C%20%5B-15.091328276865088%2C%20-39.96111586327893%5D%2C%20%5B-18.177861414550296%2C%20-43.557151754301664%5D%2C%20%5B-10.903071392493503%2C%20-62.02571690496879%5D%2C%20%5B-4.939779771454179%2C%20-38.1356508509967%5D%2C%20%5B-8.785511111233909%2C%20-63.9043817397972%5D%2C%20%5B-22.68386277449621%2C%20-43.85357913188974%5D%2C%20%5B-5.191399615827127%2C%20-37.38612240776534%5D%2C%20%5B-17.7356103134211%2C%20-45.92129773411771%5D%2C%20%5B-5.217671600913036%2C%20-37.32185972680919%5D%2C%20%5B-5.642595442419522%2C%20-37.86364362662535%5D%2C%20%5B-17.826771859286236%2C%20-42.8665711932125%5D%2C%20%5B-21.397013882634567%2C%20-41.94345032686082%5D%2C%20%5B-21.738518314940162%2C%20-50.86139434580252%5D%2C%20%5B-26.91577787908255%2C%20-49.095421419248865%5D%2C%20%5B-5.180065900953948%2C%20-37.98963254866818%5D%2C%20%5B-6.445148524772663%2C%20-37.07105476967665%5D%2C%20%5B-8.991062902127824%2C%20-42.61152651568291%5D%2C%20%5B-7.1295096742924455%2C%20-34.92883130617178%5D%2C%20%5B-6.400522146972134%2C%20-39.18636206946853%5D%2C%20%5B-5.261096753449881%2C%20-44.4885429590957%5D%2C%20%5B-5.381434322115702%2C%20-38.022089956450785%5D%2C%20%5B-19.96696429566617%2C%20-41.525038671050396%5D%2C%20%5B-15.342751152496456%2C%20-58.45133205332042%5D%2C%20%5B-23.346159087428223%2C%20-48.375071326122125%5D%2C%20%5B-4.945536522208776%2C%20-38.06351287550685%5D%2C%20%5B0.017321841913600984%2C%20-51.02765547862096%5D%2C%20%5B-18.870387292518323%2C%20-50.60755908683922%5D%2C%20%5B-4.939779771454179%2C%20-38.1356508509967%5D%2C%20%5B-5.005128303714807%2C%20-36.991556884290844%5D%2C%20%5B-22.901171920698367%2C%20-42.99930152280473%5D%2C%20%5B-8.748008040691104%2C%20-63.804042497427915%5D%2C%20%5B-17.8441342175222%2C%20-42.83090415662019%5D%2C%20%5B-16.442040922657714%2C%20-54.652092985194855%5D%2C%20%5B-23.503076857926306%2C%20-46.50255039771275%5D%2C%20%5B-3.947595536044916%2C%20-40.543563038765726%5D%2C%20%5B-4.6188634532565045%2C%20-37.80313556115055%5D%2C%20%5B-24.0067523461263%2C%20-54.28671648676829%5D%2C%20%5B-12.994083016951347%2C%20-38.53872782726033%5D%2C%20%5B-5.245159111726516%2C%20-37.37964456960023%5D%2C%20%5B-7.437543603178189%2C%20-36.392092765027044%5D%2C%20%5B-29.724449655997955%2C%20-57.12776687259604%5D%2C%20%5B-4.695585705422429%2C%20-37.91800933809123%5D%2C%20%5B-20.615652775643902%2C%20-41.76208601515586%5D%2C%20%5B-19.875366562489067%2C%20-43.94636011892882%5D%2C%20%5B-5.272206103093758%2C%20-40.65717778589892%5D%2C%20%5B-7.223151620659345%2C%20-48.219202111568336%5D%2C%20%5B-5.0873260291693985%2C%20-37.62879331582293%5D%2C%20%5B-20.371695052808185%2C%20-41.440423450538894%5D%2C%20%5B-15.622009178545882%2C%20-56.08125108656901%5D%2C%20%5B-22.033330186443397%2C%20-51.41478204681544%5D%2C%20%5B-5.354451108482204%2C%20-49.121389482931555%5D%2C%20%5B-13.245348824264719%2C%20-60.79400027160761%5D%2C%20%5B-5.139717426094215%2C%20-40.65182236044228%5D%2C%20%5B-21.043818357841694%2C%20-42.95806901168516%5D%2C%20%5B-5.686955342992636%2C%20-37.766515710366754%5D%2C%20%5B-11.94331804307965%2C%20-48.41455171913618%5D%2C%20%5B-21.660396624605397%2C%20-43.37640767969535%5D%2C%20%5B-29.506419321548353%2C%20-51.99201875668184%5D%2C%20%5B-8.763989369500562%2C%20-63.769287589667364%5D%2C%20%5B-21.806815594346983%2C%20-43.35800860019222%5D%2C%20%5B-7.202888786272646%2C%20-35.890576930044936%5D%2C%20%5B-5.112429914899174%2C%20-37.76656030476101%5D%2C%20%5B-12.979411876925345%2C%20-38.42793070932471%5D%2C%20%5B-5.23377157714395%2C%20-37.34535407178499%5D%2C%20%5B-5.567338364208586%2C%20-37.219730010034716%5D%2C%20%5B-22.157870584153926%2C%20-42.481499522190454%5D%2C%20%5B-21.96750213751338%2C%20-43.206409527493044%5D%2C%20%5B-5.06352746409544%2C%20-37.65547520330543%5D%2C%20%5B-5.429935280458129%2C%20-38.61820526535605%5D%2C%20%5B-2.463898486358913%2C%20-44.189267189454014%5D%2C%20%5B-9.637678546595646%2C%20-63.29345146207963%5D%2C%20%5B-27.098534659369236%2C%20-52.632766804860665%5D%2C%20%5B-5.625989443047164%2C%20-48.689676584619576%5D%2C%20%5B-28.851354231194733%2C%20-49.39077004154236%5D%2C%20%5B-21.4578539150667%2C%20-49.91179216211176%5D%2C%20%5B-5.370081513682156%2C%20-38.26274368877834%5D%2C%20%5B-24.249780380502994%2C%20-48.527353023953154%5D%2C%20%5B-7.723452910250312%2C%20-72.5132633780636%5D%2C%20%5B-18.006234056721187%2C%20-50.2366448415015%5D%2C%20%5B-15.291850147838566%2C%20-49.0297908060107%5D%2C%20%5B-4.354603453038191%2C%20-41.722437087825945%5D%2C%20%5B-29.1418332740015%2C%20-51.16915629883433%5D%2C%20%5B-7.189129156011438%2C%20-37.155607742335825%5D%2C%20%5B-5.112429914899174%2C%20-37.76656030476101%5D%2C%20%5B-7.196178219057924%2C%20-39.28119585031743%5D%2C%20%5B-15.63637294962047%2C%20-48.081650753333754%5D%2C%20%5B-5.0073502422986795%2C%20-37.68736780201736%5D%2C%20%5B-4.80523165375875%2C%20-37.71020905155613%5D%2C%20%5B-3.6404382034927174%2C%20-38.496452141354816%5D%2C%20%5B-5.137144292586094%2C%20-37.37207173674577%5D%2C%20%5B-4.877067591542176%2C%20-38.142477804480635%5D%2C%20%5B-17.72001670308945%2C%20-46.535375205427805%5D%2C%20%5B-18.789447664422386%2C%20-42.83507146271908%5D%2C%20%5B-21.61910738313513%2C%20-48.039774779144594%5D%2C%20%5B-18.827275512005365%2C%20-41.910297947747154%5D%2C%20%5B-8.859720895195437%2C%20-63.839485526316594%5D%2C%20%5B-23.626504114306687%2C%20-47.44653362404064%5D%2C%20%5B-9.037494183792269%2C%20-38.29113715617396%5D%2C%20%5B-8.399973609794143%2C%20-37.03939599880194%5D%2C%20%5B2.84778630921218%2C%20-60.6925857098536%5D%2C%20%5B-11.041110189590563%2C%20-62.42452946542845%5D%2C%20%5B-21.253671311142604%2C%20-50.4759212562012%5D%2C%20%5B-23.699681791581824%2C%20-46.59346477429385%5D%2C%20%5B-20.847065660987823%2C%20-46.69603914206075%5D%2C%20%5B-8.809593626954749%2C%20-63.81613418038322%5D%2C%20%5B-9.38048666790453%2C%20-37.26788560735542%5D%2C%20%5B-5.091713058055317%2C%20-37.747616502677886%5D%2C%20%5B-12.156953918220902%2C%20-39.06812150725523%5D%2C%20%5B-23.1936928166195%2C%20-45.91561022377792%5D%2C%20%5B-19.56175065693841%2C%20-46.96737094919574%5D%2C%20%5B-12.166985015086807%2C%20-45.932789407706025%5D%2C%20%5B-6.9188322478484965%2C%20-38.565548743585886%5D%2C%20%5B-27.93577257407148%2C%20-54.48255717745983%5D%2C%20%5B-2.98095652302385%2C%20-40.13657681180436%5D%2C%20%5B-6.194904251729661%2C%20-50.56318703810283%5D%2C%20%5B-4.682122251453244%2C%20-38.06553929587813%5D%2C%20%5B-5.120123058334919%2C%20-38.02889845725255%5D%2C%20%5B2.8040789982579915%2C%20-60.709369640330316%5D%2C%20%5B-17.81409767496713%2C%20-43.93146693448947%5D%2C%20%5B-4.8287202083856%2C%20-38.05127296642818%5D%2C%20%5B-8.787635299370775%2C%20-63.90962604144751%5D%2C%20%5B-23.60551379001956%2C%20-46.372043413945455%5D%2C%20%5B-11.498116181978888%2C%20-38.67750221446902%5D%2C%20%5B-4.423671996877578%2C%20-38.83712858380615%5D%2C%20%5B-22.991806348673204%2C%20-43.44214481563215%5D%2C%20%5B-9.431512412789045%2C%20-38.29211333404772%5D%2C%20%5B-18.960322807856613%2C%20-49.49368120872492%5D%2C%20%5B-5.559104387321815%2C%20-37.74693000808273%5D%2C%20%5B-5.803586530523247%2C%20-37.937255169215696%5D%2C%20%5B-7.668051744544728%2C%20-62.57374171806551%5D%2C%20%5B-13.316221001994434%2C%20-49.32425360309456%5D%2C%20%5B-12.164217973484782%2C%20-44.81837095028407%5D%2C%20%5B-2.982470012386508%2C%20-59.99747503696043%5D%2C%20%5B-16.777298112185765%2C%20-43.86247563458923%5D%2C%20%5B-16.578336787447064%2C%20-49.36218857912572%5D%2C%20%5B-5.230424878911747%2C%20-37.41397894581111%5D%2C%20%5B-19.53258625824526%2C%20-46.71941644832115%5D%2C%20%5B-29.51245582502683%2C%20-51.72483987135993%5D%2C%20%5B-17.83848508038019%2C%20-41.47032887034892%5D%2C%20%5B-8.690294852440868%2C%20-63.912176625587904%5D%2C%20%5B-15.628360876430841%2C%20-53.33349332820703%5D%2C%20%5B-19.726653636649207%2C%20-47.89905226703661%5D%2C%20%5B-22.561494571533004%2C%20-42.19767843026576%5D%2C%20%5B-18.999115617559482%2C%20-40.48673681001925%5D%2C%20%5B-27.05964470123703%2C%20-52.63986578003099%5D%2C%20%5B-31.460730722511297%2C%20-52.27975552311176%5D%2C%20%5B-21.507681043384213%2C%20-51.64465335283288%5D%2C%20%5B-25.609144671649013%2C%20-49.37312371862662%5D%2C%20%5B-25.055311978328962%2C%20-53.367407599654136%5D%2C%20%5B-20.48177967054981%2C%20-54.66878258675333%5D%2C%20%5B-8.056414492507288%2C%20-37.06429189968849%5D%2C%20%5B-14.269034350670522%2C%20-51.93943831760315%5D%2C%20%5B-22.513911430482764%2C%20-44.125884584814415%5D%2C%20%5B-16.56718265343749%2C%20-39.21531131743393%5D%2C%20%5B-10.783275360053038%2C%20-39.51995022814369%5D%2C%20%5B-9.300073323209004%2C%20-37.25422111117518%5D%2C%20%5B-18.918088266070615%2C%20-48.21878727189317%5D%2C%20%5B-21.732652893532617%2C%20-41.35435512551836%5D%2C%20%5B-22.946654850705045%2C%20-42.054016512716004%5D%2C%20%5B-5.176629847312009%2C%20-37.60199027753888%5D%2C%20%5B-4.877067591542176%2C%20-38.142477804480635%5D%2C%20%5B-23.03002101489965%2C%20-47.47191991357355%5D%2C%20%5B-27.04149063508986%2C%20-52.62712076830155%5D%2C%20%5B-30.96786719681921%2C%20-54.52329383037595%5D%2C%20%5B-9.51346106612854%2C%20-40.85974370257159%5D%2C%20%5B-18.80754491631341%2C%20-41.937796102937334%5D%2C%20%5B-22.841753329515967%2C%20-43.537058656562564%5D%2C%20%5B-22.565710221242252%2C%20-44.96851350558157%5D%2C%20%5B-5.227253358629726%2C%20-37.44421508702647%5D%2C%20%5B1.6550573546703313%2C%20-49.96063395186034%5D%2C%20%5B-26.69179711941897%2C%20-53.15098621065725%5D%2C%20%5B-4.788366951427577%2C%20-38.17508887080048%5D%2C%20%5B-5.721522661459162%2C%20-37.63271971078557%5D%2C%20%5B-25.887463447503333%2C%20-50.42499393924484%5D%2C%20%5B-15.578865311017305%2C%20-58.05850420789961%5D%2C%20%5B-19.174349874997663%2C%20-52.72102521831429%5D%2C%20%5B-8.005250148032655%2C%20-50.02057660300856%5D%2C%20%5B-8.684629275111988%2C%20-63.858623835981014%5D%2C%20%5B-29.087838014900225%2C%20-51.111391838547526%5D%2C%20%5B-20.027972689508644%2C%20-45.43991848411063%5D%2C%20%5B-4.8287202083856%2C%20-38.05127296642818%5D%2C%20%5B-18.855232333350916%2C%20-46.35608613445156%5D%2C%20%5B-4.763521956571926%2C%20-38.186486822117104%5D%2C%20%5B-22.48264430677113%2C%20-49.88133059746248%5D%2C%20%5B-3.8894344338500164%2C%20-40.32429594562104%5D%2C%20%5B-22.58126179032671%2C%20-50.42256106981281%5D%2C%20%5B-19.702557339972586%2C%20-47.9295495305094%5D%2C%20%5B-19.593991342644557%2C%20-40.575767209132856%5D%2C%20%5B0.10453005706875927%2C%20-51.088870092865754%5D%2C%20%5B-20.120096277915138%2C%20-45.91409661831965%5D%2C%20%5B-6.7752412600930665%2C%20-48.6058963728685%5D%2C%20%5B-8.864266362918837%2C%20-37.8006571881535%5D%2C%20%5B-20.46634481817292%2C%20-49.96729483213479%5D%2C%20%5B-23.450277504412032%2C%20-47.83865278617795%5D%2C%20%5B-5.248803172517881%2C%20-38.01388271668373%5D%2C%20%5B-5.134549077512957%2C%20-36.86194853772231%5D%2C%20%5B-5.643236317389968%2C%20-37.86201108881622%5D%2C%20%5B-21.777544538164495%2C%20-43.30440916776818%5D%2C%20%5B-17.56945250902286%2C%20-39.75397136631359%5D%2C%20%5B-23.446589935942516%2C%20-51.64222012402299%5D%2C%20%5B-16.717124867694743%2C%20-49.23651113575163%5D%2C%20%5B-20.333544569019146%2C%20-50.209318973513795%5D%2C%20%5B-31.44607057784168%2C%20-53.36846862483716%5D%2C%20%5B-2.3989092505717076%2C%20-54.63004705986827%5D%2C%20%5B-4.203193078106312%2C%20-42.298123370886714%5D%2C%20%5B-15.566841378069409%2C%20-56.08313761209058%5D%2C%20%5B-5.13887660853937%2C%20-38.537792080273015%5D%2C%20%5B-23.4576038161985%2C%20-47.53470526484892%5D%2C%20%5B-13.050825400655514%2C%20-38.43542613938961%5D%2C%20%5B-5.100202335254815%2C%20-38.515431486158576%5D%2C%20%5B-27.73304087341871%2C%20-54.34363261838011%5D%2C%20%5B-16.60481819434015%2C%20-41.47811105432921%5D%2C%20%5B-15.662602549845158%2C%20-42.46273321658925%5D%2C%20%5B-22.91870056018784%2C%20-43.52225118697606%5D%2C%20%5B-9.36509450798856%2C%20-61.966172467052054%5D%2C%20%5B-17.388876852878873%2C%20-42.428107961516325%5D%2C%20%5B-5.075271751660963%2C%20-36.820360972878056%5D%2C%20%5B-18.698579129260793%2C%20-43.05496244699299%5D%2C%20%5B-8.96841751884801%2C%20-42.618417464718185%5D%2C%20%5B-18.584717548160697%2C%20-43.8092817362972%5D%2C%20%5B-6.68590652236365%2C%20-38.47718993005455%5D%2C%20%5B-18.129168612746028%2C%20-43.5070421007278%5D%2C%20%5B-12.833461527591336%2C%20-38.471541237439325%5D%2C%20%5B-5.154974722839202%2C%20-37.29860082950433%5D%2C%20%5B-11.64263916056777%2C%20-38.9119133577688%5D%2C%20%5B-26.46257502819935%2C%20-49.64025142143333%5D%2C%20%5B-21.418021232745%2C%20-42.233006550242976%5D%2C%20%5B-5.211302106828657%2C%20-37.34596783120265%5D%2C%20%5B-29.253746285992207%2C%20-51.269351328001406%5D%2C%20%5B0.09392372617303592%2C%20-51.099725016639866%5D%2C%20%5B-18.917227629183266%2C%20-43.317715420900015%5D%2C%20%5B-9.927162787078109%2C%20-67.81171644811863%5D%2C%20%5B-8.70758690471956%2C%20-63.903769119636536%5D%2C%20%5B-13.050825400655514%2C%20-38.43542613938961%5D%2C%20%5B-9.98506886370887%2C%20-63.057920081040834%5D%2C%20%5B-8.1060033470004%2C%20-36.701372779746826%5D%2C%20%5B-2.3994468286783044%2C%20-44.259953131348304%5D%2C%20%5B-21.130001001575025%2C%20-48.739323230037535%5D%2C%20%5B-4.852409764436519%2C%20-37.91418831914764%5D%2C%20%5B-7.706576474929953%2C%20-72.54455123775996%5D%2C%20%5B-5.30395537411761%2C%20-38.04941686977593%5D%2C%20%5B-15.086112223390733%2C%20-40.6642940209837%5D%2C%20%5B-19.776907327980446%2C%20-55.87549733394974%5D%2C%20%5B-6.630992207164756%2C%20-47.99839252013351%5D%2C%20%5B-30.004957212495828%2C%20-51.1258669512275%5D%2C%20%5B-9.859842935495458%2C%20-63.0857536866413%5D%2C%20%5B-3.4363064441267404%2C%20-40.05749446715389%5D%2C%20%5B-4.608716157400377%2C%20-37.72249464070972%5D%2C%20%5B-5.154974722839202%2C%20-37.29860082950433%5D%2C%20%5B-23.932253965236107%2C%20-46.979508480072155%5D%2C%20%5B-7.902731194573263%2C%20-36.21248900435714%5D%2C%20%5B-22.834779580855074%2C%20-48.552199727440495%5D%2C%20%5B-22.9153994831964%2C%20-42.95199786286452%5D%2C%20%5B-25.34006003024664%2C%20-51.508480915216815%5D%2C%20%5B-6.789673821285889%2C%20-35.97996286492747%5D%2C%20%5B-24.98690218044284%2C%20-53.51691696600968%5D%2C%20%5B-5.090378102846394%2C%20-37.635543556899634%5D%2C%20%5B-18.383356393619763%2C%20-42.545701468861424%5D%2C%20%5B-6.3846061216700924%2C%20-47.78195182668742%5D%2C%20%5B-8.754779717791179%2C%20-63.862139082828286%5D%2C%20%5B-9.461684108263205%2C%20-40.487389920029216%5D%2C%20%5B-8.40573815988335%2C%20-71.26036373063056%5D%2C%20%5B-23.276409087951578%2C%20-46.73126912463684%5D%2C%20%5B-5.3726366249168604%2C%20-37.98692279145735%5D%2C%20%5B-8.848106905176193%2C%20-63.830652136347005%5D%2C%20%5B-22.536565148823346%2C%20-42.67070658989223%5D%2C%20%5B-8.110537655906889%2C%20-49.5622670296518%5D%2C%20%5B-5.215249480573517%2C%20-36.45829650268353%5D%2C%20%5B-15.433462714605438%2C%20-59.519856005434086%5D%2C%20%5B-18.51572074685045%2C%20-41.07156790265773%5D%2C%20%5B-5.625672460182946%2C%20-48.068060310346866%5D%2C%20%5B-21.73171718824286%2C%20-43.35282954174074%5D%2C%20%5B-28.466157310435108%2C%20-49.02609285178493%5D%2C%20%5B-12.995493550417754%2C%20-38.57710031978106%5D%2C%20%5B-20.3803905803571%2C%20-40.552302078112454%5D%2C%20%5B-22.41334063481868%2C%20-41.83602131971117%5D%2C%20%5B-22.880827845812572%2C%20-43.49655800005116%5D%2C%20%5B-28.32452546391594%2C%20-52.407120770458576%5D%2C%20%5B-23.96324100227981%2C%20-48.751900167934224%5D%2C%20%5B-3.141604479397864%2C%20-52.14091588385244%5D%2C%20%5B-5.110877435034868%2C%20-37.61946663428583%5D%2C%20%5B-4.788366951427577%2C%20-38.17508887080048%5D%2C%20%5B-12.564209100386568%2C%20-60.35721835306051%5D%2C%20%5B-8.796980083619236%2C%20-63.8125111494352%5D%2C%20%5B-10.573792652128637%2C%20-56.1153528566362%5D%2C%20%5B-20.332759871084164%2C%20-40.78072115340534%5D%2C%20%5B-5.24731151254488%2C%20-37.333527288151295%5D%2C%20%5B-19.82393564772202%2C%20-47.92428498441001%5D%2C%20%5B-14.523931643634624%2C%20-42.221447998504765%5D%2C%20%5B-30.097774484053637%2C%20-51.18599574945049%5D%2C%20%5B-5.241591059935838%2C%20-37.35412632171735%5D%2C%20%5B-5.2112327320537855%2C%20-49.13757969712134%5D%2C%20%5B-5.027303961218093%2C%20-37.712381028036354%5D%2C%20%5B-4.1067882201602%2C%20-38.58126465536226%5D%2C%20%5B-9.176204207080655%2C%20-44.512073555807%5D%2C%20%5B-16.622991559810128%2C%20-49.19450306916971%5D%2C%20%5B-16.327543738713285%2C%20-48.98565295348666%5D%2C%20%5B-5.156767859382845%2C%20-37.32412948815525%5D%2C%20%5B-20.908117274016767%2C%20-47.59103327791703%5D%2C%20%5B-29.780171952027608%2C%20-51.189025945964616%5D%2C%20%5B-5.112429914899174%2C%20-37.76656030476101%5D%2C%20%5B-20.286229348373972%2C%20-50.94297585267866%5D%2C%20%5B-21.76164887051217%2C%20-46.543906457528834%5D%2C%20%5B-16.310644501384854%2C%20-46.750440479869376%5D%2C%20%5B-12.81420042324766%2C%20-38.414359523148796%5D%2C%20%5B-20.43374791264161%2C%20-50.01025700295064%5D%2C%20%5B-1.4784325310981568%2C%20-48.36625397704804%5D%2C%20%5B-6.552396155235286%2C%20-36.18879005048193%5D%2C%20%5B2.8141630843821965%2C%20-60.68550003853532%5D%2C%20%5B-20.482354892887386%2C%20-54.572850259650004%5D%2C%20%5B-22.564293815355306%2C%20-47.368361219837404%5D%2C%20%5B-26.99265343483968%2C%20-53.10030557757622%5D%2C%20%5B-10.19669786827168%2C%20-48.390478663212654%5D%2C%20%5B-3.2686194391547247%2C%20-40.19497259084135%5D%2C%20%5B-23.872339070664587%2C%20-53.72729045341683%5D%2C%20%5B-21.172570415294363%2C%20-47.85482107162067%5D%2C%20%5B-5.248803172517881%2C%20-38.01388271668373%5D%2C%20%5B-6.368669975966039%2C%20-41.7552861875909%5D%2C%20%5B-5.205813698204451%2C%20-38.04430331731128%5D%2C%20%5B-5.0073502422986795%2C%20-37.68736780201736%5D%2C%20%5B-1.2926937564749574%2C%20-47.92725143060912%5D%2C%20%5B-18.81866925608376%2C%20-41.83198315467125%5D%2C%20%5B-5.017186085035087%2C%20-38.48446743094527%5D%2C%20%5B-4.877067591542176%2C%20-38.142477804480635%5D%2C%20%5B-2.8866716368925838%2C%20-43.038841817485824%5D%2C%20%5B-23.46875402010484%2C%20-46.42953945646526%5D%2C%20%5B-5.254465122280048%2C%20-37.301839408956006%5D%2C%20%5B-6.5442793976488245%2C%20-49.76216775466775%5D%2C%20%5B-10.772504487874475%2C%20-65.14015447218918%5D%2C%20%5B-8.848540388040542%2C%20-63.902541241963675%5D%2C%20%5B-29.077239951136146%2C%20-51.08824933268329%5D%2C%20%5B-5.1095472352927915%2C%20-37.25322764730727%5D%2C%20%5B-5.625485620113778%2C%20-37.79008741885898%5D%2C%20%5B-20.682543555822697%2C%20-46.34456918729709%5D%2C%20%5B-23.188778288562318%2C%20-47.66111945265072%5D%2C%20%5B-3.690104930426931%2C%20-40.34965452744581%5D%2C%20%5B-5.767161678020642%2C%20-37.59803085658073%5D%2C%20%5B-16.77275067333039%2C%20-43.868327006981396%5D%2C%20%5B-27.60954230816829%2C%20-48.559099110338614%5D%2C%20%5B-21.677137453960096%2C%20-51.86441760411087%5D%2C%20%5B-15.231660972978172%2C%20-39.36360751610953%5D%2C%20%5B-5.177524304884128%2C%20-37.978401123581705%5D%2C%20%5B-23.67169183725254%2C%20-46.576948708639065%5D%2C%20%5B-8.740465035533608%2C%20-63.83397068002031%5D%2C%20%5B-20.921195670643236%2C%20-49.347631825828856%5D%2C%20%5B-27.659269823695606%2C%20-52.27985359588678%5D%2C%20%5B-8.848266649438663%2C%20-63.89294146477165%5D%2C%20%5B-24.02541584519044%2C%20-46.49226690836293%5D%2C%20%5B0.11499049265119149%2C%20-60.52837584466923%5D%2C%20%5B-16.663810209660507%2C%20-49.210015018066436%5D%2C%20%5B-23.149135590658837%2C%20-44.69731293360356%5D%2C%20%5B-20.03314143620677%2C%20-43.91660958815758%5D%2C%20%5B-21.348794684258127%2C%20-44.99737907250904%5D%2C%20%5B-5.823475023148654%2C%20-37.865580361579916%5D%2C%20%5B-4.992038052281889%2C%20-38.45217822631783%5D%2C%20%5B-29.53560672623236%2C%20-52.13219634273607%5D%2C%20%5B-22.22280371673211%2C%20-41.67623143905187%5D%2C%20%5B-8.768235869643332%2C%20-63.967949812818496%5D%2C%20%5B-5.019880021777675%2C%20-38.53278387206701%5D%2C%20%5B-8.711329237271016%2C%20-63.903703241960834%5D%2C%20%5B-5.5215740617762%2C%20-47.49963302311953%5D%2C%20%5B-1.3593057575462293%2C%20-48.497488581458775%5D%2C%20%5B-23.397381978705784%2C%20-51.909087712744494%5D%2C%20%5B-6.386255332431023%2C%20-38.16438374320899%5D%2C%20%5B-5.269859456030659%2C%20-37.24387282468639%5D%2C%20%5B-18.88338497745603%2C%20-41.946466110435736%5D%2C%20%5B-18.160173640983153%2C%20-42.32800538597584%5D%2C%20%5B-17.883599060682972%2C%20-41.55201453486651%5D%2C%20%5B-23.63078489685134%2C%20-46.387020115135925%5D%2C%20%5B-1.3161604364053636%2C%20-48.29100126282019%5D%2C%20%5B-29.01380446947696%2C%20-49.67209101288814%5D%2C%20%5B-7.672272213598737%2C%20-72.5516955127686%5D%2C%20%5B-17.82133190356037%2C%20-42.90892401276305%5D%2C%20%5B-8.56755463465149%2C%20-48.5562584049825%5D%2C%20%5B-22.717241705406614%2C%20-47.662252858525164%5D%2C%20%5B-23.547543947196758%2C%20-48.048299289503554%5D%2C%20%5B-23.59754348899538%2C%20-46.59695655182799%5D%2C%20%5B-9.871505146352302%2C%20-63.03219626556754%5D%2C%20%5B-18.866527760927344%2C%20-47.53051210980462%5D%2C%20%5B-8.028016034787804%2C%20-34.92911457401555%5D%2C%20%5B-3.8246649990724144%2C%20-47.46766756451349%5D%2C%20%5B-21.173593012953333%2C%20-57.2892110692855%5D%2C%20%5B-4.8613344790155315%2C%20-38.03965575326092%5D%2C%20%5B-20.858820103427686%2C%20-51.76306421626203%5D%2C%20%5B-8.157186736082757%2C%20-34.928963569857714%5D%2C%20%5B-20.911482287938444%2C%20-48.65449749168124%5D%2C%20%5B-4.842150077308295%2C%20-38.16068923477706%5D%2C%20%5B-20.251940561649533%2C%20-40.21751731238565%5D%2C%20%5B-8.817820981956658%2C%20-63.89957128943687%5D%2C%20%5B-22.45621490258172%2C%20-49.06140477206532%5D%2C%20%5B-13.815469700393205%2C%20-41.99523908638713%5D%2C%20%5B-10.21677855212374%2C%20-48.317833639516216%5D%2C%20%5B-2.5380846104701416%2C%20-45.09617565482822%5D%2C%20%5B-19.37702456904956%2C%20-45.99112773955962%5D%2C%20%5B-21.90642633075357%2C%20-42.25101440846698%5D%2C%20%5B-7.639692379512566%2C%20-62.64262568958193%5D%2C%20%5B-15.874493844725835%2C%20-50.305455653197534%5D%2C%20%5B-5.625485620113778%2C%20-37.79008741885898%5D%2C%20%5B-29.91240045982616%2C%20-51.1844824253778%5D%2C%20%5B-29.56593475586868%2C%20-53.77622114727625%5D%2C%20%5B-18.263228675191648%2C%20-42.7807788536294%5D%2C%20%5B-5.642595442419522%2C%20-37.86364362662535%5D%2C%20%5B-10.223510796781841%2C%20-48.87618207502102%5D%2C%20%5B-5.793946719082738%2C%20-35.21153178535842%5D%2C%20%5B-11.823761527392872%2C%20-55.50083984788649%5D%2C%20%5B-9.8829140356314%2C%20-67.78501137957335%5D%2C%20%5B-4.725348748373839%2C%20-37.280119148650826%5D%2C%20%5B-21.142452553468576%2C%20-47.79106630417058%5D%2C%20%5B-22.52809390190289%2C%20-41.95649881932644%5D%2C%20%5B-2.9896023338305757%2C%20-59.93949264450806%5D%2C%20%5B-5.105861253840971%2C%20-38.35149984446606%5D%2C%20%5B-12.215153983286555%2C%20-40.65082175675404%5D%2C%20%5B-24.5457609795894%2C%20-53.282705059145435%5D%2C%20%5B-22.240862560264514%2C%20-54.78338522461069%5D%2C%20%5B-17.70308186972202%2C%20-48.72607713006296%5D%2C%20%5B-4.948285631224608%2C%20-37.01258571144058%5D%2C%20%5B-11.999283763668243%2C%20-55.5374014108451%5D%2C%20%5B-5.110461664093853%2C%20-38.00762987237279%5D%2C%20%5B-20.67039093657394%2C%20-47.49548573670254%5D%2C%20%5B-30.163251201961913%2C%20-51.19495788862077%5D%2C%20%5B-5.164423488858103%2C%20-37.356920426246845%5D%2C%20%5B-7.67179776033957%2C%20-39.23817767987299%5D%2C%20%5B-21.685362410713655%2C%20-42.31856854220522%5D%2C%20%5B-4.512115972552347%2C%20-44.64027469686327%5D%2C%20%5B-12.70323116472373%2C%20-38.414332400756905%5D%2C%20%5B-16.073083998843757%2C%20-42.09074861808895%5D%2C%20%5B-5.625485620113778%2C%20-37.79008741885898%5D%2C%20%5B-6.545721973699745%2C%20-39.164397775514935%5D%2C%20%5B-4.637915131069174%2C%20-37.72230805988814%5D%2C%20%5B-20.277802876674208%2C%20-50.476830164856544%5D%2C%20%5B-27.038829120744037%2C%20-48.69273359062685%5D%2C%20%5B-5.424035747744816%2C%20-49.05534097148148%5D%2C%20%5B-17.908041465014257%2C%20-41.492095268930264%5D%2C%20%5B-9.193197905634825%2C%20-39.63155573938938%5D%2C%20%5B-20.549506124382074%2C%20-48.63708894009084%5D%2C%20%5B-5.627305876814478%2C%20-37.81404648571798%5D%2C%20%5B-18.66525655143828%2C%20-41.038971144774536%5D%2C%20%5B-5.014820639591445%2C%20-42.852082159770056%5D%2C%20%5B-21.210839427484586%2C%20-47.55097508717147%5D%2C%20%5B-16.586393811076476%2C%20-56.85783888210178%5D%2C%20%5B-21.117364098141046%2C%20-43.9878101510347%5D%2C%20%5B-4.494519682339287%2C%20-38.87340845932647%5D%2C%20%5B-18.414362213148625%2C%20-42.89320381872796%5D%2C%20%5B-5.129619178999822%2C%20-37.302679493093265%5D%2C%20%5B-19.512491947582593%2C%20-44.30683032456269%5D%2C%20%5B-2.6096796968897022%2C%20-45.325638751541106%5D%2C%20%5B-16.74197870062595%2C%20-49.224260757433164%5D%2C%20%5B-8.735749529081536%2C%20-63.90262864685174%5D%2C%20%5B-6.138927758213004%2C%20-62.60909193802009%5D%2C%20%5B-5.227253358629726%2C%20-37.44421508702647%5D%2C%20%5B-8.636260437397125%2C%20-37.33265897579768%5D%2C%20%5B-19.689449308664894%2C%20-45.22577699581512%5D%2C%20%5B-10.190703691961879%2C%20-48.382981651033525%5D%2C%20%5B-4.99623599882458%2C%20-38.65257699151097%5D%2C%20%5B-16.75523586958117%2C%20-43.833773818219434%5D%2C%20%5B-12.08370550948552%2C%20-46.05877916840864%5D%2C%20%5B-7.202223945019007%2C%20-36.87163951058627%5D%2C%20%5B-25.0249515169436%2C%20-53.50273676147773%5D%2C%20%5B-19.87989140020123%2C%20-44.65330971595233%5D%2C%20%5B-5.779004287703615%2C%20-35.14395828030822%5D%2C%20%5B-4.9790083282746345%2C%20-36.99571739243904%5D%2C%20%5B-16.713243647073085%2C%20-43.77194113539624%5D%2C%20%5B-29.668004195269674%2C%20-51.12792455486901%5D%2C%20%5B-24.02541584519044%2C%20-46.49226690836293%5D%2C%20%5B-8.831852628611147%2C%20-63.68891591642118%5D%2C%20%5B-23.766376261615488%2C%20-48.54424369588077%5D%2C%20%5B-29.11377704444562%2C%20-51.06657537649661%5D%2C%20%5B-5.206872164501092%2C%20-37.294613060409354%5D%2C%20%5B-3.125982682611463%2C%20-60.106796726548204%5D%2C%20%5B-5.520647881469916%2C%20-47.45997843517086%5D%2C%20%5B-5.045738518579823%2C%20-37.598543066991816%5D%2C%20%5B-4.655420219929132%2C%20-37.790342083163864%5D%2C%20%5B-7.9006596114504495%2C%20-34.773665125568485%5D%2C%20%5B-4.2772317115193745%2C%20-47.9695308132308%5D%2C%20%5B-7.974879310625194%2C%20-38.270554408260544%5D%2C%20%5B-10.34537579960941%2C%20-45.16232831219417%5D%2C%20%5B-23.280586484708188%2C%20-50.688956433702764%5D%2C%20%5B-17.814882173255597%2C%20-43.498433282161656%5D%2C%20%5B-3.7587727396511683%2C%20-49.56296738419276%5D%2C%20%5B-17.81309709491427%2C%20-42.82561775376327%5D%2C%20%5B-30.17477873438327%2C%20-51.17798357490432%5D%2C%20%5B-11.223858219172929%2C%20-37.814160208268554%5D%2C%20%5B-1.3647868889449686%2C%20-48.22624616657661%5D%2C%20%5B-5.104239428925926%2C%20-38.44153826538616%5D%2C%20%5B-17.812211948930543%2C%20-42.84545985374974%5D%2C%20%5B-7.95696847857817%2C%20-37.842772401089185%5D%2C%20%5B-5.6207130262310585%2C%20-37.77165281571188%5D%2C%20%5B-4.647381312129666%2C%20-37.73094727107998%5D%2C%20%5B-5.230312528542575%2C%20-37.96698500260299%5D%2C%20%5B-5.290454876828418%2C%20-38.21744117461137%5D%2C%20%5B-3.8073175616472072%2C%20-38.70234590154709%5D%2C%20%5B-15.940591773918472%2C%20-41.20330226508285%5D%2C%20%5B-4.732150415120012%2C%20-40.73417722258368%5D%2C%20%5B-5.635953600057891%2C%20-37.78068353742777%5D%2C%20%5B-24.429273025074167%2C%20-49.99422337433132%5D%2C%20%5B-5.775173124453278%2C%20-37.99505250607281%5D%2C%20%5B-22.677625959919315%2C%20-55.05044604403904%5D%2C%20%5B-15.715372589385398%2C%20-47.834523120971284%5D%2C%20%5B-4.482866050439817%2C%20-44.560010023124626%5D%2C%20%5B-10.339748297864613%2C%20-54.21696689963887%5D%2C%20%5B-5.95487861266752%2C%20-40.301489901473516%5D%2C%20%5B-6.562668260770081%2C%20-43.65295603323533%5D%2C%20%5B-18.26079410301158%2C%20-43.07444367932441%5D%2C%20%5B-17.274025991847076%2C%20-51.30899019558507%5D%2C%20%5B-4.87108544768393%2C%20-64.99352232323271%5D%2C%20%5B-21.577978871433952%2C%20-49.948429631220044%5D%2C%20%5B-18.627937231368552%2C%20-49.420476935009845%5D%2C%20%5B-5.360913170284692%2C%20-44.530499431417596%5D%2C%20%5B-14.817514502541249%2C%20-40.867461294076485%5D%2C%20%5B-4.8894647387794485%2C%20-38.20101359894759%5D%2C%20%5B-4.914071969497396%2C%20-38.48732411343876%5D%2C%20%5B-23.688133751246614%2C%20-46.62935259087489%5D%2C%20%5B-7.29513061203766%2C%20-38.32170615235289%5D%2C%20%5B-22.160142072992233%2C%20-54.81212530560202%5D%2C%20%5B-18.23416199648396%2C%20-43.499382590482526%5D%2C%20%5B-28.43842200811162%2C%20-48.9533503282751%5D%2C%20%5B-18.963382189632448%2C%20-42.76874458366853%5D%2C%20%5B-22.732596213741065%2C%20-42.53574228286774%5D%2C%20%5B-5.137256394356039%2C%20-37.355865948228626%5D%2C%20%5B-21.62845233750949%2C%20-47.27800579807229%5D%2C%20%5B-5.227253358629726%2C%20-37.44421508702647%5D%2C%20%5B-8.745479514167403%2C%20-63.93439012710771%5D%2C%20%5B-18.886829769417783%2C%20-43.26610408549997%5D%2C%20%5B-22.972967407056068%2C%20-49.47347766151613%5D%2C%20%5B-16.65628544253171%2C%20-49.243039035714986%5D%2C%20%5B-10.723416013124181%2C%20-65.13151569482082%5D%2C%20%5B-20.46546151968112%2C%20-50.00608328643062%5D%2C%20%5B-27.739654005500725%2C%20-51.91554325799845%5D%2C%20%5B-18.45532554386878%2C%20-43.697177094858596%5D%2C%20%5B-4.655420219929132%2C%20-37.790342083163864%5D%2C%20%5B-19.96961295040292%2C%20-44.14007844992509%5D%2C%20%5B-18.184891778113926%2C%20-43.63387505949072%5D%2C%20%5B-13.61816653142025%2C%20-45.280573826859595%5D%2C%20%5B-25.044471389854493%2C%20-50.17587107320678%5D%2C%20%5B-8.750050682468974%2C%20-63.8421987748847%5D%2C%20%5B-8.790916241201643%2C%20-63.90186398628178%5D%2C%20%5B-5.03746732792373%2C%20-38.51086003356812%5D%2C%20%5B-5.6404929995950885%2C%20-35.577128509565036%5D%2C%20%5B-15.563531330347102%2C%20-47.604812622582074%5D%2C%20%5B-5.215053588139957%2C%20-37.30931508507614%5D%2C%20%5B-5.13887660853937%2C%20-38.537792080273015%5D%2C%20%5B-6.289089622932491%2C%20-35.999647615206925%5D%2C%20%5B-22.948118999095183%2C%20-47.109558145326126%5D%2C%20%5B-5.06352746409544%2C%20-37.65547520330543%5D%2C%20%5B-27.756556339576402%2C%20-54.77982562394038%5D%2C%20%5B-21.387841336652393%2C%20-51.36959379902146%5D%2C%20%5B-10.147319583022107%2C%20-41.75652645519893%5D%2C%20%5B-20.31590001858769%2C%20-47.914000403222325%5D%2C%20%5B-22.5908566426148%2C%20-47.4523266511794%5D%2C%20%5B-9.883953859660496%2C%20-67.85998273352426%5D%2C%20%5B-29.756552660867477%2C%20-55.77276988332654%5D%2C%20%5B-8.74389740690132%2C%20-63.886633352988014%5D%2C%20%5B-15.164048419001112%2C%20-57.99520621035829%5D%2C%20%5B-5.554267781018844%2C%20-37.33910549227317%5D%2C%20%5B-19.78980188083562%2C%20-47.918916347900286%5D%2C%20%5B-18.136374053284065%2C%20-42.79839689794767%5D%2C%20%5B-29.154946151275727%2C%20-51.06787039506595%5D%2C%20%5B-8.578643134736945%2C%20-38.981907848395345%5D%2C%20%5B-5.834669716753501%2C%20-35.227896130915326%5D%2C%20%5B-29.921375639749098%2C%20-51.07779709788785%5D%2C%20%5B-4.948285631224608%2C%20-37.01258571144058%5D%2C%20%5B-24.440345387591407%2C%20-53.076075457470125%5D%2C%20%5B-5.219711837744265%2C%20-37.37594585072137%5D%2C%20%5B-17.814461757029026%2C%20-42.87381476899613%5D%2C%20%5B-2.5401649762129015%2C%20-66.0261198244936%5D%2C%20%5B-16.6748596260725%2C%20-49.3474423776177%5D%2C%20%5B-5.2537877353394835%2C%20-36.82984565105016%5D%2C%20%5B-29.612198217115246%2C%20-52.37399717975799%5D%2C%20%5B-4.8693256980565005%2C%20-38.100079586650324%5D%2C%20%5B-18.052897949446905%2C%20-43.323472773052806%5D%2C%20%5B-11.292085434909572%2C%20-60.843466984391284%5D%2C%20%5B-29.644149105994323%2C%20-50.99932827591687%5D%2C%20%5B-3.7110933909466386%2C%20-38.409581599289005%5D%2C%20%5B-7.922786659610369%2C%20-34.78733015572277%5D%2C%20%5B-18.401027312443496%2C%20-42.565927889016834%5D%2C%20%5B-25.28698661968488%2C%20-52.09439999505286%5D%2C%20%5B-10.82211180757233%2C%20-36.93060500543413%5D%2C%20%5B-9.44454708133302%2C%20-37.80859447607423%5D%2C%20%5B-20.294721390584545%2C%20-42.73750427890405%5D%2C%20%5B-15.405416841452691%2C%20-50.38710358664154%5D%2C%20%5B-18.255099010399913%2C%20-42.895459265460794%5D%2C%20%5B-5.088805695718118%2C%20-36.92198435636012%5D%2C%20%5B-4.64464092492145%2C%20-37.788609213039166%5D%2C%20%5B-5.503356215621698%2C%20-37.055457774737036%5D%2C%20%5B-4.614068173833779%2C%20-37.72963199268489%5D%2C%20%5B-4.93662499224178%2C%20-38.43186561805604%5D%2C%20%5B-8.76911976873529%2C%20-63.890618588833675%5D%2C%20%5B-5.635953600057891%2C%20-37.78068353742777%5D%2C%20%5B-30.060028722801583%2C%20-51.17952672725036%5D%2C%20%5B-18.55589322987107%2C%20-46.44157228027068%5D%2C%20%5B-4.135640134120123%2C%20-40.56259236252685%5D%2C%20%5B-3.950106633278285%2C%20-39.483925408224316%5D%2C%20%5B-5.1371068024176045%2C%20-37.999856734617325%5D%2C%20%5B-5.171219998978369%2C%20-37.4061738679106%5D%2C%20%5B-19.75096041627238%2C%20-47.92904259193386%5D%2C%20%5B-4.506781117561834%2C%20-37.765099728134835%5D%2C%20%5B-21.032799013143308%2C%20-41.69429270845045%5D%2C%20%5B-18.951184728784657%2C%20-48.181763836338924%5D%2C%20%5B-28.417710498195692%2C%20-50.792038416218475%5D%2C%20%5B-21.736983020201706%2C%20-48.06086709639763%5D%2C%20%5B-22.50163984479297%2C%20-43.43312416244361%5D%2C%20%5B-28.70249295557254%2C%20-55.77635495686836%5D%2C%20%5B-4.349008531957301%2C%20-40.1061271983753%5D%2C%20%5B-5.254465122280048%2C%20-37.301839408956006%5D%2C%20%5B-15.661885088152411%2C%20-49.44592191698892%5D%2C%20%5B-8.740465035533608%2C%20-63.83397068002031%5D%2C%20%5B-15.31417562075565%2C%20-48.99427813375973%5D%2C%20%5B2.761386556953873%2C%20-60.70350756365561%5D%2C%20%5B-7.079259929353629%2C%20-49.89270262069867%5D%2C%20%5B-5.156767859382845%2C%20-37.32412948815525%5D%2C%20%5B-7.112343149561069%2C%20-41.47403501533113%5D%2C%20%5B-14.500325561011048%2C%20-58.10647199061676%5D%2C%20%5B-16.481548172036394%2C%20-39.16831604531251%5D%2C%20%5B-32.158518150192755%2C%20-52.212435927392946%5D%2C%20%5B-10.901349184761939%2C%20-61.96719425090018%5D%2C%20%5B-17.883368393823268%2C%20-42.91835089212288%5D%2C%20%5B-15.934778014955596%2C%20-43.38590197966066%5D%2C%20%5B-28.689115743666274%2C%20-55.81401732613435%5D%2C%20%5B-7.071207410055118%2C%20-46.18721572223019%5D%2C%20%5B-28.42389144105219%2C%20-50.93527328822655%5D%2C%20%5B-18.617115574216363%2C%20-43.50784377638193%5D%2C%20%5B-18.89359745278191%2C%20-48.26790189922952%5D%2C%20%5B-19.606674771012603%2C%20-46.95977153695488%5D%2C%20%5B-16.27705587534448%2C%20-57.80695835872399%5D%2C%20%5B-18.854629678085708%2C%20-41.94173410023823%5D%2C%20%5B-18.14659108173595%2C%20-43.56709892031277%5D%2C%20%5B-3.694810840957679%2C%20-40.932165967222424%5D%2C%20%5B-23.36100955699336%2C%20-52.0262372278637%5D%2C%20%5B-18.672169320576998%2C%20-40.73661813713646%5D%2C%20%5B-6.731271677347067%2C%20-35.47792369996531%5D%2C%20%5B-8.10038929766511%2C%20-34.88245152507072%5D%2C%20%5B-23.98810921593871%2C%20-51.84774780025289%5D%2C%20%5B-5.156767859382845%2C%20-37.32412948815525%5D%2C%20%5B-5.282197924418964%2C%20-37.30017847745541%5D%2C%20%5B-14.326978385850456%2C%20-51.95395609960554%5D%2C%20%5B-18.38330514003189%2C%20-40.120326567236%5D%2C%20%5B-16.376332166706508%2C%20-48.9328366464701%5D%2C%20%5B-7.9452302483722725%2C%20-37.04005608808008%5D%2C%20%5B-13.985582469263226%2C%20-39.75927462444877%5D%2C%20%5B-10.841930392115964%2C%20-69.12167455129183%5D%2C%20%5B-14.391158140095891%2C%20-58.12397856876405%5D%2C%20%5B-22.116750510475843%2C%20-49.96523094306356%5D%2C%20%5B-22.912559632430625%2C%20-43.407287240926586%5D%2C%20%5B-8.852307032891686%2C%20-63.86191743699192%5D%2C%20%5B-5.094549859857473%2C%20-37.633419335236475%5D%2C%20%5B-5.248803172517881%2C%20-38.01388271668373%5D%2C%20%5B-4.860438418421241%2C%20-37.765416693487005%5D%2C%20%5B-10.190213915354981%2C%20-48.366467595037896%5D%2C%20%5B-1.4536701381717485%2C%20-48.28458953077696%5D%2C%20%5B-8.358242483440367%2C%20-70.42185278934467%5D%2C%20%5B-5.023599901038419%2C%20-37.567980645354496%5D%2C%20%5B-6.290828521037521%2C%20-47.571679157239224%5D%2C%20%5B-5.721522661459162%2C%20-37.63271971078557%5D%2C%20%5B-3.23732284469112%2C%20-42.48140116635908%5D%2C%20%5B-22.08351261110152%2C%20-41.353383595881596%5D%2C%20%5B-9.6518982141086%2C%20-63.410621928862945%5D%2C%20%5B-25.411287658397438%2C%20-49.232245990376875%5D%2C%20%5B-8.064821683994715%2C%20-34.91154199509152%5D%2C%20%5B-5.143945330543202%2C%20-37.36813635708284%5D%2C%20%5B-4.8287202083856%2C%20-38.05127296642818%5D%2C%20%5B-12.91995700227275%2C%20-42.15003154539902%5D%2C%20%5B-20.537781743807372%2C%20-54.604735720612744%5D%2C%20%5B-16.029844813713368%2C%20-51.43876884321758%5D%2C%20%5B-5.2317361101547775%2C%20-40.75380102036678%5D%2C%20%5B-18.471093639720774%2C%20-50.43690351447212%5D%2C%20%5B-22.77981857017405%2C%20-42.11068215865958%5D%2C%20%5B-22.621970077476583%2C%20-50.41391174975299%5D%2C%20%5B-27.556055982142997%2C%20-54.2253972231211%5D%2C%20%5B-4.965565205636985%2C%20-37.7506490407695%5D%2C%20%5B-8.697078634978151%2C%20-63.96263565125537%5D%2C%20%5B-10.393736450155243%2C%20-36.380061562675216%5D%2C%20%5B-21.755673699772753%2C%20-50.36672014000114%5D%2C%20%5B-12.791246039505735%2C%20-38.435195209292274%5D%2C%20%5B-9.755872651066603%2C%20-36.12282288915718%5D%2C%20%5B-2.097933939235417%2C%20-47.21355404113007%5D%2C%20%5B-15.50741976228932%2C%20-49.99581446774161%5D%2C%20%5B-4.054231452902723%2C%20-44.212544073522174%5D%2C%20%5B-23.621126598633087%2C%20-46.37760796201524%5D%2C%20%5B-6.2439039529242555%2C%20-36.390459779668056%5D%2C%20%5B-5.056016521061155%2C%20-38.382027729479894%5D%2C%20%5B-18.065209504224065%2C%20-42.362365382144056%5D%2C%20%5B-5.276794010843008%2C%20-47.22268127207311%5D%2C%20%5B-4.546566533379376%2C%20-41.88076672841889%5D%2C%20%5B-4.773003476935604%2C%20-65.0128735109454%5D%2C%20%5B-24.520590662113307%2C%20-47.82454335425776%5D%2C%20%5B-24.932184151368435%2C%20-53.58339347132941%5D%2C%20%5B-3.0493267123651018%2C%20-42.04057603152051%5D%2C%20%5B-8.731775791266367%2C%20-63.746171267548355%5D%2C%20%5B-3.18119174818811%2C%20-42.50848034880894%5D%2C%20%5B-29.81470060952055%2C%20-55.65076755549566%5D%2C%20%5B-5.112013811913717%2C%20-38.0435305601314%5D%2C%20%5B-8.737595355783615%2C%20-63.84120167923593%5D%2C%20%5B-17.69736989083131%2C%20-40.90436963030046%5D%2C%20%5B-23.484174531312796%2C%20-52.782976040725735%5D%2C%20%5B-5.13887660853937%2C%20-38.537792080273015%5D%2C%20%5B-23.04030425072996%2C%20-54.10697086914814%5D%2C%20%5B-4.852409764436519%2C%20-37.91418831914764%5D%2C%20%5B-6.995417453149414%2C%20-42.222858283073286%5D%2C%20%5B-5.627305876814478%2C%20-37.81404648571798%5D%2C%20%5B-5.1718047374398735%2C%20-37.31728090733981%5D%2C%20%5B-11.432341640853297%2C%20-41.075680049604685%5D%2C%20%5B-9.956063915758167%2C%20-63.139208125342904%5D%2C%20%5B-3.1532689683871538%2C%20-60.042662726682806%5D%2C%20%5B-23.610973557965377%2C%20-49.77722207543254%5D%2C%20%5B-5.201500766258088%2C%20-37.956849500136876%5D%2C%20%5B-23.101614419743147%2C%20-44.352994114354715%5D%2C%20%5B-16.68060115844049%2C%20-39.991534290594075%5D%2C%20%5B-8.743156811814554%2C%20-36.290381926680546%5D%2C%20%5B-3.9363331659980543%2C%20-38.60547812309178%5D%2C%20%5B-5.136422782744014%2C%20-37.33956712971683%5D%2C%20%5B-6.143369966986411%2C%20-42.21589867250047%5D%2C%20%5B-20.5552956444112%2C%20-55.413319751259706%5D%2C%20%5B-22.949782760988015%2C%20-43.40320731696828%5D%2C%20%5B-16.470225872538432%2C%20-42.13212952737746%5D%2C%20%5B-4.493617306653444%2C%20-37.79527287545938%5D%2C%20%5B-21.26781188224033%2C%20-50.35814220305074%5D%2C%20%5B-8.942642165154535%2C%20-37.53158307600742%5D%2C%20%5B-27.80120138450162%2C%20-54.34471165347874%5D%2C%20%5B-5.143945330543202%2C%20-37.36813635708284%5D%2C%20%5B-10.385751285902186%2C%20-45.09009391787463%5D%2C%20%5B-3.976271842647575%2C%20-41.595867976708234%5D%2C%20%5B-17.062103952764367%2C%20-41.50559658921008%5D%2C%20%5B-11.395654194686044%2C%20-61.405840890864305%5D%2C%20%5B-5.966549026081715%2C%20-40.257620906661096%5D%2C%20%5B-18.681764167035332%2C%20-47.52733142221452%5D%2C%20%5B-22.16146728455021%2C%20-46.663325445692536%5D%2C%20%5B-21.250715531299093%2C%20-47.74588287653986%5D%2C%20%5B-7.072871217782028%2C%20-39.681955646092035%5D%2C%20%5B-20.599346440314527%2C%20-41.16313695422993%5D%2C%20%5B-5.869564527579729%2C%20-35.288864633159065%5D%2C%20%5B-5.13887660853937%2C%20-38.537792080273015%5D%2C%20%5B-5.27883868034378%2C%20-37.361297483475916%5D%2C%20%5B-3.2903584099549934%2C%20-40.58399486804891%5D%2C%20%5B-10.000233376547117%2C%20-62.951951394647736%5D%2C%20%5B-5.018270957065258%2C%20-38.55815799454142%5D%2C%20%5B-22.929448311236648%2C%20-43.31696867141561%5D%2C%20%5B-25.588431739827165%2C%20-54.485316984173124%5D%2C%20%5B-10.840659161720822%2C%20-69.49839319385207%5D%2C%20%5B-21.743219825239194%2C%20-43.40130434174855%5D%2C%20%5B-11.376743579372157%2C%20-41.64212550993364%5D%2C%20%5B-20.44521541856682%2C%20-54.55714375328896%5D%2C%20%5B-3.132453857291032%2C%20-60.043288204519975%5D%2C%20%5B-20.218913074297063%2C%20-50.63393773024084%5D%2C%20%5B-19.787877842714323%2C%20-48.06350298457453%5D%2C%20%5B-3.0155846210328217%2C%20-60.08150655522372%5D%2C%20%5B-7.979090665550145%2C%20-38.31513469943569%5D%2C%20%5B-4.909804282006006%2C%20-38.21371730243893%5D%2C%20%5B-5.767161678020642%2C%20-37.59803085658073%5D%2C%20%5B-15.162402642959265%2C%20-42.44201281717424%5D%2C%20%5B-24.047087240718348%2C%20-46.945131597794386%5D%2C%20%5B-13.866511539776962%2C%20-42.7343858678392%5D%2C%20%5B-5.930785692346785%2C%20-35.145640917900025%5D%2C%20%5B-22.865622054661504%2C%20-41.98116103990955%5D%2C%20%5B-5.100202335254815%2C%20-38.515431486158576%5D%2C%20%5B-22.781465247430308%2C%20-49.46898313424766%5D%2C%20%5B-17.498976527540012%2C%20-39.25105707163466%5D%2C%20%5B-5.120123058334919%2C%20-38.02889845725255%5D%2C%20%5B-4.658158574877572%2C%20-49.193349211352974%5D%2C%20%5B-5.340742100208212%2C%20-38.05210155700905%5D%2C%20%5B-32.051542847388625%2C%20-52.18705706973251%5D%2C%20%5B-9.992239065614655%2C%20-67.87721870094921%5D%2C%20%5B-14.856088509643413%2C%20-49.28738366649138%5D%2C%20%5B-6.941215611324258%2C%20-42.30867332277402%5D%2C%20%5B-17.764327736509934%2C%20-42.89450386947859%5D%2C%20%5B-2.410104567362839%2C%20-44.232292130118246%5D%2C%20%5B-20.22246578664939%2C%20-40.21035356083206%5D%2C%20%5B-18.6299179486452%2C%20-46.44670036285504%5D%2C%20%5B-3.8448721333597864%2C%20-41.71439592503514%5D%2C%20%5B-5.767161678020642%2C%20-37.59803085658073%5D%2C%20%5B-5.046465326771964%2C%20-37.95880161494801%5D%2C%20%5B-4.891558992329904%2C%20-38.08870997014607%5D%2C%20%5B-21.375186592342317%2C%20-46.39827647563125%5D%2C%20%5B-16.75578461647104%2C%20-49.17243961508584%5D%2C%20%5B-22.236616737776817%2C%20-42.551361756716%5D%2C%20%5B-23.150018251219187%2C%20-50.302740681192226%5D%2C%20%5B-5.230424878911747%2C%20-37.41397894581111%5D%2C%20%5B-17.231508264021734%2C%20-48.97956914701119%5D%2C%20%5B-20.266440721372874%2C%20-44.93126262327755%5D%2C%20%5B-23.516932118469146%2C%20-46.51342602315966%5D%2C%20%5B-22.926198052929443%2C%20-47.063336056089966%5D%2C%20%5B-20.70894701661177%2C%20-47.75623057194135%5D%2C%20%5B-23.363185136918094%2C%20-47.408078032019674%5D%2C%20%5B-5.069750103520947%2C%20-37.27593129104922%5D%2C%20%5B-20.36909133972657%2C%20-40.28325387656516%5D%2C%20%5B-5.679082639209372%2C%20-35.30674183367691%5D%2C%20%5B-7.733908188056493%2C%20-35.3468091469099%5D%2C%20%5B-18.411667207052563%2C%20-49.27464283723231%5D%2C%20%5B-16.04877498307767%2C%20-42.16457522413476%5D%2C%20%5B-2.911724440854221%2C%20-41.7600409969062%5D%2C%20%5B-16.151394087589207%2C%20-40.82856026913232%5D%2C%20%5B-9.868753712776561%2C%20-63.06879101309249%5D%2C%20%5B-4.5972780831735145%2C%20-40.85348862525402%5D%2C%20%5B-23.78707671946419%2C%20-46.668450553224%5D%2C%20%5B-22.47658760046554%2C%20-42.76990194490561%5D%2C%20%5B-18.160173640983153%2C%20-42.32800538597584%5D%2C%20%5B-20.454974440547563%2C%20-54.535400929030146%5D%2C%20%5B-3.952607667679449%2C%20-48.852278320008196%5D%2C%20%5B-5.6207130262310585%2C%20-37.77165281571188%5D%2C%20%5B-13.009655018975309%2C%20-46.5046578362399%5D%2C%20%5B-1.2980906700662387%2C%20-48.43938958181298%5D%2C%20%5B-23.63944560441101%2C%20-51.379461754856216%5D%2C%20%5B-22.3114929070067%2C%20-41.805404818551374%5D%2C%20%5B-22.473460700959166%2C%20-41.812850912314616%5D%2C%20%5B-4.813289063388138%2C%20-37.8729874928375%5D%2C%20%5B-23.021569426589313%2C%20-50.00184675392537%5D%2C%20%5B-4.891558992329904%2C%20-38.08870997014607%5D%2C%20%5B-23.638532110353314%2C%20-46.373494478747126%5D%2C%20%5B-18.4806008495158%2C%20-42.87277707388176%5D%2C%20%5B-7.254449872713578%2C%20-38.96890015661923%5D%2C%20%5B-8.4516538085858%2C%20-38.18567740867356%5D%2C%20%5B-4.967777317901262%2C%20-38.584761354866544%5D%2C%20%5B-12.807404282792548%2C%20-38.42188089151444%5D%2C%20%5B-5.0416207865134055%2C%20-38.47679779183559%5D%2C%20%5B-10.506288480073113%2C%20-62.217107889799266%5D%2C%20%5B-23.48532101625982%2C%20-46.5362248145686%5D%2C%20%5B-5.110877435034868%2C%20-37.61946663428583%5D%2C%20%5B-7.9218080289458355%2C%20-38.792269946906295%5D%2C%20%5B-4.861984290006453%2C%20-38.17061007871186%5D%2C%20%5B-8.662169540114885%2C%20-63.859520337322806%5D%2C%20%5B-29.91425251546746%2C%20-51.147500277297574%5D%2C%20%5B-10.322525251658423%2C%20-37.05136808670141%5D%2C%20%5B-24.364241311814514%2C%20-49.66590877442902%5D%2C%20%5B-15.390501483455454%2C%20-56.18952533509407%5D%2C%20%5B-8.750050682468974%2C%20-63.8421987748847%5D%2C%20%5B-18.59890353997414%2C%20-41.063223060408596%5D%2C%20%5B-16.999932172315802%2C%20-39.74139096564082%5D%2C%20%5B-22.881777786003994%2C%20-43.061559265880426%5D%2C%20%5B-10.559198439001781%2C%20-48.58061727225244%5D%2C%20%5B-4.821337991110021%2C%20-38.20179142110958%5D%2C%20%5B-5.779999079420638%2C%20-38.9976329896274%5D%2C%20%5B-17.832379619711926%2C%20-42.876829500673324%5D%2C%20%5B-9.038513866203404%2C%20-42.623036303413826%5D%2C%20%5B-8.783892553151922%2C%20-63.84740393424022%5D%2C%20%5B-11.75633105447088%2C%20-41.76391881010179%5D%2C%20%5B-5.24731151254488%2C%20-37.333527288151295%5D%2C%20%5B-10.178438088624025%2C%20-48.37081864025071%5D%2C%20%5B-8.74389740690132%2C%20-63.886633352988014%5D%2C%20%5B-23.484434223089334%2C%20-49.90805516757234%5D%2C%20%5B-5.24731151254488%2C%20-37.333527288151295%5D%2C%20%5B-3.2832490993377452%2C%20-39.62687985830124%5D%2C%20%5B-3.124539248743306%2C%20-41.5209869736953%5D%2C%20%5B-15.490389321374245%2C%20-56.1926606933015%5D%2C%20%5B-6.497178596518659%2C%20-43.89118874580138%5D%2C%20%5B-15.416625000706306%2C%20-44.79005890440393%5D%2C%20%5B-8.696247131955356%2C%20-37.364410389839456%5D%2C%20%5B-7.637720557408336%2C%20-37.20026458366026%5D%2C%20%5B-26.682271953991663%2C%20-53.47909790472415%5D%2C%20%5B-9.29492198722815%2C%20-60.16072413706133%5D%2C%20%5B-24.490046304001734%2C%20-53.62732769056361%5D%2C%20%5B-8.752704998450008%2C%20-63.85925420298347%5D%2C%20%5B-4.858051822474895%2C%20-38.176284383414796%5D%2C%20%5B-22.863494720986793%2C%20-41.95695694222295%5D%2C%20%5B-16.81928379461769%2C%20-49.35657089462874%5D%2C%20%5B-14.888225738212087%2C%20-50.50403189011205%5D%2C%20%5B-21.69683316925667%2C%20-43.43710250426857%5D%2C%20%5B-19.07337941430958%2C%20-57.69886271362345%5D%2C%20%5B-14.258534748747964%2C%20-42.36008592308238%5D%2C%20%5B-11.692476105740285%2C%20-61.74006316641748%5D%2C%20%5B-5.091713058055317%2C%20-37.747616502677886%5D%2C%20%5B-4.203193078106312%2C%20-42.298123370886714%5D%2C%20%5B-8.053966450049941%2C%20-34.907414639393664%5D%2C%20%5B-3.684339149270728%2C%20-40.404834188518656%5D%2C%20%5B-20.916445024142316%2C%20-43.75839387342636%5D%2C%20%5B-20.29959636300575%2C%20-51.677085756618744%5D%2C%20%5B-23.30708297005422%2C%20-45.970676261869066%5D%2C%20%5B-16.75953934914397%2C%20-43.93623428120455%5D%2C%20%5B-4.877067591542176%2C%20-38.142477804480635%5D%2C%20%5B-24.272938598489354%2C%20-47.57521703636957%5D%2C%20%5B-5.114605841729501%2C%20-42.819982294054284%5D%2C%20%5B-18.161104745287034%2C%20-40.00709862334612%5D%2C%20%5B-8.981179374593573%2C%20-63.4817599112312%5D%2C%20%5B-28.79258594225769%2C%20-52.43525961036266%5D%2C%20%5B-19.347076577212817%2C%20-39.9822569160171%5D%2C%20%5B-19.062707682639434%2C%20-50.59323789195678%5D%2C%20%5B-2.935262088723292%2C%20-60.038577553892296%5D%2C%20%5B-13.016524633868285%2C%20-39.57280747672924%5D%2C%20%5B-22.177983874755%2C%20-42.68151008910246%5D%2C%20%5B-9.462322732175215%2C%20-40.54602189942741%5D%2C%20%5B-23.462475239830805%2C%20-49.00703312065255%5D%2C%20%5B-19.11733262631957%2C%20-43.303389036375144%5D%2C%20%5B-7.1122621991100345%2C%20-37.25644027066938%5D%2C%20%5B-23.52911585317779%2C%20-49.288503025994885%5D%2C%20%5B-22.94203988053634%2C%20-47.15188063458407%5D%2C%20%5B-8.22233532084793%2C%20-49.50121178682314%5D%2C%20%5B-11.03421263340096%2C%20-38.7932664817003%5D%2C%20%5B-5.637766004571994%2C%20-37.879380761226734%5D%2C%20%5B-5.235455482128184%2C%20-37.337212904276186%5D%2C%20%5B-18.160173640983153%2C%20-42.32800538597584%5D%2C%20%5B-5.019906478716187%2C%20-37.68537746513003%5D%2C%20%5B-16.684710025374873%2C%20-49.36121463324716%5D%2C%20%5B-9.402625098545375%2C%20-40.4739129533307%5D%2C%20%5B-31.41148089570138%2C%20-54.1286437951182%5D%2C%20%5B-5.329413686639041%2C%20-38.26583609066566%5D%2C%20%5B-12.502504944932165%2C%20-41.33101192504831%5D%2C%20%5B-17.477084365232173%2C%20-44.73088991391599%5D%2C%20%5B-5.2050255301567425%2C%20-37.44516381121989%5D%2C%20%5B-15.959220522572004%2C%20-42.15572926157678%5D%2C%20%5B-26.697229362835696%2C%20-51.020068475363914%5D%2C%20%5B-18.87291812218097%2C%20-48.250211341302695%5D%2C%20%5B-23.602783436154162%2C%20-46.530826370674575%5D%2C%20%5B-12.771204693296342%2C%20-38.35822792378223%5D%2C%20%5B-4.895953048232153%2C%20-38.06107729571794%5D%2C%20%5B-22.81750029185392%2C%20-42.04465994368519%5D%2C%20%5B-25.098916503609622%2C%20-51.02287806523166%5D%2C%20%5B-12.17204060602292%2C%20-46.02197164044198%5D%2C%20%5B-8.541898992550689%2C%20-40.96236462232715%5D%2C%20%5B-16.498739548241733%2C%20-54.57645746732321%5D%2C%20%5B-20.145502229588754%2C%20-40.21519103659255%5D%2C%20%5B-5.3770991939815955%2C%20-49.05875482222339%5D%2C%20%5B-14.342470483799055%2C%20-58.107674794626185%5D%2C%20%5B-5.087247111455202%2C%20-38.46671311696037%5D%2C%20%5B-15.895729914322438%2C%20-48.64866396455085%5D%2C%20%5B-23.765978277970042%2C%20-53.252641848728814%5D%2C%20%5B-22.567416775420078%2C%20-55.734878098308634%5D%2C%20%5B-15.278832704887895%2C%20-43.635204874394816%5D%2C%20%5B-4.8613344790155315%2C%20-38.03965575326092%5D%2C%20%5B-18.56116916783287%2C%20-43.62069520996792%5D%2C%20%5B-22.985056258579906%2C%20-46.91828332780557%5D%2C%20%5B-6.470378611467729%2C%20-37.02358170526223%5D%2C%20%5B-13.07286164069984%2C%20-38.500933395541296%5D%2C%20%5B-4.624426468611245%2C%20-44.44930976405265%5D%2C%20%5B-23.017307730410227%2C%20-45.399703868753996%5D%2C%20%5B-23.327329538202967%2C%20-45.96009276221948%5D%2C%20%5B-28.292762926635024%2C%20-50.01609488818343%5D%2C%20%5B-14.147724136557194%2C%20-49.67840884445058%5D%2C%20%5B-29.784308738041215%2C%20-51.07020128670988%5D%2C%20%5B-10.882341902838128%2C%20-37.22036263758493%5D%2C%20%5B-16.029844813713368%2C%20-51.43876884321758%5D%2C%20%5B-21.710576116484226%2C%20-46.41660643364375%5D%2C%20%5B-17.549606049260106%2C%20-52.59447068306989%5D%2C%20%5B-5.865002115546082%2C%20-37.65624181203397%5D%2C%20%5B-15.3645823522818%2C%20-44.78041592589753%5D%2C%20%5B-19.054474382670687%2C%20-57.76134777201895%5D%2C%20%5B-16.621949401958236%2C%20-49.185944411544256%5D%2C%20%5B-5.290454876828418%2C%20-38.21744117461137%5D%2C%20%5B-8.612745395570881%2C%20-37.32410879827467%5D%2C%20%5B-22.79777709891932%2C%20-47.18071670264195%5D%2C%20%5B-3.7137025608590095%2C%20-40.49934922447582%5D%2C%20%5B-2.5702475328136583%2C%20-44.157321546570174%5D%2C%20%5B-8.37692073864038%2C%20-46.36241291469665%5D%2C%20%5B-21.608469316630515%2C%20-41.191620864772034%5D%2C%20%5B-4.799162672499147%2C%20-37.840518394482274%5D%2C%20%5B-15.344395460548016%2C%20-42.303805948791364%5D%2C%20%5B-21.054900622338398%2C%20-45.64506432364618%5D%2C%20%5B-20.33081802648113%2C%20-41.61175009968742%5D%2C%20%5B-15.364190603839331%2C%20-41.21294886887819%5D%2C%20%5B-5.217671600913036%2C%20-37.32185972680919%5D%2C%20%5B-24.93031772317376%2C%20-53.44178750708886%5D%2C%20%5B-18.12368484243195%2C%20-43.614998453982274%5D%2C%20%5B-4.8287202083856%2C%20-38.05127296642818%5D%2C%20%5B-14.335524975604995%2C%20-58.07224876924629%5D%2C%20%5B-5.338641448381293%2C%20-35.52426108788517%5D%2C%20%5B-22.967085281970814%2C%20-43.98897161657392%5D%2C%20%5B-4.726891503702049%2C%20-40.8066735488201%5D%2C%20%5B-6.292284586440905%2C%20-50.59475199423942%5D%2C%20%5B-8.723440707527136%2C%20-63.84917193374359%5D%2C%20%5B-4.847132783695686%2C%20-37.21872215313916%5D%2C%20%5B-1.7721404400495164%2C%20-45.548146747277094%5D%2C%20%5B-29.64554036064455%2C%20-53.72878675690725%5D%2C%20%5B-5.721522661459162%2C%20-37.63271971078557%5D%2C%20%5B-24.678108450545597%2C%20-51.20493495346149%5D%2C%20%5B-6.363862657327213%2C%20-36.68175238490614%5D%2C%20%5B-5.120850472502915%2C%20-42.793905260921704%5D%2C%20%5B-23.46419711302321%2C%20-51.964569228014696%5D%2C%20%5B-16.828557925890866%2C%20-43.926614423698425%5D%2C%20%5B-22.097245959737776%2C%20-53.88925633853523%5D%2C%20%5B-24.202541966985056%2C%20-49.47068444982522%5D%2C%20%5B-23.205926421801056%2C%20-46.91135814468569%5D%2C%20%5B-8.618488718331074%2C%20-37.65777554722255%5D%2C%20%5B-5.185759537225797%2C%20-38.00714118004797%5D%2C%20%5B-22.579277350271568%2C%20-43.84867312834481%5D%2C%20%5B0.1517284131627824%2C%20-51.10985861879707%5D%2C%20%5B-16.703371393964716%2C%20-49.256202976070306%5D%2C%20%5B-22.21474875126195%2C%20-42.5611237453835%5D%2C%20%5B-26.32515717621771%2C%20-48.77640042161575%5D%2C%20%5B-19.045089244256843%2C%20-57.7201152819299%5D%2C%20%5B-17.467957414084346%2C%20-44.808674209948954%5D%2C%20%5B-24.885900881586764%2C%20-53.41129192339562%5D%2C%20%5B-4.903919425052002%2C%20-38.43094471292153%5D%2C%20%5B-9.887488622199667%2C%20-39.43854300385778%5D%2C%20%5B-4.91757089624029%2C%20-38.055854728164825%5D%2C%20%5B-5.1786087675239205%2C%20-37.39244087644481%5D%2C%20%5B-5.823475023148654%2C%20-37.865580361579916%5D%2C%20%5B-22.843880039699574%2C%20-47.1818606292751%5D%2C%20%5B-9.547034627704393%2C%20-42.49259881336425%5D%2C%20%5B-22.015625553972818%2C%20-42.34823778900306%5D%2C%20%5B-15.30377886369188%2C%20-49.58990006510712%5D%2C%20%5B-8.802511983464921%2C%20-63.917125535539654%5D%2C%20%5B-22.901329279285324%2C%20-44.44392825430515%5D%2C%20%5B-8.735640439555262%2C%20-63.78415561053887%5D%2C%20%5B-7.7349807312607135%2C%20-72.46780764541994%5D%2C%20%5B-21.96847817755807%2C%20-45.262732293456075%5D%2C%20%5B-5.243310216742276%2C%20-36.80760481588552%5D%2C%20%5B-24.308652077367338%2C%20-53.74415891038857%5D%2C%20%5B-5.635953600057891%2C%20-37.78068353742777%5D%2C%20%5B-5.239688856853822%2C%20-37.3393625862966%5D%2C%20%5B-18.7689890085531%2C%20-42.80058266851485%5D%2C%20%5B-4.202848983539541%2C%20-40.5547713634%5D%2C%20%5B-4.32490558039646%2C%20-40.52025204626446%5D%2C%20%5B-15.313256907365393%2C%20-40.04322385819173%5D%2C%20%5B-28.256087621539265%2C%20-52.90258119486003%5D%2C%20%5B-20.255416406963153%2C%20-43.7826873838004%5D%2C%20%5B-8.798199562346282%2C%20-63.8355068826976%5D%2C%20%5B-18.137974831097686%2C%20-40.28508609688347%5D%2C%20%5B-14.048957993201263%2C%20-39.60453536813273%5D%2C%20%5B-11.021955809001506%2C%20-62.509264069553346%5D%2C%20%5B-21.867886822699514%2C%20-44.582542520472714%5D%2C%20%5B-4.811876695441778%2C%20-38.12667140753789%5D%2C%20%5B-17.63307890907178%2C%20-54.50497723037719%5D%2C%20%5B-21.5941860698959%2C%20-41.721600150434064%5D%2C%20%5B-5.686955342992636%2C%20-37.766515710366754%5D%2C%20%5B-4.695585705422429%2C%20-37.91800933809123%5D%2C%20%5B-23.04440951429487%2C%20-51.48754448581794%5D%2C%20%5B-14.391158140095891%2C%20-58.12397856876405%5D%2C%20%5B-4.218020839283547%2C%20-40.90793381407309%5D%2C%20%5B-31.855020896819582%2C%20-52.29947187123755%5D%2C%20%5B-23.111771703545696%2C%20-45.83925639319779%5D%2C%20%5B-8.576364892866488%2C%20-36.33247655569849%5D%2C%20%5B-3.222826596614694%2C%20-40.2492491028274%5D%2C%20%5B-21.688606756149227%2C%20-46.38360391942236%5D%2C%20%5B0.008339005856631394%2C%20-51.025428298418014%5D%2C%20%5B-25.782427282170907%2C%20-53.111785832442074%5D%2C%20%5B-24.042201319807997%2C%20-46.32497920575733%5D%2C%20%5B-7.9801649407182005%2C%20-34.83447950816943%5D%2C%20%5B-5.342018014430866%2C%20-38.05562275971885%5D%2C%20%5B-22.697981162032104%2C%20-45.037270121621724%5D%2C%20%5B-5.594215362303498%2C%20-36.816476986695825%5D%2C%20%5B-8.7475919264501%2C%20-63.90683186984268%5D%2C%20%5B-11.892695162369932%2C%20-55.53730761898366%5D%2C%20%5B-22.0203207023376%2C%20-50.70858020558354%5D%2C%20%5B-4.554346426273236%2C%20-37.71905720646876%5D%2C%20%5B-16.70896401404475%2C%20-43.900343280243796%5D%2C%20%5B-3.9600369979104264%2C%20-44.46034624386531%5D%2C%20%5B-9.920034254879976%2C%20-63.03475501565577%5D%2C%20%5B-14.05407496723488%2C%20-39.65167854752725%5D%2C%20%5B-25.357258372991588%2C%20-51.423798351344935%5D%2C%20%5B-21.173593012953333%2C%20-57.2892110692855%5D%2C%20%5B-1.410140234917527%2C%20-48.46487344422444%5D%2C%20%5B-5.03746732792373%2C%20-38.51086003356812%5D%2C%20%5B-6.8154808648793885%2C%20-37.76172304712214%5D%2C%20%5B-26.453061033749098%2C%20-49.09171369280523%5D%2C%20%5B-9.460022394415006%2C%20-36.31478949111793%5D%2C%20%5B-12.411597858521628%2C%20-40.90808561478108%5D%2C%20%5B-7.759617408098239%2C%20-72.54570050393826%5D%2C%20%5B-23.337327080716634%2C%20-51.864968657728596%5D%2C%20%5B-17.777037395712277%2C%20-50.58737857294695%5D%2C%20%5B-9.300073323209004%2C%20-37.25422111117518%5D%2C%20%5B-12.73285590558714%2C%20-38.3029071553863%5D%2C%20%5B-32.074738315929665%2C%20-52.96301001239358%5D%2C%20%5B-3.103547632806273%2C%20-59.931902991144554%5D%2C%20%5B-17.886813471806946%2C%20-40.45506745163667%5D%2C%20%5B-21.057395101431418%2C%20-47.90454785302892%5D%2C%20%5B-4.655420219929132%2C%20-37.790342083163864%5D%2C%20%5B-10.209676315756562%2C%20-48.872723905795795%5D%2C%20%5B-9.995441164632297%2C%20-63.04402807656932%5D%2C%20%5B-5.0873260291693985%2C%20-37.62879331582293%5D%2C%20%5B-15.810758479740514%2C%20-48.0031877059123%5D%2C%20%5B-28.446946896912554%2C%20-49.02513963419109%5D%2C%20%5B-20.36599394730536%2C%20-40.349095734081004%5D%2C%20%5B-4.852409764436519%2C%20-37.91418831914764%5D%2C%20%5B-12.49800591806857%2C%20-40.27126479436327%5D%2C%20%5B-8.007797234348669%2C%20-34.94172554988034%5D%2C%20%5B-3.3771062174472157%2C%20-39.64690922110196%5D%2C%20%5B-5.0873260291693985%2C%20-37.62879331582293%5D%2C%20%5B-5.191399615827127%2C%20-37.38612240776534%5D%2C%20%5B-22.724637430779115%2C%20-43.31870141142574%5D%2C%20%5B-19.699260125499936%2C%20-47.94116127673667%5D%2C%20%5B-8.062780018840025%2C%20-35.060356807884894%5D%2C%20%5B-1.1988235181476345%2C%20-50.54833768943735%5D%2C%20%5B-16.35774155341745%2C%20-39.587148727783934%5D%2C%20%5B-5.122707476943997%2C%20-37.24435146744084%5D%2C%20%5B-12.936985867047685%2C%20-38.48070787906079%5D%2C%20%5B-8.852369385822845%2C%20-63.839422550216916%5D%2C%20%5B-6.988982759112994%2C%20-41.42662803719418%5D%2C%20%5B-5.618724306389648%2C%20-37.76118896158612%5D%2C%20%5B-5.005128303714807%2C%20-36.991556884290844%5D%2C%20%5B-20.80459859233955%2C%20-49.340759907001946%5D%2C%20%5B-7.004051164365868%2C%20-37.304536143354305%5D%2C%20%5B-23.29902865184889%2C%20-47.81520206375155%5D%2C%20%5B-24.296719944936616%2C%20-51.15832299936117%5D%2C%20%5B-15.809850759131661%2C%20-47.90668365729622%5D%2C%20%5B-20.955534033427455%2C%20-48.51012611322784%5D%2C%20%5B-17.826771859286236%2C%20-42.8665711932125%5D%2C%20%5B-6.292284586440905%2C%20-50.59475199423942%5D%2C%20%5B-30.1462171138512%2C%20-51.18327392009333%5D%2C%20%5B-8.709008364041715%2C%20-63.901224558508844%5D%2C%20%5B-20.303212312642113%2C%20-40.3230403265442%5D%2C%20%5B-5.063333928482653%2C%20-37.535645519295926%5D%2C%20%5B-18.84966462677565%2C%20-46.98919809898656%5D%2C%20%5B-25.012370998422966%2C%20-54.32554978372349%5D%2C%20%5B-19.66052152349101%2C%20-43.00784426444032%5D%2C%20%5B-5.590981598025536%2C%20-37.269088464825806%5D%2C%20%5B-4.8894647387794485%2C%20-38.20101359894759%5D%2C%20%5B-21.84486317648889%2C%20-51.78229828976594%5D%2C%20%5B-7.070454280941156%2C%20-41.361921934918634%5D%2C%20%5B-5.117961513065902%2C%20-42.79942111961117%5D%2C%20%5B-22.544854004236555%2C%20-46.6547887872896%5D%2C%20%5B-20.530525225977044%2C%20-47.47150143311241%5D%2C%20%5B-18.160173640983153%2C%20-42.32800538597584%5D%2C%20%5B-5.158851556886167%2C%20-42.8131021795615%5D%2C%20%5B-18.211832014559587%2C%20-43.56987878678499%5D%2C%20%5B-17.92161886261939%2C%20-51.649625671564024%5D%2C%20%5B-7.028090766319398%2C%20-35.062797622608564%5D%2C%20%5B-10.375934454407309%2C%20-64.61537007963841%5D%2C%20%5B-29.686619837028275%2C%20-53.80418174412906%5D%2C%20%5B-5.201500766258088%2C%20-37.956849500136876%5D%2C%20%5B-22.11000110299027%2C%20-47.848983266461325%5D%2C%20%5B-14.623893534811684%2C%20-52.20070907407289%5D%2C%20%5B-23.0717548948678%2C%20-54.04744552982048%5D%2C%20%5B-5.881739699139764%2C%20-35.354754948019476%5D%2C%20%5B-23.34483897725023%2C%20-51.166176112587486%5D%2C%20%5B-6.012129653160236%2C%20-38.11474514560635%5D%2C%20%5B-6.318493875859052%2C%20-50.55985787013822%5D%2C%20%5B-7.720628270699518%2C%20-72.49844348609673%5D%2C%20%5B-9.923102752832007%2C%20-67.87319286836939%5D%2C%20%5B-8.819380256082948%2C%20-63.87232210789478%5D%2C%20%5B-16.205257969123295%2C%20-39.165146319389365%5D%2C%20%5B-5.789432387222263%2C%20-35.17682428322216%5D%2C%20%5B-4.847132783695686%2C%20-37.21872215313916%5D%2C%20%5B-8.831852628611147%2C%20-63.68891591642118%5D%2C%20%5B-5.257265292142374%2C%20-38.37550361973044%5D%2C%20%5B-6.1195107965293865%2C%20-49.595669353396396%5D%2C%20%5B-9.033263799754716%2C%20-63.51772118524255%5D%2C%20%5B-2.4682862177247564%2C%20-54.674808718281064%5D%2C%20%5B-9.945681923828614%2C%20-63.00258696411047%5D%2C%20%5B-22.72477734673527%2C%20-43.440319322486715%5D%2C%20%5B-5.1095472352927915%2C%20-37.25322764730727%5D%2C%20%5B-3.6314355446794013%2C%20-39.21341398982105%5D%2C%20%5B-5.23377157714395%2C%20-37.34535407178499%5D%2C%20%5B-6.019569496282199%2C%20-35.23899770634146%5D%2C%20%5B-22.415801233987274%2C%20-44.020162973482016%5D%2C%20%5B-23.074432294431727%2C%20-55.40938889285221%5D%2C%20%5B-22.865622054661504%2C%20-41.98116103990955%5D%2C%20%5B-20.39293338870171%2C%20-54.72369044287382%5D%2C%20%5B-22.018706547703943%2C%20-44.52139729310486%5D%2C%20%5B-19.606674771012603%2C%20-46.95977153695488%5D%2C%20%5B-24.32508743698896%2C%20-48.870985107837186%5D%2C%20%5B-10.887081191303324%2C%20-69.18592055547133%5D%2C%20%5B-3.915234089346574%2C%20-38.54708386611197%5D%2C%20%5B-16.480001567722546%2C%20-54.718134205617666%5D%2C%20%5B-17.87380786526756%2C%20-42.857087533433486%5D%2C%20%5B-1.1394428838484518%2C%20-50.50455143067668%5D%2C%20%5B-9.969542233427422%2C%20-67.86412337288799%5D%2C%20%5B-8.782381344017335%2C%20-48.4187376411629%5D%2C%20%5B-29.052392188302147%2C%20-51.15672831754146%5D%2C%20%5B-18.622336699195316%2C%20-43.018438486757%5D%2C%20%5B-23.585498599799944%2C%20-46.55094476260159%5D%2C%20%5B-22.818305154002655%2C%20-50.39288167703592%5D%2C%20%5B-10.635562576749217%2C%20-39.81524882823498%5D%2C%20%5B-25.384564187068477%2C%20-50.48504714534054%5D%2C%20%5B-16.66850789053665%2C%20-49.8571834206595%5D%2C%20%5B-25.521043735799307%2C%20-49.355764551280956%5D%2C%20%5B-9.617546280128165%2C%20-37.1287035304556%5D%2C%20%5B-6.610696317756065%2C%20-36.40174426237876%5D%2C%20%5B-7.665965463699889%2C%20-73.03551818050958%5D%2C%20%5B-5.157137277689412%2C%20-38.01595434740941%5D%2C%20%5B-5.625485620113778%2C%20-37.79008741885898%5D%2C%20%5B-5.075271751660963%2C%20-36.820360972878056%5D%2C%20%5B-12.905168787361319%2C%20-38.48510263274237%5D%2C%20%5B-5.202608477152548%2C%20-41.48828694522132%5D%2C%20%5B-7.7866915867030695%2C%20-72.6406609911065%5D%2C%20%5B-10.152049492741808%2C%20-37.51460721542456%5D%2C%20%5B-20.041394352775118%2C%20-41.41042703497935%5D%2C%20%5B-16.79335735950786%2C%20-49.28822502063184%5D%2C%20%5B-18.772605711227065%2C%20-42.799025631441864%5D%2C%20%5B-15.802587399990719%2C%20-48.04873429629677%5D%2C%20%5B-9.965396819177172%2C%20-67.8738668249236%5D%2C%20%5B-5.386870520958883%2C%20-38.076217877607384%5D%2C%20%5B-17.656939452906048%2C%20-42.49281050309311%5D%2C%20%5B-16.60481819434015%2C%20-41.47811105432921%5D%2C%20%5B-5.055241604527106%2C%20-37.00799158663919%5D%2C%20%5B-6.243323950167098%2C%20-36.01200165085501%5D%2C%20%5B-22.818305154002655%2C%20-50.39288167703592%5D%2C%20%5B-9.904707141620237%2C%20-43.06570510498152%5D%2C%20%5B-4.853888023144175%2C%20-38.10519654375158%5D%2C%20%5B-22.898621972992032%2C%20-42.03612513444315%5D%2C%20%5B-5.541976446800447%2C%20-38.163460236269295%5D%2C%20%5B-10.739515809872456%2C%20-61.86580265130668%5D%2C%20%5B-5.0979133781929615%2C%20-37.97233286189702%5D%2C%20%5B-6.4277656231019895%2C%20-49.8690248754954%5D%2C%20%5B-8.99241281023718%2C%20-42.63169532162267%5D%2C%20%5B-5.370715636955637%2C%20-38.068822536484085%5D%2C%20%5B-22.525067685458904%2C%20-44.071729180389084%5D%2C%20%5B-4.842150077308295%2C%20-38.16068923477706%5D%2C%20%5B-8.284328922642077%2C%20-35.89307460397349%5D%2C%20%5B-18.616718836235567%2C%20-41.11121984239929%5D%2C%20%5B-22.712948511303654%2C%20-43.36974230488107%5D%2C%20%5B-13.18253880775473%2C%20-44.16327505438783%5D%2C%20%5B-13.678119558267204%2C%20-42.975240784077506%5D%2C%20%5B-22.538282072461588%2C%20-43.98741264969998%5D%2C%20%5B-6.516665746008792%2C%20-49.88643173502834%5D%2C%20%5B-15.458402636318135%2C%20-52.7439503272353%5D%2C%20%5B-15.276680198102362%2C%20-49.19246731041996%5D%2C%20%5B-5.122707476943997%2C%20-37.24435146744084%5D%2C%20%5B-7.176729391265004%2C%20-48.14756230675742%5D%2C%20%5B-18.212825072525945%2C%20-43.57560976345304%5D%2C%20%5B-19.761689874911077%2C%20-44.015553856316565%5D%2C%20%5B-15.664532277379438%2C%20-42.459323212778244%5D%2C%20%5B-4.853888023144175%2C%20-38.10519654375158%5D%2C%20%5B-5.171219998978369%2C%20-37.4061738679106%5D%2C%20%5B-19.805827940754703%2C%20-43.9580364229828%5D%2C%20%5B-6.234659614780404%2C%20-47.626617582530635%5D%2C%20%5B-8.747882245267744%2C%20-63.85599432215651%5D%2C%20%5B-10.202531521382978%2C%20-48.388518105743465%5D%2C%20%5B-8.49055867672073%2C%20-35.54621002206644%5D%2C%20%5B-17.359334007921834%2C%20-42.856249909258466%5D%2C%20%5B-9.241936860413857%2C%20-42.99847078707982%5D%2C%20%5B-18.65869408912524%2C%20-44.315534791713425%5D%2C%20%5B-5.156925346924176%2C%20-37.48098109454731%5D%2C%20%5B-14.160097453531872%2C%20-46.43142155706401%5D%2C%20%5B-5.045738518579823%2C%20-37.598543066991816%5D%2C%20%5B-9.148359443158911%2C%20-36.0365305158463%5D%2C%20%5B2.829073982509%2C%20-60.699474476716304%5D%2C%20%5B-22.049266770858722%2C%20-51.39872230417412%5D%2C%20%5B-21.348794684258127%2C%20-44.99737907250904%5D%2C%20%5B-4.387088449084995%2C%20-38.90027936185278%5D%2C%20%5B-8.802268672963237%2C%20-63.80989884280086%5D%2C%20%5B-16.357967353601975%2C%20-54.62581009037691%5D%2C%20%5B-5.164423488858103%2C%20-37.356920426246845%5D%2C%20%5B-27.156432093861522%2C%20-52.60770624978627%5D%2C%20%5B-18.206460340970537%2C%20-43.61453254000301%5D%2C%20%5B-12.3157337137028%2C%20-54.538437482155075%5D%2C%20%5B-4.437201561111144%2C%20-38.075480288248755%5D%2C%20%5B-7.712480266736972%2C%20-62.519219425268794%5D%2C%20%5B-4.99623599882458%2C%20-38.65257699151097%5D%2C%20%5B-28.12568673061987%2C%20-52.329495423275674%5D%2C%20%5B-17.363556196708668%2C%20-43.562379834383684%5D%2C%20%5B-5.6245565008015035%2C%20-37.86657193915132%5D%2C%20%5B-0.08799253763860206%2C%20-51.02716754913289%5D%2C%20%5B-8.930101776787174%2C%20-36.49608913670563%5D%2C%20%5B-8.760665548198956%2C%20-63.8761854568821%5D%2C%20%5B-29.961586258083873%2C%20-50.90579053344359%5D%2C%20%5B-5.069995751623304%2C%20-42.85408569241017%5D%2C%20%5B-20.834654765220044%2C%20-49.3744159731623%5D%2C%20%5B-5.042867926077904%2C%20-38.456824276619855%5D%2C%20%5B-24.353784859004154%2C%20-49.72536448021505%5D%2C%20%5B-2.9524699177940943%2C%20-42.94297634594087%5D%2C%20%5B-12.853668030821412%2C%20-38.43695393920682%5D%2C%20%5B-11.335275345843407%2C%20-41.75440111338502%5D%2C%20%5B-22.336054366566568%2C%20-49.09444767438025%5D%2C%20%5B-23.475249361283762%2C%20-46.63906787736702%5D%2C%20%5B-20.075714083240527%2C%20-50.62678605765578%5D%2C%20%5B-13.035789040361784%2C%20-41.48196518322851%5D%2C%20%5B-18.879642289810675%2C%20-43.400728048257754%5D%2C%20%5B-22.869309124646584%2C%20-42.04744209549655%5D%2C%20%5B-15.437399629038099%2C%20-52.60718458236493%5D%2C%20%5B-22.553125124074988%2C%20-42.73017232450272%5D%2C%20%5B-21.629920565132323%2C%20-43.48269366589586%5D%2C%20%5B-25.07922888783732%2C%20-50.00559971636593%5D%2C%20%5B-10.383468615412486%2C%20-40.11059556367456%5D%2C%20%5B-1.809034109406148%2C%20-48.728839374577554%5D%2C%20%5B-7.178067110028383%2C%20-35.77851072498925%5D%2C%20%5B-4.802411934281326%2C%20-38.121984657430176%5D%2C%20%5B-9.974525977630078%2C%20-56.45546976009639%5D%2C%20%5B-23.475606589677454%2C%20-47.46476835658672%5D%2C%20%5B-20.390992009471088%2C%20-49.93641756453642%5D%2C%20%5B-5.726276508914119%2C%20-35.23753915992716%5D%2C%20%5B-6.640678428161995%2C%20-36.61985152034643%5D%2C%20%5B-5.091410331752194%2C%20-37.688724919006255%5D%2C%20%5B-4.895953048232153%2C%20-38.06107729571794%5D%2C%20%5B-4.7716552389054%2C%20-37.28131900001743%5D%2C%20%5B-22.94225310916655%2C%20-42.292225682423044%5D%2C%20%5B-23.702724057563486%2C%20-46.514228682964955%5D%2C%20%5B-18.014917279319217%2C%20-50.30115950417396%5D%2C%20%5B-7.167669135948669%2C%20-35.9310768447438%5D%2C%20%5B-11.070606937019935%2C%20-38.58544732368713%5D%2C%20%5B-23.071105132825917%2C%20-47.021189211024904%5D%2C%20%5B-5.381434322115702%2C%20-38.022089956450785%5D%2C%20%5B-23.192035081168402%2C%20-47.36070845656317%5D%2C%20%5B-10.841482283859985%2C%20-41.27220526508745%5D%2C%20%5B-31.650718515962254%2C%20-52.34582085573195%5D%2C%20%5B-14.824020949850501%2C%20-40.81945497338932%5D%2C%20%5B-18.269494158911407%2C%20-42.95132116022122%5D%2C%20%5B-9.323890994850338%2C%20-38.23335413437662%5D%2C%20%5B-23.259215987301197%2C%20-50.10407789977068%5D%2C%20%5B-9.203254558896745%2C%20-62.9737198616408%5D%2C%20%5B-4.608716157400377%2C%20-37.72249464070972%5D%2C%20%5B-21.786049598512747%2C%20-48.13107933024334%5D%2C%20%5B-12.99587058755582%2C%20-38.56686306076532%5D%2C%20%5B-20.36741728811027%2C%20-43.45838872117928%5D%2C%20%5B-27.912282942792633%2C%20-54.46945592943545%5D%2C%20%5B-25.11100005534271%2C%20-50.175397997342344%5D%2C%20%5B-5.090378102846394%2C%20-37.635543556899634%5D%2C%20%5B-7.110954236814522%2C%20-37.52853551006117%5D%2C%20%5B-21.638456406492892%2C%20-43.343518135681435%5D%2C%20%5B-5.145906109272816%2C%20-37.33528988259234%5D%2C%20%5B-23.00130862503091%2C%20-43.145191934431324%5D%2C%20%5B-7.023732659048203%2C%20-38.355388421755016%5D%2C%20%5B-22.72742131539931%2C%20-43.53043945361901%5D%2C%20%5B-11.916282320755359%2C%20-61.004216944744186%5D%2C%20%5B-24.991461808727475%2C%20-50.20815562606872%5D%2C%20%5B-5.317966612125419%2C%20-38.06865289978556%5D%2C%20%5B-15.739355149575168%2C%20-48.06252475354311%5D%2C%20%5B-8.698656564439018%2C%20-63.89750917003368%5D%2C%20%5B-11.027206733511697%2C%20-41.737875397420176%5D%2C%20%5B-22.94203988053634%2C%20-47.15188063458407%5D%2C%20%5B-5.263174602607663%2C%20-38.109038260306306%5D%2C%20%5B-7.7778497688201345%2C%20-72.56081823344704%5D%2C%20%5B-17.854573190415223%2C%20-51.71867809704796%5D%2C%20%5B-5.134549077512957%2C%20-36.86194853772231%5D%2C%20%5B-17.16039553210665%2C%20-46.846905180857355%5D%2C%20%5B-7.493133952172092%2C%20-63.942143798153595%5D%2C%20%5B-4.948285631224608%2C%20-37.01258571144058%5D%2C%20%5B-23.60115534243932%2C%20-48.02013309319439%5D%2C%20%5B-19.334294515245514%2C%20-39.987739790959736%5D%2C%20%5B-8.764075964995117%2C%20-63.79102051813106%5D%2C%20%5B-5.180065900953948%2C%20-37.98963254866818%5D%2C%20%5B-31.77019879532147%2C%20-52.31102455577093%5D%2C%20%5B-19.89473273744792%2C%20-44.1050622132159%5D%2C%20%5B-5.514970890094666%2C%20-37.61233614621631%5D%2C%20%5B-24.127191474654982%2C%20-53.005704668198085%5D%2C%20%5B-21.664613717548583%2C%20-43.452039354245954%5D%2C%20%5B-6.660559964806915%2C%20-35.97546633248232%5D%2C%20%5B-21.907009771285715%2C%20-50.554405914549974%5D%2C%20%5B-6.415512996609745%2C%20-36.95899622462272%5D%2C%20%5B-6.887655328338715%2C%20-35.49816733938648%5D%2C%20%5B-5.245159111726516%2C%20-37.37964456960023%5D%2C%20%5B-5.458199781357953%2C%20-38.64782479314431%5D%2C%20%5B-6.157382747217123%2C%20-35.24981844250329%5D%2C%20%5B-18.772605711227065%2C%20-42.799025631441864%5D%2C%20%5B-9.726428353255624%2C%20-37.267791306585835%5D%2C%20%5B-8.796521658993607%2C%20-48.72905045536741%5D%2C%20%5B-19.620393881971214%2C%20-46.6059707461704%5D%2C%20%5B-16.191757955581007%2C%20-50.939670923912466%5D%2C%20%5B-18.252102928084934%2C%20-44.59214326017468%5D%2C%20%5B-14.889025915557458%2C%20-40.79505083850168%5D%2C%20%5B-29.723488586106026%2C%20-53.8847706008578%5D%2C%20%5B-6.974195585203171%2C%20-35.90755935992465%5D%2C%20%5B-8.832177072549634%2C%20-63.924249088928356%5D%2C%20%5B-5.198943243911996%2C%20-37.39401297526828%5D%2C%20%5B-20.842578515632347%2C%20-47.02842679879889%5D%2C%20%5B-21.232641541908237%2C%20-45.06207635779004%5D%2C%20%5B-21.61910738313513%2C%20-48.039774779144594%5D%2C%20%5B-30.106778825308105%2C%20-51.15763295408596%5D%2C%20%5B-14.15992840047722%2C%20-51.92658035964133%5D%2C%20%5B-5.554267781018844%2C%20-37.33910549227317%5D%2C%20%5B-7.181094030496944%2C%20-48.19693783631602%5D%2C%20%5B-11.39652569072492%2C%20-61.47825946466261%5D%2C%20%5B-9.97852924092444%2C%20-67.80905049652107%5D%2C%20%5B-19.6758284938085%2C%20-47.92514819184063%5D%2C%20%5B-16.04164065887656%2C%20-42.04812821574904%5D%2C%20%5B-5.176629847312009%2C%20-37.60199027753888%5D%2C%20%5B-20.418102641084456%2C%20-54.641570597733654%5D%2C%20%5B-4.57986659137655%2C%20-37.77446736679667%5D%2C%20%5B-13.003745515513767%2C%20-38.39336077662338%5D%2C%20%5B-5.126089035244706%2C%20-37.28118080604758%5D%2C%20%5B-14.903071118918085%2C%20-40.800667458428244%5D%2C%20%5B-20.28059321420058%2C%20-41.61532280350778%5D%2C%20%5B-20.01719804777457%2C%20-40.19362643137859%5D%2C%20%5B-5.317966612125419%2C%20-38.06865289978556%5D%2C%20%5B-3.049687617759816%2C%20-40.047558601932856%5D%2C%20%5B-5.107019380322139%2C%20-37.28662719188866%5D%2C%20%5B-4.842150077308295%2C%20-38.16068923477706%5D%2C%20%5B2.795374112803692%2C%20-60.774420315791204%5D%2C%20%5B-12.792223950454327%2C%20-42.21757780581036%5D%2C%20%5B-21.792283122663328%2C%20-46.59549042966905%5D%2C%20%5B-7.034488247840529%2C%20-41.402855775463394%5D%2C%20%5B-29.087203766320005%2C%20-51.089572174489255%5D%2C%20%5B-11.119987792619872%2C%20-40.53682449819206%5D%2C%20%5B-22.436933671738455%2C%20-44.48525264976835%5D%2C%20%5B-12.806295826690167%2C%20-38.493829016542165%5D%2C%20%5B-17.322352980412745%2C%20-40.29917498267464%5D%2C%20%5B-5.063333928482653%2C%20-37.535645519295926%5D%2C%20%5B-4.811876695441778%2C%20-38.12667140753789%5D%2C%20%5B-2.907625860041667%2C%20-50.68065988255698%5D%2C%20%5B-8.76156959521952%2C%20-63.929682841689996%5D%2C%20%5B-22.689343600899793%2C%20-43.38737534099307%5D%2C%20%5B-19.567598583761917%2C%20-42.54010434727414%5D%2C%20%5B-22.999660170437288%2C%20-45.49496209704182%5D%2C%20%5B-24.94531208915388%2C%20-53.468925631009895%5D%2C%20%5B-28.565980436201766%2C%20-49.33776472944684%5D%2C%20%5B-5.107019380322139%2C%20-37.28662719188866%5D%2C%20%5B-29.52599478572482%2C%20-51.18734360793007%5D%2C%20%5B-5.661092932732403%2C%20-37.830810646628834%5D%2C%20%5B-5.329583022365471%2C%20-38.606623691585746%5D%2C%20%5B-5.360913170284692%2C%20-44.530499431417596%5D%2C%20%5B-4.272255725425106%2C%20-56.07183148098645%5D%2C%20%5B-5.091410331752194%2C%20-37.688724919006255%5D%2C%20%5B-18.856786015391222%2C%20-48.285240103468674%5D%2C%20%5B-20.40691291536821%2C%20-40.339736204086975%5D%2C%20%5B-9.597988404100374%2C%20-37.54101023018618%5D%2C%20%5B-9.044106029119892%2C%20-42.706509233991135%5D%2C%20%5B-18.32864478335745%2C%20-46.27711413455078%5D%2C%20%5B-22.45270146201165%2C%20-45.42034216480017%5D%2C%20%5B-3.0747570820702155%2C%20-59.962391448300714%5D%2C%20%5B-20.199157583530454%2C%20-40.28594130549678%5D%2C%20%5B-10.036491083380563%2C%20-56.46568086024571%5D%2C%20%5B-22.264198041698613%2C%20-45.73212360314813%5D%2C%20%5B-8.794296198035685%2C%20-63.8829501725178%5D%2C%20%5B-5.201500766258088%2C%20-37.956849500136876%5D%2C%20%5B-5.823475023148654%2C%20-37.865580361579916%5D%2C%20%5B-5.342018014430866%2C%20-38.05562275971885%5D%2C%20%5B-12.776183628609965%2C%20-43.15868334374423%5D%2C%20%5B-5.042867926077904%2C%20-38.456824276619855%5D%2C%20%5B-2.997688216644712%2C%20-59.93600711364218%5D%2C%20%5B-19.689242841348218%2C%20-42.98151274299936%5D%2C%20%5B-5.269859456030659%2C%20-37.24387282468639%5D%2C%20%5B-5.580337646507683%2C%20-39.507071958283404%5D%2C%20%5B-4.876077687621782%2C%20-47.34762367452335%5D%2C%20%5B-26.95043249483938%2C%20-48.58389703207775%5D%2C%20%5B-22.32620946805072%2C%20-42.546218987287624%5D%2C%20%5B-21.798549645272992%2C%20-48.81249914529858%5D%2C%20%5B-22.926585896025767%2C%20-43.445730139899425%5D%2C%20%5B-21.54174727659379%2C%20-43.53830047021977%5D%2C%20%5B-18.129168612746028%2C%20-43.5070421007278%5D%2C%20%5B-22.26518941148776%2C%20-54.7661439853944%5D%2C%20%5B-9.876454140150708%2C%20-63.055374936693454%5D%2C%20%5B2.822248549958372%2C%20-60.683888962361195%5D%2C%20%5B-5.248803172517881%2C%20-38.01388271668373%5D%2C%20%5B-4.64464092492145%2C%20-37.788609213039166%5D%2C%20%5B-14.875110364398909%2C%20-38.98594318272547%5D%2C%20%5B-8.775247907490499%2C%20-63.85352140819226%5D%2C%20%5B-23.86864680336652%2C%20-46.40040696135415%5D%2C%20%5B-20.986022923504972%2C%20-56.39950893715733%5D%2C%20%5B-27.679881106610896%2C%20-48.55403079547705%5D%2C%20%5B-14.343854608918656%2C%20-49.10117506487523%5D%2C%20%5B-4.57986659137655%2C%20-37.77446736679667%5D%2C%20%5B-4.997449933465494%2C%20-48.88641773089015%5D%2C%20%5B-26.24834460673523%2C%20-48.91636903069275%5D%2C%20%5B-4.951249416519982%2C%20-38.543603427151474%5D%2C%20%5B-5.772937185693896%2C%20-37.89791992809809%5D%2C%20%5B-16.657344470095307%2C%20-49.322113599365%5D%2C%20%5B-5.686955342992636%2C%20-37.766515710366754%5D%2C%20%5B-19.261704924289397%2C%20-51.280799853890464%5D%2C%20%5B-21.05112080805916%2C%20-48.901734589529006%5D%2C%20%5B-12.952681856807036%2C%20-46.55486261919518%5D%2C%20%5B-22.466678986632072%2C%20-49.085168523431896%5D%2C%20%5B-20.592000579092833%2C%20-45.54272852567318%5D%2C%20%5B-5.164423488858103%2C%20-37.356920426246845%5D%2C%20%5B-5.1786087675239205%2C%20-37.39244087644481%5D%2C%20%5B-21.034290756074423%2C%20-44.57399493562943%5D%2C%20%5B-5.10827780001137%2C%20-38.133963946990264%5D%2C%20%5B-10.775633459573395%2C%20-38.46490935608553%5D%2C%20%5B-22.250222055893012%2C%20-42.56600439026503%5D%2C%20%5B2.897474601667608%2C%20-60.722881935576865%5D%2C%20%5B-28.2600778790685%2C%20-54.267012672336726%5D%2C%20%5B-17.754444174826908%2C%20-53.29084716240586%5D%2C%20%5B-5.056016521061155%2C%20-38.382027729479894%5D%2C%20%5B-6.085789260841921%2C%20-38.23152002001738%5D%2C%20%5B-4.788366951427577%2C%20-38.17508887080048%5D%2C%20%5B-17.09657067477559%2C%20-46.9280351115751%5D%2C%20%5B-25.5595358128809%2C%20-54.61526177926791%5D%2C%20%5B-9.995441164632297%2C%20-63.04402807656932%5D%2C%20%5B-18.700175203677233%2C%20-40.480526062113185%5D%2C%20%5B-5.176629847312009%2C%20-37.60199027753888%5D%2C%20%5B-3.0345396752955094%2C%20-59.98613155993212%5D%2C%20%5B-22.50385053369755%2C%20-43.98302156650455%5D%2C%20%5B-5.1744228288452545%2C%20-36.828765310026725%5D%2C%20%5B-8.57591650931698%2C%20-36.58962783872901%5D%2C%20%5B-7.170254552368831%2C%20-34.808192075319454%5D%2C%20%5B-5.853394890715775%2C%20-35.283378284624625%5D%2C%20%5B-6.782372742679495%2C%20-43.053874685048875%5D%2C%20%5B-20.83246611933155%2C%20-51.667930137968156%5D%2C%20%5B-3.022552798715863%2C%20-42.04147502446368%5D%2C%20%5B-21.363469848458916%2C%20-42.24759573773316%5D%2C%20%5B-10.772504487874475%2C%20-65.14015447218918%5D%2C%20%5B-15.596617254889702%2C%20-58.14797585399299%5D%2C%20%5B-18.975231377008043%2C%20-57.674897358258384%5D%2C%20%5B-12.597286427352365%2C%20-38.009763866776964%5D%2C%20%5B2.8736330229562532%2C%20-60.78017447345535%5D%2C%20%5B-4.647381312129666%2C%20-37.73094727107998%5D%2C%20%5B-13.516856560718734%2C%20-60.52298373284965%5D%2C%20%5B-5.069679471777946%2C%20-37.271750249109225%5D%2C%20%5B-5.507625306608067%2C%20-47.47817504733052%5D%2C%20%5B-15.625137670241083%2C%20-51.13605138002298%5D%2C%20%5B-9.126709849282461%2C%20-43.03855555955524%5D%2C%20%5B-3.94846564062001%2C%20-48.9210738729645%5D%2C%20%5B-16.670339477770426%2C%20-49.138126149818916%5D%2C%20%5B-23.0717548948678%2C%20-54.04744552982048%5D%2C%20%5B-5.782413736822093%2C%20-37.971640314241874%5D%2C%20%5B-8.779835610975514%2C%20-63.88377067895625%5D%2C%20%5B-23.515257033739164%2C%20-46.39722835833441%5D%2C%20%5B-18.60592731901403%2C%20-43.046318286717124%5D%2C%20%5B-21.110033537784037%2C%20-40.97899763734569%5D%2C%20%5B-7.985762350933101%2C%20-36.07019066355463%5D%2C%20%5B-21.772454955753368%2C%20-46.76451538134024%5D%2C%20%5B-10.065326993476935%2C%20-67.89379139843405%5D%2C%20%5B-7.934679915951352%2C%20-34.80849038619835%5D%2C%20%5B-18.729281924771215%2C%20-39.899337412144135%5D%2C%20%5B-1.4205526018970804%2C%20-48.42707502101811%5D%2C%20%5B-4.511307141215452%2C%20-37.744723570998374%5D%2C%20%5B-5.107019380322139%2C%20-37.28662719188866%5D%2C%20%5B-3.0914154551604263%2C%20-59.966243545027886%5D%2C%20%5B-30.90051943137501%2C%20-51.874750498570826%5D%2C%20%5B-14.800658926390133%2C%20-39.291171489241194%5D%2C%20%5B-5.134549077512957%2C%20-36.86194853772231%5D%2C%20%5B-29.615247250565538%2C%20-51.68171520408367%5D%2C%20%5B-8.7762869932211%2C%20-63.91734907497122%5D%2C%20%5B-2.522722043747562%2C%20-44.31889338401421%5D%2C%20%5B-4.608716157400377%2C%20-37.72249464070972%5D%2C%20%5B-21.06918614024275%2C%20-51.13047883900859%5D%2C%20%5B2.8375097295696166%2C%20-60.770161250834725%5D%2C%20%5B-13.45617825254948%2C%20-58.42732997160205%5D%2C%20%5B-4.837956574473234%2C%20-38.158737114370204%5D%2C%20%5B-5.865002115546082%2C%20-37.65624181203397%5D%2C%20%5B-17.20330011718939%2C%20-51.1746279007688%5D%2C%20%5B-15.077725088762747%2C%20-54.30685290514479%5D%2C%20%5B-3.1048258176769092%2C%20-59.94706110742164%5D%2C%20%5B-5.19482451800149%2C%20-37.2736056780461%5D%2C%20%5B-20.821666828251463%2C%20-49.33328382843878%5D%2C%20%5B-0.020490079464501845%2C%20-51.11767054748944%5D%2C%20%5B-18.125449148441483%2C%20-43.58494773440838%5D%2C%20%5B-6.395767334564974%2C%20-35.382840401010945%5D%2C%20%5B-7.230505691706119%2C%20-34.89492532652777%5D%2C%20%5B-6.726846124210587%2C%20-39.29339263838299%5D%2C%20%5B-16.042617967722794%2C%20-48.03546046574115%5D%2C%20%5B-19.008211569349417%2C%20-57.586955843783805%5D%2C%20%5B-30.016354457949973%2C%20-50.22206011616414%5D%2C%20%5B-23.4665478470643%2C%20-46.46892082548232%5D%2C%20%5B-4.2812717160865725%2C%20-69.91349564445622%5D%2C%20%5B-5.053930916848799%2C%20-36.959013797946426%5D%2C%20%5B-19.986531767889872%2C%20-47.71167752022537%5D%2C%20%5B-4.014904996153294%2C%20-44.81581432079624%5D%2C%20%5B-5.105861253840971%2C%20-38.35149984446606%5D%2C%20%5B-17.95479383215407%2C%20-39.43579130289779%5D%2C%20%5B-25.486434981585113%2C%20-49.235749573106574%5D%2C%20%5B-5.180065900953948%2C%20-37.98963254866818%5D%2C%20%5B-2.111705207946821%2C%20-47.872467424717065%5D%2C%20%5B-5.263174602607663%2C%20-38.109038260306306%5D%2C%20%5B-31.863721285015053%2C%20-52.51635111475996%5D%2C%20%5B-23.19117746166403%2C%20-47.2848276449525%5D%2C%20%5B-7.100295498276448%2C%20-37.26074829327404%5D%2C%20%5B-18.147983591307593%2C%20-40.84715743568546%5D%2C%20%5B-8.830192867530542%2C%20-63.9389741860876%5D%2C%20%5B-23.50201919093021%2C%20-47.44593767967426%5D%2C%20%5B-9.44454708133302%2C%20-37.80859447607423%5D%2C%20%5B-6.899887803731469%2C%20-37.561908876373685%5D%2C%20%5B-3.800734472382612%2C%20-38.56071826940618%5D%2C%20%5B-5.686955342992636%2C%20-37.766515710366754%5D%2C%20%5B-5.793398042610721%2C%20-35.25251194003357%5D%2C%20%5B-5.199436827959779%2C%20-36.513784485701485%5D%2C%20%5B1.1816105246822854%2C%20-63.609719341015186%5D%2C%20%5B-15.433570596888302%2C%20-41.93858470190221%5D%2C%20%5B-18.451636139537573%2C%20-42.788692662592446%5D%2C%20%5B-29.564896532743536%2C%20-51.09694570478814%5D%2C%20%5B-23.497390252272748%2C%20-46.51732045815121%5D%2C%20%5B-4.582695739803434%2C%20-44.60952110971343%5D%2C%20%5B-13.131906150241685%2C%20-52.36614622536083%5D%2C%20%5B-19.079151600406387%2C%20-41.112231139688106%5D%2C%20%5B-6.225781363022824%2C%20-36.45125431428795%5D%2C%20%5B-5.154237540954488%2C%20-37.34579102657323%5D%2C%20%5B-5.088805695718118%2C%20-36.92198435636012%5D%2C%20%5B-12.984490852630882%2C%20-38.500542015436785%5D%2C%20%5B-21.20968384986565%2C%20-47.843224259877864%5D%2C%20%5B-10.680988274407296%2C%20-65.09444450192913%5D%2C%20%5B-19.70402991762474%2C%20-47.974187375372104%5D%2C%20%5B-9.002839624126544%2C%20-63.415999703563756%5D%2C%20%5B-8.809593626954749%2C%20-63.81613418038322%5D%2C%20%5B-8.773748072522766%2C%20-48.454815105115365%5D%2C%20%5B-8.77115984928405%2C%20-63.91498236355996%5D%2C%20%5B-17.783668775638247%2C%20-44.05840026246624%5D%2C%20%5B-5.056016521061155%2C%20-38.382027729479894%5D%2C%20%5B-4.493617306653444%2C%20-37.79527287545938%5D%2C%20%5B-16.355372700128626%2C%20-39.67810559550698%5D%2C%20%5B-21.26027141759894%2C%20-45.11085440214095%5D%2C%20%5B-5.137264851212688%2C%20-37.34775458143377%5D%2C%20%5B-4.633079655721242%2C%20-37.49046441951252%5D%2C%20%5B-7.227416020598471%2C%20-39.26481760671074%5D%2C%20%5B-16.728276090658287%2C%20-54.26741628937543%5D%2C%20%5B-22.232085020506325%2C%20-48.500080180655786%5D%2C%20%5B-23.085414052964907%2C%20-52.50934205665336%5D%2C%20%5B-4.852409764436519%2C%20-37.91418831914764%5D%2C%20%5B-29.668004195269674%2C%20-51.12792455486901%5D%2C%20%5B-7.176729391265004%2C%20-48.14756230675742%5D%2C%20%5B-24.03012923723043%2C%20-53.9352946021778%5D%2C%20%5B-6.2439039529242555%2C%20-36.390459779668056%5D%2C%20%5B-29.708606464331403%2C%20-52.57879398808431%5D%2C%20%5B0.12436213669001771%2C%20-51.08932123440725%5D%2C%20%5B-23.673061332751818%2C%20-46.53512684608805%5D%2C%20%5B-18.506662116738724%2C%20-39.806321297456094%5D%2C%20%5B-29.151545708122246%2C%20-51.1386461804385%5D%2C%20%5B-23.479298419984307%2C%20-46.66784172032084%5D%2C%20%5B-19.819638116327397%2C%20-44.5783701391883%5D%2C%20%5B-19.949481153547662%2C%20-45.63930853373298%5D%2C%20%5B-25.224342275320073%2C%20-54.14279511663559%5D%2C%20%5B-3.8569610033800976%2C%20-42.176992008848735%5D%2C%20%5B-29.819898586600242%2C%20-51.54483557815003%5D%2C%20%5B-5.491385806889968%2C%20-47.411101037490496%5D%2C%20%5B-19.630986920984885%2C%20-46.95307435602373%5D%2C%20%5B-20.48402547923659%2C%20-43.81630596055831%5D%2C%20%5B-14.358994803568221%2C%20-49.071195434306446%5D%2C%20%5B-4.22817471550517%2C%20-41.91630786438477%5D%2C%20%5B-5.013491155883403%2C%20-42.786016127197506%5D%2C%20%5B-23.007035238739572%2C%20-54.125814546466394%5D%2C%20%5B-10.490009261248167%2C%20-36.509043376155915%5D%2C%20%5B-22.566559575697884%2C%20-44.11308201059429%5D%2C%20%5B-3.0223930829202543%2C%20-60.003908889433035%5D%2C%20%5B-8.111808362979758%2C%20-34.877196608111895%5D%2C%20%5B-10.609381856844164%2C%20-37.42322803134687%5D%2C%20%5B-25.418086608136008%2C%20-49.3452401683908%5D%2C%20%5B-5.448939317670417%2C%20-40.234858700042096%5D%2C%20%5B-11.360000886625924%2C%20-48.99397615347329%5D%2C%20%5B-7.953692105892442%2C%20-37.92871941662463%5D%2C%20%5B-5.898268406393668%2C%20-36.649856387940694%5D%2C%20%5B-7.7434647658855695%2C%20-72.6407488777858%5D%2C%20%5B-27.606101052621753%2C%20-48.7052001091265%5D%2C%20%5B-19.88592623706153%2C%20-43.96102405061843%5D%2C%20%5B-24.353784859004154%2C%20-49.72536448021505%5D%2C%20%5B-23.06168438212397%2C%20-45.51093276392401%5D%2C%20%5B-4.832157039143902%2C%20-47.42300833266488%5D%2C%20%5B-30.914952347218126%2C%20-51.88585911426223%5D%2C%20%5B-5.137256394356039%2C%20-37.355865948228626%5D%2C%20%5B-6.697511816367366%2C%20-43.61128751913458%5D%2C%20%5B-12.946042549993756%2C%20-38.46255046997691%5D%2C%20%5B-22.43564152830844%2C%20-48.73059879405892%5D%2C%20%5B-19.6203023712725%2C%20-46.89615144113135%5D%2C%20%5B-5.105861253840971%2C%20-38.35149984446606%5D%2C%20%5B-19.99506081252785%2C%20-43.877526134226244%5D%2C%20%5B-20.836294166326226%2C%20-49.42820796912424%5D%2C%20%5B-25.53231181678673%2C%20-51.16068605788744%5D%2C%20%5B-9.338679850859116%2C%20-37.274390819994665%5D%2C%20%5B-16.13279661569294%2C%20-48.034993181568794%5D%2C%20%5B-20.816489699005825%2C%20-41.148749277668074%5D%2C%20%5B-8.706930065654266%2C%20-63.71580341607222%5D%2C%20%5B-18.24575347114928%2C%20-54.59368216621428%5D%2C%20%5B-4.715149374406657%2C%20-40.551199315048684%5D%2C%20%5B-4.692389238516215%2C%20-37.712335447639866%5D%2C%20%5B2.7854366407483786%2C%20-60.56961654234533%5D%2C%20%5B-8.701584481556857%2C%20-63.78678606466514%5D%2C%20%5B-22.182507751386822%2C%20-51.49047578817651%5D%2C%20%5B-10.526002560453747%2C%20-38.93053008850586%5D%2C%20%5B-19.009039197671086%2C%20-57.75329505997344%5D%2C%20%5B-26.294234301069103%2C%20-48.777376279067155%5D%2C%20%5B-4.865987350214674%2C%20-38.12242251855713%5D%2C%20%5B-4.520505328815338%2C%20-37.7942909028036%5D%2C%20%5B-4.903919425052002%2C%20-38.43094471292153%5D%2C%20%5B-20.987866890516397%2C%20-49.423720071979346%5D%2C%20%5B-7.032076454229815%2C%20-41.52939308368571%5D%2C%20%5B-22.898888663910185%2C%20-43.46623992746363%5D%2C%20%5B-18.556241124838785%2C%20-46.62881762137697%5D%2C%20%5B-4.858051822474895%2C%20-38.176284383414796%5D%2C%20%5B-3.1700214196363863%2C%20-59.953504630581534%5D%2C%20%5B-18.887419271609076%2C%20-48.176336795083394%5D%2C%20%5B-17.742323126459894%2C%20-51.77945220723441%5D%2C%20%5B-21.250715531299093%2C%20-47.74588287653986%5D%2C%20%5B-9.34995717849323%2C%20-37.312791627845435%5D%2C%20%5B-30.86691556112885%2C%20-55.555086578803866%5D%2C%20%5B-20.389142845055016%2C%20-54.649721793554974%5D%2C%20%5B-5.219711837744265%2C%20-37.37594585072137%5D%2C%20%5B-22.653624579644816%2C%20-45.07657347382345%5D%2C%20%5B-19.222621562504646%2C%20-41.45623145236576%5D%2C%20%5B-5.538616336476659%2C%20-39.63454029856529%5D%2C%20%5B-24.776686750700506%2C%20-53.73231488902875%5D%2C%20%5B-15.220311413827153%2C%20-49.16425114937926%5D%2C%20%5B-23.347253248849487%2C%20-48.27377948948663%5D%2C%20%5B-25.284655060102992%2C%20-49.29314892354578%5D%2C%20%5B-4.8693256980565005%2C%20-38.100079586650324%5D%2C%20%5B-18.439111174473865%2C%20-50.615852337127656%5D%2C%20%5B-23.642377161828577%2C%20-46.733327866681556%5D%2C%20%5B-22.873399591022043%2C%20-42.998015226280074%5D%2C%20%5B-5.09853441755484%2C%20-37.34522528959407%5D%2C%20%5B-23.387203738648594%2C%20-45.97409776525626%5D%2C%20%5B-20.46645403713562%2C%20-54.583644958949805%5D%2C%20%5B-9.420676952414066%2C%20-38.19942917050045%5D%2C%20%5B-23.468985350860127%2C%20-46.537531059405566%5D%2C%20%5B-18.15527918737878%2C%20-43.54748968444521%5D%2C%20%5B-4.93662499224178%2C%20-38.43186561805604%5D%2C%20%5B-5.09853441755484%2C%20-37.34522528959407%5D%2C%20%5B-4.791142119867307%2C%20-38.17262800782687%5D%2C%20%5B-5.775173124453278%2C%20-37.99505250607281%5D%2C%20%5B-12.260521209904663%2C%20-38.90830566159695%5D%2C%20%5B-2.9133345740848204%2C%20-40.869342535569004%5D%2C%20%5B-21.175655256370874%2C%20-50.41046255054974%5D%2C%20%5B-5.316621268713426%2C%20-38.31639038239419%5D%2C%20%5B-22.90262670657023%2C%20-51.99162683316052%5D%2C%20%5B-10.182646191817874%2C%20-40.66712212608924%5D%2C%20%5B-5.09004781979102%2C%20-37.37122576915766%5D%2C%20%5B-12.315679087784533%2C%20-39.006274682759646%5D%2C%20%5B-28.39713819239311%2C%20-48.941585709360965%5D%2C%20%5B-1.8724231610378934%2C%20-44.82890840730407%5D%2C%20%5B-25.420759448900487%2C%20-51.30622671208125%5D%2C%20%5B-10.010309399364397%2C%20-67.89901209772823%5D%2C%20%5B-23.462884797177967%2C%20-47.44235057055265%5D%2C%20%5B-1.382162963816041%2C%20-48.51165688541397%5D%2C%20%5B-19.449800443512753%2C%20-40.046520108103294%5D%2C%20%5B-24.03382539195362%2C%20-48.908325190170565%5D%2C%20%5B-8.848540388040542%2C%20-63.902541241963675%5D%2C%20%5B-8.013861249710057%2C%20-35.98154921121153%5D%2C%20%5B-5.217671600913036%2C%20-37.32185972680919%5D%2C%20%5B-5.143820840009819%2C%20-42.75643344933305%5D%2C%20%5B-4.520505328815338%2C%20-37.7942909028036%5D%2C%20%5B-5.775173124453278%2C%20-37.99505250607281%5D%2C%20%5B-12.916408621133023%2C%20-38.629797238735414%5D%2C%20%5B-9.448110243700349%2C%20-35.897221589312494%5D%2C%20%5B-20.01805358938756%2C%20-44.56180838618686%5D%2C%20%5B-28.322637261713744%2C%20-53.98329645129016%5D%2C%20%5B-14.277761207532581%2C%20-58.182755009741406%5D%2C%20%5B-5.305984551415803%2C%20-38.83891282640342%5D%2C%20%5B-16.393741479850288%2C%20-39.51988463256296%5D%2C%20%5B-22.335538038949398%2C%20-54.11403801172297%5D%2C%20%5B-20.607197552434403%2C%20-41.716833611591646%5D%2C%20%5B-16.27127715260266%2C%20-57.91377534938429%5D%2C%20%5B-14.23028689395541%2C%20-51.88370207341263%5D%2C%20%5B-16.852670208213024%2C%20-43.79019879184513%5D%2C%20%5B-29.402468282805536%2C%20-55.117942564448484%5D%2C%20%5B-5.140331790550151%2C%20-37.26993190833022%5D%2C%20%5B-8.741567226127604%2C%20-63.95149196973071%5D%2C%20%5B-8.731775791266367%2C%20-63.746171267548355%5D%2C%20%5B-22.844644082460682%2C%20-47.37925472947901%5D%2C%20%5B-22.34491759996996%2C%20-49.01065825637151%5D%2C%20%5B-27.596742988677985%2C%20-48.49561752589139%5D%2C%20%5B-15.649224463606988%2C%20-56.04485094226584%5D%2C%20%5B-6.267957217183419%2C%20-40.6836511469662%5D%2C%20%5B-18.30915213487038%2C%20-44.5970520369156%5D%2C%20%5B-24.947714044085345%2C%20-53.34214038319589%5D%2C%20%5B-8.613140622881302%2C%20-38.862229689146055%5D%2C%20%5B-9.389338916294147%2C%20-40.49773746014718%5D%2C%20%5B-22.944780082508%2C%20-49.8791380124829%5D%2C%20%5B-4.608716157400377%2C%20-37.72249464070972%5D%2C%20%5B-5.512714805065861%2C%20-37.77865527867409%5D%2C%20%5B-5.239688856853822%2C%20-37.3393625862966%5D%2C%20%5B-20.034628754313747%2C%20-47.708836182759555%5D%2C%20%5B-5.056016521061155%2C%20-38.382027729479894%5D%2C%20%5B-5.317966612125419%2C%20-38.06865289978556%5D%2C%20%5B-8.809593626954749%2C%20-63.81613418038322%5D%2C%20%5B-17.907147552447345%2C%20-51.62638918029726%5D%2C%20%5B-18.15999175173693%2C%20-43.535453226889686%5D%2C%20%5B-4.858727647010889%2C%20-38.21770982521966%5D%2C%20%5B-9.433959325430587%2C%20-40.42424280507454%5D%2C%20%5B-5.185759537225797%2C%20-38.00714118004797%5D%2C%20%5B-21.799726932176956%2C%20-46.01682029297295%5D%2C%20%5B-4.860438418421241%2C%20-37.765416693487005%5D%2C%20%5B-3.137907987803261%2C%20-67.9201234620313%5D%2C%20%5B-21.01600053362317%2C%20-49.09059503152095%5D%2C%20%5B-32.05140629254097%2C%20-52.01963975593496%5D%2C%20%5B-23.052428447857853%2C%20-46.86685394563772%5D%2C%20%5B-15.574889160174063%2C%20-56.03421086725964%5D%2C%20%5B-25.484399594007087%2C%20-49.31183416718826%5D%2C%20%5B-5.088157821235008%2C%20-38.4870818915976%5D%2C%20%5B-14.439366247456684%2C%20-39.21910143677057%5D%2C%20%5B-18.29156075911424%2C%20-46.12196077130554%5D%2C%20%5B-5.235455482128184%2C%20-37.337212904276186%5D%2C%20%5B-5.156767859382845%2C%20-37.32412948815525%5D%2C%20%5B-4.64464092492145%2C%20-37.788609213039166%5D%2C%20%5B-4.763255359564152%2C%20-38.153080580507115%5D%2C%20%5B-10.043225118354794%2C%20-63.07337611371204%5D%2C%20%5B-7.505027085525249%2C%20-35.32468788791499%5D%2C%20%5B-27.136938410532487%2C%20-51.151069568811195%5D%2C%20%5B-5.239688856853822%2C%20-37.3393625862966%5D%2C%20%5B-2.4521717325155805%2C%20-54.76742009664873%5D%2C%20%5B-6.476316079448602%2C%20-39.85231233772682%5D%2C%20%5B-8.738919597734695%2C%20-63.821439746340616%5D%2C%20%5B-23.441761531065875%2C%20-49.07560951199404%5D%2C%20%5B-22.929448311236648%2C%20-43.31696867141561%5D%2C%20%5B-5.352875883033477%2C%20-38.09172190990841%5D%2C%20%5B-28.689115743666274%2C%20-55.81401732613435%5D%2C%20%5B-28.146718792625652%2C%20-52.03822021456312%5D%2C%20%5B-16.622382958735646%2C%20-49.18503797286684%5D%2C%20%5B-5.528652053904989%2C%20-35.688778824341334%5D%2C%20%5B-10.867255110573122%2C%20-62.02498056027492%5D%2C%20%5B-9.956063915758167%2C%20-63.139208125342904%5D%2C%20%5B-2.5190127880862203%2C%20-44.27700090097771%5D%2C%20%5B-21.486382748808367%2C%20-55.382300891735404%5D%2C%20%5B-22.083190318359055%2C%20-49.70869576844527%5D%2C%20%5B-18.292433314961215%2C%20-42.53030659586821%5D%2C%20%5B-22.832930191545678%2C%20-42.01081217635222%5D%2C%20%5B-3.5416787707397757%2C%20-39.91218916010227%5D%2C%20%5B-5.257265292142374%2C%20-38.37550361973044%5D%2C%20%5B-18.17838865395421%2C%20-43.47325207741576%5D%2C%20%5B-24.8885717181121%2C%20-53.4277026019411%5D%2C%20%5B-6.0350715492062035%2C%20-37.90947624852429%5D%2C%20%5B-17.329254857179638%2C%20-42.48625575548118%5D%2C%20%5B-23.470994910755053%2C%20-46.43385292215371%5D%2C%20%5B-5.13923452879081%2C%20-42.839356555442485%5D%2C%20%5B-6.03796282915462%2C%20-38.02705031688737%5D%2C%20%5B-29.534960158025797%2C%20-51.29320760222931%5D%2C%20%5B-8.779835610975514%2C%20-63.88377067895625%5D%2C%20%5B-22.56660195268972%2C%20-44.181949734023455%5D%2C%20%5B-21.191934604749775%2C%20-47.60760165228352%5D%2C%20%5B-5.19482451800149%2C%20-37.2736056780461%5D%2C%20%5B-1.381889384981314%2C%20-48.498067344016654%5D%2C%20%5B-8.753095142376539%2C%20-63.90686299412286%5D%2C%20%5B-22.830899875942748%2C%20-47.1939864998526%5D%2C%20%5B-5.321204934643563%2C%20-38.0837464986031%5D%2C%20%5B2.8778165975307335%2C%20-60.66412844624674%5D%2C%20%5B-21.73415273465506%2C%20-42.06935770677936%5D%2C%20%5B-16.426368096167455%2C%20-54.563317665628574%5D%2C%20%5B-21.164810487755116%2C%20-41.62129330955289%5D%2C%20%5B-23.460240157363586%2C%20-46.87098792625295%5D%2C%20%5B-5.594087126208338%2C%20-37.8064354524817%5D%2C%20%5B-4.804201606221798%2C%20-38.13761901631602%5D%2C%20%5B-5.230312528542575%2C%20-37.96698500260299%5D%2C%20%5B-20.581039992169007%2C%20-45.50594618267605%5D%2C%20%5B-11.878506284451372%2C%20-55.568790881116065%5D%2C%20%5B-23.58426281297135%2C%20-46.63932000325262%5D%2C%20%5B-20.09348837376753%2C%20-41.07727022930263%5D%2C%20%5B-5.661092932732403%2C%20-37.830810646628834%5D%2C%20%5B-5.069750103520947%2C%20-37.27593129104922%5D%2C%20%5B-8.023844585146243%2C%20-48.4947355077399%5D%2C%20%5B-30.036443537093227%2C%20-51.19688175094398%5D%2C%20%5B-4.550666238754227%2C%20-37.73441072492461%5D%2C%20%5B-2.971788022451079%2C%20-40.18089982871143%5D%2C%20%5B-10.739515809872456%2C%20-61.86580265130668%5D%2C%20%5B-19.005502865447713%2C%20-57.633271799421166%5D%2C%20%5B-5.121362205075783%2C%20-37.962823238017144%5D%2C%20%5B-26.946794001416926%2C%20-52.75512014795836%5D%2C%20%5B-5.185759537225797%2C%20-38.00714118004797%5D%2C%20%5B-22.26639065137022%2C%20-42.53484965228283%5D%2C%20%5B-15.545275638522762%2C%20-56.14965937070517%5D%2C%20%5B-15.836678659200881%2C%20-47.89251184768915%5D%2C%20%5B-5.625485620113778%2C%20-37.79008741885898%5D%2C%20%5B-25.12410874364377%2C%20-50.09911506169769%5D%2C%20%5B-5.596098055564193%2C%20-48.065626346960784%5D%2C%20%5B-5.316621268713426%2C%20-38.31639038239419%5D%2C%20%5B-8.795909191779472%2C%20-63.90197774340757%5D%2C%20%5B-8.787635299370775%2C%20-63.90962604144751%5D%2C%20%5B-19.98624776394969%2C%20-41.5558032672116%5D%2C%20%5B-5.332774844407293%2C%20-37.30188634789428%5D%2C%20%5B-20.56653929256709%2C%20-43.93450236096545%5D%2C%20%5B-5.2537877353394835%2C%20-36.82984565105016%5D%2C%20%5B-3.0188364625240602%2C%20-60.0041808003522%5D%2C%20%5B-4.8613344790155315%2C%20-38.03965575326092%5D%2C%20%5B-22.919221230138362%2C%20-45.293551597467456%5D%2C%20%5B-17.53105272043647%2C%20-39.74055100072143%5D%2C%20%5B-1.2553184016104548%2C%20-47.949962133726586%5D%2C%20%5B-5.235455482128184%2C%20-37.337212904276186%5D%2C%20%5B-3.738363439908024%2C%20-49.74228918702602%5D%2C%20%5B-5.19482451800149%2C%20-37.2736056780461%5D%2C%20%5B-4.914071969497396%2C%20-38.48732411343876%5D%2C%20%5B-24.9780202423236%2C%20-53.447477122345%5D%2C%20%5B-15.849417580532542%2C%20-48.07265625652511%5D%2C%20%5B-5.735237587648474%2C%20-35.20563997122077%5D%2C%20%5B-9.361631473650627%2C%20-40.42655483307994%5D%2C%20%5B-10.913879553928602%2C%20-37.14269226421261%5D%2C%20%5B-17.288779703521776%2C%20-42.9451146210665%5D%2C%20%5B-5.1095472352927915%2C%20-37.25322764730727%5D%2C%20%5B-18.289947546559254%2C%20-42.421983341028636%5D%2C%20%5B-20.948787147970158%2C%20-48.792771178273576%5D%2C%20%5B-21.777869818199697%2C%20-48.21873145926383%5D%2C%20%5B-5.235455482128184%2C%20-37.337212904276186%5D%2C%20%5B-29.96339273233411%2C%20-51.01023653713627%5D%2C%20%5B-5.132412887671175%2C%20-38.50288563713081%5D%2C%20%5B-11.142096736751771%2C%20-37.378313922864365%5D%2C%20%5B-28.531174149607455%2C%20-49.002023521810926%5D%2C%20%5B-15.240232276449081%2C%20-49.661575783414435%5D%2C%20%5B-7.8093841833259985%2C%20-37.10569684286092%5D%2C%20%5B2.8268321001464236%2C%20-60.75419284856115%5D%2C%20%5B-9.301138623628187%2C%20-36.250565450287%5D%2C%20%5B-2.478286875685067%2C%20-54.753952668083755%5D%2C%20%5B-13.11908793118981%2C%20-39.56479641723408%5D%2C%20%5B-13.263343471757748%2C%20-39.55529914396043%5D%2C%20%5B-5.243310216742276%2C%20-36.80760481588552%5D%2C%20%5B-16.491115146932355%2C%20-54.66645609938895%5D%2C%20%5B-8.817820981956658%2C%20-63.89957128943687%5D%2C%20%5B-23.488182780674357%2C%20-48.056256288675726%5D%2C%20%5B-27.868287350340033%2C%20-54.57377459179932%5D%2C%20%5B-3.6664133346004673%2C%20-60.27446171237967%5D%2C%20%5B-4.913818741248113%2C%20-37.83674138737664%5D%2C%20%5B-20.493075757055706%2C%20-44.866483255462946%5D%2C%20%5B-11.317798902559778%2C%20-61.42053566959428%5D%2C%20%5B-3.0781261945249603%2C%20-59.949756062682326%5D%2C%20%5B-4.8386219420288885%2C%20-37.82606301567409%5D%2C%20%5B-3.7472944368212873%2C%20-49.674582569613534%5D%2C%20%5B-18.598075514686705%2C%20-46.48639295396853%5D%2C%20%5B-7.439718633352349%2C%20-35.21649417388014%5D%2C%20%5B-15.863246246838196%2C%20-47.94623247853331%5D%2C%20%5B-19.099172874034874%2C%20-57.647973244416704%5D%2C%20%5B-3.6393995091147433%2C%20-39.61182519205894%5D%2C%20%5B-4.474536142668008%2C%20-37.69654733579308%5D%2C%20%5B-7.710352795776751%2C%20-72.58638367356258%5D%2C%20%5B2.8413786952178004%2C%20-60.735604588719%5D%2C%20%5B-17.494912439026695%2C%20-52.68909219924502%5D%2C%20%5B-6.215750058688757%2C%20-50.62307076864623%5D%2C%20%5B-5.573099149499272%2C%20-37.81899234295184%5D%2C%20%5B-3.797850611662751%2C%20-49.69209276774004%5D%2C%20%5B-12.653174847989588%2C%20-60.347698922751725%5D%2C%20%5B-17.95479383215407%2C%20-39.43579130289779%5D%2C%20%5B-14.171499640802212%2C%20-42.79478899872668%5D%2C%20%5B-16.5555806448821%2C%20-39.172406564579525%5D%2C%20%5B-9.318117786991303%2C%20-37.17232167306302%5D%2C%20%5B-24.063074261994192%2C%20-52.3870027179024%5D%2C%20%5B-19.056055409902584%2C%20-52.73832163116577%5D%2C%20%5B-5.721522661459162%2C%20-37.63271971078557%5D%2C%20%5B-22.97879551067723%2C%20-43.12756050982169%5D%2C%20%5B0.01978840427731948%2C%20-51.0419434354066%5D%2C%20%5B-7.013171258644141%2C%20-45.71999423546206%5D%2C%20%5B-5.019880021777675%2C%20-38.53278387206701%5D%2C%20%5B-4.633079655721242%2C%20-37.49046441951252%5D%2C%20%5B-21.765646826151205%2C%20-48.61727290832666%5D%2C%20%5B-4.9764132673058254%2C%20-38.6023836497924%5D%2C%20%5B-16.59738919539967%2C%20-49.34924704570332%5D%2C%20%5B-2.9645442317775634%2C%20-41.752747198234%5D%2C%20%5B-18.124973889615102%2C%20-43.69927339842969%5D%2C%20%5B-18.930626845614196%2C%20-48.18547683464134%5D%2C%20%5B-23.201291240425736%2C%20-50.01942426093755%5D%2C%20%5B-5.069750103520947%2C%20-37.27593129104922%5D%2C%20%5B-4.647381312129666%2C%20-37.73094727107998%5D%2C%20%5B-21.214290978584383%2C%20-50.41878026312156%5D%2C%20%5B-18.915413148590932%2C%20-47.059891308081774%5D%2C%20%5B-24.447743409850307%2C%20-53.94452899982029%5D%2C%20%5B-7.966571280042461%2C%20-37.130283366296766%5D%2C%20%5B-22.699768231377483%2C%20-45.59559681260313%5D%2C%20%5B-4.909804282006006%2C%20-38.21371730243893%5D%2C%20%5B-16.630274161814018%2C%20-43.830642288873115%5D%2C%20%5B-5.981216414274329%2C%20-42.567793538440306%5D%2C%20%5B-5.201500766258088%2C%20-37.956849500136876%5D%2C%20%5B-31.983075623562396%2C%20-51.964318112797166%5D%2C%20%5B-30.870504554432674%2C%20-51.84069542878708%5D%2C%20%5B-5.617891061682188%2C%20-37.34330115321491%5D%2C%20%5B-5.340742100208212%2C%20-38.05210155700905%5D%2C%20%5B-17.229314504127025%2C%20-42.865641681401186%5D%2C%20%5B-21.375641215548296%2C%20-44.75012138462649%5D%2C%20%5B-1.4515591452995238%2C%20-48.46216544068633%5D%2C%20%5B-4.437201561111144%2C%20-38.075480288248755%5D%2C%20%5B-23.785264330204708%2C%20-53.279235343269406%5D%2C%20%5B0.06434168473959778%2C%20-51.103808618967896%5D%2C%20%5B-25.106924350762352%2C%20-53.63953798146042%5D%2C%20%5B-5.241591059935838%2C%20-37.35412632171735%5D%2C%20%5B-22.121493775318644%2C%20-42.783120272675006%5D%2C%20%5B-3.1025113512726357%2C%20-60.09368124565638%5D%2C%20%5B-5.507686736597412%2C%20-48.01071170855418%5D%2C%20%5B-8.737141934295382%2C%20-63.92634738700039%5D%2C%20%5B-23.217854468549085%2C%20-51.07340358223138%5D%2C%20%5B-8.79026927597344%2C%20-63.818927073607234%5D%2C%20%5B-5.175035209807586%2C%20-37.298724686143515%5D%2C%20%5B-18.508657804934394%2C%20-46.48245449710212%5D%2C%20%5B-21.317264901486396%2C%20-46.60538584434873%5D%2C%20%5B-5.110461664093853%2C%20-38.00762987237279%5D%2C%20%5B-14.181062526449894%2C%20-46.53698215074562%5D%2C%20%5B-17.94839326687685%2C%20-42.97865221654216%5D%2C%20%5B-20.582850497325%2C%20-44.70345554017852%5D%2C%20%5B-3.7806384392330616%2C%20-38.56081151738694%5D%2C%20%5B-14.357465408783007%2C%20-42.05277606040332%5D%2C%20%5B-22.161070573216357%2C%20-41.57866846307537%5D%2C%20%5B-8.771100665000121%2C%20-63.78771747209153%5D%2C%20%5B-13.00620477887828%2C%20-38.516757256258636%5D%2C%20%5B-6.525604567317954%2C%20-35.75633228439884%5D%2C%20%5B-3.3749280775226027%2C%20-39.05320077778785%5D%2C%20%5B-4.341685626233492%2C%20-40.10039065693812%5D%2C%20%5B-23.213572242278623%2C%20-46.95422232940701%5D%2C%20%5B-17.508317241018748%2C%20-42.928070972686385%5D%2C%20%5B-11.753372301616368%2C%20-61.758066119541205%5D%2C%20%5B-18.027821079686223%2C%20-50.35283310854104%5D%2C%20%5B-23.205926421801056%2C%20-46.91135814468569%5D%2C%20%5B-5.24731151254488%2C%20-37.333527288151295%5D%2C%20%5B-5.24731151254488%2C%20-37.333527288151295%5D%2C%20%5B-4.183345595373824%2C%20-69.83694952910577%5D%2C%20%5B-6.679325624878331%2C%20-41.67303924324029%5D%2C%20%5B-5.381434322115702%2C%20-38.022089956450785%5D%2C%20%5B-28.23248458479319%2C%20-52.407770362821395%5D%2C%20%5B-13.297993974918064%2C%20-41.348622856921345%5D%2C%20%5B-17.768187344197035%2C%20-50.97630126539499%5D%2C%20%5B-7.752651488012433%2C%20-40.610508020505556%5D%2C%20%5B-21.776974436737856%2C%20-48.181257770561615%5D%2C%20%5B-11.885172779876495%2C%20-55.589372024169364%5D%2C%20%5B-0.13917025555961357%2C%20-50.36647941823018%5D%2C%20%5B-18.70234275830994%2C%20-48.182606779003244%5D%2C%20%5B-7.080092507384763%2C%20-36.55156135037815%5D%2C%20%5B-12.986902065954041%2C%20-46.48361885457043%5D%2C%20%5B-4.923435017672541%2C%20-37.797295011795%5D%2C%20%5B-15.93975789521828%2C%20-41.20686762337916%5D%2C%20%5B-5.772937185693896%2C%20-37.89791992809809%5D%2C%20%5B-8.72540648499316%2C%20-63.870056481121566%5D%2C%20%5B-20.10859036466665%2C%20-40.33402528995954%5D%2C%20%5B-8.778905406607436%2C%20-63.955067804559015%5D%2C%20%5B-22.37113979857767%2C%20-44.791632380507785%5D%2C%20%5B-20.38510831700302%2C%20-54.664832649664156%5D%2C%20%5B-5.211302106828657%2C%20-37.34596783120265%5D%2C%20%5B-23.321639088033965%2C%20-54.90926124829134%5D%2C%20%5B-17.5261396320986%2C%20-44.73688477750417%5D%2C%20%5B-17.82587794701353%2C%20-43.93649378991469%5D%2C%20%5B-18.27608626269766%2C%20-54.65350721048611%5D%2C%20%5B-7.969753260262925%2C%20-38.22394053710926%5D%2C%20%5B-21.8989609263701%2C%20-42.37018770484052%5D%2C%20%5B-23.469438752713764%2C%20-49.97421850732005%5D%2C%20%5B-5.660721529655397%2C%20-37.774429901479394%5D%2C%20%5B-5.124323344535873%2C%20-37.26028285191586%5D%2C%20%5B-4.474536142668008%2C%20-37.69654733579308%5D%2C%20%5B-17.36676581941206%2C%20-44.75428332823069%5D%2C%20%5B-7.639692379512566%2C%20-62.64262568958193%5D%2C%20%5B-22.983209601409836%2C%20-49.85874828566875%5D%2C%20%5B-23.403469297958765%2C%20-51.88639295618424%5D%2C%20%5B-23.03856123402562%2C%20-49.83577705042903%5D%2C%20%5B-4.8224982459279095%2C%20-47.41616618561728%5D%2C%20%5B2.743080535024883%2C%20-60.61929657365351%5D%2C%20%5B-8.822990021111831%2C%20-63.84230553354251%5D%2C%20%5B-4.840777549975739%2C%20-38.14695746117504%5D%2C%20%5B-23.1936928166195%2C%20-45.91561022377792%5D%2C%20%5B-4.868494158079614%2C%20-38.21747418008846%5D%2C%20%5B-17.5046662241927%2C%20-39.423211601403544%5D%2C%20%5B-6.3018103113924715%2C%20-35.32999139491771%5D%2C%20%5B-9.386956835285355%2C%20-62.60651172787473%5D%2C%20%5B-15.677869507770236%2C%20-55.975056434650696%5D%2C%20%5B-4.80523165375875%2C%20-37.71020905155613%5D%2C%20%5B-8.809593626954749%2C%20-63.81613418038322%5D%2C%20%5B-5.137256394356039%2C%20-37.355865948228626%5D%2C%20%5B-9.124734820405472%2C%20-50.59858889675519%5D%2C%20%5B-30.887930315361526%2C%20-55.50825699927421%5D%2C%20%5B2.884038370191857%2C%20-60.646637418523916%5D%2C%20%5B-4.965565205636985%2C%20-37.7506490407695%5D%2C%20%5B-5.088749202343566%2C%20-42.80795778189994%5D%2C%20%5B-5.245159111726516%2C%20-37.37964456960023%5D%2C%20%5B-12.140316751096693%2C%20-46.0134371254109%5D%2C%20%5B-19.497787709514437%2C%20-42.64514064307058%5D%2C%20%5B-12.634310305820195%2C%20-55.57596151095187%5D%2C%20%5B-21.541121108449136%2C%20-41.14403171132349%5D%2C%20%5B-5.386870520958883%2C%20-38.076217877607384%5D%2C%20%5B-5.317966612125419%2C%20-38.06865289978556%5D%2C%20%5B-5.594087126208338%2C%20-37.8064354524817%5D%2C%20%5B-23.75642254963289%2C%20-53.3117862573304%5D%2C%20%5B-17.49157873479619%2C%20-52.19781515426599%5D%2C%20%5B-22.47438247787635%2C%20-44.98108744072642%5D%2C%20%5B-5.024960546488124%2C%20-37.07012950093294%5D%2C%20%5B-5.094549859857473%2C%20-37.633419335236475%5D%2C%20%5B-20.773458940178365%2C%20-46.580946725958164%5D%2C%20%5B-15.151116830685641%2C%20-43.10724991018447%5D%2C%20%5B-31.775621370593583%2C%20-52.310387887580156%5D%2C%20%5B-27.409528488778168%2C%20-48.884762287056105%5D%2C%20%5B-5.2025293573277995%2C%20-37.38221024300654%5D%2C%20%5B-7.720628270699518%2C%20-72.49844348609673%5D%2C%20%5B-5.661092932732403%2C%20-37.830810646628834%5D%2C%20%5B-5.85220176162232%2C%20-35.32228905397652%5D%2C%20%5B-29.824679936987707%2C%20-53.76525738522197%5D%2C%20%5B-7.693692959659977%2C%20-72.58902268051267%5D%2C%20%5B-5.143945330543202%2C%20-37.36813635708284%5D%2C%20%5B-7.602143997520394%2C%20-39.2055149586859%5D%2C%20%5B-9.865508486032263%2C%20-63.01675461192396%5D%2C%20%5B-8.87686911350172%2C%20-36.46689146772243%5D%2C%20%5B-5.594087126208338%2C%20-37.8064354524817%5D%2C%20%5B-19.579694540105766%2C%20-43.20402342393217%5D%2C%20%5B-3.588673238178546%2C%20-41.01252649853517%5D%2C%20%5B-21.21303324053955%2C%20-48.44254068372234%5D%2C%20%5B-8.756351684050344%2C%20-37.377191166262115%5D%2C%20%5B-18.69921635199913%2C%20-46.270987115400615%5D%2C%20%5B-14.787796602272847%2C%20-40.873130371536725%5D%2C%20%5B-7.9228080541664685%2C%20-35.33911479361043%5D%2C%20%5B-7.308642317153425%2C%20-72.73170242679504%5D%2C%20%5B-5.635953600057891%2C%20-37.78068353742777%5D%2C%20%5B-29.72568940048457%2C%20-53.903377310762444%5D%2C%20%5B-3.560809454359536%2C%20-40.33279998788234%5D%2C%20%5B-6.453386671964551%2C%20-44.69112561571244%5D%2C%20%5B-22.17094039640653%2C%20-54.806104479514445%5D%2C%20%5B-9.706901479152073%2C%20-37.469591588706166%5D%2C%20%5B-22.308306518025425%2C%20-49.76594061339983%5D%2C%20%5B-9.01875325582456%2C%20-37.943871166028735%5D%2C%20%5B-20.59112150926942%2C%20-54.581423129816685%5D%2C%20%5B-18.33861695186786%2C%20-47.11067122613487%5D%2C%20%5B-5.088157821235008%2C%20-38.4870818915976%5D%2C%20%5B-5.104239428925926%2C%20-38.44153826538616%5D%2C%20%5B-5.227253358629726%2C%20-37.44421508702647%5D%2C%20%5B-15.298839386455251%2C%20-49.12285856155922%5D%2C%20%5B-29.736844030781914%2C%20-55.792346668094275%5D%2C%20%5B-5.094650833298175%2C%20-37.35632584826588%5D%2C%20%5B-3.6563641074560356%2C%20-49.74443973919852%5D%2C%20%5B-20.41846431808528%2C%20-42.84115697355626%5D%2C%20%5B-4.842757398061469%2C%20-38.14475529520558%5D%2C%20%5B-10.8822616102754%2C%20-61.9101594065934%5D%2C%20%5B-8.612745395570881%2C%20-37.32410879827467%5D%2C%20%5B-9.573496760161989%2C%20-35.76138469679436%5D%2C%20%5B-8.852369385822845%2C%20-63.839422550216916%5D%2C%20%5B-27.597284672060166%2C%20-53.18776732463881%5D%2C%20%5B-26.842635124217868%2C%20-48.63917586802769%5D%2C%20%5B-15.851226206856293%2C%20-48.10544593297638%5D%2C%20%5B-8.790916241201643%2C%20-63.90186398628178%5D%2C%20%5B-20.478543054577315%2C%20-47.463489236990945%5D%2C%20%5B-21.540343587207435%2C%20-51.51353774628237%5D%2C%20%5B-5.019906478716187%2C%20-37.68537746513003%5D%2C%20%5B-9.636366368298102%2C%20-35.75126687853742%5D%2C%20%5B-7.195778531158788%2C%20-39.32025685742183%5D%2C%20%5B-4.862473602125599%2C%20-37.69076934487717%5D%2C%20%5B-11.895399566770942%2C%20-55.52845305822484%5D%2C%20%5B-8.36787740249525%2C%20-39.29753504311227%5D%2C%20%5B-5.10827780001137%2C%20-38.133963946990264%5D%2C%20%5B-5.154974722839202%2C%20-37.29860082950433%5D%2C%20%5B-19.009076509748375%2C%20-48.27262011662964%5D%2C%20%5B-15.802587399990719%2C%20-48.04873429629677%5D%2C%20%5B-9.226651679313235%2C%20-64.43667239535996%5D%2C%20%5B-19.716428499027227%2C%20-48.039956995167906%5D%2C%20%5B-5.069750103520947%2C%20-37.27593129104922%5D%2C%20%5B-4.600812745653461%2C%20-44.49884632377048%5D%2C%20%5B-11.562794525447432%2C%20-39.031928694417566%5D%2C%20%5B-27.817677858343632%2C%20-50.247226855146245%5D%2C%20%5B-31.747815654147708%2C%20-52.25361126753297%5D%2C%20%5B-20.425617543272054%2C%20-50.12694593108289%5D%2C%20%5B-5.126089035244706%2C%20-37.28118080604758%5D%2C%20%5B-23.655164178992788%2C%20-49.702453126261474%5D%2C%20%5B-17.328092435612806%2C%20-42.86630823213666%5D%2C%20%5B-20.7492037948916%2C%20-41.30885214642349%5D%2C%20%5B-7.778542658654279%2C%20-62.55800315486045%5D%2C%20%5B-18.087616087039788%2C%20-43.55878942496363%5D%2C%20%5B-6.691037158319171%2C%20-69.9257750406517%5D%2C%20%5B-11.863242843969793%2C%20-39.66937279611719%5D%2C%20%5B-23.903752957433817%2C%20-49.80313298755181%5D%2C%20%5B-8.741405645901617%2C%20-63.816545571777674%5D%2C%20%5B-14.147802186816786%2C%20-46.404360067078535%5D%2C%20%5B-5.045738518579823%2C%20-37.598543066991816%5D%2C%20%5B-8.790916241201643%2C%20-63.90186398628178%5D%2C%20%5B-28.37747911879587%2C%20-53.300005329235404%5D%2C%20%5B-4.458304180312489%2C%20-40.66813281215587%5D%2C%20%5B-15.357190495166426%2C%20-39.9902581243763%5D%2C%20%5B-8.73144027432345%2C%20-63.814140035401564%5D%2C%20%5B-23.51320439211083%2C%20-45.890159323927755%5D%2C%20%5B-4.80523165375875%2C%20-37.71020905155613%5D%2C%20%5B-15.7065555579525%2C%20-47.866331433637015%5D%2C%20%5B-13.453661867652146%2C%20-41.68167619200377%5D%2C%20%5B-5.091713058055317%2C%20-37.747616502677886%5D%2C%20%5B-29.151545708122246%2C%20-51.1386461804385%5D%2C%20%5B-10.393315721376403%2C%20-40.12164948828602%5D%2C%20%5B-9.471886448055713%2C%20-40.52917101393181%5D%2C%20%5B-7.270329911896483%2C%20-35.8667308614392%5D%2C%20%5B-5.127922674524251%2C%20-37.39293160996561%5D%2C%20%5B-21.812398512691793%2C%20-48.80148057863541%5D%2C%20%5B-18.873050994331493%2C%20-43.48818871195843%5D%2C%20%5B-3.6276446021492177%2C%20-40.94361763455647%5D%2C%20%5B-24.888311493115076%2C%20-53.51197475537366%5D%2C%20%5B-27.288102426788384%2C%20-52.775546242251856%5D%2C%20%5B-16.050473420578268%2C%20-48.01771081085195%5D%2C%20%5B-30.315250520770064%2C%20-53.64254278416901%5D%2C%20%5B-10.615401387793945%2C%20-68.43473612733796%5D%2C%20%5B-18.309753073939888%2C%20-40.208112595688775%5D%2C%20%5B-7.303381681628111%2C%20-35.888499626995134%5D%2C%20%5B-15.532880557679904%2C%20-56.144174338071096%5D%2C%20%5B-10.903290353364325%2C%20-37.15987516525332%5D%2C%20%5B-6.366184848303552%2C%20-41.284415614477275%5D%2C%20%5B-18.630695616021473%2C%20-43.8375146153924%5D%2C%20%5B-23.648160630815998%2C%20-46.48809788404312%5D%2C%20%5B-22.834779580855074%2C%20-48.552199727440495%5D%2C%20%5B-5.099311212627501%2C%20-42.82225885111012%5D%2C%20%5B-23.138563288372737%2C%20-45.71948355728663%5D%2C%20%5B-5.13887660853937%2C%20-38.537792080273015%5D%2C%20%5B-16.84966534359723%2C%20-49.413249638999595%5D%2C%20%5B-1.4385183647561712%2C%20-48.48559939623549%5D%2C%20%5B-15.032283532076793%2C%20-44.356191244975534%5D%2C%20%5B-17.827420799561896%2C%20-53.356696974444226%5D%2C%20%5B-19.508050036770474%2C%20-42.57443817425626%5D%2C%20%5B-14.851842167400479%2C%20-40.830862070436595%5D%2C%20%5B-20.924943351905387%2C%20-43.86467861124512%5D%2C%20%5B-19.518535561824994%2C%20-40.58083233566863%5D%2C%20%5B-31.784966947807078%2C%20-52.25639633045363%5D%2C%20%5B-21.83942485581205%2C%20-50.51335743477886%5D%2C%20%5B-23.154428059324342%2C%20-52.43064769150535%5D%2C%20%5B-21.891083120457164%2C%20-51.796126521968745%5D%2C%20%5B-8.785871105690424%2C%20-63.902980445583445%5D%2C%20%5B-5.216552912247397%2C%20-37.39631096683358%5D%2C%20%5B-5.618724306389648%2C%20-37.76118896158612%5D%2C%20%5B-20.81028103758349%2C%20-50.520501659538056%5D%2C%20%5B-20.702216214120693%2C%20-41.7400066758684%5D%2C%20%5B-22.200053630983422%2C%20-42.455278552292825%5D%2C%20%5B-18.70809851914413%2C%20-41.11387970434544%5D%2C%20%5B-5.185759537225797%2C%20-38.00714118004797%5D%2C%20%5B-3.8423096697318786%2C%20-38.59903810213035%5D%2C%20%5B-4.895953048232153%2C%20-38.06107729571794%5D%2C%20%5B-9.86369124132932%2C%20-63.04185131341254%5D%2C%20%5B-3.88414088419196%2C%20-40.9223780469651%5D%2C%20%5B-5.371015924318177%2C%20-49.14793261546517%5D%2C%20%5B-17.452748309617757%2C%20-44.84681988534157%5D%2C%20%5B-5.095444755417907%2C%20-37.30728448220329%5D%2C%20%5B-19.03201879883801%2C%20-57.62550573177576%5D%2C%20%5B-14.108788614428468%2C%20-42.856028837820126%5D%2C%20%5B-6.581793316765508%2C%20-49.8216730325657%5D%2C%20%5B-5.21350455571066%2C%20-37.88917365951219%5D%2C%20%5B-18.542724026353874%2C%20-46.46399548511802%5D%2C%20%5B-23.5003673097766%2C%20-47.38976358862641%5D%2C%20%5B-20.389142845055016%2C%20-54.649721793554974%5D%2C%20%5B-5.675568810768393%2C%20-37.84642281162606%5D%2C%20%5B-7.161360050471145%2C%20-51.98548691772323%5D%2C%20%5B-8.830192867530542%2C%20-63.9389741860876%5D%2C%20%5B-16.93761011856687%2C%20-42.08255969668552%5D%2C%20%5B-5.1786087675239205%2C%20-37.39244087644481%5D%2C%20%5B-27.904394667543627%2C%20-53.41341905626878%5D%2C%20%5B-5.231158363462203%2C%20-47.30848078995926%5D%2C%20%5B-5.132289262639399%2C%20-49.85048551487043%5D%2C%20%5B-5.618724306389648%2C%20-37.76118896158612%5D%2C%20%5B-15.8392969428759%2C%20-42.07792144487655%5D%2C%20%5B-12.952681856807036%2C%20-46.55486261919518%5D%2C%20%5B-4.682122251453244%2C%20-38.06553929587813%5D%2C%20%5B-4.493617306653444%2C%20-37.79527287545938%5D%2C%20%5B-12.220602138812286%2C%20-46.042716919602135%5D%2C%20%5B-8.704336498544903%2C%20-63.82236923112941%5D%2C%20%5B-10.097412600630719%2C%20-36.24174501445114%5D%2C%20%5B-21.21303324053955%2C%20-48.44254068372234%5D%2C%20%5B-25.45098647230555%2C%20-49.29361871012436%5D%2C%20%5B-18.8180973774383%2C%20-42.792110614298494%5D%2C%20%5B-4.665761886995488%2C%20-49.168459303002315%5D%2C%20%5B-30.047628662919237%2C%20-51.071494713075296%5D%2C%20%5B-5.046465326771964%2C%20-37.95880161494801%5D%2C%20%5B-19.815819134649292%2C%20-47.867633229256555%5D%2C%20%5B-19.436314864179437%2C%20-42.58151082956104%5D%2C%20%5B-13.336393407499987%2C%20-59.85101233381542%5D%2C%20%5B-5.381434322115702%2C%20-38.022089956450785%5D%2C%20%5B-5.559104387321815%2C%20-37.74693000808273%5D%2C%20%5B-18.99714363332655%2C%20-39.99707814719006%5D%2C%20%5B-8.677814617079324%2C%20-63.86476009761431%5D%2C%20%5B-19.864092211133585%2C%20-43.96932667336089%5D%2C%20%5B-4.183493619143331%2C%20-45.28663013854107%5D%2C%20%5B-5.627305876814478%2C%20-37.81404648571798%5D%2C%20%5B-20.658036423868168%2C%20-40.96760884763434%5D%2C%20%5B-27.45751620720971%2C%20-48.415038088781074%5D%2C%20%5B-5.24731151254488%2C%20-37.333527288151295%5D%2C%20%5B-5.024133639024649%2C%20-42.84899181034089%5D%2C%20%5B-8.755013718245252%2C%20-63.978414196476834%5D%2C%20%5B-4.637915131069174%2C%20-37.72230805988814%5D%2C%20%5B-9.390929860706152%2C%20-60.20011642879003%5D%2C%20%5B-9.990681567651006%2C%20-67.75572996415485%5D%2C%20%5B-4.257829021411581%2C%20-56.00920037633876%5D%2C%20%5B-11.723069730430918%2C%20-48.9877289974497%5D%2C%20%5B-5.660721529655397%2C%20-37.774429901479394%5D%2C%20%5B-5.750979123856998%2C%20-44.11046603221264%5D%2C%20%5B-5.221334049786102%2C%20-37.36009549676601%5D%2C%20%5B-10.697955813930855%2C%20-37.33992188611068%5D%2C%20%5B-4.7716552389054%2C%20-37.28131900001743%5D%2C%20%5B-18.835527459594218%2C%20-42.65079322971717%5D%2C%20%5B-17.277855283279962%2C%20-42.90725290149575%5D%2C%20%5B-19.38760763891977%2C%20-45.96194989213925%5D%2C%20%5B-5.675568810768393%2C%20-37.84642281162606%5D%2C%20%5B-5.155578715600253%2C%20-37.484067614121635%5D%2C%20%5B-1.5168716360011454%2C%20-48.42724565140587%5D%2C%20%5B-8.694942798571276%2C%20-36.38181162438799%5D%2C%20%5B-16.269446678613043%2C%20-46.79436785985902%5D%2C%20%5B-14.170839850368752%2C%20-41.22576693241989%5D%2C%20%5B-16.83141663192725%2C%20-49.31078069621124%5D%2C%20%5B-5.205997362676396%2C%20-38.021309776794496%5D%2C%20%5B-8.792107095353343%2C%20-63.88954482826118%5D%2C%20%5B-8.776246621922116%2C%20-63.810871198460575%5D%2C%20%5B-22.86268217734538%2C%20-43.46466382331881%5D%2C%20%5B-18.826178332828214%2C%20-48.31404252819413%5D%2C%20%5B-3.0933886070203838%2C%20-60.056326029843426%5D%2C%20%5B-5.245159111726516%2C%20-37.37964456960023%5D%2C%20%5B-22.855686407743917%2C%20-43.29092389750496%5D%2C%20%5B-14.546617397122033%2C%20-42.320782511275546%5D%2C%20%5B-20.494774116616437%2C%20-45.42951646638147%5D%2C%20%5B-15.073164832715749%2C%20-55.60439720235564%5D%2C%20%5B-5.185759537225797%2C%20-38.00714118004797%5D%2C%20%5B-5.30395537411761%2C%20-38.04941686977593%5D%2C%20%5B-11.021547709116822%2C%20-37.02935503082183%5D%2C%20%5B-19.77130961770264%2C%20-47.89842070228769%5D%2C%20%5B-6.885396014041909%2C%20-35.50254295779043%5D%2C%20%5B-17.597361912064017%2C%20-43.10198106272756%5D%2C%20%5B-4.572137481717783%2C%20-37.70414850569539%5D%2C%20%5B-16.103085112458324%2C%20-48.07463813626786%5D%2C%20%5B-8.759048078375226%2C%20-36.23509999345759%5D%2C%20%5B-18.91534594619434%2C%20-43.236176217510064%5D%2C%20%5B-21.596272542274203%2C%20-51.00110883511639%5D%2C%20%5B-20.034628754313747%2C%20-47.708836182759555%5D%2C%20%5B-22.51650317036932%2C%20-44.968629272592736%5D%2C%20%5B-7.54195209355225%2C%20-38.9077066779123%5D%2C%20%5B-17.486795084740585%2C%20-39.72255508478904%5D%2C%20%5B-30.319529591751763%2C%20-50.41797264296157%5D%2C%20%5B-5.191200267086444%2C%20-40.663549867722196%5D%2C%20%5B-8.837157329973701%2C%20-63.77203770344537%5D%2C%20%5B-28.676637313995293%2C%20-49.41633056067067%5D%2C%20%5B-26.981559433417583%2C%20-49.20330913031232%5D%2C%20%5B-28.312419713536503%2C%20-50.90468645713341%5D%2C%20%5B-3.037572181419064%2C%20-41.12212952257985%5D%2C%20%5B-20.126758459394207%2C%20-49.95997280731017%5D%2C%20%5B-23.200771166413777%2C%20-45.71642402887616%5D%2C%20%5B-4.726068509983722%2C%20-38.01882562221114%5D%2C%20%5B-5.864551851316602%2C%20-38.94726341606384%5D%2C%20%5B-6.276422774187499%2C%20-36.03351676826673%5D%2C%20%5B-22.261148527809386%2C%20-50.97165999256303%5D%2C%20%5B-3.7934140141762476%2C%20-49.681752379385856%5D%2C%20%5B-20.911800585430417%2C%20-45.83237909173797%5D%2C%20%5B-8.981307523764544%2C%20-38.24677898487179%5D%2C%20%5B-2.426907774664585%2C%20-54.713608892843105%5D%2C%20%5B-10.901977648760397%2C%20-37.13280158236292%5D%2C%20%5B-18.46314648180762%2C%20-41.119761787196%5D%2C%20%5B-5.239688856853822%2C%20-37.3393625862966%5D%2C%20%5B-20.36599394730536%2C%20-40.349095734081004%5D%2C%20%5B-5.342018014430866%2C%20-38.05562275971885%5D%2C%20%5B-2.5845498288050934%2C%20-54.76989937580248%5D%2C%20%5B-5.073985501812712%2C%20-42.83809916243048%5D%2C%20%5B-8.981179374593573%2C%20-63.4817599112312%5D%2C%20%5B-10.522486594487827%2C%20-62.16191287098928%5D%2C%20%5B-4.842150077308295%2C%20-38.16068923477706%5D%2C%20%5B-8.787635299370775%2C%20-63.90962604144751%5D%2C%20%5B-8.804775732420323%2C%20-36.46930421291454%5D%2C%20%5B-14.775904346871377%2C%20-39.19477220553767%5D%2C%20%5B-24.64268491120065%2C%20-53.67933773752377%5D%2C%20%5B-5.164423488858103%2C%20-37.356920426246845%5D%2C%20%5B-19.890883056467178%2C%20-45.006536502396514%5D%2C%20%5B-9.956063915758167%2C%20-63.139208125342904%5D%2C%20%5B-4.690769858021743%2C%20-37.32211811349053%5D%2C%20%5B-8.68060133400599%2C%20-63.80799014690085%5D%2C%20%5B-5.098501474101588%2C%20-38.06644874587142%5D%2C%20%5B-17.58257512570335%2C%20-42.41639326365265%5D%2C%20%5B-22.806798393928208%2C%20-43.25791061740223%5D%2C%20%5B-5.185652967405976%2C%20-39.2623382807296%5D%2C%20%5B-18.94443394966367%2C%20-41.94121632809945%5D%2C%20%5B-23.43447143894766%2C%20-44.96349256167231%5D%2C%20%5B-8.704336498544903%2C%20-63.82236923112941%5D%2C%20%5B-4.5645902534396345%2C%20-44.71942556075578%5D%2C%20%5B-23.364007132111247%2C%20-46.71414306622104%5D%2C%20%5B2.8194143975211676%2C%20-60.77687634421044%5D%2C%20%5B-24.68066902566187%2C%20-53.866300063992206%5D%2C%20%5B-3.730712947631239%2C%20-38.46243471671%5D%2C%20%5B-7.210368233056085%2C%20-39.459145015449245%5D%2C%20%5B-4.804201606221798%2C%20-38.13761901631602%5D%2C%20%5B-28.232385979373525%2C%20-53.88658651039791%5D%2C%20%5B-5.207880422376908%2C%20-37.302766750057074%5D%2C%20%5B-12.70323116472373%2C%20-38.414332400756905%5D%2C%20%5B-7.089502779932106%2C%20-36.5409080225468%5D%2C%20%5B-5.642595442419522%2C%20-37.86364362662535%5D%2C%20%5B-19.716969629389215%2C%20-47.922141598737305%5D%2C%20%5B-18.15527918737878%2C%20-43.54748968444521%5D%2C%20%5B-17.04899498571122%2C%20-40.70782093624342%5D%2C%20%5B-5.094650833298175%2C%20-37.35632584826588%5D%2C%20%5B-7.0226966901661765%2C%20-41.42734961841198%5D%2C%20%5B-13.599051310210184%2C%20-40.07595161332156%5D%2C%20%5B-22.053618959896966%2C%20-51.37158938801139%5D%2C%20%5B-23.214030381207237%2C%20-45.928094933686076%5D%2C%20%5B-14.178070656425454%2C%20-52.48577124393407%5D%2C%20%5B-15.534582190999794%2C%20-51.338231484354424%5D%2C%20%5B-4.725348748373839%2C%20-37.280119148650826%5D%2C%20%5B-6.453386671964551%2C%20-44.69112561571244%5D%2C%20%5B-5.153790827039988%2C%20-39.356362410801985%5D%2C%20%5B-19.790665613599582%2C%20-55.78974324907915%5D%2C%20%5B-4.891558992329904%2C%20-38.08870997014607%5D%2C%20%5B-18.424219869875408%2C%20-42.94018585882525%5D%2C%20%5B-4.8894647387794485%2C%20-38.20101359894759%5D%2C%20%5B-9.431512412789045%2C%20-38.29211333404772%5D%2C%20%5B-6.301535371998752%2C%20-35.96042211906549%5D%2C%20%5B-8.689195847407957%2C%20-63.822728485352755%5D%2C%20%5B-4.7716552389054%2C%20-37.28131900001743%5D%2C%20%5B-2.361581505629968%2C%20-54.7163642246994%5D%2C%20%5B-21.649826171609906%2C%20-46.88043682495801%5D%2C%20%5B-16.66696866710199%2C%20-49.27358738973709%5D%2C%20%5B-12.277045848704406%2C%20-38.83141709872174%5D%2C%20%5B-5.332774844407293%2C%20-37.30188634789428%5D%2C%20%5B-5.112013811913717%2C%20-38.0435305601314%5D%2C%20%5B-7.855307039196954%2C%20-35.46048483299879%5D%2C%20%5B-26.552606428030543%2C%20-53.55010381187644%5D%2C%20%5B-10.530045799927942%2C%20-62.2617225054017%5D%2C%20%5B-17.77012127439%2C%20-45.85615071851191%5D%2C%20%5B-22.834344225392165%2C%20-42.00975012389554%5D%2C%20%5B-23.251784105673217%2C%20-45.958527792096255%5D%2C%20%5B-18.934431496206507%2C%20-48.31123642674362%5D%2C%20%5B-16.348043257043173%2C%20-39.62473581069094%5D%2C%20%5B-16.75523586958117%2C%20-43.833773818219434%5D%2C%20%5B-8.822990021111831%2C%20-63.84230553354251%5D%2C%20%5B-20.40558077781636%2C%20-54.719834132190705%5D%2C%20%5B-22.849644467057377%2C%20-42.06547172929298%5D%2C%20%5B0.12786828274773843%2C%20-51.03924797731321%5D%2C%20%5B-10.8718608435774%2C%20-54.05286161724098%5D%2C%20%5B-18.281743598499904%2C%20-42.527939023051026%5D%2C%20%5B-14.409899965442596%2C%20-58.151956359070226%5D%2C%20%5B-2.4434729081369717%2C%20-54.770779886163375%5D%2C%20%5B-16.397985454745275%2C%20-54.64130400548643%5D%2C%20%5B-8.075024310911068%2C%20-34.9002307035133%5D%2C%20%5B-22.926832273438155%2C%20-49.896197281108925%5D%2C%20%5B-3.3643054245304977%2C%20-39.57303650639637%5D%2C%20%5B-8.714322931296026%2C%20-63.90466255964496%5D%2C%20%5B-12.796697419820436%2C%20-41.05541956209038%5D%2C%20%5B-4.608716157400377%2C%20-37.72249464070972%5D%2C%20%5B-3.0325438379943934%2C%20-59.98852139336529%5D%2C%20%5B-21.29973200635246%2C%20-49.51635803765886%5D%2C%20%5B-19.995154278604332%2C%20-44.10362093941023%5D%2C%20%5B-6.988117880463382%2C%20-42.30955662377899%5D%2C%20%5B-18.750151296633707%2C%20-48.13641966328265%5D%2C%20%5B-5.21350455571066%2C%20-37.88917365951219%5D%2C%20%5B-8.799655420136096%2C%20-63.85867763289891%5D%2C%20%5B-4.858051822474895%2C%20-38.176284383414796%5D%2C%20%5B-7.907230197059283%2C%20-34.91614656571314%5D%2C%20%5B-9.964226070192652%2C%20-67.80695116370346%5D%2C%20%5B-8.804775732420323%2C%20-36.46930421291454%5D%2C%20%5B-9.681557580012342%2C%20-38.1071529428136%5D%2C%20%5B-5.221334049786102%2C%20-37.36009549676601%5D%2C%20%5B-3.804763121592076%2C%20-38.57160970866476%5D%2C%20%5B-12.349447992604532%2C%20-38.90974026561426%5D%2C%20%5B-25.244213741857944%2C%20-50.56286178154818%5D%2C%20%5B-28.2200758364381%2C%20-48.64556644687801%5D%2C%20%5B-8.797561101418266%2C%20-63.9092765937987%5D%2C%20%5B-28.159029513152973%2C%20-52.41242967739405%5D%2C%20%5B-19.774422208789044%2C%20-55.966281197993005%5D%2C%20%5B-17.288779703521776%2C%20-42.9451146210665%5D%2C%20%5B-17.204538331581265%2C%20-39.31682342903462%5D%2C%20%5B-15.683912390159804%2C%20-47.786380018480884%5D%2C%20%5B-9.521718809724856%2C%20-45.46593645073223%5D%2C%20%5B-29.13204671971002%2C%20-51.16098027750063%5D%2C%20%5B-24.49502076503831%2C%20-53.5721573772179%5D%2C%20%5B-4.725348748373839%2C%20-37.280119148650826%5D%2C%20%5B-4.992038052281889%2C%20-38.45217822631783%5D%2C%20%5B-20.584540910973814%2C%20-40.48464165935505%5D%2C%20%5B-9.393990439707691%2C%20-40.47563856950465%5D%2C%20%5B-22.057854720342586%2C%20-47.84966215519356%5D%2C%20%5B-8.797561101418266%2C%20-63.9092765937987%5D%2C%20%5B-5.035656533467296%2C%20-38.50429265940116%5D%2C%20%5B-20.546127929018528%2C%20-41.21428278119684%5D%2C%20%5B-12.984075382496338%2C%20-38.5483825468035%5D%2C%20%5B-18.791094690158285%2C%20-39.796254252006776%5D%2C%20%5B-21.244829649260236%2C%20-41.938475977052846%5D%2C%20%5B-3.6554043598173402%2C%20-40.700699612410524%5D%2C%20%5B-15.37620470846107%2C%20-43.77939721737346%5D%2C%20%5B-8.785511111233909%2C%20-63.9043817397972%5D%2C%20%5B-5.03675109316849%2C%20-37.61949070915459%5D%2C%20%5B-20.325659759211106%2C%20-48.321792477569545%5D%2C%20%5B-23.261118478062503%2C%20-45.850991536173986%5D%2C%20%5B-21.31619151364927%2C%20-46.32874899185454%5D%2C%20%5B-6.351977569775826%2C%20-36.189002205698465%5D%2C%20%5B-7.712480266736972%2C%20-62.519219425268794%5D%2C%20%5B-14.82375642446326%2C%20-40.844711117991565%5D%2C%20%5B-20.778788306583273%2C%20-49.377794743740985%5D%2C%20%5B-15.690908449365873%2C%20-48.15417758919085%5D%2C%20%5B-10.758957661859924%2C%20-65.0777497575837%5D%2C%20%5B-7.172799624495817%2C%20-48.140640427752%5D%2C%20%5B-5.3726366249168604%2C%20-37.98692279145735%5D%2C%20%5B-15.651396405806976%2C%20-40.434493417833046%5D%2C%20%5B-18.118553041594996%2C%20-43.50334782228909%5D%2C%20%5B-15.372500898865288%2C%20-52.640203317032864%5D%2C%20%5B-19.87989140020123%2C%20-44.65330971595233%5D%2C%20%5B-20.373356078702123%2C%20-47.338252459956536%5D%2C%20%5B-12.745474060611173%2C%20-41.14774296508137%5D%2C%20%5B-15.693379082415007%2C%20-56.00490186327478%5D%2C%20%5B-9.922996505254492%2C%20-67.82199207606944%5D%2C%20%5B-16.30418507121258%2C%20-57.85764906356037%5D%2C%20%5B-31.775621370593583%2C%20-52.310387887580156%5D%2C%20%5B-12.524728653133685%2C%20-41.92767331082179%5D%2C%20%5B-22.922569037838464%2C%20-49.780603019264234%5D%2C%20%5B-12.559837465384788%2C%20-40.240118587094024%5D%2C%20%5B-8.735749529081536%2C%20-63.90262864685174%5D%2C%20%5B-21.207614104554285%2C%20-41.81767251777072%5D%2C%20%5B-29.151545708122246%2C%20-51.1386461804385%5D%2C%20%5B-18.920782763814774%2C%20-57.57490973397174%5D%2C%20%5B-8.129131725352453%2C%20-49.48790118669311%5D%2C%20%5B-5.088805695718118%2C%20-36.92198435636012%5D%2C%20%5B-4.802411934281326%2C%20-38.121984657430176%5D%2C%20%5B-15.846620413068434%2C%20-48.03004569265449%5D%2C%20%5B-10.466841451322352%2C%20-48.25766205320974%5D%2C%20%5B-22.45176233277516%2C%20-45.20707069932302%5D%2C%20%5B-22.808161611282575%2C%20-50.38949763639648%5D%2C%20%5B-11.895563216899307%2C%20-55.43292252320012%5D%2C%20%5B-4.240920900047504%2C%20-69.9642453170258%5D%2C%20%5B-17.86929261097674%2C%20-42.924807086929114%5D%2C%20%5B-30.874443912093106%2C%20-55.52307804192791%5D%2C%20%5B-4.868494158079614%2C%20-38.21747418008846%5D%2C%20%5B-23.76850922929181%2C%20-53.352484547795285%5D%2C%20%5B-18.173353410307648%2C%20-50.59635191940936%5D%2C%20%5B-5.0073502422986795%2C%20-37.68736780201736%5D%2C%20%5B-4.788366951427577%2C%20-38.17508887080048%5D%2C%20%5B-5.110461664093853%2C%20-38.00762987237279%5D%2C%20%5B-20.023827765746734%2C%20-42.33097579952959%5D%2C%20%5B-5.503356215621698%2C%20-37.055457774737036%5D%2C%20%5B-5.635953600057891%2C%20-37.78068353742777%5D%2C%20%5B-16.357466331285128%2C%20-39.56601092474026%5D%2C%20%5B-4.788366951427577%2C%20-38.17508887080048%5D%2C%20%5B-8.89387586851064%2C%20-35.949923089519494%5D%2C%20%5B-26.150448642517585%2C%20-53.07751148370653%5D%2C%20%5B-5.046465326771964%2C%20-37.95880161494801%5D%2C%20%5B-16.54420581822374%2C%20-54.63829943020337%5D%2C%20%5B-5.091713058055317%2C%20-37.747616502677886%5D%2C%20%5B-10.26620370895578%2C%20-48.309781209350206%5D%2C%20%5B-21.021801529240932%2C%20-41.906963683896315%5D%2C%20%5B-28.40550198622388%2C%20-51.74391274913887%5D%2C%20%5B-22.439114334748606%2C%20-44.79495173656254%5D%2C%20%5B-4.8894647387794485%2C%20-38.20101359894759%5D%2C%20%5B-23.409717306815537%2C%20-47.84710513044477%5D%2C%20%5B-8.759686246669466%2C%20-63.799595314523344%5D%2C%20%5B-29.667657103616282%2C%20-52.2075614773616%5D%2C%20%5B-8.854649676644271%2C%20-63.842227873291435%5D%2C%20%5B-6.7413876614521175%2C%20-36.04723082609261%5D%2C%20%5B-20.509753186585755%2C%20-54.660653866799365%5D%2C%20%5B-27.35566193823378%2C%20-53.9683229565471%5D%2C%20%5B-19.49956648269547%2C%20-42.624118845473795%5D%2C%20%5B-7.973828852557341%2C%20-34.98415926639619%5D%2C%20%5B-5.823475023148654%2C%20-37.865580361579916%5D%2C%20%5B-8.705589496893678%2C%20-63.878061340021574%5D%2C%20%5B-5.782413736822093%2C%20-37.971640314241874%5D%2C%20%5B-16.138011166811353%2C%20-49.764149949729074%5D%2C%20%5B-29.655836418043066%2C%20-51.126459027906144%5D%2C%20%5B-18.11921164838495%2C%20-42.75839176321699%5D%2C%20%5B-18.688046319805213%2C%20-46.54299256488189%5D%2C%20%5B-27.423735360976845%2C%20-49.6568023940171%5D%2C%20%5B-14.130586386327883%2C%20-39.369568174564876%5D%2C%20%5B-5.207880422376908%2C%20-37.302766750057074%5D%2C%20%5B-6.930475919694183%2C%20-51.046190506331214%5D%2C%20%5B-4.791142119867307%2C%20-38.17262800782687%5D%2C%20%5B-18.95769237875017%2C%20-47.413314995749424%5D%2C%20%5B-8.76835783976113%2C%20-63.909052062816365%5D%2C%20%5B-22.117893404802448%2C%20-41.7392875328447%5D%2C%20%5B-5.110461664093853%2C%20-38.00762987237279%5D%2C%20%5B-6.569528734662923%2C%20-49.846315521028%5D%2C%20%5B-5.512714805065861%2C%20-37.77865527867409%5D%2C%20%5B-5.554267781018844%2C%20-37.33910549227317%5D%2C%20%5B-18.639536522454158%2C%20-43.003715695222965%5D%2C%20%5B-28.5260002182725%2C%20-52.311926618945364%5D%2C%20%5B-6.361066940933361%2C%20-47.628998957490545%5D%2C%20%5B-4.858727647010889%2C%20-38.21770982521966%5D%2C%20%5B-5.100202335254815%2C%20-38.515431486158576%5D%2C%20%5B-17.28718945440241%2C%20-42.875230256739194%5D%2C%20%5B-5.069679471777946%2C%20-37.271750249109225%5D%2C%20%5B-18.467122183078814%2C%20-43.824616689757896%5D%2C%20%5B-23.412277957567664%2C%20-46.332618876817854%5D%2C%20%5B-26.875139696987745%2C%20-48.68322842458%5D%2C%20%5B-4.769533772795044%2C%20-39.54518207593143%5D%2C%20%5B-17.789602333598346%2C%20-50.58513565275352%5D%2C%20%5B-23.1691568062653%2C%20-46.858540770876495%5D%2C%20%5B-5.056016521061155%2C%20-38.382027729479894%5D%2C%20%5B-21.727576891029464%2C%20-41.37137810692568%5D%2C%20%5B-10.453061218615073%2C%20-37.13346602696735%5D%2C%20%5B-22.932380998567975%2C%20-48.38576398001114%5D%2C%20%5B-5.276794010843008%2C%20-47.22268127207311%5D%2C%20%5B-3.4013305593173477%2C%20-39.589414448864396%5D%2C%20%5B-5.10827780001137%2C%20-38.133963946990264%5D%2C%20%5B-18.479170657472746%2C%20-52.622977761853186%5D%2C%20%5B-18.739713390398876%2C%20-44.35176980156348%5D%2C%20%5B0.019966555538106716%2C%20-51.06810942584899%5D%2C%20%5B-26.907202187924955%2C%20-52.44565719002351%5D%2C%20%5B-18.974768624905487%2C%20-43.19919865104752%5D%2C%20%5B-8.812894628918247%2C%20-63.8732537819153%5D%2C%20%5B-21.914003361843033%2C%20-49.382728646738734%5D%2C%20%5B-8.438562874496185%2C%20-71.28262621501109%5D%2C%20%5B-22.77981857017405%2C%20-42.11068215865958%5D%2C%20%5B-28.397172039444712%2C%20-54.364568289874555%5D%2C%20%5B-2.297160386713263%2C%20-54.68366142055537%5D%2C%20%5B-18.499378843275863%2C%20-43.84338849905006%5D%2C%20%5B-11.808116670434742%2C%20-55.55282846295769%5D%2C%20%5B-4.6571864983239655%2C%20-38.10577706678748%5D%2C%20%5B-8.26947700043128%2C%20-40.84473130719493%5D%2C%20%5B-14.6922813445173%2C%20-44.119820934242405%5D%2C%20%5B-9.923247384816404%2C%20-67.80210138347742%5D%2C%20%5B-4.6188634532565045%2C%20-37.80313556115055%5D%2C%20%5B-5.140331790550151%2C%20-37.26993190833022%5D%2C%20%5B-22.02853673447816%2C%20-43.12668034487981%5D%2C%20%5B-16.673058773483874%2C%20-49.27839430795822%5D%2C%20%5B-19.611720402889162%2C%20-46.87870980853263%5D%2C%20%5B-7.502828054023908%2C%20-41.387273185761636%5D%2C%20%5B-22.26639065137022%2C%20-42.53484965228283%5D%2C%20%5B-4.99623599882458%2C%20-38.65257699151097%5D%2C%20%5B-8.10038929766511%2C%20-34.88245152507072%5D%2C%20%5B-23.575419569514313%2C%20-46.910650119791875%5D%2C%20%5B-8.776029224082256%2C%20-63.847034216618404%5D%2C%20%5B-22.55521830321015%2C%20-44.262924663922654%5D%2C%20%5B-15.726404439663563%2C%20-54.177418933097336%5D%2C%20%5B-18.592966227970813%2C%20-40.54236701368393%5D%2C%20%5B-19.866666403102254%2C%20-40.31126886771369%5D%2C%20%5B-13.521464260828626%2C%20-40.558244343396254%5D%2C%20%5B-7.222315118364942%2C%20-37.2723565331219%5D%2C%20%5B2.84778630921218%2C%20-60.6925857098536%5D%2C%20%5B-5.0873260291693985%2C%20-37.62879331582293%5D%2C%20%5B-10.59715246038911%2C%20-39.84187406569743%5D%2C%20%5B-27.31108028524588%2C%20-53.357653765970035%5D%2C%20%5B-5.136149902193967%2C%20-37.435577617788034%5D%2C%20%5B-23.470656485899557%2C%20-51.94360372419232%5D%2C%20%5B-5.775173124453278%2C%20-37.99505250607281%5D%2C%20%5B-5.637766004571994%2C%20-37.879380761226734%5D%2C%20%5B-15.810758479740514%2C%20-48.0031877059123%5D%2C%20%5B-5.166531069094101%2C%20-37.34441495535484%5D%2C%20%5B-3.1411483228386876%2C%20-52.236737640059545%5D%2C%20%5B-8.797561101418266%2C%20-63.9092765937987%5D%2C%20%5B-8.817820981956658%2C%20-63.89957128943687%5D%2C%20%5B-21.1701333112398%2C%20-48.95365100803022%5D%2C%20%5B-3.3058741445940703%2C%20-52.56788181998499%5D%2C%20%5B-28.748023890412284%2C%20-51.867279334353995%5D%2C%20%5B-29.207420008571187%2C%20-51.12737673124009%5D%2C%20%5B-22.803117371218438%2C%20-43.340825157179665%5D%2C%20%5B-5.349078999600499%2C%20-38.05662521107518%5D%2C%20%5B-5.191399615827127%2C%20-37.38612240776534%5D%2C%20%5B-30.511084536026036%2C%20-53.456579084027894%5D%2C%20%5B-3.7270394624041074%2C%20-45.206642587041074%5D%2C%20%5B-5.145906109272816%2C%20-37.33528988259234%5D%2C%20%5B-17.815185170830347%2C%20-50.597613833661%5D%2C%20%5B-5.045738518579823%2C%20-37.598543066991816%5D%2C%20%5B-3.8036414594663017%2C%20-38.603048404751455%5D%2C%20%5B-8.704336498544903%2C%20-63.82236923112941%5D%2C%20%5B-4.474536142668008%2C%20-37.69654733579308%5D%2C%20%5B-3.7629393617676112%2C%20-38.635054463943554%5D%2C%20%5B-17.68005233304838%2C%20-49.1702474990536%5D%2C%20%5B-6.972491051298236%2C%20-41.48874908137978%5D%2C%20%5B-5.031403603300897%2C%20-37.00313420117624%5D%2C%20%5B-15.888707031586828%2C%20-48.06926466830532%5D%2C%20%5B-5.77076015782999%2C%20-35.28276645187032%5D%2C%20%5B-17.890659802668953%2C%20-41.47710780438822%5D%2C%20%5B-2.624219042249544%2C%20-44.326817402052%5D%2C%20%5B-5.126089035244706%2C%20-37.28118080604758%5D%2C%20%5B-8.752882959019376%2C%20-63.92211897314771%5D%2C%20%5B-4.509977719450001%2C%20-37.76449981880435%5D%2C%20%5B-5.143945330543202%2C%20-37.36813635708284%5D%2C%20%5B-5.340742100208212%2C%20-38.05210155700905%5D%2C%20%5B-21.10213174089372%2C%20-49.041306096224844%5D%2C%20%5B-29.64895699888765%2C%20-50.95726871528432%5D%2C%20%5B-20.582850497325%2C%20-44.70345554017852%5D%2C%20%5B-5.618724306389648%2C%20-37.76118896158612%5D%2C%20%5B-16.395421960464628%2C%20-39.60200085819812%5D%2C%20%5B-2.177268090938306%2C%20-45.54841135764191%5D%2C%20%5B-3.2487300595946302%2C%20-60.01763545904829%5D%2C%20%5B-19.437352641797897%2C%20-40.52713531699284%5D%2C%20%5B-15.150825125628906%2C%20-54.259057299565896%5D%2C%20%5B-23.980868249588774%2C%20-48.81432680182356%5D%2C%20%5B-16.285850904205816%2C%20-48.96719129153912%5D%2C%20%5B-7.24353225880949%2C%20-35.932801997738665%5D%2C%20%5B-7.5701326268370295%2C%20-48.39563876874771%5D%2C%20%5B-7.034193184288506%2C%20-34.83439522594971%5D%2C%20%5B-26.920598210136113%2C%20-48.697664592143354%5D%2C%20%5B-5.219711837744265%2C%20-37.37594585072137%5D%2C%20%5B-8.720396917760622%2C%20-63.74688620531836%5D%2C%20%5B-5.180065900953948%2C%20-37.98963254866818%5D%2C%20%5B-21.736010069191018%2C%20-46.605258014608324%5D%2C%20%5B-0.13917025555961357%2C%20-50.36647941823018%5D%2C%20%5B-8.740106539033098%2C%20-63.91242767360765%5D%2C%20%5B-5.018270957065258%2C%20-38.55815799454142%5D%2C%20%5B-4.724951412925309%2C%20-38.04913107197545%5D%2C%20%5B-19.6022789685395%2C%20-43.97599542266841%5D%2C%20%5B-22.14048104539121%2C%20-51.36042185874027%5D%2C%20%5B-17.7541174509408%2C%20-50.90904567040134%5D%2C%20%5B-14.107533328008017%2C%20-42.775643546889825%5D%2C%20%5B-23.3644109673048%2C%20-47.55192774682032%5D%2C%20%5B-9.934986618182515%2C%20-63.006425516710635%5D%2C%20%5B-31.32457704311148%2C%20-54.096531627776635%5D%2C%20%5B-12.995493550417754%2C%20-38.57710031978106%5D%2C%20%5B-7.108347058649846%2C%20-41.538110589747475%5D%2C%20%5B-6.87581656610773%2C%20-38.4734496689883%5D%2C%20%5B-21.4027030873507%2C%20-41.64800863566419%5D%2C%20%5B-4.506781117561834%2C%20-37.765099728134835%5D%2C%20%5B-3.8599908744401055%2C%20-38.54177664792789%5D%2C%20%5B-5.729865979136433%2C%20-37.94796879417951%5D%2C%20%5B-16.767985694537128%2C%20-49.23112389123743%5D%2C%20%5B-23.52675232670331%2C%20-46.81162297059148%5D%2C%20%5B-11.26612688373227%2C%20-38.01482088975596%5D%2C%20%5B-23.736182785087788%2C%20-46.59054122908709%5D%2C%20%5B-8.794316744751603%2C%20-63.88492671619777%5D%2C%20%5B-7.2180877664361045%2C%20-34.900952853064524%5D%2C%20%5B-19.44220140757648%2C%20-42.55966080658882%5D%2C%20%5B-4.509977719450001%2C%20-37.76449981880435%5D%2C%20%5B-9.637678546595646%2C%20-63.29345146207963%5D%2C%20%5B-31.740856971668517%2C%20-52.22640237515946%5D%2C%20%5B-10.757307088844057%2C%20-47.44097151827041%5D%2C%20%5B-21.90642633075357%2C%20-42.25101440846698%5D%2C%20%5B-17.02269035029107%2C%20-40.93414301889413%5D%2C%20%5B-21.121044762772833%2C%20-47.797541597035554%5D%2C%20%5B-17.935455564410297%2C%20-42.849547361724845%5D%2C%20%5B-5.198016964116268%2C%20-37.95638432752724%5D%2C%20%5B-4.777915589318581%2C%20-38.14226628506549%5D%2C%20%5B-8.795068247834026%2C%20-63.83630959684505%5D%2C%20%5B-9.65489132609%2C%20-36.11148939494595%5D%2C%20%5B-4.763255359564152%2C%20-38.153080580507115%5D%2C%20%5B-8.307790759849295%2C%20-46.29787348725726%5D%2C%20%5B-6.3736199434535905%2C%20-38.42472547810521%5D%2C%20%5B-14.917095266051124%2C%20-40.86431334532485%5D%2C%20%5B-8.6674586351352%2C%20-63.92410747365383%5D%2C%20%5B-18.873675645329307%2C%20-46.969154325335694%5D%2C%20%5B-22.764320887454414%2C%20-42.685769148682795%5D%2C%20%5B-5.211302106828657%2C%20-37.34596783120265%5D%2C%20%5B-9.442283825723283%2C%20-37.189549006325855%5D%2C%20%5B-5.185759537225797%2C%20-38.00714118004797%5D%2C%20%5B-4.57986659137655%2C%20-37.77446736679667%5D%2C%20%5B-5.221334049786102%2C%20-37.36009549676601%5D%2C%20%5B-20.917556336511723%2C%20-48.42549365255756%5D%2C%20%5B-4.228547797008268%2C%20-56.00647687678479%5D%2C%20%5B-26.95043249483938%2C%20-48.58389703207775%5D%2C%20%5B-15.678303841980902%2C%20-49.335249782852244%5D%2C%20%5B-8.731775791266367%2C%20-63.746171267548355%5D%2C%20%5B-12.17204060602292%2C%20-46.02197164044198%5D%2C%20%5B-22.104923805598794%2C%20-51.41331713560005%5D%2C%20%5B-10.60667481963043%2C%20-62.19234228643162%5D%2C%20%5B-5.176629847312009%2C%20-37.60199027753888%5D%2C%20%5B-4.714188768903282%2C%20-38.022162937446325%5D%2C%20%5B-5.729865979136433%2C%20-37.94796879417951%5D%2C%20%5B-29.15306403611499%2C%20-51.21398058729003%5D%2C%20%5B-8.799655420136096%2C%20-63.85867763289891%5D%2C%20%5B-16.09077093072099%2C%20-42.15878758196271%5D%2C%20%5B-22.997352594356855%2C%20-53.397150378404234%5D%2C%20%5B1.247306040178051%2C%20-53.003556223119595%5D%2C%20%5B-5.587271968875519%2C%20-35.27615650970991%5D%2C%20%5B-5.046465326771964%2C%20-37.95880161494801%5D%2C%20%5B-1.3200727748499514%2C%20-47.99092441441302%5D%2C%20%5B-27.537148768814255%2C%20-48.62861450345198%5D%2C%20%5B-7.20504712607262%2C%20-34.85833978498636%5D%2C%20%5B-4.860438418421241%2C%20-37.765416693487005%5D%2C%20%5B-4.430901851300395%2C%20-70.18884069799982%5D%2C%20%5B-8.051527449956799%2C%20-49.97241242411772%5D%2C%20%5B-23.106959884615883%2C%20-45.711505559548264%5D%2C%20%5B-25.344721990663643%2C%20-51.34930459353321%5D%2C%20%5B2.8839275582510187%2C%20-60.65619005016023%5D%2C%20%5B-18.639536522454158%2C%20-43.003715695222965%5D%2C%20%5B-3.3413925421708393%2C%20-45.570906405255506%5D%2C%20%5B-6.292284586440905%2C%20-50.59475199423942%5D%2C%20%5B-8.748008040691104%2C%20-63.804042497427915%5D%2C%20%5B-17.82587794701353%2C%20-43.93649378991469%5D%2C%20%5B-4.983121654105999%2C%20-36.96010806234774%5D%2C%20%5B-6.935570991920488%2C%20-41.368636901115714%5D%2C%20%5B-3.285226714675848%2C%20-44.52983844188151%5D%2C%20%5B-14.505232078684662%2C%20-48.42537632973721%5D%2C%20%5B-23.31829175896473%2C%20-47.52126901552793%5D%2C%20%5B-5.157137277689412%2C%20-38.01595434740941%5D%2C%20%5B-8.783892553151922%2C%20-63.84740393424022%5D%2C%20%5B-5.024960546488124%2C%20-37.07012950093294%5D%2C%20%5B-8.762870298504966%2C%20-63.817514246746605%5D%2C%20%5B-12.143510478716925%2C%20-45.04531262903639%5D%2C%20%5B-4.506781117561834%2C%20-37.765099728134835%5D%2C%20%5B-20.582427313345956%2C%20-43.314147707710546%5D%2C%20%5B-12.916408621133023%2C%20-38.629797238735414%5D%2C%20%5B-23.408575442628486%2C%20-46.74487522269909%5D%2C%20%5B-4.945536522208776%2C%20-38.06351287550685%5D%2C%20%5B-22.24615630832363%2C%20-50.93025961401995%5D%2C%20%5B-11.628028288143794%2C%20-38.91090888372398%5D%2C%20%5B-6.889820449177031%2C%20-40.30472584669567%5D%2C%20%5B-18.281743598499904%2C%20-42.527939023051026%5D%2C%20%5B-4.788366951427577%2C%20-38.17508887080048%5D%2C%20%5B-14.799920200404951%2C%20-40.48404380390493%5D%2C%20%5B-8.748340918597057%2C%20-63.80720207889511%5D%2C%20%5B-26.5913362895819%2C%20-51.065107761551786%5D%2C%20%5B-23.114402623257938%2C%20-54.14209668645419%5D%2C%20%5B-5.352359830592015%2C%20-38.107434705181625%5D%2C%20%5B-15.583809021220524%2C%20-56.01433100020313%5D%2C%20%5B-5.197482523525698%2C%20-40.73339522848447%5D%2C%20%5B-1.269023030236172%2C%20-47.93548351934578%5D%2C%20%5B-4.647381312129666%2C%20-37.73094727107998%5D%2C%20%5B-29.18343957035329%2C%20-51.816602385525634%5D%2C%20%5B-28.684915709534458%2C%20-49.41453588776349%5D%2C%20%5B-17.55223523321076%2C%20-43.08640828287003%5D%2C%20%5B-3.6960804083123224%2C%20-40.34115861682714%5D%2C%20%5B-15.937989644594726%2C%20-52.05585388991044%5D%2C%20%5B-5.703907261549737%2C%20-37.99100035954817%5D%2C%20%5B-3.9377691390000154%2C%20-48.87321324012728%5D%2C%20%5B-6.226658017989165%2C%20-50.56207267036074%5D%2C%20%5B-22.27840207531295%2C%20-49.03719064990396%5D%2C%20%5B-17.886323042306167%2C%20-39.79563040527392%5D%2C%20%5B-8.981179374593573%2C%20-63.4817599112312%5D%2C%20%5B-3.7826121404663646%2C%20-38.552971988644195%5D%2C%20%5B-14.822141540054162%2C%20-40.817095341882464%5D%2C%20%5B-8.473622729768085%2C%20-38.31525733443914%5D%2C%20%5B-22.204118454437832%2C%20-42.57153395494038%5D%2C%20%5B-18.889714094203274%2C%20-48.2648688487013%5D%2C%20%5B-5.107019380322139%2C%20-37.28662719188866%5D%2C%20%5B-5.6221206382238735%2C%20-35.69294401190702%5D%2C%20%5B-22.552728367056442%2C%20-44.978136478009226%5D%2C%20%5B-5.782413736822093%2C%20-37.971640314241874%5D%2C%20%5B-7.123519843110804%2C%20-34.77979378479423%5D%2C%20%5B-5.782413736822093%2C%20-37.971640314241874%5D%2C%20%5B-23.295591628948785%2C%20-47.197064514639294%5D%2C%20%5B-4.777915589318581%2C%20-38.14226628506549%5D%2C%20%5B-18.707607315118313%2C%20-39.84815080213281%5D%2C%20%5B-5.09853441755484%2C%20-37.34522528959407%5D%2C%20%5B-28.339471666965345%2C%20-52.503831762996676%5D%2C%20%5B-4.821337991110021%2C%20-38.20179142110958%5D%2C%20%5B-14.068041635086905%2C%20-39.72512853479849%5D%2C%20%5B-19.688493279693688%2C%20-55.880014219528434%5D%2C%20%5B-21.895888561582336%2C%20-44.60984785545812%5D%2C%20%5B-5.0979133781929615%2C%20-37.97233286189702%5D%2C%20%5B-15.444670202856566%2C%20-50.74648907085156%5D%2C%20%5B-5.175035209807586%2C%20-37.298724686143515%5D%2C%20%5B-9.460022394415006%2C%20-36.31478949111793%5D%2C%20%5B-4.913818741248113%2C%20-37.83674138737664%5D%2C%20%5B-4.682122251453244%2C%20-38.06553929587813%5D%2C%20%5B2.850948209704986%2C%20-60.713419628768015%5D%2C%20%5B-3.597683474339016%2C%20-39.54092171385767%5D%2C%20%5B-4.276688802043353%2C%20-41.76425945103641%5D%2C%20%5B-0.1901255239167612%2C%20-50.45565824215631%5D%2C%20%5B-23.101614419743147%2C%20-44.352994114354715%5D%2C%20%5B-8.795622782220144%2C%20-63.8849647616616%5D%2C%20%5B-5.063172812577233%2C%20-42.813751058703396%5D%2C%20%5B-23.392946570120838%2C%20-46.521605580648405%5D%2C%20%5B-15.958867794914898%2C%20-47.82667360870314%5D%2C%20%5B-24.038944112062648%2C%20-48.94578210961532%5D%2C%20%5B-18.811078796085265%2C%20-42.880128153193446%5D%2C%20%5B-22.883122951960637%2C%20-42.0440860820678%5D%2C%20%5B-29.151545708122246%2C%20-51.1386461804385%5D%2C%20%5B-5.121362205075783%2C%20-37.962823238017144%5D%2C%20%5B-20.257435787056693%2C%20-40.266148306418934%5D%2C%20%5B-4.64464092492145%2C%20-37.788609213039166%5D%2C%20%5B-21.748223570069502%2C%20-50.826076553870585%5D%2C%20%5B-19.079921817835945%2C%20-57.54592493665281%5D%2C%20%5B-16.041760032338853%2C%20-42.176413631318724%5D%2C%20%5B-6.889920348870196%2C%20-41.37521024527983%5D%2C%20%5B-17.345143722042014%2C%20-44.76390013939015%5D%2C%20%5B-26.27287977092204%2C%20-52.776319172187264%5D%2C%20%5B-4.614068173833779%2C%20-37.72963199268489%5D%2C%20%5B-18.231993642026193%2C%20-42.27174413834132%5D%2C%20%5B-3.712829439689342%2C%20-43.44376094470033%5D%2C%20%5B-5.04163761368231%2C%20-38.50320508772386%5D%2C%20%5B-5.642595442419522%2C%20-37.86364362662535%5D%2C%20%5B-4.983121654105999%2C%20-36.96010806234774%5D%2C%20%5B-14.160686990831099%2C%20-46.479585872664146%5D%2C%20%5B-4.21654513136539%2C%20-55.96546622850345%5D%2C%20%5B-7.903752587179011%2C%20-35.20246831896451%5D%2C%20%5B-12.384560018739956%2C%20-49.9024735872717%5D%2C%20%5B-6.148840600164605%2C%20-37.59027661309723%5D%2C%20%5B-7.207451065838822%2C%20-39.44275491159192%5D%2C%20%5B-9.887578593235986%2C%20-62.979905433072325%5D%2C%20%5B-4.992038052281889%2C%20-38.45217822631783%5D%2C%20%5B-9.886471250929585%2C%20-67.8499015466211%5D%2C%20%5B-18.731184816772085%2C%20-42.860003541194736%5D%2C%20%5B-21.4178039667401%2C%20-47.940527863383025%5D%2C%20%5B-5.230424878911747%2C%20-37.41397894581111%5D%2C%20%5B-1.2447106437824584%2C%20-50.516242618755605%5D%2C%20%5B-11.76520964935468%2C%20-61.792324318944615%5D%2C%20%5B-15.662198928779814%2C%20-42.366270659153415%5D%2C%20%5B-6.085789260841921%2C%20-38.23152002001738%5D%2C%20%5B-18.403154714251354%2C%20-42.73028844001603%5D%2C%20%5B-5.031403603300897%2C%20-37.00313420117624%5D%2C%20%5B-26.507462858835208%2C%20-48.78657642370614%5D%2C%20%5B-5.939443349479613%2C%20-36.522225323143566%5D%2C%20%5B-4.804762777491972%2C%20-38.15676037733488%5D%2C%20%5B-23.565628875022753%2C%20-49.99171266206878%5D%2C%20%5B-27.335681095638567%2C%20-48.45548420847486%5D%2C%20%5B-23.261145208178355%2C%20-55.00533229152019%5D%2C%20%5B-20.741485137806492%2C%20-54.57455963156367%5D%2C%20%5B-5.643236317389968%2C%20-37.86201108881622%5D%2C%20%5B-16.00678986030088%2C%20-40.722764992711134%5D%2C%20%5B-10.388301638420675%2C%20-58.51730313600177%5D%2C%20%5B-33.62756453808152%2C%20-53.3647766200381%5D%2C%20%5B-21.849277910581584%2C%20-41.29501366068359%5D%2C%20%5B-21.572166140426848%2C%20-51.614410712322425%5D%2C%20%5B-15.550492684043826%2C%20-56.118857371476416%5D%2C%20%5B-7.814337784384622%2C%20-72.59146893467722%5D%2C%20%5B-24.54662423382297%2C%20-52.13122892521532%5D%2C%20%5B-4.763521956571926%2C%20-38.186486822117104%5D%2C%20%5B-5.1744228288452545%2C%20-36.828765310026725%5D%2C%20%5B-14.359203810943697%2C%20-49.13396736408204%5D%2C%20%5B-6.301535371998752%2C%20-35.96042211906549%5D%2C%20%5B-23.311908031149265%2C%20-45.95460535608556%5D%2C%20%5B-25.168931613608287%2C%20-50.17629209056356%5D%2C%20%5B-5.023599901038419%2C%20-37.567980645354496%5D%2C%20%5B-5.17901063185274%2C%20-38.11263258431692%5D%2C%20%5B-25.07922888783732%2C%20-50.00559971636593%5D%2C%20%5B-29.274119191308806%2C%20-52.14443063365767%5D%2C%20%5B-16.62094112701209%2C%20-41.54122064839299%5D%2C%20%5B-20.864839480696695%2C%20-46.13137429155719%5D%2C%20%5B-7.345846462342247%2C%20-38.468555486966366%5D%2C%20%5B-2.209386083309969%2C%20-45.46913917837428%5D%2C%20%5B-20.483174434895922%2C%20-54.59311754027018%5D%2C%20%5B-8.013784501920483%2C%20-34.924052212124046%5D%2C%20%5B-4.437201561111144%2C%20-38.075480288248755%5D%2C%20%5B-30.929449032719457%2C%20-55.51276178471605%5D%2C%20%5B-16.78735937995743%2C%20-49.30720473586825%5D%2C%20%5B-4.506781117561834%2C%20-37.765099728134835%5D%2C%20%5B-9.370006741159964%2C%20-40.40891017997477%5D%2C%20%5B-5.087247111455202%2C%20-38.46671311696037%5D%2C%20%5B-25.09702148543351%2C%20-50.098673046484365%5D%2C%20%5B-5.2050255301567425%2C%20-37.44516381121989%5D%2C%20%5B-5.370081513682156%2C%20-38.26274368877834%5D%2C%20%5B-29.713015090807705%2C%20-53.62696840093215%5D%2C%20%5B-4.141292349927678%2C%20-41.00115108724343%5D%2C%20%5B-15.661885088152411%2C%20-49.44592191698892%5D%2C%20%5B-4.9764132673058254%2C%20-38.6023836497924%5D%2C%20%5B-6.861354852405902%2C%20-41.77904899378215%5D%2C%20%5B-5.230424878911747%2C%20-37.41397894581111%5D%2C%20%5B-19.11733262631957%2C%20-43.303389036375144%5D%2C%20%5B-4.697313672005431%2C%20-38.02955897962675%5D%2C%20%5B-8.7762869932211%2C%20-63.91734907497122%5D%2C%20%5B-5.137144292586094%2C%20-37.37207173674577%5D%2C%20%5B-3.019499344390917%2C%20-45.62607297442998%5D%2C%20%5B-29.73708106214606%2C%20-57.21354987865036%5D%2C%20%5B-5.23377157714395%2C%20-37.34535407178499%5D%2C%20%5B-22.69182789491531%2C%20-42.74719680786408%5D%2C%20%5B-15.873413125711528%2C%20-48.00079239386629%5D%2C%20%5B-22.204118454437832%2C%20-42.57153395494038%5D%2C%20%5B-28.146718792625652%2C%20-52.03822021456312%5D%2C%20%5B-17.843689692378156%2C%20-41.56038985886914%5D%2C%20%5B-5.531389820136899%2C%20-45.298594582555765%5D%2C%20%5B-20.651808264319346%2C%20-50.53998896622962%5D%2C%20%5B-22.25812726425251%2C%20-43.76404889836561%5D%2C%20%5B-6.882808580187964%2C%20-38.7674841015143%5D%2C%20%5B-18.21437524496926%2C%20-47.720898380159%5D%2C%20%5B-9.054424791335835%2C%20-36.06531076651876%5D%2C%20%5B-15.510434522495858%2C%20-59.429246289410976%5D%2C%20%5B-9.002839624126544%2C%20-63.415999703563756%5D%2C%20%5B-12.906142019071009%2C%20-38.449712934612954%5D%2C%20%5B-17.814882173255597%2C%20-43.498433282161656%5D%2C%20%5B-25.52414786840177%2C%20-49.253211669214515%5D%2C%20%5B-17.804988968869885%2C%20-42.84607709356091%5D%2C%20%5B-20.84991385555058%2C%20-41.13101582978871%5D%2C%20%5B-22.806670939143743%2C%20-47.15867328621771%5D%2C%20%5B-4.895953048232153%2C%20-38.06107729571794%5D%2C%20%5B-30.1462171138512%2C%20-51.18327392009333%5D%2C%20%5B-5.329413686639041%2C%20-38.26583609066566%5D%2C%20%5B-4.99623599882458%2C%20-38.65257699151097%5D%2C%20%5B-17.81275344248035%2C%20-42.90034290839577%5D%2C%20%5B-13.540164123895563%2C%20-48.38447694081029%5D%2C%20%5B-2.5999275516509432%2C%20-44.269093519847424%5D%2C%20%5B-14.553144910384065%2C%20-44.04890243968027%5D%2C%20%5B-27.632303755073732%2C%20-48.57915617477975%5D%2C%20%5B-4.554346426273236%2C%20-37.71905720646876%5D%2C%20%5B-15.425595684273237%2C%20-41.67248076424462%5D%2C%20%5B-10.68659667042531%2C%20-62.56760128124319%5D%2C%20%5B-7.23424806725827%2C%20-48.15724513957342%5D%2C%20%5B-19.11733262631957%2C%20-43.303389036375144%5D%2C%20%5B-9.985130742924715%2C%20-67.82312345535124%5D%2C%20%5B-4.997172991601715%2C%20-42.894385520214826%5D%2C%20%5B-25.511959985012677%2C%20-49.226106897175384%5D%2C%20%5B-2.9528634623715537%2C%20-41.681201706419955%5D%2C%20%5B-22.064183695074583%2C%20-47.838197041653316%5D%2C%20%5B-13.042436822827604%2C%20-38.50545160861254%5D%2C%20%5B-5.03675109316849%2C%20-37.61949070915459%5D%2C%20%5B-16.648472988314573%2C%20-49.354860892492304%5D%2C%20%5B-9.32702639347867%2C%20-62.063704531681076%5D%2C%20%5B-4.821337991110021%2C%20-38.20179142110958%5D%2C%20%5B-9.887578593235986%2C%20-62.979905433072325%5D%2C%20%5B-8.688237384818994%2C%20-63.85792836870278%5D%2C%20%5B-10.615401387793945%2C%20-68.43473612733796%5D%2C%20%5B-5.660721529655397%2C%20-37.774429901479394%5D%2C%20%5B-16.77565560569965%2C%20-49.1709324958645%5D%2C%20%5B-7.929075891765586%2C%20-40.149870980905334%5D%2C%20%5B-12.940839279614567%2C%20-39.28810815679966%5D%2C%20%5B-22.41651914268958%2C%20-46.91214261993489%5D%2C%20%5B-4.813289063388138%2C%20-37.8729874928375%5D%2C%20%5B-4.781464309846614%2C%20-37.785034349182624%5D%2C%20%5B-3.1687831748748954%2C%20-60.0051274042986%5D%2C%20%5B-19.42200484734942%2C%20-40.04924096949302%5D%2C%20%5B-15.707836527576774%2C%20-50.77185227915036%5D%2C%20%5B-28.339471666965345%2C%20-52.503831762996676%5D%2C%20%5B-7.065500757554281%2C%20-36.40188515724198%5D%2C%20%5B-8.783276539173244%2C%20-63.77687511507066%5D%2C%20%5B-16.380570434098345%2C%20-53.633071383138656%5D%2C%20%5B-22.92566998319221%2C%20-43.52815823913101%5D%2C%20%5B-29.51616790777127%2C%20-52.20957352546154%5D%2C%20%5B-15.677193861907165%2C%20-40.09039639289682%5D%2C%20%5B-12.837008872749696%2C%20-38.445260505646296%5D%2C%20%5B-5.559104387321815%2C%20-37.74693000808273%5D%2C%20%5B-27.9557635713892%2C%20-55.117227063464654%5D%2C%20%5B-2.416938289067199%2C%20-54.66468555752467%5D%2C%20%5B-15.584040089120988%2C%20-56.19345362817158%5D%2C%20%5B-7.470096553631262%2C%20-41.48401216981245%5D%2C%20%5B-5.642595442419522%2C%20-37.86364362662535%5D%2C%20%5B-5.157137277689412%2C%20-38.01595434740941%5D%2C%20%5B-5.263174602607663%2C%20-38.109038260306306%5D%2C%20%5B-19.84631112185497%2C%20-43.91266796298616%5D%2C%20%5B-12.964547100866794%2C%20-38.43855895356005%5D%2C%20%5B-4.554346426273236%2C%20-37.71905720646876%5D%2C%20%5B-5.642595442419522%2C%20-37.86364362662535%5D%2C%20%5B-16.970098230607434%2C%20-40.93021044574561%5D%2C%20%5B-22.182507751386822%2C%20-51.49047578817651%5D%2C%20%5B-20.841173572989%2C%20-48.31102434138581%5D%2C%20%5B-21.33719731765921%2C%20-48.12632311191768%5D%2C%20%5B-20.54447420574445%2C%20-44.89419844623649%5D%2C%20%5B-6.310031757261117%2C%20-50.684149666198316%5D%2C%20%5B-5.753640346987751%2C%20-36.492641864941675%5D%2C%20%5B-22.26256376434747%2C%20-48.59675463918762%5D%2C%20%5B-9.934986618182515%2C%20-63.006425516710635%5D%2C%20%5B-4.942304854330207%2C%20-37.64096712929427%5D%2C%20%5B-6.979419757390765%2C%20-38.67590998889593%5D%2C%20%5B-27.65778067601448%2C%20-53.109489373500836%5D%2C%20%5B-22.191845001525643%2C%20-45.00164081907206%5D%2C%20%5B-9.4435248258631%2C%20-40.493626165971065%5D%2C%20%5B-2.427947269496282%2C%20-44.208548552585434%5D%2C%20%5B-14.227486638619219%2C%20-42.84546916087079%5D%2C%20%5B-9.406569993644775%2C%20-40.54236673462515%5D%2C%20%5B-20.173683479649764%2C%20-42.0214504833749%5D%2C%20%5B-23.022975338826175%2C%20-49.87674424013214%5D%2C%20%5B-8.486390498766282%2C%20-37.10436859143782%5D%2C%20%5B-24.07358467138349%2C%20-49.92279641986437%5D%2C%20%5B-18.655395888779996%2C%20-48.20187744459812%5D%2C%20%5B-18.845166499361888%2C%20-47.03481391700504%5D%2C%20%5B-21.09633607378983%2C%20-41.60793916775049%5D%2C%20%5B-26.78930460148624%2C%20-52.42224221225513%5D%2C%20%5B-18.467122183078814%2C%20-43.824616689757896%5D%2C%20%5B-23.40653531265568%2C%20-49.44741132767944%5D%2C%20%5B-5.290371943128465%2C%20-49.15354565417249%5D%2C%20%5B-17.533541723865845%2C%20-39.75249398202323%5D%2C%20%5B-29.669382796358533%2C%20-51.11720084885833%5D%2C%20%5B-5.335065545153371%2C%20-49.12821078540013%5D%2C%20%5B-4.474536142668008%2C%20-37.69654733579308%5D%2C%20%5B-15.7065555579525%2C%20-47.866331433637015%5D%2C%20%5B-7.887893719441454%2C%20-37.063891307186324%5D%2C%20%5B-5.102224608770782%2C%20-42.726932261392236%5D%2C%20%5B-29.295013767984422%2C%20-51.20014240131022%5D%2C%20%5B-28.67858869753532%2C%20-49.413767563590135%5D%2C%20%5B-21.24922257328361%2C%20-41.82286893336727%5D%2C%20%5B-15.524163993456982%2C%20-56.05024363434841%5D%2C%20%5B-29.210435075609308%2C%20-51.49832588194768%5D%2C%20%5B-22.35579838611077%2C%20-42.48791293475728%5D%2C%20%5B-8.536828134896535%2C%20-36.218580568382635%5D%2C%20%5B-5.088157821235008%2C%20-38.4870818915976%5D%2C%20%5B-5.090661366642828%2C%20-37.234021307183646%5D%2C%20%5B-23.118337067950726%2C%20-47.22987811072924%5D%2C%20%5B-3.760899509718249%2C%20-49.699484462050776%5D%2C%20%5B-4.690769858021743%2C%20-37.32211811349053%5D%2C%20%5B-10.491413949404887%2C%20-37.43368778091528%5D%2C%20%5B-12.639087471127796%2C%20-39.432229228273656%5D%2C%20%5B-4.840777549975739%2C%20-38.14695746117504%5D%2C%20%5B-5.744254695862279%2C%20-37.552206260445736%5D%2C%20%5B-23.026545163299776%2C%20-45.53529186201537%5D%2C%20%5B-27.598356273529912%2C%20-48.57747119637034%5D%2C%20%5B-18.39243400069737%2C%20-49.27004709441396%5D%2C%20%5B-14.193089509992358%2C%20-51.963145637760675%5D%2C%20%5B-7.173436473635094%2C%20-34.89850809747042%5D%2C%20%5B-19.449628817800036%2C%20-42.66683890144854%5D%2C%20%5B-3.00787873707555%2C%20-41.742548446907094%5D%2C%20%5B-15.623289637945316%2C%20-56.03634413026786%5D%2C%20%5B-8.103264420417622%2C%20-34.94712257328653%5D%2C%20%5B-8.26947700043128%2C%20-40.84473130719493%5D%2C%20%5B-21.78376458912994%2C%20-41.29133609455339%5D%2C%20%5B-15.923460121246265%2C%20-47.76024463532546%5D%2C%20%5B-8.76156959521952%2C%20-63.929682841689996%5D%2C%20%5B-5.93932726064643%2C%20-35.130827143843554%5D%2C%20%5B-6.45701655095189%2C%20-39.521224099829546%5D%2C%20%5B-8.758855788339021%2C%20-63.88132706025806%5D%2C%20%5B-5.554267781018844%2C%20-37.33910549227317%5D%2C%20%5B-22.0284963488058%2C%20-47.317272800985066%5D%2C%20%5B-12.645791314003443%2C%20-55.56982796621405%5D%2C%20%5B-7.223151620659345%2C%20-48.219202111568336%5D%2C%20%5B-8.219797273454507%2C%20-38.79119089383467%5D%2C%20%5B-1.3763095206815397%2C%20-48.49471816585884%5D%2C%20%5B-3.7391366460428284%2C%20-39.548490960335386%5D%2C%20%5B-23.53378362675803%2C%20-46.34621783917775%5D%2C%20%5B-7.822473757409089%2C%20-35.90750031606501%5D%2C%20%5B-18.643655424424704%2C%20-43.536074675479185%5D%2C%20%5B-9.74497803429504%2C%20-35.72715479389083%5D%2C%20%5B-28.42389144105219%2C%20-50.93527328822655%5D%2C%20%5B-12.680225521861573%2C%20-41.08861349905597%5D%2C%20%5B-31.66014046661389%2C%20-52.42487428091697%5D%2C%20%5B-21.317264901486396%2C%20-46.60538584434873%5D%2C%20%5B-10.774659158526473%2C%20-39.04445376098272%5D%2C%20%5B-4.726569827321769%2C%20-37.35545553789407%5D%2C%20%5B-27.938299895396227%2C%20-51.286193445013375%5D%2C%20%5B-15.164883443509297%2C%20-43.129591080485916%5D%2C%20%5B-3.7177856745217195%2C%20-38.52792399841292%5D%2C%20%5B-5.245159111726516%2C%20-37.37964456960023%5D%2C%20%5B-31.44607057784168%2C%20-53.36846862483716%5D%2C%20%5B-12.132762555514143%2C%20-45.96486344503047%5D%2C%20%5B-28.653918615717956%2C%20-55.742360088362325%5D%2C%20%5B-5.121362205075783%2C%20-37.962823238017144%5D%2C%20%5B-5.876287617201727%2C%20-35.20414284975634%5D%2C%20%5B-13.650348224103533%2C%20-56.808839480450594%5D%2C%20%5B-22.789132657895184%2C%20-43.352914191949%5D%2C%20%5B-3.198176187049025%2C%20-59.967446364470646%5D%2C%20%5B-23.216138162691397%2C%20-46.782479998561264%5D%2C%20%5B-5.714912785637218%2C%20-37.54837784476072%5D%2C%20%5B-5.936920485647708%2C%20-35.26847122658499%5D%2C%20%5B-26.321835041209187%2C%20-50.436504633273614%5D%2C%20%5B-15.340008788387609%2C%20-58.49359867548384%5D%2C%20%5B0.029144652563556528%2C%20-51.06529012150596%5D%2C%20%5B-8.840370975102486%2C%20-63.87270970605089%5D%2C%20%5B-22.110974132370398%2C%20-44.98599580553329%5D%2C%20%5B-29.131224821374374%2C%20-51.578450547553835%5D%2C%20%5B-17.1243142376585%2C%20-43.670872766933236%5D%2C%20%5B-19.42673207951245%2C%20-47.53319934016608%5D%2C%20%5B-12.63758871986831%2C%20-39.3751441091809%5D%2C%20%5B-4.834474203517447%2C%20-38.15270675624388%5D%2C%20%5B-4.8894647387794485%2C%20-38.20101359894759%5D%2C%20%5B-8.736752109286265%2C%20-63.88181690770006%5D%2C%20%5B-15.589959034746196%2C%20-58.070175417796165%5D%2C%20%5B-15.743211128698773%2C%20-47.80821764953333%5D%2C%20%5B-20.843634027126065%2C%20-51.73137140878301%5D%2C%20%5B-21.20111619638408%2C%20-41.916120193247856%5D%2C%20%5B-11.787804074116641%2C%20-55.410872569232254%5D%2C%20%5B-26.34599271407854%2C%20-48.69756869918755%5D%2C%20%5B-16.67298462261179%2C%20-49.22068247458885%5D%2C%20%5B-8.754779717791179%2C%20-63.862139082828286%5D%2C%20%5B-7.677525543443082%2C%20-47.55853666585382%5D%2C%20%5B-4.847767818177136%2C%20-64.91392488461702%5D%2C%20%5B-7.920225646824212%2C%20-35.138835857974044%5D%2C%20%5B-15.340008788387609%2C%20-58.49359867548384%5D%2C%20%5B-23.46997333578815%2C%20-46.481618428225254%5D%2C%20%5B-16.754565808768895%2C%20-43.997944242196375%5D%2C%20%5B-7.799360362954358%2C%20-39.40144938284155%5D%2C%20%5B-18.910393685991593%2C%20-48.3405385381224%5D%2C%20%5B-15.754069366214924%2C%20-55.94498815185418%5D%2C%20%5B-8.854649676644271%2C%20-63.842227873291435%5D%2C%20%5B-10.956910989197453%2C%20-61.93849560820704%5D%2C%20%5B-5.156767859382845%2C%20-37.32412948815525%5D%2C%20%5B-20.337277432478718%2C%20-54.58656410732247%5D%2C%20%5B-7.323001063136621%2C%20-39.4870474604733%5D%2C%20%5B-30.37522596060517%2C%20-54.38057212181296%5D%2C%20%5B-22.55708560676066%2C%20-44.834113458137466%5D%2C%20%5B-23.423023644199056%2C%20-51.85561253735327%5D%2C%20%5B-28.406379969234663%2C%20-54.167019369229834%5D%2C%20%5B-22.24773065331688%2C%20-49.00212643332915%5D%2C%20%5B-18.42059423631587%2C%20-43.06295135352576%5D%2C%20%5B-9.964093076484026%2C%20-63.005347454224484%5D%2C%20%5B-25.428414387375636%2C%20-49.11753171869416%5D%2C%20%5B-6.4897747899470115%2C%20-35.768387174691135%5D%2C%20%5B-11.253936714890834%2C%20-41.81671829898089%5D%2C%20%5B-11.305551831142683%2C%20-42.09058252572469%5D%2C%20%5B-23.54315876699473%2C%20-51.36336468680045%5D%2C%20%5B-20.464113544065153%2C%20-49.99019463055002%5D%2C%20%5B-18.309753073939888%2C%20-40.208112595688775%5D%2C%20%5B-13.034034975555135%2C%20-38.52240927893836%5D%2C%20%5B-8.817950131286283%2C%20-69.33778695721658%5D%2C%20%5B-7.500979102341286%2C%20-36.35106597082975%5D%2C%20%5B-5.483395588935279%2C%20-47.56841856845861%5D%2C%20%5B-21.129565124011613%2C%20-49.26049543138923%5D%2C%20%5B-7.2323868968279825%2C%20-39.41440862263033%5D%2C%20%5B-10.352408396784659%2C%20-58.600685924900475%5D%2C%20%5B-9.853630582920806%2C%20-63.0391682848477%5D%2C%20%5B-8.73144027432345%2C%20-63.814140035401564%5D%2C%20%5B-3.9554458112446778%2C%20-40.23211859113758%5D%2C%20%5B-28.312419713536503%2C%20-50.90468645713341%5D%2C%20%5B-6.734146307233665%2C%20-35.09643327041019%5D%2C%20%5B-4.93662499224178%2C%20-38.43186561805604%5D%2C%20%5B-20.18978871857927%2C%20-44.88437334986893%5D%2C%20%5B-22.30230285285061%2C%20-41.71174459444561%5D%2C%20%5B-28.765082273597876%2C%20-51.62001399200256%5D%2C%20%5B-9.953702688265885%2C%20-67.82001746876745%5D%2C%20%5B-13.258845727514421%2C%20-59.886409174581914%5D%2C%20%5B-11.00403226162764%2C%20-41.67489497177582%5D%2C%20%5B-8.796829676633143%2C%20-63.85662024398372%5D%2C%20%5B-9.315692818559071%2C%20-38.216547441103685%5D%2C%20%5B-16.393741479850288%2C%20-39.51988463256296%5D%2C%20%5B-18.748369964061432%2C%20-42.76254550730578%5D%2C%20%5B-23.713795082988014%2C%20-53.049976693440634%5D%2C%20%5B-16.73156326773506%2C%20-49.218675133052336%5D%2C%20%5B-25.364047299123182%2C%20-51.47550369133489%5D%2C%20%5B-4.939779771454179%2C%20-38.1356508509967%5D%2C%20%5B-6.9295671630072775%2C%20-34.77166519934908%5D%2C%20%5B-5.14769885524928%2C%20-37.98386842511541%5D%5D%2C%0A%20%20%20%20%20%20%20%20%20%20%20%20%20%20%20%20%7B%0A%20%20%20%20%20%20%20%20%20%20%20%20%20%20%20%20%20%20%20%20minOpacity%3A%200.5%2C%0A%20%20%20%20%20%20%20%20%20%20%20%20%20%20%20%20%20%20%20%20maxZoom%3A%2018%2C%0A%20%20%20%20%20%20%20%20%20%20%20%20%20%20%20%20%20%20%20%20max%3A%201.0%2C%0A%20%20%20%20%20%20%20%20%20%20%20%20%20%20%20%20%20%20%20%20radius%3A%2015%2C%0A%20%20%20%20%20%20%20%20%20%20%20%20%20%20%20%20%20%20%20%20blur%3A%2015%2C%0A%20%20%20%20%20%20%20%20%20%20%20%20%20%20%20%20%20%20%20%20gradient%3A%20null%0A%20%20%20%20%20%20%20%20%20%20%20%20%20%20%20%20%20%20%20%20%7D%29%0A%20%20%20%20%20%20%20%20%20%20%20%20%20%20%20%20.addTo%28map_fcb5f1ac0a6c4213864b9be476a8bc0f%29%3B%0A%20%20%20%20%20%20%20%20%0A%3C/script%3E onload=\"this.contentDocument.open();this.contentDocument.write(    decodeURIComponent(this.getAttribute('data-html')));this.contentDocument.close();\" allowfullscreen webkitallowfullscreen mozallowfullscreen></iframe></div></div>"
            ],
            "text/plain": [
              "<folium.folium.Map at 0x7f575dbdea10>"
            ]
          },
          "metadata": {},
          "execution_count": 31
        }
      ]
    },
    {
      "cell_type": "markdown",
      "metadata": {
        "id": "e_Whpu2yoeha"
      },
      "source": [
        "Analisando o mapa geográfico do país, temos que a região nordeste possui o maior número de inadimplência, mas as regiões centro-oeste e sul também possuem altos números de inadimplentes.\n",
        "\n",
        "Com esse tipo de informação, temos a oportunidade de poder criar novas variáveis para o modelo de Machine Learning (Aprendizado de Máquina), em que podemos passar a ideia que, por exemplo:\n",
        "* Pessoas de tais estados têm mais chances de serem inadimplentes;\n",
        "* Quanto mais próximo o cliente é da capital do estado, mais chances ele tem de se tornar inadimplente;\n",
        "* etc...\n",
        "\n",
        "Como nossos dados possuem muitas variáveis categóricas de alta cardinalidade, que será discutido durante a etapa de preparação dos dados, não iremos avançar com a criação destas informações, até pelo fato que são informações capazes de enviesar nosso modelo final.\n",
        "\n",
        "Dito isso, tendo concluído a etapa de exploração dos dados, iremos agora avançar para a etapa de preparação destes para a alimentação do modelo de Machine Learning (Aprendizado de Máquina)."
      ]
    },
    {
      "cell_type": "markdown",
      "metadata": {
        "id": "emQvp1Qec4Dg"
      },
      "source": [
        "# Preparação dos dados para o modelo\n",
        "\n",
        "Vamos iniciar a melhorar nosso dataset pela etapa de remoção das variáveis que não possuem informações relevantes.\n"
      ]
    },
    {
      "cell_type": "markdown",
      "metadata": {
        "id": "_iya84_FdJdR"
      },
      "source": [
        "## Removendo as features irrelevantes\n",
        "\n",
        "Uma boa maneira de saber quais variáveis podem ser irrelevantes, é checando a quantidade de valores únicos de cada variável:"
      ]
    },
    {
      "cell_type": "code",
      "metadata": {
        "colab": {
          "base_uri": "https://localhost:8080/"
        },
        "id": "Lexu3kjO4EKo",
        "outputId": "768dc72e-a1c9-43a5-9978-5cc2cf392812"
      },
      "source": [
        "# Revendo as primeiras entradas do DataFrame\n",
        "df_raw.head()"
      ],
      "execution_count": null,
      "outputs": [
        {
          "output_type": "execute_result",
          "data": {
            "text/html": [
              "<div>\n",
              "<style scoped>\n",
              "    .dataframe tbody tr th:only-of-type {\n",
              "        vertical-align: middle;\n",
              "    }\n",
              "\n",
              "    .dataframe tbody tr th {\n",
              "        vertical-align: top;\n",
              "    }\n",
              "\n",
              "    .dataframe thead th {\n",
              "        text-align: right;\n",
              "    }\n",
              "</style>\n",
              "<table border=\"1\" class=\"dataframe\">\n",
              "  <thead>\n",
              "    <tr style=\"text-align: right;\">\n",
              "      <th></th>\n",
              "      <th>ids</th>\n",
              "      <th>target_default</th>\n",
              "      <th>score_1</th>\n",
              "      <th>score_2</th>\n",
              "      <th>score_3</th>\n",
              "      <th>score_4</th>\n",
              "      <th>score_5</th>\n",
              "      <th>score_6</th>\n",
              "      <th>risk_rate</th>\n",
              "      <th>last_amount_borrowed</th>\n",
              "      <th>last_borrowed_in_months</th>\n",
              "      <th>credit_limit</th>\n",
              "      <th>reason</th>\n",
              "      <th>income</th>\n",
              "      <th>facebook_profile</th>\n",
              "      <th>state</th>\n",
              "      <th>zip</th>\n",
              "      <th>channel</th>\n",
              "      <th>job_name</th>\n",
              "      <th>real_state</th>\n",
              "      <th>ok_since</th>\n",
              "      <th>n_bankruptcies</th>\n",
              "      <th>n_defaulted_loans</th>\n",
              "      <th>n_accounts</th>\n",
              "      <th>n_issues</th>\n",
              "      <th>application_time_applied</th>\n",
              "      <th>application_time_in_funnel</th>\n",
              "      <th>email</th>\n",
              "      <th>external_data_provider_credit_checks_last_2_year</th>\n",
              "      <th>external_data_provider_credit_checks_last_month</th>\n",
              "      <th>external_data_provider_credit_checks_last_year</th>\n",
              "      <th>external_data_provider_email_seen_before</th>\n",
              "      <th>external_data_provider_first_name</th>\n",
              "      <th>external_data_provider_fraud_score</th>\n",
              "      <th>lat_lon</th>\n",
              "      <th>marketing_channel</th>\n",
              "      <th>profile_phone_number</th>\n",
              "      <th>reported_income</th>\n",
              "      <th>shipping_state</th>\n",
              "      <th>shipping_zip_code</th>\n",
              "      <th>profile_tags</th>\n",
              "      <th>user_agent</th>\n",
              "      <th>target_fraud</th>\n",
              "    </tr>\n",
              "  </thead>\n",
              "  <tbody>\n",
              "    <tr>\n",
              "      <th>0</th>\n",
              "      <td>343b7e7b-2cf8-e508-b8fd-0a0285af30aa</td>\n",
              "      <td>False</td>\n",
              "      <td>1Rk8w4Ucd5yR3KcqZzLdow==</td>\n",
              "      <td>IOVu8au3ISbo6+zmfnYwMg==</td>\n",
              "      <td>350.0</td>\n",
              "      <td>101.800832</td>\n",
              "      <td>0.259555</td>\n",
              "      <td>108.427273</td>\n",
              "      <td>0.40</td>\n",
              "      <td>25033.92</td>\n",
              "      <td>36.0</td>\n",
              "      <td>0.0</td>\n",
              "      <td>mLVIVxoGY7TUDJ1FyFoSIZi1SFcaBmO01AydRchaEiGYtU...</td>\n",
              "      <td>65014.12</td>\n",
              "      <td>True</td>\n",
              "      <td>sjJbkqJS7cXalHLBFA+EOQ==</td>\n",
              "      <td>Ernn+uVXCMq/6ARrBCcd+A==</td>\n",
              "      <td>NCqL3QBx0pscDnx3ixKwXg==</td>\n",
              "      <td>mLVIVxoGY7TUDJ1FyFoSIZi1SFcaBmO01AydRchaEiGYtU...</td>\n",
              "      <td>N5/CE7lSkAfB04hVFFwllw==</td>\n",
              "      <td>NaN</td>\n",
              "      <td>0.0</td>\n",
              "      <td>0.0</td>\n",
              "      <td>18.0</td>\n",
              "      <td>18.0</td>\n",
              "      <td>07:52:34</td>\n",
              "      <td>444</td>\n",
              "      <td>outlook.com</td>\n",
              "      <td>NaN</td>\n",
              "      <td>2</td>\n",
              "      <td>0.0</td>\n",
              "      <td>51.0</td>\n",
              "      <td>leidelaura</td>\n",
              "      <td>645</td>\n",
              "      <td>(-29.151545708122246, -51.1386461804385)</td>\n",
              "      <td>Invite-email</td>\n",
              "      <td>514-9840782</td>\n",
              "      <td>57849.0</td>\n",
              "      <td>BR-MT</td>\n",
              "      <td>17528</td>\n",
              "      <td>{'tags': ['n19', 'n8']}</td>\n",
              "      <td>Mozilla/5.0 (Linux; Android 6.0.1; SGP771 Buil...</td>\n",
              "      <td>NaN</td>\n",
              "    </tr>\n",
              "    <tr>\n",
              "      <th>1</th>\n",
              "      <td>bc2c7502-bbad-0f8c-39c3-94e881967124</td>\n",
              "      <td>False</td>\n",
              "      <td>DGCQep2AE5QRkNCshIAlFQ==</td>\n",
              "      <td>SaamrHMo23l/3TwXOWgVzw==</td>\n",
              "      <td>370.0</td>\n",
              "      <td>97.062615</td>\n",
              "      <td>0.942655</td>\n",
              "      <td>92.002546</td>\n",
              "      <td>0.24</td>\n",
              "      <td>NaN</td>\n",
              "      <td>NaN</td>\n",
              "      <td>39726.0</td>\n",
              "      <td>mLVIVxoGY7TUDJ1FyFoSIZi1SFcaBmO01AydRchaEiGYtU...</td>\n",
              "      <td>100018.91</td>\n",
              "      <td>False</td>\n",
              "      <td>xsd3ZdsI3356I3xMxZeiqQ==</td>\n",
              "      <td>rlWIXTBO+VOa34+SpGyhlQ==</td>\n",
              "      <td>NCqL3QBx0pscDnx3ixKwXg==</td>\n",
              "      <td>mLVIVxoGY7TUDJ1FyFoSIZi1SFcaBmO01AydRchaEiGYtU...</td>\n",
              "      <td>N5/CE7lSkAfB04hVFFwllw==</td>\n",
              "      <td>50.0</td>\n",
              "      <td>0.0</td>\n",
              "      <td>0.0</td>\n",
              "      <td>14.0</td>\n",
              "      <td>14.0</td>\n",
              "      <td>02:34:29</td>\n",
              "      <td>346</td>\n",
              "      <td>gmail.com</td>\n",
              "      <td>0.0</td>\n",
              "      <td>1</td>\n",
              "      <td>0.0</td>\n",
              "      <td>17.0</td>\n",
              "      <td>diocezio</td>\n",
              "      <td>243</td>\n",
              "      <td>(-19.687710705798963, -47.94151536525154)</td>\n",
              "      <td>Radio-commercial</td>\n",
              "      <td>251-3659293</td>\n",
              "      <td>4902.0</td>\n",
              "      <td>BR-RS</td>\n",
              "      <td>40933</td>\n",
              "      <td>{'tags': ['n6', 'n7', 'nim']}</td>\n",
              "      <td>Mozilla/5.0 (Linux; Android 5.0.2; SAMSUNG SM-...</td>\n",
              "      <td>NaN</td>\n",
              "    </tr>\n",
              "    <tr>\n",
              "      <th>2</th>\n",
              "      <td>669630dd-2e6a-0396-84bf-455e5009c922</td>\n",
              "      <td>True</td>\n",
              "      <td>DGCQep2AE5QRkNCshIAlFQ==</td>\n",
              "      <td>Fv28Bz0YRTVAT5kl1bAV6g==</td>\n",
              "      <td>360.0</td>\n",
              "      <td>100.027073</td>\n",
              "      <td>0.351918</td>\n",
              "      <td>112.892453</td>\n",
              "      <td>0.29</td>\n",
              "      <td>7207.92</td>\n",
              "      <td>36.0</td>\n",
              "      <td>NaN</td>\n",
              "      <td>mLVIVxoGY7TUDJ1FyFoSIZi1SFcaBmO01AydRchaEiGYtU...</td>\n",
              "      <td>65023.65</td>\n",
              "      <td>NaN</td>\n",
              "      <td>Ygq6MsM98oC8yceExr69Ig==</td>\n",
              "      <td>PjTIDfJsK0DKL9fO7vuW2g==</td>\n",
              "      <td>NCqL3QBx0pscDnx3ixKwXg==</td>\n",
              "      <td>mLVIVxoGY7TUDJ1FyFoSIZi1SFcaBmO01AydRchaEiGYtU...</td>\n",
              "      <td>n+xK9CfX0bCn77lClTWviw==</td>\n",
              "      <td>NaN</td>\n",
              "      <td>0.0</td>\n",
              "      <td>0.0</td>\n",
              "      <td>10.0</td>\n",
              "      <td>NaN</td>\n",
              "      <td>00:60:02</td>\n",
              "      <td>6</td>\n",
              "      <td>gmail.com</td>\n",
              "      <td>NaN</td>\n",
              "      <td>2</td>\n",
              "      <td>NaN</td>\n",
              "      <td>9.0</td>\n",
              "      <td>veralucia</td>\n",
              "      <td>65</td>\n",
              "      <td>(-28.748023890412284, -51.867279334353995)</td>\n",
              "      <td>Waiting-list</td>\n",
              "      <td>230-6097993</td>\n",
              "      <td>163679.0</td>\n",
              "      <td>BR-RR</td>\n",
              "      <td>50985</td>\n",
              "      <td>{'tags': ['n0', 'n17', 'nim', 'da']}</td>\n",
              "      <td>Mozilla/5.0 (Linux; Android 6.0.1; SGP771 Buil...</td>\n",
              "      <td>NaN</td>\n",
              "    </tr>\n",
              "    <tr>\n",
              "      <th>3</th>\n",
              "      <td>d235609e-b6cb-0ccc-a329-d4f12e7ebdc1</td>\n",
              "      <td>False</td>\n",
              "      <td>1Rk8w4Ucd5yR3KcqZzLdow==</td>\n",
              "      <td>dCm9hFKfdRm7ej3jW+gyxw==</td>\n",
              "      <td>510.0</td>\n",
              "      <td>101.599485</td>\n",
              "      <td>0.987673</td>\n",
              "      <td>94.902491</td>\n",
              "      <td>0.32</td>\n",
              "      <td>NaN</td>\n",
              "      <td>NaN</td>\n",
              "      <td>54591.0</td>\n",
              "      <td>mLVIVxoGY7TUDJ1FyFoSIZi1SFcaBmO01AydRchaEiGYtU...</td>\n",
              "      <td>68830.01</td>\n",
              "      <td>False</td>\n",
              "      <td>KET/Pmr6rHp1RJ/P9ymztw==</td>\n",
              "      <td>Cc/kWDLQH3dpHv5HU+pLVA==</td>\n",
              "      <td>NCqL3QBx0pscDnx3ixKwXg==</td>\n",
              "      <td>mLVIVxoGY7TUDJ1FyFoSIZi1SFcaBmO01AydRchaEiE56f...</td>\n",
              "      <td>n+xK9CfX0bCn77lClTWviw==</td>\n",
              "      <td>NaN</td>\n",
              "      <td>1.0</td>\n",
              "      <td>0.0</td>\n",
              "      <td>19.0</td>\n",
              "      <td>19.0</td>\n",
              "      <td>11:20:49</td>\n",
              "      <td>406</td>\n",
              "      <td>spgov.com</td>\n",
              "      <td>NaN</td>\n",
              "      <td>3</td>\n",
              "      <td>NaN</td>\n",
              "      <td>38.0</td>\n",
              "      <td>venice</td>\n",
              "      <td>815</td>\n",
              "      <td>(-17.520650158450454, -39.75801139933186)</td>\n",
              "      <td>Waiting-list</td>\n",
              "      <td>261-3543751</td>\n",
              "      <td>1086.0</td>\n",
              "      <td>BR-RN</td>\n",
              "      <td>37825</td>\n",
              "      <td>{'tags': ['n4']}</td>\n",
              "      <td>Mozilla/5.0 (Linux; Android 6.0; HTC One X10 B...</td>\n",
              "      <td>NaN</td>\n",
              "    </tr>\n",
              "    <tr>\n",
              "      <th>4</th>\n",
              "      <td>9e0eb880-e8f4-3faa-67d8-f5cdd2b3932b</td>\n",
              "      <td>False</td>\n",
              "      <td>8k8UDR4Yx0qasAjkGrUZLw==</td>\n",
              "      <td>+CxEO4w7jv3QPI/BQbyqAA==</td>\n",
              "      <td>500.0</td>\n",
              "      <td>98.474289</td>\n",
              "      <td>0.532539</td>\n",
              "      <td>118.126207</td>\n",
              "      <td>0.18</td>\n",
              "      <td>NaN</td>\n",
              "      <td>NaN</td>\n",
              "      <td>NaN</td>\n",
              "      <td>mLVIVxoGY7TUDJ1FyFoSIZi1SFcaBmO01AydRchaEiGYtU...</td>\n",
              "      <td>60011.29</td>\n",
              "      <td>True</td>\n",
              "      <td>xsd3ZdsI3356I3xMxZeiqQ==</td>\n",
              "      <td>i036nmJ7rfxo+3EvCD7Jnw==</td>\n",
              "      <td>NCqL3QBx0pscDnx3ixKwXg==</td>\n",
              "      <td>mLVIVxoGY7TUDJ1FyFoSIZi1SFcaBmO01AydRchaEiGYtU...</td>\n",
              "      <td>n+xK9CfX0bCn77lClTWviw==</td>\n",
              "      <td>NaN</td>\n",
              "      <td>0.0</td>\n",
              "      <td>0.0</td>\n",
              "      <td>11.0</td>\n",
              "      <td>NaN</td>\n",
              "      <td>13:39:03</td>\n",
              "      <td>240</td>\n",
              "      <td>gmail.com</td>\n",
              "      <td>0.0</td>\n",
              "      <td>2</td>\n",
              "      <td>1.0</td>\n",
              "      <td>46.0</td>\n",
              "      <td>darzisa</td>\n",
              "      <td>320</td>\n",
              "      <td>(-16.574259446978008, -39.90990074785962)</td>\n",
              "      <td>Invite-email</td>\n",
              "      <td>102-3660162</td>\n",
              "      <td>198618.0</td>\n",
              "      <td>BR-MT</td>\n",
              "      <td>52827</td>\n",
              "      <td>{'tags': ['pro+aty', 'n19', 'da', 'b19']}</td>\n",
              "      <td>Mozilla/5.0 (Linux; Android 7.0; Pixel C Build...</td>\n",
              "      <td>NaN</td>\n",
              "    </tr>\n",
              "  </tbody>\n",
              "</table>\n",
              "</div>"
            ],
            "text/plain": [
              "                                    ids  ... target_fraud\n",
              "0  343b7e7b-2cf8-e508-b8fd-0a0285af30aa  ...          NaN\n",
              "1  bc2c7502-bbad-0f8c-39c3-94e881967124  ...          NaN\n",
              "2  669630dd-2e6a-0396-84bf-455e5009c922  ...          NaN\n",
              "3  d235609e-b6cb-0ccc-a329-d4f12e7ebdc1  ...          NaN\n",
              "4  9e0eb880-e8f4-3faa-67d8-f5cdd2b3932b  ...          NaN\n",
              "\n",
              "[5 rows x 43 columns]"
            ]
          },
          "metadata": {
            "tags": []
          },
          "execution_count": 7
        }
      ]
    },
    {
      "cell_type": "code",
      "metadata": {
        "colab": {
          "base_uri": "https://localhost:8080/"
        },
        "id": "WL1WoGGU4Rst",
        "outputId": "53db08bf-e774-4b9c-b39f-e5cd45afa84f"
      },
      "source": [
        "# Checando os valores únicos de cada variável\n",
        "df_raw.nunique().sort_values()"
      ],
      "execution_count": null,
      "outputs": [
        {
          "output_type": "execute_result",
          "data": {
            "text/plain": [
              "external_data_provider_credit_checks_last_2_year        1\n",
              "channel                                                 1\n",
              "target_fraud                                            2\n",
              "target_default                                          2\n",
              "external_data_provider_credit_checks_last_year          2\n",
              "facebook_profile                                        2\n",
              "last_borrowed_in_months                                 2\n",
              "external_data_provider_credit_checks_last_month         4\n",
              "n_defaulted_loans                                       5\n",
              "real_state                                              5\n",
              "email                                                   6\n",
              "n_bankruptcies                                          6\n",
              "score_1                                                 7\n",
              "marketing_channel                                       9\n",
              "shipping_state                                         25\n",
              "score_2                                                35\n",
              "n_issues                                               44\n",
              "n_accounts                                             44\n",
              "state                                                  50\n",
              "external_data_provider_email_seen_before               62\n",
              "risk_rate                                              82\n",
              "score_3                                                88\n",
              "ok_since                                              100\n",
              "user_agent                                            297\n",
              "application_time_in_funnel                            501\n",
              "zip                                                   823\n",
              "external_data_provider_fraud_score                   1001\n",
              "last_amount_borrowed                                14325\n",
              "reason                                              14874\n",
              "credit_limit                                        20928\n",
              "lat_lon                                             22412\n",
              "profile_tags                                        26131\n",
              "shipping_zip_code                                   28263\n",
              "job_name                                            32265\n",
              "external_data_provider_first_name                   32886\n",
              "application_time_applied                            35543\n",
              "reported_income                                     40025\n",
              "income                                              41211\n",
              "score_4                                             45000\n",
              "score_5                                             45000\n",
              "score_6                                             45000\n",
              "profile_phone_number                                45000\n",
              "ids                                                 45000\n",
              "dtype: int64"
            ]
          },
          "metadata": {
            "tags": []
          },
          "execution_count": 8
        }
      ]
    },
    {
      "cell_type": "markdown",
      "metadata": {
        "id": "-JZVd5pA4Eji"
      },
      "source": [
        "Observando as primeiras entradas do DataFrame e a quantidade de valores únicos, podemos remover as variáveis:\n",
        "\n",
        "* `ids`: ID para cada cliente, não possui nenhuma informação útil para o modelo;\n",
        "\n",
        "* `target_fraud`: como é uma variável alvo para outro modelo, não a utilizaremos neste projeto;\n",
        "\n",
        "* `external_data_provider_credit_checks_last_2_year`: possui apenas um valor único, assim não entregando nenhuma informação relevante;\n",
        "\n",
        "* `channel`: também possui apenas um valor único;\n",
        "\n",
        "* `external_data_provider_first_name`: não aparenta ter informações úteis;\n",
        "\n",
        "* `profile_phone_number`: possui um valor único para cada entrada do dataset, e por existir a opção de portabilidade, não utilizarei esta feature para encontrar as respectivas operadoras telefônicas, então removerei esta feature;\n",
        "\n",
        "* `lat_lon`: essa variável não possui informação que seja diretamente informativa para o modelo;\n",
        "\n",
        "* `application_time_applied`: assim como a variável `lat_lon`, ela não traz informações relevantes para o modelo.\n",
        "\n",
        "Existem outras variáveis que ao olharmos superficialmente, não aparentam ter informações relevantes, porém manteremos elas a fim de fazermos uma análise mais aprofundada na etapa de Feature Engineering."
      ]
    },
    {
      "cell_type": "code",
      "metadata": {
        "colab": {
          "base_uri": "https://localhost:8080/"
        },
        "id": "IFO7QNRMsGlB",
        "outputId": "9bbb017f-6fd3-48c6-e327-382cedc21a06"
      },
      "source": [
        "# Copiando o DataFrame inicial para um novo DataFrame em que será removido as variáveis irrelevantes\n",
        "df_var = df_raw.copy()\n",
        "\n",
        "# Removendo as variáveis irrelevantes\n",
        "drop_var = ['ids','external_data_provider_credit_checks_last_2_year',\n",
        "            'channel','external_data_provider_first_name','profile_phone_number',\n",
        "            'target_fraud','lat_lon','application_time_applied']\n",
        "df_var.drop(labels=drop_var, axis=1, inplace=True)\n",
        "\n",
        "# Checando o novo DataFrame sem as variáveis selecionadas\n",
        "df_var.head()"
      ],
      "execution_count": null,
      "outputs": [
        {
          "output_type": "execute_result",
          "data": {
            "text/html": [
              "<div>\n",
              "<style scoped>\n",
              "    .dataframe tbody tr th:only-of-type {\n",
              "        vertical-align: middle;\n",
              "    }\n",
              "\n",
              "    .dataframe tbody tr th {\n",
              "        vertical-align: top;\n",
              "    }\n",
              "\n",
              "    .dataframe thead th {\n",
              "        text-align: right;\n",
              "    }\n",
              "</style>\n",
              "<table border=\"1\" class=\"dataframe\">\n",
              "  <thead>\n",
              "    <tr style=\"text-align: right;\">\n",
              "      <th></th>\n",
              "      <th>target_default</th>\n",
              "      <th>score_1</th>\n",
              "      <th>score_2</th>\n",
              "      <th>score_3</th>\n",
              "      <th>score_4</th>\n",
              "      <th>score_5</th>\n",
              "      <th>score_6</th>\n",
              "      <th>risk_rate</th>\n",
              "      <th>last_amount_borrowed</th>\n",
              "      <th>last_borrowed_in_months</th>\n",
              "      <th>credit_limit</th>\n",
              "      <th>reason</th>\n",
              "      <th>income</th>\n",
              "      <th>facebook_profile</th>\n",
              "      <th>state</th>\n",
              "      <th>zip</th>\n",
              "      <th>job_name</th>\n",
              "      <th>real_state</th>\n",
              "      <th>ok_since</th>\n",
              "      <th>n_bankruptcies</th>\n",
              "      <th>n_defaulted_loans</th>\n",
              "      <th>n_accounts</th>\n",
              "      <th>n_issues</th>\n",
              "      <th>application_time_in_funnel</th>\n",
              "      <th>email</th>\n",
              "      <th>external_data_provider_credit_checks_last_month</th>\n",
              "      <th>external_data_provider_credit_checks_last_year</th>\n",
              "      <th>external_data_provider_email_seen_before</th>\n",
              "      <th>external_data_provider_fraud_score</th>\n",
              "      <th>marketing_channel</th>\n",
              "      <th>reported_income</th>\n",
              "      <th>shipping_state</th>\n",
              "      <th>shipping_zip_code</th>\n",
              "      <th>profile_tags</th>\n",
              "      <th>user_agent</th>\n",
              "    </tr>\n",
              "  </thead>\n",
              "  <tbody>\n",
              "    <tr>\n",
              "      <th>0</th>\n",
              "      <td>False</td>\n",
              "      <td>1Rk8w4Ucd5yR3KcqZzLdow==</td>\n",
              "      <td>IOVu8au3ISbo6+zmfnYwMg==</td>\n",
              "      <td>350.0</td>\n",
              "      <td>101.800832</td>\n",
              "      <td>0.259555</td>\n",
              "      <td>108.427273</td>\n",
              "      <td>0.40</td>\n",
              "      <td>25033.92</td>\n",
              "      <td>36.0</td>\n",
              "      <td>0.0</td>\n",
              "      <td>mLVIVxoGY7TUDJ1FyFoSIZi1SFcaBmO01AydRchaEiGYtU...</td>\n",
              "      <td>65014.12</td>\n",
              "      <td>True</td>\n",
              "      <td>sjJbkqJS7cXalHLBFA+EOQ==</td>\n",
              "      <td>Ernn+uVXCMq/6ARrBCcd+A==</td>\n",
              "      <td>mLVIVxoGY7TUDJ1FyFoSIZi1SFcaBmO01AydRchaEiGYtU...</td>\n",
              "      <td>N5/CE7lSkAfB04hVFFwllw==</td>\n",
              "      <td>NaN</td>\n",
              "      <td>0.0</td>\n",
              "      <td>0.0</td>\n",
              "      <td>18.0</td>\n",
              "      <td>18.0</td>\n",
              "      <td>444</td>\n",
              "      <td>outlook.com</td>\n",
              "      <td>2</td>\n",
              "      <td>0.0</td>\n",
              "      <td>51.0</td>\n",
              "      <td>645</td>\n",
              "      <td>Invite-email</td>\n",
              "      <td>57849.0</td>\n",
              "      <td>BR-MT</td>\n",
              "      <td>17528</td>\n",
              "      <td>{'tags': ['n19', 'n8']}</td>\n",
              "      <td>Mozilla/5.0 (Linux; Android 6.0.1; SGP771 Buil...</td>\n",
              "    </tr>\n",
              "    <tr>\n",
              "      <th>1</th>\n",
              "      <td>False</td>\n",
              "      <td>DGCQep2AE5QRkNCshIAlFQ==</td>\n",
              "      <td>SaamrHMo23l/3TwXOWgVzw==</td>\n",
              "      <td>370.0</td>\n",
              "      <td>97.062615</td>\n",
              "      <td>0.942655</td>\n",
              "      <td>92.002546</td>\n",
              "      <td>0.24</td>\n",
              "      <td>NaN</td>\n",
              "      <td>NaN</td>\n",
              "      <td>39726.0</td>\n",
              "      <td>mLVIVxoGY7TUDJ1FyFoSIZi1SFcaBmO01AydRchaEiGYtU...</td>\n",
              "      <td>100018.91</td>\n",
              "      <td>False</td>\n",
              "      <td>xsd3ZdsI3356I3xMxZeiqQ==</td>\n",
              "      <td>rlWIXTBO+VOa34+SpGyhlQ==</td>\n",
              "      <td>mLVIVxoGY7TUDJ1FyFoSIZi1SFcaBmO01AydRchaEiGYtU...</td>\n",
              "      <td>N5/CE7lSkAfB04hVFFwllw==</td>\n",
              "      <td>50.0</td>\n",
              "      <td>0.0</td>\n",
              "      <td>0.0</td>\n",
              "      <td>14.0</td>\n",
              "      <td>14.0</td>\n",
              "      <td>346</td>\n",
              "      <td>gmail.com</td>\n",
              "      <td>1</td>\n",
              "      <td>0.0</td>\n",
              "      <td>17.0</td>\n",
              "      <td>243</td>\n",
              "      <td>Radio-commercial</td>\n",
              "      <td>4902.0</td>\n",
              "      <td>BR-RS</td>\n",
              "      <td>40933</td>\n",
              "      <td>{'tags': ['n6', 'n7', 'nim']}</td>\n",
              "      <td>Mozilla/5.0 (Linux; Android 5.0.2; SAMSUNG SM-...</td>\n",
              "    </tr>\n",
              "    <tr>\n",
              "      <th>2</th>\n",
              "      <td>True</td>\n",
              "      <td>DGCQep2AE5QRkNCshIAlFQ==</td>\n",
              "      <td>Fv28Bz0YRTVAT5kl1bAV6g==</td>\n",
              "      <td>360.0</td>\n",
              "      <td>100.027073</td>\n",
              "      <td>0.351918</td>\n",
              "      <td>112.892453</td>\n",
              "      <td>0.29</td>\n",
              "      <td>7207.92</td>\n",
              "      <td>36.0</td>\n",
              "      <td>NaN</td>\n",
              "      <td>mLVIVxoGY7TUDJ1FyFoSIZi1SFcaBmO01AydRchaEiGYtU...</td>\n",
              "      <td>65023.65</td>\n",
              "      <td>NaN</td>\n",
              "      <td>Ygq6MsM98oC8yceExr69Ig==</td>\n",
              "      <td>PjTIDfJsK0DKL9fO7vuW2g==</td>\n",
              "      <td>mLVIVxoGY7TUDJ1FyFoSIZi1SFcaBmO01AydRchaEiGYtU...</td>\n",
              "      <td>n+xK9CfX0bCn77lClTWviw==</td>\n",
              "      <td>NaN</td>\n",
              "      <td>0.0</td>\n",
              "      <td>0.0</td>\n",
              "      <td>10.0</td>\n",
              "      <td>NaN</td>\n",
              "      <td>6</td>\n",
              "      <td>gmail.com</td>\n",
              "      <td>2</td>\n",
              "      <td>NaN</td>\n",
              "      <td>9.0</td>\n",
              "      <td>65</td>\n",
              "      <td>Waiting-list</td>\n",
              "      <td>163679.0</td>\n",
              "      <td>BR-RR</td>\n",
              "      <td>50985</td>\n",
              "      <td>{'tags': ['n0', 'n17', 'nim', 'da']}</td>\n",
              "      <td>Mozilla/5.0 (Linux; Android 6.0.1; SGP771 Buil...</td>\n",
              "    </tr>\n",
              "    <tr>\n",
              "      <th>3</th>\n",
              "      <td>False</td>\n",
              "      <td>1Rk8w4Ucd5yR3KcqZzLdow==</td>\n",
              "      <td>dCm9hFKfdRm7ej3jW+gyxw==</td>\n",
              "      <td>510.0</td>\n",
              "      <td>101.599485</td>\n",
              "      <td>0.987673</td>\n",
              "      <td>94.902491</td>\n",
              "      <td>0.32</td>\n",
              "      <td>NaN</td>\n",
              "      <td>NaN</td>\n",
              "      <td>54591.0</td>\n",
              "      <td>mLVIVxoGY7TUDJ1FyFoSIZi1SFcaBmO01AydRchaEiGYtU...</td>\n",
              "      <td>68830.01</td>\n",
              "      <td>False</td>\n",
              "      <td>KET/Pmr6rHp1RJ/P9ymztw==</td>\n",
              "      <td>Cc/kWDLQH3dpHv5HU+pLVA==</td>\n",
              "      <td>mLVIVxoGY7TUDJ1FyFoSIZi1SFcaBmO01AydRchaEiE56f...</td>\n",
              "      <td>n+xK9CfX0bCn77lClTWviw==</td>\n",
              "      <td>NaN</td>\n",
              "      <td>1.0</td>\n",
              "      <td>0.0</td>\n",
              "      <td>19.0</td>\n",
              "      <td>19.0</td>\n",
              "      <td>406</td>\n",
              "      <td>spgov.com</td>\n",
              "      <td>3</td>\n",
              "      <td>NaN</td>\n",
              "      <td>38.0</td>\n",
              "      <td>815</td>\n",
              "      <td>Waiting-list</td>\n",
              "      <td>1086.0</td>\n",
              "      <td>BR-RN</td>\n",
              "      <td>37825</td>\n",
              "      <td>{'tags': ['n4']}</td>\n",
              "      <td>Mozilla/5.0 (Linux; Android 6.0; HTC One X10 B...</td>\n",
              "    </tr>\n",
              "    <tr>\n",
              "      <th>4</th>\n",
              "      <td>False</td>\n",
              "      <td>8k8UDR4Yx0qasAjkGrUZLw==</td>\n",
              "      <td>+CxEO4w7jv3QPI/BQbyqAA==</td>\n",
              "      <td>500.0</td>\n",
              "      <td>98.474289</td>\n",
              "      <td>0.532539</td>\n",
              "      <td>118.126207</td>\n",
              "      <td>0.18</td>\n",
              "      <td>NaN</td>\n",
              "      <td>NaN</td>\n",
              "      <td>NaN</td>\n",
              "      <td>mLVIVxoGY7TUDJ1FyFoSIZi1SFcaBmO01AydRchaEiGYtU...</td>\n",
              "      <td>60011.29</td>\n",
              "      <td>True</td>\n",
              "      <td>xsd3ZdsI3356I3xMxZeiqQ==</td>\n",
              "      <td>i036nmJ7rfxo+3EvCD7Jnw==</td>\n",
              "      <td>mLVIVxoGY7TUDJ1FyFoSIZi1SFcaBmO01AydRchaEiGYtU...</td>\n",
              "      <td>n+xK9CfX0bCn77lClTWviw==</td>\n",
              "      <td>NaN</td>\n",
              "      <td>0.0</td>\n",
              "      <td>0.0</td>\n",
              "      <td>11.0</td>\n",
              "      <td>NaN</td>\n",
              "      <td>240</td>\n",
              "      <td>gmail.com</td>\n",
              "      <td>2</td>\n",
              "      <td>1.0</td>\n",
              "      <td>46.0</td>\n",
              "      <td>320</td>\n",
              "      <td>Invite-email</td>\n",
              "      <td>198618.0</td>\n",
              "      <td>BR-MT</td>\n",
              "      <td>52827</td>\n",
              "      <td>{'tags': ['pro+aty', 'n19', 'da', 'b19']}</td>\n",
              "      <td>Mozilla/5.0 (Linux; Android 7.0; Pixel C Build...</td>\n",
              "    </tr>\n",
              "  </tbody>\n",
              "</table>\n",
              "</div>"
            ],
            "text/plain": [
              "  target_default  ...                                         user_agent\n",
              "0          False  ...  Mozilla/5.0 (Linux; Android 6.0.1; SGP771 Buil...\n",
              "1          False  ...  Mozilla/5.0 (Linux; Android 5.0.2; SAMSUNG SM-...\n",
              "2           True  ...  Mozilla/5.0 (Linux; Android 6.0.1; SGP771 Buil...\n",
              "3          False  ...  Mozilla/5.0 (Linux; Android 6.0; HTC One X10 B...\n",
              "4          False  ...  Mozilla/5.0 (Linux; Android 7.0; Pixel C Build...\n",
              "\n",
              "[5 rows x 35 columns]"
            ]
          },
          "metadata": {
            "tags": []
          },
          "execution_count": 9
        }
      ]
    },
    {
      "cell_type": "markdown",
      "metadata": {
        "id": "ScyQhQIwDkdh"
      },
      "source": [
        "Agora que as primeiras variáveis irrelevantes foram removidas, vamos avançar para a etapa de substituição de alguns valores para `NaN`.\n",
        "\n",
        "## Substituição de valores por NaN\n",
        "\n",
        "Como vimos, existem variáveis que possuem valores semelhantes a dados ausentes, como é o caso de valores mínimos negativos (-999) e valores do tipo `inf`, então vamos convertê-los em `NaN` e na próxima etapa fazer o tratamento desses dados ausentes."
      ]
    },
    {
      "cell_type": "code",
      "metadata": {
        "colab": {
          "base_uri": "https://localhost:8080/"
        },
        "id": "E_W8ZwUFrmlq",
        "outputId": "6254c965-270f-4907-d861-02babecd5cdb"
      },
      "source": [
        "# Copiando o DataFrame anterior para um novo tratamento\n",
        "df_nan = df_var.copy()\n",
        "\n",
        "# Substituindo os valores inf por NaN na variável reported_income\n",
        "df_nan['reported_income'] = df_nan['reported_income'].replace(np.inf, np.nan)\n",
        "\n",
        "# Substituindo os valores negativos -999 por NaN na variável external_data_provider_email_seen_before\n",
        "df_nan.loc[df_nan['external_data_provider_email_seen_before'] == -999.0,\n",
        "           'external_data_provider_email_seen_before'] = np.nan\n",
        "\n",
        "# Checando o resumo estatístico da variável reported_income\n",
        "df_nan['reported_income'].describe()"
      ],
      "execution_count": null,
      "outputs": [
        {
          "output_type": "display_data",
          "data": {
            "application/javascript": [
              "\n",
              "        if (window._pyforest_update_imports_cell) { window._pyforest_update_imports_cell('import numpy as np\\nimport pandas as pd'); }\n",
              "    "
            ],
            "text/plain": [
              "<IPython.core.display.Javascript object>"
            ]
          },
          "metadata": {
            "tags": []
          }
        },
        {
          "output_type": "display_data",
          "data": {
            "application/javascript": [
              "\n",
              "        if (window._pyforest_update_imports_cell) { window._pyforest_update_imports_cell('import numpy as np\\nimport pandas as pd'); }\n",
              "    "
            ],
            "text/plain": [
              "<IPython.core.display.Javascript object>"
            ]
          },
          "metadata": {
            "tags": []
          }
        },
        {
          "output_type": "display_data",
          "data": {
            "application/javascript": [
              "\n",
              "        if (window._pyforest_update_imports_cell) { window._pyforest_update_imports_cell('import numpy as np\\nimport pandas as pd'); }\n",
              "    "
            ],
            "text/plain": [
              "<IPython.core.display.Javascript object>"
            ]
          },
          "metadata": {
            "tags": []
          }
        },
        {
          "output_type": "execute_result",
          "data": {
            "text/plain": [
              "count    4.493300e+04\n",
              "mean     1.032542e+13\n",
              "std      2.559648e+14\n",
              "min      4.030000e+02\n",
              "25%      5.085600e+04\n",
              "50%      1.016300e+05\n",
              "75%      1.511870e+05\n",
              "max      6.355500e+15\n",
              "Name: reported_income, dtype: float64"
            ]
          },
          "metadata": {
            "tags": []
          },
          "execution_count": 10
        }
      ]
    },
    {
      "cell_type": "code",
      "metadata": {
        "colab": {
          "base_uri": "https://localhost:8080/"
        },
        "id": "Oa6_h8tnKUC1",
        "outputId": "30c9a052-38bc-4585-bf60-75cad4dff796"
      },
      "source": [
        "# Checando o resumo estatístico da variável external_data_provider_email_seen_before\n",
        "df_nan['external_data_provider_email_seen_before'].describe()"
      ],
      "execution_count": null,
      "outputs": [
        {
          "output_type": "execute_result",
          "data": {
            "text/plain": [
              "count    42121.000000\n",
              "mean        28.048456\n",
              "std         17.939836\n",
              "min         -1.000000\n",
              "25%         12.000000\n",
              "50%         28.000000\n",
              "75%         44.000000\n",
              "max         59.000000\n",
              "Name: external_data_provider_email_seen_before, dtype: float64"
            ]
          },
          "metadata": {
            "tags": []
          },
          "execution_count": 11
        }
      ]
    },
    {
      "cell_type": "markdown",
      "metadata": {
        "id": "kSC4J_zRMSZ0"
      },
      "source": [
        "Agora que temos os dados com os devidos valores substituídos por `NaN`, vamos fazer o tratamento destes dados ausentes.\n"
      ]
    },
    {
      "cell_type": "markdown",
      "metadata": {
        "id": "bRWPC4YjOGKT"
      },
      "source": [
        "## Tratando os dados ausentes (`NaN`)\n",
        "\n",
        "Nesta etapa vamos avaliar as variáveis com base nos seus dados ausentes, e definir a melhor estratégia para tratar cada variável.\n",
        "\n",
        "Primeiramente vamos checar a proporção destes dados ausentes no dataset:"
      ]
    },
    {
      "cell_type": "code",
      "metadata": {
        "colab": {
          "base_uri": "https://localhost:8080/"
        },
        "id": "nKSv6MSxOKS6",
        "outputId": "08f0e5fb-3221-4b75-c687-b676b86f718f"
      },
      "source": [
        "# Checando a proporção dos dados ausentes\n",
        "(df_nan.isnull().sum() / df_nan.shape[0]).sort_values(ascending=False)"
      ],
      "execution_count": null,
      "outputs": [
        {
          "output_type": "execute_result",
          "data": {
            "text/plain": [
              "last_amount_borrowed                               0.665689\n",
              "last_borrowed_in_months                            0.665689\n",
              "ok_since                                           0.589889\n",
              "external_data_provider_credit_checks_last_year     0.336089\n",
              "credit_limit                                       0.306667\n",
              "n_issues                                           0.256533\n",
              "facebook_profile                                   0.099067\n",
              "marketing_channel                                  0.079511\n",
              "job_name                                           0.074133\n",
              "target_default                                     0.072422\n",
              "external_data_provider_email_seen_before           0.063978\n",
              "user_agent                                         0.016044\n",
              "n_bankruptcies                                     0.015489\n",
              "n_defaulted_loans                                  0.012756\n",
              "reason                                             0.012578\n",
              "income                                             0.012489\n",
              "score_1                                            0.012489\n",
              "score_2                                            0.012489\n",
              "score_3                                            0.012489\n",
              "risk_rate                                          0.012489\n",
              "n_accounts                                         0.012489\n",
              "real_state                                         0.012489\n",
              "state                                              0.012489\n",
              "zip                                                0.012489\n",
              "reported_income                                    0.001489\n",
              "external_data_provider_fraud_score                 0.000000\n",
              "shipping_state                                     0.000000\n",
              "shipping_zip_code                                  0.000000\n",
              "score_6                                            0.000000\n",
              "score_5                                            0.000000\n",
              "score_4                                            0.000000\n",
              "external_data_provider_credit_checks_last_month    0.000000\n",
              "profile_tags                                       0.000000\n",
              "email                                              0.000000\n",
              "application_time_in_funnel                         0.000000\n",
              "dtype: float64"
            ]
          },
          "metadata": {
            "tags": []
          },
          "execution_count": 12
        }
      ]
    },
    {
      "cell_type": "markdown",
      "metadata": {
        "id": "4xPVZ8STSpKY"
      },
      "source": [
        "Observando as proporções acima, temos:\n",
        "\n",
        "* A variável alvo para este projeto, `target_default`: possui 7% de dados ausentes, como substituir esses valores pode influenciar a decisão do modelo, vamos optar por remover estes dados, uma vez que são poucos dados ausentes;\n",
        "\n",
        "* Para variáveis numéricas vamos substituir os valores ausentes pela mediana, que não sofre muita influência de outliers, as variáveis são:\n",
        " * `score_3`\n",
        " * `score_4`\n",
        " * `score_5`\n",
        " * `score_6`\n",
        " * `risk_rate`\n",
        " * `last_amount_borrowed`\n",
        " * `last_borrowed_in_months`\n",
        " * `credit_limit`\n",
        " * `income`\n",
        " * `ok_since`\n",
        " * `n_bankruptcies`\n",
        " * `n_defaulted_loans`\n",
        " * `n_accounts`\n",
        " * `n_issues`\n",
        " * `application_time_in_funnel`\n",
        " * `external_data_provider_credit_checks_last_month`\n",
        " * `external_data_provider_credit_checks_last_year`\n",
        " * `external_data_provider_email_seen_before`\n",
        " * `external_data_provider_fraud_score`\n",
        " * `reported_income`\n",
        " * `shipping_zip_code`\n",
        "\n",
        "* Para variáveis categóricas, substituiremos pelo valor mais frequente, que são as variáveis:\n",
        " * `score_1`\n",
        " * `score_2`\n",
        " * `reason`\n",
        " * `facebook_profile`\n",
        " * `state`\n",
        " * `zip`\n",
        " * `job_name`\n",
        " * `real_state`\n",
        " * `application_time_applied`\n",
        " * `shipping_state`\n",
        " * `email`\n",
        " * `marketing_channel`\n",
        " * `profile_tags`\n",
        " * `user_agent`\n",
        "\n",
        " Para substituir os valores ausentes vamos utilizar o método `SimpleImputer`:\n",
        " "
      ]
    },
    {
      "cell_type": "code",
      "metadata": {
        "colab": {
          "base_uri": "https://localhost:8080/"
        },
        "id": "F8QaFxMcFqWR",
        "outputId": "37780610-4681-46ab-e8da-4442860e95f9"
      },
      "source": [
        "# Remover os valores ausentes da variável alvo \n",
        "df_nan.dropna(subset=['target_default'], inplace=True)\n",
        "\n",
        "# Substituir os valores nas variáveis numéricas\n",
        "num_var = df_nan.select_dtypes(exclude='object').columns\n",
        "\n",
        "imputer_num = SimpleImputer(missing_values=np.nan, strategy='median')\n",
        "imputer_num = imputer_num.fit(df_nan.loc[:,num_var])\n",
        "df_nan.loc[:,num_var] = imputer_num.transform(df_nan.loc[:,num_var])\n",
        "\n",
        "# Substituir os valores nas variáveis categóricas\n",
        "cat_var = df_nan.select_dtypes(include='object').columns\n",
        "\n",
        "imputer_cat = SimpleImputer(missing_values=np.nan, strategy='most_frequent')\n",
        "imputer_cat = imputer_cat.fit(df_nan.loc[:,cat_var])\n",
        "df_nan.loc[:,cat_var] = imputer_cat.transform(df_nan.loc[:,cat_var])"
      ],
      "execution_count": null,
      "outputs": [
        {
          "output_type": "display_data",
          "data": {
            "application/javascript": [
              "\n",
              "        if (window._pyforest_update_imports_cell) { window._pyforest_update_imports_cell('import numpy as np\\nimport pandas as pd'); }\n",
              "    "
            ],
            "text/plain": [
              "<IPython.core.display.Javascript object>"
            ]
          },
          "metadata": {
            "tags": []
          }
        },
        {
          "output_type": "display_data",
          "data": {
            "application/javascript": [
              "\n",
              "        if (window._pyforest_update_imports_cell) { window._pyforest_update_imports_cell('import numpy as np\\nimport pandas as pd'); }\n",
              "    "
            ],
            "text/plain": [
              "<IPython.core.display.Javascript object>"
            ]
          },
          "metadata": {
            "tags": []
          }
        }
      ]
    },
    {
      "cell_type": "markdown",
      "metadata": {
        "id": "IqjSmsBXdmrj"
      },
      "source": [
        "Agora vamos checar se realmente houve a substituição dos valores ausentes:"
      ]
    },
    {
      "cell_type": "code",
      "metadata": {
        "colab": {
          "base_uri": "https://localhost:8080/"
        },
        "id": "pe1HIBTjY-es",
        "outputId": "2ef928eb-a4a5-4826-8531-69e7ebfdb89a"
      },
      "source": [
        "# Checando se os dados foram preenchidos\n",
        "df_nan.isnull().sum().max()"
      ],
      "execution_count": null,
      "outputs": [
        {
          "output_type": "execute_result",
          "data": {
            "text/plain": [
              "0"
            ]
          },
          "metadata": {
            "tags": []
          },
          "execution_count": 14
        }
      ]
    },
    {
      "cell_type": "markdown",
      "metadata": {
        "id": "FYy-VQ1KZP_2"
      },
      "source": [
        "Tendo os dados ausentes tratados, vamos avançar para a etapa de tratamento das outliers para as variáveis numéricas.\n",
        "\n",
        "## Tratamendo de Outliers\n",
        "\n",
        "Outliers são dados incomuns no dataset, que podem ocorrer devido a vários fatores, como erros durante as atribuições dos valores nas variáveis, erros de digitação, ou até mesmo uma distribuição exagerada de valores que possuem um propósito por trás(existe uma influência real para se ter esses dados exagerados), neste último caso podemos usar como exemplo, empresas que mesmo em tempos de crise conseguem grandes lucros.\n",
        "\n",
        "Os modelos de previsão são bastante sensíveis à outliers, por isso, essa etapa é extremamente importante para se ter uma boa performance na previsão de clientes com risco de default.\n",
        "\n",
        "Como observado durante a análise superficial do resumo estatístico, algumas variáveis numéricas aparentavam possuir outliers, então nesta etapa iremos confirmar esta hipótese.\n",
        "\n",
        "Algumas das variáveis que aparentavam possuir outliers são:\n",
        "* `score_3`\n",
        "* `score_6`\n",
        "* `credit_limit`\n",
        "\n",
        "Vamos analisar o boxplot delas e caso seja confirmado a presença de outliers, precisaremos analisar com bastante atenção o impacto delas no nosso modelo."
      ]
    },
    {
      "cell_type": "code",
      "metadata": {
        "colab": {
          "base_uri": "https://localhost:8080/"
        },
        "id": "cC_U5z4aMRXB",
        "outputId": "5f93de78-1b0b-4fb6-b5da-4053458842c4"
      },
      "source": [
        "# Copiando o DataFrame da etapa anterior de valores ausentes para a etapa de outliers\n",
        "df_outlier = df_nan.copy()\n",
        "\n",
        "# Plotar os Boxplotes para as variáveis selecionadas\n",
        "fig, ax = plt.subplots(nrows=1, ncols=3, figsize=(12,4))\n",
        "\n",
        "sns.boxplot(df_outlier['score_3'], ax=ax[0])\n",
        "sns.boxplot(df_outlier['score_6'], ax=ax[1])\n",
        "sns.boxplot(df_outlier['credit_limit'], ax=ax[2])\n",
        "\n",
        "plt.tight_layout();\n",
        "# fig.savefig('boxplots')"
      ],
      "execution_count": null,
      "outputs": [
        {
          "output_type": "display_data",
          "data": {
            "application/javascript": [
              "\n",
              "        if (window._pyforest_update_imports_cell) { window._pyforest_update_imports_cell('import matplotlib.pyplot as plt\\nimport numpy as np\\nimport pandas as pd'); }\n",
              "    "
            ],
            "text/plain": [
              "<IPython.core.display.Javascript object>"
            ]
          },
          "metadata": {
            "tags": []
          }
        },
        {
          "output_type": "display_data",
          "data": {
            "application/javascript": [
              "\n",
              "        if (window._pyforest_update_imports_cell) { window._pyforest_update_imports_cell('import seaborn as sns\\nimport matplotlib.pyplot as plt\\nimport numpy as np\\nimport pandas as pd'); }\n",
              "    "
            ],
            "text/plain": [
              "<IPython.core.display.Javascript object>"
            ]
          },
          "metadata": {
            "tags": []
          }
        },
        {
          "output_type": "display_data",
          "data": {
            "application/javascript": [
              "\n",
              "        if (window._pyforest_update_imports_cell) { window._pyforest_update_imports_cell('import seaborn as sns\\nimport matplotlib.pyplot as plt\\nimport numpy as np\\nimport pandas as pd'); }\n",
              "    "
            ],
            "text/plain": [
              "<IPython.core.display.Javascript object>"
            ]
          },
          "metadata": {
            "tags": []
          }
        },
        {
          "output_type": "display_data",
          "data": {
            "application/javascript": [
              "\n",
              "        if (window._pyforest_update_imports_cell) { window._pyforest_update_imports_cell('import seaborn as sns\\nimport matplotlib.pyplot as plt\\nimport numpy as np\\nimport pandas as pd'); }\n",
              "    "
            ],
            "text/plain": [
              "<IPython.core.display.Javascript object>"
            ]
          },
          "metadata": {
            "tags": []
          }
        },
        {
          "output_type": "display_data",
          "data": {
            "application/javascript": [
              "\n",
              "        if (window._pyforest_update_imports_cell) { window._pyforest_update_imports_cell('import seaborn as sns\\nimport matplotlib.pyplot as plt\\nimport numpy as np\\nimport pandas as pd'); }\n",
              "    "
            ],
            "text/plain": [
              "<IPython.core.display.Javascript object>"
            ]
          },
          "metadata": {
            "tags": []
          }
        },
        {
          "output_type": "display_data",
          "data": {
            "image/png": "[encoded data removed]",
            "text/plain": [
              "<Figure size 864x288 with 3 Axes>"
            ]
          },
          "metadata": {
            "tags": [],
            "needs_background": "light"
          }
        }
      ]
    },
    {
      "cell_type": "markdown",
      "metadata": {
        "id": "2oI-GLaMOSNM"
      },
      "source": [
        "Os boxplots comprovam a existência de outliers, onde cada ponto além dos limites do boxplot representam as outliers.\n",
        "\n",
        "Como confirmado a presença de outliers, vamos avançar para a etapa de tratamento.\n",
        "\n",
        "Primeiramente iremos calcular os limites superiores e inferiores de cada variável com a regra do IQR Score:"
      ]
    },
    {
      "cell_type": "code",
      "metadata": {
        "id": "ea8_NugpQiv8"
      },
      "source": [
        "# Definindo a função para o limite superior\n",
        "def limite_sup(x):\n",
        "  # Calculando o IQR Score\n",
        "  q1 = x.quantile(.25) # Primeiro Quartil(25%)\n",
        "  q3 = x.quantile(.75) # Terceiro Quartil(75%)\n",
        "  IQR_Score = q3 - q1\n",
        "\n",
        "  # Definindo os limites superiores\n",
        "  superior = q3 + 1.5 * IQR_Score\n",
        " \n",
        "  return superior\n",
        "\n",
        "# Definindo a função para o limite inferior\n",
        "def limite_inf(x):\n",
        "  # Calculando o IQR Score\n",
        "  q1 = x.quantile(.25) # Primeiro Quartil(25%)\n",
        "  q3 = x.quantile(.75) # Terceiro Quartil(75%)\n",
        "  IQR_Score = q3 - q1\n",
        "\n",
        "  # Definindo os limites inferiores\n",
        "  inferior = q1 - 1.5 * IQR_Score\n",
        " \n",
        "  return inferior"
      ],
      "execution_count": null,
      "outputs": []
    },
    {
      "cell_type": "markdown",
      "metadata": {
        "id": "1xa66wfAR5Ry"
      },
      "source": [
        "Tendo as funções de cálculo preparadas, vamos avaliar algumas perguntas:\n",
        "* Seria benéfico remover as outliers?;\n",
        "* Se a resposta acima tiver resultados negativos, qual seria a opção alternativa?.\n",
        "\n",
        "Vamos fazer os testes e escolher a melhor abordagem para nosso projeto:\n"
      ]
    },
    {
      "cell_type": "code",
      "metadata": {
        "colab": {
          "base_uri": "https://localhost:8080/"
        },
        "id": "SB0U9IcCUblV",
        "outputId": "d081ea4c-d651-4b12-8fcd-83fffae512b3"
      },
      "source": [
        "# Copiando o DataFrame para testes\n",
        "df_outlier_remocao = df_outlier.copy()\n",
        "\n",
        "# Removendo os dados\n",
        "## Definindo a função para remover as outliers\n",
        "def limpeza_outlier(x):\n",
        "  a = df_outlier_remocao\n",
        "  a.drop(a[x > limite_sup(x)].index, axis=0, inplace= True) #remover os dados acima do limite superior\n",
        "  a.drop(a[x < limite_inf(x)].index, axis=0, inplace= True) #remover os dados abaixo do limite inferior\n",
        "  return\n",
        "\n",
        "## Criando uma lista com as variáveis numéricas\n",
        "lista_numerica = [df_outlier_remocao.score_3,\n",
        "                  df_outlier_remocao.score_4,\n",
        "                  df_outlier_remocao.score_5,\n",
        "                  df_outlier_remocao.score_6,\n",
        "                  df_outlier_remocao.risk_rate,\n",
        "                  df_outlier_remocao.last_amount_borrowed,\n",
        "                  df_outlier_remocao.last_borrowed_in_months,\n",
        "                  df_outlier_remocao.credit_limit,\n",
        "                  df_outlier_remocao.income,\n",
        "                  df_outlier_remocao.ok_since,\n",
        "                  df_outlier_remocao.n_bankruptcies,\n",
        "                  df_outlier_remocao.n_defaulted_loans,\n",
        "                  df_outlier_remocao.n_accounts,\n",
        "                  df_outlier_remocao.n_issues,\n",
        "                  df_outlier_remocao.application_time_in_funnel,\n",
        "                  df_outlier_remocao.external_data_provider_credit_checks_last_month,\n",
        "                  df_outlier_remocao.external_data_provider_credit_checks_last_year,\n",
        "                  df_outlier_remocao.external_data_provider_email_seen_before,\n",
        "                  df_outlier_remocao.external_data_provider_fraud_score,\n",
        "                  df_outlier_remocao.reported_income,\n",
        "                  df_outlier_remocao.shipping_zip_code]\n",
        "\n",
        "## Criando um loop para executar a função de limpeza das outliers\n",
        "for i in lista_numerica:\n",
        "  limpeza_outlier(i)"
      ],
      "execution_count": null,
      "outputs": [
        {
          "output_type": "stream",
          "text": [
            "/usr/local/lib/python3.7/dist-packages/ipykernel_launcher.py:9: UserWarning: Boolean Series key will be reindexed to match DataFrame index.\n",
            "  if __name__ == '__main__':\n",
            "/usr/local/lib/python3.7/dist-packages/ipykernel_launcher.py:8: UserWarning: Boolean Series key will be reindexed to match DataFrame index.\n",
            "  \n",
            "/usr/local/lib/python3.7/dist-packages/ipykernel_launcher.py:9: UserWarning: Boolean Series key will be reindexed to match DataFrame index.\n",
            "  if __name__ == '__main__':\n",
            "/usr/local/lib/python3.7/dist-packages/ipykernel_launcher.py:8: UserWarning: Boolean Series key will be reindexed to match DataFrame index.\n",
            "  \n",
            "/usr/local/lib/python3.7/dist-packages/ipykernel_launcher.py:9: UserWarning: Boolean Series key will be reindexed to match DataFrame index.\n",
            "  if __name__ == '__main__':\n",
            "/usr/local/lib/python3.7/dist-packages/ipykernel_launcher.py:8: UserWarning: Boolean Series key will be reindexed to match DataFrame index.\n",
            "  \n",
            "/usr/local/lib/python3.7/dist-packages/ipykernel_launcher.py:9: UserWarning: Boolean Series key will be reindexed to match DataFrame index.\n",
            "  if __name__ == '__main__':\n",
            "/usr/local/lib/python3.7/dist-packages/ipykernel_launcher.py:8: UserWarning: Boolean Series key will be reindexed to match DataFrame index.\n",
            "  \n",
            "/usr/local/lib/python3.7/dist-packages/ipykernel_launcher.py:9: UserWarning: Boolean Series key will be reindexed to match DataFrame index.\n",
            "  if __name__ == '__main__':\n",
            "/usr/local/lib/python3.7/dist-packages/ipykernel_launcher.py:8: UserWarning: Boolean Series key will be reindexed to match DataFrame index.\n",
            "  \n",
            "/usr/local/lib/python3.7/dist-packages/ipykernel_launcher.py:9: UserWarning: Boolean Series key will be reindexed to match DataFrame index.\n",
            "  if __name__ == '__main__':\n",
            "/usr/local/lib/python3.7/dist-packages/ipykernel_launcher.py:8: UserWarning: Boolean Series key will be reindexed to match DataFrame index.\n",
            "  \n",
            "/usr/local/lib/python3.7/dist-packages/ipykernel_launcher.py:9: UserWarning: Boolean Series key will be reindexed to match DataFrame index.\n",
            "  if __name__ == '__main__':\n",
            "/usr/local/lib/python3.7/dist-packages/ipykernel_launcher.py:8: UserWarning: Boolean Series key will be reindexed to match DataFrame index.\n",
            "  \n",
            "/usr/local/lib/python3.7/dist-packages/ipykernel_launcher.py:9: UserWarning: Boolean Series key will be reindexed to match DataFrame index.\n",
            "  if __name__ == '__main__':\n",
            "/usr/local/lib/python3.7/dist-packages/ipykernel_launcher.py:8: UserWarning: Boolean Series key will be reindexed to match DataFrame index.\n",
            "  \n",
            "/usr/local/lib/python3.7/dist-packages/ipykernel_launcher.py:9: UserWarning: Boolean Series key will be reindexed to match DataFrame index.\n",
            "  if __name__ == '__main__':\n",
            "/usr/local/lib/python3.7/dist-packages/ipykernel_launcher.py:8: UserWarning: Boolean Series key will be reindexed to match DataFrame index.\n",
            "  \n",
            "/usr/local/lib/python3.7/dist-packages/ipykernel_launcher.py:9: UserWarning: Boolean Series key will be reindexed to match DataFrame index.\n",
            "  if __name__ == '__main__':\n",
            "/usr/local/lib/python3.7/dist-packages/ipykernel_launcher.py:8: UserWarning: Boolean Series key will be reindexed to match DataFrame index.\n",
            "  \n",
            "/usr/local/lib/python3.7/dist-packages/ipykernel_launcher.py:9: UserWarning: Boolean Series key will be reindexed to match DataFrame index.\n",
            "  if __name__ == '__main__':\n",
            "/usr/local/lib/python3.7/dist-packages/ipykernel_launcher.py:8: UserWarning: Boolean Series key will be reindexed to match DataFrame index.\n",
            "  \n",
            "/usr/local/lib/python3.7/dist-packages/ipykernel_launcher.py:9: UserWarning: Boolean Series key will be reindexed to match DataFrame index.\n",
            "  if __name__ == '__main__':\n",
            "/usr/local/lib/python3.7/dist-packages/ipykernel_launcher.py:8: UserWarning: Boolean Series key will be reindexed to match DataFrame index.\n",
            "  \n",
            "/usr/local/lib/python3.7/dist-packages/ipykernel_launcher.py:9: UserWarning: Boolean Series key will be reindexed to match DataFrame index.\n",
            "  if __name__ == '__main__':\n",
            "/usr/local/lib/python3.7/dist-packages/ipykernel_launcher.py:8: UserWarning: Boolean Series key will be reindexed to match DataFrame index.\n",
            "  \n",
            "/usr/local/lib/python3.7/dist-packages/ipykernel_launcher.py:9: UserWarning: Boolean Series key will be reindexed to match DataFrame index.\n",
            "  if __name__ == '__main__':\n",
            "/usr/local/lib/python3.7/dist-packages/ipykernel_launcher.py:8: UserWarning: Boolean Series key will be reindexed to match DataFrame index.\n",
            "  \n",
            "/usr/local/lib/python3.7/dist-packages/ipykernel_launcher.py:9: UserWarning: Boolean Series key will be reindexed to match DataFrame index.\n",
            "  if __name__ == '__main__':\n",
            "/usr/local/lib/python3.7/dist-packages/ipykernel_launcher.py:8: UserWarning: Boolean Series key will be reindexed to match DataFrame index.\n",
            "  \n",
            "/usr/local/lib/python3.7/dist-packages/ipykernel_launcher.py:9: UserWarning: Boolean Series key will be reindexed to match DataFrame index.\n",
            "  if __name__ == '__main__':\n",
            "/usr/local/lib/python3.7/dist-packages/ipykernel_launcher.py:8: UserWarning: Boolean Series key will be reindexed to match DataFrame index.\n",
            "  \n",
            "/usr/local/lib/python3.7/dist-packages/ipykernel_launcher.py:9: UserWarning: Boolean Series key will be reindexed to match DataFrame index.\n",
            "  if __name__ == '__main__':\n",
            "/usr/local/lib/python3.7/dist-packages/ipykernel_launcher.py:8: UserWarning: Boolean Series key will be reindexed to match DataFrame index.\n",
            "  \n",
            "/usr/local/lib/python3.7/dist-packages/ipykernel_launcher.py:9: UserWarning: Boolean Series key will be reindexed to match DataFrame index.\n",
            "  if __name__ == '__main__':\n",
            "/usr/local/lib/python3.7/dist-packages/ipykernel_launcher.py:8: UserWarning: Boolean Series key will be reindexed to match DataFrame index.\n",
            "  \n",
            "/usr/local/lib/python3.7/dist-packages/ipykernel_launcher.py:9: UserWarning: Boolean Series key will be reindexed to match DataFrame index.\n",
            "  if __name__ == '__main__':\n",
            "/usr/local/lib/python3.7/dist-packages/ipykernel_launcher.py:8: UserWarning: Boolean Series key will be reindexed to match DataFrame index.\n",
            "  \n",
            "/usr/local/lib/python3.7/dist-packages/ipykernel_launcher.py:9: UserWarning: Boolean Series key will be reindexed to match DataFrame index.\n",
            "  if __name__ == '__main__':\n",
            "/usr/local/lib/python3.7/dist-packages/ipykernel_launcher.py:8: UserWarning: Boolean Series key will be reindexed to match DataFrame index.\n",
            "  \n",
            "/usr/local/lib/python3.7/dist-packages/ipykernel_launcher.py:9: UserWarning: Boolean Series key will be reindexed to match DataFrame index.\n",
            "  if __name__ == '__main__':\n"
          ],
          "name": "stderr"
        }
      ]
    },
    {
      "cell_type": "markdown",
      "metadata": {
        "id": "ALz0wFSN0Brx"
      },
      "source": [
        "Tendo removido as outliers das variáveis numéricas, vamos checar o tamanho do novo dataset:"
      ]
    },
    {
      "cell_type": "code",
      "metadata": {
        "colab": {
          "base_uri": "https://localhost:8080/"
        },
        "id": "3wCMhUWOyOTJ",
        "outputId": "b0fade0d-2044-413e-bcf3-aae08835cc05"
      },
      "source": [
        "# Checando o tamanho do dataset após as remoções\n",
        "df_outlier_remocao.shape"
      ],
      "execution_count": null,
      "outputs": [
        {
          "output_type": "execute_result",
          "data": {
            "text/plain": [
              "(11557, 35)"
            ]
          },
          "metadata": {
            "tags": []
          },
          "execution_count": 18
        }
      ]
    },
    {
      "cell_type": "code",
      "metadata": {
        "colab": {
          "base_uri": "https://localhost:8080/"
        },
        "id": "uciAp4G_0YGW",
        "outputId": "09aca657-c030-40a5-c872-20d2cbfc533b"
      },
      "source": [
        "# Checando o tamanho do dataset da etapa anterior\n",
        "df_nan.shape"
      ],
      "execution_count": null,
      "outputs": [
        {
          "output_type": "execute_result",
          "data": {
            "text/plain": [
              "(41741, 35)"
            ]
          },
          "metadata": {
            "tags": []
          },
          "execution_count": 19
        }
      ]
    },
    {
      "cell_type": "markdown",
      "metadata": {
        "id": "eBE2bGEO0LGI"
      },
      "source": [
        "Temos que o dataset da etapa de dados ausentes possuia quase 41,7 mil entradas, depois de removermos as outliers, ficamos com apenas 11,5 mil entradas.\n",
        "\n",
        "Vamos checar essa proporção:"
      ]
    },
    {
      "cell_type": "code",
      "metadata": {
        "colab": {
          "base_uri": "https://localhost:8080/"
        },
        "id": "bLvpsiq26ocp",
        "outputId": "dfc4cb59-3cb3-4ca4-e793-6a170cd6166e"
      },
      "source": [
        "# Proporção dos datasets\n",
        "dados_perdidos = df_nan.shape[0] - df_outlier_remocao.shape[0]\n",
        "dados_perdidos / df_nan.shape[0]"
      ],
      "execution_count": null,
      "outputs": [
        {
          "output_type": "execute_result",
          "data": {
            "text/plain": [
              "0.7231259433171222"
            ]
          },
          "metadata": {
            "tags": []
          },
          "execution_count": 20
        }
      ]
    },
    {
      "cell_type": "markdown",
      "metadata": {
        "id": "nl9hkaDT8N1_"
      },
      "source": [
        "Com a remoção das outliers, perdemos 72% de informação de todo o dataset, o que é extremamente prejudicial para nosso modelo e para qualquer análise que busca representar cenários reais.\n",
        "\n",
        "Dessa forma devemos encontrar outras abordagens para o tratamento das outliers, e algumas delas são:\n",
        "* Imputação: (substituir as outliers pelos valores obtidos na detecção de outliers, que no nosso caso são os valores obtidos pelo método IQR)\n",
        " * Média;\n",
        " * Mediana;\n",
        " * Limites superior e inferior.\n",
        "\n",
        "* Transformação:\n",
        " * Escalando os dados; (Scaling)\n",
        " * Transformação Logarítmica; (Log transformation)\n",
        " * Normalização por raiz quadrada. (Cube Root Normalization)\n",
        "\n",
        "* Clusterização ou Agrupamento; (Clustering)\n",
        "\n",
        "* Tratar separadamente;\n",
        "\n",
        "* Usar modelos de Aprendizado de Máquina (Machine Learning) que não sejam sensíveis à outliers.\n",
        "\n",
        "Para o projeto, vamos testar o desempenho do modelo para algumas dessas abordagens e no fim fazer uma comparação, para escolhermos o que teve melhor desempenho.\n",
        "\n",
        "---------------------------------------------\n",
        "\n",
        "EXTRA: \n",
        "\n",
        "Caso tenha interesse em conhecer mais sobre essas abordagens, na seção de referências encontram-se links para excelentes artigos que aprofundam em cada uma, com exemplos e explicações. \n",
        "\n",
        "---------------------------------------------\n",
        "\n",
        "As abordagens que serão testadas são:\n",
        "* Imputação; e\n",
        "* Transformação.\n",
        "\n",
        "Como precisaremos fazer os testes dessas abordagens em cima do nosso modelo, a fim de encontrarmos a melhor, iremos avançar para as próximas etapas de preparação do modelo e mais adiante voltar ao assunto das outliers. \n"
      ]
    },
    {
      "cell_type": "markdown",
      "metadata": {
        "id": "-VwLG__wtTuI"
      },
      "source": [
        "## Feature Engineering\n",
        "\n",
        "Nesta etapa vamos obter as variáveis binárias e categóricas, além de buscar novas variáveis que podem ser obtidas com os dados, a fim de alimentar o modelo com mais informações.\n",
        "\n",
        "Primeiramente vamos criar um dataset para esta etapa:"
      ]
    },
    {
      "cell_type": "code",
      "metadata": {
        "id": "E_qIUYk1BbRV"
      },
      "source": [
        "# Copiando o Dataframe da etapa anterior\n",
        "df_feature = df_outlier.copy()"
      ],
      "execution_count": null,
      "outputs": []
    },
    {
      "cell_type": "markdown",
      "metadata": {
        "id": "bMu9M7GJxDw2"
      },
      "source": [
        "### Obtendo as variáveis binárias e categóricas\n",
        "\n",
        "Na fase da análise superficial dos dados vimos que existem variáveis categóricas e binárias, e como a maioria dos modelos de Machine Learning (Aprendizado de Máquina) não conseguem interpretar valores não numéricos (entradas em forma de texto), precisamos utilizar um método de Encoder para realizar esta transformação, tornando possível a interpretação desses dados pelo modelo.\n",
        "\n",
        "As variáveis binárias, que possuem apenas dois valores únicos, são:\n"
      ]
    },
    {
      "cell_type": "code",
      "metadata": {
        "colab": {
          "base_uri": "https://localhost:8080/"
        },
        "id": "VTiXd5dLxAlE",
        "outputId": "327a1623-bb11-483a-a086-c125e99732b3"
      },
      "source": [
        "# Checando as variáveis binárias\n",
        "df_feature.nunique().sort_values().head(4)"
      ],
      "execution_count": null,
      "outputs": [
        {
          "output_type": "execute_result",
          "data": {
            "text/plain": [
              "target_default                                    2\n",
              "external_data_provider_credit_checks_last_year    2\n",
              "facebook_profile                                  2\n",
              "last_borrowed_in_months                           2\n",
              "dtype: int64"
            ]
          },
          "metadata": {
            "tags": []
          },
          "execution_count": 22
        }
      ]
    },
    {
      "cell_type": "markdown",
      "metadata": {
        "id": "MEWYwRyo9Vsb"
      },
      "source": [
        "Para transformar as variáveis em binárias, vamos utilizar o método LabelEncoder:"
      ]
    },
    {
      "cell_type": "code",
      "metadata": {
        "id": "n8PScQlW-f1E"
      },
      "source": [
        "# Obtendo as variáveis (features) binárias e categóricas\n",
        "binarias = df_feature.nunique()[df_feature.nunique() == 2].keys().tolist()\n",
        "categoricas = [col for col in df_feature.select_dtypes('object').keys().tolist() if col not in binarias]\n",
        "\n",
        "# Utilizando o método LabelEncoder\n",
        "le = LabelEncoder()\n",
        "for i in binarias:\n",
        "  df_feature[i] = le.fit_transform(df_feature[i])"
      ],
      "execution_count": null,
      "outputs": []
    },
    {
      "cell_type": "markdown",
      "metadata": {
        "id": "e0tiaktFVpWM"
      },
      "source": [
        "### Analisando o caso das features categóricas\n",
        "\n",
        "Para as variáveis categóricas, temos que analisar mais profundamente e buscar entender como estão distribuídos os dados, para então decidirmos a melhor maneira de tratá-las.\n",
        "\n",
        "Quando vamos utilizar os métodos de Encoder, temos que olhar o tipo de categoria da variável: se ela é Ordinal ou Nominal.\n",
        "\n",
        "Uma categoria Ordinal possui uma hierarquia em seus valores (ordem), ou seja, existe uma correlação, por exemplo, uma variável que contêm Patentes Militares.\n",
        "\n",
        "Já uma Nominal, não possui nenhuma correlação existente entre seus valores, por exemplo, uma variável que contem animais, em que um Gato não tem correlação nenhuma com uma Girafa.\n",
        "\n",
        "Sabendo disso, vamos identificar as variáveis categóricas do nosso dataset:\n"
      ]
    },
    {
      "cell_type": "code",
      "metadata": {
        "colab": {
          "base_uri": "https://localhost:8080/"
        },
        "id": "dpk0TQr-qjBY",
        "outputId": "2d439848-f82d-46b7-f5f7-bae801625baf"
      },
      "source": [
        "df_feature.select_dtypes('object').columns"
      ],
      "execution_count": null,
      "outputs": [
        {
          "output_type": "execute_result",
          "data": {
            "text/plain": [
              "Index(['score_1', 'score_2', 'reason', 'state', 'zip', 'job_name',\n",
              "       'real_state', 'email', 'marketing_channel', 'shipping_state',\n",
              "       'profile_tags', 'user_agent'],\n",
              "      dtype='object')"
            ]
          },
          "metadata": {
            "tags": []
          },
          "execution_count": 24
        }
      ]
    },
    {
      "cell_type": "markdown",
      "metadata": {
        "id": "MkOvzSQ7vFmM"
      },
      "source": [
        "As variáveis categóricas são:\n",
        "* `score_1`;\n",
        "* `score_2`;\n",
        "* `reason`;\n",
        "* `state`;\n",
        "* `zip`;\n",
        "* `job_name`;\n",
        "* `real_state`;\n",
        "* `email`;\n",
        "* `marketing_channel`;\n",
        "* `profile_tags`;\n",
        "* `shipping_state`\n",
        "* `user_agent`.\n",
        "\n",
        "Como não temos nenhuma documentação sobre essas variáveis, irei assumir que em nenhuma delas existe uma correlação dos valores, ou seja, irei adotar todas essas variáveis categóricas como nominais.\n",
        "\n",
        "Adotando-as como nominais, vamos checar a quantidade de valores únicos que existem em cada uma:\n"
      ]
    },
    {
      "cell_type": "code",
      "metadata": {
        "colab": {
          "base_uri": "https://localhost:8080/"
        },
        "id": "mDBG_D_STx7f",
        "outputId": "979a1cae-253b-41db-97f3-9045a6f57509"
      },
      "source": [
        "# Checando a quantidade de valores únicos para as variáveis categóricas\n",
        "df_feature.select_dtypes('object').nunique()"
      ],
      "execution_count": null,
      "outputs": [
        {
          "output_type": "execute_result",
          "data": {
            "text/plain": [
              "score_1                  7\n",
              "score_2                 35\n",
              "reason               14260\n",
              "state                   50\n",
              "zip                    823\n",
              "job_name             30543\n",
              "real_state               5\n",
              "email                    6\n",
              "marketing_channel        9\n",
              "shipping_state          25\n",
              "profile_tags         24458\n",
              "user_agent             297\n",
              "dtype: int64"
            ]
          },
          "metadata": {
            "tags": []
          },
          "execution_count": 25
        }
      ]
    },
    {
      "cell_type": "markdown",
      "metadata": {
        "id": "neSF5y07HBDC"
      },
      "source": [
        "Checando a quantidade de valores únicos, vemos que existem features (variáveis) que possuem mais de 10 mil categorias internas, ou seja, nosso dataset possui high cardinality (alta cardinalidade).\n",
        "\n",
        "Como foi dito que a maioria dos modelos de Machine Learning precisam ter entradas numéricas, cada tipo de Encoder pode afetar um tipo específico de modelo, e o fato de termos um dataset que possui features categóricas com alta cardinalidade, a atenção na escolha do Encoder deve ser ainda maior.\n",
        "\n",
        "Diversos tipos de Encoders podem ser utilizados para transformar as features categóricas, porém vamos analisar alguns aspectos e depois selecionar as mais viáveis para solucionar este problema:\n",
        "\n",
        "* O método LabelEncoder: este não é recomendado para features nominais, pois faz com que alguns modelos, como os de regressão, atribuam uma ordem/correlação erroneamente nos dados, assim tendo uma previsão enviesada e com baixa performance.\n",
        "Porém modelos baseados em árvores de decisão conseguem mesmo com este método, \"quebrar\" esta correlação (atribuída erroneamente) e obter bons resultados.\n",
        "\n",
        "* Dois métodos que poderiam solucionar o problema de atribuição de correlação errônea dos dados com o LabelEncoder, são os métodos Dummy e One-Hot Encoder, que transformam cada valor único da categoria em uma nova feature binária, porém estes métodos se aplicados em datasets com muitas features são bastante inviáveis, uma vez que entram no problema conhecido publicamente como a Maldição da Dimensionalidade (Curse of Dimensionality), em que teríamos serios problemas com a performance de um modelo.\n",
        "\n",
        "* Com os problemas de alta cardinalidade e atribuição falsa de ordem hierárquica, podemos utilizar outros métodos de Encoder:\n",
        "\n",
        " * Binary Encoder: converte cada valor único da variável em um número inteiro e então transforma este número para binário, assim reduzindo a dimensionalidade e o custo de computação.\n",
        "\n",
        " * Base-N Encoding: este exerce o mesmo resultado que o Binary Encoder, porém podemos alterar a base para números maiores, abrangendo mais dimensionalidade.\n",
        "\n",
        " * Hash Encoder: também é capaz de reduzir a dimensionalidade dos dados, porém ao custo da perda de informação analítica, em que as entradas das features convertidas não poderão ser revertidas para seu valor original, assim impossibilitando uma avaliação das features mais impactantes para o modelo. Aqui existe também outra forma de perda de informação, em que em um dataset com várias features, podem ocorrer colisões de valores, ou seja, a entrada de uma feature pode ter o mesmo valor que em outra, entretanto para o modelo, essa perda pode não ser impactante no seu desempenho.\n",
        "\n",
        "---------------------------------------------\n",
        "\n",
        "EXTRA: \n",
        "\n",
        "Caso tenha interesse em conhecer mais sobre esses e outros métodos, na seção de referências encontram-se links para excelentes artigos que aprofundam em cada uma, com exemplos e explicações. \n",
        "\n",
        "Coloquei também uma referência sobre a Maldição da Dimensionalidade (Curse of Dimensionality).\n",
        "\n",
        "--------------------------------------------- \n",
        "\n",
        "Assim como na etapa de tratamento de outliers, vamos precisar testar cada um destes métodos em busca do que obtém o melhor desempenho.\n",
        "\n",
        "Faremos os testes da seguinte forma:\n",
        "\n",
        "* Para modelos com base em árvore, utilizaremos o método LabelEncoder; e\n",
        "\n",
        "* Para modelos sensíveis à correlação dos dados, testaremos com os métodos: Binary Encoder, Base-N Encoder e Hash Encoder.\n",
        "\n",
        "\n"
      ]
    },
    {
      "cell_type": "markdown",
      "metadata": {
        "id": "KE5ut63mDUy9"
      },
      "source": [
        "## Checando os Testes de Hipóteses\n",
        "\n",
        "Até aqui, vimos que seriam necessários vários testes para encontrarmos a melhor maneira de tratar algumas etapas, sendo elas:\n",
        "\n",
        "* Etapa de Tratamento de Outliers:\n",
        "\n",
        " * Imputação: iremos converter as outliers pelos limites obtidos por IQR;\n",
        "\n",
        " * Transformação: iremos testar com dados padronizados e também com dados normalizados;\n",
        "\n",
        "* Etapa de Feature Engineering:\n",
        "\n",
        " * Testaremos os desempenhos dos modelos de Árvore de Decisão (Decision Tree) e Árvores Aleatórias (Random Forest) com o método LabelEncoder;\n",
        "\n",
        " * Testaremos os modelos XGBoost e Máquina de Vetor de Suporte (SVM) com os métodos de Encoder:\n",
        "   * Binary Encoder;\n",
        "   * Base-N Encoder;\n",
        "   * Hash Encoder.\n",
        "\n",
        "Vale ressaltar que ambos os modelos, precisam de uma regularização dos dados, então mesmo durante o teste com Imputação, também aplicaremos a transformação de padronização e normalização.\n",
        "\n",
        "Outro passo que já podemos adiantar para todos os testes, é checar o balanceamento dos dados.\n",
        "\n",
        "Vamos checar o balanceamento da variável alvo `target_default`:"
      ]
    },
    {
      "cell_type": "code",
      "metadata": {
        "colab": {
          "base_uri": "https://localhost:8080/",
          "height": 297
        },
        "id": "tS4_8NCHu-0A",
        "outputId": "fde53bdd-6c5f-4202-b6ed-d07cd976dc01"
      },
      "source": [
        "# Proporção da variável alvo\n",
        "fig, ax = plt.subplots()\n",
        "\n",
        "sns.countplot('target_default', data=df_feature, ax=ax)\n",
        "ax.set_title(\"Inadimplentes\")\n",
        "ax.set_xlabel(\"Valor\")\n",
        "ax.set_ylabel(\"Contagem\")\n",
        "\n",
        "plt.tight_layout()"
      ],
      "execution_count": null,
      "outputs": [
        {
          "output_type": "display_data",
          "data": {
            "application/javascript": [
              "\n",
              "        if (window._pyforest_update_imports_cell) { window._pyforest_update_imports_cell('import seaborn as sns\\nimport matplotlib.pyplot as plt\\nimport numpy as np\\nimport pandas as pd'); }\n",
              "    "
            ],
            "text/plain": [
              "<IPython.core.display.Javascript object>"
            ]
          },
          "metadata": {
            "tags": []
          }
        },
        {
          "output_type": "display_data",
          "data": {
            "application/javascript": [
              "\n",
              "        if (window._pyforest_update_imports_cell) { window._pyforest_update_imports_cell('import seaborn as sns\\nimport matplotlib.pyplot as plt\\nimport numpy as np\\nimport pandas as pd'); }\n",
              "    "
            ],
            "text/plain": [
              "<IPython.core.display.Javascript object>"
            ]
          },
          "metadata": {
            "tags": []
          }
        },
        {
          "output_type": "display_data",
          "data": {
            "application/javascript": [
              "\n",
              "        if (window._pyforest_update_imports_cell) { window._pyforest_update_imports_cell('import seaborn as sns\\nimport matplotlib.pyplot as plt\\nimport numpy as np\\nimport pandas as pd'); }\n",
              "    "
            ],
            "text/plain": [
              "<IPython.core.display.Javascript object>"
            ]
          },
          "metadata": {
            "tags": []
          }
        },
        {
          "output_type": "display_data",
          "data": {
            "image/png": "[encoded data removed]",
            "text/plain": [
              "<Figure size 432x288 with 1 Axes>"
            ]
          },
          "metadata": {
            "tags": [],
            "needs_background": "light"
          }
        }
      ]
    },
    {
      "cell_type": "markdown",
      "metadata": {
        "id": "HZdoloe_0oHu"
      },
      "source": [
        "Com o gráfico, vemos que os dados estão realmente desbalanceados, e para tratar esse desbalanceamento, vamos utilizar o método SMOTE Tomek (referenciado para maiores informações), em que será criado valores sintéticos das classes minoritárias e depois será removido esses valores que estão mais proximos ao limite das duas classes, assim balanceando e aumentando a separação entre elas.\n"
      ]
    },
    {
      "cell_type": "markdown",
      "metadata": {
        "id": "YI1YVJNtAWxA"
      },
      "source": [
        "## Roadmap para os Testes de Hipóteses\n",
        "\n",
        "Para facilitar a visualização dos passos que serão realizados nesta fase de testes, criei um Roadmap que representa cada um destes passos: \n",
        "\n",
        "<center><img alt=\"Roadmap\"  src='https://github.com/octavianosilva/Imagens_projetos/blob/main/roadmap_new1.png?raw=true'></center>\n",
        "\n"
      ]
    },
    {
      "cell_type": "markdown",
      "metadata": {
        "id": "mGNQjt1mtHMW"
      },
      "source": [
        "Vale ressaltar também que outros testes também seriam possíveis, como fazer testes para tipos de balanceamento, outros tratamentos de outlier, mais modelos de Machine Learning e até com outros tipos de Encoders, porém isso tornaria o projeto ainda mais extendido em busca da \"melhor\" combinação destes elementos."
      ]
    },
    {
      "cell_type": "markdown",
      "metadata": {
        "id": "3KYUR9aDDriW"
      },
      "source": [
        "# Testes de Hipóteses\n",
        "\n",
        "Durante essa etapa iremos realizar diversos testes, basicamente um teste para cada caso apresentado no Roadmap, então para evitar o consumo computacional desnecessário, quando um teste for concluído, guardarei os resultados e então evidenciarei o código em forma de texto para evitar ser reexecutado.\n",
        "\n",
        "Todos os modelos testados serão uma versão básica, ou seja, sem qualquer parametrização que não seja essencial.\n",
        "\n",
        "Esta etapa envolve testes que demandam bastante tempo de processamento, como em alguns casos mais de 40 minutos para um único teste de modelo, então para evitar termos que passar por todos os passos repetidas vezes, ao fim de cada teste, será escrito o resultado obtido pelos modelos, sem necessidade de re-executar o código.\n",
        "\n",
        "Caso queira testar mesmo assim, retire as áspas \" \" \" escritas nas primeiras e últimas linhas de cada célula de código.\n"
      ]
    },
    {
      "cell_type": "markdown",
      "metadata": {
        "id": "hiqYrDza1i1D"
      },
      "source": [
        "## Padronização vs Normalização\n",
        "\n",
        "Testaremos os modelos com os dados regularizados pelo método StandardScaler e normalizados com o MinMaxScaler, além de utilizar a validação cruzada pra evitar o overfitting, que também nos retorna uma avaliação dos modelos, que para fins de teste, será feita com base na métrica acurácia:"
      ]
    },
    {
      "cell_type": "code",
      "metadata": {
        "id": "44SyYmm3EuyU"
      },
      "source": [
        "# Criando um dataset para os testes\n",
        "df_testes = df_feature.copy()\n",
        "\n",
        "# Validação Cruzada com base na métrica Acurácia - Padronizado\n",
        "def val_model_padronizado(X, y, clf):\n",
        "  X = np.array(X) # contém as variáveis independentes\n",
        "  y = np.array(y) # contem a variável alvo\n",
        "\n",
        "  pipeline_pd = make_pipeline(StandardScaler(), clf)\n",
        "  scores_pd = cross_val_score(pipeline_pd, X, y, scoring='accuracy')\n",
        "  return scores_pd.mean()\n",
        "\n",
        "# Validação Cruzada com base na métrica Acurácia - Normalizado\n",
        "def val_model_normalizado(X, y, clf):\n",
        "  X = np.array(X) # contém as variáveis independentes\n",
        "  y = np.array(y) # contem a variável alvo\n",
        "\n",
        "  pipeline_nm = make_pipeline(MinMaxScaler(), clf)\n",
        "  scores_nm = cross_val_score(pipeline_nm, X, y, scoring='accuracy')\n",
        "  return scores_nm.mean()"
      ],
      "execution_count": null,
      "outputs": []
    },
    {
      "cell_type": "markdown",
      "metadata": {
        "id": "4lfPlUsFIwjr"
      },
      "source": [
        "### Imputação\n",
        "\n",
        "Vamos converter as outliers pelos valores dos limites superiores e inferiores obtidos pelo método IQR Score:"
      ]
    },
    {
      "cell_type": "code",
      "metadata": {
        "colab": {
          "base_uri": "https://localhost:8080/",
          "height": 17
        },
        "id": "MRLHynlXJHea",
        "outputId": "72c3d46d-8aef-4dbf-faa1-24e7133bfcb8"
      },
      "source": [
        "# Criando um dataset para a imputação\n",
        "df_imp = df_testes.copy()\n",
        "\n",
        "## Fazendo as substituições (não foi criado uma função para ler a lista de variáveis, pois estava sofrendo conflito com outras funções)\n",
        "\n",
        "# Variável score_3\n",
        "df_imp['score_3'] = np.where(df_imp['score_3'] > limite_sup(df_imp['score_3']), limite_sup(df_imp['score_3']), df_imp['score_3'])\n",
        "df_imp['score_3'] = np.where(df_imp['score_3'] < limite_inf(df_imp['score_3']), limite_inf(df_imp['score_3']), df_imp['score_3'])\n",
        "\n",
        "# Variável score_4\n",
        "df_imp['score_4'] = np.where(df_imp['score_4'] > limite_sup(df_imp['score_4']), limite_sup(df_imp['score_4']), df_imp['score_4'])\n",
        "df_imp['score_4'] = np.where(df_imp['score_4'] < limite_inf(df_imp['score_4']), limite_inf(df_imp['score_4']), df_imp['score_4'])\n",
        "\n",
        "# Variável score_5\n",
        "df_imp['score_5'] = np.where(df_imp['score_5'] > limite_sup(df_imp['score_5']), limite_sup(df_imp['score_5']), df_imp['score_5'])\n",
        "df_imp['score_5'] = np.where(df_imp['score_5'] < limite_inf(df_imp['score_5']), limite_inf(df_imp['score_5']), df_imp['score_5'])\n",
        "\n",
        "# Variável score_6\n",
        "df_imp['score_6'] = np.where(df_imp['score_6'] > limite_sup(df_imp['score_6']), limite_sup(df_imp['score_6']), df_imp['score_6'])\n",
        "df_imp['score_6'] = np.where(df_imp['score_6'] < limite_inf(df_imp['score_6']), limite_inf(df_imp['score_6']), df_imp['score_6'])\n",
        "\n",
        "# Variável risk_rate\n",
        "df_imp['risk_rate'] = np.where(df_imp['risk_rate'] > limite_sup(df_imp['risk_rate']), limite_sup(df_imp['risk_rate']), df_imp['risk_rate'])\n",
        "df_imp['risk_rate'] = np.where(df_imp['risk_rate'] < limite_inf(df_imp['risk_rate']), limite_inf(df_imp['risk_rate']), df_imp['risk_rate'])\n",
        "\n",
        "# Variável last_amount_borrowed\n",
        "df_imp['last_amount_borrowed'] = np.where(df_imp['last_amount_borrowed'] > limite_sup(df_imp['last_amount_borrowed']), limite_sup(df_imp['last_amount_borrowed']), df_imp['last_amount_borrowed'])\n",
        "df_imp['last_amount_borrowed'] = np.where(df_imp['last_amount_borrowed'] < limite_inf(df_imp['last_amount_borrowed']), limite_inf(df_imp['last_amount_borrowed']), df_imp['last_amount_borrowed'])\n",
        "\n",
        "# Variável last_borrowed_in_months\n",
        "df_imp['last_borrowed_in_months'] = np.where(df_imp['last_borrowed_in_months'] > limite_sup(df_imp['last_borrowed_in_months']), limite_sup(df_imp['last_borrowed_in_months']), df_imp['last_borrowed_in_months'])\n",
        "df_imp['last_borrowed_in_months'] = np.where(df_imp['last_borrowed_in_months'] < limite_inf(df_imp['last_borrowed_in_months']), limite_inf(df_imp['last_borrowed_in_months']), df_imp['last_borrowed_in_months'])\n",
        "\n",
        "# Variável credit_limit\n",
        "df_imp['credit_limit'] = np.where(df_imp['credit_limit'] > limite_sup(df_imp['credit_limit']), limite_sup(df_imp['credit_limit']), df_imp['credit_limit'])\n",
        "df_imp['credit_limit'] = np.where(df_imp['credit_limit'] < limite_inf(df_imp['credit_limit']), limite_inf(df_imp['credit_limit']), df_imp['credit_limit'])\n",
        "\n",
        "# Variável income\n",
        "df_imp['income'] = np.where(df_imp['income'] > limite_sup(df_imp['income']), limite_sup(df_imp['income']), df_imp['income'])\n",
        "df_imp['income'] = np.where(df_imp['income'] < limite_inf(df_imp['income']), limite_inf(df_imp['income']), df_imp['income'])\n",
        "\n",
        "# Variável ok_since\n",
        "df_imp['ok_since'] = np.where(df_imp['ok_since'] > limite_sup(df_imp['ok_since']), limite_sup(df_imp['ok_since']), df_imp['ok_since'])\n",
        "df_imp['ok_since'] = np.where(df_imp['ok_since'] < limite_inf(df_imp['ok_since']), limite_inf(df_imp['ok_since']), df_imp['ok_since'])\n",
        "\n",
        "# Variável n_bankruptcies\n",
        "df_imp['n_bankruptcies'] = np.where(df_imp['n_bankruptcies'] > limite_sup(df_imp['n_bankruptcies']), limite_sup(df_imp['n_bankruptcies']), df_imp['n_bankruptcies'])\n",
        "df_imp['n_bankruptcies'] = np.where(df_imp['n_bankruptcies'] < limite_inf(df_imp['n_bankruptcies']), limite_inf(df_imp['n_bankruptcies']), df_imp['n_bankruptcies'])\n",
        "\n",
        "# Variável n_defaulted_loans\n",
        "df_imp['n_defaulted_loans'] = np.where(df_imp['n_defaulted_loans'] > limite_sup(df_imp['n_defaulted_loans']), limite_sup(df_imp['n_defaulted_loans']), df_imp['n_defaulted_loans'])\n",
        "df_imp['n_defaulted_loans'] = np.where(df_imp['n_defaulted_loans'] < limite_inf(df_imp['n_defaulted_loans']), limite_inf(df_imp['n_defaulted_loans']), df_imp['n_defaulted_loans'])\n",
        "\n",
        "# Variável n_accounts\n",
        "df_imp['n_accounts'] = np.where(df_imp['n_accounts'] > limite_sup(df_imp['n_accounts']), limite_sup(df_imp['n_accounts']), df_imp['n_accounts'])\n",
        "df_imp['n_accounts'] = np.where(df_imp['n_accounts'] < limite_inf(df_imp['n_accounts']), limite_inf(df_imp['n_accounts']), df_imp['n_accounts'])\n",
        "\n",
        "# Variável n_issues\n",
        "df_imp['n_issues'] = np.where(df_imp['n_issues'] > limite_sup(df_imp['n_issues']), limite_sup(df_imp['n_issues']), df_imp['n_issues'])\n",
        "df_imp['n_issues'] = np.where(df_imp['n_issues'] < limite_inf(df_imp['n_issues']), limite_inf(df_imp['n_issues']), df_imp['n_issues'])\n",
        "\n",
        "# Variável application_time_in_funnel\n",
        "df_imp['application_time_in_funnel'] = np.where(df_imp['application_time_in_funnel'] > limite_sup(df_imp['application_time_in_funnel']), limite_sup(df_imp['application_time_in_funnel']), df_imp['application_time_in_funnel'])\n",
        "df_imp['application_time_in_funnel'] = np.where(df_imp['application_time_in_funnel'] < limite_inf(df_imp['application_time_in_funnel']), limite_inf(df_imp['application_time_in_funnel']), df_imp['application_time_in_funnel'])\n",
        "\n",
        "# Variável external_data_provider_credit_checks_last_month\n",
        "df_imp['external_data_provider_credit_checks_last_month'] = np.where(df_imp['external_data_provider_credit_checks_last_month'] > limite_sup(df_imp['external_data_provider_credit_checks_last_month']), limite_sup(df_imp['external_data_provider_credit_checks_last_month']), df_imp['external_data_provider_credit_checks_last_month'])\n",
        "df_imp['external_data_provider_credit_checks_last_month'] = np.where(df_imp['external_data_provider_credit_checks_last_month'] < limite_inf(df_imp['external_data_provider_credit_checks_last_month']), limite_inf(df_imp['external_data_provider_credit_checks_last_month']), df_imp['external_data_provider_credit_checks_last_month'])\n",
        "\n",
        "# Variável external_data_provider_credit_checks_last_year\n",
        "df_imp['external_data_provider_credit_checks_last_year'] = np.where(df_imp['external_data_provider_credit_checks_last_year'] > limite_sup(df_imp['external_data_provider_credit_checks_last_year']), limite_sup(df_imp['external_data_provider_credit_checks_last_year']), df_imp['external_data_provider_credit_checks_last_year'])\n",
        "df_imp['external_data_provider_credit_checks_last_year'] = np.where(df_imp['external_data_provider_credit_checks_last_year'] < limite_inf(df_imp['external_data_provider_credit_checks_last_year']), limite_inf(df_imp['external_data_provider_credit_checks_last_year']), df_imp['external_data_provider_credit_checks_last_year'])\n",
        "\n",
        "# Variável external_data_provider_email_seen_before\n",
        "df_imp['external_data_provider_email_seen_before'] = np.where(df_imp['external_data_provider_email_seen_before'] > limite_sup(df_imp['external_data_provider_email_seen_before']), limite_sup(df_imp['external_data_provider_email_seen_before']), df_imp['external_data_provider_email_seen_before'])\n",
        "df_imp['external_data_provider_email_seen_before'] = np.where(df_imp['external_data_provider_email_seen_before'] < limite_inf(df_imp['external_data_provider_email_seen_before']), limite_inf(df_imp['external_data_provider_email_seen_before']), df_imp['external_data_provider_email_seen_before'])\n",
        "\n",
        "# Variável external_data_provider_fraud_score\n",
        "df_imp['external_data_provider_fraud_score'] = np.where(df_imp['external_data_provider_fraud_score'] > limite_sup(df_imp['external_data_provider_fraud_score']), limite_sup(df_imp['external_data_provider_fraud_score']), df_imp['external_data_provider_fraud_score'])\n",
        "df_imp['external_data_provider_fraud_score'] = np.where(df_imp['external_data_provider_fraud_score'] < limite_inf(df_imp['external_data_provider_fraud_score']), limite_inf(df_imp['external_data_provider_fraud_score']), df_imp['external_data_provider_fraud_score'])\n",
        "\n",
        "# Variável reported_income\n",
        "df_imp['reported_income'] = np.where(df_imp['reported_income'] > limite_sup(df_imp['reported_income']), limite_sup(df_imp['reported_income']), df_imp['reported_income'])\n",
        "df_imp['reported_income'] = np.where(df_imp['reported_income'] < limite_inf(df_imp['reported_income']), limite_inf(df_imp['reported_income']), df_imp['reported_income'])\n",
        "\n",
        "# Variável shipping_zip_code\n",
        "df_imp['shipping_zip_code'] = np.where(df_imp['shipping_zip_code'] > limite_sup(df_imp['shipping_zip_code']), limite_sup(df_imp['shipping_zip_code']), df_imp['shipping_zip_code'])\n",
        "df_imp['shipping_zip_code'] = np.where(df_imp['shipping_zip_code'] < limite_inf(df_imp['shipping_zip_code']), limite_inf(df_imp['shipping_zip_code']), df_imp['shipping_zip_code'])\n"
      ],
      "execution_count": null,
      "outputs": [
        {
          "output_type": "display_data",
          "data": {
            "application/javascript": [
              "\n",
              "        if (window._pyforest_update_imports_cell) { window._pyforest_update_imports_cell('import seaborn as sns\\nimport matplotlib.pyplot as plt\\nimport numpy as np\\nimport pandas as pd'); }\n",
              "    "
            ],
            "text/plain": [
              "<IPython.core.display.Javascript object>"
            ]
          },
          "metadata": {
            "tags": []
          }
        },
        {
          "output_type": "display_data",
          "data": {
            "application/javascript": [
              "\n",
              "        if (window._pyforest_update_imports_cell) { window._pyforest_update_imports_cell('import seaborn as sns\\nimport matplotlib.pyplot as plt\\nimport numpy as np\\nimport pandas as pd'); }\n",
              "    "
            ],
            "text/plain": [
              "<IPython.core.display.Javascript object>"
            ]
          },
          "metadata": {
            "tags": []
          }
        },
        {
          "output_type": "display_data",
          "data": {
            "application/javascript": [
              "\n",
              "        if (window._pyforest_update_imports_cell) { window._pyforest_update_imports_cell('import seaborn as sns\\nimport matplotlib.pyplot as plt\\nimport numpy as np\\nimport pandas as pd'); }\n",
              "    "
            ],
            "text/plain": [
              "<IPython.core.display.Javascript object>"
            ]
          },
          "metadata": {
            "tags": []
          }
        },
        {
          "output_type": "display_data",
          "data": {
            "application/javascript": [
              "\n",
              "        if (window._pyforest_update_imports_cell) { window._pyforest_update_imports_cell('import seaborn as sns\\nimport matplotlib.pyplot as plt\\nimport numpy as np\\nimport pandas as pd'); }\n",
              "    "
            ],
            "text/plain": [
              "<IPython.core.display.Javascript object>"
            ]
          },
          "metadata": {
            "tags": []
          }
        },
        {
          "output_type": "display_data",
          "data": {
            "application/javascript": [
              "\n",
              "        if (window._pyforest_update_imports_cell) { window._pyforest_update_imports_cell('import seaborn as sns\\nimport matplotlib.pyplot as plt\\nimport numpy as np\\nimport pandas as pd'); }\n",
              "    "
            ],
            "text/plain": [
              "<IPython.core.display.Javascript object>"
            ]
          },
          "metadata": {
            "tags": []
          }
        },
        {
          "output_type": "display_data",
          "data": {
            "application/javascript": [
              "\n",
              "        if (window._pyforest_update_imports_cell) { window._pyforest_update_imports_cell('import seaborn as sns\\nimport matplotlib.pyplot as plt\\nimport numpy as np\\nimport pandas as pd'); }\n",
              "    "
            ],
            "text/plain": [
              "<IPython.core.display.Javascript object>"
            ]
          },
          "metadata": {
            "tags": []
          }
        },
        {
          "output_type": "display_data",
          "data": {
            "application/javascript": [
              "\n",
              "        if (window._pyforest_update_imports_cell) { window._pyforest_update_imports_cell('import seaborn as sns\\nimport matplotlib.pyplot as plt\\nimport numpy as np\\nimport pandas as pd'); }\n",
              "    "
            ],
            "text/plain": [
              "<IPython.core.display.Javascript object>"
            ]
          },
          "metadata": {
            "tags": []
          }
        },
        {
          "output_type": "display_data",
          "data": {
            "application/javascript": [
              "\n",
              "        if (window._pyforest_update_imports_cell) { window._pyforest_update_imports_cell('import seaborn as sns\\nimport matplotlib.pyplot as plt\\nimport numpy as np\\nimport pandas as pd'); }\n",
              "    "
            ],
            "text/plain": [
              "<IPython.core.display.Javascript object>"
            ]
          },
          "metadata": {
            "tags": []
          }
        },
        {
          "output_type": "display_data",
          "data": {
            "application/javascript": [
              "\n",
              "        if (window._pyforest_update_imports_cell) { window._pyforest_update_imports_cell('import seaborn as sns\\nimport matplotlib.pyplot as plt\\nimport numpy as np\\nimport pandas as pd'); }\n",
              "    "
            ],
            "text/plain": [
              "<IPython.core.display.Javascript object>"
            ]
          },
          "metadata": {
            "tags": []
          }
        },
        {
          "output_type": "display_data",
          "data": {
            "application/javascript": [
              "\n",
              "        if (window._pyforest_update_imports_cell) { window._pyforest_update_imports_cell('import seaborn as sns\\nimport matplotlib.pyplot as plt\\nimport numpy as np\\nimport pandas as pd'); }\n",
              "    "
            ],
            "text/plain": [
              "<IPython.core.display.Javascript object>"
            ]
          },
          "metadata": {
            "tags": []
          }
        },
        {
          "output_type": "display_data",
          "data": {
            "application/javascript": [
              "\n",
              "        if (window._pyforest_update_imports_cell) { window._pyforest_update_imports_cell('import seaborn as sns\\nimport matplotlib.pyplot as plt\\nimport numpy as np\\nimport pandas as pd'); }\n",
              "    "
            ],
            "text/plain": [
              "<IPython.core.display.Javascript object>"
            ]
          },
          "metadata": {
            "tags": []
          }
        },
        {
          "output_type": "display_data",
          "data": {
            "application/javascript": [
              "\n",
              "        if (window._pyforest_update_imports_cell) { window._pyforest_update_imports_cell('import seaborn as sns\\nimport matplotlib.pyplot as plt\\nimport numpy as np\\nimport pandas as pd'); }\n",
              "    "
            ],
            "text/plain": [
              "<IPython.core.display.Javascript object>"
            ]
          },
          "metadata": {
            "tags": []
          }
        },
        {
          "output_type": "display_data",
          "data": {
            "application/javascript": [
              "\n",
              "        if (window._pyforest_update_imports_cell) { window._pyforest_update_imports_cell('import seaborn as sns\\nimport matplotlib.pyplot as plt\\nimport numpy as np\\nimport pandas as pd'); }\n",
              "    "
            ],
            "text/plain": [
              "<IPython.core.display.Javascript object>"
            ]
          },
          "metadata": {
            "tags": []
          }
        },
        {
          "output_type": "display_data",
          "data": {
            "application/javascript": [
              "\n",
              "        if (window._pyforest_update_imports_cell) { window._pyforest_update_imports_cell('import seaborn as sns\\nimport matplotlib.pyplot as plt\\nimport numpy as np\\nimport pandas as pd'); }\n",
              "    "
            ],
            "text/plain": [
              "<IPython.core.display.Javascript object>"
            ]
          },
          "metadata": {
            "tags": []
          }
        },
        {
          "output_type": "display_data",
          "data": {
            "application/javascript": [
              "\n",
              "        if (window._pyforest_update_imports_cell) { window._pyforest_update_imports_cell('import seaborn as sns\\nimport matplotlib.pyplot as plt\\nimport numpy as np\\nimport pandas as pd'); }\n",
              "    "
            ],
            "text/plain": [
              "<IPython.core.display.Javascript object>"
            ]
          },
          "metadata": {
            "tags": []
          }
        },
        {
          "output_type": "display_data",
          "data": {
            "application/javascript": [
              "\n",
              "        if (window._pyforest_update_imports_cell) { window._pyforest_update_imports_cell('import seaborn as sns\\nimport matplotlib.pyplot as plt\\nimport numpy as np\\nimport pandas as pd'); }\n",
              "    "
            ],
            "text/plain": [
              "<IPython.core.display.Javascript object>"
            ]
          },
          "metadata": {
            "tags": []
          }
        },
        {
          "output_type": "display_data",
          "data": {
            "application/javascript": [
              "\n",
              "        if (window._pyforest_update_imports_cell) { window._pyforest_update_imports_cell('import seaborn as sns\\nimport matplotlib.pyplot as plt\\nimport numpy as np\\nimport pandas as pd'); }\n",
              "    "
            ],
            "text/plain": [
              "<IPython.core.display.Javascript object>"
            ]
          },
          "metadata": {
            "tags": []
          }
        },
        {
          "output_type": "display_data",
          "data": {
            "application/javascript": [
              "\n",
              "        if (window._pyforest_update_imports_cell) { window._pyforest_update_imports_cell('import seaborn as sns\\nimport matplotlib.pyplot as plt\\nimport numpy as np\\nimport pandas as pd'); }\n",
              "    "
            ],
            "text/plain": [
              "<IPython.core.display.Javascript object>"
            ]
          },
          "metadata": {
            "tags": []
          }
        },
        {
          "output_type": "display_data",
          "data": {
            "application/javascript": [
              "\n",
              "        if (window._pyforest_update_imports_cell) { window._pyforest_update_imports_cell('import seaborn as sns\\nimport matplotlib.pyplot as plt\\nimport numpy as np\\nimport pandas as pd'); }\n",
              "    "
            ],
            "text/plain": [
              "<IPython.core.display.Javascript object>"
            ]
          },
          "metadata": {
            "tags": []
          }
        },
        {
          "output_type": "display_data",
          "data": {
            "application/javascript": [
              "\n",
              "        if (window._pyforest_update_imports_cell) { window._pyforest_update_imports_cell('import seaborn as sns\\nimport matplotlib.pyplot as plt\\nimport numpy as np\\nimport pandas as pd'); }\n",
              "    "
            ],
            "text/plain": [
              "<IPython.core.display.Javascript object>"
            ]
          },
          "metadata": {
            "tags": []
          }
        },
        {
          "output_type": "display_data",
          "data": {
            "application/javascript": [
              "\n",
              "        if (window._pyforest_update_imports_cell) { window._pyforest_update_imports_cell('import seaborn as sns\\nimport matplotlib.pyplot as plt\\nimport numpy as np\\nimport pandas as pd'); }\n",
              "    "
            ],
            "text/plain": [
              "<IPython.core.display.Javascript object>"
            ]
          },
          "metadata": {
            "tags": []
          }
        },
        {
          "output_type": "display_data",
          "data": {
            "application/javascript": [
              "\n",
              "        if (window._pyforest_update_imports_cell) { window._pyforest_update_imports_cell('import seaborn as sns\\nimport matplotlib.pyplot as plt\\nimport numpy as np\\nimport pandas as pd'); }\n",
              "    "
            ],
            "text/plain": [
              "<IPython.core.display.Javascript object>"
            ]
          },
          "metadata": {
            "tags": []
          }
        },
        {
          "output_type": "display_data",
          "data": {
            "application/javascript": [
              "\n",
              "        if (window._pyforest_update_imports_cell) { window._pyforest_update_imports_cell('import seaborn as sns\\nimport matplotlib.pyplot as plt\\nimport numpy as np\\nimport pandas as pd'); }\n",
              "    "
            ],
            "text/plain": [
              "<IPython.core.display.Javascript object>"
            ]
          },
          "metadata": {
            "tags": []
          }
        },
        {
          "output_type": "display_data",
          "data": {
            "application/javascript": [
              "\n",
              "        if (window._pyforest_update_imports_cell) { window._pyforest_update_imports_cell('import seaborn as sns\\nimport matplotlib.pyplot as plt\\nimport numpy as np\\nimport pandas as pd'); }\n",
              "    "
            ],
            "text/plain": [
              "<IPython.core.display.Javascript object>"
            ]
          },
          "metadata": {
            "tags": []
          }
        },
        {
          "output_type": "display_data",
          "data": {
            "application/javascript": [
              "\n",
              "        if (window._pyforest_update_imports_cell) { window._pyforest_update_imports_cell('import seaborn as sns\\nimport matplotlib.pyplot as plt\\nimport numpy as np\\nimport pandas as pd'); }\n",
              "    "
            ],
            "text/plain": [
              "<IPython.core.display.Javascript object>"
            ]
          },
          "metadata": {
            "tags": []
          }
        },
        {
          "output_type": "display_data",
          "data": {
            "application/javascript": [
              "\n",
              "        if (window._pyforest_update_imports_cell) { window._pyforest_update_imports_cell('import seaborn as sns\\nimport matplotlib.pyplot as plt\\nimport numpy as np\\nimport pandas as pd'); }\n",
              "    "
            ],
            "text/plain": [
              "<IPython.core.display.Javascript object>"
            ]
          },
          "metadata": {
            "tags": []
          }
        },
        {
          "output_type": "display_data",
          "data": {
            "application/javascript": [
              "\n",
              "        if (window._pyforest_update_imports_cell) { window._pyforest_update_imports_cell('import seaborn as sns\\nimport matplotlib.pyplot as plt\\nimport numpy as np\\nimport pandas as pd'); }\n",
              "    "
            ],
            "text/plain": [
              "<IPython.core.display.Javascript object>"
            ]
          },
          "metadata": {
            "tags": []
          }
        },
        {
          "output_type": "display_data",
          "data": {
            "application/javascript": [
              "\n",
              "        if (window._pyforest_update_imports_cell) { window._pyforest_update_imports_cell('import seaborn as sns\\nimport matplotlib.pyplot as plt\\nimport numpy as np\\nimport pandas as pd'); }\n",
              "    "
            ],
            "text/plain": [
              "<IPython.core.display.Javascript object>"
            ]
          },
          "metadata": {
            "tags": []
          }
        },
        {
          "output_type": "display_data",
          "data": {
            "application/javascript": [
              "\n",
              "        if (window._pyforest_update_imports_cell) { window._pyforest_update_imports_cell('import seaborn as sns\\nimport matplotlib.pyplot as plt\\nimport numpy as np\\nimport pandas as pd'); }\n",
              "    "
            ],
            "text/plain": [
              "<IPython.core.display.Javascript object>"
            ]
          },
          "metadata": {
            "tags": []
          }
        },
        {
          "output_type": "display_data",
          "data": {
            "application/javascript": [
              "\n",
              "        if (window._pyforest_update_imports_cell) { window._pyforest_update_imports_cell('import seaborn as sns\\nimport matplotlib.pyplot as plt\\nimport numpy as np\\nimport pandas as pd'); }\n",
              "    "
            ],
            "text/plain": [
              "<IPython.core.display.Javascript object>"
            ]
          },
          "metadata": {
            "tags": []
          }
        },
        {
          "output_type": "display_data",
          "data": {
            "application/javascript": [
              "\n",
              "        if (window._pyforest_update_imports_cell) { window._pyforest_update_imports_cell('import seaborn as sns\\nimport matplotlib.pyplot as plt\\nimport numpy as np\\nimport pandas as pd'); }\n",
              "    "
            ],
            "text/plain": [
              "<IPython.core.display.Javascript object>"
            ]
          },
          "metadata": {
            "tags": []
          }
        },
        {
          "output_type": "display_data",
          "data": {
            "application/javascript": [
              "\n",
              "        if (window._pyforest_update_imports_cell) { window._pyforest_update_imports_cell('import seaborn as sns\\nimport matplotlib.pyplot as plt\\nimport numpy as np\\nimport pandas as pd'); }\n",
              "    "
            ],
            "text/plain": [
              "<IPython.core.display.Javascript object>"
            ]
          },
          "metadata": {
            "tags": []
          }
        },
        {
          "output_type": "display_data",
          "data": {
            "application/javascript": [
              "\n",
              "        if (window._pyforest_update_imports_cell) { window._pyforest_update_imports_cell('import seaborn as sns\\nimport matplotlib.pyplot as plt\\nimport numpy as np\\nimport pandas as pd'); }\n",
              "    "
            ],
            "text/plain": [
              "<IPython.core.display.Javascript object>"
            ]
          },
          "metadata": {
            "tags": []
          }
        },
        {
          "output_type": "display_data",
          "data": {
            "application/javascript": [
              "\n",
              "        if (window._pyforest_update_imports_cell) { window._pyforest_update_imports_cell('import seaborn as sns\\nimport matplotlib.pyplot as plt\\nimport numpy as np\\nimport pandas as pd'); }\n",
              "    "
            ],
            "text/plain": [
              "<IPython.core.display.Javascript object>"
            ]
          },
          "metadata": {
            "tags": []
          }
        },
        {
          "output_type": "display_data",
          "data": {
            "application/javascript": [
              "\n",
              "        if (window._pyforest_update_imports_cell) { window._pyforest_update_imports_cell('import seaborn as sns\\nimport matplotlib.pyplot as plt\\nimport numpy as np\\nimport pandas as pd'); }\n",
              "    "
            ],
            "text/plain": [
              "<IPython.core.display.Javascript object>"
            ]
          },
          "metadata": {
            "tags": []
          }
        },
        {
          "output_type": "display_data",
          "data": {
            "application/javascript": [
              "\n",
              "        if (window._pyforest_update_imports_cell) { window._pyforest_update_imports_cell('import seaborn as sns\\nimport matplotlib.pyplot as plt\\nimport numpy as np\\nimport pandas as pd'); }\n",
              "    "
            ],
            "text/plain": [
              "<IPython.core.display.Javascript object>"
            ]
          },
          "metadata": {
            "tags": []
          }
        },
        {
          "output_type": "display_data",
          "data": {
            "application/javascript": [
              "\n",
              "        if (window._pyforest_update_imports_cell) { window._pyforest_update_imports_cell('import seaborn as sns\\nimport matplotlib.pyplot as plt\\nimport numpy as np\\nimport pandas as pd'); }\n",
              "    "
            ],
            "text/plain": [
              "<IPython.core.display.Javascript object>"
            ]
          },
          "metadata": {
            "tags": []
          }
        },
        {
          "output_type": "display_data",
          "data": {
            "application/javascript": [
              "\n",
              "        if (window._pyforest_update_imports_cell) { window._pyforest_update_imports_cell('import seaborn as sns\\nimport matplotlib.pyplot as plt\\nimport numpy as np\\nimport pandas as pd'); }\n",
              "    "
            ],
            "text/plain": [
              "<IPython.core.display.Javascript object>"
            ]
          },
          "metadata": {
            "tags": []
          }
        },
        {
          "output_type": "display_data",
          "data": {
            "application/javascript": [
              "\n",
              "        if (window._pyforest_update_imports_cell) { window._pyforest_update_imports_cell('import seaborn as sns\\nimport matplotlib.pyplot as plt\\nimport numpy as np\\nimport pandas as pd'); }\n",
              "    "
            ],
            "text/plain": [
              "<IPython.core.display.Javascript object>"
            ]
          },
          "metadata": {
            "tags": []
          }
        },
        {
          "output_type": "display_data",
          "data": {
            "application/javascript": [
              "\n",
              "        if (window._pyforest_update_imports_cell) { window._pyforest_update_imports_cell('import seaborn as sns\\nimport matplotlib.pyplot as plt\\nimport numpy as np\\nimport pandas as pd'); }\n",
              "    "
            ],
            "text/plain": [
              "<IPython.core.display.Javascript object>"
            ]
          },
          "metadata": {
            "tags": []
          }
        },
        {
          "output_type": "display_data",
          "data": {
            "application/javascript": [
              "\n",
              "        if (window._pyforest_update_imports_cell) { window._pyforest_update_imports_cell('import seaborn as sns\\nimport matplotlib.pyplot as plt\\nimport numpy as np\\nimport pandas as pd'); }\n",
              "    "
            ],
            "text/plain": [
              "<IPython.core.display.Javascript object>"
            ]
          },
          "metadata": {
            "tags": []
          }
        },
        {
          "output_type": "display_data",
          "data": {
            "application/javascript": [
              "\n",
              "        if (window._pyforest_update_imports_cell) { window._pyforest_update_imports_cell('import seaborn as sns\\nimport matplotlib.pyplot as plt\\nimport numpy as np\\nimport pandas as pd'); }\n",
              "    "
            ],
            "text/plain": [
              "<IPython.core.display.Javascript object>"
            ]
          },
          "metadata": {
            "tags": []
          }
        }
      ]
    },
    {
      "cell_type": "markdown",
      "metadata": {
        "id": "HFTSxv8A1Sz6"
      },
      "source": [
        "Vamos verificar se houve a substituição:\n"
      ]
    },
    {
      "cell_type": "code",
      "metadata": {
        "colab": {
          "base_uri": "https://localhost:8080/",
          "height": 264
        },
        "id": "Fpgxoc5_1am-",
        "outputId": "2921f48f-36b4-4fcd-f48f-6fdb5ec3043c"
      },
      "source": [
        "# Plotar os Boxplotes para as variáveis score_3, score_6 e credit_limit\n",
        "fig, ax = plt.subplots(nrows=1, ncols=3, figsize=(12,4))\n",
        "\n",
        "# Boxplot com outliers\n",
        "print('Antes:')\n",
        "sns.boxplot(df_testes['score_3'], ax=ax[0])\n",
        "sns.boxplot(df_testes['score_6'], ax=ax[1])\n",
        "sns.boxplot(df_testes['credit_limit'], ax=ax[2])\n",
        "\n",
        "plt.tight_layout();"
      ],
      "execution_count": null,
      "outputs": [
        {
          "output_type": "display_data",
          "data": {
            "application/javascript": [
              "\n",
              "        if (window._pyforest_update_imports_cell) { window._pyforest_update_imports_cell('import seaborn as sns\\nimport matplotlib.pyplot as plt\\nimport numpy as np\\nimport pandas as pd'); }\n",
              "    "
            ],
            "text/plain": [
              "<IPython.core.display.Javascript object>"
            ]
          },
          "metadata": {
            "tags": []
          }
        },
        {
          "output_type": "stream",
          "text": [
            "Antes:\n"
          ],
          "name": "stdout"
        },
        {
          "output_type": "display_data",
          "data": {
            "application/javascript": [
              "\n",
              "        if (window._pyforest_update_imports_cell) { window._pyforest_update_imports_cell('import seaborn as sns\\nimport matplotlib.pyplot as plt\\nimport numpy as np\\nimport pandas as pd'); }\n",
              "    "
            ],
            "text/plain": [
              "<IPython.core.display.Javascript object>"
            ]
          },
          "metadata": {
            "tags": []
          }
        },
        {
          "output_type": "display_data",
          "data": {
            "application/javascript": [
              "\n",
              "        if (window._pyforest_update_imports_cell) { window._pyforest_update_imports_cell('import seaborn as sns\\nimport matplotlib.pyplot as plt\\nimport numpy as np\\nimport pandas as pd'); }\n",
              "    "
            ],
            "text/plain": [
              "<IPython.core.display.Javascript object>"
            ]
          },
          "metadata": {
            "tags": []
          }
        },
        {
          "output_type": "display_data",
          "data": {
            "application/javascript": [
              "\n",
              "        if (window._pyforest_update_imports_cell) { window._pyforest_update_imports_cell('import seaborn as sns\\nimport matplotlib.pyplot as plt\\nimport numpy as np\\nimport pandas as pd'); }\n",
              "    "
            ],
            "text/plain": [
              "<IPython.core.display.Javascript object>"
            ]
          },
          "metadata": {
            "tags": []
          }
        },
        {
          "output_type": "display_data",
          "data": {
            "application/javascript": [
              "\n",
              "        if (window._pyforest_update_imports_cell) { window._pyforest_update_imports_cell('import seaborn as sns\\nimport matplotlib.pyplot as plt\\nimport numpy as np\\nimport pandas as pd'); }\n",
              "    "
            ],
            "text/plain": [
              "<IPython.core.display.Javascript object>"
            ]
          },
          "metadata": {
            "tags": []
          }
        },
        {
          "output_type": "display_data",
          "data": {
            "image/png": "[encoded data removed]",
            "text/plain": [
              "<Figure size 864x288 with 3 Axes>"
            ]
          },
          "metadata": {
            "tags": [],
            "needs_background": "light"
          }
        }
      ]
    },
    {
      "cell_type": "code",
      "metadata": {
        "colab": {
          "base_uri": "https://localhost:8080/",
          "height": 264
        },
        "id": "PNVsr_WvNImo",
        "outputId": "ea646670-67cf-45e8-bd1e-9668f77ca37b"
      },
      "source": [
        "# Plotar os Boxplotes para as variáveis score_3, score_6 e credit_limit\n",
        "fig, ax = plt.subplots(nrows=1, ncols=3, figsize=(12,4))\n",
        "\n",
        "# Boxplot com as substituições \n",
        "print('Depois das substituições:')\n",
        "sns.boxplot(df_imp['score_3'], ax=ax[0])\n",
        "sns.boxplot(df_imp['score_6'], ax=ax[1])\n",
        "sns.boxplot(df_imp['credit_limit'], ax=ax[2])\n",
        "\n",
        "plt.tight_layout();\n",
        "# fig.savefig('boxplots_imp')"
      ],
      "execution_count": null,
      "outputs": [
        {
          "output_type": "display_data",
          "data": {
            "application/javascript": [
              "\n",
              "        if (window._pyforest_update_imports_cell) { window._pyforest_update_imports_cell('import seaborn as sns\\nimport matplotlib.pyplot as plt\\nimport numpy as np\\nimport pandas as pd'); }\n",
              "    "
            ],
            "text/plain": [
              "<IPython.core.display.Javascript object>"
            ]
          },
          "metadata": {
            "tags": []
          }
        },
        {
          "output_type": "stream",
          "text": [
            "Depois das substituições:\n"
          ],
          "name": "stdout"
        },
        {
          "output_type": "display_data",
          "data": {
            "application/javascript": [
              "\n",
              "        if (window._pyforest_update_imports_cell) { window._pyforest_update_imports_cell('import seaborn as sns\\nimport matplotlib.pyplot as plt\\nimport numpy as np\\nimport pandas as pd'); }\n",
              "    "
            ],
            "text/plain": [
              "<IPython.core.display.Javascript object>"
            ]
          },
          "metadata": {
            "tags": []
          }
        },
        {
          "output_type": "display_data",
          "data": {
            "application/javascript": [
              "\n",
              "        if (window._pyforest_update_imports_cell) { window._pyforest_update_imports_cell('import seaborn as sns\\nimport matplotlib.pyplot as plt\\nimport numpy as np\\nimport pandas as pd'); }\n",
              "    "
            ],
            "text/plain": [
              "<IPython.core.display.Javascript object>"
            ]
          },
          "metadata": {
            "tags": []
          }
        },
        {
          "output_type": "display_data",
          "data": {
            "application/javascript": [
              "\n",
              "        if (window._pyforest_update_imports_cell) { window._pyforest_update_imports_cell('import seaborn as sns\\nimport matplotlib.pyplot as plt\\nimport numpy as np\\nimport pandas as pd'); }\n",
              "    "
            ],
            "text/plain": [
              "<IPython.core.display.Javascript object>"
            ]
          },
          "metadata": {
            "tags": []
          }
        },
        {
          "output_type": "display_data",
          "data": {
            "application/javascript": [
              "\n",
              "        if (window._pyforest_update_imports_cell) { window._pyforest_update_imports_cell('import seaborn as sns\\nimport matplotlib.pyplot as plt\\nimport numpy as np\\nimport pandas as pd'); }\n",
              "    "
            ],
            "text/plain": [
              "<IPython.core.display.Javascript object>"
            ]
          },
          "metadata": {
            "tags": []
          }
        },
        {
          "output_type": "display_data",
          "data": {
            "image/png": "[encoded data removed]",
            "text/plain": [
              "<Figure size 864x288 with 3 Axes>"
            ]
          },
          "metadata": {
            "tags": [],
            "needs_background": "light"
          }
        }
      ]
    },
    {
      "cell_type": "markdown",
      "metadata": {
        "id": "-9t_3JcR4JHM"
      },
      "source": [
        "Os valores foram convertidos com sucesso, mas ainda é necessário mais uma análise, dessa vez, vamos checar se houve perdas de informação:"
      ]
    },
    {
      "cell_type": "code",
      "metadata": {
        "colab": {
          "base_uri": "https://localhost:8080/"
        },
        "id": "ke5mFLpW4T_0",
        "outputId": "d29d689c-e51e-4f8d-b1e1-c3ad59837a04"
      },
      "source": [
        "print('Quantidade de entradas antes das substituições: {}'.format(df_testes.shape[0]))\n",
        "print('Quantidade de entradas depois das substituições: {}'.format(df_imp.shape[0]))"
      ],
      "execution_count": null,
      "outputs": [
        {
          "output_type": "stream",
          "text": [
            "Quantidade de entradas antes das substituições: 41741\n",
            "Quantidade de entradas depois das substituições: 41741\n"
          ],
          "name": "stdout"
        }
      ]
    },
    {
      "cell_type": "markdown",
      "metadata": {
        "id": "uJoH1aCH4_5q"
      },
      "source": [
        "Agora que fizemos o tratamento das outliers para este teste e confirmamos que não houveram perdas de informação, vamos avançar para o próximo passo, que é executar as transformações das variáveis categóricas: "
      ]
    },
    {
      "cell_type": "markdown",
      "metadata": {
        "id": "JjW18YSh8vM0"
      },
      "source": [
        "#### Testes utilizando LabelEncoder"
      ]
    },
    {
      "cell_type": "code",
      "metadata": {
        "id": "Gdo0_gKr8-Fn",
        "colab": {
          "base_uri": "https://localhost:8080/"
        },
        "outputId": "c53dad75-91db-40ea-d39d-4ec1fabe4236"
      },
      "source": [
        "\"\"\" (retirar caso queira reproduzir o código)\n",
        "\n",
        "# Criando um dataframe para este teste\n",
        "df_le_imp = df_imp.copy() #copiando o DataFrame com os dados imputados\n",
        "\n",
        "# Obtendo as variáveis categóricas\n",
        "cat_cols_imp_le = df_le_imp.select_dtypes('object').columns\n",
        "\n",
        "# Executar o LabelEncoder para cada variável categórica\n",
        "for col in cat_cols_imp_le:\n",
        "  df_le_imp[col+'_encoded'] = le.fit_transform(df_le_imp[col])\n",
        "  df_le_imp.drop(col, axis=1, inplace=True)\n",
        "\n",
        "\"\"\""
      ],
      "execution_count": null,
      "outputs": [
        {
          "output_type": "execute_result",
          "data": {
            "application/vnd.google.colaboratory.intrinsic+json": {
              "type": "string"
            },
            "text/plain": [
              "\" (retirar caso queira reproduzir o código)\\n\\n# Criando um dataframe para este teste\\ndf_le_imp = df_imp.copy() #copiando o DataFrame com os dados imputados\\n\\n# Obtendo as variáveis categóricas\\ncat_cols_imp_le = df_le_imp.select_dtypes('object').columns\\n\\n# Executar o LabelEncoder para cada variável categórica\\nfor col in cat_cols_imp_le:\\n  df_le_imp[col+'_encoded'] = le.fit_transform(df_le_imp[col])\\n  df_le_imp.drop(col, axis=1, inplace=True)\\n\\n\""
            ]
          },
          "metadata": {
            "tags": []
          },
          "execution_count": 34
        }
      ]
    },
    {
      "cell_type": "markdown",
      "metadata": {
        "id": "HrR1jR_KH0JP"
      },
      "source": [
        "Conferindo se houve a codificação:"
      ]
    },
    {
      "cell_type": "code",
      "metadata": {
        "colab": {
          "base_uri": "https://localhost:8080/"
        },
        "id": "eEr7r8PrH5Ex",
        "outputId": "ca04e901-5446-4f7d-8cd2-3c35d15e5c18"
      },
      "source": [
        "\"\"\" (retirar caso queira reproduzir o código)\n",
        "\n",
        "# Checando as primeiras entradas do DataFrame\n",
        "df_le_imp.head()\n",
        "\n",
        "\"\"\""
      ],
      "execution_count": null,
      "outputs": [
        {
          "output_type": "execute_result",
          "data": {
            "application/vnd.google.colaboratory.intrinsic+json": {
              "type": "string"
            },
            "text/plain": [
              "' (retirar caso queira reproduzir o código)\\n\\n# Checando as primeiras entradas do DataFrame\\ndf_le_imp.head()\\n\\n'"
            ]
          },
          "metadata": {
            "tags": []
          },
          "execution_count": 35
        }
      ]
    },
    {
      "cell_type": "markdown",
      "metadata": {
        "id": "i6TSndAJIRlx"
      },
      "source": [
        "Houve sim a codificação, onde foram criadas novas colunas com sufixo '_encoded', que possuem os valores de texto(tipo objeto) convertidos em números inteiros.\n",
        "\n",
        "Agora que temos o dataset sem outliers e codificado com o LabelEncoder, vamos separar os dados entre treino e teste, e em seguida, realizar o balanceamento dos dados para a alimentação dos modelos escolhidos:"
      ]
    },
    {
      "cell_type": "code",
      "metadata": {
        "colab": {
          "base_uri": "https://localhost:8080/"
        },
        "id": "pubG5rjDJBVW",
        "outputId": "ad535bff-0b6a-4096-9042-7bfce8d08c3f"
      },
      "source": [
        "\"\"\" (retirar caso queira reproduzir o código)\n",
        "\n",
        "# Separando os dados entre treino e teste\n",
        "X = df_le_imp.drop('target_default', axis=1)\n",
        "y = df_le_imp['target_default'] #variável alvo\n",
        "\n",
        "X_train, X_test, y_train, y_test = train_test_split(X, y, test_size=0.20)\n",
        "\n",
        "# Executando o balanceamento com SMOTE Tomek\n",
        "smt = SMOTETomek(random_state=25)\n",
        "X_smt, y_smt = smt.fit_sample(X_train, y_train)\n",
        "\n",
        "\"\"\""
      ],
      "execution_count": null,
      "outputs": [
        {
          "output_type": "execute_result",
          "data": {
            "application/vnd.google.colaboratory.intrinsic+json": {
              "type": "string"
            },
            "text/plain": [
              "\" (retirar caso queira reproduzir o código)\\n\\n# Separando os dados entre treino e teste\\nX = df_le_imp.drop('target_default', axis=1)\\ny = df_le_imp['target_default'] #variável alvo\\n\\nX_train, X_test, y_train, y_test = train_test_split(X, y, test_size=0.20)\\n\\n# Executando o balanceamento com SMOTE Tomek\\nsmt = SMOTETomek(random_state=25)\\nX_smt, y_smt = smt.fit_sample(X_train, y_train)\\n\\n\""
            ]
          },
          "metadata": {
            "tags": []
          },
          "execution_count": 36
        }
      ]
    },
    {
      "cell_type": "markdown",
      "metadata": {
        "id": "zJruZpgsj8Vi"
      },
      "source": [
        "Checando o balanceamento:"
      ]
    },
    {
      "cell_type": "code",
      "metadata": {
        "colab": {
          "base_uri": "https://localhost:8080/"
        },
        "id": "ipaVhPTHj_l-",
        "outputId": "5e96b817-05f7-4215-81d5-2380822ce1b0"
      },
      "source": [
        "\"\"\"\n",
        "# Plotando o countplot para a variável target_default\n",
        "fig, ax = plt.subplots(nrows=1, ncols=2, figsize=(12,4))\n",
        "\n",
        "sns.countplot('target_default', data=df_feature, ax=ax[0]).set_title('Desbalanceado')\n",
        "ax[0].set_xlabel(\"Valor\")\n",
        "ax[0].set_ylabel(\"Contagem\")\n",
        "\n",
        "sns.countplot(y_smt, ax=ax[1]).set_title('Balanceado')\n",
        "ax[1].set_xlabel(\"Valor\")\n",
        "ax[1].set_ylabel(\"Contagem\")\n",
        "\n",
        "plt.tight_layout();\n",
        "fig.savefig('target_countplot_balanceamento')\n",
        "\n",
        "\"\"\""
      ],
      "execution_count": null,
      "outputs": [
        {
          "output_type": "execute_result",
          "data": {
            "application/vnd.google.colaboratory.intrinsic+json": {
              "type": "string"
            },
            "text/plain": [
              "'\\n# Plotando o countplot para a variável target_default\\nfig, ax = plt.subplots(nrows=1, ncols=2, figsize=(12,4))\\n\\nsns.countplot(\\'target_default\\', data=df_feature, ax=ax[0]).set_title(\\'Desbalanceado\\')\\nax[0].set_xlabel(\"Valor\")\\nax[0].set_ylabel(\"Contagem\")\\n\\nsns.countplot(y_smt, ax=ax[1]).set_title(\\'Balanceado\\')\\nax[1].set_xlabel(\"Valor\")\\nax[1].set_ylabel(\"Contagem\")\\n\\nplt.tight_layout();\\nfig.savefig(\\'target_countplot_balanceamento\\')\\n\\n'"
            ]
          },
          "metadata": {
            "tags": []
          },
          "execution_count": 37
        }
      ]
    },
    {
      "cell_type": "markdown",
      "metadata": {
        "id": "jrcUPxw4nRtO"
      },
      "source": [
        "Vemos que o balanceamento funcionou, onde foi realmente criado valores sintéticos para a variável alvo."
      ]
    },
    {
      "cell_type": "markdown",
      "metadata": {
        "id": "48VFtC_FJuqI"
      },
      "source": [
        "Agora podemos testar os modelos escolhidos: Árvores de Decisão (Decision Tree) e Árvores Aleatórias (Random Forest).\n",
        "\n",
        "Vamos instanciar os modelos e iniciar os testes de validação:"
      ]
    },
    {
      "cell_type": "code",
      "metadata": {
        "colab": {
          "base_uri": "https://localhost:8080/"
        },
        "id": "n0jP83esKBV3",
        "outputId": "394b2080-b158-4c9a-bf4a-cf29c40e4482"
      },
      "source": [
        "\"\"\" (retirar caso queira reproduzir o código)\n",
        "\n",
        "# Instanciar os modelos\n",
        "model_tree = DecisionTreeClassifier() #árvore de decisão\n",
        "model_rf = RandomForestClassifier() #árvore de decisão\n",
        "\n",
        "# Realizar a validação cruzada e obter o desempenho dos modelos - Padronizado\n",
        "df_model_imp_le_pd = [] #criando uma lista para guardar o nome dos modelos\n",
        "acc_model_imp_le_pd = [] #criando uma lista para guardar os resultados de desempenho\n",
        "\n",
        "for clf in (model_tree, model_rf):\n",
        "  df_model_imp_le_pd.append(clf.__class__.__name__)\n",
        "  acc_model_imp_le_pd.append(val_model_padronizado(X_smt, y_smt, clf))\n",
        "\n",
        "# Criar um DataFrame para as listas geradas - Padronizado\n",
        "df_val_imp_le_pd = pd.DataFrame(data=acc_model_imp_le_pd, index=df_model_imp_le_pd, columns=['Acurácia_Padronizado'])\n",
        "\n",
        "\n",
        "\n",
        "# Realizar a validação cruzada e obter o desempenho dos modelos - Normalizado\n",
        "df_model_imp_le_nm = [] #criando um DataFrame para guardar o nome dos modelos\n",
        "acc_model_imp_le_nm = [] #criando um DataFrame para guardar os resultados de desempenho\n",
        "\n",
        "for clf in (model_tree, model_rf):\n",
        "  df_model_imp_le_nm.append(clf.__class__.__name__)\n",
        "  acc_model_imp_le_nm.append(val_model_normalizado(X_smt, y_smt, clf))\n",
        "\n",
        "# Criar um DataFrame para as listas geradas - Normalizado\n",
        "df_val_imp_le_nm = pd.DataFrame(data=acc_model_imp_le_nm, index=df_model_imp_le_nm, columns=['Acurácia_Normalizado'])\n",
        "\n",
        "\"\"\""
      ],
      "execution_count": null,
      "outputs": [
        {
          "output_type": "execute_result",
          "data": {
            "application/vnd.google.colaboratory.intrinsic+json": {
              "type": "string"
            },
            "text/plain": [
              "\" (retirar caso queira reproduzir o código)\\n\\n# Instanciar os modelos\\nmodel_tree = DecisionTreeClassifier() #árvore de decisão\\nmodel_rf = RandomForestClassifier() #árvore de decisão\\n\\n# Realizar a validação cruzada e obter o desempenho dos modelos - Padronizado\\ndf_model_imp_le_pd = [] #criando uma lista para guardar o nome dos modelos\\nacc_model_imp_le_pd = [] #criando uma lista para guardar os resultados de desempenho\\n\\nfor clf in (model_tree, model_rf):\\n  df_model_imp_le_pd.append(clf.__class__.__name__)\\n  acc_model_imp_le_pd.append(val_model_padronizado(X_smt, y_smt, clf))\\n\\n# Criar um DataFrame para as listas geradas - Padronizado\\ndf_val_imp_le_pd = pd.DataFrame(data=acc_model_imp_le_pd, index=df_model_imp_le_pd, columns=['Acurácia_Padronizado'])\\n\\n\\n\\n# Realizar a validação cruzada e obter o desempenho dos modelos - Normalizado\\ndf_model_imp_le_nm = [] #criando um DataFrame para guardar o nome dos modelos\\nacc_model_imp_le_nm = [] #criando um DataFrame para guardar os resultados de desempenho\\n\\nfor clf in (model_tree, model_rf):\\n  df_model_imp_le_nm.append(clf.__class__.__name__)\\n  acc_model_imp_le_nm.append(val_model_normalizado(X_smt, y_smt, clf))\\n\\n# Criar um DataFrame para as listas geradas - Normalizado\\ndf_val_imp_le_nm = pd.DataFrame(data=acc_model_imp_le_nm, index=df_model_imp_le_nm, columns=['Acurácia_Normalizado'])\\n\\n\""
            ]
          },
          "metadata": {
            "tags": []
          },
          "execution_count": 38
        }
      ]
    },
    {
      "cell_type": "markdown",
      "metadata": {
        "id": "xha31wogTGFx"
      },
      "source": [
        "Agora que os modelos foram treinados, vamos olhar os resultados pelos DataFrames criados:"
      ]
    },
    {
      "cell_type": "code",
      "metadata": {
        "colab": {
          "base_uri": "https://localhost:8080/"
        },
        "id": "mV5ETTaxTObR",
        "outputId": "a5239d52-d691-400e-a476-4ccb70f0d1f3"
      },
      "source": [
        "\"\"\" (retirar caso queira reproduzir o código)\n",
        "\n",
        "# Unindo os DataFrames criados\n",
        "df_val_imp_le = df_val_imp_le_pd.join(df_val_imp_le_nm['Acurácia_Normalizado'])\n",
        "\n",
        "# Checando o DataFrame com a validação\n",
        "df_val_imp_le\n",
        "\n",
        "\"\"\""
      ],
      "execution_count": null,
      "outputs": [
        {
          "output_type": "execute_result",
          "data": {
            "application/vnd.google.colaboratory.intrinsic+json": {
              "type": "string"
            },
            "text/plain": [
              "\" (retirar caso queira reproduzir o código)\\n\\n# Unindo os DataFrames criados\\ndf_val_imp_le = df_val_imp_le_pd.join(df_val_imp_le_nm['Acurácia_Normalizado'])\\n\\n# Checando o DataFrame com a validação\\ndf_val_imp_le\\n\\n\""
            ]
          },
          "metadata": {
            "tags": []
          },
          "execution_count": 39
        }
      ]
    },
    {
      "cell_type": "markdown",
      "metadata": {
        "id": "pXE1V45d6GB7"
      },
      "source": [
        "Temos que o melhor modelo foi o de Árvores Aleatórias (Random Forest) regularizado com a Padronização, porém vale ressaltar que a diferença entre os métodos de regularização (Padronização e Normalização), foi bastante pequena, sendo o resultado: Acurácia de 89.82%.\n",
        "\n",
        "O melhor modelo de Árvore de Decisão possui 82.07% de acurácia, com o método de regularização de Padronização.\n",
        "\n",
        "Tempo de validação: 2 minutos."
      ]
    },
    {
      "cell_type": "markdown",
      "metadata": {
        "id": "YCgj06EL8-fj"
      },
      "source": [
        "#### Testes com outros tipos de Encoders\n",
        "\n",
        "Neste teste faremos a comparação dos modelos XGBoost e SVM (mais especificamente o SVC) com diferentes tipos de Enconders: Binary, Base-N e Hash.\n",
        "\n",
        "Vamos instanciar os modelos que serão utilizados:"
      ]
    },
    {
      "cell_type": "code",
      "metadata": {
        "id": "neETbhDu9Rcu",
        "colab": {
          "base_uri": "https://localhost:8080/",
          "height": 35
        },
        "outputId": "567765e6-3b57-4bf8-d203-9ccf2454c456"
      },
      "source": [
        "\"\"\" (retirar caso queira reproduzir o código)\n",
        "\n",
        "# Instanciando os modelos\n",
        "model_svc = SVC()\n",
        "model_xgb = XGBClassifier()\n",
        "\n",
        "\"\"\""
      ],
      "execution_count": null,
      "outputs": [
        {
          "output_type": "execute_result",
          "data": {
            "application/vnd.google.colaboratory.intrinsic+json": {
              "type": "string"
            },
            "text/plain": [
              "' (retirar caso queira reproduzir o código)\\n\\n# Instanciando os modelos\\nmodel_svc = SVC()\\nmodel_xgb = XGBClassifier()\\n\\n'"
            ]
          },
          "metadata": {
            "tags": []
          },
          "execution_count": 40
        }
      ]
    },
    {
      "cell_type": "markdown",
      "metadata": {
        "id": "3Oq3w0X-1iVD"
      },
      "source": [
        "Agora que os modelos foram instanciados, vamos realizar os testes com diferentes Encoders:"
      ]
    },
    {
      "cell_type": "markdown",
      "metadata": {
        "id": "4jh7Pd5k1qCo"
      },
      "source": [
        "##### Binary Encoder\n",
        "\n",
        "Será convertido as variáveis categóricas de texto para números inteiros, então convertidos para números binários."
      ]
    },
    {
      "cell_type": "code",
      "metadata": {
        "id": "3SAVYkiL1yp3",
        "colab": {
          "base_uri": "https://localhost:8080/"
        },
        "outputId": "df4efcdf-e4a5-4d4f-fad7-d03c703d0f55"
      },
      "source": [
        "\"\"\"\n",
        "# Criando um novo DataFrame para este teste\n",
        "df_encoder_imp_bi = df_imp.copy()\n",
        "\n",
        "# Obtendo o DataFrame das variáveis numéricas\n",
        "df_encoder_imp_bi_num = df_encoder_imp_bi.select_dtypes(exclude='object')\n",
        "\n",
        "## Obtendo as variáveis categóricas para o encoder\n",
        "df_encoder_imp_bi_cat = df_encoder_imp_bi.select_dtypes('object')\n",
        "\n",
        "# Instanciando o Binary Encoder e passando as colunas a serem codificadas\n",
        "bi = ce.BinaryEncoder(cols=['score_1','score_2','reason','state','zip','job_name',\n",
        "                            'real_state','email','marketing_channel',\n",
        "                            'shipping_state','profile_tags','user_agent'])\n",
        "\n",
        "# Executando a codificação\n",
        "df_bi_imp = bi.fit_transform(df_encoder_imp_bi_cat)\n",
        "\n",
        "# Criando um novo DataFrame após a codificação\n",
        "df_bi_imp_resultante = df_encoder_imp_bi_num.join(df_bi_imp)\n",
        "\n",
        "\"\"\""
      ],
      "execution_count": null,
      "outputs": [
        {
          "output_type": "execute_result",
          "data": {
            "application/vnd.google.colaboratory.intrinsic+json": {
              "type": "string"
            },
            "text/plain": [
              "\"\\n# Criando um novo DataFrame para este teste\\ndf_encoder_imp_bi = df_imp.copy()\\n\\n# Obtendo o DataFrame das variáveis numéricas\\ndf_encoder_imp_bi_num = df_encoder_imp_bi.select_dtypes(exclude='object')\\n\\n## Obtendo as variáveis categóricas para o encoder\\ndf_encoder_imp_bi_cat = df_encoder_imp_bi.select_dtypes('object')\\n\\n# Instanciando o Binary Encoder e passando as colunas a serem codificadas\\nbi = ce.BinaryEncoder(cols=['score_1','score_2','reason','state','zip','job_name',\\n                            'real_state','email','marketing_channel',\\n                            'shipping_state','profile_tags','user_agent'])\\n\\n# Executando a codificação\\ndf_bi_imp = bi.fit_transform(df_encoder_imp_bi_cat)\\n\\n# Criando um novo DataFrame após a codificação\\ndf_bi_imp_resultante = df_encoder_imp_bi_num.join(df_bi_imp)\\n\\n\""
            ]
          },
          "metadata": {
            "tags": []
          },
          "execution_count": 41
        }
      ]
    },
    {
      "cell_type": "markdown",
      "metadata": {
        "id": "im00Uf22x-49"
      },
      "source": [
        "Vamos checar se houve as transformações:"
      ]
    },
    {
      "cell_type": "code",
      "metadata": {
        "colab": {
          "base_uri": "https://localhost:8080/"
        },
        "id": "ei7UasLjAyA9",
        "outputId": "60d330a9-5dd4-4305-9bb0-338daadf012c"
      },
      "source": [
        "\"\"\"\n",
        "\n",
        "# Checando as primeiras entradas do DataFrame\n",
        "df_bi_imp_resultante.head()\n",
        "\n",
        "\"\"\""
      ],
      "execution_count": null,
      "outputs": [
        {
          "output_type": "execute_result",
          "data": {
            "application/vnd.google.colaboratory.intrinsic+json": {
              "type": "string"
            },
            "text/plain": [
              "'\\n\\n# Checando as primeiras entradas do DataFrame\\ndf_bi_imp_resultante.head()\\n\\n'"
            ]
          },
          "metadata": {
            "tags": []
          },
          "execution_count": 42
        }
      ]
    },
    {
      "cell_type": "markdown",
      "metadata": {
        "id": "AycYx0PCyL_F"
      },
      "source": [
        "Podemos confirmar que ocorreu as transformações, porém com este método, foram geradas colunas apenas com valores nulos, as com sufixo '_0', neste caso vamos remover todas essas 12 variáveis nulas.\n",
        "\n",
        "Cada variável transformada pelo encoder gerou uma própria variável nula, por isso podemos adiantar que são 12."
      ]
    },
    {
      "cell_type": "code",
      "metadata": {
        "colab": {
          "base_uri": "https://localhost:8080/"
        },
        "id": "ovWJIkImyt1w",
        "outputId": "f89ea7d7-96f4-47ca-ce03-59add7efb4e8"
      },
      "source": [
        "\"\"\"\n",
        "# Removendo as variáveis nulas\n",
        "lista_remocao = ['score_1_0','score_2_0','reason_0','state_0','zip_0','job_name_0',\n",
        "                'real_state_0','email_0','marketing_channel_0','shipping_state_0',\n",
        "                'profile_tags_0','user_agent_0']\n",
        "\n",
        "df_bi_imp_resultante.drop(lista_remocao, axis=1, inplace=True)\n",
        "\n",
        "# Checando o DataFrame\n",
        "df_bi_imp_resultante.head()\n",
        "\n",
        "\"\"\""
      ],
      "execution_count": null,
      "outputs": [
        {
          "output_type": "execute_result",
          "data": {
            "application/vnd.google.colaboratory.intrinsic+json": {
              "type": "string"
            },
            "text/plain": [
              "\"\\n# Removendo as variáveis nulas\\nlista_remocao = ['score_1_0','score_2_0','reason_0','state_0','zip_0','job_name_0',\\n                'real_state_0','email_0','marketing_channel_0','shipping_state_0',\\n                'profile_tags_0','user_agent_0']\\n\\ndf_bi_imp_resultante.drop(lista_remocao, axis=1, inplace=True)\\n\\n# Checando o DataFrame\\ndf_bi_imp_resultante.head()\\n\\n\""
            ]
          },
          "metadata": {
            "tags": []
          },
          "execution_count": 43
        }
      ]
    },
    {
      "cell_type": "markdown",
      "metadata": {
        "id": "McYrkgcy0cz-"
      },
      "source": [
        "Agora já podemos avançar para os testes com os modelos, que serão XGBoost e SVC, mas antes devemos fazer as separações entre treino e teste, além da aplicação do balanceamento."
      ]
    },
    {
      "cell_type": "code",
      "metadata": {
        "colab": {
          "base_uri": "https://localhost:8080/"
        },
        "id": "tDjsN91E07E7",
        "outputId": "2cdd1d24-3678-430d-ed88-3962a90f37bf"
      },
      "source": [
        "\"\"\"\n",
        "# Separando os dados entre treino e teste\n",
        "X = df_bi_imp_resultante.drop('target_default', axis=1)\n",
        "y = df_bi_imp_resultante['target_default'] #variável alvo\n",
        "\n",
        "X_train, X_test, y_train, y_test = train_test_split(X, y, test_size=0.20)\n",
        "\n",
        "# Executando o balanceamento com SMOTE Tomek\n",
        "smt = SMOTETomek(random_state=25)\n",
        "X_smt, y_smt = smt.fit_sample(X_train, y_train)\n",
        "\n",
        "\"\"\""
      ],
      "execution_count": null,
      "outputs": [
        {
          "output_type": "execute_result",
          "data": {
            "application/vnd.google.colaboratory.intrinsic+json": {
              "type": "string"
            },
            "text/plain": [
              "\"\\n# Separando os dados entre treino e teste\\nX = df_bi_imp_resultante.drop('target_default', axis=1)\\ny = df_bi_imp_resultante['target_default'] #variável alvo\\n\\nX_train, X_test, y_train, y_test = train_test_split(X, y, test_size=0.20)\\n\\n# Executando o balanceamento com SMOTE Tomek\\nsmt = SMOTETomek(random_state=25)\\nX_smt, y_smt = smt.fit_sample(X_train, y_train)\\n\\n\""
            ]
          },
          "metadata": {
            "tags": []
          },
          "execution_count": 44
        }
      ]
    },
    {
      "cell_type": "markdown",
      "metadata": {
        "id": "hg87UYzB1M1M"
      },
      "source": [
        "Tendo os dados separados e balanceados, vamos avaliar os modelos:"
      ]
    },
    {
      "cell_type": "code",
      "metadata": {
        "colab": {
          "base_uri": "https://localhost:8080/"
        },
        "id": "uC_GPKZT1U7f",
        "outputId": "d11b1d8b-4268-47e4-80d2-31e741470c19"
      },
      "source": [
        "\"\"\"\n",
        "# Realizar a validação cruzada e obter o desempenho dos modelos - Padronizado\n",
        "df_model_imp_bi_pd = [] #criando uma lista para guardar o nome dos modelos\n",
        "acc_model_imp_bi_pd = [] #criando uma lista para guardar os resultados de desempenho\n",
        "\n",
        "for clf in (model_xgb, model_svc):\n",
        "  df_model_imp_bi_pd.append(clf.__class__.__name__)\n",
        "  acc_model_imp_bi_pd.append(val_model_padronizado(X_smt, y_smt, clf))\n",
        "\n",
        "# Criar um DataFrame para as listas geradas - Padronizado\n",
        "df_val_imp_bi_pd = pd.DataFrame(data=acc_model_imp_bi_pd, index=df_model_imp_bi_pd, columns=['Acurácia_Padronizado'])\n",
        "\n",
        "\n",
        "\n",
        "# Realizar a validação cruzada e obter o desempenho dos modelos - Normalizado\n",
        "df_model_imp_bi_nm = [] #criando um DataFrame para guardar o nome dos modelos\n",
        "acc_model_imp_bi_nm = [] #criando um DataFrame para guardar os resultados de desempenho\n",
        "\n",
        "for clf in (model_xgb, model_svc):\n",
        "  df_model_imp_bi_nm.append(clf.__class__.__name__)\n",
        "  acc_model_imp_bi_nm.append(val_model_normalizado(X_smt, y_smt, clf))\n",
        "\n",
        "# Criar um DataFrame para as listas geradas - Normalizado\n",
        "df_val_imp_bi_nm = pd.DataFrame(data=acc_model_imp_bi_nm, index=df_model_imp_bi_nm, columns=['Acurácia_Normalizado'])\n",
        "\n",
        "\"\"\""
      ],
      "execution_count": null,
      "outputs": [
        {
          "output_type": "execute_result",
          "data": {
            "application/vnd.google.colaboratory.intrinsic+json": {
              "type": "string"
            },
            "text/plain": [
              "\"\\n# Realizar a validação cruzada e obter o desempenho dos modelos - Padronizado\\ndf_model_imp_bi_pd = [] #criando uma lista para guardar o nome dos modelos\\nacc_model_imp_bi_pd = [] #criando uma lista para guardar os resultados de desempenho\\n\\nfor clf in (model_xgb, model_svc):\\n  df_model_imp_bi_pd.append(clf.__class__.__name__)\\n  acc_model_imp_bi_pd.append(val_model_padronizado(X_smt, y_smt, clf))\\n\\n# Criar um DataFrame para as listas geradas - Padronizado\\ndf_val_imp_bi_pd = pd.DataFrame(data=acc_model_imp_bi_pd, index=df_model_imp_bi_pd, columns=['Acurácia_Padronizado'])\\n\\n\\n\\n# Realizar a validação cruzada e obter o desempenho dos modelos - Normalizado\\ndf_model_imp_bi_nm = [] #criando um DataFrame para guardar o nome dos modelos\\nacc_model_imp_bi_nm = [] #criando um DataFrame para guardar os resultados de desempenho\\n\\nfor clf in (model_xgb, model_svc):\\n  df_model_imp_bi_nm.append(clf.__class__.__name__)\\n  acc_model_imp_bi_nm.append(val_model_normalizado(X_smt, y_smt, clf))\\n\\n# Criar um DataFrame para as listas geradas - Normalizado\\ndf_val_imp_bi_nm = pd.DataFrame(data=acc_model_imp_bi_nm, index=df_model_imp_bi_nm, columns=['Acurácia_Normalizado'])\\n\\n\""
            ]
          },
          "metadata": {
            "tags": []
          },
          "execution_count": 45
        }
      ]
    },
    {
      "cell_type": "markdown",
      "metadata": {
        "id": "on6YyX7C12NC"
      },
      "source": [
        "Vamos unir os DataFrames criados para ambas os métodos de regularização:"
      ]
    },
    {
      "cell_type": "code",
      "metadata": {
        "colab": {
          "base_uri": "https://localhost:8080/"
        },
        "id": "32GxazdB18mG",
        "outputId": "6f81af57-7523-4601-9ed6-321f3894db2f"
      },
      "source": [
        "\"\"\"\n",
        "\n",
        "# Unindo os DataFrames criados\n",
        "df_val_imp_bi = df_val_imp_bi_pd.join(df_val_imp_bi_nm['Acurácia_Normalizado'])\n",
        "\n",
        "# Checando o DataFrame com a validação\n",
        "df_val_imp_bi\n",
        "\n",
        "\"\"\""
      ],
      "execution_count": null,
      "outputs": [
        {
          "output_type": "execute_result",
          "data": {
            "application/vnd.google.colaboratory.intrinsic+json": {
              "type": "string"
            },
            "text/plain": [
              "\"\\n\\n# Unindo os DataFrames criados\\ndf_val_imp_bi = df_val_imp_bi_pd.join(df_val_imp_bi_nm['Acurácia_Normalizado'])\\n\\n# Checando o DataFrame com a validação\\ndf_val_imp_bi\\n\\n\""
            ]
          },
          "metadata": {
            "tags": []
          },
          "execution_count": 46
        }
      ]
    },
    {
      "cell_type": "markdown",
      "metadata": {
        "id": "N_Wp6uvZ5z-a"
      },
      "source": [
        "Temos que o melhor modelo foi o XGBoost, obtendo o mesmo valor com ambas as regularizações: Acurácia de 90.06%.\n",
        "\n",
        "O melhor modelos SVC foi com a Padronização, obtendo 89.29% de acurácia.\n",
        "\n",
        "Tempo de validação: 1 hora e 47 minutos."
      ]
    },
    {
      "cell_type": "markdown",
      "metadata": {
        "id": "PtAHJHZU17HI"
      },
      "source": [
        "##### Base N Encoder\n",
        "\n",
        "Aplicando o Base N Encoder, com base 5, este método é semelhante ao Binary Encoder, porém podemos mudar a base:"
      ]
    },
    {
      "cell_type": "code",
      "metadata": {
        "id": "2Ym5A6Gx19uI",
        "colab": {
          "base_uri": "https://localhost:8080/"
        },
        "outputId": "38ad40d2-c2c3-4935-f577-e42d74f11ebc"
      },
      "source": [
        "\"\"\"\n",
        "# Criando um novo DataFrame para este teste\n",
        "df_encoder_imp_bn = df_imp.copy()\n",
        "\n",
        "# Obtendo o DataFrame das variáveis numéricas\n",
        "df_encoder_imp_bn_num = df_encoder_imp_bn.select_dtypes(exclude='object')\n",
        "\n",
        "## Obtendo as variáveis categóricas para o encoder\n",
        "df_encoder_imp_bn_cat = df_encoder_imp_bn.select_dtypes('object')\n",
        "\n",
        "# Instanciando o Base N Encoder e passando as colunas a serem codificadas\n",
        "bn = ce.BaseNEncoder(cols=['score_1','score_2','reason','state','zip','job_name',\n",
        "                            'real_state','email','marketing_channel',\n",
        "                            'shipping_state','profile_tags','user_agent'], base=5)\n",
        "\n",
        "# Executando a codificação\n",
        "df_bn_imp = bn.fit_transform(df_encoder_imp_bn_cat)\n",
        "\n",
        "# Criando um novo DataFrame após a codificação\n",
        "df_bn_imp_resultante = df_encoder_imp_bn_num.join(df_bn_imp)\n",
        "\"\"\""
      ],
      "execution_count": null,
      "outputs": [
        {
          "output_type": "execute_result",
          "data": {
            "application/vnd.google.colaboratory.intrinsic+json": {
              "type": "string"
            },
            "text/plain": [
              "\"\\n# Criando um novo DataFrame para este teste\\ndf_encoder_imp_bn = df_imp.copy()\\n\\n# Obtendo o DataFrame das variáveis numéricas\\ndf_encoder_imp_bn_num = df_encoder_imp_bn.select_dtypes(exclude='object')\\n\\n## Obtendo as variáveis categóricas para o encoder\\ndf_encoder_imp_bn_cat = df_encoder_imp_bn.select_dtypes('object')\\n\\n# Instanciando o Binary Encoder e passando as colunas a serem codificadas\\nbn = ce.BaseNEncoder(cols=['score_1','score_2','reason','state','zip','job_name',\\n                            'real_state','email','marketing_channel',\\n                            'shipping_state','profile_tags','user_agent'], base=5)\\n\\n# Executando a codificação\\ndf_bn_imp = bn.fit_transform(df_encoder_imp_bn_cat)\\n\\n# Criando um novo DataFrame após a codificação\\ndf_bn_imp_resultante = df_encoder_imp_bn_num.join(df_bn_imp)\\n\""
            ]
          },
          "metadata": {
            "tags": []
          },
          "execution_count": 47
        }
      ]
    },
    {
      "cell_type": "markdown",
      "metadata": {
        "id": "VnbGTjXeBNNZ"
      },
      "source": [
        "Checando o DataFrame:"
      ]
    },
    {
      "cell_type": "code",
      "metadata": {
        "colab": {
          "base_uri": "https://localhost:8080/"
        },
        "id": "4XsfeF5TBP5T",
        "outputId": "3e82395d-7dbb-41c6-b925-916ab35d5f5d"
      },
      "source": [
        "\"\"\"\n",
        "# Checando as primeiras entradas do DataFrame\n",
        "df_bn_imp_resultante.head()\n",
        "\"\"\""
      ],
      "execution_count": null,
      "outputs": [
        {
          "output_type": "execute_result",
          "data": {
            "application/vnd.google.colaboratory.intrinsic+json": {
              "type": "string"
            },
            "text/plain": [
              "'\\n# Checando as primeiras entradas do DataFrame\\ndf_bn_imp_resultante.head()\\n'"
            ]
          },
          "metadata": {
            "tags": []
          },
          "execution_count": 48
        }
      ]
    },
    {
      "cell_type": "markdown",
      "metadata": {
        "id": "6yCwglQkBUzC"
      },
      "source": [
        "Tembém temos a criação de variáveis com sufixo '_0' que são nulas, então vamos removê-las:"
      ]
    },
    {
      "cell_type": "code",
      "metadata": {
        "colab": {
          "base_uri": "https://localhost:8080/"
        },
        "id": "F_OL9phODiyL",
        "outputId": "3727925e-25c5-424c-8baa-60f9cd380569"
      },
      "source": [
        "\"\"\"\n",
        "# Removendo as variáveis nulas\n",
        "lista_remocao = ['score_1_0','score_2_0','reason_0','state_0','zip_0','job_name_0',\n",
        "                'real_state_0','email_0','marketing_channel_0','shipping_state_0',\n",
        "                'profile_tags_0','user_agent_0']\n",
        "\n",
        "df_bn_imp_resultante.drop(lista_remocao, axis=1, inplace=True)\n",
        "\n",
        "# Checando o DataFrame\n",
        "df_bn_imp_resultante.head()\n",
        "\"\"\""
      ],
      "execution_count": null,
      "outputs": [
        {
          "output_type": "execute_result",
          "data": {
            "application/vnd.google.colaboratory.intrinsic+json": {
              "type": "string"
            },
            "text/plain": [
              "\"\\n# Removendo as variáveis nulas\\nlista_remocao = ['score_1_0','score_2_0','reason_0','state_0','zip_0','job_name_0',\\n                'real_state_0','email_0','marketing_channel_0','shipping_state_0',\\n                'profile_tags_0','user_agent_0']\\n\\ndf_bn_imp_resultante.drop(lista_remocao, axis=1, inplace=True)\\n\\n# Checando o DataFrame\\ndf_bn_imp_resultante.head()\\n\""
            ]
          },
          "metadata": {
            "tags": []
          },
          "execution_count": 49
        }
      ]
    },
    {
      "cell_type": "markdown",
      "metadata": {
        "id": "brugb6qWD1VR"
      },
      "source": [
        "Agora vamos avançar para a separação dos dados entre treino e teste, além de executar o balanceamento:"
      ]
    },
    {
      "cell_type": "code",
      "metadata": {
        "colab": {
          "base_uri": "https://localhost:8080/"
        },
        "id": "UiP3C9bWECqS",
        "outputId": "359ef9e5-3a9b-48ec-e33b-0f7837574200"
      },
      "source": [
        "\"\"\"\n",
        "# Separando os dados entre treino e teste\n",
        "X = df_bn_imp_resultante.drop('target_default', axis=1)\n",
        "y = df_bn_imp_resultante['target_default'] #variável alvo\n",
        "\n",
        "X_train, X_test, y_train, y_test = train_test_split(X, y, test_size=0.20)\n",
        "\n",
        "# Executando o balanceamento com SMOTE Tomek\n",
        "smt = SMOTETomek(random_state=25)\n",
        "X_smt, y_smt = smt.fit_sample(X_train, y_train)\n",
        "\"\"\""
      ],
      "execution_count": null,
      "outputs": [
        {
          "output_type": "execute_result",
          "data": {
            "application/vnd.google.colaboratory.intrinsic+json": {
              "type": "string"
            },
            "text/plain": [
              "\"\\n# Separando os dados entre treino e teste\\nX = df_bn_imp_resultante.drop('target_default', axis=1)\\ny = df_bn_imp_resultante['target_default'] #variável alvo\\n\\nX_train, X_test, y_train, y_test = train_test_split(X, y, test_size=0.20)\\n\\n# Executando o balanceamento com SMOTE Tomek\\nsmt = SMOTETomek(random_state=25)\\nX_smt, y_smt = smt.fit_sample(X_train, y_train)\\n\""
            ]
          },
          "metadata": {
            "tags": []
          },
          "execution_count": 50
        }
      ]
    },
    {
      "cell_type": "markdown",
      "metadata": {
        "id": "KP14ponoEMHC"
      },
      "source": [
        "Com os dados separados e balanceados, vamos fazer as validações:"
      ]
    },
    {
      "cell_type": "code",
      "metadata": {
        "colab": {
          "base_uri": "https://localhost:8080/"
        },
        "id": "FtIbi_-qELUv",
        "outputId": "d3ffde90-324e-46b2-d8cf-9ac7789bb482"
      },
      "source": [
        "\"\"\"\n",
        "# Realizar a validação cruzada e obter o desempenho dos modelos - Padronizado\n",
        "df_model_imp_bn_pd = [] #criando uma lista para guardar o nome dos modelos\n",
        "acc_model_imp_bn_pd = [] #criando uma lista para guardar os resultados de desempenho\n",
        "\n",
        "for clf in (model_xgb, model_svc):\n",
        "  df_model_imp_bn_pd.append(clf.__class__.__name__)\n",
        "  acc_model_imp_bn_pd.append(val_model_padronizado(X_smt, y_smt, clf))\n",
        "\n",
        "# Criar um DataFrame para as listas geradas - Padronizado\n",
        "df_val_imp_bn_pd = pd.DataFrame(data=acc_model_imp_bn_pd, index=df_model_imp_bn_pd, columns=['Acurácia_Padronizado'])\n",
        "\n",
        "\n",
        "\n",
        "# Realizar a validação cruzada e obter o desempenho dos modelos - Normalizado\n",
        "df_model_imp_bn_nm = [] #criando um DataFrame para guardar o nome dos modelos\n",
        "acc_model_imp_bn_nm = [] #criando um DataFrame para guardar os resultados de desempenho\n",
        "\n",
        "for clf in (model_xgb, model_svc):\n",
        "  df_model_imp_bn_nm.append(clf.__class__.__name__)\n",
        "  acc_model_imp_bn_nm.append(val_model_normalizado(X_smt, y_smt, clf))\n",
        "\n",
        "# Criar um DataFrame para as listas geradas - Normalizado\n",
        "df_val_imp_bn_nm = pd.DataFrame(data=acc_model_imp_bn_nm, index=df_model_imp_bn_nm, columns=['Acurácia_Normalizado'])\n",
        "\"\"\""
      ],
      "execution_count": null,
      "outputs": [
        {
          "output_type": "execute_result",
          "data": {
            "application/vnd.google.colaboratory.intrinsic+json": {
              "type": "string"
            },
            "text/plain": [
              "\"\\n# Realizar a validação cruzada e obter o desempenho dos modelos - Padronizado\\ndf_model_imp_bn_pd = [] #criando uma lista para guardar o nome dos modelos\\nacc_model_imp_bn_pd = [] #criando uma lista para guardar os resultados de desempenho\\n\\nfor clf in (model_xgb, model_svc):\\n  df_model_imp_bn_pd.append(clf.__class__.__name__)\\n  acc_model_imp_bn_pd.append(val_model_padronizado(X_smt, y_smt, clf))\\n\\n# Criar um DataFrame para as listas geradas - Padronizado\\ndf_val_imp_bn_pd = pd.DataFrame(data=acc_model_imp_bn_pd, index=df_model_imp_bn_pd, columns=['Acurácia_Padronizado'])\\n\\n\\n\\n# Realizar a validação cruzada e obter o desempenho dos modelos - Normalizado\\ndf_model_imp_bn_nm = [] #criando um DataFrame para guardar o nome dos modelos\\nacc_model_imp_bn_nm = [] #criando um DataFrame para guardar os resultados de desempenho\\n\\nfor clf in (model_xgb, model_svc):\\n  df_model_imp_bn_nm.append(clf.__class__.__name__)\\n  acc_model_imp_bn_nm.append(val_model_normalizado(X_smt, y_smt, clf))\\n\\n# Criar um DataFrame para as listas geradas - Normalizado\\ndf_val_imp_bn_nm = pd.DataFrame(data=acc_model_imp_bn_nm, index=df_model_imp_bn_nm, columns=['Acurácia_Normalizado'])\\n\""
            ]
          },
          "metadata": {
            "tags": []
          },
          "execution_count": 51
        }
      ]
    },
    {
      "cell_type": "markdown",
      "metadata": {
        "id": "C1o9B_WniqwM"
      },
      "source": [
        "Checando o DataFrame:"
      ]
    },
    {
      "cell_type": "code",
      "metadata": {
        "colab": {
          "base_uri": "https://localhost:8080/"
        },
        "id": "M9IjZdMQisnV",
        "outputId": "8e612064-adbc-4b8e-9d66-c787a30e189a"
      },
      "source": [
        "\"\"\"\n",
        "# Unindo os DataFrames criados\n",
        "df_val_imp_bn = df_val_imp_bn_pd.join(df_val_imp_bn_nm['Acurácia_Normalizado'])\n",
        "\n",
        "# Checando o DataFrame com a validação\n",
        "df_val_imp_bn\n",
        "\"\"\""
      ],
      "execution_count": null,
      "outputs": [
        {
          "output_type": "execute_result",
          "data": {
            "application/vnd.google.colaboratory.intrinsic+json": {
              "type": "string"
            },
            "text/plain": [
              "\"\\n# Unindo os DataFrames criados\\ndf_val_imp_bn = df_val_imp_bn_pd.join(df_val_imp_bn_nm['Acurácia_Normalizado'])\\n\\n# Checando o DataFrame com a validação\\ndf_val_imp_bn\\n\""
            ]
          },
          "metadata": {
            "tags": []
          },
          "execution_count": 52
        }
      ]
    },
    {
      "cell_type": "markdown",
      "metadata": {
        "id": "rvrJssEWEj9P"
      },
      "source": [
        "Temos que o melhor modelo foi o XGBoost que obteve o mesmo resultado para ambos as regularizações: Acurácia de 89.73%.\n",
        "\n",
        "O melhor modelo SVC foi com os dados padronizados, com acurácia de 86.5%.\n",
        "\n",
        "Tempo de validação: 54 minutos."
      ]
    },
    {
      "cell_type": "markdown",
      "metadata": {
        "id": "bVIM0iq9196K"
      },
      "source": [
        "##### Hash Encoder\n",
        "\n",
        "Como estamos lidando com features categóricas com alta cardinalidade, vamos utilizar o número de componentes = 32, que é recomendado pela própria documentação:"
      ]
    },
    {
      "cell_type": "code",
      "metadata": {
        "id": "GOTOpaPc2ATz",
        "colab": {
          "base_uri": "https://localhost:8080/"
        },
        "outputId": "caeb0428-33db-4307-e9a9-a01781c25564"
      },
      "source": [
        "\"\"\"\n",
        "# Criando um novo DataFrame para este teste\n",
        "df_encoder_imp_hs = df_imp.copy()\n",
        "\n",
        "# Obtendo o DataFrame das variáveis numéricas\n",
        "df_encoder_imp_hs_num = df_encoder_imp_hs.select_dtypes(exclude='object')\n",
        "\n",
        "## Obtendo as variáveis categóricas para o encoder\n",
        "df_encoder_imp_hs_cat = df_encoder_imp_hs.select_dtypes('object')\n",
        "\n",
        "# Instanciando o Hash Encoder e passando as colunas a serem codificadas\n",
        "hs = ce.HashingEncoder(cols=['score_1','score_2','reason','state','zip','job_name',\n",
        "                            'real_state','email','marketing_channel',\n",
        "                            'shipping_state','profile_tags','user_agent'], n_components=32)\n",
        "\n",
        "# Executando a codificação\n",
        "df_imp_hs = hs.fit_transform(df_encoder_imp_hs_cat)\n",
        "\n",
        "# Criando um novo DataFrame após a codificação\n",
        "df_imp_hs_resultante = df_encoder_imp_hs_num.join(df_imp_hs)\n",
        "\"\"\""
      ],
      "execution_count": null,
      "outputs": [
        {
          "output_type": "execute_result",
          "data": {
            "application/vnd.google.colaboratory.intrinsic+json": {
              "type": "string"
            },
            "text/plain": [
              "\"\\n# Criando um novo DataFrame para este teste\\ndf_encoder_imp_hs = df_imp.copy()\\n\\n# Obtendo o DataFrame das variáveis numéricas\\ndf_encoder_imp_hs_num = df_encoder_imp_hs.select_dtypes(exclude='object')\\n\\n## Obtendo as variáveis categóricas para o encoder\\ndf_encoder_imp_hs_cat = df_encoder_imp_hs.select_dtypes('object')\\n\\n# Instanciando o Binary Encoder e passando as colunas a serem codificadas\\nhs = ce.HashingEncoder(cols=['score_1','score_2','reason','state','zip','job_name',\\n                            'real_state','email','marketing_channel',\\n                            'shipping_state','profile_tags','user_agent'], n_components=32)\\n\\n# Executando a codificação\\ndf_imp_hs = hs.fit_transform(df_encoder_imp_hs_cat)\\n\\n# Criando um novo DataFrame após a codificação\\ndf_imp_hs_resultante = df_encoder_imp_hs_num.join(df_imp_hs)\\n\""
            ]
          },
          "metadata": {
            "tags": []
          },
          "execution_count": 53
        }
      ]
    },
    {
      "cell_type": "markdown",
      "metadata": {
        "id": "672q4qicH51r"
      },
      "source": [
        "Checando o DataFrame:"
      ]
    },
    {
      "cell_type": "code",
      "metadata": {
        "colab": {
          "base_uri": "https://localhost:8080/"
        },
        "id": "yDKojhiJH8Sm",
        "outputId": "a199b196-fd02-4f11-d37a-bf8e6e665d57"
      },
      "source": [
        "\"\"\"\n",
        "# Checando o DataFrame\n",
        "df_imp_hs_resultante.head()\n",
        "\"\"\""
      ],
      "execution_count": null,
      "outputs": [
        {
          "output_type": "execute_result",
          "data": {
            "application/vnd.google.colaboratory.intrinsic+json": {
              "type": "string"
            },
            "text/plain": [
              "'\\n# Checando o DataFrame\\ndf_imp_hs_resultante.head()\\n'"
            ]
          },
          "metadata": {
            "tags": []
          },
          "execution_count": 54
        }
      ]
    },
    {
      "cell_type": "markdown",
      "metadata": {
        "id": "Q2a9DaeSIK-m"
      },
      "source": [
        "Como podemos ver, com a conversão perdemos informações sobre quais são as variáveis categóricas obtidas anteriormente, porém agora o modelo consegue lidar com essas variáveis categóricas, além do mais, esse método conseguiu ter o menor número de features entre os testes com os outros enconders, gerando apenas 32 features categóricas.\n",
        "\n",
        "Vamos então fazer a separação entre os dados de treino e teste, realizar o balanceamento e então validar os modelos:"
      ]
    },
    {
      "cell_type": "code",
      "metadata": {
        "colab": {
          "base_uri": "https://localhost:8080/"
        },
        "id": "uS9k3CgCJkAh",
        "outputId": "f3d16164-705a-4d52-d17f-d763d030052e"
      },
      "source": [
        "\"\"\"\n",
        "# Separando os dados entre treino e teste\n",
        "X = df_imp_hs_resultante.drop('target_default', axis=1)\n",
        "y = df_imp_hs_resultante['target_default'] #variável alvo\n",
        "\n",
        "X_train, X_test, y_train, y_test = train_test_split(X, y, test_size=0.20)\n",
        "\n",
        "# Executando o balanceamento com SMOTE Tomek\n",
        "smt = SMOTETomek(random_state=25)\n",
        "X_smt, y_smt = smt.fit_sample(X_train, y_train)\n",
        "\"\"\""
      ],
      "execution_count": null,
      "outputs": [
        {
          "output_type": "execute_result",
          "data": {
            "application/vnd.google.colaboratory.intrinsic+json": {
              "type": "string"
            },
            "text/plain": [
              "\"\\n# Separando os dados entre treino e teste\\nX = df_imp_hs_resultante.drop('target_default', axis=1)\\ny = df_imp_hs_resultante['target_default'] #variável alvo\\n\\nX_train, X_test, y_train, y_test = train_test_split(X, y, test_size=0.20)\\n\\n# Executando o balanceamento com SMOTE Tomek\\nsmt = SMOTETomek(random_state=25)\\nX_smt, y_smt = smt.fit_sample(X_train, y_train)\\n\""
            ]
          },
          "metadata": {
            "tags": []
          },
          "execution_count": 55
        }
      ]
    },
    {
      "cell_type": "markdown",
      "metadata": {
        "id": "OYc-FCcoJyWb"
      },
      "source": [
        "Validando os modelos:"
      ]
    },
    {
      "cell_type": "code",
      "metadata": {
        "colab": {
          "base_uri": "https://localhost:8080/"
        },
        "id": "9AlrIYujJ4nn",
        "outputId": "42cc95f8-18b1-4a05-d7fa-df13c263585b"
      },
      "source": [
        "\"\"\"\n",
        "# Realizar a validação cruzada e obter o desempenho dos modelos - Padronizado\n",
        "df_model_imp_hs_pd = [] #criando uma lista para guardar o nome dos modelos\n",
        "acc_model_imp_hs_pd = [] #criando uma lista para guardar os resultados de desempenho\n",
        "\n",
        "for clf in (model_xgb, model_svc):\n",
        "  df_model_imp_hs_pd.append(clf.__class__.__name__)\n",
        "  acc_model_imp_hs_pd.append(val_model_padronizado(X_smt, y_smt, clf))\n",
        "\n",
        "# Criar um DataFrame para as listas geradas - Padronizado\n",
        "df_val_imp_hs_pd = pd.DataFrame(data=acc_model_imp_hs_pd, index=df_model_imp_hs_pd, columns=['Acurácia_Padronizado'])\n",
        "\n",
        "\n",
        "\n",
        "# Realizar a validação cruzada e obter o desempenho dos modelos - Normalizado\n",
        "df_model_imp_hs_nm = [] #criando um DataFrame para guardar o nome dos modelos\n",
        "acc_model_imp_hs_nm = [] #criando um DataFrame para guardar os resultados de desempenho\n",
        "\n",
        "for clf in (model_xgb, model_svc):\n",
        "  df_model_imp_hs_nm.append(clf.__class__.__name__)\n",
        "  acc_model_imp_hs_nm.append(val_model_normalizado(X_smt, y_smt, clf))\n",
        "\n",
        "# Criar um DataFrame para as listas geradas - Normalizado\n",
        "df_val_imp_hs_nm = pd.DataFrame(data=acc_model_imp_hs_nm, index=df_model_imp_hs_nm, columns=['Acurácia_Normalizado'])\n",
        "\"\"\""
      ],
      "execution_count": null,
      "outputs": [
        {
          "output_type": "execute_result",
          "data": {
            "application/vnd.google.colaboratory.intrinsic+json": {
              "type": "string"
            },
            "text/plain": [
              "\"\\n# Realizar a validação cruzada e obter o desempenho dos modelos - Padronizado\\ndf_model_imp_hs_pd = [] #criando uma lista para guardar o nome dos modelos\\nacc_model_imp_hs_pd = [] #criando uma lista para guardar os resultados de desempenho\\n\\nfor clf in (model_xgb, model_svc):\\n  df_model_imp_hs_pd.append(clf.__class__.__name__)\\n  acc_model_imp_hs_pd.append(val_model_padronizado(X_smt, y_smt, clf))\\n\\n# Criar um DataFrame para as listas geradas - Padronizado\\ndf_val_imp_hs_pd = pd.DataFrame(data=acc_model_imp_hs_pd, index=df_model_imp_hs_pd, columns=['Acurácia_Padronizado'])\\n\\n\\n\\n# Realizar a validação cruzada e obter o desempenho dos modelos - Normalizado\\ndf_model_imp_hs_nm = [] #criando um DataFrame para guardar o nome dos modelos\\nacc_model_imp_hs_nm = [] #criando um DataFrame para guardar os resultados de desempenho\\n\\nfor clf in (model_xgb, model_svc):\\n  df_model_imp_hs_nm.append(clf.__class__.__name__)\\n  acc_model_imp_hs_nm.append(val_model_normalizado(X_smt, y_smt, clf))\\n\\n# Criar um DataFrame para as listas geradas - Normalizado\\ndf_val_imp_hs_nm = pd.DataFrame(data=acc_model_imp_hs_nm, index=df_model_imp_hs_nm, columns=['Acurácia_Normalizado'])\\n\""
            ]
          },
          "metadata": {
            "tags": []
          },
          "execution_count": 56
        }
      ]
    },
    {
      "cell_type": "markdown",
      "metadata": {
        "id": "X2jPkGeNbSjp"
      },
      "source": [
        "Obtendo os resultados:"
      ]
    },
    {
      "cell_type": "code",
      "metadata": {
        "colab": {
          "base_uri": "https://localhost:8080/"
        },
        "id": "qCJi4WSnbbf8",
        "outputId": "cc5b4b66-1db9-4c12-bfe9-5154a9897536"
      },
      "source": [
        "\"\"\"\n",
        "# Unindo os DataFrames criados\n",
        "df_val_imp_hs = df_val_imp_hs_pd.join(df_val_imp_hs_nm['Acurácia_Normalizado'])\n",
        "\n",
        "# Checando o DataFrame com a validação\n",
        "df_val_imp_hs\n",
        "\"\"\""
      ],
      "execution_count": null,
      "outputs": [
        {
          "output_type": "execute_result",
          "data": {
            "application/vnd.google.colaboratory.intrinsic+json": {
              "type": "string"
            },
            "text/plain": [
              "\"\\n# Unindo os DataFrames criados\\ndf_val_imp_hs = df_val_imp_hs_pd.join(df_val_imp_hs_nm['Acurácia_Normalizado'])\\n\\n# Checando o DataFrame com a validação\\ndf_val_imp_hs\\n\""
            ]
          },
          "metadata": {
            "tags": []
          },
          "execution_count": 57
        }
      ]
    },
    {
      "cell_type": "markdown",
      "metadata": {
        "id": "3It47CKMKL7f"
      },
      "source": [
        "Temos que o melhor modelo foi o XGBoost, que com ambas as regularizações obteve o mesmo resultado: Acurácia de 90.28%.\n",
        "\n",
        "O melhor modelo SVC obteve acurácia de 85.68% com a regularização de padronização.\n",
        "\n",
        "Tempo de validação: 42 minutos."
      ]
    },
    {
      "cell_type": "markdown",
      "metadata": {
        "id": "8AhpVjE29twN"
      },
      "source": [
        "### Apenas com a Regularização\n",
        "\n",
        "Para esta fase de testes, serão realizados os mesmos passos feitos nos testes com as outliers tratadas por imputação, porém apenas utilizando as regularizações como tratamento das outliers.\n",
        "\n",
        "Neste caso não entrarei em detalhes novamente sobre cada passo, passarei o código diretamente."
      ]
    },
    {
      "cell_type": "markdown",
      "metadata": {
        "id": "dCgbJwr2-A7w"
      },
      "source": [
        "#### Testes utilizando LabelEncoder\n"
      ]
    },
    {
      "cell_type": "code",
      "metadata": {
        "id": "FyapYKh7-HfF",
        "colab": {
          "base_uri": "https://localhost:8080/"
        },
        "outputId": "bca0335b-6c52-4dc0-8f2c-2cf84ddc103c"
      },
      "source": [
        "\"\"\" (retirar caso queira reproduzir o código)\n",
        "\n",
        "# Criando um dataframe para este teste\n",
        "df_le = df_testes.copy() #copiando o DataFrame sem os dados imputados\n",
        "\n",
        "# Obtendo as variáveis categóricas\n",
        "cat_cols_balanceado_le = df_le.select_dtypes('object').columns\n",
        "\n",
        "# Executar o LabelEncoder para cada variável categórica\n",
        "for col in cat_cols_balanceado_le:\n",
        "  df_le[col+'_encoded'] = le.fit_transform(df_le[col])\n",
        "  df_le.drop(col, axis=1, inplace=True)\n",
        "\n",
        "# Separando os dados entre treino e teste\n",
        "X = df_le.drop('target_default', axis=1)\n",
        "y = df_le['target_default'] #variável alvo\n",
        "\n",
        "X_train, X_test, y_train, y_test = train_test_split(X, y, test_size=0.20)\n",
        "\n",
        "# Executando o balanceamento com SMOTE Tomek\n",
        "smt = SMOTETomek(random_state=25)\n",
        "X_smt, y_smt = smt.fit_sample(X_train, y_train)\n",
        "\n",
        "# Instanciar os modelos\n",
        "model_tree = DecisionTreeClassifier() #árvore de decisão\n",
        "model_rf = RandomForestClassifier() #árvore de decisão\n",
        "\n",
        "# Realizar a validação cruzada e obter o desempenho dos modelos - Padronizado\n",
        "df_model_le_pd = [] #criando uma lista para guardar o nome dos modelos\n",
        "acc_model_le_pd = [] #criando uma lista para guardar os resultados de desempenho\n",
        "\n",
        "for clf in (model_tree, model_rf):\n",
        "  df_model_le_pd.append(clf.__class__.__name__)\n",
        "  acc_model_le_pd.append(val_model_padronizado(X_smt, y_smt, clf))\n",
        "\n",
        "# Criar um DataFrame para as listas geradas - Padronizado\n",
        "df_val_le_pd = pd.DataFrame(data=acc_model_le_pd, index=df_model_le_pd, columns=['Acurácia_Padronizado'])\n",
        "\n",
        "# Realizar a validação cruzada e obter o desempenho dos modelos - Normalizado\n",
        "df_model_le_nm = [] #criando um DataFrame para guardar o nome dos modelos\n",
        "acc_model_le_nm = [] #criando um DataFrame para guardar os resultados de desempenho\n",
        "\n",
        "for clf in (model_tree, model_rf):\n",
        "  df_model_le_nm.append(clf.__class__.__name__)\n",
        "  acc_model_le_nm.append(val_model_normalizado(X_smt, y_smt, clf))\n",
        "\n",
        "# Criar um DataFrame para as listas geradas - Normalizado\n",
        "df_val_le_nm = pd.DataFrame(data=acc_model_le_nm, index=df_model_le_nm, columns=['Acurácia_Normalizado'])\n",
        "\n",
        "# Unindo os DataFrames criados\n",
        "df_val_le = df_val_le_pd.join(df_val_le_nm['Acurácia_Normalizado'])\n",
        "\n",
        "# Checando o DataFrame com a validação\n",
        "df_val_le\n",
        "\n",
        "\"\"\""
      ],
      "execution_count": null,
      "outputs": [
        {
          "output_type": "execute_result",
          "data": {
            "application/vnd.google.colaboratory.intrinsic+json": {
              "type": "string"
            },
            "text/plain": [
              "\" (retirar caso queira reproduzir o código)\\n\\n# Criando um dataframe para este teste\\ndf_le = df_testes.copy() #copiando o DataFrame sem os dados imputados\\n\\n# Obtendo as variáveis categóricas\\ncat_cols_balanceado_le = df_le.select_dtypes('object').columns\\n\\n# Executar o LabelEncoder para cada variável categórica\\nfor col in cat_cols_balanceado_le:\\n  df_le[col+'_encoded'] = le.fit_transform(df_le[col])\\n  df_le.drop(col, axis=1, inplace=True)\\n\\n# Separando os dados entre treino e teste\\nX = df_le.drop('target_default', axis=1)\\ny = df_le['target_default'] #variável alvo\\n\\nX_train, X_test, y_train, y_test = train_test_split(X, y, test_size=0.20)\\n\\n# Executando o balanceamento com SMOTE Tomek\\nsmt = SMOTETomek(random_state=25)\\nX_smt, y_smt = smt.fit_sample(X_train, y_train)\\n\\n# Instanciar os modelos\\nmodel_tree = DecisionTreeClassifier() #árvore de decisão\\nmodel_rf = RandomForestClassifier() #árvore de decisão\\n\\n# Realizar a validação cruzada e obter o desempenho dos modelos - Padronizado\\ndf_model_le_pd = [] #criando uma lista para guardar o nome dos modelos\\nacc_model_le_pd = [] #criando uma lista para guardar os resultados de desempenho\\n\\nfor clf in (model_tree, model_rf):\\n  df_model_le_pd.append(clf.__class__.__name__)\\n  acc_model_le_pd.append(val_model_padronizado(X_smt, y_smt, clf))\\n\\n# Criar um DataFrame para as listas geradas - Padronizado\\ndf_val_le_pd = pd.DataFrame(data=acc_model_le_pd, index=df_model_le_pd, columns=['Acurácia_Padronizado'])\\n\\n# Realizar a validação cruzada e obter o desempenho dos modelos - Normalizado\\ndf_model_le_nm = [] #criando um DataFrame para guardar o nome dos modelos\\nacc_model_le_nm = [] #criando um DataFrame para guardar os resultados de desempenho\\n\\nfor clf in (model_tree, model_rf):\\n  df_model_le_nm.append(clf.__class__.__name__)\\n  acc_model_le_nm.append(val_model_normalizado(X_smt, y_smt, clf))\\n\\n# Criar um DataFrame para as listas geradas - Normalizado\\ndf_val_le_nm = pd.DataFrame(data=acc_model_le_nm, index=df_model_le_nm, columns=['Acurácia_Normalizado'])\\n\\n# Unindo os DataFrames criados\\ndf_val_le = df_val_le_pd.join(df_val_le_nm['Acurácia_Normalizado'])\\n\\n# Checando o DataFrame com a validação\\ndf_val_le\\n\\n\""
            ]
          },
          "metadata": {
            "tags": []
          },
          "execution_count": 58
        }
      ]
    },
    {
      "cell_type": "markdown",
      "metadata": {
        "id": "OHbDi2sE48fI"
      },
      "source": [
        "Temos que o melhor modelo foi o de Árvores Aleatórias (Random Forest) regularizado com a Padronização: Acurácia de 89.53%.\n",
        "\n",
        "O melhor modelo de Árvore de Decisão obteve 82.22% de acurácia, com a Normalização.\n",
        "\n",
        "Tempo de validação: 3 minutos.\n",
        "\n",
        "Interessante notar que os resultados foram bem próximos entre os teste com a imputação e sem a imputação, o que era esperado, uma vez que esses dois modelos de árvores, são robustos à outliers, ou seja, não são muito influênciados por elas."
      ]
    },
    {
      "cell_type": "markdown",
      "metadata": {
        "id": "RLKwu94z-Hps"
      },
      "source": [
        "#### Testes com outros tipos de Encoders\n"
      ]
    },
    {
      "cell_type": "markdown",
      "metadata": {
        "id": "0pKxKqwa23tV"
      },
      "source": [
        "##### Binary Encoder\n"
      ]
    },
    {
      "cell_type": "code",
      "metadata": {
        "id": "YMYOha0n28GQ",
        "colab": {
          "base_uri": "https://localhost:8080/"
        },
        "outputId": "aa455a93-36f6-40f7-a80e-7a7dd824f582"
      },
      "source": [
        "\"\"\"\n",
        "\n",
        "# Criando um novo DataFrame para este teste\n",
        "df_encoder_bi = df_testes.copy()\n",
        "\n",
        "# Obtendo o DataFrame das variáveis numéricas\n",
        "df_encoder_bi_num = df_encoder_bi.select_dtypes(exclude='object')\n",
        "\n",
        "## Obtendo as variáveis categóricas para o encoder\n",
        "df_encoder_bi_cat = df_encoder_bi.select_dtypes('object')\n",
        "\n",
        "# Instanciando o Binary Encoder e passando as colunas a serem codificadas\n",
        "bi = ce.BinaryEncoder(cols=['score_1','score_2','reason','state','zip','job_name',\n",
        "                            'real_state','email','marketing_channel',\n",
        "                            'shipping_state','profile_tags','user_agent'])\n",
        "\n",
        "# Executando a codificação\n",
        "df_bi = bi.fit_transform(df_encoder_bi_cat)\n",
        "\n",
        "# Criando um novo DataFrame após a codificação\n",
        "df_bi_resultante = df_encoder_bi_num.join(df_bi)\n",
        "\n",
        "# Separando os dados entre treino e teste\n",
        "X = df_bi_resultante.drop('target_default', axis=1)\n",
        "y = df_bi_resultante['target_default'] #variável alvo\n",
        "\n",
        "X_train, X_test, y_train, y_test = train_test_split(X, y, test_size=0.20)\n",
        "\n",
        "# Executando o balanceamento com SMOTE Tomek\n",
        "smt = SMOTETomek(random_state=25)\n",
        "X_smt, y_smt = smt.fit_sample(X_train, y_train)\n",
        "\n",
        "# Realizar a validação cruzada e obter o desempenho dos modelos - Padronizado\n",
        "df_model_bi_pd = [] #criando uma lista para guardar o nome dos modelos\n",
        "acc_model_bi_pd = [] #criando uma lista para guardar os resultados de desempenho\n",
        "\n",
        "for clf in (model_xgb, model_svc):\n",
        "  df_model_bi_pd.append(clf.__class__.__name__)\n",
        "  acc_model_bi_pd.append(val_model_padronizado(X_smt, y_smt, clf))\n",
        "\n",
        "# Criar um DataFrame para as listas geradas - Padronizado\n",
        "df_val_bi_pd = pd.DataFrame(data=acc_model_bi_pd, index=df_model_bi_pd, columns=['Acurácia_Padronizado'])\n",
        "\n",
        "\n",
        "\n",
        "# Realizar a validação cruzada e obter o desempenho dos modelos - Normalizado\n",
        "df_model_bi_nm = [] #criando um DataFrame para guardar o nome dos modelos\n",
        "acc_model_bi_nm = [] #criando um DataFrame para guardar os resultados de desempenho\n",
        "\n",
        "for clf in (model_xgb, model_svc):\n",
        "  df_model_bi_nm.append(clf.__class__.__name__)\n",
        "  acc_model_bi_nm.append(val_model_normalizado(X_smt, y_smt, clf))\n",
        "\n",
        "# Criar um DataFrame para as listas geradas - Normalizado\n",
        "df_val_bi_nm = pd.DataFrame(data=acc_model_bi_nm, index=df_model_bi_nm, columns=['Acurácia_Normalizado'])\n",
        "\n",
        "# Unindo os DataFrames criados\n",
        "df_val_bi = df_val_bi_pd.join(df_val_bi_nm['Acurácia_Normalizado'])\n",
        "\n",
        "# Checando o DataFrame com a validação\n",
        "df_val_bi\n",
        "\n",
        "\"\"\""
      ],
      "execution_count": null,
      "outputs": [
        {
          "output_type": "execute_result",
          "data": {
            "application/vnd.google.colaboratory.intrinsic+json": {
              "type": "string"
            },
            "text/plain": [
              "\"\\n\\n# Criando um novo DataFrame para este teste\\ndf_encoder_bi = df_testes.copy()\\n\\n# Obtendo o DataFrame das variáveis numéricas\\ndf_encoder_bi_num = df_encoder_bi.select_dtypes(exclude='object')\\n\\n## Obtendo as variáveis categóricas para o encoder\\ndf_encoder_bi_cat = df_encoder_bi.select_dtypes('object')\\n\\n# Instanciando o Binary Encoder e passando as colunas a serem codificadas\\nbi = ce.BinaryEncoder(cols=['score_1','score_2','reason','state','zip','job_name',\\n                            'real_state','email','marketing_channel',\\n                            'shipping_state','profile_tags','user_agent'])\\n\\n# Executando a codificação\\ndf_bi = bi.fit_transform(df_encoder_bi_cat)\\n\\n# Criando um novo DataFrame após a codificação\\ndf_bi_resultante = df_encoder_bi_num.join(df_bi)\\n\\n# Separando os dados entre treino e teste\\nX = df_bi_resultante.drop('target_default', axis=1)\\ny = df_bi_resultante['target_default'] #variável alvo\\n\\nX_train, X_test, y_train, y_test = train_test_split(X, y, test_size=0.20)\\n\\n# Executando o balanceamento com SMOTE Tomek\\nsmt = SMOTETomek(random_state=25)\\nX_smt, y_smt = smt.fit_sample(X_train, y_train)\\n\\n# Realizar a validação cruzada e obter o desempenho dos modelos - Padronizado\\ndf_model_bi_pd = [] #criando uma lista para guardar o nome dos modelos\\nacc_model_bi_pd = [] #criando uma lista para guardar os resultados de desempenho\\n\\nfor clf in (model_xgb, model_svc):\\n  df_model_bi_pd.append(clf.__class__.__name__)\\n  acc_model_bi_pd.append(val_model_padronizado(X_smt, y_smt, clf))\\n\\n# Criar um DataFrame para as listas geradas - Padronizado\\ndf_val_bi_pd = pd.DataFrame(data=acc_model_bi_pd, index=df_model_bi_pd, columns=['Acurácia_Padronizado'])\\n\\n\\n\\n# Realizar a validação cruzada e obter o desempenho dos modelos - Normalizado\\ndf_model_bi_nm = [] #criando um DataFrame para guardar o nome dos modelos\\nacc_model_bi_nm = [] #criando um DataFrame para guardar os resultados de desempenho\\n\\nfor clf in (model_xgb, model_svc):\\n  df_model_bi_nm.append(clf.__class__.__name__)\\n  acc_model_bi_nm.append(val_model_normalizado(X_smt, y_smt, clf))\\n\\n# Criar um DataFrame para as listas geradas - Normalizado\\ndf_val_bi_nm = pd.DataFrame(data=acc_model_bi_nm, index=df_model_bi_nm, columns=['Acurácia_Normalizado'])\\n\\n# Unindo os DataFrames criados\\ndf_val_bi = df_val_bi_pd.join(df_val_bi_nm['Acurácia_Normalizado'])\\n\\n# Checando o DataFrame com a validação\\ndf_val_bi\\n\\n\""
            ]
          },
          "metadata": {
            "tags": []
          },
          "execution_count": 59
        }
      ]
    },
    {
      "cell_type": "markdown",
      "metadata": {
        "id": "Am7lLA0J7z_X"
      },
      "source": [
        "Temos que o melhor modelo foi o XGBoost regularizado com a Padronização: Acurácia de 89.99%.\n",
        "\n",
        "O melhor modelo SVC obteve 88.98% com os dados normalizados.\n",
        "\n",
        "Tempo de validação: 2 horas."
      ]
    },
    {
      "cell_type": "markdown",
      "metadata": {
        "id": "88cZuO1k28Qy"
      },
      "source": [
        "##### Base N Encoder\n",
        "\n",
        "Vamos utilizar a mesma base 5 para o encoder:"
      ]
    },
    {
      "cell_type": "code",
      "metadata": {
        "colab": {
          "base_uri": "https://localhost:8080/"
        },
        "id": "9vFUpiam2_t3",
        "outputId": "04258c8a-1371-4c6b-e1ec-a7995de25e0d"
      },
      "source": [
        "\"\"\"\n",
        "# Criando um novo DataFrame para este teste\n",
        "df_encoder_bn = df_testes.copy()\n",
        "\n",
        "# Obtendo o DataFrame das variáveis numéricas\n",
        "df_encoder_bn_num = df_encoder_bn.select_dtypes(exclude='object')\n",
        "\n",
        "## Obtendo as variáveis categóricas para o encoder\n",
        "df_encoder_bn_cat = df_encoder_bn.select_dtypes('object')\n",
        "\n",
        "# Instanciando o Base N Encoder e passando as colunas a serem codificadas\n",
        "bn = ce.BaseNEncoder(cols=['score_1','score_2','reason','state','zip','job_name',\n",
        "                            'real_state','email','marketing_channel',\n",
        "                            'shipping_state','profile_tags','user_agent'], base=5)\n",
        "\n",
        "# Executando a codificação\n",
        "df_bn = bn.fit_transform(df_encoder_bn_cat)\n",
        "\n",
        "# Criando um novo DataFrame após a codificação\n",
        "df_bn_resultante = df_encoder_bn_num.join(df_bn)\n",
        "\n",
        "# Removendo as variáveis nulas\n",
        "lista_remocao = ['score_1_0','score_2_0','reason_0','state_0','zip_0','job_name_0',\n",
        "                'real_state_0','email_0','marketing_channel_0','shipping_state_0',\n",
        "                'profile_tags_0','user_agent_0']\n",
        "\n",
        "df_bn_resultante.drop(lista_remocao, axis=1, inplace=True)\n",
        "\n",
        "# Separando os dados entre treino e teste\n",
        "X = df_bn_resultante.drop('target_default', axis=1)\n",
        "y = df_bn_resultante['target_default'] #variável alvo\n",
        "\n",
        "X_train, X_test, y_train, y_test = train_test_split(X, y, test_size=0.20)\n",
        "\n",
        "# Executando o balanceamento com SMOTE Tomek\n",
        "smt = SMOTETomek(random_state=25)\n",
        "X_smt, y_smt = smt.fit_sample(X_train, y_train)\n",
        "\n",
        "# Realizar a validação cruzada e obter o desempenho dos modelos - Padronizado\n",
        "df_model_bn_pd = [] #criando uma lista para guardar o nome dos modelos\n",
        "acc_model_bn_pd = [] #criando uma lista para guardar os resultados de desempenho\n",
        "\n",
        "for clf in (model_xgb, model_svc):\n",
        "  df_model_bn_pd.append(clf.__class__.__name__)\n",
        "  acc_model_bn_pd.append(val_model_padronizado(X_smt, y_smt, clf))\n",
        "\n",
        "# Criar um DataFrame para as listas geradas - Padronizado\n",
        "df_val_bn_pd = pd.DataFrame(data=acc_model_bn_pd, index=df_model_bn_pd, columns=['Acurácia_Padronizado'])\n",
        "\n",
        "\n",
        "\n",
        "# Realizar a validação cruzada e obter o desempenho dos modelos - Normalizado\n",
        "df_model_bn_nm = [] #criando um DataFrame para guardar o nome dos modelos\n",
        "acc_model_bn_nm = [] #criando um DataFrame para guardar os resultados de desempenho\n",
        "\n",
        "for clf in (model_xgb, model_svc):\n",
        "  df_model_bn_nm.append(clf.__class__.__name__)\n",
        "  acc_model_bn_nm.append(val_model_normalizado(X_smt, y_smt, clf))\n",
        "\n",
        "# Criar um DataFrame para as listas geradas - Normalizado\n",
        "df_val_bn_nm = pd.DataFrame(data=acc_model_bn_nm, index=df_model_bn_nm, columns=['Acurácia_Normalizado'])\n",
        "\n",
        "# Unindo os DataFrames criados\n",
        "df_val_bn = df_val_bn_pd.join(df_val_bn_nm['Acurácia_Normalizado'])\n",
        "\n",
        "# Checando o DataFrame com a validação\n",
        "df_val_bn\n",
        "\"\"\""
      ],
      "execution_count": null,
      "outputs": [
        {
          "output_type": "execute_result",
          "data": {
            "application/vnd.google.colaboratory.intrinsic+json": {
              "type": "string"
            },
            "text/plain": [
              "\"\\n# Criando um novo DataFrame para este teste\\ndf_encoder_bn = df_testes.copy()\\n\\n# Obtendo o DataFrame das variáveis numéricas\\ndf_encoder_bn_num = df_encoder_bn.select_dtypes(exclude='object')\\n\\n## Obtendo as variáveis categóricas para o encoder\\ndf_encoder_bn_cat = df_encoder_bn.select_dtypes('object')\\n\\n# Instanciando o Binary Encoder e passando as colunas a serem codificadas\\nbn = ce.BaseNEncoder(cols=['score_1','score_2','reason','state','zip','job_name',\\n                            'real_state','email','marketing_channel',\\n                            'shipping_state','profile_tags','user_agent'], base=5)\\n\\n# Executando a codificação\\ndf_bn = bn.fit_transform(df_encoder_bn_cat)\\n\\n# Criando um novo DataFrame após a codificação\\ndf_bn_resultante = df_encoder_bn_num.join(df_bn)\\n\\n# Removendo as variáveis nulas\\nlista_remocao = ['score_1_0','score_2_0','reason_0','state_0','zip_0','job_name_0',\\n                'real_state_0','email_0','marketing_channel_0','shipping_state_0',\\n                'profile_tags_0','user_agent_0']\\n\\ndf_bn_resultante.drop(lista_remocao, axis=1, inplace=True)\\n\\n# Separando os dados entre treino e teste\\nX = df_bn_resultante.drop('target_default', axis=1)\\ny = df_bn_resultante['target_default'] #variável alvo\\n\\nX_train, X_test, y_train, y_test = train_test_split(X, y, test_size=0.20)\\n\\n# Executando o balanceamento com SMOTE Tomek\\nsmt = SMOTETomek(random_state=25)\\nX_smt, y_smt = smt.fit_sample(X_train, y_train)\\n\\n# Realizar a validação cruzada e obter o desempenho dos modelos - Padronizado\\ndf_model_bn_pd = [] #criando uma lista para guardar o nome dos modelos\\nacc_model_bn_pd = [] #criando uma lista para guardar os resultados de desempenho\\n\\nfor clf in (model_xgb, model_svc):\\n  df_model_bn_pd.append(clf.__class__.__name__)\\n  acc_model_bn_pd.append(val_model_padronizado(X_smt, y_smt, clf))\\n\\n# Criar um DataFrame para as listas geradas - Padronizado\\ndf_val_bn_pd = pd.DataFrame(data=acc_model_bn_pd, index=df_model_bn_pd, columns=['Acurácia_Padronizado'])\\n\\n\\n\\n# Realizar a validação cruzada e obter o desempenho dos modelos - Normalizado\\ndf_model_bn_nm = [] #criando um DataFrame para guardar o nome dos modelos\\nacc_model_bn_nm = [] #criando um DataFrame para guardar os resultados de desempenho\\n\\nfor clf in (model_xgb, model_svc):\\n  df_model_bn_nm.append(clf.__class__.__name__)\\n  acc_model_bn_nm.append(val_model_normalizado(X_smt, y_smt, clf))\\n\\n# Criar um DataFrame para as listas geradas - Normalizado\\ndf_val_bn_nm = pd.DataFrame(data=acc_model_bn_nm, index=df_model_bn_nm, columns=['Acurácia_Normalizado'])\\n\\n# Unindo os DataFrames criados\\ndf_val_bn = df_val_bn_pd.join(df_val_bn_nm['Acurácia_Normalizado'])\\n\\n# Checando o DataFrame com a validação\\ndf_val_bn\\n\""
            ]
          },
          "metadata": {
            "tags": []
          },
          "execution_count": 60
        }
      ]
    },
    {
      "cell_type": "markdown",
      "metadata": {
        "id": "QUExMiOKFNpF"
      },
      "source": [
        "Temos que o melhor modelo foi o XGBoost regularizado com a Normalização: Acurácia de 89.61%, embora a diferença para Padronização foi de 0.0018%.\n",
        "\n",
        "O melhor modelo SVC obteve 86.86% de acurácia com a regularização Padronizado.\n",
        "\n",
        "Tempo de validação: 54 minutos."
      ]
    },
    {
      "cell_type": "markdown",
      "metadata": {
        "id": "fjTfStQQ3BMy"
      },
      "source": [
        "##### Hash Encoder"
      ]
    },
    {
      "cell_type": "code",
      "metadata": {
        "id": "iVwbgO033HJI",
        "colab": {
          "base_uri": "https://localhost:8080/"
        },
        "outputId": "ee57a7ca-cba4-40c5-8aa9-4a69977d2f28"
      },
      "source": [
        "\"\"\"\n",
        "# Criando um novo DataFrame para este teste\n",
        "df_encoder_hs = df_testes.copy()\n",
        "\n",
        "# Obtendo o DataFrame das variáveis numéricas\n",
        "df_encoder_hs_num = df_encoder_hs.select_dtypes(exclude='object')\n",
        "\n",
        "## Obtendo as variáveis categóricas para o encoder\n",
        "df_encoder_hs_cat = df_encoder_hs.select_dtypes('object')\n",
        "\n",
        "# Instanciando o Hash Encoder e passando as colunas a serem codificadas\n",
        "hs = ce.HashingEncoder(cols=['score_1','score_2','reason','state','zip','job_name',\n",
        "                            'real_state','email','marketing_channel',\n",
        "                            'shipping_state','profile_tags','user_agent'], n_components=32)\n",
        "\n",
        "# Executando a codificação\n",
        "df_hs = hs.fit_transform(df_encoder_hs_cat)\n",
        "\n",
        "# Criando um novo DataFrame após a codificação\n",
        "df_hs_resultante = df_encoder_hs_num.join(df_hs)\n",
        "\n",
        "# Separando os dados entre treino e teste\n",
        "X = df_hs_resultante.drop('target_default', axis=1)\n",
        "y = df_hs_resultante['target_default'] #variável alvo\n",
        "\n",
        "X_train, X_test, y_train, y_test = train_test_split(X, y, test_size=0.20)\n",
        "\n",
        "# Executando o balanceamento com SMOTE Tomek\n",
        "smt = SMOTETomek(random_state=25)\n",
        "X_smt, y_smt = smt.fit_sample(X_train, y_train)\n",
        "\n",
        "# Realizar a validação cruzada e obter o desempenho dos modelos - Padronizado\n",
        "df_model_hs_pd = [] #criando uma lista para guardar o nome dos modelos\n",
        "acc_model_hs_pd = [] #criando uma lista para guardar os resultados de desempenho\n",
        "\n",
        "for clf in (model_xgb, model_svc):\n",
        "  df_model_hs_pd.append(clf.__class__.__name__)\n",
        "  acc_model_hs_pd.append(val_model_padronizado(X_smt, y_smt, clf))\n",
        "\n",
        "# Criar um DataFrame para as listas geradas - Padronizado\n",
        "df_val_hs_pd = pd.DataFrame(data=acc_model_hs_pd, index=df_model_hs_pd, columns=['Acurácia_Padronizado'])\n",
        "\n",
        "\n",
        "\n",
        "# Realizar a validação cruzada e obter o desempenho dos modelos - Normalizado\n",
        "df_model_hs_nm = [] #criando um DataFrame para guardar o nome dos modelos\n",
        "acc_model_hs_nm = [] #criando um DataFrame para guardar os resultados de desempenho\n",
        "\n",
        "for clf in (model_xgb, model_svc):\n",
        "  df_model_hs_nm.append(clf.__class__.__name__)\n",
        "  acc_model_hs_nm.append(val_model_normalizado(X_smt, y_smt, clf))\n",
        "\n",
        "# Criar um DataFrame para as listas geradas - Normalizado\n",
        "df_val_hs_nm = pd.DataFrame(data=acc_model_hs_nm, index=df_model_hs_nm, columns=['Acurácia_Normalizado'])\n",
        "\n",
        "# Unindo os DataFrames criados\n",
        "df_val_hs = df_val_hs_pd.join(df_val_hs_nm['Acurácia_Normalizado'])\n",
        "\n",
        "# Checando o DataFrame com a validação\n",
        "df_val_hs\n",
        "\"\"\""
      ],
      "execution_count": null,
      "outputs": [
        {
          "output_type": "execute_result",
          "data": {
            "application/vnd.google.colaboratory.intrinsic+json": {
              "type": "string"
            },
            "text/plain": [
              "\"\\n# Criando um novo DataFrame para este teste\\ndf_encoder_hs = df_testes.copy()\\n\\n# Obtendo o DataFrame das variáveis numéricas\\ndf_encoder_hs_num = df_encoder_hs.select_dtypes(exclude='object')\\n\\n## Obtendo as variáveis categóricas para o encoder\\ndf_encoder_hs_cat = df_encoder_hs.select_dtypes('object')\\n\\n# Instanciando o Binary Encoder e passando as colunas a serem codificadas\\nhs = ce.HashingEncoder(cols=['score_1','score_2','reason','state','zip','job_name',\\n                            'real_state','email','marketing_channel',\\n                            'shipping_state','profile_tags','user_agent'], n_components=32)\\n\\n# Executando a codificação\\ndf_hs = hs.fit_transform(df_encoder_hs_cat)\\n\\n# Criando um novo DataFrame após a codificação\\ndf_hs_resultante = df_encoder_hs_num.join(df_hs)\\n\\n# Separando os dados entre treino e teste\\nX = df_hs_resultante.drop('target_default', axis=1)\\ny = df_hs_resultante['target_default'] #variável alvo\\n\\nX_train, X_test, y_train, y_test = train_test_split(X, y, test_size=0.20)\\n\\n# Executando o balanceamento com SMOTE Tomek\\nsmt = SMOTETomek(random_state=25)\\nX_smt, y_smt = smt.fit_sample(X_train, y_train)\\n\\n# Realizar a validação cruzada e obter o desempenho dos modelos - Padronizado\\ndf_model_hs_pd = [] #criando uma lista para guardar o nome dos modelos\\nacc_model_hs_pd = [] #criando uma lista para guardar os resultados de desempenho\\n\\nfor clf in (model_xgb, model_svc):\\n  df_model_hs_pd.append(clf.__class__.__name__)\\n  acc_model_hs_pd.append(val_model_padronizado(X_smt, y_smt, clf))\\n\\n# Criar um DataFrame para as listas geradas - Padronizado\\ndf_val_hs_pd = pd.DataFrame(data=acc_model_hs_pd, index=df_model_hs_pd, columns=['Acurácia_Padronizado'])\\n\\n\\n\\n# Realizar a validação cruzada e obter o desempenho dos modelos - Normalizado\\ndf_model_hs_nm = [] #criando um DataFrame para guardar o nome dos modelos\\nacc_model_hs_nm = [] #criando um DataFrame para guardar os resultados de desempenho\\n\\nfor clf in (model_xgb, model_svc):\\n  df_model_hs_nm.append(clf.__class__.__name__)\\n  acc_model_hs_nm.append(val_model_normalizado(X_smt, y_smt, clf))\\n\\n# Criar um DataFrame para as listas geradas - Normalizado\\ndf_val_hs_nm = pd.DataFrame(data=acc_model_hs_nm, index=df_model_hs_nm, columns=['Acurácia_Normalizado'])\\n\\n# Unindo os DataFrames criados\\ndf_val_hs = df_val_hs_pd.join(df_val_hs_nm['Acurácia_Normalizado'])\\n\\n# Checando o DataFrame com a validação\\ndf_val_hs\\n\""
            ]
          },
          "metadata": {
            "tags": []
          },
          "execution_count": 61
        }
      ]
    },
    {
      "cell_type": "markdown",
      "metadata": {
        "id": "NpRF5BkVF8Fs"
      },
      "source": [
        "Temos que o melhor modelo foi o XGBoost regularizado com a Padronização: Acurácia de 90.15%, embora a diferença entre as regularizações foi de apenas 0.0037%.\n",
        "\n",
        "O melhor modelo SVC obteve 85.38% de acurácia com a Padronização.\n",
        "\n",
        "Tempo de validação: 43 minutos."
      ]
    },
    {
      "cell_type": "markdown",
      "metadata": {
        "id": "jGhm3JcyBhQU"
      },
      "source": [
        "# Resultado Final do Teste de Hipótese\n",
        "\n",
        "Realizando todos os testes, é possível ver que os modelos que foram alimentados com os dados sendo imputados e regularizados, obtiveram desempenhos melhores que os que apenas passaram pela regularização, embora as diferenças entre os desempenhos sejam bastante pequenas.\n",
        "\n",
        "Vale lembrar que embora o modelo Random Forest obteve melhor resultado através da Padronização, devemos ter em mente que a diferença entre os métodos de regularização (Padronização e Normalização) foi bastante pequena.\n",
        "\n",
        "Dito isso, vamos organizar os resultados obtidos então, pelas etapas que envolviam a Imputação como tratamento de outliers:"
      ]
    },
    {
      "cell_type": "code",
      "metadata": {
        "colab": {
          "base_uri": "https://localhost:8080/",
          "height": 168
        },
        "id": "aPKuY048tG4c",
        "outputId": "1181e2d8-ee63-4f83-e917-db8450cb64f8"
      },
      "source": [
        "# Criando um DataFrame para os resultados\n",
        "df_resultados_testes = pd.DataFrame([['Random Forest',89.82, 'Padronizado', '2 minutos'], \n",
        "                                    ['XGBoost',90.06, 'Ambos', '1 hora e 47 minutos'],\n",
        "                                    ['XGBoost',89.73, 'Ambos', '54 minutos'],\n",
        "                                    ['XGBoost',90.28, 'Ambos','42 minutos']],\n",
        "                                    index=['LabelEncoder','BinaryEncoder',\n",
        "                                           'BaseNEncoder','HashEncoder'], \n",
        "                                    columns=['Modelo','Acurácia (%)','Regularização',\n",
        "                                           'Tempo de Validação'])\n",
        "# Chamando o DataFrame com os resultados\n",
        "df_resultados_testes"
      ],
      "execution_count": null,
      "outputs": [
        {
          "output_type": "display_data",
          "data": {
            "application/javascript": [
              "\n",
              "        if (window._pyforest_update_imports_cell) { window._pyforest_update_imports_cell('import matplotlib.pyplot as plt\\nimport numpy as np\\nimport seaborn as sns\\nimport pandas as pd'); }\n",
              "    "
            ],
            "text/plain": [
              "<IPython.core.display.Javascript object>"
            ]
          },
          "metadata": {
            "tags": []
          }
        },
        {
          "output_type": "execute_result",
          "data": {
            "text/html": [
              "<div>\n",
              "<style scoped>\n",
              "    .dataframe tbody tr th:only-of-type {\n",
              "        vertical-align: middle;\n",
              "    }\n",
              "\n",
              "    .dataframe tbody tr th {\n",
              "        vertical-align: top;\n",
              "    }\n",
              "\n",
              "    .dataframe thead th {\n",
              "        text-align: right;\n",
              "    }\n",
              "</style>\n",
              "<table border=\"1\" class=\"dataframe\">\n",
              "  <thead>\n",
              "    <tr style=\"text-align: right;\">\n",
              "      <th></th>\n",
              "      <th>Modelo</th>\n",
              "      <th>Acurácia (%)</th>\n",
              "      <th>Regularização</th>\n",
              "      <th>Tempo de Validação</th>\n",
              "    </tr>\n",
              "  </thead>\n",
              "  <tbody>\n",
              "    <tr>\n",
              "      <th>LabelEncoder</th>\n",
              "      <td>Random Forest</td>\n",
              "      <td>89.82</td>\n",
              "      <td>Padronizado</td>\n",
              "      <td>2 minutos</td>\n",
              "    </tr>\n",
              "    <tr>\n",
              "      <th>BinaryEncoder</th>\n",
              "      <td>XGBoost</td>\n",
              "      <td>90.06</td>\n",
              "      <td>Ambos</td>\n",
              "      <td>1 hora e 47 minutos</td>\n",
              "    </tr>\n",
              "    <tr>\n",
              "      <th>BaseNEncoder</th>\n",
              "      <td>XGBoost</td>\n",
              "      <td>89.73</td>\n",
              "      <td>Ambos</td>\n",
              "      <td>54 minutos</td>\n",
              "    </tr>\n",
              "    <tr>\n",
              "      <th>HashEncoder</th>\n",
              "      <td>XGBoost</td>\n",
              "      <td>90.28</td>\n",
              "      <td>Ambos</td>\n",
              "      <td>42 minutos</td>\n",
              "    </tr>\n",
              "  </tbody>\n",
              "</table>\n",
              "</div>"
            ],
            "text/plain": [
              "                      Modelo  Acurácia (%) Regularização   Tempo de Validação\n",
              "LabelEncoder   Random Forest         89.82   Padronizado            2 minutos\n",
              "BinaryEncoder        XGBoost         90.06         Ambos  1 hora e 47 minutos\n",
              "BaseNEncoder         XGBoost         89.73         Ambos           54 minutos\n",
              "HashEncoder          XGBoost         90.28         Ambos           42 minutos"
            ]
          },
          "metadata": {
            "tags": []
          },
          "execution_count": 62
        }
      ]
    },
    {
      "cell_type": "markdown",
      "metadata": {
        "id": "68m1BcVJxVsq"
      },
      "source": [
        "Com o resultado dos testes, podemos concluir que todos os modelos testados obtiveram desempenhos bem próximos, mas cada um precisou de um tempo diferente para ser testado.\n",
        "\n",
        "Olhando pelo tempo gasto, o modelo Random Forest (Árvores Aleatórias) se saiu extremamente superior ao XGBoost para o nosso conjunto de dados, onde foi inferior apenas por 0,46% de acurácia, mas foi 95% mais rápido no processamento.\n",
        "\n",
        "Outra vantagem de se utilizar o modelo Random Forest (Árvores Aleatórias) ao contrário do XGBoost em questão, é que ainda podemos obter informações de quais variáveis são relevantes para o modelo, o que o Hashing Encoding feito no XGBoost impossibilita essa análise.\n",
        "\n",
        "Agora que temos o modelo Random Forest como o escolhido para realizar a previsão dos clientes que possam se tornar 'default', vamos avançar para outra etapa bastante importante: a Otimização dos Hiperparâmetros do modelo."
      ]
    },
    {
      "cell_type": "markdown",
      "metadata": {
        "id": "bbD0c2iM29_H"
      },
      "source": [
        "# Otimização de Hiperparâmetros\n",
        "\n",
        "Esta etapa é bastante importante quando desenvolvemos modelos de Machine Learning (Aprendizado de Máquina), pois os testes foram realizados por uma versão 'crua' deles, agora podemos fazer o tunning de seus hiperparâmetros para obtermos desempenhos ainda maiores do modelo, além de reduzir ainda mais as chances de overfitting.\n",
        "\n",
        "Para encontrar a melhor combinação de hiperparâmetros do modelo Random Forest (Árvores Aleatórias), vamos utilizar o método GridSearch.\n",
        "\n",
        "Antes de realizarmos a pesquisa dos hiperparâmetros, precisamos preparar novamente os dados que serão utilizados a partir de agora, que será:\n",
        "\n",
        "* Utilizar o dataset com os dados imputados;\n",
        "* Realizar a codificação das variáveis categóricas com LabelEncoder;\n",
        "* Separar os dados de treino e teste;\n",
        "* Realizar a Padronização dos dados de treino; e\n",
        "* Realizar o balanceamento com SMOTE Tomek nos dados de treino.\n"
      ]
    },
    {
      "cell_type": "code",
      "metadata": {
        "colab": {
          "base_uri": "https://localhost:8080/",
          "height": 17
        },
        "id": "rrEFUY1e3Df6",
        "outputId": "50881ab0-7252-48c2-bd9a-9d167e01ebea"
      },
      "source": [
        "# Copiar o dataset imputado para esta etapa\n",
        "df_tunning = df_imp.copy()\n",
        "\n",
        "# Instanciando o LabelEncoder\n",
        "le = LabelEncoder()\n",
        "\n",
        "# Obtendo as variáveis categóricas\n",
        "cat_cols_tunning = df_tunning.select_dtypes('object').columns\n",
        "\n",
        "# Executar o LabelEncoder para cada variável categórica\n",
        "for col in cat_cols_tunning:\n",
        "  df_tunning[col+'_encoded'] = le.fit_transform(df_tunning[col])\n",
        "  df_tunning.drop(col, axis=1, inplace=True)\n",
        "\n",
        "# Separando os dados entre treino e teste\n",
        "X = df_tunning.drop('target_default', axis=1)\n",
        "y = df_tunning['target_default'] #variável alvo\n",
        "\n",
        "X_train, X_test, y_train, y_test = train_test_split(X, y, test_size=0.20)\n",
        "\n",
        "# Aplicando a regularização de padronização nos dados de treino\n",
        "pad = StandardScaler().fit(X_train)\n",
        "X_train = pad.transform(X_train)\n",
        "\n",
        "# Executando o balanceamento com SMOTE Tomek\n",
        "smt = SMOTETomek(random_state=25)\n",
        "X_smt, y_smt = smt.fit_sample(X_train, y_train)"
      ],
      "execution_count": null,
      "outputs": [
        {
          "output_type": "display_data",
          "data": {
            "application/javascript": [
              "\n",
              "        if (window._pyforest_update_imports_cell) { window._pyforest_update_imports_cell('import matplotlib.pyplot as plt\\nfrom sklearn.model_selection import train_test_split\\nimport numpy as np\\nimport seaborn as sns\\nimport pandas as pd'); }\n",
              "    "
            ],
            "text/plain": [
              "<IPython.core.display.Javascript object>"
            ]
          },
          "metadata": {
            "tags": []
          }
        }
      ]
    },
    {
      "cell_type": "markdown",
      "metadata": {
        "id": "FCX1zC2LGdvY"
      },
      "source": [
        "Com os dados tratados, vamos realizar a validação do modelo base de Random Forest (Árvores Aleatórias):"
      ]
    },
    {
      "cell_type": "code",
      "metadata": {
        "colab": {
          "base_uri": "https://localhost:8080/",
          "height": 35
        },
        "id": "6xn0JCXlGzGe",
        "outputId": "ccecdd96-b4d2-4e87-d4c7-2be05b51f9a2"
      },
      "source": [
        "# Instanciar o modelo Random Forest\n",
        "model_rf = RandomForestClassifier()\n",
        "\n",
        "# Treinando um modelo base de Random Forest\n",
        "pontuacao_rf_base = val_model_padronizado(X_smt, y_smt, model_rf)\n",
        "\n",
        "# Exibindo o resultado\n",
        "print('Acurácia do modelo Random Forest base: {:.2f}'.format(pontuacao_rf_base))"
      ],
      "execution_count": null,
      "outputs": [
        {
          "output_type": "display_data",
          "data": {
            "application/javascript": [
              "\n",
              "        if (window._pyforest_update_imports_cell) { window._pyforest_update_imports_cell('import numpy as np\\nimport seaborn as sns\\nimport pandas as pd\\nimport matplotlib.pyplot as plt\\nfrom sklearn.model_selection import train_test_split'); }\n",
              "    "
            ],
            "text/plain": [
              "<IPython.core.display.Javascript object>"
            ]
          },
          "metadata": {
            "tags": []
          }
        },
        {
          "output_type": "display_data",
          "data": {
            "application/javascript": [
              "\n",
              "        if (window._pyforest_update_imports_cell) { window._pyforest_update_imports_cell('import numpy as np\\nimport seaborn as sns\\nimport pandas as pd\\nimport matplotlib.pyplot as plt\\nfrom sklearn.model_selection import train_test_split'); }\n",
              "    "
            ],
            "text/plain": [
              "<IPython.core.display.Javascript object>"
            ]
          },
          "metadata": {
            "tags": []
          }
        },
        {
          "output_type": "stream",
          "text": [
            "Acurácia do modelo Random Forest base: 0.91\n"
          ],
          "name": "stdout"
        }
      ]
    },
    {
      "cell_type": "markdown",
      "metadata": {
        "id": "x8Euy5njJa1E"
      },
      "source": [
        "A acurácia do modelo Random Forest básico é de 91%.\n",
        "\n",
        "Agora vamos realizar a pesquisa dos hiperparâmetros para obtermos um desempenho maior do modelo:"
      ]
    },
    {
      "cell_type": "code",
      "metadata": {
        "id": "42qQBBp1StWk"
      },
      "source": [
        "# Fazendo uma lista com os parâmetros que serão usados pelo GridSearch\n",
        "grid_rf = dict()\n",
        "grid_rf['n_estimators'] = [51]\n",
        "# 20,(50),70\n",
        "# 48,(50),52\n",
        "# 50,(51)\n",
        "grid_rf['min_samples_split'] = [2] \n",
        "# (2),4,6\n",
        "grid_rf['min_samples_leaf'] = [1]\n",
        "# (1),5,10\n",
        "# (1),2\n",
        "\n",
        "# Definindo a validação cruzada\n",
        "cv = StratifiedKFold(n_splits = 10, shuffle = True)\n",
        "\n",
        "# Definindo a busca do GridSearch\n",
        "busca = GridSearchCV(model_rf, grid_rf, scoring='accuracy', n_jobs=-1, cv=cv)\n",
        "\n",
        "# Executando a busca\n",
        "resultado = busca.fit(X_smt, y_smt)\n",
        "\n",
        "# Exibindo os resultados\n",
        "print(\"Melhor acurácia: {:.2f}\".format(resultado.best_score_))\n",
        "print(\"Melhores Hiperparâmetros:\", resultado.best_params_)"
      ],
      "execution_count": null,
      "outputs": []
    },
    {
      "cell_type": "markdown",
      "metadata": {
        "id": "jSCHD1-Jxt5u"
      },
      "source": [
        "Temos os melhores hiperparâmetros pra nosso modelo, e ele melhorou 1% apenas com as alterações de parâmetros, essa melhora pode não parecer muito significativa, porém de fato é uma otimização.\n",
        "\n",
        "Vale lembrar que a otimização foi pouca, devido aos tratamentos realizados nos dados, esses sim são os mais impactantes para melhorar a qualidade do modelo, então quando tentamos melhorar algo que já está bom, as melhorias podem parecer poucas, mas ainda são muito bem vindas. Isso reforça a importância das etapas de tratamento dos dados, afinal dados bem tratados refletem em bons modelos. \n",
        "\n",
        "Agora vamos instanciar um novo modelo Random Forest, aplicando as mudanças nos seus hiperperâmetros:"
      ]
    },
    {
      "cell_type": "code",
      "metadata": {
        "id": "8J2R3G5Ox5_j"
      },
      "source": [
        "# Instanciando o modelo tunado\n",
        "model_rf_tunned = RandomForestClassifier(n_estimators=51, min_samples_split=2, min_samples_leaf=1)"
      ],
      "execution_count": null,
      "outputs": []
    },
    {
      "cell_type": "markdown",
      "metadata": {
        "id": "YzOarR9dan9b"
      },
      "source": [
        "Até agora, utilizamos apenas a métrica acurácia para avaliar o desempenho de um modelo, mas existem outras métricas como Precisão e Recall que podem ser muito importantes para avaliarmos os impactos do modelo quando implantado.\n",
        "\n",
        "Entraremos mais a fundo neste assunto, que envolve os problemas com altos números de falsos positivos e negativos para a empresa."
      ]
    },
    {
      "cell_type": "markdown",
      "metadata": {
        "id": "h5hpNfQxbqIj"
      },
      "source": [
        "# Trade-Off: Precisão vs. Recall\n",
        "\n",
        "Quando avaliamos um modelo, devemos ficar atentos as métricas que representam a taxa de falsos positivos e negativos que nosso modelo gera, pois podemos ter um modelo que mais causa prejuízo do que soluciona.\n",
        "\n",
        "A Precisão nos revela a taxa de falsos positivos que nosso modelo irá prever para o problema, enquanto que o Recall trata o aspecto dos falsos negativos.\n",
        "\n",
        "O Trade-Off nada mais é que uma troca entre essas variáveis, que são opostas em desempenho, ou seja, quando aumentamos a Precisão para reduzir a taxa de falsos positivos, diminuímos o Recall e aumentamos a quantidade de falsos negativos.\n",
        "\n",
        "Para entendermos melhor o impacto dessas métricas, vamos analisar este exemplo:\n",
        "\n",
        "Nosso modelo possui possui 70% de Precisão e 90% de Recall, quando o modelo faz a previsão de 100 clientes, dado a Precisão, 30 clientes serão erroneamente tratados como 'default', assim tendo seus pedidos de créditos rejeitados ou tratar um cliente da empresa como inadimplente por uma falha do modelo. Agora, pelo Recall, de 100 clientes acusados de inadimplência, apenas 10 irão passar pelo pente fino do modelo.\n",
        "\n",
        "Se tivermos uma Precisão muito baixa, poderemos ter o churn de clientes pelo fato dele ser bastante barrado de forma errada, tendo seus pedidos negados por uma falha do modelo, agora se temos um Recall alto, a empresa ou instituição terá mais segurança em lidar com os inadimplentes.\n",
        "\n",
        "Para visualizarmos essas métricas, vamos aplicar o Relatório de Classificação para o modelo, e além deste relatório, vamos calcular a Área sob a Curva ROC (AUC), que também é outra métrica bastante interessante para demonstrar o desempenho do modelo, em que quanto mais perto o resultado for de 1.0, melhor é este modelo. Essa métrica também demonstra a chance do modelo em distinguir corretamente entre as classes da variável alvo.\n",
        "\n",
        "Para complementar o Relatório de Classificação, vamos plotar também a matriz de confusão do modelo.\n",
        "\n"
      ]
    },
    {
      "cell_type": "code",
      "metadata": {
        "colab": {
          "base_uri": "https://localhost:8080/",
          "height": 513
        },
        "id": "APVrd7d6kduU",
        "outputId": "9e5e2274-808d-407c-bb08-97494c501176"
      },
      "source": [
        "# Definindo a validação cruzada\n",
        "cv = StratifiedKFold(n_splits = 10, shuffle = True)\n",
        "\n",
        "# Previsão\n",
        "y_pred = cross_val_predict(model_rf_tunned, X_smt, y_smt, cv=cv)\n",
        "\n",
        "# Relatório de classificação\n",
        "print(\"Relatório de Classificação:\\n\", classification_report(y_smt, y_pred, digits=4))\n",
        "\n",
        "# Plotar a matriz de confusão\n",
        "skplt.metrics.plot_confusion_matrix(y_smt, y_pred, normalize=True);\n",
        "#plt.savefig('matriz_confusao')\n",
        "\n",
        "# Área sob a curva(AUC)\n",
        "print('AUC: {:.4f}\\n'.format(roc_auc_score(y_smt, y_pred)))"
      ],
      "execution_count": null,
      "outputs": [
        {
          "output_type": "stream",
          "text": [
            "Relatório de Classificação:\n",
            "               precision    recall  f1-score   support\n",
            "\n",
            "           0     0.8844    0.9661    0.9235     28033\n",
            "           1     0.9627    0.8737    0.9161     28033\n",
            "\n",
            "    accuracy                         0.9199     56066\n",
            "   macro avg     0.9236    0.9199    0.9198     56066\n",
            "weighted avg     0.9236    0.9199    0.9198     56066\n",
            "\n",
            "AUC: 0.9199\n",
            "\n"
          ],
          "name": "stdout"
        },
        {
          "output_type": "display_data",
          "data": {
            "image/png": "[encoded data removed]",
            "text/plain": [
              "<Figure size 432x288 with 2 Axes>"
            ]
          },
          "metadata": {
            "tags": [],
            "needs_background": "light"
          }
        }
      ]
    },
    {
      "cell_type": "markdown",
      "metadata": {
        "id": "TnU2u3wG8nnf"
      },
      "source": [
        "Com o relatório temos várias métricas, como precisão, recall, f1-score e a acurácia.\n",
        "\n",
        "Até então usamos apenas a métrica acurácia, como métrica de validação dos modelos, porém como nossos dados estão balanceados, ela se torna realmente útil, enquanto que se tivéssemos um dataset desbalanceado, seria melhor avaliar os modelos pela métrica f1-score, que traz um balanceamento melhor entre precisão e recall.\n",
        "\n",
        "Para nosso modelo treinado e otimizado, obtivemos para a classe alvo(1):\n",
        "* Precisão: 96%;\n",
        "* Recall: 87%;\n",
        "* F1-Score: 91%;\n",
        "* Acurácia: 92%;\n",
        "* AUC: 0.92.\n",
        "\n",
        "Considerando o exemplo anterior sobre o impacto destas métricas, teríamos um modelo que em 100 previsões, dado a precisão de 96%, apenas 4 clientes seriam considerados default erroneamente, enquanto que pelo o recall de 87%, o modelo deixaria passar 13 clientes que realmente são default.\n",
        "\n",
        "Como foi posto os problemas com falsos negativos, ter um recall de 87% pode parecer ruim, já que para 100 previsões, as empresas terão prejuízos com 13 clientes, mas como foi calculado a Área sob a Curva ROC (AUC), podemos determinar a qualidade do nosso modelo, se mesmo com essa métrica mais baixa ele seria considerado bom ou ruim.\n",
        "\n",
        "Temos que no geral, modelos que conseguem valores nessa métrica entre 0.7 à 0.8, são considerados aceitáveis, de 0.8 à 0.9 são excelentes, e aqueles que conseguem valores acima de 0.9, como é o nosso caso (0.92), ele é considerado como 'fora da curva' no sentido bom da palavra.\n",
        "\n",
        "Agora que temos essas informações do modelo treinado e otimizado, vamos realizar o teste final utilizando os dados de teste, que foram separados e que evitamos de usar até agora."
      ]
    },
    {
      "cell_type": "markdown",
      "metadata": {
        "id": "B9qcjpQ7EI-4"
      },
      "source": [
        "# Validação Final com os dados de teste\n",
        "\n",
        "Vamos então utilizar os dados de teste para a previsão final do modelo:"
      ]
    },
    {
      "cell_type": "code",
      "metadata": {
        "colab": {
          "base_uri": "https://localhost:8080/",
          "height": 495
        },
        "id": "Q7xwDfcyF8PD",
        "outputId": "d8c5be76-8ad8-42d3-869f-5ae36d5d45f1"
      },
      "source": [
        "# Treinando o modelo\n",
        "model_rf_tunned.fit(X_smt, y_smt)\n",
        "\n",
        "# Realizar a Padronização nos dados de teste\n",
        "X_test = pad.transform(X_test)\n",
        "\n",
        "# Fazendo a previsão com os dados de teste\n",
        "y_pred_final = model_rf_tunned.predict(X_test)\n",
        "\n",
        "# Relatório de Classificação\n",
        "print(classification_report(y_test, y_pred_final))\n",
        "\n",
        "# imprimir a área sob a curva\n",
        "print(\"AUC: {:.4f}\\n\".format(roc_auc_score(y_test, y_pred_final)))\n",
        "\n",
        "# plotar matriz de confusão\n",
        "skplt.metrics.plot_confusion_matrix(y_test, y_pred_final, normalize=True);"
      ],
      "execution_count": null,
      "outputs": [
        {
          "output_type": "stream",
          "text": [
            "              precision    recall  f1-score   support\n",
            "\n",
            "           0       0.85      0.97      0.91      7041\n",
            "           1       0.36      0.10      0.15      1308\n",
            "\n",
            "    accuracy                           0.83      8349\n",
            "   macro avg       0.61      0.53      0.53      8349\n",
            "weighted avg       0.78      0.83      0.79      8349\n",
            "\n",
            "AUC: 0.5322\n",
            "\n"
          ],
          "name": "stdout"
        },
        {
          "output_type": "display_data",
          "data": {
            "image/png": "[encoded data removed]",
            "text/plain": [
              "<Figure size 432x288 with 2 Axes>"
            ]
          },
          "metadata": {
            "tags": [],
            "needs_background": "light"
          }
        }
      ]
    },
    {
      "cell_type": "markdown",
      "metadata": {
        "id": "iqgUkG2CHarr"
      },
      "source": [
        "Os resultados são bastante interessantes, testando nosso modelo com os dados de teste, obtivemos um resultado bastante abaixo do esperado.\n",
        "\n",
        "Por que isso ocorreu? Na verdade esse é um problema até comum quando se trata de dados desbalanceados, onde nosso modelo foi treinado em um ambiente balanceado, porém quando enfrentou dados novos que eram desbalanceados, o que aconteceria em uma situação real do negócio, o modelo não conseguiu obter um bom desempenho.\n",
        "\n",
        "Temos algumas causas para esse desempenho baixo:\n",
        "* Nosso modelo sofreu Overfitting; ou\n",
        "* As amostras de treino ou teste não são representativas;\n",
        "* Natureza estocástica do modelo utilizado.\n",
        "\n",
        "Como o objetivo deste projeto era desenvolver um algoritmo de Machine Learning para prever quais clientes se tornariam default, não iremos nos estender em buscar o 'melhor' modelo para lidar com os dados reais, uma vez que cada uma das causas acima necessitam de bastante tempo de pesquisa.\n",
        "\n",
        "Embora não será feito uma busca pela solução ideal para este problema de desempenho do modelo com os dados de teste, iremos mostrar que nosso modelo sofreu o overfitting.\n",
        "\n",
        "Vamos repassar pela etapa de Otimização dos Hiperparâmetros, agora fazendo algumas alterações e então fazer a comparação com os dados de treino e teste para a nova parametrização:\n",
        "\n",
        "Importante lembrar que as células de códigos foram reiniciadas, porém mantemos os resultados já gerados, assim quando fizermos a validação dos dados de teste a seguir, este será usado apenas uma vez:"
      ]
    },
    {
      "cell_type": "code",
      "metadata": {
        "colab": {
          "base_uri": "https://localhost:8080/",
          "height": 35
        },
        "id": "y-Bd_jQurd66",
        "outputId": "e01760aa-9ef8-45d4-e9fd-d849fa02c62c"
      },
      "source": [
        "# Instanciar o modelo Random Forest\n",
        "model_rf_teste = RandomForestClassifier(n_estimators=1000, min_samples_split=60, min_samples_leaf=150, max_depth=50)\n",
        "\n",
        "# Treinando um modelo base de Random Forest\n",
        "pontuacao_rf_base_teste = val_model_padronizado(X_smt, y_smt, model_rf_teste)\n",
        "\n",
        "# Exibindo o resultado\n",
        "print('Acurácia do modelo Random Forest base: {:.2f}'.format(pontuacao_rf_base_teste))"
      ],
      "execution_count": null,
      "outputs": [
        {
          "output_type": "display_data",
          "data": {
            "application/javascript": [
              "\n",
              "        if (window._pyforest_update_imports_cell) { window._pyforest_update_imports_cell('import matplotlib.pyplot as plt\\nfrom sklearn.model_selection import train_test_split\\nimport numpy as np\\nimport seaborn as sns\\nimport pandas as pd'); }\n",
              "    "
            ],
            "text/plain": [
              "<IPython.core.display.Javascript object>"
            ]
          },
          "metadata": {
            "tags": []
          }
        },
        {
          "output_type": "display_data",
          "data": {
            "application/javascript": [
              "\n",
              "        if (window._pyforest_update_imports_cell) { window._pyforest_update_imports_cell('import matplotlib.pyplot as plt\\nfrom sklearn.model_selection import train_test_split\\nimport numpy as np\\nimport seaborn as sns\\nimport pandas as pd'); }\n",
              "    "
            ],
            "text/plain": [
              "<IPython.core.display.Javascript object>"
            ]
          },
          "metadata": {
            "tags": []
          }
        },
        {
          "output_type": "stream",
          "text": [
            "Acurácia do modelo Random Forest base: 0.82\n"
          ],
          "name": "stdout"
        }
      ]
    },
    {
      "cell_type": "code",
      "metadata": {
        "id": "cjlArVSF1o3Z"
      },
      "source": [
        "# Testes Realizados nos seguintes parâmetros\n",
        "#1 - n_estimators = 500, acurácia de 85%\n",
        "#2 - n_estimators = 1000, acurácia de 85%\n",
        "#3 - min_samples_split = 30, acurácia de 85%\n",
        "#4 - min_samples_split = 60, acurácia de 85%\n",
        "#5 - min_sample_leaf = 60, acurácia de 84%\n",
        "#6 - min_sample_leaf = 150, acurácia de 82%\n",
        "#7 - max_depth = 50, acurácia de 82%"
      ],
      "execution_count": null,
      "outputs": []
    },
    {
      "cell_type": "markdown",
      "metadata": {
        "id": "a6KCfHltXDmH"
      },
      "source": [
        "Aqui já notamos uma diferença, o modelo base com os novos parâmetros atingiu 82% de acurácia, contra os 91% obtidos como base para a parametrização anterior.\n",
        "\n",
        "Vamos plotar o Relatório de Classificação com os dados de treino:"
      ]
    },
    {
      "cell_type": "code",
      "metadata": {
        "colab": {
          "base_uri": "https://localhost:8080/",
          "height": 513
        },
        "id": "pmoR755-rnoy",
        "outputId": "33dd54df-e822-452d-f159-276870f65df4"
      },
      "source": [
        "# Definindo a validação cruzada\n",
        "cv = StratifiedKFold(n_splits = 10, shuffle = True)\n",
        "\n",
        "# Previsão\n",
        "y_pred_test = cross_val_predict(model_rf_teste, X_smt, y_smt, cv=cv)\n",
        "\n",
        "# Relatório de classificação\n",
        "print(\"Relatório de Classificação:\\n\", classification_report(y_smt, y_pred_test, digits=4))\n",
        "\n",
        "# Plotar a matriz de confusão\n",
        "skplt.metrics.plot_confusion_matrix(y_smt, y_pred_test, normalize=True);\n",
        "\n",
        "\n",
        "# Área sob a curva(AUC)\n",
        "print('AUC: {:.4f}\\n'.format(roc_auc_score(y_smt, y_pred_test)))"
      ],
      "execution_count": null,
      "outputs": [
        {
          "output_type": "stream",
          "text": [
            "Relatório de Classificação:\n",
            "               precision    recall  f1-score   support\n",
            "\n",
            "           0     0.8011    0.8802    0.8388     28033\n",
            "           1     0.8671    0.7815    0.8221     28033\n",
            "\n",
            "    accuracy                         0.8309     56066\n",
            "   macro avg     0.8341    0.8309    0.8304     56066\n",
            "weighted avg     0.8341    0.8309    0.8304     56066\n",
            "\n",
            "AUC: 0.8309\n",
            "\n"
          ],
          "name": "stdout"
        },
        {
          "output_type": "display_data",
          "data": {
            "image/png": "[encoded data removed]",
            "text/plain": [
              "<Figure size 432x288 with 2 Axes>"
            ]
          },
          "metadata": {
            "tags": [],
            "needs_background": "light"
          }
        }
      ]
    },
    {
      "cell_type": "code",
      "metadata": {
        "id": "BoS0qBIL1yZT"
      },
      "source": [
        "# Resultados obtidos durante os testes\n",
        "#1 - auc 0.87, precision 0.92, recall 0.81, f1-score 0.86\n",
        "#2 -  a  0.87,     p     0.92,    r   0.81,    f1    0.86\n",
        "#3 -  a  0.87,     p     0.92,    r   0.81,    f1    0.86\n",
        "#4 -  a  0.87,     p     0.91,    r   0.81,    f1    0.86\n",
        "#5 -  a  0.85,     p     0.90,    r   0.80,    f1    0.85\n",
        "#6 -  a  0.83,     p     0.86,    r   0.78,    f1    0.82\n",
        "#7 -  a  0.83,     p     0.86,    r   0.78,    f1    0.82"
      ],
      "execution_count": null,
      "outputs": []
    },
    {
      "cell_type": "markdown",
      "metadata": {
        "id": "-7-_heYDhI8o"
      },
      "source": [
        "No ambiente de treino, o desempenho do modelo foi caindo a cada teste de parâmetros.\n",
        "\n",
        "Agora vamos observar o Relatório de Classificação para a validação do modelo com os dados de teste:"
      ]
    },
    {
      "cell_type": "code",
      "metadata": {
        "colab": {
          "base_uri": "https://localhost:8080/",
          "height": 495
        },
        "id": "ISvZjNgmxlIN",
        "outputId": "c8476e54-e46a-41ff-d883-216aa8cb6f13"
      },
      "source": [
        "# Treinando o modelo\n",
        "model_rf_teste.fit(X_smt, y_smt)\n",
        "\n",
        "# Realizar a Padronização nos dados de teste\n",
        "X_test = pad.transform(X_test)\n",
        "\n",
        "# Fazendo a previsão com os dados de teste\n",
        "y_pred_final_teste = model_rf_teste.predict(X_test)\n",
        "\n",
        "# Relatório de Classificação\n",
        "print(classification_report(y_test, y_pred_final_teste))\n",
        "\n",
        "# imprimir a área sob a curva\n",
        "print(\"AUC: {:.4f}\\n\".format(roc_auc_score(y_test, y_pred_final_teste)))\n",
        "\n",
        "# plotar matriz de confusão\n",
        "skplt.metrics.plot_confusion_matrix(y_test, y_pred_final_teste, normalize=True);"
      ],
      "execution_count": null,
      "outputs": [
        {
          "output_type": "stream",
          "text": [
            "              precision    recall  f1-score   support\n",
            "\n",
            "           0       0.87      0.89      0.88      7041\n",
            "           1       0.34      0.30      0.32      1308\n",
            "\n",
            "    accuracy                           0.80      8349\n",
            "   macro avg       0.61      0.60      0.60      8349\n",
            "weighted avg       0.79      0.80      0.79      8349\n",
            "\n",
            "AUC: 0.5961\n",
            "\n"
          ],
          "name": "stdout"
        },
        {
          "output_type": "display_data",
          "data": {
            "image/png": "[encoded data removed]",
            "text/plain": [
              "<Figure size 432x288 with 2 Axes>"
            ]
          },
          "metadata": {
            "tags": [],
            "needs_background": "light"
          }
        }
      ]
    },
    {
      "cell_type": "code",
      "metadata": {
        "id": "7fCr29PH2ELi"
      },
      "source": [
        "# Resultados obtidos durante os testes\n",
        "#1 - auc 0.57, precision 0.37, recall 0.21, f1-score 0.27\n",
        "#2 -  a  0.57,     p     0.37,   r    0.21,    f1    0.27\n",
        "#3 -  a  0.57,     p     0.36,   r    0.21,    f1    0.27\n",
        "#4 -  a  0.57,     p     0.37,   r    0.21,    f1    0.27\n",
        "#5 -  a  0.58,     p     0.35,   r    0.24,    f1    0.28\n",
        "#6 -  a  0.59,     p     0.34,   r    0.30,    f1    0.32 \n",
        "#7 -  a  0.59,     p     0.34,   r    0.30,    f1    0.32"
      ],
      "execution_count": null,
      "outputs": []
    },
    {
      "cell_type": "markdown",
      "metadata": {
        "id": "OBSQkVThi1uJ"
      },
      "source": [
        "Podemos perceber que enquanto o modelo no ambiente de treino sofria quedas de desempenho, no ambiente \"real\", usando os dados de teste, o modelo foi se saindo cada vez melhor.\n",
        "\n",
        "O que acontece na verdade é que essa queda no desempenho do ambiente de treino, na verdade, é o fato de estarmos generalizando o modelo, assim trazendo-o mais perto de representar a realidade.\n",
        "\n",
        "Quando fizemos a primeira otimização, utilizamos parâmetros com valores baixos, inclusive `min_samples_leaf` com valor 1, que foi provavelmente a maior causa de overfitting do modelo, em que faz com que o modelo de árvore chegue a ter apenas uma amostra no último nó (folha), assim não tendo generalização nenhuma.\n",
        "\n",
        "Este foi apenas um exemplo superficial para mostrar que o modelo ao menos sofre com overfitting, lembrando que existem outras formas de tratar o overfitting como: reduzir a complexidade dos dados, realizar outros tratamentos das variáveis categóricas com alta cardinalidade.\n",
        "\n",
        "Com toda essa análise, é possível perceber que em apenas uma das causas da queda do desempenho com os dados \"reais\" (dados de teste), já exige muitas pesquisas, e consequentemente bastante tempo."
      ]
    },
    {
      "cell_type": "markdown",
      "metadata": {
        "id": "vHNgR_7yBWKW"
      },
      "source": [
        "# Conclusão\n",
        "\n",
        "Este projeto foi importante para entendermos os impactos das previsões de modelos de Machine Learning (Aprendizado de Máquina), para o problema de inadimplência que as empresas enfrentam todos os dias.\n",
        "\n",
        "Foi possível desenvolver um modelo de Machine Learning para a previsão de inadimplência dos clientes da empresa, mas embora o resultado final tenha sido baixo, comprovamos que pode ser melhorado com futuras pesquisas e tratamentos.\n",
        "\n",
        "Durante o desenvolvimento deste projeto, nos deparamos com diversas encruzilhadas, em que para cada etapa, havia várias abordagens possíveis, o que nos fez realizar diversos testes para no fim escolher as melhores através dos resultados obtidos.\n",
        "\n",
        "O conjunto de dados utilizado neste projeto, foi ótimo para demonstrar os problemas que um Cientista de Dados irá se deparar em seu trabalho, como grandes quantidades de valores discrepantes presentes nos dados, a alta cardinalidade das features categóricas e os problemas em que o modelo não generaliza os dados.\n",
        "\n",
        "Por fim, busquei passar por várias etapas de tratamento de dados utilizando várias abordagens, mas vale lembrar que existem mais além das que foram apresentadas neste projeto.\n",
        "\n",
        "Caso tenha críticas ou sugestões, sinta-se à vontade para deixar um comentário."
      ]
    },
    {
      "cell_type": "markdown",
      "metadata": {
        "id": "yfLfU-ypBY-k"
      },
      "source": [
        "# Referências\n",
        "\n",
        "Sobre o problema de inadimplência:\n",
        "\n",
        "*   https://www.creditas.com/exponencial/analise-de-credito/\n",
        "\n",
        "*   https://www.contabilize.com/2019/08/02/cuidado-a-inadimplencia-ainda-vai-falir-a-sua-empresa/\n",
        "\n",
        "Sobre o tratamento de Outliers:\n",
        "\n",
        "* https://www.bixtecnologia.com/outliers-descubra-o-que-sao-e-como-contorna-los-em-sua-analise-de-dados/\n",
        "\n",
        "* https://machinelearningmastery.com/robust-scaler-transforms-for-machine-learning/\n",
        "\n",
        "* https://pub.towardsai.net/handling-outliers-in-machine-learning-f842d8f4c1dc\n",
        "\n",
        "* https://medium.com/analytics-vidhya/how-to-remove-outliers-for-machine-learning-24620c4657e8\n",
        "\n",
        "* https://medium.com/analytics-vidhya/how-to-handle-outliers-in-machine-learning-5d8105c708e5\n",
        "\n",
        "* https://www.neuraldesigner.com/blog/3_methods_to_deal_with_outliers\n",
        "\n",
        "Sobre os métodos Encoder:\n",
        "\n",
        "* https://www.analyticsvidhya.com/blog/2020/08/types-of-categorical-data-encoding/\n",
        "\n",
        "* https://www.kaggle.com/alexisbcook/categorical-variables\n",
        "\n",
        "* https://towardsdatascience.com/high-number-of-unique-values-and-tree-based-models-c30167b63edd\n",
        "\n",
        "Sobre a Maldição de Dimensionalidade (Curse of Dimensionality):\n",
        "\n",
        "* https://towardsdatascience.com/the-curse-of-dimensionality-50dc6e49aa1e\n",
        "\n",
        "Sobre o método de Balanceamento SMOTE:\n",
        "* https://towardsdatascience.com/stop-using-smote-to-handle-all-your-imbalanced-data-34403399d3be\n",
        "\n",
        "Sobre a área sob a curva ROC:\n",
        "* https://www.sciencedirect.com/science/article/pii/S1556086415306043\n",
        "\n",
        "Sobre a discrepância entre os desempenhos com dados de treino e teste:\n",
        "* https://machinelearningmastery.com/the-model-performance-mismatch-problem/"
      ]
    }
  ]
}