{
  "nbformat": 4,
  "nbformat_minor": 0,
  "metadata": {
    "colab": {
      "name": "Churn Prediction em Telecomunicações.ipynb",
      "provenance": [],
      "collapsed_sections": [
        "7a4fvSEPhMdG",
        "X1hrj-AwilMg",
        "ffZR3pljqtXt"
      ],
      "authorship_tag": "ABX9TyN+l1WiN57Mw393+hSCmlcF",
      "include_colab_link": true
    },
    "kernelspec": {
      "name": "python3",
      "display_name": "Python 3"
    },
    "language_info": {
      "name": "python"
    }
  },
  "cells": [
    {
      "cell_type": "markdown",
      "metadata": {
        "id": "view-in-github",
        "colab_type": "text"
      },
      "source": [
        "<a href=\"https://colab.research.google.com/github/octavianosilva/data_science/blob/main/Churn_Prediction_em_Telecomunica%C3%A7%C3%B5es.ipynb\" target=\"_parent\"><img src=\"https://colab.research.google.com/assets/colab-badge.svg\" alt=\"Open In Colab\"/></a>"
      ]
    },
    {
      "cell_type": "markdown",
      "metadata": {
        "id": "Vgiyn2wAKhgc"
      },
      "source": [
        "# Churn Prediction\n",
        "\n",
        "<center><img alt=\"Customer Success\"  src='https://dccomunic.com.br/wp-content/uploads/2020/09/Customer-success-o-que-e-e-quais-sao-as-vantagens-dessa-estrategia-para-o-seu-negocio-650x427.jpg'></center>\n",
        "\n",
        "No mundo dos negócios, empresas em que os clientes confiam na marca são as que mais crescem e se estabilizam no mercado, e isso se deve ao fato dessas empresas conseguirem reter esses clientes por meio de várias estratégias, que usam o Churn como base.\n",
        "\n",
        "Quando vemos uma empresa conquistar vários clientes, logo pensamos que ela é uma marca poderosa, porém nem toda empresa que recebe muitos clientes se torna sucedida, pois pode ser o caso de uma empresa que recebe vários clientes novos, mas que consegue reter apenas uma minoria destes.\n",
        "\n",
        "Para todo empresário, é conhecimento comum que o Custo de Aquisição de Cliente (CAC) pode ser até 15 vezes maior que reter um cliente atual, por isso que ter clientes fiéis à marca resulta em um negócio próspero e não o fato de receber muitos clientes.\n",
        "\n",
        "Agora que temos uma noção da importância de um negócio em reter clientes, vamos entender o que é o Churn e por qual razão ele é essencial para desenvolver uma estratégia de negócio.\n",
        "\n",
        "O Churn ou Churn Rate, é uma métrica que representa a taxa de perda em clientes e em receita, sendo o Churn de Receita mais conhecido como MRR Churn (Monthly Recurring Revenue).\n",
        "\n",
        "O Churn Rate se bem explorado, é capaz de apontar os pontos críticos que influenciaram na decisão do cliente em cancelar o serviço ou produto, como por exemplo, se uma empresa tem a estratégia de abrir espaço para o feedback do cliente, ela pode tomar medidas corretivas em cima deste feedack e evitar perder futuros clientes pelos mesmos motivos. Sendo assim, empresas que investem em um bom time de Customer Success para tomar decisões e desenvolver planos estratégicos com base no Churn, serão as que prosperarão.\n",
        "\n",
        "Com as decisões empresariais cada vez mais influenciadas por algoritmos de Machine Learning, temos como utilizar a métrica Churn para prever a chance de um cliente abandonar o serviço, ou produto, e obter insights das variáveis que mais impactam para a decisão deste cliente, e então tomar medidas estratégicas para evitar seu cancelamento no fim do contrato.\n",
        "\n",
        "Este método é chamado de Churn Prediction e será o objetivo deste projeto, em que analisaremos os dados de uma empresa de Telecomunicações.\n",
        "\n",
        "\n",
        " \n"
      ]
    },
    {
      "cell_type": "markdown",
      "metadata": {
        "id": "97Tj_OznIFsE"
      },
      "source": [
        "## Obtendo os Dados e Importando os Pacotes\n",
        "\n",
        "Os dados que serão utilizados neste projeto se encontram na [plataforma de ensino da IBM Developer](https://developer.ibm.com/technologies/data-science/patterns/predict-customer-churn-using-watson-studio-and-jupyter-notebooks/#), e apresentam informações relacionadas a uma empresa de Telecomunicações, que podem ser obtidas através deste [link](https://raw.githubusercontent.com/carlosfab/dsnp2/master/datasets/WA_Fn-UseC_-Telco-Customer-Churn.csv)."
      ]
    },
    {
      "cell_type": "code",
      "metadata": {
        "colab": {
          "base_uri": "https://localhost:8080/",
          "height": 17
        },
        "id": "64G7c84lSiNm",
        "outputId": "dcae8e24-e104-4e42-b174-6c5bc42cd68d"
      },
      "source": [
        "# Ignorar os alertas de atualizações\n",
        "from warnings import simplefilter\n",
        "simplefilter(action='ignore', category=FutureWarning)\n",
        "\n",
        "# Pacote que contém um grupo de bibliotecas - execute \"lazy_imports()\" para saber quais.\n",
        "!pip install pyforest -q\n",
        "import pyforest\n",
        "\n",
        "# Importações para o modelo de Machine Learning\n",
        "!pip install scikit-plot -q\n",
        "import scikitplot as skplt\n",
        "\n",
        "from sklearn.model_selection import cross_val_score\n",
        "from sklearn.model_selection import StratifiedKFold\n",
        "from sklearn.model_selection import RepeatedStratifiedKFold\n",
        "from sklearn.metrics import roc_auc_score, accuracy_score, f1_score, confusion_matrix, classification_report\n",
        "from scikitplot.metrics import plot_confusion_matrix, plot_roc\n",
        "from sklearn.pipeline import make_pipeline\n",
        "from sklearn.metrics import precision_recall_curve\n",
        "from sklearn.metrics import precision_score, recall_score\n",
        "from sklearn.model_selection import cross_val_predict\n",
        "\n",
        "from imblearn.under_sampling import RandomUnderSampler\n",
        "from sklearn.preprocessing import StandardScaler, MinMaxScaler, LabelEncoder\n",
        "from sklearn.model_selection import GridSearchCV\n",
        "from sklearn.ensemble import VotingClassifier\n",
        "\n",
        "from sklearn.linear_model import LogisticRegression\n",
        "from sklearn.tree import DecisionTreeClassifier\n",
        "from sklearn.ensemble import RandomForestClassifier\n",
        "from sklearn.svm import SVC\n",
        "from sklearn.naive_bayes import GaussianNB\n",
        "from xgboost import XGBClassifier\n",
        "\n",
        "# Replicabilidade\n",
        "np.random.seed(51)\n",
        "\n",
        "# Importando os Dados\n",
        "file_path = 'https://raw.githubusercontent.com/carlosfab/dsnp2/master/datasets/WA_Fn-UseC_-Telco-Customer-Churn.csv'\n",
        "df_raw = pd.read_csv(file_path)"
      ],
      "execution_count": null,
      "outputs": [
        {
          "output_type": "display_data",
          "data": {
            "application/javascript": [
              "\n",
              "        if (window._pyforest_update_imports_cell) { window._pyforest_update_imports_cell('from scipy import signal as sg\\nimport seaborn as sns\\nimport numpy as np\\nimport skimage\\nimport re\\nimport gensim\\nfrom statsmodels.tsa.arima_model import ARIMA\\nimport plotly as py\\nimport pickle\\nimport tqdm\\nimport spacy\\nfrom sklearn.linear_model import LassoCV\\nimport plotly.express as px\\nimport sklearn\\nimport cv2\\nfrom sklearn.feature_extraction.text import CountVectorizer\\nimport nltk\\nfrom openpyxl import load_workbook\\nfrom sklearn import svm\\nimport os\\nimport sys\\nfrom sklearn.linear_model import LinearRegression\\nimport fastai\\nimport fbprophet\\nfrom scipy import stats\\nfrom sklearn.ensemble import GradientBoostingRegressor\\nfrom sklearn import metrics\\nimport glob\\nimport torch\\nimport matplotlib.pyplot as plt\\nimport altair as alt\\nimport imutils\\nimport statistics\\nfrom sklearn.model_selection import train_test_split\\nimport textblob\\nimport bokeh\\nfrom sklearn.linear_model import Lasso\\nimport pydot\\nimport plotly.graph_objs as go\\nfrom sklearn.ensemble import GradientBoostingClassifier\\nimport statsmodels.api as sm\\nimport matplotlib as mpl\\nimport pandas as pd\\nimport lightgbm as lgb\\nimport tensorflow as tf'); }\n",
              "    "
            ],
            "text/plain": [
              "<IPython.core.display.Javascript object>"
            ]
          },
          "metadata": {
            "tags": []
          }
        },
        {
          "output_type": "display_data",
          "data": {
            "application/javascript": [
              "\n",
              "        if (window._pyforest_update_imports_cell) { window._pyforest_update_imports_cell('from scipy import signal as sg\\nimport seaborn as sns\\nimport numpy as np\\nimport skimage\\nimport re\\nimport gensim\\nfrom statsmodels.tsa.arima_model import ARIMA\\nimport plotly as py\\nimport pickle\\nimport tqdm\\nimport spacy\\nfrom sklearn.linear_model import LassoCV\\nimport plotly.express as px\\nimport sklearn\\nimport cv2\\nfrom sklearn.feature_extraction.text import CountVectorizer\\nimport nltk\\nfrom openpyxl import load_workbook\\nfrom sklearn import svm\\nimport os\\nimport sys\\nfrom sklearn.linear_model import LinearRegression\\nimport fastai\\nimport fbprophet\\nfrom scipy import stats\\nfrom sklearn.ensemble import GradientBoostingRegressor\\nfrom sklearn import metrics\\nimport glob\\nimport torch\\nimport matplotlib.pyplot as plt\\nimport altair as alt\\nimport imutils\\nimport statistics\\nfrom sklearn.model_selection import train_test_split\\nimport textblob\\nimport bokeh\\nfrom sklearn.linear_model import Lasso\\nimport pydot\\nimport plotly.graph_objs as go\\nfrom sklearn.ensemble import GradientBoostingClassifier\\nimport statsmodels.api as sm\\nimport matplotlib as mpl\\nimport pandas as pd\\nimport lightgbm as lgb\\nimport tensorflow as tf'); }\n",
              "    "
            ],
            "text/plain": [
              "<IPython.core.display.Javascript object>"
            ]
          },
          "metadata": {
            "tags": []
          }
        }
      ]
    },
    {
      "cell_type": "markdown",
      "metadata": {
        "id": "486LR0JEUqv1"
      },
      "source": [
        "# Análise Exploratória dos Dados\n",
        "\n",
        "Com os dados importados vamos iniciar com uma análise sobre o comportamento e o que estes dados representam:"
      ]
    },
    {
      "cell_type": "markdown",
      "metadata": {
        "id": "yIiCA9_loqhk"
      },
      "source": [
        "## Entendendo o DataSet"
      ]
    },
    {
      "cell_type": "code",
      "metadata": {
        "colab": {
          "base_uri": "https://localhost:8080/"
        },
        "id": "jaxKIerEWJfC",
        "outputId": "ccd0f2f1-4412-4ee6-fe73-061c11db595d"
      },
      "source": [
        "# Analisando a quantidade de entradas e variáveis\n",
        "df_raw.shape"
      ],
      "execution_count": null,
      "outputs": [
        {
          "output_type": "execute_result",
          "data": {
            "text/plain": [
              "(7043, 21)"
            ]
          },
          "metadata": {
            "tags": []
          },
          "execution_count": 2
        }
      ]
    },
    {
      "cell_type": "code",
      "metadata": {
        "colab": {
          "base_uri": "https://localhost:8080/"
        },
        "id": "xcrkAUvGWim6",
        "outputId": "ba48c201-762e-4e33-bf49-eb7666342cc8"
      },
      "source": [
        "# Analisando os tipos das variáveis\n",
        "df_raw.dtypes"
      ],
      "execution_count": null,
      "outputs": [
        {
          "output_type": "execute_result",
          "data": {
            "text/plain": [
              "customerID           object\n",
              "gender               object\n",
              "SeniorCitizen         int64\n",
              "Partner              object\n",
              "Dependents           object\n",
              "tenure                int64\n",
              "PhoneService         object\n",
              "MultipleLines        object\n",
              "InternetService      object\n",
              "OnlineSecurity       object\n",
              "OnlineBackup         object\n",
              "DeviceProtection     object\n",
              "TechSupport          object\n",
              "StreamingTV          object\n",
              "StreamingMovies      object\n",
              "Contract             object\n",
              "PaperlessBilling     object\n",
              "PaymentMethod        object\n",
              "MonthlyCharges      float64\n",
              "TotalCharges         object\n",
              "Churn                object\n",
              "dtype: object"
            ]
          },
          "metadata": {
            "tags": []
          },
          "execution_count": 3
        }
      ]
    },
    {
      "cell_type": "code",
      "metadata": {
        "colab": {
          "base_uri": "https://localhost:8080/"
        },
        "id": "KBvTf2USX9M9",
        "outputId": "d651de0a-8267-4613-c4f0-f6b06239c68b"
      },
      "source": [
        "# Analisando a presença de dados ausentes\n",
        "df_raw.isnull().values.sum()"
      ],
      "execution_count": null,
      "outputs": [
        {
          "output_type": "execute_result",
          "data": {
            "text/plain": [
              "0"
            ]
          },
          "metadata": {
            "tags": []
          },
          "execution_count": 4
        }
      ]
    },
    {
      "cell_type": "markdown",
      "metadata": {
        "id": "96zOAf8yYiD1"
      },
      "source": [
        "Temos um DataSet com 7 mil entradas e 21 variáveis predominantemente do tipo objeto, além do mais, inicialmente não detectamos dados ausentes.\n",
        "\n",
        "Agora vamos dar uma olhada nas primeiras entradas do DataFrame e na quantidade de valores únicos por coluna:"
      ]
    },
    {
      "cell_type": "code",
      "metadata": {
        "colab": {
          "base_uri": "https://localhost:8080/",
          "height": 305
        },
        "id": "04tG0tqGfSOb",
        "outputId": "04526c4b-cded-4f66-b800-33988bd701c0"
      },
      "source": [
        "# Observando as 5 primeiras entradas do Dataset\n",
        "df_raw.head()"
      ],
      "execution_count": null,
      "outputs": [
        {
          "output_type": "execute_result",
          "data": {
            "text/html": [
              "<div>\n",
              "<style scoped>\n",
              "    .dataframe tbody tr th:only-of-type {\n",
              "        vertical-align: middle;\n",
              "    }\n",
              "\n",
              "    .dataframe tbody tr th {\n",
              "        vertical-align: top;\n",
              "    }\n",
              "\n",
              "    .dataframe thead th {\n",
              "        text-align: right;\n",
              "    }\n",
              "</style>\n",
              "<table border=\"1\" class=\"dataframe\">\n",
              "  <thead>\n",
              "    <tr style=\"text-align: right;\">\n",
              "      <th></th>\n",
              "      <th>customerID</th>\n",
              "      <th>gender</th>\n",
              "      <th>SeniorCitizen</th>\n",
              "      <th>Partner</th>\n",
              "      <th>Dependents</th>\n",
              "      <th>tenure</th>\n",
              "      <th>PhoneService</th>\n",
              "      <th>MultipleLines</th>\n",
              "      <th>InternetService</th>\n",
              "      <th>OnlineSecurity</th>\n",
              "      <th>OnlineBackup</th>\n",
              "      <th>DeviceProtection</th>\n",
              "      <th>TechSupport</th>\n",
              "      <th>StreamingTV</th>\n",
              "      <th>StreamingMovies</th>\n",
              "      <th>Contract</th>\n",
              "      <th>PaperlessBilling</th>\n",
              "      <th>PaymentMethod</th>\n",
              "      <th>MonthlyCharges</th>\n",
              "      <th>TotalCharges</th>\n",
              "      <th>Churn</th>\n",
              "    </tr>\n",
              "  </thead>\n",
              "  <tbody>\n",
              "    <tr>\n",
              "      <th>0</th>\n",
              "      <td>7590-VHVEG</td>\n",
              "      <td>Female</td>\n",
              "      <td>0</td>\n",
              "      <td>Yes</td>\n",
              "      <td>No</td>\n",
              "      <td>1</td>\n",
              "      <td>No</td>\n",
              "      <td>No phone service</td>\n",
              "      <td>DSL</td>\n",
              "      <td>No</td>\n",
              "      <td>Yes</td>\n",
              "      <td>No</td>\n",
              "      <td>No</td>\n",
              "      <td>No</td>\n",
              "      <td>No</td>\n",
              "      <td>Month-to-month</td>\n",
              "      <td>Yes</td>\n",
              "      <td>Electronic check</td>\n",
              "      <td>29.85</td>\n",
              "      <td>29.85</td>\n",
              "      <td>No</td>\n",
              "    </tr>\n",
              "    <tr>\n",
              "      <th>1</th>\n",
              "      <td>5575-GNVDE</td>\n",
              "      <td>Male</td>\n",
              "      <td>0</td>\n",
              "      <td>No</td>\n",
              "      <td>No</td>\n",
              "      <td>34</td>\n",
              "      <td>Yes</td>\n",
              "      <td>No</td>\n",
              "      <td>DSL</td>\n",
              "      <td>Yes</td>\n",
              "      <td>No</td>\n",
              "      <td>Yes</td>\n",
              "      <td>No</td>\n",
              "      <td>No</td>\n",
              "      <td>No</td>\n",
              "      <td>One year</td>\n",
              "      <td>No</td>\n",
              "      <td>Mailed check</td>\n",
              "      <td>56.95</td>\n",
              "      <td>1889.5</td>\n",
              "      <td>No</td>\n",
              "    </tr>\n",
              "    <tr>\n",
              "      <th>2</th>\n",
              "      <td>3668-QPYBK</td>\n",
              "      <td>Male</td>\n",
              "      <td>0</td>\n",
              "      <td>No</td>\n",
              "      <td>No</td>\n",
              "      <td>2</td>\n",
              "      <td>Yes</td>\n",
              "      <td>No</td>\n",
              "      <td>DSL</td>\n",
              "      <td>Yes</td>\n",
              "      <td>Yes</td>\n",
              "      <td>No</td>\n",
              "      <td>No</td>\n",
              "      <td>No</td>\n",
              "      <td>No</td>\n",
              "      <td>Month-to-month</td>\n",
              "      <td>Yes</td>\n",
              "      <td>Mailed check</td>\n",
              "      <td>53.85</td>\n",
              "      <td>108.15</td>\n",
              "      <td>Yes</td>\n",
              "    </tr>\n",
              "    <tr>\n",
              "      <th>3</th>\n",
              "      <td>7795-CFOCW</td>\n",
              "      <td>Male</td>\n",
              "      <td>0</td>\n",
              "      <td>No</td>\n",
              "      <td>No</td>\n",
              "      <td>45</td>\n",
              "      <td>No</td>\n",
              "      <td>No phone service</td>\n",
              "      <td>DSL</td>\n",
              "      <td>Yes</td>\n",
              "      <td>No</td>\n",
              "      <td>Yes</td>\n",
              "      <td>Yes</td>\n",
              "      <td>No</td>\n",
              "      <td>No</td>\n",
              "      <td>One year</td>\n",
              "      <td>No</td>\n",
              "      <td>Bank transfer (automatic)</td>\n",
              "      <td>42.30</td>\n",
              "      <td>1840.75</td>\n",
              "      <td>No</td>\n",
              "    </tr>\n",
              "    <tr>\n",
              "      <th>4</th>\n",
              "      <td>9237-HQITU</td>\n",
              "      <td>Female</td>\n",
              "      <td>0</td>\n",
              "      <td>No</td>\n",
              "      <td>No</td>\n",
              "      <td>2</td>\n",
              "      <td>Yes</td>\n",
              "      <td>No</td>\n",
              "      <td>Fiber optic</td>\n",
              "      <td>No</td>\n",
              "      <td>No</td>\n",
              "      <td>No</td>\n",
              "      <td>No</td>\n",
              "      <td>No</td>\n",
              "      <td>No</td>\n",
              "      <td>Month-to-month</td>\n",
              "      <td>Yes</td>\n",
              "      <td>Electronic check</td>\n",
              "      <td>70.70</td>\n",
              "      <td>151.65</td>\n",
              "      <td>Yes</td>\n",
              "    </tr>\n",
              "  </tbody>\n",
              "</table>\n",
              "</div>"
            ],
            "text/plain": [
              "   customerID  gender  SeniorCitizen  ... MonthlyCharges TotalCharges  Churn\n",
              "0  7590-VHVEG  Female              0  ...          29.85        29.85     No\n",
              "1  5575-GNVDE    Male              0  ...          56.95       1889.5     No\n",
              "2  3668-QPYBK    Male              0  ...          53.85       108.15    Yes\n",
              "3  7795-CFOCW    Male              0  ...          42.30      1840.75     No\n",
              "4  9237-HQITU  Female              0  ...          70.70       151.65    Yes\n",
              "\n",
              "[5 rows x 21 columns]"
            ]
          },
          "metadata": {
            "tags": []
          },
          "execution_count": 5
        }
      ]
    },
    {
      "cell_type": "code",
      "metadata": {
        "colab": {
          "base_uri": "https://localhost:8080/"
        },
        "id": "eBOzWs9JiV95",
        "outputId": "5efe571c-7d41-4e81-a295-a31ed2bb1484"
      },
      "source": [
        "# Analisando a quantidade de valores únicos por coluna\n",
        "df_raw.nunique()"
      ],
      "execution_count": null,
      "outputs": [
        {
          "output_type": "execute_result",
          "data": {
            "text/plain": [
              "customerID          7043\n",
              "gender                 2\n",
              "SeniorCitizen          2\n",
              "Partner                2\n",
              "Dependents             2\n",
              "tenure                73\n",
              "PhoneService           2\n",
              "MultipleLines          3\n",
              "InternetService        3\n",
              "OnlineSecurity         3\n",
              "OnlineBackup           3\n",
              "DeviceProtection       3\n",
              "TechSupport            3\n",
              "StreamingTV            3\n",
              "StreamingMovies        3\n",
              "Contract               3\n",
              "PaperlessBilling       2\n",
              "PaymentMethod          4\n",
              "MonthlyCharges      1585\n",
              "TotalCharges        6531\n",
              "Churn                  2\n",
              "dtype: int64"
            ]
          },
          "metadata": {
            "tags": []
          },
          "execution_count": 6
        }
      ]
    },
    {
      "cell_type": "markdown",
      "metadata": {
        "id": "9PPFzcBJgwJ4"
      },
      "source": [
        "Observando as primeiras entradas do DataFrame  e da quantidade de dados únicos de cada variável, podemos perceber que:\n",
        "\n",
        "* Existem várias colunas binárias e categóricas, mas estão referenciadas como objeto e não valores numéricos;\n",
        "* A variável `TotalCharges` está como float no DataFrame, porém é referenciada como sendo do tipo objeto;\n",
        "* A variável `customerID` é apenas uma referência única para cada cliente, então não possui informações relevantes.\n",
        "* A variável `Churn` é o nosso alvo, porém deveria ser binária e não do tipo objeto.\n",
        "\n",
        "Com essas informações, vamos iniciar o tratamento destes dados:"
      ]
    },
    {
      "cell_type": "markdown",
      "metadata": {
        "id": "EF8I7TDYovkm"
      },
      "source": [
        "## Tratando os Dados\n",
        "\n",
        "Primeiramente vamos remover a variável `customerID` e depois converter as outras variáveis para tipos numéricos:"
      ]
    },
    {
      "cell_type": "code",
      "metadata": {
        "id": "1ppfrOw6oXy2"
      },
      "source": [
        "# Criando um novo DataSet para os novos dados\n",
        "df_tratado = df_raw.copy()\n",
        "\n",
        "# Removendo a variável customerID\n",
        "df_tratado.drop('customerID', axis=1, inplace=True)\n",
        "\n",
        "# Converter a variável TotalCharges para float\n",
        "# df_tratado['TotalCharges'] = df_tratado['TotalCharges'].astype(float)\n"
      ],
      "execution_count": null,
      "outputs": []
    },
    {
      "cell_type": "markdown",
      "metadata": {
        "id": "LtJUOKoEsmm0"
      },
      "source": [
        "Quando tentamos converter a variável `TotalCharges` diretamente, temos um erro causado pela existência de dados não numéricos entre as entradas, assim teremos que converter esses dados não numéricos em dados ausentes(NaN)."
      ]
    },
    {
      "cell_type": "code",
      "metadata": {
        "colab": {
          "base_uri": "https://localhost:8080/",
          "height": 35
        },
        "id": "76PyYU73tUMs",
        "outputId": "d5250c6d-88a2-458e-a347-c924ed614ddd"
      },
      "source": [
        "# Criando uma função para retornar dados convertidos e NaN's\n",
        "def converter_totalcharges(entrada):\n",
        "  try:\n",
        "    return float(entrada)\n",
        "  except ValueError:\n",
        "    return np.nan\n",
        "\n",
        "# Converter a variável TotalCharges\n",
        "df_tratado['TotalCharges'] = df_tratado['TotalCharges'].apply(converter_totalcharges)\n",
        "\n",
        "# Ver a quantidade de dados ausentes presentes na variável TotalCharges\n",
        "print(\"Quantidade de dados ausentes na variável 'TotalCharges':\", df_tratado['TotalCharges'].isnull().sum())\n",
        "\n",
        "# Preencher os valores ausentes\n",
        "mediana_totalcharges = df_tratado.TotalCharges.median()\n",
        "df_tratado['TotalCharges'].fillna(mediana_totalcharges, inplace=True)"
      ],
      "execution_count": null,
      "outputs": [
        {
          "output_type": "display_data",
          "data": {
            "application/javascript": [
              "\n",
              "        if (window._pyforest_update_imports_cell) { window._pyforest_update_imports_cell('import numpy as np\\nimport pandas as pd'); }\n",
              "    "
            ],
            "text/plain": [
              "<IPython.core.display.Javascript object>"
            ]
          },
          "metadata": {
            "tags": []
          }
        },
        {
          "output_type": "display_data",
          "data": {
            "application/javascript": [
              "\n",
              "        if (window._pyforest_update_imports_cell) { window._pyforest_update_imports_cell('import numpy as np\\nimport pandas as pd'); }\n",
              "    "
            ],
            "text/plain": [
              "<IPython.core.display.Javascript object>"
            ]
          },
          "metadata": {
            "tags": []
          }
        },
        {
          "output_type": "display_data",
          "data": {
            "application/javascript": [
              "\n",
              "        if (window._pyforest_update_imports_cell) { window._pyforest_update_imports_cell('import numpy as np\\nimport pandas as pd'); }\n",
              "    "
            ],
            "text/plain": [
              "<IPython.core.display.Javascript object>"
            ]
          },
          "metadata": {
            "tags": []
          }
        },
        {
          "output_type": "display_data",
          "data": {
            "application/javascript": [
              "\n",
              "        if (window._pyforest_update_imports_cell) { window._pyforest_update_imports_cell('import numpy as np\\nimport pandas as pd'); }\n",
              "    "
            ],
            "text/plain": [
              "<IPython.core.display.Javascript object>"
            ]
          },
          "metadata": {
            "tags": []
          }
        },
        {
          "output_type": "display_data",
          "data": {
            "application/javascript": [
              "\n",
              "        if (window._pyforest_update_imports_cell) { window._pyforest_update_imports_cell('import numpy as np\\nimport pandas as pd'); }\n",
              "    "
            ],
            "text/plain": [
              "<IPython.core.display.Javascript object>"
            ]
          },
          "metadata": {
            "tags": []
          }
        },
        {
          "output_type": "display_data",
          "data": {
            "application/javascript": [
              "\n",
              "        if (window._pyforest_update_imports_cell) { window._pyforest_update_imports_cell('import numpy as np\\nimport pandas as pd'); }\n",
              "    "
            ],
            "text/plain": [
              "<IPython.core.display.Javascript object>"
            ]
          },
          "metadata": {
            "tags": []
          }
        },
        {
          "output_type": "display_data",
          "data": {
            "application/javascript": [
              "\n",
              "        if (window._pyforest_update_imports_cell) { window._pyforest_update_imports_cell('import numpy as np\\nimport pandas as pd'); }\n",
              "    "
            ],
            "text/plain": [
              "<IPython.core.display.Javascript object>"
            ]
          },
          "metadata": {
            "tags": []
          }
        },
        {
          "output_type": "display_data",
          "data": {
            "application/javascript": [
              "\n",
              "        if (window._pyforest_update_imports_cell) { window._pyforest_update_imports_cell('import numpy as np\\nimport pandas as pd'); }\n",
              "    "
            ],
            "text/plain": [
              "<IPython.core.display.Javascript object>"
            ]
          },
          "metadata": {
            "tags": []
          }
        },
        {
          "output_type": "display_data",
          "data": {
            "application/javascript": [
              "\n",
              "        if (window._pyforest_update_imports_cell) { window._pyforest_update_imports_cell('import numpy as np\\nimport pandas as pd'); }\n",
              "    "
            ],
            "text/plain": [
              "<IPython.core.display.Javascript object>"
            ]
          },
          "metadata": {
            "tags": []
          }
        },
        {
          "output_type": "display_data",
          "data": {
            "application/javascript": [
              "\n",
              "        if (window._pyforest_update_imports_cell) { window._pyforest_update_imports_cell('import numpy as np\\nimport pandas as pd'); }\n",
              "    "
            ],
            "text/plain": [
              "<IPython.core.display.Javascript object>"
            ]
          },
          "metadata": {
            "tags": []
          }
        },
        {
          "output_type": "display_data",
          "data": {
            "application/javascript": [
              "\n",
              "        if (window._pyforest_update_imports_cell) { window._pyforest_update_imports_cell('import numpy as np\\nimport pandas as pd'); }\n",
              "    "
            ],
            "text/plain": [
              "<IPython.core.display.Javascript object>"
            ]
          },
          "metadata": {
            "tags": []
          }
        },
        {
          "output_type": "stream",
          "text": [
            "Quantidade de dados ausentes na variável 'TotalCharges': 11\n"
          ],
          "name": "stdout"
        }
      ]
    },
    {
      "cell_type": "markdown",
      "metadata": {
        "id": "ir7q6u4vxjPT"
      },
      "source": [
        "Temos que a variável `TotalCharges` possuía 11 valores ausentes, mas que agora foram preenchidos pela mediana da coluna.\n",
        "\n",
        "Pelo método `describe` podemos observar o descritivo estatístico do DataSet:\n"
      ]
    },
    {
      "cell_type": "code",
      "metadata": {
        "colab": {
          "base_uri": "https://localhost:8080/",
          "height": 288
        },
        "id": "1lAe8iaLyjbU",
        "outputId": "37d572e2-d4f6-4880-d921-26d7eddce4e7"
      },
      "source": [
        "# Observando o descritivo estatístico\n",
        "df_tratado.describe()"
      ],
      "execution_count": null,
      "outputs": [
        {
          "output_type": "execute_result",
          "data": {
            "text/html": [
              "<div>\n",
              "<style scoped>\n",
              "    .dataframe tbody tr th:only-of-type {\n",
              "        vertical-align: middle;\n",
              "    }\n",
              "\n",
              "    .dataframe tbody tr th {\n",
              "        vertical-align: top;\n",
              "    }\n",
              "\n",
              "    .dataframe thead th {\n",
              "        text-align: right;\n",
              "    }\n",
              "</style>\n",
              "<table border=\"1\" class=\"dataframe\">\n",
              "  <thead>\n",
              "    <tr style=\"text-align: right;\">\n",
              "      <th></th>\n",
              "      <th>SeniorCitizen</th>\n",
              "      <th>tenure</th>\n",
              "      <th>MonthlyCharges</th>\n",
              "      <th>TotalCharges</th>\n",
              "    </tr>\n",
              "  </thead>\n",
              "  <tbody>\n",
              "    <tr>\n",
              "      <th>count</th>\n",
              "      <td>7043.000000</td>\n",
              "      <td>7043.000000</td>\n",
              "      <td>7043.000000</td>\n",
              "      <td>7043.000000</td>\n",
              "    </tr>\n",
              "    <tr>\n",
              "      <th>mean</th>\n",
              "      <td>0.162147</td>\n",
              "      <td>32.371149</td>\n",
              "      <td>64.761692</td>\n",
              "      <td>2281.916928</td>\n",
              "    </tr>\n",
              "    <tr>\n",
              "      <th>std</th>\n",
              "      <td>0.368612</td>\n",
              "      <td>24.559481</td>\n",
              "      <td>30.090047</td>\n",
              "      <td>2265.270398</td>\n",
              "    </tr>\n",
              "    <tr>\n",
              "      <th>min</th>\n",
              "      <td>0.000000</td>\n",
              "      <td>0.000000</td>\n",
              "      <td>18.250000</td>\n",
              "      <td>18.800000</td>\n",
              "    </tr>\n",
              "    <tr>\n",
              "      <th>25%</th>\n",
              "      <td>0.000000</td>\n",
              "      <td>9.000000</td>\n",
              "      <td>35.500000</td>\n",
              "      <td>402.225000</td>\n",
              "    </tr>\n",
              "    <tr>\n",
              "      <th>50%</th>\n",
              "      <td>0.000000</td>\n",
              "      <td>29.000000</td>\n",
              "      <td>70.350000</td>\n",
              "      <td>1397.475000</td>\n",
              "    </tr>\n",
              "    <tr>\n",
              "      <th>75%</th>\n",
              "      <td>0.000000</td>\n",
              "      <td>55.000000</td>\n",
              "      <td>89.850000</td>\n",
              "      <td>3786.600000</td>\n",
              "    </tr>\n",
              "    <tr>\n",
              "      <th>max</th>\n",
              "      <td>1.000000</td>\n",
              "      <td>72.000000</td>\n",
              "      <td>118.750000</td>\n",
              "      <td>8684.800000</td>\n",
              "    </tr>\n",
              "  </tbody>\n",
              "</table>\n",
              "</div>"
            ],
            "text/plain": [
              "       SeniorCitizen       tenure  MonthlyCharges  TotalCharges\n",
              "count    7043.000000  7043.000000     7043.000000   7043.000000\n",
              "mean        0.162147    32.371149       64.761692   2281.916928\n",
              "std         0.368612    24.559481       30.090047   2265.270398\n",
              "min         0.000000     0.000000       18.250000     18.800000\n",
              "25%         0.000000     9.000000       35.500000    402.225000\n",
              "50%         0.000000    29.000000       70.350000   1397.475000\n",
              "75%         0.000000    55.000000       89.850000   3786.600000\n",
              "max         1.000000    72.000000      118.750000   8684.800000"
            ]
          },
          "metadata": {
            "tags": []
          },
          "execution_count": 9
        }
      ]
    },
    {
      "cell_type": "markdown",
      "metadata": {
        "id": "BsJlbGlhyy5N"
      },
      "source": [
        "Pelo descritivo, não há evidências de outliers no DataSet, vamos plotar o boxplot para as variáveis `MonthlyCharges` e `TotalCharges`,\n",
        "vale lembrar que a variável `SeniorCitizen` é uma variável binária, mas ainda não a convertemos."
      ]
    },
    {
      "cell_type": "code",
      "metadata": {
        "colab": {
          "base_uri": "https://localhost:8080/",
          "height": 244
        },
        "id": "2sRR92hb4jW3",
        "outputId": "f7bfd5e9-165b-4bd0-98b1-117eaae32fdd"
      },
      "source": [
        "# Plotar os Boxplots para as variáveis MonthlyCharges e TotalCharges\n",
        "fig, ax = plt.subplots(nrows=1, ncols=3, figsize=(12,4))\n",
        "\n",
        "sns.boxplot(df_tratado['MonthlyCharges'], ax=ax[0])\n",
        "sns.boxplot(df_tratado['TotalCharges'], ax=ax[1])\n",
        "sns.boxplot(df_tratado['tenure'], ax=ax[2])\n",
        "\n",
        "plt.tight_layout();\n",
        "fig.savefig('boxplots')"
      ],
      "execution_count": null,
      "outputs": [
        {
          "output_type": "display_data",
          "data": {
            "application/javascript": [
              "\n",
              "        if (window._pyforest_update_imports_cell) { window._pyforest_update_imports_cell('import numpy as np\\nimport matplotlib.pyplot as plt\\nimport pandas as pd'); }\n",
              "    "
            ],
            "text/plain": [
              "<IPython.core.display.Javascript object>"
            ]
          },
          "metadata": {
            "tags": []
          }
        },
        {
          "output_type": "display_data",
          "data": {
            "application/javascript": [
              "\n",
              "        if (window._pyforest_update_imports_cell) { window._pyforest_update_imports_cell('import numpy as np\\nimport matplotlib.pyplot as plt\\nimport seaborn as sns\\nimport pandas as pd'); }\n",
              "    "
            ],
            "text/plain": [
              "<IPython.core.display.Javascript object>"
            ]
          },
          "metadata": {
            "tags": []
          }
        },
        {
          "output_type": "display_data",
          "data": {
            "application/javascript": [
              "\n",
              "        if (window._pyforest_update_imports_cell) { window._pyforest_update_imports_cell('import numpy as np\\nimport matplotlib.pyplot as plt\\nimport seaborn as sns\\nimport pandas as pd'); }\n",
              "    "
            ],
            "text/plain": [
              "<IPython.core.display.Javascript object>"
            ]
          },
          "metadata": {
            "tags": []
          }
        },
        {
          "output_type": "display_data",
          "data": {
            "application/javascript": [
              "\n",
              "        if (window._pyforest_update_imports_cell) { window._pyforest_update_imports_cell('import numpy as np\\nimport matplotlib.pyplot as plt\\nimport seaborn as sns\\nimport pandas as pd'); }\n",
              "    "
            ],
            "text/plain": [
              "<IPython.core.display.Javascript object>"
            ]
          },
          "metadata": {
            "tags": []
          }
        },
        {
          "output_type": "display_data",
          "data": {
            "application/javascript": [
              "\n",
              "        if (window._pyforest_update_imports_cell) { window._pyforest_update_imports_cell('import numpy as np\\nimport matplotlib.pyplot as plt\\nimport seaborn as sns\\nimport pandas as pd'); }\n",
              "    "
            ],
            "text/plain": [
              "<IPython.core.display.Javascript object>"
            ]
          },
          "metadata": {
            "tags": []
          }
        },
        {
          "output_type": "display_data",
          "data": {
            "image/png": "[encoded data removed]",
            "text/plain": [
              "<Figure size 864x288 with 3 Axes>"
            ]
          },
          "metadata": {
            "tags": [],
            "needs_background": "light"
          }
        }
      ]
    },
    {
      "cell_type": "markdown",
      "metadata": {
        "id": "3zymKBds9EzA"
      },
      "source": [
        "Pelo Boxplot, a distribuição das variáveis estão dentro dos limites superiores e inferiores, então podemos concluir que não há outliers, também vemos com mais facilidade que as variáveis `MonthlyCharges` e `TotalCharges` estão com valores bem discrepantes, ou seja, teremos que padronizá-los.\n",
        "\n",
        "A variável `tenure` não possui descrição na documentação, mas assumiremos que ela corresponde ao tempo (em meses) que um cliente permanece com o serviço contratado, as variáveis `MonthlyCharge` e `TotalCharges` reforçam essa ideia se observarmos as entradas em que `tenure` é igual a 1."
      ]
    },
    {
      "cell_type": "code",
      "metadata": {
        "colab": {
          "base_uri": "https://localhost:8080/",
          "height": 198
        },
        "id": "4FT1lsbqJBqA",
        "outputId": "92d91866-4fc7-4b29-dd71-9ba810366527"
      },
      "source": [
        "# Validando a hipótese acima para as entradas em que a variável tenure = 1\n",
        "validacao = df_tratado.loc[df_tratado['tenure'] ==1]\n",
        "validacao = validacao[['MonthlyCharges','TotalCharges']]\n",
        "validacao.head()"
      ],
      "execution_count": null,
      "outputs": [
        {
          "output_type": "execute_result",
          "data": {
            "text/html": [
              "<div>\n",
              "<style scoped>\n",
              "    .dataframe tbody tr th:only-of-type {\n",
              "        vertical-align: middle;\n",
              "    }\n",
              "\n",
              "    .dataframe tbody tr th {\n",
              "        vertical-align: top;\n",
              "    }\n",
              "\n",
              "    .dataframe thead th {\n",
              "        text-align: right;\n",
              "    }\n",
              "</style>\n",
              "<table border=\"1\" class=\"dataframe\">\n",
              "  <thead>\n",
              "    <tr style=\"text-align: right;\">\n",
              "      <th></th>\n",
              "      <th>MonthlyCharges</th>\n",
              "      <th>TotalCharges</th>\n",
              "    </tr>\n",
              "  </thead>\n",
              "  <tbody>\n",
              "    <tr>\n",
              "      <th>0</th>\n",
              "      <td>29.85</td>\n",
              "      <td>29.85</td>\n",
              "    </tr>\n",
              "    <tr>\n",
              "      <th>20</th>\n",
              "      <td>39.65</td>\n",
              "      <td>39.65</td>\n",
              "    </tr>\n",
              "    <tr>\n",
              "      <th>22</th>\n",
              "      <td>20.15</td>\n",
              "      <td>20.15</td>\n",
              "    </tr>\n",
              "    <tr>\n",
              "      <th>27</th>\n",
              "      <td>30.20</td>\n",
              "      <td>30.20</td>\n",
              "    </tr>\n",
              "    <tr>\n",
              "      <th>33</th>\n",
              "      <td>20.20</td>\n",
              "      <td>20.20</td>\n",
              "    </tr>\n",
              "  </tbody>\n",
              "</table>\n",
              "</div>"
            ],
            "text/plain": [
              "    MonthlyCharges  TotalCharges\n",
              "0            29.85         29.85\n",
              "20           39.65         39.65\n",
              "22           20.15         20.15\n",
              "27           30.20         30.20\n",
              "33           20.20         20.20"
            ]
          },
          "metadata": {
            "tags": []
          },
          "execution_count": 11
        }
      ]
    },
    {
      "cell_type": "markdown",
      "metadata": {
        "id": "gyhHLug5LKw-"
      },
      "source": [
        "Como assumiremos que a variável `tenure` é relacionada ao tempo, vamos plotar um countplot para ela:"
      ]
    },
    {
      "cell_type": "code",
      "metadata": {
        "colab": {
          "base_uri": "https://localhost:8080/",
          "height": 244
        },
        "id": "5kwv_LaRLdlB",
        "outputId": "d9ab8499-8f46-4796-ef4a-86982b1503a7"
      },
      "source": [
        "# Plotando um countplot\n",
        "fig, ax = plt.subplots(figsize=(12,4))\n",
        "\n",
        "sns.countplot(df_tratado['tenure'])\n",
        "\n",
        "plt.tight_layout();\n",
        "fig.savefig('tenure_coutplot')"
      ],
      "execution_count": null,
      "outputs": [
        {
          "output_type": "display_data",
          "data": {
            "application/javascript": [
              "\n",
              "        if (window._pyforest_update_imports_cell) { window._pyforest_update_imports_cell('import numpy as np\\nimport matplotlib.pyplot as plt\\nimport seaborn as sns\\nimport pandas as pd'); }\n",
              "    "
            ],
            "text/plain": [
              "<IPython.core.display.Javascript object>"
            ]
          },
          "metadata": {
            "tags": []
          }
        },
        {
          "output_type": "display_data",
          "data": {
            "application/javascript": [
              "\n",
              "        if (window._pyforest_update_imports_cell) { window._pyforest_update_imports_cell('import numpy as np\\nimport matplotlib.pyplot as plt\\nimport seaborn as sns\\nimport pandas as pd'); }\n",
              "    "
            ],
            "text/plain": [
              "<IPython.core.display.Javascript object>"
            ]
          },
          "metadata": {
            "tags": []
          }
        },
        {
          "output_type": "display_data",
          "data": {
            "application/javascript": [
              "\n",
              "        if (window._pyforest_update_imports_cell) { window._pyforest_update_imports_cell('import numpy as np\\nimport matplotlib.pyplot as plt\\nimport seaborn as sns\\nimport pandas as pd'); }\n",
              "    "
            ],
            "text/plain": [
              "<IPython.core.display.Javascript object>"
            ]
          },
          "metadata": {
            "tags": []
          }
        },
        {
          "output_type": "display_data",
          "data": {
            "image/png": "[encoded data removed]",
            "text/plain": [
              "<Figure size 864x288 with 1 Axes>"
            ]
          },
          "metadata": {
            "tags": [],
            "needs_background": "light"
          }
        }
      ]
    },
    {
      "cell_type": "markdown",
      "metadata": {
        "id": "y_9eVppwNWke"
      },
      "source": [
        "Agora que analisamos a presença de outliers, vamos seguir com a conversão das variáveis binárias e categóricas.\n",
        "\n",
        "Como temos a variável `gender`, em situações em que há uma desbalanceamento nesta feature, podem ocorrer o problema de bias, onde um determinado sexo pode ser bastante prejudicado durante as previsões, causando assim grandes prejuízos, porém para o problema de Churn abordado neste projeto, esses prejuízos não causarão danos relevantes à classe injustiçada.\n",
        "\n",
        "Vamos ao menos checar o balanceamento desta feature:"
      ]
    },
    {
      "cell_type": "code",
      "metadata": {
        "colab": {
          "base_uri": "https://localhost:8080/",
          "height": 297
        },
        "id": "ACCprhNsQS-N",
        "outputId": "0c736f0c-bb3f-4a57-dd18-6c909854a5e4"
      },
      "source": [
        "# Plotando o countplot para a variável gender\n",
        "fig, ax = plt.subplots()\n",
        "\n",
        "sns.countplot(df_tratado.gender)\n",
        "\n",
        "plt.tight_layout();"
      ],
      "execution_count": null,
      "outputs": [
        {
          "output_type": "display_data",
          "data": {
            "application/javascript": [
              "\n",
              "        if (window._pyforest_update_imports_cell) { window._pyforest_update_imports_cell('import numpy as np\\nimport matplotlib.pyplot as plt\\nimport seaborn as sns\\nimport pandas as pd'); }\n",
              "    "
            ],
            "text/plain": [
              "<IPython.core.display.Javascript object>"
            ]
          },
          "metadata": {
            "tags": []
          }
        },
        {
          "output_type": "display_data",
          "data": {
            "application/javascript": [
              "\n",
              "        if (window._pyforest_update_imports_cell) { window._pyforest_update_imports_cell('import numpy as np\\nimport matplotlib.pyplot as plt\\nimport seaborn as sns\\nimport pandas as pd'); }\n",
              "    "
            ],
            "text/plain": [
              "<IPython.core.display.Javascript object>"
            ]
          },
          "metadata": {
            "tags": []
          }
        },
        {
          "output_type": "display_data",
          "data": {
            "application/javascript": [
              "\n",
              "        if (window._pyforest_update_imports_cell) { window._pyforest_update_imports_cell('import numpy as np\\nimport matplotlib.pyplot as plt\\nimport seaborn as sns\\nimport pandas as pd'); }\n",
              "    "
            ],
            "text/plain": [
              "<IPython.core.display.Javascript object>"
            ]
          },
          "metadata": {
            "tags": []
          }
        },
        {
          "output_type": "display_data",
          "data": {
            "image/png": "[encoded data removed]",
            "text/plain": [
              "<Figure size 432x288 with 1 Axes>"
            ]
          },
          "metadata": {
            "tags": [],
            "needs_background": "light"
          }
        }
      ]
    },
    {
      "cell_type": "markdown",
      "metadata": {
        "id": "yhws314xQtnN"
      },
      "source": [
        "Temos que a variável `gender` está balanceada.\n",
        "\n",
        "Agora vamos checar o balanceamento da variável alvo `Churn`, que será essencial para o modelo de Machine Learning que será desenvolvido:\n",
        "\n"
      ]
    },
    {
      "cell_type": "code",
      "metadata": {
        "colab": {
          "base_uri": "https://localhost:8080/",
          "height": 297
        },
        "id": "UjhJmD3jVahm",
        "outputId": "77b7e6e4-a230-46a9-85f8-f676b7a8e597"
      },
      "source": [
        "# Plotando o countplot para a variável Churn\n",
        "fig, ax = plt.subplots()\n",
        "\n",
        "sns.countplot(df_tratado.Churn)\n",
        "\n",
        "plt.tight_layout();\n",
        "fig.savefig('churn_countplot')"
      ],
      "execution_count": null,
      "outputs": [
        {
          "output_type": "display_data",
          "data": {
            "application/javascript": [
              "\n",
              "        if (window._pyforest_update_imports_cell) { window._pyforest_update_imports_cell('import numpy as np\\nimport matplotlib.pyplot as plt\\nimport seaborn as sns\\nimport pandas as pd'); }\n",
              "    "
            ],
            "text/plain": [
              "<IPython.core.display.Javascript object>"
            ]
          },
          "metadata": {
            "tags": []
          }
        },
        {
          "output_type": "display_data",
          "data": {
            "application/javascript": [
              "\n",
              "        if (window._pyforest_update_imports_cell) { window._pyforest_update_imports_cell('import numpy as np\\nimport matplotlib.pyplot as plt\\nimport seaborn as sns\\nimport pandas as pd'); }\n",
              "    "
            ],
            "text/plain": [
              "<IPython.core.display.Javascript object>"
            ]
          },
          "metadata": {
            "tags": []
          }
        },
        {
          "output_type": "display_data",
          "data": {
            "application/javascript": [
              "\n",
              "        if (window._pyforest_update_imports_cell) { window._pyforest_update_imports_cell('import numpy as np\\nimport matplotlib.pyplot as plt\\nimport seaborn as sns\\nimport pandas as pd'); }\n",
              "    "
            ],
            "text/plain": [
              "<IPython.core.display.Javascript object>"
            ]
          },
          "metadata": {
            "tags": []
          }
        },
        {
          "output_type": "display_data",
          "data": {
            "image/png": "[encoded data removed]",
            "text/plain": [
              "<Figure size 432x288 with 1 Axes>"
            ]
          },
          "metadata": {
            "tags": [],
            "needs_background": "light"
          }
        }
      ]
    },
    {
      "cell_type": "markdown",
      "metadata": {
        "id": "_Pya1DI2wMca"
      },
      "source": [
        "Para a variável `Churn` vemos que existe um desbalanceamento das classes, o que pode afetar o modelo de Machine Learning que será desenvolvido."
      ]
    },
    {
      "cell_type": "markdown",
      "metadata": {
        "id": "LQVqz1uQWoAM"
      },
      "source": [
        "# Preparação dos Dados\n",
        "\n",
        "## Feature Engineering\n",
        "\n",
        "Antes de desenvolvermos o modelo para este projeto, ainda é necessário fazer as transformações das colunas binárias e categóricas, a fim de que o modelo de Machine Learning possa interpretar as variáveis não numéricas.\n",
        "\n",
        "Para isso serão utilizados o método Label Encoder apenas para as variáveis binárias, e o método Dummies para as categóricas:"
      ]
    },
    {
      "cell_type": "code",
      "metadata": {
        "colab": {
          "base_uri": "https://localhost:8080/",
          "height": 253
        },
        "id": "8PjXUQUE3qRk",
        "outputId": "822e61da-803b-4183-c4f1-f06cb84901ed"
      },
      "source": [
        "# Coletando as features binárias e categóricas\n",
        "binaria = df_tratado.nunique()[df_tratado.nunique() == 2].keys().tolist()\n",
        "categorica = [col for col in df_tratado.select_dtypes('object').keys().tolist() if col not in binaria]\n",
        "\n",
        "# Copiando o DataFrame tratado\n",
        "df_features = df_tratado.copy()\n",
        "\n",
        "# Transformando as variáveis binárias com Label Encoder\n",
        "le = LabelEncoder()\n",
        "for i in binaria:\n",
        "  df_features[i] = le.fit_transform(df_features[i])\n",
        "\n",
        "# Transformando as variáveis categóricas com Get Dummies\n",
        "df_features = pd.get_dummies(df_features, columns=categorica)\n",
        "\n",
        "# Checando o novo DataFrame\n",
        "df_features.head()"
      ],
      "execution_count": null,
      "outputs": [
        {
          "output_type": "display_data",
          "data": {
            "application/javascript": [
              "\n",
              "        if (window._pyforest_update_imports_cell) { window._pyforest_update_imports_cell('import numpy as np\\nimport matplotlib.pyplot as plt\\nimport seaborn as sns\\nimport pandas as pd'); }\n",
              "    "
            ],
            "text/plain": [
              "<IPython.core.display.Javascript object>"
            ]
          },
          "metadata": {
            "tags": []
          }
        },
        {
          "output_type": "execute_result",
          "data": {
            "text/html": [
              "<div>\n",
              "<style scoped>\n",
              "    .dataframe tbody tr th:only-of-type {\n",
              "        vertical-align: middle;\n",
              "    }\n",
              "\n",
              "    .dataframe tbody tr th {\n",
              "        vertical-align: top;\n",
              "    }\n",
              "\n",
              "    .dataframe thead th {\n",
              "        text-align: right;\n",
              "    }\n",
              "</style>\n",
              "<table border=\"1\" class=\"dataframe\">\n",
              "  <thead>\n",
              "    <tr style=\"text-align: right;\">\n",
              "      <th></th>\n",
              "      <th>gender</th>\n",
              "      <th>SeniorCitizen</th>\n",
              "      <th>Partner</th>\n",
              "      <th>Dependents</th>\n",
              "      <th>tenure</th>\n",
              "      <th>PhoneService</th>\n",
              "      <th>PaperlessBilling</th>\n",
              "      <th>MonthlyCharges</th>\n",
              "      <th>TotalCharges</th>\n",
              "      <th>Churn</th>\n",
              "      <th>MultipleLines_No</th>\n",
              "      <th>MultipleLines_No phone service</th>\n",
              "      <th>MultipleLines_Yes</th>\n",
              "      <th>InternetService_DSL</th>\n",
              "      <th>InternetService_Fiber optic</th>\n",
              "      <th>InternetService_No</th>\n",
              "      <th>OnlineSecurity_No</th>\n",
              "      <th>OnlineSecurity_No internet service</th>\n",
              "      <th>OnlineSecurity_Yes</th>\n",
              "      <th>OnlineBackup_No</th>\n",
              "      <th>OnlineBackup_No internet service</th>\n",
              "      <th>OnlineBackup_Yes</th>\n",
              "      <th>DeviceProtection_No</th>\n",
              "      <th>DeviceProtection_No internet service</th>\n",
              "      <th>DeviceProtection_Yes</th>\n",
              "      <th>TechSupport_No</th>\n",
              "      <th>TechSupport_No internet service</th>\n",
              "      <th>TechSupport_Yes</th>\n",
              "      <th>StreamingTV_No</th>\n",
              "      <th>StreamingTV_No internet service</th>\n",
              "      <th>StreamingTV_Yes</th>\n",
              "      <th>StreamingMovies_No</th>\n",
              "      <th>StreamingMovies_No internet service</th>\n",
              "      <th>StreamingMovies_Yes</th>\n",
              "      <th>Contract_Month-to-month</th>\n",
              "      <th>Contract_One year</th>\n",
              "      <th>Contract_Two year</th>\n",
              "      <th>PaymentMethod_Bank transfer (automatic)</th>\n",
              "      <th>PaymentMethod_Credit card (automatic)</th>\n",
              "      <th>PaymentMethod_Electronic check</th>\n",
              "      <th>PaymentMethod_Mailed check</th>\n",
              "    </tr>\n",
              "  </thead>\n",
              "  <tbody>\n",
              "    <tr>\n",
              "      <th>0</th>\n",
              "      <td>0</td>\n",
              "      <td>0</td>\n",
              "      <td>1</td>\n",
              "      <td>0</td>\n",
              "      <td>1</td>\n",
              "      <td>0</td>\n",
              "      <td>1</td>\n",
              "      <td>29.85</td>\n",
              "      <td>29.85</td>\n",
              "      <td>0</td>\n",
              "      <td>0</td>\n",
              "      <td>1</td>\n",
              "      <td>0</td>\n",
              "      <td>1</td>\n",
              "      <td>0</td>\n",
              "      <td>0</td>\n",
              "      <td>1</td>\n",
              "      <td>0</td>\n",
              "      <td>0</td>\n",
              "      <td>0</td>\n",
              "      <td>0</td>\n",
              "      <td>1</td>\n",
              "      <td>1</td>\n",
              "      <td>0</td>\n",
              "      <td>0</td>\n",
              "      <td>1</td>\n",
              "      <td>0</td>\n",
              "      <td>0</td>\n",
              "      <td>1</td>\n",
              "      <td>0</td>\n",
              "      <td>0</td>\n",
              "      <td>1</td>\n",
              "      <td>0</td>\n",
              "      <td>0</td>\n",
              "      <td>1</td>\n",
              "      <td>0</td>\n",
              "      <td>0</td>\n",
              "      <td>0</td>\n",
              "      <td>0</td>\n",
              "      <td>1</td>\n",
              "      <td>0</td>\n",
              "    </tr>\n",
              "    <tr>\n",
              "      <th>1</th>\n",
              "      <td>1</td>\n",
              "      <td>0</td>\n",
              "      <td>0</td>\n",
              "      <td>0</td>\n",
              "      <td>34</td>\n",
              "      <td>1</td>\n",
              "      <td>0</td>\n",
              "      <td>56.95</td>\n",
              "      <td>1889.50</td>\n",
              "      <td>0</td>\n",
              "      <td>1</td>\n",
              "      <td>0</td>\n",
              "      <td>0</td>\n",
              "      <td>1</td>\n",
              "      <td>0</td>\n",
              "      <td>0</td>\n",
              "      <td>0</td>\n",
              "      <td>0</td>\n",
              "      <td>1</td>\n",
              "      <td>1</td>\n",
              "      <td>0</td>\n",
              "      <td>0</td>\n",
              "      <td>0</td>\n",
              "      <td>0</td>\n",
              "      <td>1</td>\n",
              "      <td>1</td>\n",
              "      <td>0</td>\n",
              "      <td>0</td>\n",
              "      <td>1</td>\n",
              "      <td>0</td>\n",
              "      <td>0</td>\n",
              "      <td>1</td>\n",
              "      <td>0</td>\n",
              "      <td>0</td>\n",
              "      <td>0</td>\n",
              "      <td>1</td>\n",
              "      <td>0</td>\n",
              "      <td>0</td>\n",
              "      <td>0</td>\n",
              "      <td>0</td>\n",
              "      <td>1</td>\n",
              "    </tr>\n",
              "    <tr>\n",
              "      <th>2</th>\n",
              "      <td>1</td>\n",
              "      <td>0</td>\n",
              "      <td>0</td>\n",
              "      <td>0</td>\n",
              "      <td>2</td>\n",
              "      <td>1</td>\n",
              "      <td>1</td>\n",
              "      <td>53.85</td>\n",
              "      <td>108.15</td>\n",
              "      <td>1</td>\n",
              "      <td>1</td>\n",
              "      <td>0</td>\n",
              "      <td>0</td>\n",
              "      <td>1</td>\n",
              "      <td>0</td>\n",
              "      <td>0</td>\n",
              "      <td>0</td>\n",
              "      <td>0</td>\n",
              "      <td>1</td>\n",
              "      <td>0</td>\n",
              "      <td>0</td>\n",
              "      <td>1</td>\n",
              "      <td>1</td>\n",
              "      <td>0</td>\n",
              "      <td>0</td>\n",
              "      <td>1</td>\n",
              "      <td>0</td>\n",
              "      <td>0</td>\n",
              "      <td>1</td>\n",
              "      <td>0</td>\n",
              "      <td>0</td>\n",
              "      <td>1</td>\n",
              "      <td>0</td>\n",
              "      <td>0</td>\n",
              "      <td>1</td>\n",
              "      <td>0</td>\n",
              "      <td>0</td>\n",
              "      <td>0</td>\n",
              "      <td>0</td>\n",
              "      <td>0</td>\n",
              "      <td>1</td>\n",
              "    </tr>\n",
              "    <tr>\n",
              "      <th>3</th>\n",
              "      <td>1</td>\n",
              "      <td>0</td>\n",
              "      <td>0</td>\n",
              "      <td>0</td>\n",
              "      <td>45</td>\n",
              "      <td>0</td>\n",
              "      <td>0</td>\n",
              "      <td>42.30</td>\n",
              "      <td>1840.75</td>\n",
              "      <td>0</td>\n",
              "      <td>0</td>\n",
              "      <td>1</td>\n",
              "      <td>0</td>\n",
              "      <td>1</td>\n",
              "      <td>0</td>\n",
              "      <td>0</td>\n",
              "      <td>0</td>\n",
              "      <td>0</td>\n",
              "      <td>1</td>\n",
              "      <td>1</td>\n",
              "      <td>0</td>\n",
              "      <td>0</td>\n",
              "      <td>0</td>\n",
              "      <td>0</td>\n",
              "      <td>1</td>\n",
              "      <td>0</td>\n",
              "      <td>0</td>\n",
              "      <td>1</td>\n",
              "      <td>1</td>\n",
              "      <td>0</td>\n",
              "      <td>0</td>\n",
              "      <td>1</td>\n",
              "      <td>0</td>\n",
              "      <td>0</td>\n",
              "      <td>0</td>\n",
              "      <td>1</td>\n",
              "      <td>0</td>\n",
              "      <td>1</td>\n",
              "      <td>0</td>\n",
              "      <td>0</td>\n",
              "      <td>0</td>\n",
              "    </tr>\n",
              "    <tr>\n",
              "      <th>4</th>\n",
              "      <td>0</td>\n",
              "      <td>0</td>\n",
              "      <td>0</td>\n",
              "      <td>0</td>\n",
              "      <td>2</td>\n",
              "      <td>1</td>\n",
              "      <td>1</td>\n",
              "      <td>70.70</td>\n",
              "      <td>151.65</td>\n",
              "      <td>1</td>\n",
              "      <td>1</td>\n",
              "      <td>0</td>\n",
              "      <td>0</td>\n",
              "      <td>0</td>\n",
              "      <td>1</td>\n",
              "      <td>0</td>\n",
              "      <td>1</td>\n",
              "      <td>0</td>\n",
              "      <td>0</td>\n",
              "      <td>1</td>\n",
              "      <td>0</td>\n",
              "      <td>0</td>\n",
              "      <td>1</td>\n",
              "      <td>0</td>\n",
              "      <td>0</td>\n",
              "      <td>1</td>\n",
              "      <td>0</td>\n",
              "      <td>0</td>\n",
              "      <td>1</td>\n",
              "      <td>0</td>\n",
              "      <td>0</td>\n",
              "      <td>1</td>\n",
              "      <td>0</td>\n",
              "      <td>0</td>\n",
              "      <td>1</td>\n",
              "      <td>0</td>\n",
              "      <td>0</td>\n",
              "      <td>0</td>\n",
              "      <td>0</td>\n",
              "      <td>1</td>\n",
              "      <td>0</td>\n",
              "    </tr>\n",
              "  </tbody>\n",
              "</table>\n",
              "</div>"
            ],
            "text/plain": [
              "   gender  ...  PaymentMethod_Mailed check\n",
              "0       0  ...                           0\n",
              "1       1  ...                           1\n",
              "2       1  ...                           1\n",
              "3       1  ...                           0\n",
              "4       0  ...                           0\n",
              "\n",
              "[5 rows x 41 columns]"
            ]
          },
          "metadata": {
            "tags": []
          },
          "execution_count": 15
        }
      ]
    },
    {
      "cell_type": "markdown",
      "metadata": {
        "id": "8yOvLHAEC6LO"
      },
      "source": [
        "# Modelo de Machine Learning\n",
        "\n",
        "Agora que os dados foram tratados e as variáveis foram transformadas, vamos começar separando os dados entre treino e teste."
      ]
    },
    {
      "cell_type": "code",
      "metadata": {
        "id": "AWmcUZMOQL17",
        "colab": {
          "base_uri": "https://localhost:8080/",
          "height": 17
        },
        "outputId": "55a83f3f-68f2-4fb6-f87c-81fd86a5a9f8"
      },
      "source": [
        "# Separando os dados \n",
        "X = df_features.drop('Churn', axis=1)\n",
        "y= df_features['Churn'] # variável alvo\n",
        "\n",
        "# Dividindo entre treino e teste\n",
        "X_train, X_test, y_train, y_test = train_test_split(X, y, test_size=0.20)"
      ],
      "execution_count": null,
      "outputs": [
        {
          "output_type": "display_data",
          "data": {
            "application/javascript": [
              "\n",
              "        if (window._pyforest_update_imports_cell) { window._pyforest_update_imports_cell('from sklearn.model_selection import train_test_split\\nimport seaborn as sns\\nimport pandas as pd\\nimport numpy as np\\nimport matplotlib.pyplot as plt'); }\n",
              "    "
            ],
            "text/plain": [
              "<IPython.core.display.Javascript object>"
            ]
          },
          "metadata": {
            "tags": []
          }
        }
      ]
    },
    {
      "cell_type": "markdown",
      "metadata": {
        "id": "3r0SIQkMNwbW"
      },
      "source": [
        "Para desenvolvermos um modelo de Machine Learning, precisamos entender o nosso problema e as consequências que um modelo causaria com falsos positivos e falsos negativos.\n",
        "\n",
        "O objetivo deste projeto é prever se um determinado cliente irá cancelar ou não, o serviço da empresa de telecomunicações.\n",
        "\n",
        "Se nosso modelo prever uma pessoa como Churn (irá cancelar), ela irá entrar na lista de pessoas em que o time de Customer Success aplicarão suas estratégias para reter esse cliente, como por exemplo, redução do valor da conta, bônus no pacote contratado, entre outras estratégias que cabem à esse time desenvolver.\n",
        "\n",
        "Caso preveja que não será Churn, esse cliente pode acabar cancelando o serviço sem receber nenhuma oferta ou bônus, que poderiam fazê-lo mudar de ideia.\n",
        "\n",
        "Resumindo temos:\n",
        "* Objetivo: prever se um cliente irá cancelar o serviço.\n",
        "\n",
        "* Previsões:\n",
        " * Churn: cliente fará parte das estratégias da empresa para retê-lo.\n",
        "\n",
        " * Não Churn: cliente não fará parte das estrarégias da empresa que poderiam evitar o cancelamento do serviço.\n",
        "\n",
        "O que podemos tirar de informações com o entendimento acima:\n",
        "* Nosso problema se baseia em uma classificação, é Churn ou não é.\n",
        "* Um modelo com `recall` alto é bastante conveniente, pois mesmo um falso positivo pode gerar benefícios tanto para a empresa quanto para o cliente.\n",
        "\n",
        "Agora que temos essas informações, vamos nos aprofundar no desenvolvimento do modelo:\n",
        "\n",
        "* Usaremos o método `Cross-validation` para evitar o overfitting e o uso dos dados de teste.\n",
        "\n",
        "* Usaremos o método `RandomUnderSampler` para balancear a variável alvo nos dados de treino, que durante o tratamento dos dados vimos que seria necessário um balanceamento, onde este método preserva a classe minoritária dos dados.\n",
        "\n",
        "* Usaremos os métodos de padronização(`StandardScaler`) e normalização(`MinMaxScaler`) escalar os dados, também visto que seria necessário durante o tratamento dos dados.\n"
      ]
    },
    {
      "cell_type": "markdown",
      "metadata": {
        "id": "jkOQSd5rVdSl"
      },
      "source": [
        "### Encontrando os melhores modelos\n",
        "\n",
        "Como o problema  é de classificação, vamos testar os seguintes estimadores e no fim escolher os 3 melhores para uma avaliação mais aprofundada:\n",
        "\n",
        "* Regressão Logística (Logistic Regression)\n",
        "* Árvores de Decisão (Decision Trees)\n",
        "* Árvores Aleatórias (Random Forest)\n",
        "* Máquina de Vetor de Suporte (SVC)\n",
        "* Naive Bayes\n",
        "* XGBoost"
      ]
    },
    {
      "cell_type": "code",
      "metadata": {
        "id": "dnGts4ctpFbE"
      },
      "source": [
        "# Validação Cruzada com base na métrica Recall - Padronizado\n",
        "def val_model_padronizado(X, y, clf):\n",
        "  X = np.array(X) # contém as variáveis independentes\n",
        "  y = np.array(y) # contem a variável alvo\n",
        "\n",
        "  pipeline_pd = make_pipeline(StandardScaler(), clf)\n",
        "  scores_pd = cross_val_score(pipeline_pd, X, y, scoring='recall')\n",
        "  return scores_pd.mean()\n",
        "\n",
        "# Validação Cruzada com base na métrica Recall - Normalizado\n",
        "def val_model_normalizado(X, y, clf):\n",
        "  X = np.array(X) # contém as variáveis independentes\n",
        "  y = np.array(y) # contem a variável alvo\n",
        "\n",
        "  pipeline_nm = make_pipeline(MinMaxScaler(), clf)\n",
        "  scores_nm = cross_val_score(pipeline_nm, X, y, scoring='recall')\n",
        "  return scores_nm.mean()\n",
        "\n",
        "# Instanciar os modelos\n",
        "lr = LogisticRegression()\n",
        "dt = DecisionTreeClassifier()\n",
        "rf = RandomForestClassifier()\n",
        "svc = SVC()\n",
        "gnb = GaussianNB() \n",
        "xgb = XGBClassifier()"
      ],
      "execution_count": null,
      "outputs": []
    },
    {
      "cell_type": "markdown",
      "metadata": {
        "id": "DOcQbqnQ9M5S"
      },
      "source": [
        "Agora que temos os modelos instanciados, vamos avaliá-los:"
      ]
    },
    {
      "cell_type": "code",
      "metadata": {
        "colab": {
          "base_uri": "https://localhost:8080/",
          "height": 394
        },
        "id": "mG2CAZXa9kRY",
        "outputId": "8c72e268-ca4b-494a-f185-20fae0570c01"
      },
      "source": [
        "# DataFrame com avaliação dos dados desbalanceados - Padronizados\n",
        "model_db_pd = []\n",
        "recall_db_pd = []\n",
        "\n",
        "# Avaliando o desempenho com dados desbalanceados - Padronizados\n",
        "for clf in (lr, dt, rf, svc, gnb, xgb):\n",
        "  model_db_pd.append(clf.__class__.__name__)\n",
        "  recall_db_pd.append(val_model_padronizado(X_train, y_train, clf))\n",
        "\n",
        "# DataFrame da avaliação dos modelos com dados desbalanceados e padronizados \n",
        "df_val_db_pd = pd.DataFrame(data=recall_db_pd, index=model_db_pd, columns=['Recall_Padronizado'])\n",
        "\n",
        "################################################################################\n",
        "\n",
        "# DataFrame com avaliação dos dados desbalanceados - Normalizado\n",
        "model_db_nm = []\n",
        "recall_db_nm = []\n",
        "\n",
        "# Avaliando o desempenho com dados desbalanceados - Normalizado\n",
        "for clf in (lr, dt, rf, svc, gnb, xgb):\n",
        "  model_db_nm.append(clf.__class__.__name__)\n",
        "  recall_db_nm.append(val_model_normalizado(X_train, y_train, clf))\n",
        "\n",
        "# DataFrame da avaliação dos modelos com dados desbalanceados e normalizados \n",
        "df_val_db_nm = pd.DataFrame(data=recall_db_nm, index=model_db_nm, columns=['Recall_Normalizado'])\n",
        "\n",
        "################################################################################\n",
        "\n",
        "# Unindo os DataFrames Desbalanceados\n",
        "df_val_desbalanceado = df_val_db_pd.join(df_val_db_nm['Recall_Normalizado'])\n",
        "\n",
        "# Checando o DataFrame\n",
        "df_val_desbalanceado"
      ],
      "execution_count": null,
      "outputs": [
        {
          "output_type": "display_data",
          "data": {
            "application/javascript": [
              "\n",
              "        if (window._pyforest_update_imports_cell) { window._pyforest_update_imports_cell('from sklearn.model_selection import train_test_split\\nimport seaborn as sns\\nimport pandas as pd\\nimport numpy as np\\nimport matplotlib.pyplot as plt'); }\n",
              "    "
            ],
            "text/plain": [
              "<IPython.core.display.Javascript object>"
            ]
          },
          "metadata": {
            "tags": []
          }
        },
        {
          "output_type": "display_data",
          "data": {
            "application/javascript": [
              "\n",
              "        if (window._pyforest_update_imports_cell) { window._pyforest_update_imports_cell('from sklearn.model_selection import train_test_split\\nimport seaborn as sns\\nimport pandas as pd\\nimport numpy as np\\nimport matplotlib.pyplot as plt'); }\n",
              "    "
            ],
            "text/plain": [
              "<IPython.core.display.Javascript object>"
            ]
          },
          "metadata": {
            "tags": []
          }
        },
        {
          "output_type": "display_data",
          "data": {
            "application/javascript": [
              "\n",
              "        if (window._pyforest_update_imports_cell) { window._pyforest_update_imports_cell('from sklearn.model_selection import train_test_split\\nimport seaborn as sns\\nimport pandas as pd\\nimport numpy as np\\nimport matplotlib.pyplot as plt'); }\n",
              "    "
            ],
            "text/plain": [
              "<IPython.core.display.Javascript object>"
            ]
          },
          "metadata": {
            "tags": []
          }
        },
        {
          "output_type": "display_data",
          "data": {
            "application/javascript": [
              "\n",
              "        if (window._pyforest_update_imports_cell) { window._pyforest_update_imports_cell('from sklearn.model_selection import train_test_split\\nimport seaborn as sns\\nimport pandas as pd\\nimport numpy as np\\nimport matplotlib.pyplot as plt'); }\n",
              "    "
            ],
            "text/plain": [
              "<IPython.core.display.Javascript object>"
            ]
          },
          "metadata": {
            "tags": []
          }
        },
        {
          "output_type": "display_data",
          "data": {
            "application/javascript": [
              "\n",
              "        if (window._pyforest_update_imports_cell) { window._pyforest_update_imports_cell('from sklearn.model_selection import train_test_split\\nimport seaborn as sns\\nimport pandas as pd\\nimport numpy as np\\nimport matplotlib.pyplot as plt'); }\n",
              "    "
            ],
            "text/plain": [
              "<IPython.core.display.Javascript object>"
            ]
          },
          "metadata": {
            "tags": []
          }
        },
        {
          "output_type": "display_data",
          "data": {
            "application/javascript": [
              "\n",
              "        if (window._pyforest_update_imports_cell) { window._pyforest_update_imports_cell('from sklearn.model_selection import train_test_split\\nimport seaborn as sns\\nimport pandas as pd\\nimport numpy as np\\nimport matplotlib.pyplot as plt'); }\n",
              "    "
            ],
            "text/plain": [
              "<IPython.core.display.Javascript object>"
            ]
          },
          "metadata": {
            "tags": []
          }
        },
        {
          "output_type": "display_data",
          "data": {
            "application/javascript": [
              "\n",
              "        if (window._pyforest_update_imports_cell) { window._pyforest_update_imports_cell('from sklearn.model_selection import train_test_split\\nimport seaborn as sns\\nimport pandas as pd\\nimport numpy as np\\nimport matplotlib.pyplot as plt'); }\n",
              "    "
            ],
            "text/plain": [
              "<IPython.core.display.Javascript object>"
            ]
          },
          "metadata": {
            "tags": []
          }
        },
        {
          "output_type": "display_data",
          "data": {
            "application/javascript": [
              "\n",
              "        if (window._pyforest_update_imports_cell) { window._pyforest_update_imports_cell('from sklearn.model_selection import train_test_split\\nimport seaborn as sns\\nimport pandas as pd\\nimport numpy as np\\nimport matplotlib.pyplot as plt'); }\n",
              "    "
            ],
            "text/plain": [
              "<IPython.core.display.Javascript object>"
            ]
          },
          "metadata": {
            "tags": []
          }
        },
        {
          "output_type": "display_data",
          "data": {
            "application/javascript": [
              "\n",
              "        if (window._pyforest_update_imports_cell) { window._pyforest_update_imports_cell('from sklearn.model_selection import train_test_split\\nimport seaborn as sns\\nimport pandas as pd\\nimport numpy as np\\nimport matplotlib.pyplot as plt'); }\n",
              "    "
            ],
            "text/plain": [
              "<IPython.core.display.Javascript object>"
            ]
          },
          "metadata": {
            "tags": []
          }
        },
        {
          "output_type": "display_data",
          "data": {
            "application/javascript": [
              "\n",
              "        if (window._pyforest_update_imports_cell) { window._pyforest_update_imports_cell('from sklearn.model_selection import train_test_split\\nimport seaborn as sns\\nimport pandas as pd\\nimport numpy as np\\nimport matplotlib.pyplot as plt'); }\n",
              "    "
            ],
            "text/plain": [
              "<IPython.core.display.Javascript object>"
            ]
          },
          "metadata": {
            "tags": []
          }
        },
        {
          "output_type": "display_data",
          "data": {
            "application/javascript": [
              "\n",
              "        if (window._pyforest_update_imports_cell) { window._pyforest_update_imports_cell('from sklearn.model_selection import train_test_split\\nimport seaborn as sns\\nimport pandas as pd\\nimport numpy as np\\nimport matplotlib.pyplot as plt'); }\n",
              "    "
            ],
            "text/plain": [
              "<IPython.core.display.Javascript object>"
            ]
          },
          "metadata": {
            "tags": []
          }
        },
        {
          "output_type": "display_data",
          "data": {
            "application/javascript": [
              "\n",
              "        if (window._pyforest_update_imports_cell) { window._pyforest_update_imports_cell('from sklearn.model_selection import train_test_split\\nimport seaborn as sns\\nimport pandas as pd\\nimport numpy as np\\nimport matplotlib.pyplot as plt'); }\n",
              "    "
            ],
            "text/plain": [
              "<IPython.core.display.Javascript object>"
            ]
          },
          "metadata": {
            "tags": []
          }
        },
        {
          "output_type": "display_data",
          "data": {
            "application/javascript": [
              "\n",
              "        if (window._pyforest_update_imports_cell) { window._pyforest_update_imports_cell('from sklearn.model_selection import train_test_split\\nimport seaborn as sns\\nimport pandas as pd\\nimport numpy as np\\nimport matplotlib.pyplot as plt'); }\n",
              "    "
            ],
            "text/plain": [
              "<IPython.core.display.Javascript object>"
            ]
          },
          "metadata": {
            "tags": []
          }
        },
        {
          "output_type": "display_data",
          "data": {
            "application/javascript": [
              "\n",
              "        if (window._pyforest_update_imports_cell) { window._pyforest_update_imports_cell('from sklearn.model_selection import train_test_split\\nimport seaborn as sns\\nimport pandas as pd\\nimport numpy as np\\nimport matplotlib.pyplot as plt'); }\n",
              "    "
            ],
            "text/plain": [
              "<IPython.core.display.Javascript object>"
            ]
          },
          "metadata": {
            "tags": []
          }
        },
        {
          "output_type": "display_data",
          "data": {
            "application/javascript": [
              "\n",
              "        if (window._pyforest_update_imports_cell) { window._pyforest_update_imports_cell('from sklearn.model_selection import train_test_split\\nimport seaborn as sns\\nimport pandas as pd\\nimport numpy as np\\nimport matplotlib.pyplot as plt'); }\n",
              "    "
            ],
            "text/plain": [
              "<IPython.core.display.Javascript object>"
            ]
          },
          "metadata": {
            "tags": []
          }
        },
        {
          "output_type": "stream",
          "text": [
            "/usr/local/lib/python3.7/dist-packages/sklearn/linear_model/_logistic.py:940: ConvergenceWarning: lbfgs failed to converge (status=1):\n",
            "STOP: TOTAL NO. of ITERATIONS REACHED LIMIT.\n",
            "\n",
            "Increase the number of iterations (max_iter) or scale the data as shown in:\n",
            "    https://scikit-learn.org/stable/modules/preprocessing.html\n",
            "Please also refer to the documentation for alternative solver options:\n",
            "    https://scikit-learn.org/stable/modules/linear_model.html#logistic-regression\n",
            "  extra_warning_msg=_LOGISTIC_SOLVER_CONVERGENCE_MSG)\n"
          ],
          "name": "stderr"
        },
        {
          "output_type": "display_data",
          "data": {
            "application/javascript": [
              "\n",
              "        if (window._pyforest_update_imports_cell) { window._pyforest_update_imports_cell('from sklearn.model_selection import train_test_split\\nimport seaborn as sns\\nimport pandas as pd\\nimport numpy as np\\nimport matplotlib.pyplot as plt'); }\n",
              "    "
            ],
            "text/plain": [
              "<IPython.core.display.Javascript object>"
            ]
          },
          "metadata": {
            "tags": []
          }
        },
        {
          "output_type": "display_data",
          "data": {
            "application/javascript": [
              "\n",
              "        if (window._pyforest_update_imports_cell) { window._pyforest_update_imports_cell('from sklearn.model_selection import train_test_split\\nimport seaborn as sns\\nimport pandas as pd\\nimport numpy as np\\nimport matplotlib.pyplot as plt'); }\n",
              "    "
            ],
            "text/plain": [
              "<IPython.core.display.Javascript object>"
            ]
          },
          "metadata": {
            "tags": []
          }
        },
        {
          "output_type": "display_data",
          "data": {
            "application/javascript": [
              "\n",
              "        if (window._pyforest_update_imports_cell) { window._pyforest_update_imports_cell('from sklearn.model_selection import train_test_split\\nimport seaborn as sns\\nimport pandas as pd\\nimport numpy as np\\nimport matplotlib.pyplot as plt'); }\n",
              "    "
            ],
            "text/plain": [
              "<IPython.core.display.Javascript object>"
            ]
          },
          "metadata": {
            "tags": []
          }
        },
        {
          "output_type": "display_data",
          "data": {
            "application/javascript": [
              "\n",
              "        if (window._pyforest_update_imports_cell) { window._pyforest_update_imports_cell('from sklearn.model_selection import train_test_split\\nimport seaborn as sns\\nimport pandas as pd\\nimport numpy as np\\nimport matplotlib.pyplot as plt'); }\n",
              "    "
            ],
            "text/plain": [
              "<IPython.core.display.Javascript object>"
            ]
          },
          "metadata": {
            "tags": []
          }
        },
        {
          "output_type": "display_data",
          "data": {
            "application/javascript": [
              "\n",
              "        if (window._pyforest_update_imports_cell) { window._pyforest_update_imports_cell('from sklearn.model_selection import train_test_split\\nimport seaborn as sns\\nimport pandas as pd\\nimport numpy as np\\nimport matplotlib.pyplot as plt'); }\n",
              "    "
            ],
            "text/plain": [
              "<IPython.core.display.Javascript object>"
            ]
          },
          "metadata": {
            "tags": []
          }
        },
        {
          "output_type": "display_data",
          "data": {
            "application/javascript": [
              "\n",
              "        if (window._pyforest_update_imports_cell) { window._pyforest_update_imports_cell('from sklearn.model_selection import train_test_split\\nimport seaborn as sns\\nimport pandas as pd\\nimport numpy as np\\nimport matplotlib.pyplot as plt'); }\n",
              "    "
            ],
            "text/plain": [
              "<IPython.core.display.Javascript object>"
            ]
          },
          "metadata": {
            "tags": []
          }
        },
        {
          "output_type": "display_data",
          "data": {
            "application/javascript": [
              "\n",
              "        if (window._pyforest_update_imports_cell) { window._pyforest_update_imports_cell('from sklearn.model_selection import train_test_split\\nimport seaborn as sns\\nimport pandas as pd\\nimport numpy as np\\nimport matplotlib.pyplot as plt'); }\n",
              "    "
            ],
            "text/plain": [
              "<IPython.core.display.Javascript object>"
            ]
          },
          "metadata": {
            "tags": []
          }
        },
        {
          "output_type": "display_data",
          "data": {
            "application/javascript": [
              "\n",
              "        if (window._pyforest_update_imports_cell) { window._pyforest_update_imports_cell('from sklearn.model_selection import train_test_split\\nimport seaborn as sns\\nimport pandas as pd\\nimport numpy as np\\nimport matplotlib.pyplot as plt'); }\n",
              "    "
            ],
            "text/plain": [
              "<IPython.core.display.Javascript object>"
            ]
          },
          "metadata": {
            "tags": []
          }
        },
        {
          "output_type": "display_data",
          "data": {
            "application/javascript": [
              "\n",
              "        if (window._pyforest_update_imports_cell) { window._pyforest_update_imports_cell('from sklearn.model_selection import train_test_split\\nimport seaborn as sns\\nimport pandas as pd\\nimport numpy as np\\nimport matplotlib.pyplot as plt'); }\n",
              "    "
            ],
            "text/plain": [
              "<IPython.core.display.Javascript object>"
            ]
          },
          "metadata": {
            "tags": []
          }
        },
        {
          "output_type": "display_data",
          "data": {
            "application/javascript": [
              "\n",
              "        if (window._pyforest_update_imports_cell) { window._pyforest_update_imports_cell('from sklearn.model_selection import train_test_split\\nimport seaborn as sns\\nimport pandas as pd\\nimport numpy as np\\nimport matplotlib.pyplot as plt'); }\n",
              "    "
            ],
            "text/plain": [
              "<IPython.core.display.Javascript object>"
            ]
          },
          "metadata": {
            "tags": []
          }
        },
        {
          "output_type": "display_data",
          "data": {
            "application/javascript": [
              "\n",
              "        if (window._pyforest_update_imports_cell) { window._pyforest_update_imports_cell('from sklearn.model_selection import train_test_split\\nimport seaborn as sns\\nimport pandas as pd\\nimport numpy as np\\nimport matplotlib.pyplot as plt'); }\n",
              "    "
            ],
            "text/plain": [
              "<IPython.core.display.Javascript object>"
            ]
          },
          "metadata": {
            "tags": []
          }
        },
        {
          "output_type": "execute_result",
          "data": {
            "text/html": [
              "<div>\n",
              "<style scoped>\n",
              "    .dataframe tbody tr th:only-of-type {\n",
              "        vertical-align: middle;\n",
              "    }\n",
              "\n",
              "    .dataframe tbody tr th {\n",
              "        vertical-align: top;\n",
              "    }\n",
              "\n",
              "    .dataframe thead th {\n",
              "        text-align: right;\n",
              "    }\n",
              "</style>\n",
              "<table border=\"1\" class=\"dataframe\">\n",
              "  <thead>\n",
              "    <tr style=\"text-align: right;\">\n",
              "      <th></th>\n",
              "      <th>Recall_Padronizado</th>\n",
              "      <th>Recall_Normalizado</th>\n",
              "    </tr>\n",
              "  </thead>\n",
              "  <tbody>\n",
              "    <tr>\n",
              "      <th>LogisticRegression</th>\n",
              "      <td>0.558804</td>\n",
              "      <td>0.551495</td>\n",
              "    </tr>\n",
              "    <tr>\n",
              "      <th>DecisionTreeClassifier</th>\n",
              "      <td>0.518272</td>\n",
              "      <td>0.511628</td>\n",
              "    </tr>\n",
              "    <tr>\n",
              "      <th>RandomForestClassifier</th>\n",
              "      <td>0.500332</td>\n",
              "      <td>0.508306</td>\n",
              "    </tr>\n",
              "    <tr>\n",
              "      <th>SVC</th>\n",
              "      <td>0.516944</td>\n",
              "      <td>0.510963</td>\n",
              "    </tr>\n",
              "    <tr>\n",
              "      <th>GaussianNB</th>\n",
              "      <td>0.849169</td>\n",
              "      <td>0.849169</td>\n",
              "    </tr>\n",
              "    <tr>\n",
              "      <th>XGBClassifier</th>\n",
              "      <td>0.544186</td>\n",
              "      <td>0.544186</td>\n",
              "    </tr>\n",
              "  </tbody>\n",
              "</table>\n",
              "</div>"
            ],
            "text/plain": [
              "                        Recall_Padronizado  Recall_Normalizado\n",
              "LogisticRegression                0.558804            0.551495\n",
              "DecisionTreeClassifier            0.518272            0.511628\n",
              "RandomForestClassifier            0.500332            0.508306\n",
              "SVC                               0.516944            0.510963\n",
              "GaussianNB                        0.849169            0.849169\n",
              "XGBClassifier                     0.544186            0.544186"
            ]
          },
          "metadata": {
            "tags": []
          },
          "execution_count": 18
        }
      ]
    },
    {
      "cell_type": "code",
      "metadata": {
        "colab": {
          "base_uri": "https://localhost:8080/",
          "height": 228
        },
        "id": "vOlKU5yCEqa9",
        "outputId": "c85b5c46-a9eb-48dc-916d-9b5d6bfcb597"
      },
      "source": [
        "# Balanceando os dados de treino\n",
        "rus = RandomUnderSampler()\n",
        "X_train_rus, y_train_rus = rus.fit_sample(X_train, y_train)\n",
        "\n",
        "# DataFrame com avaliação dos dados balanceados - Padronizados\n",
        "model_bc_pd = []\n",
        "recall_bc_pd = []\n",
        "\n",
        "# Avaliando o desempenho com dados balanceados - Padronizados\n",
        "for clf in (lr, dt, rf, svc, gnb, xgb):\n",
        "  model_bc_pd.append(clf.__class__.__name__)\n",
        "  recall_bc_pd.append(val_model_padronizado(X_train_rus, y_train_rus, clf))\n",
        "\n",
        "# DataFrame da avaliação dos modelos com dados desbalanceados e padronizados \n",
        "df_val_bc_pd = pd.DataFrame(data=recall_bc_pd, index=model_bc_pd, columns=['Recall_Padronizado'])\n",
        "\n",
        "################################################################################\n",
        "\n",
        "# DataFrame com avaliação dos dados balanceados - Normalizado\n",
        "model_bc_nm = []\n",
        "recall_bc_nm = []\n",
        "\n",
        "# Avaliando o desempenho com dados balanceados - Normalizado\n",
        "for clf in (lr, dt, rf, svc, gnb, xgb):\n",
        "  model_bc_nm.append(clf.__class__.__name__)\n",
        "  recall_bc_nm.append(val_model_normalizado(X_train_rus, y_train_rus, clf))\n",
        "\n",
        "# DataFrame da avaliação dos modelos com dados balanceados e normalizados \n",
        "df_val_bc_nm = pd.DataFrame(data=recall_bc_nm, index=model_bc_nm, columns=['Recall_Normalizado'])\n",
        "\n",
        "################################################################################\n",
        "\n",
        "# Unindo os DataFrames Balanceados\n",
        "df_val_balanceado = df_val_bc_pd.join(df_val_bc_nm['Recall_Normalizado'])\n",
        "\n",
        "# Checando o DataFrame\n",
        "df_val_balanceado"
      ],
      "execution_count": null,
      "outputs": [
        {
          "output_type": "display_data",
          "data": {
            "application/javascript": [
              "\n",
              "        if (window._pyforest_update_imports_cell) { window._pyforest_update_imports_cell('from sklearn.model_selection import train_test_split\\nimport seaborn as sns\\nimport pandas as pd\\nimport numpy as np\\nimport matplotlib.pyplot as plt'); }\n",
              "    "
            ],
            "text/plain": [
              "<IPython.core.display.Javascript object>"
            ]
          },
          "metadata": {
            "tags": []
          }
        },
        {
          "output_type": "display_data",
          "data": {
            "application/javascript": [
              "\n",
              "        if (window._pyforest_update_imports_cell) { window._pyforest_update_imports_cell('from sklearn.model_selection import train_test_split\\nimport seaborn as sns\\nimport pandas as pd\\nimport numpy as np\\nimport matplotlib.pyplot as plt'); }\n",
              "    "
            ],
            "text/plain": [
              "<IPython.core.display.Javascript object>"
            ]
          },
          "metadata": {
            "tags": []
          }
        },
        {
          "output_type": "display_data",
          "data": {
            "application/javascript": [
              "\n",
              "        if (window._pyforest_update_imports_cell) { window._pyforest_update_imports_cell('from sklearn.model_selection import train_test_split\\nimport seaborn as sns\\nimport pandas as pd\\nimport numpy as np\\nimport matplotlib.pyplot as plt'); }\n",
              "    "
            ],
            "text/plain": [
              "<IPython.core.display.Javascript object>"
            ]
          },
          "metadata": {
            "tags": []
          }
        },
        {
          "output_type": "display_data",
          "data": {
            "application/javascript": [
              "\n",
              "        if (window._pyforest_update_imports_cell) { window._pyforest_update_imports_cell('from sklearn.model_selection import train_test_split\\nimport seaborn as sns\\nimport pandas as pd\\nimport numpy as np\\nimport matplotlib.pyplot as plt'); }\n",
              "    "
            ],
            "text/plain": [
              "<IPython.core.display.Javascript object>"
            ]
          },
          "metadata": {
            "tags": []
          }
        },
        {
          "output_type": "display_data",
          "data": {
            "application/javascript": [
              "\n",
              "        if (window._pyforest_update_imports_cell) { window._pyforest_update_imports_cell('from sklearn.model_selection import train_test_split\\nimport seaborn as sns\\nimport pandas as pd\\nimport numpy as np\\nimport matplotlib.pyplot as plt'); }\n",
              "    "
            ],
            "text/plain": [
              "<IPython.core.display.Javascript object>"
            ]
          },
          "metadata": {
            "tags": []
          }
        },
        {
          "output_type": "display_data",
          "data": {
            "application/javascript": [
              "\n",
              "        if (window._pyforest_update_imports_cell) { window._pyforest_update_imports_cell('from sklearn.model_selection import train_test_split\\nimport seaborn as sns\\nimport pandas as pd\\nimport numpy as np\\nimport matplotlib.pyplot as plt'); }\n",
              "    "
            ],
            "text/plain": [
              "<IPython.core.display.Javascript object>"
            ]
          },
          "metadata": {
            "tags": []
          }
        },
        {
          "output_type": "display_data",
          "data": {
            "application/javascript": [
              "\n",
              "        if (window._pyforest_update_imports_cell) { window._pyforest_update_imports_cell('from sklearn.model_selection import train_test_split\\nimport seaborn as sns\\nimport pandas as pd\\nimport numpy as np\\nimport matplotlib.pyplot as plt'); }\n",
              "    "
            ],
            "text/plain": [
              "<IPython.core.display.Javascript object>"
            ]
          },
          "metadata": {
            "tags": []
          }
        },
        {
          "output_type": "display_data",
          "data": {
            "application/javascript": [
              "\n",
              "        if (window._pyforest_update_imports_cell) { window._pyforest_update_imports_cell('from sklearn.model_selection import train_test_split\\nimport seaborn as sns\\nimport pandas as pd\\nimport numpy as np\\nimport matplotlib.pyplot as plt'); }\n",
              "    "
            ],
            "text/plain": [
              "<IPython.core.display.Javascript object>"
            ]
          },
          "metadata": {
            "tags": []
          }
        },
        {
          "output_type": "display_data",
          "data": {
            "application/javascript": [
              "\n",
              "        if (window._pyforest_update_imports_cell) { window._pyforest_update_imports_cell('from sklearn.model_selection import train_test_split\\nimport seaborn as sns\\nimport pandas as pd\\nimport numpy as np\\nimport matplotlib.pyplot as plt'); }\n",
              "    "
            ],
            "text/plain": [
              "<IPython.core.display.Javascript object>"
            ]
          },
          "metadata": {
            "tags": []
          }
        },
        {
          "output_type": "display_data",
          "data": {
            "application/javascript": [
              "\n",
              "        if (window._pyforest_update_imports_cell) { window._pyforest_update_imports_cell('from sklearn.model_selection import train_test_split\\nimport seaborn as sns\\nimport pandas as pd\\nimport numpy as np\\nimport matplotlib.pyplot as plt'); }\n",
              "    "
            ],
            "text/plain": [
              "<IPython.core.display.Javascript object>"
            ]
          },
          "metadata": {
            "tags": []
          }
        },
        {
          "output_type": "display_data",
          "data": {
            "application/javascript": [
              "\n",
              "        if (window._pyforest_update_imports_cell) { window._pyforest_update_imports_cell('from sklearn.model_selection import train_test_split\\nimport seaborn as sns\\nimport pandas as pd\\nimport numpy as np\\nimport matplotlib.pyplot as plt'); }\n",
              "    "
            ],
            "text/plain": [
              "<IPython.core.display.Javascript object>"
            ]
          },
          "metadata": {
            "tags": []
          }
        },
        {
          "output_type": "display_data",
          "data": {
            "application/javascript": [
              "\n",
              "        if (window._pyforest_update_imports_cell) { window._pyforest_update_imports_cell('from sklearn.model_selection import train_test_split\\nimport seaborn as sns\\nimport pandas as pd\\nimport numpy as np\\nimport matplotlib.pyplot as plt'); }\n",
              "    "
            ],
            "text/plain": [
              "<IPython.core.display.Javascript object>"
            ]
          },
          "metadata": {
            "tags": []
          }
        },
        {
          "output_type": "display_data",
          "data": {
            "application/javascript": [
              "\n",
              "        if (window._pyforest_update_imports_cell) { window._pyforest_update_imports_cell('from sklearn.model_selection import train_test_split\\nimport seaborn as sns\\nimport pandas as pd\\nimport numpy as np\\nimport matplotlib.pyplot as plt'); }\n",
              "    "
            ],
            "text/plain": [
              "<IPython.core.display.Javascript object>"
            ]
          },
          "metadata": {
            "tags": []
          }
        },
        {
          "output_type": "display_data",
          "data": {
            "application/javascript": [
              "\n",
              "        if (window._pyforest_update_imports_cell) { window._pyforest_update_imports_cell('from sklearn.model_selection import train_test_split\\nimport seaborn as sns\\nimport pandas as pd\\nimport numpy as np\\nimport matplotlib.pyplot as plt'); }\n",
              "    "
            ],
            "text/plain": [
              "<IPython.core.display.Javascript object>"
            ]
          },
          "metadata": {
            "tags": []
          }
        },
        {
          "output_type": "display_data",
          "data": {
            "application/javascript": [
              "\n",
              "        if (window._pyforest_update_imports_cell) { window._pyforest_update_imports_cell('from sklearn.model_selection import train_test_split\\nimport seaborn as sns\\nimport pandas as pd\\nimport numpy as np\\nimport matplotlib.pyplot as plt'); }\n",
              "    "
            ],
            "text/plain": [
              "<IPython.core.display.Javascript object>"
            ]
          },
          "metadata": {
            "tags": []
          }
        },
        {
          "output_type": "display_data",
          "data": {
            "application/javascript": [
              "\n",
              "        if (window._pyforest_update_imports_cell) { window._pyforest_update_imports_cell('from sklearn.model_selection import train_test_split\\nimport seaborn as sns\\nimport pandas as pd\\nimport numpy as np\\nimport matplotlib.pyplot as plt'); }\n",
              "    "
            ],
            "text/plain": [
              "<IPython.core.display.Javascript object>"
            ]
          },
          "metadata": {
            "tags": []
          }
        },
        {
          "output_type": "display_data",
          "data": {
            "application/javascript": [
              "\n",
              "        if (window._pyforest_update_imports_cell) { window._pyforest_update_imports_cell('from sklearn.model_selection import train_test_split\\nimport seaborn as sns\\nimport pandas as pd\\nimport numpy as np\\nimport matplotlib.pyplot as plt'); }\n",
              "    "
            ],
            "text/plain": [
              "<IPython.core.display.Javascript object>"
            ]
          },
          "metadata": {
            "tags": []
          }
        },
        {
          "output_type": "display_data",
          "data": {
            "application/javascript": [
              "\n",
              "        if (window._pyforest_update_imports_cell) { window._pyforest_update_imports_cell('from sklearn.model_selection import train_test_split\\nimport seaborn as sns\\nimport pandas as pd\\nimport numpy as np\\nimport matplotlib.pyplot as plt'); }\n",
              "    "
            ],
            "text/plain": [
              "<IPython.core.display.Javascript object>"
            ]
          },
          "metadata": {
            "tags": []
          }
        },
        {
          "output_type": "display_data",
          "data": {
            "application/javascript": [
              "\n",
              "        if (window._pyforest_update_imports_cell) { window._pyforest_update_imports_cell('from sklearn.model_selection import train_test_split\\nimport seaborn as sns\\nimport pandas as pd\\nimport numpy as np\\nimport matplotlib.pyplot as plt'); }\n",
              "    "
            ],
            "text/plain": [
              "<IPython.core.display.Javascript object>"
            ]
          },
          "metadata": {
            "tags": []
          }
        },
        {
          "output_type": "display_data",
          "data": {
            "application/javascript": [
              "\n",
              "        if (window._pyforest_update_imports_cell) { window._pyforest_update_imports_cell('from sklearn.model_selection import train_test_split\\nimport seaborn as sns\\nimport pandas as pd\\nimport numpy as np\\nimport matplotlib.pyplot as plt'); }\n",
              "    "
            ],
            "text/plain": [
              "<IPython.core.display.Javascript object>"
            ]
          },
          "metadata": {
            "tags": []
          }
        },
        {
          "output_type": "display_data",
          "data": {
            "application/javascript": [
              "\n",
              "        if (window._pyforest_update_imports_cell) { window._pyforest_update_imports_cell('from sklearn.model_selection import train_test_split\\nimport seaborn as sns\\nimport pandas as pd\\nimport numpy as np\\nimport matplotlib.pyplot as plt'); }\n",
              "    "
            ],
            "text/plain": [
              "<IPython.core.display.Javascript object>"
            ]
          },
          "metadata": {
            "tags": []
          }
        },
        {
          "output_type": "display_data",
          "data": {
            "application/javascript": [
              "\n",
              "        if (window._pyforest_update_imports_cell) { window._pyforest_update_imports_cell('from sklearn.model_selection import train_test_split\\nimport seaborn as sns\\nimport pandas as pd\\nimport numpy as np\\nimport matplotlib.pyplot as plt'); }\n",
              "    "
            ],
            "text/plain": [
              "<IPython.core.display.Javascript object>"
            ]
          },
          "metadata": {
            "tags": []
          }
        },
        {
          "output_type": "display_data",
          "data": {
            "application/javascript": [
              "\n",
              "        if (window._pyforest_update_imports_cell) { window._pyforest_update_imports_cell('from sklearn.model_selection import train_test_split\\nimport seaborn as sns\\nimport pandas as pd\\nimport numpy as np\\nimport matplotlib.pyplot as plt'); }\n",
              "    "
            ],
            "text/plain": [
              "<IPython.core.display.Javascript object>"
            ]
          },
          "metadata": {
            "tags": []
          }
        },
        {
          "output_type": "display_data",
          "data": {
            "application/javascript": [
              "\n",
              "        if (window._pyforest_update_imports_cell) { window._pyforest_update_imports_cell('from sklearn.model_selection import train_test_split\\nimport seaborn as sns\\nimport pandas as pd\\nimport numpy as np\\nimport matplotlib.pyplot as plt'); }\n",
              "    "
            ],
            "text/plain": [
              "<IPython.core.display.Javascript object>"
            ]
          },
          "metadata": {
            "tags": []
          }
        },
        {
          "output_type": "display_data",
          "data": {
            "application/javascript": [
              "\n",
              "        if (window._pyforest_update_imports_cell) { window._pyforest_update_imports_cell('from sklearn.model_selection import train_test_split\\nimport seaborn as sns\\nimport pandas as pd\\nimport numpy as np\\nimport matplotlib.pyplot as plt'); }\n",
              "    "
            ],
            "text/plain": [
              "<IPython.core.display.Javascript object>"
            ]
          },
          "metadata": {
            "tags": []
          }
        },
        {
          "output_type": "display_data",
          "data": {
            "application/javascript": [
              "\n",
              "        if (window._pyforest_update_imports_cell) { window._pyforest_update_imports_cell('from sklearn.model_selection import train_test_split\\nimport seaborn as sns\\nimport pandas as pd\\nimport numpy as np\\nimport matplotlib.pyplot as plt'); }\n",
              "    "
            ],
            "text/plain": [
              "<IPython.core.display.Javascript object>"
            ]
          },
          "metadata": {
            "tags": []
          }
        },
        {
          "output_type": "execute_result",
          "data": {
            "text/html": [
              "<div>\n",
              "<style scoped>\n",
              "    .dataframe tbody tr th:only-of-type {\n",
              "        vertical-align: middle;\n",
              "    }\n",
              "\n",
              "    .dataframe tbody tr th {\n",
              "        vertical-align: top;\n",
              "    }\n",
              "\n",
              "    .dataframe thead th {\n",
              "        text-align: right;\n",
              "    }\n",
              "</style>\n",
              "<table border=\"1\" class=\"dataframe\">\n",
              "  <thead>\n",
              "    <tr style=\"text-align: right;\">\n",
              "      <th></th>\n",
              "      <th>Recall_Padronizado</th>\n",
              "      <th>Recall_Normalizado</th>\n",
              "    </tr>\n",
              "  </thead>\n",
              "  <tbody>\n",
              "    <tr>\n",
              "      <th>LogisticRegression</th>\n",
              "      <td>0.805316</td>\n",
              "      <td>0.805980</td>\n",
              "    </tr>\n",
              "    <tr>\n",
              "      <th>DecisionTreeClassifier</th>\n",
              "      <td>0.696346</td>\n",
              "      <td>0.700997</td>\n",
              "    </tr>\n",
              "    <tr>\n",
              "      <th>RandomForestClassifier</th>\n",
              "      <td>0.773422</td>\n",
              "      <td>0.769435</td>\n",
              "    </tr>\n",
              "    <tr>\n",
              "      <th>SVC</th>\n",
              "      <td>0.790698</td>\n",
              "      <td>0.798007</td>\n",
              "    </tr>\n",
              "    <tr>\n",
              "      <th>GaussianNB</th>\n",
              "      <td>0.858472</td>\n",
              "      <td>0.858472</td>\n",
              "    </tr>\n",
              "    <tr>\n",
              "      <th>XGBClassifier</th>\n",
              "      <td>0.807973</td>\n",
              "      <td>0.807973</td>\n",
              "    </tr>\n",
              "  </tbody>\n",
              "</table>\n",
              "</div>"
            ],
            "text/plain": [
              "                        Recall_Padronizado  Recall_Normalizado\n",
              "LogisticRegression                0.805316            0.805980\n",
              "DecisionTreeClassifier            0.696346            0.700997\n",
              "RandomForestClassifier            0.773422            0.769435\n",
              "SVC                               0.790698            0.798007\n",
              "GaussianNB                        0.858472            0.858472\n",
              "XGBClassifier                     0.807973            0.807973"
            ]
          },
          "metadata": {
            "tags": []
          },
          "execution_count": 19
        }
      ]
    },
    {
      "cell_type": "markdown",
      "metadata": {
        "id": "CXvxQDNOGX8B"
      },
      "source": [
        "Observando os dois DataFrames acima com os dados desbalanceados e balanceados, temos:\n",
        "* Os modelos utilizando os dados balanceados, obtiveram um desempenho bem superior do que com os dados desbalanceados.\n",
        "* Alguns modelos foram melhores com dados padronizados e outros com dados normalizados.\n",
        "* Interessante notar que o modelo de Naive Bayes não sofreu efeito nenhum com as mudanças de escalas.\n",
        "\n",
        "Vale ressaltar que esta avaliação foi bastante superficial, não foi alterado nenhum parâmetro previamente.\n",
        "\n",
        "Os três melhores modelos foram:\n",
        "* Naive Bayes;\n",
        "* XGBoost; e\n",
        "* Regressão Logística.\n",
        "\n",
        "Como os melhores resultados foram através de dados normalizados, vamos então aplicar essa normalização:"
      ]
    },
    {
      "cell_type": "code",
      "metadata": {
        "id": "0K1Vr3WaTN9A"
      },
      "source": [
        "# Normalizando os dados de treino\n",
        "mms = MinMaxScaler().fit(X_train)\n",
        "X_train = mms.transform(X_train)\n",
        "\n",
        "# Balanceando os dados\n",
        "rus = RandomUnderSampler()\n",
        "X_train_rus, y_train_rus = rus.fit_sample(X_train, y_train)"
      ],
      "execution_count": null,
      "outputs": []
    },
    {
      "cell_type": "markdown",
      "metadata": {
        "id": "-Y6tgwcXVBfa"
      },
      "source": [
        "### Otimização dos Hiperparâmetros\n",
        "\n",
        "Utilizando o Grid Search, vamos encontrar os melhores parâmetros para os estimadores Logistic Regression, XGBoost e Naive Bayes, assim buscando melhorar o desempenho destes para outra avaliação.\n",
        "\n"
      ]
    },
    {
      "cell_type": "markdown",
      "metadata": {
        "id": "7a4fvSEPhMdG"
      },
      "source": [
        "#### Regressão Logística\n",
        "\n",
        "Começando pelo estimador de Regressão Logística, vamos treinar um modelo base para podermos comparar com o modelo tunado:"
      ]
    },
    {
      "cell_type": "code",
      "metadata": {
        "colab": {
          "base_uri": "https://localhost:8080/",
          "height": 35
        },
        "id": "8YuLAqUzR0Hk",
        "outputId": "f58e2950-df28-4ad8-f7ee-ff51ae5daf18"
      },
      "source": [
        "# Treinando um modelo base de Regressão Logística\n",
        "pontuacao_lr_base = val_model_normalizado(X_train_rus, y_train_rus, lr)\n",
        "\n",
        "# Exibindo os resultados\n",
        "print('Recall do modelo de Regressão Logítica base: {:.2f}'.format(pontuacao_lr_base))"
      ],
      "execution_count": null,
      "outputs": [
        {
          "output_type": "display_data",
          "data": {
            "application/javascript": [
              "\n",
              "        if (window._pyforest_update_imports_cell) { window._pyforest_update_imports_cell('from sklearn.model_selection import train_test_split\\nimport seaborn as sns\\nimport pandas as pd\\nimport numpy as np\\nimport matplotlib.pyplot as plt'); }\n",
              "    "
            ],
            "text/plain": [
              "<IPython.core.display.Javascript object>"
            ]
          },
          "metadata": {
            "tags": []
          }
        },
        {
          "output_type": "display_data",
          "data": {
            "application/javascript": [
              "\n",
              "        if (window._pyforest_update_imports_cell) { window._pyforest_update_imports_cell('from sklearn.model_selection import train_test_split\\nimport seaborn as sns\\nimport pandas as pd\\nimport numpy as np\\nimport matplotlib.pyplot as plt'); }\n",
              "    "
            ],
            "text/plain": [
              "<IPython.core.display.Javascript object>"
            ]
          },
          "metadata": {
            "tags": []
          }
        },
        {
          "output_type": "stream",
          "text": [
            "Recall do modelo de Regressão Logítica base: 0.80\n"
          ],
          "name": "stdout"
        }
      ]
    },
    {
      "cell_type": "markdown",
      "metadata": {
        "id": "h2LmPsvmho93"
      },
      "source": [
        "Temos que o modelo de Regressão Logística base, possui um `recall` de 0.80.\n",
        "\n",
        "Agora vamos encontrar os melhores hiperparâmetros para se ter o melhor `recall`:"
      ]
    },
    {
      "cell_type": "code",
      "metadata": {
        "id": "ltCANmKbWZmb",
        "colab": {
          "base_uri": "https://localhost:8080/"
        },
        "outputId": "45274e2f-604c-46f0-9379-5d26c42d96ba"
      },
      "source": [
        "# Fazendo uma lista com os parâmetros que serão usados pelo GridSearch\n",
        "grid_lr = dict()\n",
        "grid_lr['solver'] = ['newton-cg', 'lbfgs', 'liblinear']\n",
        "grid_lr['penalty'] = ['none', 'l1', 'l2', 'elasticnet']\n",
        "grid_lr['C'] = [1e-5, 1e-4, 1e-3, 1e-2, 1e-1, 1, 10, 100]\n",
        "\n",
        "# Definindo a validação cruzada\n",
        "cv = RepeatedStratifiedKFold(n_splits=10, n_repeats=3, random_state=2)\n",
        "\n",
        "# Definindo a busca do GridSearch\n",
        "busca = GridSearchCV(lr, grid_lr, scoring='recall', n_jobs=-1, cv=cv)\n",
        "\n",
        "# Executando a busca\n",
        "resultado = busca.fit(X_train_rus, y_train_rus)\n",
        "\n",
        "# Exibindo os resultados\n",
        "print(\"Melhor Recall:\", resultado.best_score_)\n",
        "print(\"Melhores Hiperparâmetros:\", resultado.best_params_)"
      ],
      "execution_count": null,
      "outputs": [
        {
          "output_type": "stream",
          "text": [
            "Melhor Recall: 0.91095217071376\n",
            "Melhores Hiperparâmetros: {'C': 1e-05, 'penalty': 'l2', 'solver': 'liblinear'}\n"
          ],
          "name": "stdout"
        }
      ]
    },
    {
      "cell_type": "markdown",
      "metadata": {
        "id": "_Gd4GW9rh831"
      },
      "source": [
        "O melhor modelo dado os hiperparâmetros passados, atingiu 0.91 de `recall` com os parâmetros:\n",
        "* `C` = 1e - 05\n",
        "* `penalty` = l2\n",
        "* `solver` = liblinear\n",
        "\n",
        "Houve uma melhora de 0.80 do modelo base para 0.91 com o modelo tunado."
      ]
    },
    {
      "cell_type": "markdown",
      "metadata": {
        "id": "X1hrj-AwilMg"
      },
      "source": [
        "#### XGBoost\n",
        "\n",
        "Agora vamos analisar o modelo XGBoost, começando também pelo estimador base:"
      ]
    },
    {
      "cell_type": "code",
      "metadata": {
        "colab": {
          "base_uri": "https://localhost:8080/",
          "height": 35
        },
        "id": "lSDRea2tizXa",
        "outputId": "9ec03c91-0872-4b9d-f633-40c2f9841d9e"
      },
      "source": [
        "# Treinando um modelo base de XGBoost\n",
        "pontuacao_xgb_base = val_model_normalizado(X_train_rus, y_train_rus, xgb)\n",
        "\n",
        "# Exibindo os resultados\n",
        "print('Recall do modelo XGBoost base: {:.2f}'.format(pontuacao_xgb_base))"
      ],
      "execution_count": null,
      "outputs": [
        {
          "output_type": "display_data",
          "data": {
            "application/javascript": [
              "\n",
              "        if (window._pyforest_update_imports_cell) { window._pyforest_update_imports_cell('from sklearn.model_selection import train_test_split\\nimport seaborn as sns\\nimport pandas as pd\\nimport numpy as np\\nimport matplotlib.pyplot as plt'); }\n",
              "    "
            ],
            "text/plain": [
              "<IPython.core.display.Javascript object>"
            ]
          },
          "metadata": {
            "tags": []
          }
        },
        {
          "output_type": "display_data",
          "data": {
            "application/javascript": [
              "\n",
              "        if (window._pyforest_update_imports_cell) { window._pyforest_update_imports_cell('from sklearn.model_selection import train_test_split\\nimport seaborn as sns\\nimport pandas as pd\\nimport numpy as np\\nimport matplotlib.pyplot as plt'); }\n",
              "    "
            ],
            "text/plain": [
              "<IPython.core.display.Javascript object>"
            ]
          },
          "metadata": {
            "tags": []
          }
        },
        {
          "output_type": "stream",
          "text": [
            "Recall do modelo XGBoost base: 0.80\n"
          ],
          "name": "stdout"
        }
      ]
    },
    {
      "cell_type": "markdown",
      "metadata": {
        "id": "hCuPCqZJjvo1"
      },
      "source": [
        "O modelo XGBoost base possui `recall` de 0.80, agora vamos encontrar seus melhores parâmetros.\n",
        "\n",
        "Para o XGBoost, vamos buscar os parâmetros por partes, pois um grande número de parâmetros ao mesmo tempo pode fazer com que leve muito tempo para Grid Search encontrar a melhor combinação."
      ]
    },
    {
      "cell_type": "code",
      "metadata": {
        "colab": {
          "base_uri": "https://localhost:8080/"
        },
        "id": "zJ3MhG32kAij",
        "outputId": "93181662-aee5-4ce0-a0ed-2face7a10dbf"
      },
      "source": [
        "# Fazendo uma lista com os parâmetros que serão usados pelo GridSearch\n",
        "grid_xgb_1 = dict()\n",
        "grid_xgb_1['learning_rate'] = [0.001, 0.01, 0.1, 1]\n",
        "\n",
        "# Definindo a validação cruzada\n",
        "cv = RepeatedStratifiedKFold(n_splits=10, n_repeats=3, random_state=2)\n",
        "\n",
        "# Definindo a busca do GridSearch\n",
        "busca_xgb_1 = GridSearchCV(xgb, grid_xgb_1, scoring='recall', n_jobs=-1, cv=cv)\n",
        "\n",
        "# Executando a busca\n",
        "resultado_xgb_1 = busca_xgb_1.fit(X_train_rus, y_train_rus)\n",
        "\n",
        "# Exibindo os resultados\n",
        "print(\"Melhor Recall:\", resultado_xgb_1.best_score_)\n",
        "print(\"Melhores Hiperparâmetros:\", resultado_xgb_1.best_params_)"
      ],
      "execution_count": null,
      "outputs": [
        {
          "output_type": "stream",
          "text": [
            "Melhor Recall: 0.8234451802796172\n",
            "Melhores Hiperparâmetros: {'learning_rate': 0.01}\n"
          ],
          "name": "stdout"
        }
      ]
    },
    {
      "cell_type": "code",
      "metadata": {
        "colab": {
          "base_uri": "https://localhost:8080/"
        },
        "id": "1O46R6IFV4D7",
        "outputId": "08c277c5-508d-4d29-dda0-6d3d944387c7"
      },
      "source": [
        "# Instanciando o modelo com os novos parâmetros\n",
        "xgb_tunado_1 = XGBClassifier(learning_rate=0.01)\n",
        "\n",
        "# Fazendo uma lista com os parâmetros que serão usados pelo GridSearch\n",
        "grid_xgb_2 = dict()\n",
        "grid_xgb_2['n_estimators'] = [0,1000,50]\n",
        "\n",
        "# Definindo a validação cruzada\n",
        "cv = RepeatedStratifiedKFold(n_splits=10, n_repeats=3, random_state=2)\n",
        "\n",
        "# Definindo a busca do GridSearch\n",
        "busca_xgb_2 = GridSearchCV(xgb_tunado_1, grid_xgb_2, scoring='recall', n_jobs=-1, cv=cv)\n",
        "\n",
        "# Executando a busca\n",
        "resultado_xgb_2 = busca_xgb_2.fit(X_train_rus, y_train_rus)\n",
        "\n",
        "# Exibindo os resultados\n",
        "print(\"Melhor Recall:\", resultado_xgb_2.best_score_)\n",
        "print(\"Melhores Hiperparâmetros:\", resultado_xgb_2.best_params_)"
      ],
      "execution_count": null,
      "outputs": [
        {
          "output_type": "stream",
          "text": [
            "Melhor Recall: 0.830550404709345\n",
            "Melhores Hiperparâmetros: {'n_estimators': 50}\n"
          ],
          "name": "stdout"
        }
      ]
    },
    {
      "cell_type": "code",
      "metadata": {
        "colab": {
          "base_uri": "https://localhost:8080/"
        },
        "id": "8Kf5FfcoV4m1",
        "outputId": "e86eb996-5639-4ab4-98eb-abcac9a77b15"
      },
      "source": [
        "# Instanciando o modelo com os novos parâmetros\n",
        "xgb_tunado_2 = XGBClassifier(learning_rate=0.01, n_estimators=50)\n",
        "\n",
        "# Fazendo uma lista com os parâmetros que serão usados pelo GridSearch\n",
        "grid_xgb_3 = dict()\n",
        "grid_xgb_3['max_depth'] = [1,8]\n",
        "\n",
        "# Definindo a validação cruzada\n",
        "cv = RepeatedStratifiedKFold(n_splits=10, n_repeats=3, random_state=2)\n",
        "\n",
        "# Definindo a busca do GridSearch\n",
        "busca_xgb_3 = GridSearchCV(xgb_tunado_2, grid_xgb_3, scoring='recall', n_jobs=-1, cv=cv)\n",
        "\n",
        "# Executando a busca\n",
        "resultado_xgb_3 = busca_xgb_3.fit(X_train_rus, y_train_rus)\n",
        "\n",
        "# Exibindo os resultados\n",
        "print(\"Melhor Recall:\", resultado_xgb_3.best_score_)\n",
        "print(\"Melhores Hiperparâmetros:\", resultado_xgb_3.best_params_)"
      ],
      "execution_count": null,
      "outputs": [
        {
          "output_type": "stream",
          "text": [
            "Melhor Recall: 0.8863649742457689\n",
            "Melhores Hiperparâmetros: {'max_depth': 1}\n"
          ],
          "name": "stdout"
        }
      ]
    },
    {
      "cell_type": "code",
      "metadata": {
        "colab": {
          "base_uri": "https://localhost:8080/"
        },
        "id": "7bZvqv_3V4xr",
        "outputId": "be436d6b-e357-44dd-fc54-1f10f868aa6a"
      },
      "source": [
        "# Instanciando o modelo com os novos parâmetros\n",
        "xgb_tunado_3 = XGBClassifier(learning_rate=0.01, n_estimators=50, max_depth=1)\n",
        "\n",
        "# Fazendo uma lista com os parâmetros que serão usados pelo GridSearch\n",
        "grid_xgb_4 = dict()\n",
        "grid_xgb_4['min_child_weight'] = [1,5]\n",
        "\n",
        "# Definindo a validação cruzada\n",
        "cv = RepeatedStratifiedKFold(n_splits=10, n_repeats=3, random_state=2)\n",
        "\n",
        "# Definindo a busca do GridSearch\n",
        "busca_xgb_4 = GridSearchCV(xgb_tunado_3, grid_xgb_4, scoring='recall', n_jobs=-1, cv=cv)\n",
        "\n",
        "# Executando a busca\n",
        "resultado_xgb_4 = busca_xgb_4.fit(X_train_rus, y_train_rus)\n",
        "\n",
        "# Exibindo os resultados\n",
        "print(\"Melhor Recall:\", resultado_xgb_4.best_score_)\n",
        "print(\"Melhores Hiperparâmetros:\", resultado_xgb_4.best_params_)"
      ],
      "execution_count": null,
      "outputs": [
        {
          "output_type": "stream",
          "text": [
            "Melhor Recall: 0.8863649742457689\n",
            "Melhores Hiperparâmetros: {'min_child_weight': 1}\n"
          ],
          "name": "stdout"
        }
      ]
    },
    {
      "cell_type": "code",
      "metadata": {
        "colab": {
          "base_uri": "https://localhost:8080/"
        },
        "id": "tt2DnThpV47G",
        "outputId": "ec9b2df8-23f9-4849-95dc-b95977d5e943"
      },
      "source": [
        "# Instanciando o modelo com os novos parâmetros\n",
        "xgb_tunado_4 = XGBClassifier(learning_rate=0.01, n_estimators=50, max_depth=1, min_child_weight=1)\n",
        "\n",
        "# Fazendo uma lista com os parâmetros que serão usados pelo GridSearch\n",
        "grid_xgb_5 = dict()\n",
        "grid_xgb_5['gamma'] = [i/10.0 for i in range(0,5)]\n",
        "\n",
        "# Definindo a validação cruzada\n",
        "cv = RepeatedStratifiedKFold(n_splits=10, n_repeats=3, random_state=2)\n",
        "\n",
        "# Definindo a busca do GridSearch\n",
        "busca_xgb_5 = GridSearchCV(xgb_tunado_4, grid_xgb_5, scoring='recall', n_jobs=-1, cv=cv)\n",
        "\n",
        "# Executando a busca\n",
        "resultado_xgb_5 = busca_xgb_5.fit(X_train_rus, y_train_rus)\n",
        "\n",
        "# Exibindo os resultados\n",
        "print(\"Melhor Recall:\", resultado_xgb_5.best_score_)\n",
        "print(\"Melhores Hiperparâmetros:\", resultado_xgb_5.best_params_)"
      ],
      "execution_count": null,
      "outputs": [
        {
          "output_type": "stream",
          "text": [
            "Melhor Recall: 0.8863649742457689\n",
            "Melhores Hiperparâmetros: {'gamma': 0.0}\n"
          ],
          "name": "stdout"
        }
      ]
    },
    {
      "cell_type": "markdown",
      "metadata": {
        "id": "MXD26LKdqf3Q"
      },
      "source": [
        "O melhor modelo dado os hiperparâmetros passados, atingiu 0.88 de `recall` com os parâmetros:\n",
        "* `learning_rate` = 0.01\n",
        "* `n_estimators` = 50\n",
        "* `max_depth` = 1\n",
        "* `min_child_weight` = 1\n",
        "* `gamma` = 0.0\n",
        "\n",
        "Houve uma melhora de 0.80 do modelo base para 0.88 com o modelo tunado.\n",
        "\n",
        "Lembrando que como essa busca pelos parâmetros foi feita separadamente, ela pode não ser a melhor se analisado todo o conjunto ao mesmo tempo, porém o custo em processamento seria muito alto."
      ]
    },
    {
      "cell_type": "markdown",
      "metadata": {
        "id": "ffZR3pljqtXt"
      },
      "source": [
        "#### Naive Bayes (GaussianNB)\n",
        "\n",
        "Por último vamos treinar um modelo base para Naive Bayes e em seguida encontrar o melhor parâmetro para aumentar o `recall`:"
      ]
    },
    {
      "cell_type": "code",
      "metadata": {
        "colab": {
          "base_uri": "https://localhost:8080/",
          "height": 35
        },
        "id": "DFXGsQimrDrn",
        "outputId": "80e55226-054a-4647-9474-7db3210268f0"
      },
      "source": [
        "# Treinando um modelo base de XGBoost\n",
        "pontuacao_gnb_base = val_model_normalizado(X_train_rus, y_train_rus, gnb)\n",
        "\n",
        "# Exibindo os resultados\n",
        "print('Recall do modelo Naive Bayes base: {:.2f}'.format(pontuacao_gnb_base))"
      ],
      "execution_count": null,
      "outputs": [
        {
          "output_type": "display_data",
          "data": {
            "application/javascript": [
              "\n",
              "        if (window._pyforest_update_imports_cell) { window._pyforest_update_imports_cell('import seaborn as sns\\nimport numpy as np\\nimport re\\nimport gensim\\nfrom statsmodels.tsa.arima_model import ARIMA\\nimport plotly as py\\nimport pickle\\nimport plotly.express as px\\nimport cv2\\nfrom sklearn.feature_extraction.text import CountVectorizer\\nimport nltk\\nfrom openpyxl import load_workbook\\nimport os\\nimport fastai\\nimport fbprophet\\nfrom sklearn import metrics\\nimport glob\\nimport matplotlib.pyplot as plt\\nimport altair as alt\\nimport imutils\\nfrom sklearn.model_selection import train_test_split\\nimport bokeh\\nimport pydot\\nimport plotly.graph_objs as go\\nimport matplotlib as mpl\\nimport pandas as pd\\nimport lightgbm as lgb'); }\n",
              "    "
            ],
            "text/plain": [
              "<IPython.core.display.Javascript object>"
            ]
          },
          "metadata": {
            "tags": []
          }
        },
        {
          "output_type": "display_data",
          "data": {
            "application/javascript": [
              "\n",
              "        if (window._pyforest_update_imports_cell) { window._pyforest_update_imports_cell('import seaborn as sns\\nimport numpy as np\\nimport re\\nimport gensim\\nfrom statsmodels.tsa.arima_model import ARIMA\\nimport plotly as py\\nimport pickle\\nimport plotly.express as px\\nimport cv2\\nfrom sklearn.feature_extraction.text import CountVectorizer\\nimport nltk\\nfrom openpyxl import load_workbook\\nimport os\\nimport fastai\\nimport fbprophet\\nfrom sklearn import metrics\\nimport glob\\nimport matplotlib.pyplot as plt\\nimport altair as alt\\nimport imutils\\nfrom sklearn.model_selection import train_test_split\\nimport bokeh\\nimport pydot\\nimport plotly.graph_objs as go\\nimport matplotlib as mpl\\nimport pandas as pd\\nimport lightgbm as lgb'); }\n",
              "    "
            ],
            "text/plain": [
              "<IPython.core.display.Javascript object>"
            ]
          },
          "metadata": {
            "tags": []
          }
        },
        {
          "output_type": "stream",
          "text": [
            "Recall do modelo Naive Bayes base: 0.86\n"
          ],
          "name": "stdout"
        }
      ]
    },
    {
      "cell_type": "markdown",
      "metadata": {
        "id": "cn1Uimjqrv1r"
      },
      "source": [
        "O modelo Naive Bayes base possui `recall` de --, agora vamos encontrar seus melhores parâmetros:"
      ]
    },
    {
      "cell_type": "code",
      "metadata": {
        "colab": {
          "base_uri": "https://localhost:8080/",
          "height": 54
        },
        "id": "hErK_XnBr3so",
        "outputId": "adf4a820-ef49-4111-e90f-8d5115038d0c"
      },
      "source": [
        "# Fazendo uma lista com os parâmetros que serão usados pelo GridSearch\n",
        "grid_gnb = dict()\n",
        "grid_gnb['var_smoothing'] = np.logspace(0,-9, num=100)\n",
        "\n",
        "\n",
        "# Definindo a validação cruzada\n",
        "cv = RepeatedStratifiedKFold(n_splits=10, n_repeats=3, random_state=2)\n",
        "\n",
        "# Definindo a busca do GridSearch\n",
        "busca_gnb = GridSearchCV(gnb, grid_gnb, scoring='recall', n_jobs=-1, cv=cv)\n",
        "\n",
        "# Executando a busca\n",
        "resultado_gnb = busca_gnb.fit(X_train_rus, y_train_rus)\n",
        "\n",
        "# Exibindo os resultados\n",
        "print(\"Melhor Recall:\", resultado_gnb.best_score_)\n",
        "print(\"Melhores Hiperparâmetros:\", resultado_gnb.best_params_)"
      ],
      "execution_count": null,
      "outputs": [
        {
          "output_type": "display_data",
          "data": {
            "application/javascript": [
              "\n",
              "        if (window._pyforest_update_imports_cell) { window._pyforest_update_imports_cell('import seaborn as sns\\nimport numpy as np\\nimport re\\nimport gensim\\nfrom statsmodels.tsa.arima_model import ARIMA\\nimport plotly as py\\nimport pickle\\nimport plotly.express as px\\nimport cv2\\nfrom sklearn.feature_extraction.text import CountVectorizer\\nimport nltk\\nfrom openpyxl import load_workbook\\nimport os\\nimport fastai\\nimport fbprophet\\nfrom sklearn import metrics\\nimport glob\\nimport matplotlib.pyplot as plt\\nimport altair as alt\\nimport imutils\\nfrom sklearn.model_selection import train_test_split\\nimport bokeh\\nimport pydot\\nimport plotly.graph_objs as go\\nimport matplotlib as mpl\\nimport pandas as pd\\nimport lightgbm as lgb'); }\n",
              "    "
            ],
            "text/plain": [
              "<IPython.core.display.Javascript object>"
            ]
          },
          "metadata": {
            "tags": []
          }
        },
        {
          "output_type": "stream",
          "text": [
            "Melhor Recall: 0.8992126563649742\n",
            "Melhores Hiperparâmetros: {'var_smoothing': 1.0}\n"
          ],
          "name": "stdout"
        }
      ]
    },
    {
      "cell_type": "markdown",
      "metadata": {
        "id": "8ooMBah4uId2"
      },
      "source": [
        "O melhor modelo dado os hiperparâmetros passados, atingiu 0.90 de `recall` com os parâmetros:\n",
        "* `var_smoothing` = 1.0 \n",
        "\n",
        "Houve uma melhora de 0.86 do modelo base para 0.90 com o modelo tunado."
      ]
    },
    {
      "cell_type": "markdown",
      "metadata": {
        "id": "ov4xxHb1uOyp"
      },
      "source": [
        "#### Resumindo os Resultados\n",
        "\n",
        "Para facilitar na visualização dos resultados para cada modelo, temos:\n",
        "\n",
        "* Logistic Regression: `recall` de 0.91;\n",
        "* XGBoost: `recall` de 0.88; e\n",
        "* Naive Bayes: `recall` de 0.90.\n",
        "\n",
        "Vemos que antes de alterarmos os hiperparâmetros, o modelo de Naive Bayes foi bastante superior em comparação com os outros, porém por fim, o modelo de Regressão Logística foi capaz de obter um desempenho superior.\n",
        "\n",
        "É possível perceber então, a grande influência que um modelo sofre de seus parâmetros.\n",
        "\n",
        "Vale ressaltar que alguns modelos foram melhores tunados que outros, seja pelo modo como foi encontrado os melhores hiperparâmetros, ou pela quantidade de parâmetros explorados. Assim sendo, caso entrássemos mais a fundo, os resultados poderiam ser bem diferentes."
      ]
    },
    {
      "cell_type": "markdown",
      "metadata": {
        "id": "1etvGlzUfZJA"
      },
      "source": [
        "### Última Avaliação para os Modelos Tunados\n",
        "\n",
        "Ainda em busca do melhor estimador para nosso problema, temos o método Ensemble, que busca o melhor de cada modelo e até mesmo é capaz de combiná-los, assim tendo um modelo talvez ainda melhor.\n",
        "\n",
        "Para isso utilizaremos o `VotingClassifier` com base na métrica Recall.\n",
        "\n",
        "Primeiramente vamos instanciar novamente os três modelos, aplicando a mudança em seus hiperparâmetros."
      ]
    },
    {
      "cell_type": "code",
      "metadata": {
        "colab": {
          "base_uri": "https://localhost:8080/",
          "height": 168
        },
        "id": "a-b6z1R4npy5",
        "outputId": "9fc79ad4-3051-42a3-8045-e7bf85f12aa2"
      },
      "source": [
        "# Instanciar o modelo de Regressão Logística\n",
        "modelo_lr = LogisticRegression(C=1e-5, penalty='l2', solver='liblinear')\n",
        "\n",
        "# Instanciar o modelo de\n",
        "modelo_xgb = XGBClassifier(learning_rate=0.01, n_estimators=50, max_depth=1, min_child_weight=1, gamma=0.0)\n",
        "\n",
        "# Instanciar o modelo de\n",
        "modelo_nb = GaussianNB(var_smoothing=1.0)\n",
        "\n",
        "# Instanciar o Voting Classifier\n",
        "voting_clf = VotingClassifier(estimators=[('lr', modelo_lr), ('xgb', modelo_xgb), ('nb', modelo_nb)])\n",
        "\n",
        "# Obtendo um novo DataFrame para guardar os novos resultados de Recall\n",
        "model = []\n",
        "recalls = []\n",
        "\n",
        "for clf in (modelo_lr, modelo_xgb, modelo_nb, voting_clf):\n",
        "  model.append(clf.__class__.__name__)\n",
        "  recalls.append(val_model_normalizado(X_train_rus, y_train_rus, clf))\n",
        "\n",
        "voting_recall = pd.DataFrame(data=recalls, index=model, columns=['Recall'])\n",
        "\n",
        "# Checando o novo DataFrame\n",
        "voting_recall"
      ],
      "execution_count": null,
      "outputs": [
        {
          "output_type": "display_data",
          "data": {
            "application/javascript": [
              "\n",
              "        if (window._pyforest_update_imports_cell) { window._pyforest_update_imports_cell('from scipy import signal as sg\\nimport seaborn as sns\\nimport numpy as np\\nimport skimage\\nimport re\\nimport gensim\\nfrom statsmodels.tsa.arima_model import ARIMA\\nimport plotly as py\\nimport pickle\\nimport spacy\\nfrom sklearn.linear_model import LassoCV\\nimport plotly.express as px\\nimport sklearn\\nimport cv2\\nfrom sklearn.feature_extraction.text import CountVectorizer\\nimport nltk\\nfrom openpyxl import load_workbook\\nfrom sklearn import svm\\nimport os\\nimport sys\\nfrom sklearn.linear_model import LinearRegression\\nimport fastai\\nimport fbprophet\\nfrom scipy import stats\\nfrom sklearn.ensemble import GradientBoostingRegressor\\nfrom sklearn import metrics\\nimport glob\\nimport matplotlib.pyplot as plt\\nimport altair as alt\\nimport imutils\\nimport statistics\\nfrom sklearn.model_selection import train_test_split\\nimport bokeh\\nfrom sklearn.linear_model import Lasso\\nimport pydot\\nimport plotly.graph_objs as go\\nfrom sklearn.ensemble import GradientBoostingClassifier\\nimport statsmodels.api as sm\\nimport matplotlib as mpl\\nimport pandas as pd\\nimport lightgbm as lgb'); }\n",
              "    "
            ],
            "text/plain": [
              "<IPython.core.display.Javascript object>"
            ]
          },
          "metadata": {
            "tags": []
          }
        },
        {
          "output_type": "display_data",
          "data": {
            "application/javascript": [
              "\n",
              "        if (window._pyforest_update_imports_cell) { window._pyforest_update_imports_cell('from scipy import signal as sg\\nimport seaborn as sns\\nimport numpy as np\\nimport skimage\\nimport re\\nimport gensim\\nfrom statsmodels.tsa.arima_model import ARIMA\\nimport plotly as py\\nimport pickle\\nimport spacy\\nfrom sklearn.linear_model import LassoCV\\nimport plotly.express as px\\nimport sklearn\\nimport cv2\\nfrom sklearn.feature_extraction.text import CountVectorizer\\nimport nltk\\nfrom openpyxl import load_workbook\\nfrom sklearn import svm\\nimport os\\nimport sys\\nfrom sklearn.linear_model import LinearRegression\\nimport fastai\\nimport fbprophet\\nfrom scipy import stats\\nfrom sklearn.ensemble import GradientBoostingRegressor\\nfrom sklearn import metrics\\nimport glob\\nimport matplotlib.pyplot as plt\\nimport altair as alt\\nimport imutils\\nimport statistics\\nfrom sklearn.model_selection import train_test_split\\nimport bokeh\\nfrom sklearn.linear_model import Lasso\\nimport pydot\\nimport plotly.graph_objs as go\\nfrom sklearn.ensemble import GradientBoostingClassifier\\nimport statsmodels.api as sm\\nimport matplotlib as mpl\\nimport pandas as pd\\nimport lightgbm as lgb'); }\n",
              "    "
            ],
            "text/plain": [
              "<IPython.core.display.Javascript object>"
            ]
          },
          "metadata": {
            "tags": []
          }
        },
        {
          "output_type": "display_data",
          "data": {
            "application/javascript": [
              "\n",
              "        if (window._pyforest_update_imports_cell) { window._pyforest_update_imports_cell('from scipy import signal as sg\\nimport seaborn as sns\\nimport numpy as np\\nimport skimage\\nimport re\\nimport gensim\\nfrom statsmodels.tsa.arima_model import ARIMA\\nimport plotly as py\\nimport pickle\\nimport spacy\\nfrom sklearn.linear_model import LassoCV\\nimport plotly.express as px\\nimport sklearn\\nimport cv2\\nfrom sklearn.feature_extraction.text import CountVectorizer\\nimport nltk\\nfrom openpyxl import load_workbook\\nfrom sklearn import svm\\nimport os\\nimport sys\\nfrom sklearn.linear_model import LinearRegression\\nimport fastai\\nimport fbprophet\\nfrom scipy import stats\\nfrom sklearn.ensemble import GradientBoostingRegressor\\nfrom sklearn import metrics\\nimport glob\\nimport matplotlib.pyplot as plt\\nimport altair as alt\\nimport imutils\\nimport statistics\\nfrom sklearn.model_selection import train_test_split\\nimport bokeh\\nfrom sklearn.linear_model import Lasso\\nimport pydot\\nimport plotly.graph_objs as go\\nfrom sklearn.ensemble import GradientBoostingClassifier\\nimport statsmodels.api as sm\\nimport matplotlib as mpl\\nimport pandas as pd\\nimport lightgbm as lgb'); }\n",
              "    "
            ],
            "text/plain": [
              "<IPython.core.display.Javascript object>"
            ]
          },
          "metadata": {
            "tags": []
          }
        },
        {
          "output_type": "display_data",
          "data": {
            "application/javascript": [
              "\n",
              "        if (window._pyforest_update_imports_cell) { window._pyforest_update_imports_cell('from scipy import signal as sg\\nimport seaborn as sns\\nimport numpy as np\\nimport skimage\\nimport re\\nimport gensim\\nfrom statsmodels.tsa.arima_model import ARIMA\\nimport plotly as py\\nimport pickle\\nimport spacy\\nfrom sklearn.linear_model import LassoCV\\nimport plotly.express as px\\nimport sklearn\\nimport cv2\\nfrom sklearn.feature_extraction.text import CountVectorizer\\nimport nltk\\nfrom openpyxl import load_workbook\\nfrom sklearn import svm\\nimport os\\nimport sys\\nfrom sklearn.linear_model import LinearRegression\\nimport fastai\\nimport fbprophet\\nfrom scipy import stats\\nfrom sklearn.ensemble import GradientBoostingRegressor\\nfrom sklearn import metrics\\nimport glob\\nimport matplotlib.pyplot as plt\\nimport altair as alt\\nimport imutils\\nimport statistics\\nfrom sklearn.model_selection import train_test_split\\nimport bokeh\\nfrom sklearn.linear_model import Lasso\\nimport pydot\\nimport plotly.graph_objs as go\\nfrom sklearn.ensemble import GradientBoostingClassifier\\nimport statsmodels.api as sm\\nimport matplotlib as mpl\\nimport pandas as pd\\nimport lightgbm as lgb'); }\n",
              "    "
            ],
            "text/plain": [
              "<IPython.core.display.Javascript object>"
            ]
          },
          "metadata": {
            "tags": []
          }
        },
        {
          "output_type": "display_data",
          "data": {
            "application/javascript": [
              "\n",
              "        if (window._pyforest_update_imports_cell) { window._pyforest_update_imports_cell('from scipy import signal as sg\\nimport seaborn as sns\\nimport numpy as np\\nimport skimage\\nimport re\\nimport gensim\\nfrom statsmodels.tsa.arima_model import ARIMA\\nimport plotly as py\\nimport pickle\\nimport spacy\\nfrom sklearn.linear_model import LassoCV\\nimport plotly.express as px\\nimport sklearn\\nimport cv2\\nfrom sklearn.feature_extraction.text import CountVectorizer\\nimport nltk\\nfrom openpyxl import load_workbook\\nfrom sklearn import svm\\nimport os\\nimport sys\\nfrom sklearn.linear_model import LinearRegression\\nimport fastai\\nimport fbprophet\\nfrom scipy import stats\\nfrom sklearn.ensemble import GradientBoostingRegressor\\nfrom sklearn import metrics\\nimport glob\\nimport matplotlib.pyplot as plt\\nimport altair as alt\\nimport imutils\\nimport statistics\\nfrom sklearn.model_selection import train_test_split\\nimport bokeh\\nfrom sklearn.linear_model import Lasso\\nimport pydot\\nimport plotly.graph_objs as go\\nfrom sklearn.ensemble import GradientBoostingClassifier\\nimport statsmodels.api as sm\\nimport matplotlib as mpl\\nimport pandas as pd\\nimport lightgbm as lgb'); }\n",
              "    "
            ],
            "text/plain": [
              "<IPython.core.display.Javascript object>"
            ]
          },
          "metadata": {
            "tags": []
          }
        },
        {
          "output_type": "display_data",
          "data": {
            "application/javascript": [
              "\n",
              "        if (window._pyforest_update_imports_cell) { window._pyforest_update_imports_cell('from scipy import signal as sg\\nimport seaborn as sns\\nimport numpy as np\\nimport skimage\\nimport re\\nimport gensim\\nfrom statsmodels.tsa.arima_model import ARIMA\\nimport plotly as py\\nimport pickle\\nimport spacy\\nfrom sklearn.linear_model import LassoCV\\nimport plotly.express as px\\nimport sklearn\\nimport cv2\\nfrom sklearn.feature_extraction.text import CountVectorizer\\nimport nltk\\nfrom openpyxl import load_workbook\\nfrom sklearn import svm\\nimport os\\nimport sys\\nfrom sklearn.linear_model import LinearRegression\\nimport fastai\\nimport fbprophet\\nfrom scipy import stats\\nfrom sklearn.ensemble import GradientBoostingRegressor\\nfrom sklearn import metrics\\nimport glob\\nimport matplotlib.pyplot as plt\\nimport altair as alt\\nimport imutils\\nimport statistics\\nfrom sklearn.model_selection import train_test_split\\nimport bokeh\\nfrom sklearn.linear_model import Lasso\\nimport pydot\\nimport plotly.graph_objs as go\\nfrom sklearn.ensemble import GradientBoostingClassifier\\nimport statsmodels.api as sm\\nimport matplotlib as mpl\\nimport pandas as pd\\nimport lightgbm as lgb'); }\n",
              "    "
            ],
            "text/plain": [
              "<IPython.core.display.Javascript object>"
            ]
          },
          "metadata": {
            "tags": []
          }
        },
        {
          "output_type": "display_data",
          "data": {
            "application/javascript": [
              "\n",
              "        if (window._pyforest_update_imports_cell) { window._pyforest_update_imports_cell('from scipy import signal as sg\\nimport seaborn as sns\\nimport numpy as np\\nimport skimage\\nimport re\\nimport gensim\\nfrom statsmodels.tsa.arima_model import ARIMA\\nimport plotly as py\\nimport pickle\\nimport spacy\\nfrom sklearn.linear_model import LassoCV\\nimport plotly.express as px\\nimport sklearn\\nimport cv2\\nfrom sklearn.feature_extraction.text import CountVectorizer\\nimport nltk\\nfrom openpyxl import load_workbook\\nfrom sklearn import svm\\nimport os\\nimport sys\\nfrom sklearn.linear_model import LinearRegression\\nimport fastai\\nimport fbprophet\\nfrom scipy import stats\\nfrom sklearn.ensemble import GradientBoostingRegressor\\nfrom sklearn import metrics\\nimport glob\\nimport matplotlib.pyplot as plt\\nimport altair as alt\\nimport imutils\\nimport statistics\\nfrom sklearn.model_selection import train_test_split\\nimport bokeh\\nfrom sklearn.linear_model import Lasso\\nimport pydot\\nimport plotly.graph_objs as go\\nfrom sklearn.ensemble import GradientBoostingClassifier\\nimport statsmodels.api as sm\\nimport matplotlib as mpl\\nimport pandas as pd\\nimport lightgbm as lgb'); }\n",
              "    "
            ],
            "text/plain": [
              "<IPython.core.display.Javascript object>"
            ]
          },
          "metadata": {
            "tags": []
          }
        },
        {
          "output_type": "display_data",
          "data": {
            "application/javascript": [
              "\n",
              "        if (window._pyforest_update_imports_cell) { window._pyforest_update_imports_cell('from scipy import signal as sg\\nimport seaborn as sns\\nimport numpy as np\\nimport skimage\\nimport re\\nimport gensim\\nfrom statsmodels.tsa.arima_model import ARIMA\\nimport plotly as py\\nimport pickle\\nimport spacy\\nfrom sklearn.linear_model import LassoCV\\nimport plotly.express as px\\nimport sklearn\\nimport cv2\\nfrom sklearn.feature_extraction.text import CountVectorizer\\nimport nltk\\nfrom openpyxl import load_workbook\\nfrom sklearn import svm\\nimport os\\nimport sys\\nfrom sklearn.linear_model import LinearRegression\\nimport fastai\\nimport fbprophet\\nfrom scipy import stats\\nfrom sklearn.ensemble import GradientBoostingRegressor\\nfrom sklearn import metrics\\nimport glob\\nimport matplotlib.pyplot as plt\\nimport altair as alt\\nimport imutils\\nimport statistics\\nfrom sklearn.model_selection import train_test_split\\nimport bokeh\\nfrom sklearn.linear_model import Lasso\\nimport pydot\\nimport plotly.graph_objs as go\\nfrom sklearn.ensemble import GradientBoostingClassifier\\nimport statsmodels.api as sm\\nimport matplotlib as mpl\\nimport pandas as pd\\nimport lightgbm as lgb'); }\n",
              "    "
            ],
            "text/plain": [
              "<IPython.core.display.Javascript object>"
            ]
          },
          "metadata": {
            "tags": []
          }
        },
        {
          "output_type": "display_data",
          "data": {
            "application/javascript": [
              "\n",
              "        if (window._pyforest_update_imports_cell) { window._pyforest_update_imports_cell('from scipy import signal as sg\\nimport seaborn as sns\\nimport numpy as np\\nimport skimage\\nimport re\\nimport gensim\\nfrom statsmodels.tsa.arima_model import ARIMA\\nimport plotly as py\\nimport pickle\\nimport spacy\\nfrom sklearn.linear_model import LassoCV\\nimport plotly.express as px\\nimport sklearn\\nimport cv2\\nfrom sklearn.feature_extraction.text import CountVectorizer\\nimport nltk\\nfrom openpyxl import load_workbook\\nfrom sklearn import svm\\nimport os\\nimport sys\\nfrom sklearn.linear_model import LinearRegression\\nimport fastai\\nimport fbprophet\\nfrom scipy import stats\\nfrom sklearn.ensemble import GradientBoostingRegressor\\nfrom sklearn import metrics\\nimport glob\\nimport matplotlib.pyplot as plt\\nimport altair as alt\\nimport imutils\\nimport statistics\\nfrom sklearn.model_selection import train_test_split\\nimport bokeh\\nfrom sklearn.linear_model import Lasso\\nimport pydot\\nimport plotly.graph_objs as go\\nfrom sklearn.ensemble import GradientBoostingClassifier\\nimport statsmodels.api as sm\\nimport matplotlib as mpl\\nimport pandas as pd\\nimport lightgbm as lgb'); }\n",
              "    "
            ],
            "text/plain": [
              "<IPython.core.display.Javascript object>"
            ]
          },
          "metadata": {
            "tags": []
          }
        },
        {
          "output_type": "execute_result",
          "data": {
            "text/html": [
              "<div>\n",
              "<style scoped>\n",
              "    .dataframe tbody tr th:only-of-type {\n",
              "        vertical-align: middle;\n",
              "    }\n",
              "\n",
              "    .dataframe tbody tr th {\n",
              "        vertical-align: top;\n",
              "    }\n",
              "\n",
              "    .dataframe thead th {\n",
              "        text-align: right;\n",
              "    }\n",
              "</style>\n",
              "<table border=\"1\" class=\"dataframe\">\n",
              "  <thead>\n",
              "    <tr style=\"text-align: right;\">\n",
              "      <th></th>\n",
              "      <th>Recall</th>\n",
              "    </tr>\n",
              "  </thead>\n",
              "  <tbody>\n",
              "    <tr>\n",
              "      <th>LogisticRegression</th>\n",
              "      <td>0.910963</td>\n",
              "    </tr>\n",
              "    <tr>\n",
              "      <th>XGBClassifier</th>\n",
              "      <td>0.886379</td>\n",
              "    </tr>\n",
              "    <tr>\n",
              "      <th>GaussianNB</th>\n",
              "      <td>0.898339</td>\n",
              "    </tr>\n",
              "    <tr>\n",
              "      <th>VotingClassifier</th>\n",
              "      <td>0.898339</td>\n",
              "    </tr>\n",
              "  </tbody>\n",
              "</table>\n",
              "</div>"
            ],
            "text/plain": [
              "                      Recall\n",
              "LogisticRegression  0.910963\n",
              "XGBClassifier       0.886379\n",
              "GaussianNB          0.898339\n",
              "VotingClassifier    0.898339"
            ]
          },
          "metadata": {
            "tags": []
          },
          "execution_count": 57
        }
      ]
    },
    {
      "cell_type": "markdown",
      "metadata": {
        "id": "4LbKSnFf2Hf4"
      },
      "source": [
        "Com o novo DataFrame, é possível ver que mesmo com um modelo capaz de combinar o melhor de cada um, o modelo de Regressão Linear acabou sendo superior.\n",
        "\n",
        "Dito isso, adotaremos o modelo de Regressão como o modelo definitivo para prever se um cliente será Churn ou não.\n",
        "\n",
        "Agora que temos de fato escolhido nosso modelo para prever se um cliente será Churn ou não, vamos fazer um trade-off entre recall e precisão, e então utilizar os dados de teste que foram preservados até agora."
      ]
    },
    {
      "cell_type": "markdown",
      "metadata": {
        "id": "mw5OW8aP2xA0"
      },
      "source": [
        "### Trade-off: Recall x Precisão\n",
        "\n",
        "Quando paramos para entender os aspectos do problema de Churn para a empresa de telecomunicações em questão neste projeto, estabelecemos que a métrica Recall seria a mais importante, e com ela evitar os falsos negativos.\n",
        "\n",
        "Existe uma forma de buscar aumentar ainda mais esta métrica no nosso modelo, porém com o custo da precisão, que afeta os falsos positivos, que é fazendo um trade-off entre essas duas métricas, ou seja, se aumentarmos muito o Recall, teremos uma baixa precisão, assim gerando outro problema com os falsos positivos.\n",
        "\n",
        "Quando falamos dos falsos positivos, vimos que seria algo benéfico para o cliente e também para a empresa, entretanto para o caso da empresa, existe um certo limite para que esses falsos positivos acabem dando mais prejuízos que benefícios.\n",
        "\n",
        "Resumindo o problema dos falsos positivos, ter muitos clientes de forma descontrolada recebendo ofertas e bônus, iria reduzir bastante a receita da empresa, afinal qualquer pessoa iria aceitar pagar menos pelos serviços contratados, mesmo que estivessem satisfeitas com os serviços da empresa.\n",
        "\n",
        "Dito isso, não seria bom termos um modelo com um Recall alto e uma precisão baixíssima."
      ]
    },
    {
      "cell_type": "code",
      "metadata": {
        "colab": {
          "base_uri": "https://localhost:8080/",
          "height": 495
        },
        "id": "ImOgQb8C9daL",
        "outputId": "37bb72a8-70ce-4135-c877-f1a5d242e5bb"
      },
      "source": [
        "# modelo final\n",
        "modelo_lr.fit(X_train_rus, y_train_rus)\n",
        "\n",
        "# Fazer a previsão com os dados de treino\n",
        "y_pred_train = modelo_lr.predict(X_train_rus)\n",
        "\n",
        "# Classification Report\n",
        "print(classification_report(y_train_rus, y_pred_train))\n",
        "\n",
        "# imprimir a área sob a curva\n",
        "print(\"AUC: {:.4f}\\n\".format(roc_auc_score(y_train_rus, y_pred_train)))\n",
        "\n",
        "# plotar matriz de confusão\n",
        "skplt.metrics.plot_confusion_matrix(y_train_rus, y_pred_train, normalize=True);"
      ],
      "execution_count": null,
      "outputs": [
        {
          "output_type": "stream",
          "text": [
            "              precision    recall  f1-score   support\n",
            "\n",
            "           0       0.85      0.50      0.63      1505\n",
            "           1       0.65      0.91      0.76      1505\n",
            "\n",
            "    accuracy                           0.71      3010\n",
            "   macro avg       0.75      0.71      0.69      3010\n",
            "weighted avg       0.75      0.71      0.69      3010\n",
            "\n",
            "AUC: 0.7056\n",
            "\n"
          ],
          "name": "stdout"
        },
        {
          "output_type": "display_data",
          "data": {
            "image/png": "[encoded data removed]",
            "text/plain": [
              "<Figure size 432x288 with 2 Axes>"
            ]
          },
          "metadata": {
            "tags": [],
            "needs_background": "light"
          }
        }
      ]
    },
    {
      "cell_type": "markdown",
      "metadata": {
        "id": "SPocOkjDLNc6"
      },
      "source": [
        "Analisando o relatório de classificação para o modelo treinado com dados de treino, temos:\n",
        "\n",
        "* Precisão = 65%\n",
        "* Recall = 91%\n",
        "* Calculando a área sob a curva (AUC) temos o resultado de 0.70.\n",
        "\n",
        "Para sabermos se é conveniente fazer o trade-off entre Recall e Precisão, vamos plotar o gráfico da relação entre essas métricas, assim podemos identificar melhor o comportamento delas:"
      ]
    },
    {
      "cell_type": "code",
      "metadata": {
        "colab": {
          "base_uri": "https://localhost:8080/",
          "height": 185
        },
        "id": "aR5IciPa3JWr",
        "outputId": "61a03353-aa06-457f-c187-36aca20fd59d"
      },
      "source": [
        "# Determinando as scores para as funções de decisão\n",
        "cv_skf = StratifiedKFold(n_splits = 10, shuffle = True)\n",
        "y_scores = cross_val_predict(modelo_lr, X_train_rus, y_train_rus, cv=cv_skf, method='decision_function')\n",
        "\n",
        "# Separando as scores\n",
        "precision, recall, thresholds = precision_recall_curve(y_train_rus, y_scores)\n",
        "\n",
        "# Plotando o gráfico de relação entre precisão e recall\n",
        "fig, ax = plt.subplots(figsize=(12,3))\n",
        "\n",
        "plt.plot(thresholds, precision[:-1], 'b--', label = 'Precisão')\n",
        "plt.plot(thresholds, recall[:-1], 'g-', label = 'Recall')\n",
        "plt.xlabel('Threshold')\n",
        "plt.legend(loc = 'center right')\n",
        "plt.ylim([0,1.1])\n",
        "plt.title('Precisão x Recall')\n",
        "\n",
        "plt.tight_layout();\n",
        "fig.savefig('precisao_x_recall')"
      ],
      "execution_count": null,
      "outputs": [
        {
          "output_type": "display_data",
          "data": {
            "application/javascript": [
              "\n",
              "        if (window._pyforest_update_imports_cell) { window._pyforest_update_imports_cell('from scipy import signal as sg\\nimport seaborn as sns\\nimport numpy as np\\nimport skimage\\nimport re\\nimport gensim\\nfrom statsmodels.tsa.arima_model import ARIMA\\nimport plotly as py\\nimport pickle\\nimport tqdm\\nimport spacy\\nfrom sklearn.linear_model import LassoCV\\nimport plotly.express as px\\nimport sklearn\\nimport cv2\\nfrom sklearn.feature_extraction.text import CountVectorizer\\nimport nltk\\nfrom openpyxl import load_workbook\\nfrom sklearn import svm\\nimport os\\nimport sys\\nfrom sklearn.linear_model import LinearRegression\\nimport fastai\\nimport fbprophet\\nfrom scipy import stats\\nfrom sklearn.ensemble import GradientBoostingRegressor\\nfrom sklearn import metrics\\nimport glob\\nimport torch\\nimport matplotlib.pyplot as plt\\nimport altair as alt\\nimport imutils\\nimport statistics\\nfrom sklearn.model_selection import train_test_split\\nimport textblob\\nimport bokeh\\nfrom sklearn.linear_model import Lasso\\nimport pydot\\nimport plotly.graph_objs as go\\nfrom sklearn.ensemble import GradientBoostingClassifier\\nimport statsmodels.api as sm\\nimport matplotlib as mpl\\nimport pandas as pd\\nimport lightgbm as lgb\\nimport tensorflow as tf'); }\n",
              "    "
            ],
            "text/plain": [
              "<IPython.core.display.Javascript object>"
            ]
          },
          "metadata": {
            "tags": []
          }
        },
        {
          "output_type": "display_data",
          "data": {
            "application/javascript": [
              "\n",
              "        if (window._pyforest_update_imports_cell) { window._pyforest_update_imports_cell('from scipy import signal as sg\\nimport seaborn as sns\\nimport numpy as np\\nimport skimage\\nimport re\\nimport gensim\\nfrom statsmodels.tsa.arima_model import ARIMA\\nimport plotly as py\\nimport pickle\\nimport tqdm\\nimport spacy\\nfrom sklearn.linear_model import LassoCV\\nimport plotly.express as px\\nimport sklearn\\nimport cv2\\nfrom sklearn.feature_extraction.text import CountVectorizer\\nimport nltk\\nfrom openpyxl import load_workbook\\nfrom sklearn import svm\\nimport os\\nimport sys\\nfrom sklearn.linear_model import LinearRegression\\nimport fastai\\nimport fbprophet\\nfrom scipy import stats\\nfrom sklearn.ensemble import GradientBoostingRegressor\\nfrom sklearn import metrics\\nimport glob\\nimport torch\\nimport matplotlib.pyplot as plt\\nimport altair as alt\\nimport imutils\\nimport statistics\\nfrom sklearn.model_selection import train_test_split\\nimport textblob\\nimport bokeh\\nfrom sklearn.linear_model import Lasso\\nimport pydot\\nimport plotly.graph_objs as go\\nfrom sklearn.ensemble import GradientBoostingClassifier\\nimport statsmodels.api as sm\\nimport matplotlib as mpl\\nimport pandas as pd\\nimport lightgbm as lgb\\nimport tensorflow as tf'); }\n",
              "    "
            ],
            "text/plain": [
              "<IPython.core.display.Javascript object>"
            ]
          },
          "metadata": {
            "tags": []
          }
        },
        {
          "output_type": "display_data",
          "data": {
            "application/javascript": [
              "\n",
              "        if (window._pyforest_update_imports_cell) { window._pyforest_update_imports_cell('from scipy import signal as sg\\nimport seaborn as sns\\nimport numpy as np\\nimport skimage\\nimport re\\nimport gensim\\nfrom statsmodels.tsa.arima_model import ARIMA\\nimport plotly as py\\nimport pickle\\nimport tqdm\\nimport spacy\\nfrom sklearn.linear_model import LassoCV\\nimport plotly.express as px\\nimport sklearn\\nimport cv2\\nfrom sklearn.feature_extraction.text import CountVectorizer\\nimport nltk\\nfrom openpyxl import load_workbook\\nfrom sklearn import svm\\nimport os\\nimport sys\\nfrom sklearn.linear_model import LinearRegression\\nimport fastai\\nimport fbprophet\\nfrom scipy import stats\\nfrom sklearn.ensemble import GradientBoostingRegressor\\nfrom sklearn import metrics\\nimport glob\\nimport torch\\nimport matplotlib.pyplot as plt\\nimport altair as alt\\nimport imutils\\nimport statistics\\nfrom sklearn.model_selection import train_test_split\\nimport textblob\\nimport bokeh\\nfrom sklearn.linear_model import Lasso\\nimport pydot\\nimport plotly.graph_objs as go\\nfrom sklearn.ensemble import GradientBoostingClassifier\\nimport statsmodels.api as sm\\nimport matplotlib as mpl\\nimport pandas as pd\\nimport lightgbm as lgb\\nimport tensorflow as tf'); }\n",
              "    "
            ],
            "text/plain": [
              "<IPython.core.display.Javascript object>"
            ]
          },
          "metadata": {
            "tags": []
          }
        },
        {
          "output_type": "display_data",
          "data": {
            "application/javascript": [
              "\n",
              "        if (window._pyforest_update_imports_cell) { window._pyforest_update_imports_cell('from scipy import signal as sg\\nimport seaborn as sns\\nimport numpy as np\\nimport skimage\\nimport re\\nimport gensim\\nfrom statsmodels.tsa.arima_model import ARIMA\\nimport plotly as py\\nimport pickle\\nimport tqdm\\nimport spacy\\nfrom sklearn.linear_model import LassoCV\\nimport plotly.express as px\\nimport sklearn\\nimport cv2\\nfrom sklearn.feature_extraction.text import CountVectorizer\\nimport nltk\\nfrom openpyxl import load_workbook\\nfrom sklearn import svm\\nimport os\\nimport sys\\nfrom sklearn.linear_model import LinearRegression\\nimport fastai\\nimport fbprophet\\nfrom scipy import stats\\nfrom sklearn.ensemble import GradientBoostingRegressor\\nfrom sklearn import metrics\\nimport glob\\nimport torch\\nimport matplotlib.pyplot as plt\\nimport altair as alt\\nimport imutils\\nimport statistics\\nfrom sklearn.model_selection import train_test_split\\nimport textblob\\nimport bokeh\\nfrom sklearn.linear_model import Lasso\\nimport pydot\\nimport plotly.graph_objs as go\\nfrom sklearn.ensemble import GradientBoostingClassifier\\nimport statsmodels.api as sm\\nimport matplotlib as mpl\\nimport pandas as pd\\nimport lightgbm as lgb\\nimport tensorflow as tf'); }\n",
              "    "
            ],
            "text/plain": [
              "<IPython.core.display.Javascript object>"
            ]
          },
          "metadata": {
            "tags": []
          }
        },
        {
          "output_type": "display_data",
          "data": {
            "application/javascript": [
              "\n",
              "        if (window._pyforest_update_imports_cell) { window._pyforest_update_imports_cell('from scipy import signal as sg\\nimport seaborn as sns\\nimport numpy as np\\nimport skimage\\nimport re\\nimport gensim\\nfrom statsmodels.tsa.arima_model import ARIMA\\nimport plotly as py\\nimport pickle\\nimport tqdm\\nimport spacy\\nfrom sklearn.linear_model import LassoCV\\nimport plotly.express as px\\nimport sklearn\\nimport cv2\\nfrom sklearn.feature_extraction.text import CountVectorizer\\nimport nltk\\nfrom openpyxl import load_workbook\\nfrom sklearn import svm\\nimport os\\nimport sys\\nfrom sklearn.linear_model import LinearRegression\\nimport fastai\\nimport fbprophet\\nfrom scipy import stats\\nfrom sklearn.ensemble import GradientBoostingRegressor\\nfrom sklearn import metrics\\nimport glob\\nimport torch\\nimport matplotlib.pyplot as plt\\nimport altair as alt\\nimport imutils\\nimport statistics\\nfrom sklearn.model_selection import train_test_split\\nimport textblob\\nimport bokeh\\nfrom sklearn.linear_model import Lasso\\nimport pydot\\nimport plotly.graph_objs as go\\nfrom sklearn.ensemble import GradientBoostingClassifier\\nimport statsmodels.api as sm\\nimport matplotlib as mpl\\nimport pandas as pd\\nimport lightgbm as lgb\\nimport tensorflow as tf'); }\n",
              "    "
            ],
            "text/plain": [
              "<IPython.core.display.Javascript object>"
            ]
          },
          "metadata": {
            "tags": []
          }
        },
        {
          "output_type": "display_data",
          "data": {
            "application/javascript": [
              "\n",
              "        if (window._pyforest_update_imports_cell) { window._pyforest_update_imports_cell('from scipy import signal as sg\\nimport seaborn as sns\\nimport numpy as np\\nimport skimage\\nimport re\\nimport gensim\\nfrom statsmodels.tsa.arima_model import ARIMA\\nimport plotly as py\\nimport pickle\\nimport tqdm\\nimport spacy\\nfrom sklearn.linear_model import LassoCV\\nimport plotly.express as px\\nimport sklearn\\nimport cv2\\nfrom sklearn.feature_extraction.text import CountVectorizer\\nimport nltk\\nfrom openpyxl import load_workbook\\nfrom sklearn import svm\\nimport os\\nimport sys\\nfrom sklearn.linear_model import LinearRegression\\nimport fastai\\nimport fbprophet\\nfrom scipy import stats\\nfrom sklearn.ensemble import GradientBoostingRegressor\\nfrom sklearn import metrics\\nimport glob\\nimport torch\\nimport matplotlib.pyplot as plt\\nimport altair as alt\\nimport imutils\\nimport statistics\\nfrom sklearn.model_selection import train_test_split\\nimport textblob\\nimport bokeh\\nfrom sklearn.linear_model import Lasso\\nimport pydot\\nimport plotly.graph_objs as go\\nfrom sklearn.ensemble import GradientBoostingClassifier\\nimport statsmodels.api as sm\\nimport matplotlib as mpl\\nimport pandas as pd\\nimport lightgbm as lgb\\nimport tensorflow as tf'); }\n",
              "    "
            ],
            "text/plain": [
              "<IPython.core.display.Javascript object>"
            ]
          },
          "metadata": {
            "tags": []
          }
        },
        {
          "output_type": "display_data",
          "data": {
            "application/javascript": [
              "\n",
              "        if (window._pyforest_update_imports_cell) { window._pyforest_update_imports_cell('from scipy import signal as sg\\nimport seaborn as sns\\nimport numpy as np\\nimport skimage\\nimport re\\nimport gensim\\nfrom statsmodels.tsa.arima_model import ARIMA\\nimport plotly as py\\nimport pickle\\nimport tqdm\\nimport spacy\\nfrom sklearn.linear_model import LassoCV\\nimport plotly.express as px\\nimport sklearn\\nimport cv2\\nfrom sklearn.feature_extraction.text import CountVectorizer\\nimport nltk\\nfrom openpyxl import load_workbook\\nfrom sklearn import svm\\nimport os\\nimport sys\\nfrom sklearn.linear_model import LinearRegression\\nimport fastai\\nimport fbprophet\\nfrom scipy import stats\\nfrom sklearn.ensemble import GradientBoostingRegressor\\nfrom sklearn import metrics\\nimport glob\\nimport torch\\nimport matplotlib.pyplot as plt\\nimport altair as alt\\nimport imutils\\nimport statistics\\nfrom sklearn.model_selection import train_test_split\\nimport textblob\\nimport bokeh\\nfrom sklearn.linear_model import Lasso\\nimport pydot\\nimport plotly.graph_objs as go\\nfrom sklearn.ensemble import GradientBoostingClassifier\\nimport statsmodels.api as sm\\nimport matplotlib as mpl\\nimport pandas as pd\\nimport lightgbm as lgb\\nimport tensorflow as tf'); }\n",
              "    "
            ],
            "text/plain": [
              "<IPython.core.display.Javascript object>"
            ]
          },
          "metadata": {
            "tags": []
          }
        },
        {
          "output_type": "display_data",
          "data": {
            "application/javascript": [
              "\n",
              "        if (window._pyforest_update_imports_cell) { window._pyforest_update_imports_cell('from scipy import signal as sg\\nimport seaborn as sns\\nimport numpy as np\\nimport skimage\\nimport re\\nimport gensim\\nfrom statsmodels.tsa.arima_model import ARIMA\\nimport plotly as py\\nimport pickle\\nimport tqdm\\nimport spacy\\nfrom sklearn.linear_model import LassoCV\\nimport plotly.express as px\\nimport sklearn\\nimport cv2\\nfrom sklearn.feature_extraction.text import CountVectorizer\\nimport nltk\\nfrom openpyxl import load_workbook\\nfrom sklearn import svm\\nimport os\\nimport sys\\nfrom sklearn.linear_model import LinearRegression\\nimport fastai\\nimport fbprophet\\nfrom scipy import stats\\nfrom sklearn.ensemble import GradientBoostingRegressor\\nfrom sklearn import metrics\\nimport glob\\nimport torch\\nimport matplotlib.pyplot as plt\\nimport altair as alt\\nimport imutils\\nimport statistics\\nfrom sklearn.model_selection import train_test_split\\nimport textblob\\nimport bokeh\\nfrom sklearn.linear_model import Lasso\\nimport pydot\\nimport plotly.graph_objs as go\\nfrom sklearn.ensemble import GradientBoostingClassifier\\nimport statsmodels.api as sm\\nimport matplotlib as mpl\\nimport pandas as pd\\nimport lightgbm as lgb\\nimport tensorflow as tf'); }\n",
              "    "
            ],
            "text/plain": [
              "<IPython.core.display.Javascript object>"
            ]
          },
          "metadata": {
            "tags": []
          }
        },
        {
          "output_type": "display_data",
          "data": {
            "image/png": "[encoded data removed]",
            "text/plain": [
              "<Figure size 864x216 with 1 Axes>"
            ]
          },
          "metadata": {
            "tags": [],
            "needs_background": "light"
          }
        }
      ]
    },
    {
      "cell_type": "markdown",
      "metadata": {
        "id": "A1VixHD1_f97"
      },
      "source": [
        "Para o threshold padrão, temos um bom resultado para o `Recall` que é 0.91, e não seria muito conveniente perder mais em precisão que já está baixa, apenas 0.65.\n",
        "\n",
        "Então optarei por não realizar um trade-off entre essas duas métricas, a fim de não aumentar o problema com os falsos positivos."
      ]
    },
    {
      "cell_type": "markdown",
      "metadata": {
        "id": "kCT1wDs2CbHn"
      },
      "source": [
        "## Testando o Modelo\n",
        "\n",
        "Agora é a hora de testar o modelo com os dados de teste, que foram preservados desde a fase de separação:"
      ]
    },
    {
      "cell_type": "code",
      "metadata": {
        "colab": {
          "base_uri": "https://localhost:8080/",
          "height": 495
        },
        "id": "hKyWOMJ0CYkq",
        "outputId": "8b3218ef-f86f-494f-9e9f-7a9d346eaf1c"
      },
      "source": [
        "# modelo final\n",
        "modelo_lr.fit(X_train_rus, y_train_rus)\n",
        "\n",
        "# fazer a previsão\n",
        "X_test = mms.transform(X_test)\n",
        "y_pred = modelo_lr.predict(X_test)\n",
        "\n",
        "# Classification Report\n",
        "print(classification_report(y_test, y_pred))\n",
        "\n",
        "# imprimir a área sob a curva\n",
        "print(\"AUC: {:.4f}\\n\".format(roc_auc_score(y_test, y_pred)))\n",
        "\n",
        "# plotar matriz de confusão\n",
        "skplt.metrics.plot_confusion_matrix(y_test, y_pred, normalize=True);"
      ],
      "execution_count": null,
      "outputs": [
        {
          "output_type": "stream",
          "text": [
            "              precision    recall  f1-score   support\n",
            "\n",
            "           0       0.94      0.49      0.64      1045\n",
            "           1       0.38      0.91      0.54       364\n",
            "\n",
            "    accuracy                           0.59      1409\n",
            "   macro avg       0.66      0.70      0.59      1409\n",
            "weighted avg       0.79      0.59      0.61      1409\n",
            "\n",
            "AUC: 0.6964\n",
            "\n"
          ],
          "name": "stdout"
        },
        {
          "output_type": "display_data",
          "data": {
            "image/png": "[encoded data removed]",
            "text/plain": [
              "<Figure size 432x288 with 2 Axes>"
            ]
          },
          "metadata": {
            "tags": [],
            "needs_background": "light"
          }
        }
      ]
    },
    {
      "cell_type": "markdown",
      "metadata": {
        "id": "UTcA1z3-L2l9"
      },
      "source": [
        "Com o relatório de classificação para o modelo final treinado com os dados de teste, temos:\n",
        "\n",
        "* Precisão = 38%\n",
        "* Recall = 91%\n",
        "* Calculando a área sob a curva (AUC) temos o resultado de 0.69.\n",
        "\n",
        "Nosso modelo então errará mais na previsão dos clientes que não seriam Churn, ou seja, que não iriam cancelar os serviços da empresa, mas errará muito menos para aqueles que realmente iriam cancelar os serviços.\n",
        "\n",
        "Por exemplo, de 100 clientes apontados como Churn, dado nossa precisão, 62 destes não iriam cancelar os serviços e nosso modelo irá direcioná-los para fazer parte erroneamente das estratégias para retê-los. Agora de acordo com o Recall, de 100 clientes que realmente cancelariam os serviços, apenas 9 não passariam a fazer parte das estratégias."
      ]
    },
    {
      "cell_type": "markdown",
      "metadata": {
        "id": "6c3gJSroQmFO"
      },
      "source": [
        "# Conclusão\n",
        "\n",
        "Infelizmente não é possível impedir que um cliente abandone o serviço ou produto de uma empresa, uma vez que sua saída pode ser algo que foge do controle do negócio, como por exemplo, acontece algo na vida pessoal do cliente e ele precisa cortar gastos, ou ele está sem tempo para aproveitar o serviço ou produto e opta pelo cancelamento, às vezes pode ser até algo provisório, mas em todos os casos, são fenômenos externos à empresa.\n",
        "\n",
        "Já no âmbito interno, temos a possibilidade de prever baseado no perfil dos clientes, se ele irá cancelar ou não o serviço, e diante dessa previsão tomar as medidas corretas para manter a fidelidade deste cliente, o que foi comprovado neste projeto com o desenvolvimento de um modelo de Machine Learning.\n",
        "\n",
        "Busquei extrair o ''melhor'' modelo, passando pelas etapas de tratamento, feature engineering, feature scaling, otimização dos hiperparâmetros, uso do método Ensemble para obter um modelo combinado, e fazendo uma análise de correlação entre precisão e recall.\n",
        "\n",
        "O modelo final poderia ser diferente caso fossem utilizado outros métodos de validação ou mais aprofundamento em algumas etapas, porém para este projeto, como os resultados do modelo final ficaram próximos aos do modelo de treino, vamos adotá-lo como sendo um modelo satisfatório para prever o Churn.\n",
        "\n",
        "Além da detecção de Churn, para resolver este tipo de problema é essencial uma boa equipe de Customer Success, para desenvolver estratégias de retenção de clientes.\n",
        "\n",
        "Fica a recomendação de leitura do artigo publicado pela Resultados Digitais (2020), [Churn Rate: o que é e como reduzir para sua empresa crescer](https://resultadosdigitais.com.br/blog/o-que-e-churn/), excelente artigo que explica o conceitos de Churn e Customer Success."
      ]
    },
    {
      "cell_type": "markdown",
      "metadata": {
        "id": "BIyJ6BzdH6xX"
      },
      "source": [
        "# Referências\n",
        "\n",
        "* https://resultadosdigitais.com.br/blog/o-que-e-churn/\n",
        "\n",
        "* https://tiinside.com.br/20/09/2015/churn-prediction-como-ele-pode-alavancar-seu-negocio/\n"
      ]
    }
  ]
}